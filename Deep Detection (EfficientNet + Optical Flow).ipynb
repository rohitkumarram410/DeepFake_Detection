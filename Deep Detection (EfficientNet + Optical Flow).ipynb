{
 "cells": [
  {
   "cell_type": "code",
   "execution_count": null,
   "id": "11d23344",
   "metadata": {},
   "outputs": [
    {
     "name": "stdout",
     "output_type": "stream",
     "text": [
      "Celeb-real\n"
     ]
    }
   ],
   "source": [
    "import os\n",
    "video_folder = r'D:\\DETECTION 1.0\\Celeb-DF\\Real'\n",
    "\n",
    "for file in os.listdir(video_folder):\n",
    "    print(file)\n"
   ]
  },
  {
   "cell_type": "code",
   "execution_count": null,
   "id": "93b2de89",
   "metadata": {},
   "outputs": [
    {
     "name": "stdout",
     "output_type": "stream",
     "text": [
      "🎬 Real videos found: 408\n",
      "🎭 Fake videos found: 408\n",
      "\n",
      "📊 Total videos: 816\n"
     ]
    }
   ],
   "source": [
    "import os\n",
    "import glob\n",
    "\n",
    "# ========== Paths to Real and Fake Video Folders ==========\n",
    "real_path = r'Celeb-DF/Real/Celeb-real'\n",
    "fake_path = r'Celeb-DF/Fake/New folder'\n",
    "\n",
    "# ========== Supported Video Extensions ==========\n",
    "video_extensions = ['*.mp4', '*.MP4', '*.avi', '*.AVI', '*.mov', '*.MOV']\n",
    "\n",
    "def count_videos(folder_path):\n",
    "    video_files = set()\n",
    "    for ext in video_extensions:\n",
    "        pattern = os.path.join(folder_path, ext)\n",
    "        video_files.update(glob.glob(pattern))\n",
    "    return len(video_files), sorted(video_files)\n",
    "\n",
    "# ========== Count Real ==========\n",
    "real_count, real_files = count_videos(real_path)\n",
    "print(f\"🎬 Real videos found: {real_count}\")\n",
    "\n",
    "# ========== Count Fake ==========\n",
    "fake_count, fake_files = count_videos(fake_path)\n",
    "print(f\"🎭 Fake videos found: {fake_count}\")\n",
    "\n",
    "# ========== Total ==========\n",
    "total = real_count + fake_count\n",
    "print(f\"\\n📊 Total videos: {total}\")\n"
   ]
  },
  {
   "cell_type": "code",
   "execution_count": null,
   "id": "5c7963f7",
   "metadata": {},
   "outputs": [
    {
     "name": "stdout",
     "output_type": "stream",
     "text": [
      "\n",
      "📊 Summary:\n",
      "🎬 Real videos: 408\n",
      "\n",
      "📁 Processing Real videos from: Celeb-DF/Real/Celeb-real\n",
      "🎬 Found 408 unique real video(s).\n",
      "\n",
      "🔄 Extracting from: 00000\n",
      "📈 FPS: 30.00 → Saving every 1 frame(s)\n",
      "✅ Saved 450 frame(s) from '00000' to 'Celeb-DF/Real Frames\\00000'\n",
      "\n",
      "🔄 Extracting from: 00001\n",
      "📈 FPS: 30.00 → Saving every 1 frame(s)\n",
      "✅ Saved 415 frame(s) from '00001' to 'Celeb-DF/Real Frames\\00001'\n",
      "\n",
      "🔄 Extracting from: 00002\n",
      "📈 FPS: 30.00 → Saving every 1 frame(s)\n",
      "✅ Saved 512 frame(s) from '00002' to 'Celeb-DF/Real Frames\\00002'\n",
      "\n",
      "🔄 Extracting from: 00003\n",
      "📈 FPS: 30.00 → Saving every 1 frame(s)\n",
      "✅ Saved 295 frame(s) from '00003' to 'Celeb-DF/Real Frames\\00003'\n",
      "\n",
      "🔄 Extracting from: 00004\n",
      "📈 FPS: 30.00 → Saving every 1 frame(s)\n",
      "✅ Saved 450 frame(s) from '00004' to 'Celeb-DF/Real Frames\\00004'\n",
      "\n",
      "🔄 Extracting from: 00005\n",
      "📈 FPS: 30.00 → Saving every 1 frame(s)\n",
      "✅ Saved 463 frame(s) from '00005' to 'Celeb-DF/Real Frames\\00005'\n",
      "\n",
      "🔄 Extracting from: 00006\n",
      "📈 FPS: 30.00 → Saving every 1 frame(s)\n",
      "✅ Saved 486 frame(s) from '00006' to 'Celeb-DF/Real Frames\\00006'\n",
      "\n",
      "🔄 Extracting from: 00007\n",
      "📈 FPS: 30.00 → Saving every 1 frame(s)\n",
      "✅ Saved 474 frame(s) from '00007' to 'Celeb-DF/Real Frames\\00007'\n",
      "\n",
      "🔄 Extracting from: 00008\n",
      "📈 FPS: 30.00 → Saving every 1 frame(s)\n",
      "✅ Saved 477 frame(s) from '00008' to 'Celeb-DF/Real Frames\\00008'\n",
      "\n",
      "🔄 Extracting from: 00009\n",
      "📈 FPS: 30.00 → Saving every 1 frame(s)\n",
      "✅ Saved 575 frame(s) from '00009' to 'Celeb-DF/Real Frames\\00009'\n",
      "\n",
      "🔄 Extracting from: 00010\n",
      "📈 FPS: 30.00 → Saving every 1 frame(s)\n",
      "✅ Saved 422 frame(s) from '00010' to 'Celeb-DF/Real Frames\\00010'\n",
      "\n",
      "🔄 Extracting from: 00011\n",
      "📈 FPS: 30.00 → Saving every 1 frame(s)\n",
      "✅ Saved 470 frame(s) from '00011' to 'Celeb-DF/Real Frames\\00011'\n",
      "\n",
      "🔄 Extracting from: 00012\n",
      "📈 FPS: 30.00 → Saving every 1 frame(s)\n",
      "✅ Saved 397 frame(s) from '00012' to 'Celeb-DF/Real Frames\\00012'\n",
      "\n",
      "🔄 Extracting from: 00013\n",
      "📈 FPS: 30.00 → Saving every 1 frame(s)\n",
      "✅ Saved 474 frame(s) from '00013' to 'Celeb-DF/Real Frames\\00013'\n",
      "\n",
      "🔄 Extracting from: 00014\n",
      "📈 FPS: 30.00 → Saving every 1 frame(s)\n",
      "✅ Saved 461 frame(s) from '00014' to 'Celeb-DF/Real Frames\\00014'\n",
      "\n",
      "🔄 Extracting from: 00015\n",
      "📈 FPS: 30.00 → Saving every 1 frame(s)\n",
      "✅ Saved 442 frame(s) from '00015' to 'Celeb-DF/Real Frames\\00015'\n",
      "\n",
      "🔄 Extracting from: 00016\n",
      "📈 FPS: 30.00 → Saving every 1 frame(s)\n",
      "✅ Saved 319 frame(s) from '00016' to 'Celeb-DF/Real Frames\\00016'\n",
      "\n",
      "🔄 Extracting from: 00017\n",
      "📈 FPS: 30.00 → Saving every 1 frame(s)\n",
      "✅ Saved 282 frame(s) from '00017' to 'Celeb-DF/Real Frames\\00017'\n",
      "\n",
      "🔄 Extracting from: 00018\n",
      "📈 FPS: 30.00 → Saving every 1 frame(s)\n",
      "✅ Saved 435 frame(s) from '00018' to 'Celeb-DF/Real Frames\\00018'\n",
      "\n",
      "🔄 Extracting from: 00019\n",
      "📈 FPS: 30.00 → Saving every 1 frame(s)\n",
      "✅ Saved 468 frame(s) from '00019' to 'Celeb-DF/Real Frames\\00019'\n",
      "\n",
      "🔄 Extracting from: 00020\n",
      "📈 FPS: 30.00 → Saving every 1 frame(s)\n",
      "✅ Saved 456 frame(s) from '00020' to 'Celeb-DF/Real Frames\\00020'\n",
      "\n",
      "🔄 Extracting from: 00021\n",
      "📈 FPS: 30.00 → Saving every 1 frame(s)\n",
      "✅ Saved 462 frame(s) from '00021' to 'Celeb-DF/Real Frames\\00021'\n",
      "\n",
      "🔄 Extracting from: 00022\n",
      "📈 FPS: 30.00 → Saving every 1 frame(s)\n",
      "✅ Saved 471 frame(s) from '00022' to 'Celeb-DF/Real Frames\\00022'\n",
      "\n",
      "🔄 Extracting from: 00023\n",
      "📈 FPS: 30.00 → Saving every 1 frame(s)\n",
      "✅ Saved 463 frame(s) from '00023' to 'Celeb-DF/Real Frames\\00023'\n",
      "\n",
      "🔄 Extracting from: 00024\n",
      "📈 FPS: 30.00 → Saving every 1 frame(s)\n",
      "✅ Saved 547 frame(s) from '00024' to 'Celeb-DF/Real Frames\\00024'\n",
      "\n",
      "🔄 Extracting from: 00025\n",
      "📈 FPS: 30.00 → Saving every 1 frame(s)\n",
      "✅ Saved 470 frame(s) from '00025' to 'Celeb-DF/Real Frames\\00025'\n",
      "\n",
      "🔄 Extracting from: 00026\n",
      "📈 FPS: 30.00 → Saving every 1 frame(s)\n",
      "✅ Saved 499 frame(s) from '00026' to 'Celeb-DF/Real Frames\\00026'\n",
      "\n",
      "🔄 Extracting from: 00027\n",
      "📈 FPS: 30.00 → Saving every 1 frame(s)\n",
      "✅ Saved 481 frame(s) from '00027' to 'Celeb-DF/Real Frames\\00027'\n",
      "\n",
      "🔄 Extracting from: 00028\n",
      "📈 FPS: 30.00 → Saving every 1 frame(s)\n",
      "✅ Saved 473 frame(s) from '00028' to 'Celeb-DF/Real Frames\\00028'\n",
      "\n",
      "🔄 Extracting from: 00029\n",
      "📈 FPS: 30.00 → Saving every 1 frame(s)\n",
      "✅ Saved 463 frame(s) from '00029' to 'Celeb-DF/Real Frames\\00029'\n",
      "\n",
      "🔄 Extracting from: 00030\n",
      "📈 FPS: 30.00 → Saving every 1 frame(s)\n",
      "✅ Saved 472 frame(s) from '00030' to 'Celeb-DF/Real Frames\\00030'\n",
      "\n",
      "🔄 Extracting from: 00031\n",
      "📈 FPS: 30.00 → Saving every 1 frame(s)\n",
      "✅ Saved 510 frame(s) from '00031' to 'Celeb-DF/Real Frames\\00031'\n",
      "\n",
      "🔄 Extracting from: 00032\n",
      "📈 FPS: 30.00 → Saving every 1 frame(s)\n",
      "✅ Saved 463 frame(s) from '00032' to 'Celeb-DF/Real Frames\\00032'\n",
      "\n",
      "🔄 Extracting from: 00033\n",
      "📈 FPS: 30.00 → Saving every 1 frame(s)\n",
      "✅ Saved 461 frame(s) from '00033' to 'Celeb-DF/Real Frames\\00033'\n",
      "\n",
      "🔄 Extracting from: 00034\n",
      "📈 FPS: 30.00 → Saving every 1 frame(s)\n",
      "✅ Saved 505 frame(s) from '00034' to 'Celeb-DF/Real Frames\\00034'\n",
      "\n",
      "🔄 Extracting from: 00035\n",
      "📈 FPS: 30.00 → Saving every 1 frame(s)\n",
      "✅ Saved 458 frame(s) from '00035' to 'Celeb-DF/Real Frames\\00035'\n",
      "\n",
      "🔄 Extracting from: 00036\n",
      "📈 FPS: 30.00 → Saving every 1 frame(s)\n",
      "✅ Saved 550 frame(s) from '00036' to 'Celeb-DF/Real Frames\\00036'\n",
      "\n",
      "🔄 Extracting from: 00037\n",
      "📈 FPS: 30.00 → Saving every 1 frame(s)\n",
      "✅ Saved 455 frame(s) from '00037' to 'Celeb-DF/Real Frames\\00037'\n",
      "\n",
      "🔄 Extracting from: 00038\n",
      "📈 FPS: 30.00 → Saving every 1 frame(s)\n",
      "✅ Saved 467 frame(s) from '00038' to 'Celeb-DF/Real Frames\\00038'\n",
      "\n",
      "🔄 Extracting from: 00039\n",
      "📈 FPS: 30.00 → Saving every 1 frame(s)\n",
      "✅ Saved 459 frame(s) from '00039' to 'Celeb-DF/Real Frames\\00039'\n",
      "\n",
      "🔄 Extracting from: 00040\n",
      "📈 FPS: 30.00 → Saving every 1 frame(s)\n",
      "✅ Saved 381 frame(s) from '00040' to 'Celeb-DF/Real Frames\\00040'\n",
      "\n",
      "🔄 Extracting from: 00041\n",
      "📈 FPS: 30.00 → Saving every 1 frame(s)\n",
      "✅ Saved 456 frame(s) from '00041' to 'Celeb-DF/Real Frames\\00041'\n",
      "\n",
      "🔄 Extracting from: 00042\n",
      "📈 FPS: 30.00 → Saving every 1 frame(s)\n",
      "✅ Saved 271 frame(s) from '00042' to 'Celeb-DF/Real Frames\\00042'\n",
      "\n",
      "🔄 Extracting from: 00043\n",
      "📈 FPS: 30.00 → Saving every 1 frame(s)\n",
      "✅ Saved 472 frame(s) from '00043' to 'Celeb-DF/Real Frames\\00043'\n",
      "\n",
      "🔄 Extracting from: 00044\n",
      "📈 FPS: 30.00 → Saving every 1 frame(s)\n",
      "✅ Saved 464 frame(s) from '00044' to 'Celeb-DF/Real Frames\\00044'\n",
      "\n",
      "🔄 Extracting from: 00045\n",
      "📈 FPS: 30.00 → Saving every 1 frame(s)\n",
      "✅ Saved 459 frame(s) from '00045' to 'Celeb-DF/Real Frames\\00045'\n",
      "\n",
      "🔄 Extracting from: 00046\n",
      "📈 FPS: 30.00 → Saving every 1 frame(s)\n",
      "✅ Saved 471 frame(s) from '00046' to 'Celeb-DF/Real Frames\\00046'\n",
      "\n",
      "🔄 Extracting from: 00047\n",
      "📈 FPS: 30.00 → Saving every 1 frame(s)\n",
      "✅ Saved 489 frame(s) from '00047' to 'Celeb-DF/Real Frames\\00047'\n",
      "\n",
      "🔄 Extracting from: 00048\n",
      "📈 FPS: 30.00 → Saving every 1 frame(s)\n",
      "✅ Saved 484 frame(s) from '00048' to 'Celeb-DF/Real Frames\\00048'\n",
      "\n",
      "🔄 Extracting from: 00049\n",
      "📈 FPS: 30.00 → Saving every 1 frame(s)\n",
      "✅ Saved 476 frame(s) from '00049' to 'Celeb-DF/Real Frames\\00049'\n",
      "\n",
      "🔄 Extracting from: 00050\n",
      "📈 FPS: 30.00 → Saving every 1 frame(s)\n",
      "✅ Saved 470 frame(s) from '00050' to 'Celeb-DF/Real Frames\\00050'\n",
      "\n",
      "🔄 Extracting from: 00051\n",
      "📈 FPS: 30.00 → Saving every 1 frame(s)\n",
      "✅ Saved 367 frame(s) from '00051' to 'Celeb-DF/Real Frames\\00051'\n",
      "\n",
      "🔄 Extracting from: 00052\n",
      "📈 FPS: 30.00 → Saving every 1 frame(s)\n",
      "✅ Saved 464 frame(s) from '00052' to 'Celeb-DF/Real Frames\\00052'\n",
      "\n",
      "🔄 Extracting from: 00053\n",
      "📈 FPS: 30.00 → Saving every 1 frame(s)\n",
      "✅ Saved 468 frame(s) from '00053' to 'Celeb-DF/Real Frames\\00053'\n",
      "\n",
      "🔄 Extracting from: 00054\n",
      "📈 FPS: 30.00 → Saving every 1 frame(s)\n",
      "✅ Saved 417 frame(s) from '00054' to 'Celeb-DF/Real Frames\\00054'\n",
      "\n",
      "🔄 Extracting from: 00055\n",
      "📈 FPS: 30.00 → Saving every 1 frame(s)\n",
      "✅ Saved 468 frame(s) from '00055' to 'Celeb-DF/Real Frames\\00055'\n",
      "\n",
      "🔄 Extracting from: 00056\n",
      "📈 FPS: 30.00 → Saving every 1 frame(s)\n",
      "✅ Saved 534 frame(s) from '00056' to 'Celeb-DF/Real Frames\\00056'\n",
      "\n",
      "🔄 Extracting from: 00057\n",
      "📈 FPS: 30.00 → Saving every 1 frame(s)\n",
      "✅ Saved 466 frame(s) from '00057' to 'Celeb-DF/Real Frames\\00057'\n",
      "\n",
      "🔄 Extracting from: 00058\n",
      "📈 FPS: 30.00 → Saving every 1 frame(s)\n",
      "✅ Saved 507 frame(s) from '00058' to 'Celeb-DF/Real Frames\\00058'\n",
      "\n",
      "🔄 Extracting from: 00059\n",
      "📈 FPS: 30.00 → Saving every 1 frame(s)\n",
      "✅ Saved 474 frame(s) from '00059' to 'Celeb-DF/Real Frames\\00059'\n",
      "\n",
      "🔄 Extracting from: 00060\n",
      "📈 FPS: 30.00 → Saving every 1 frame(s)\n",
      "✅ Saved 478 frame(s) from '00060' to 'Celeb-DF/Real Frames\\00060'\n",
      "\n",
      "🔄 Extracting from: 00061\n",
      "📈 FPS: 30.00 → Saving every 1 frame(s)\n",
      "✅ Saved 412 frame(s) from '00061' to 'Celeb-DF/Real Frames\\00061'\n",
      "\n",
      "🔄 Extracting from: 00062\n",
      "📈 FPS: 30.00 → Saving every 1 frame(s)\n",
      "✅ Saved 478 frame(s) from '00062' to 'Celeb-DF/Real Frames\\00062'\n",
      "\n",
      "🔄 Extracting from: 00063\n",
      "📈 FPS: 30.00 → Saving every 1 frame(s)\n",
      "✅ Saved 477 frame(s) from '00063' to 'Celeb-DF/Real Frames\\00063'\n",
      "\n",
      "🔄 Extracting from: 00064\n",
      "📈 FPS: 30.00 → Saving every 1 frame(s)\n",
      "✅ Saved 429 frame(s) from '00064' to 'Celeb-DF/Real Frames\\00064'\n",
      "\n",
      "🔄 Extracting from: 00065\n",
      "📈 FPS: 30.00 → Saving every 1 frame(s)\n",
      "✅ Saved 493 frame(s) from '00065' to 'Celeb-DF/Real Frames\\00065'\n",
      "\n",
      "🔄 Extracting from: 00066\n",
      "📈 FPS: 30.00 → Saving every 1 frame(s)\n",
      "✅ Saved 457 frame(s) from '00066' to 'Celeb-DF/Real Frames\\00066'\n",
      "\n",
      "🔄 Extracting from: 00067\n",
      "📈 FPS: 30.00 → Saving every 1 frame(s)\n",
      "✅ Saved 474 frame(s) from '00067' to 'Celeb-DF/Real Frames\\00067'\n",
      "\n",
      "🔄 Extracting from: 00068\n",
      "📈 FPS: 30.00 → Saving every 1 frame(s)\n",
      "✅ Saved 476 frame(s) from '00068' to 'Celeb-DF/Real Frames\\00068'\n",
      "\n",
      "🔄 Extracting from: 00069\n",
      "📈 FPS: 30.00 → Saving every 1 frame(s)\n",
      "✅ Saved 432 frame(s) from '00069' to 'Celeb-DF/Real Frames\\00069'\n",
      "\n",
      "🔄 Extracting from: 00070\n",
      "📈 FPS: 30.00 → Saving every 1 frame(s)\n",
      "✅ Saved 357 frame(s) from '00070' to 'Celeb-DF/Real Frames\\00070'\n",
      "\n",
      "🔄 Extracting from: 00071\n",
      "📈 FPS: 30.00 → Saving every 1 frame(s)\n",
      "✅ Saved 508 frame(s) from '00071' to 'Celeb-DF/Real Frames\\00071'\n",
      "\n",
      "🔄 Extracting from: 00072\n",
      "📈 FPS: 30.00 → Saving every 1 frame(s)\n",
      "✅ Saved 478 frame(s) from '00072' to 'Celeb-DF/Real Frames\\00072'\n",
      "\n",
      "🔄 Extracting from: 00073\n",
      "📈 FPS: 30.00 → Saving every 1 frame(s)\n",
      "✅ Saved 475 frame(s) from '00073' to 'Celeb-DF/Real Frames\\00073'\n",
      "\n",
      "🔄 Extracting from: 00074\n",
      "📈 FPS: 30.00 → Saving every 1 frame(s)\n",
      "✅ Saved 471 frame(s) from '00074' to 'Celeb-DF/Real Frames\\00074'\n",
      "\n",
      "🔄 Extracting from: 00075\n",
      "📈 FPS: 30.00 → Saving every 1 frame(s)\n",
      "✅ Saved 474 frame(s) from '00075' to 'Celeb-DF/Real Frames\\00075'\n",
      "\n",
      "🔄 Extracting from: 00076\n",
      "📈 FPS: 30.00 → Saving every 1 frame(s)\n",
      "✅ Saved 479 frame(s) from '00076' to 'Celeb-DF/Real Frames\\00076'\n",
      "\n",
      "🔄 Extracting from: 00077\n",
      "📈 FPS: 30.00 → Saving every 1 frame(s)\n",
      "✅ Saved 475 frame(s) from '00077' to 'Celeb-DF/Real Frames\\00077'\n",
      "\n",
      "🔄 Extracting from: 00078\n",
      "📈 FPS: 30.00 → Saving every 1 frame(s)\n",
      "✅ Saved 492 frame(s) from '00078' to 'Celeb-DF/Real Frames\\00078'\n",
      "\n",
      "🔄 Extracting from: 00079\n",
      "📈 FPS: 30.00 → Saving every 1 frame(s)\n",
      "✅ Saved 386 frame(s) from '00079' to 'Celeb-DF/Real Frames\\00079'\n",
      "\n",
      "🔄 Extracting from: 00080\n",
      "📈 FPS: 30.00 → Saving every 1 frame(s)\n",
      "✅ Saved 478 frame(s) from '00080' to 'Celeb-DF/Real Frames\\00080'\n",
      "\n",
      "🔄 Extracting from: 00081\n",
      "📈 FPS: 30.00 → Saving every 1 frame(s)\n",
      "✅ Saved 452 frame(s) from '00081' to 'Celeb-DF/Real Frames\\00081'\n",
      "\n",
      "🔄 Extracting from: 00082\n",
      "📈 FPS: 30.00 → Saving every 1 frame(s)\n",
      "✅ Saved 462 frame(s) from '00082' to 'Celeb-DF/Real Frames\\00082'\n",
      "\n",
      "🔄 Extracting from: 00083\n",
      "📈 FPS: 30.00 → Saving every 1 frame(s)\n",
      "✅ Saved 359 frame(s) from '00083' to 'Celeb-DF/Real Frames\\00083'\n",
      "\n",
      "🔄 Extracting from: 00084\n",
      "📈 FPS: 30.00 → Saving every 1 frame(s)\n",
      "✅ Saved 408 frame(s) from '00084' to 'Celeb-DF/Real Frames\\00084'\n",
      "\n",
      "🔄 Extracting from: 00085\n",
      "📈 FPS: 30.00 → Saving every 1 frame(s)\n",
      "✅ Saved 658 frame(s) from '00085' to 'Celeb-DF/Real Frames\\00085'\n",
      "\n",
      "🔄 Extracting from: 00086\n",
      "📈 FPS: 30.00 → Saving every 1 frame(s)\n",
      "✅ Saved 482 frame(s) from '00086' to 'Celeb-DF/Real Frames\\00086'\n",
      "\n",
      "🔄 Extracting from: 00087\n",
      "📈 FPS: 30.00 → Saving every 1 frame(s)\n",
      "✅ Saved 468 frame(s) from '00087' to 'Celeb-DF/Real Frames\\00087'\n",
      "\n",
      "🔄 Extracting from: 00088\n",
      "📈 FPS: 30.00 → Saving every 1 frame(s)\n",
      "✅ Saved 493 frame(s) from '00088' to 'Celeb-DF/Real Frames\\00088'\n",
      "\n",
      "🔄 Extracting from: 00089\n",
      "📈 FPS: 30.00 → Saving every 1 frame(s)\n",
      "✅ Saved 485 frame(s) from '00089' to 'Celeb-DF/Real Frames\\00089'\n",
      "\n",
      "🔄 Extracting from: 00090\n",
      "📈 FPS: 30.00 → Saving every 1 frame(s)\n",
      "✅ Saved 416 frame(s) from '00090' to 'Celeb-DF/Real Frames\\00090'\n",
      "\n",
      "🔄 Extracting from: 00091\n",
      "📈 FPS: 30.00 → Saving every 1 frame(s)\n",
      "✅ Saved 455 frame(s) from '00091' to 'Celeb-DF/Real Frames\\00091'\n",
      "\n",
      "🔄 Extracting from: 00092\n",
      "📈 FPS: 30.00 → Saving every 1 frame(s)\n",
      "✅ Saved 549 frame(s) from '00092' to 'Celeb-DF/Real Frames\\00092'\n",
      "\n",
      "🔄 Extracting from: 00093\n",
      "📈 FPS: 30.00 → Saving every 1 frame(s)\n",
      "✅ Saved 495 frame(s) from '00093' to 'Celeb-DF/Real Frames\\00093'\n",
      "\n",
      "🔄 Extracting from: 00094\n",
      "📈 FPS: 30.00 → Saving every 1 frame(s)\n",
      "✅ Saved 414 frame(s) from '00094' to 'Celeb-DF/Real Frames\\00094'\n",
      "\n",
      "🔄 Extracting from: 00095\n",
      "📈 FPS: 30.00 → Saving every 1 frame(s)\n",
      "✅ Saved 487 frame(s) from '00095' to 'Celeb-DF/Real Frames\\00095'\n",
      "\n",
      "🔄 Extracting from: 00096\n",
      "📈 FPS: 30.00 → Saving every 1 frame(s)\n",
      "✅ Saved 305 frame(s) from '00096' to 'Celeb-DF/Real Frames\\00096'\n",
      "\n",
      "🔄 Extracting from: 00097\n",
      "📈 FPS: 30.00 → Saving every 1 frame(s)\n",
      "✅ Saved 502 frame(s) from '00097' to 'Celeb-DF/Real Frames\\00097'\n",
      "\n",
      "🔄 Extracting from: 00098\n",
      "📈 FPS: 30.00 → Saving every 1 frame(s)\n",
      "✅ Saved 453 frame(s) from '00098' to 'Celeb-DF/Real Frames\\00098'\n",
      "\n",
      "🔄 Extracting from: 00099\n",
      "📈 FPS: 30.00 → Saving every 1 frame(s)\n",
      "✅ Saved 494 frame(s) from '00099' to 'Celeb-DF/Real Frames\\00099'\n",
      "\n",
      "🔄 Extracting from: 00100\n",
      "📈 FPS: 30.00 → Saving every 1 frame(s)\n",
      "✅ Saved 534 frame(s) from '00100' to 'Celeb-DF/Real Frames\\00100'\n",
      "\n",
      "🔄 Extracting from: 00101\n",
      "📈 FPS: 30.00 → Saving every 1 frame(s)\n",
      "✅ Saved 440 frame(s) from '00101' to 'Celeb-DF/Real Frames\\00101'\n",
      "\n",
      "🔄 Extracting from: 00102\n",
      "📈 FPS: 30.00 → Saving every 1 frame(s)\n",
      "✅ Saved 457 frame(s) from '00102' to 'Celeb-DF/Real Frames\\00102'\n",
      "\n",
      "🔄 Extracting from: 00103\n",
      "📈 FPS: 30.00 → Saving every 1 frame(s)\n",
      "✅ Saved 474 frame(s) from '00103' to 'Celeb-DF/Real Frames\\00103'\n",
      "\n",
      "🔄 Extracting from: 00104\n",
      "📈 FPS: 30.00 → Saving every 1 frame(s)\n",
      "✅ Saved 499 frame(s) from '00104' to 'Celeb-DF/Real Frames\\00104'\n",
      "\n",
      "🔄 Extracting from: 00105\n",
      "📈 FPS: 30.00 → Saving every 1 frame(s)\n",
      "✅ Saved 504 frame(s) from '00105' to 'Celeb-DF/Real Frames\\00105'\n",
      "\n",
      "🔄 Extracting from: 00106\n",
      "📈 FPS: 30.00 → Saving every 1 frame(s)\n",
      "✅ Saved 327 frame(s) from '00106' to 'Celeb-DF/Real Frames\\00106'\n",
      "\n",
      "🔄 Extracting from: 00107\n",
      "📈 FPS: 30.00 → Saving every 1 frame(s)\n",
      "✅ Saved 462 frame(s) from '00107' to 'Celeb-DF/Real Frames\\00107'\n",
      "\n",
      "🔄 Extracting from: 00108\n",
      "📈 FPS: 30.00 → Saving every 1 frame(s)\n",
      "✅ Saved 478 frame(s) from '00108' to 'Celeb-DF/Real Frames\\00108'\n",
      "\n",
      "🔄 Extracting from: 00109\n",
      "📈 FPS: 30.00 → Saving every 1 frame(s)\n",
      "✅ Saved 264 frame(s) from '00109' to 'Celeb-DF/Real Frames\\00109'\n",
      "\n",
      "🔄 Extracting from: 00110\n",
      "📈 FPS: 30.00 → Saving every 1 frame(s)\n",
      "✅ Saved 479 frame(s) from '00110' to 'Celeb-DF/Real Frames\\00110'\n",
      "\n",
      "🔄 Extracting from: 00111\n",
      "📈 FPS: 30.00 → Saving every 1 frame(s)\n",
      "✅ Saved 467 frame(s) from '00111' to 'Celeb-DF/Real Frames\\00111'\n",
      "\n",
      "🔄 Extracting from: 00112\n",
      "📈 FPS: 30.00 → Saving every 1 frame(s)\n",
      "✅ Saved 477 frame(s) from '00112' to 'Celeb-DF/Real Frames\\00112'\n",
      "\n",
      "🔄 Extracting from: 00113\n",
      "📈 FPS: 30.00 → Saving every 1 frame(s)\n",
      "✅ Saved 504 frame(s) from '00113' to 'Celeb-DF/Real Frames\\00113'\n",
      "\n",
      "🔄 Extracting from: 00114\n",
      "📈 FPS: 30.00 → Saving every 1 frame(s)\n",
      "✅ Saved 340 frame(s) from '00114' to 'Celeb-DF/Real Frames\\00114'\n",
      "\n",
      "🔄 Extracting from: 00115\n",
      "📈 FPS: 30.00 → Saving every 1 frame(s)\n",
      "✅ Saved 312 frame(s) from '00115' to 'Celeb-DF/Real Frames\\00115'\n",
      "\n",
      "🔄 Extracting from: 00116\n",
      "📈 FPS: 30.00 → Saving every 1 frame(s)\n",
      "✅ Saved 471 frame(s) from '00116' to 'Celeb-DF/Real Frames\\00116'\n",
      "\n",
      "🔄 Extracting from: 00117\n",
      "📈 FPS: 30.00 → Saving every 1 frame(s)\n",
      "✅ Saved 462 frame(s) from '00117' to 'Celeb-DF/Real Frames\\00117'\n",
      "\n",
      "🔄 Extracting from: 00118\n",
      "📈 FPS: 30.00 → Saving every 1 frame(s)\n",
      "✅ Saved 474 frame(s) from '00118' to 'Celeb-DF/Real Frames\\00118'\n",
      "\n",
      "🔄 Extracting from: 00119\n",
      "📈 FPS: 30.00 → Saving every 1 frame(s)\n",
      "✅ Saved 424 frame(s) from '00119' to 'Celeb-DF/Real Frames\\00119'\n",
      "\n",
      "🔄 Extracting from: 00120\n",
      "📈 FPS: 30.00 → Saving every 1 frame(s)\n",
      "✅ Saved 468 frame(s) from '00120' to 'Celeb-DF/Real Frames\\00120'\n",
      "\n",
      "🔄 Extracting from: 00121\n",
      "📈 FPS: 30.00 → Saving every 1 frame(s)\n",
      "✅ Saved 468 frame(s) from '00121' to 'Celeb-DF/Real Frames\\00121'\n",
      "\n",
      "🔄 Extracting from: 00122\n",
      "📈 FPS: 30.00 → Saving every 1 frame(s)\n",
      "✅ Saved 362 frame(s) from '00122' to 'Celeb-DF/Real Frames\\00122'\n",
      "\n",
      "🔄 Extracting from: 00123\n",
      "📈 FPS: 30.00 → Saving every 1 frame(s)\n",
      "✅ Saved 303 frame(s) from '00123' to 'Celeb-DF/Real Frames\\00123'\n",
      "\n",
      "🔄 Extracting from: 00124\n",
      "📈 FPS: 30.00 → Saving every 1 frame(s)\n",
      "✅ Saved 421 frame(s) from '00124' to 'Celeb-DF/Real Frames\\00124'\n",
      "\n",
      "🔄 Extracting from: 00125\n",
      "📈 FPS: 30.00 → Saving every 1 frame(s)\n",
      "✅ Saved 280 frame(s) from '00125' to 'Celeb-DF/Real Frames\\00125'\n",
      "\n",
      "🔄 Extracting from: 00126\n",
      "📈 FPS: 30.00 → Saving every 1 frame(s)\n",
      "✅ Saved 455 frame(s) from '00126' to 'Celeb-DF/Real Frames\\00126'\n",
      "\n",
      "🔄 Extracting from: 00127\n",
      "📈 FPS: 30.00 → Saving every 1 frame(s)\n",
      "✅ Saved 483 frame(s) from '00127' to 'Celeb-DF/Real Frames\\00127'\n",
      "\n",
      "🔄 Extracting from: 00128\n",
      "📈 FPS: 30.00 → Saving every 1 frame(s)\n",
      "✅ Saved 460 frame(s) from '00128' to 'Celeb-DF/Real Frames\\00128'\n",
      "\n",
      "🔄 Extracting from: 00129\n",
      "📈 FPS: 30.00 → Saving every 1 frame(s)\n",
      "✅ Saved 467 frame(s) from '00129' to 'Celeb-DF/Real Frames\\00129'\n",
      "\n",
      "🔄 Extracting from: 00130\n",
      "📈 FPS: 30.00 → Saving every 1 frame(s)\n",
      "✅ Saved 398 frame(s) from '00130' to 'Celeb-DF/Real Frames\\00130'\n",
      "\n",
      "🔄 Extracting from: 00131\n",
      "📈 FPS: 30.00 → Saving every 1 frame(s)\n",
      "✅ Saved 357 frame(s) from '00131' to 'Celeb-DF/Real Frames\\00131'\n",
      "\n",
      "🔄 Extracting from: 00132\n",
      "📈 FPS: 30.00 → Saving every 1 frame(s)\n",
      "✅ Saved 350 frame(s) from '00132' to 'Celeb-DF/Real Frames\\00132'\n",
      "\n",
      "🔄 Extracting from: 00133\n",
      "📈 FPS: 30.00 → Saving every 1 frame(s)\n",
      "✅ Saved 499 frame(s) from '00133' to 'Celeb-DF/Real Frames\\00133'\n",
      "\n",
      "🔄 Extracting from: 00134\n",
      "📈 FPS: 30.00 → Saving every 1 frame(s)\n",
      "✅ Saved 481 frame(s) from '00134' to 'Celeb-DF/Real Frames\\00134'\n",
      "\n",
      "🔄 Extracting from: 00135\n",
      "📈 FPS: 30.00 → Saving every 1 frame(s)\n",
      "✅ Saved 354 frame(s) from '00135' to 'Celeb-DF/Real Frames\\00135'\n",
      "\n",
      "🔄 Extracting from: 00136\n",
      "📈 FPS: 30.00 → Saving every 1 frame(s)\n",
      "✅ Saved 293 frame(s) from '00136' to 'Celeb-DF/Real Frames\\00136'\n",
      "\n",
      "🔄 Extracting from: 00137\n",
      "📈 FPS: 30.00 → Saving every 1 frame(s)\n",
      "✅ Saved 353 frame(s) from '00137' to 'Celeb-DF/Real Frames\\00137'\n",
      "\n",
      "🔄 Extracting from: 00138\n",
      "📈 FPS: 30.00 → Saving every 1 frame(s)\n",
      "✅ Saved 481 frame(s) from '00138' to 'Celeb-DF/Real Frames\\00138'\n",
      "\n",
      "🔄 Extracting from: 00139\n",
      "📈 FPS: 30.00 → Saving every 1 frame(s)\n",
      "✅ Saved 553 frame(s) from '00139' to 'Celeb-DF/Real Frames\\00139'\n",
      "\n",
      "🔄 Extracting from: 00140\n",
      "📈 FPS: 30.00 → Saving every 1 frame(s)\n",
      "✅ Saved 382 frame(s) from '00140' to 'Celeb-DF/Real Frames\\00140'\n",
      "\n",
      "🔄 Extracting from: 00141\n",
      "📈 FPS: 30.00 → Saving every 1 frame(s)\n",
      "✅ Saved 445 frame(s) from '00141' to 'Celeb-DF/Real Frames\\00141'\n",
      "\n",
      "🔄 Extracting from: 00142\n",
      "📈 FPS: 30.00 → Saving every 1 frame(s)\n",
      "✅ Saved 450 frame(s) from '00142' to 'Celeb-DF/Real Frames\\00142'\n",
      "\n",
      "🔄 Extracting from: 00143\n",
      "📈 FPS: 30.00 → Saving every 1 frame(s)\n",
      "✅ Saved 462 frame(s) from '00143' to 'Celeb-DF/Real Frames\\00143'\n",
      "\n",
      "🔄 Extracting from: 00144\n",
      "📈 FPS: 30.00 → Saving every 1 frame(s)\n",
      "✅ Saved 451 frame(s) from '00144' to 'Celeb-DF/Real Frames\\00144'\n",
      "\n",
      "🔄 Extracting from: 00145\n",
      "📈 FPS: 30.00 → Saving every 1 frame(s)\n",
      "✅ Saved 469 frame(s) from '00145' to 'Celeb-DF/Real Frames\\00145'\n",
      "\n",
      "🔄 Extracting from: 00146\n",
      "📈 FPS: 30.00 → Saving every 1 frame(s)\n",
      "✅ Saved 722 frame(s) from '00146' to 'Celeb-DF/Real Frames\\00146'\n",
      "\n",
      "🔄 Extracting from: 00147\n",
      "📈 FPS: 30.00 → Saving every 1 frame(s)\n",
      "✅ Saved 514 frame(s) from '00147' to 'Celeb-DF/Real Frames\\00147'\n",
      "\n",
      "🔄 Extracting from: 00148\n",
      "📈 FPS: 30.00 → Saving every 1 frame(s)\n",
      "✅ Saved 459 frame(s) from '00148' to 'Celeb-DF/Real Frames\\00148'\n",
      "\n",
      "🔄 Extracting from: 00149\n",
      "📈 FPS: 30.00 → Saving every 1 frame(s)\n",
      "✅ Saved 506 frame(s) from '00149' to 'Celeb-DF/Real Frames\\00149'\n",
      "\n",
      "🔄 Extracting from: 00150\n",
      "📈 FPS: 30.00 → Saving every 1 frame(s)\n",
      "✅ Saved 461 frame(s) from '00150' to 'Celeb-DF/Real Frames\\00150'\n",
      "\n",
      "🔄 Extracting from: 00151\n",
      "📈 FPS: 30.00 → Saving every 1 frame(s)\n",
      "✅ Saved 504 frame(s) from '00151' to 'Celeb-DF/Real Frames\\00151'\n",
      "\n",
      "🔄 Extracting from: 00152\n",
      "📈 FPS: 30.00 → Saving every 1 frame(s)\n",
      "✅ Saved 698 frame(s) from '00152' to 'Celeb-DF/Real Frames\\00152'\n",
      "\n",
      "🔄 Extracting from: 00153\n",
      "📈 FPS: 30.00 → Saving every 1 frame(s)\n",
      "✅ Saved 488 frame(s) from '00153' to 'Celeb-DF/Real Frames\\00153'\n",
      "\n",
      "🔄 Extracting from: 00154\n",
      "📈 FPS: 30.00 → Saving every 1 frame(s)\n",
      "✅ Saved 375 frame(s) from '00154' to 'Celeb-DF/Real Frames\\00154'\n",
      "\n",
      "🔄 Extracting from: 00155\n",
      "📈 FPS: 30.00 → Saving every 1 frame(s)\n",
      "✅ Saved 573 frame(s) from '00155' to 'Celeb-DF/Real Frames\\00155'\n",
      "\n",
      "🔄 Extracting from: 00156\n",
      "📈 FPS: 30.00 → Saving every 1 frame(s)\n",
      "✅ Saved 445 frame(s) from '00156' to 'Celeb-DF/Real Frames\\00156'\n",
      "\n",
      "🔄 Extracting from: 00157\n",
      "📈 FPS: 30.00 → Saving every 1 frame(s)\n",
      "✅ Saved 450 frame(s) from '00157' to 'Celeb-DF/Real Frames\\00157'\n",
      "\n",
      "🔄 Extracting from: 00158\n",
      "📈 FPS: 30.00 → Saving every 1 frame(s)\n",
      "✅ Saved 455 frame(s) from '00158' to 'Celeb-DF/Real Frames\\00158'\n",
      "\n",
      "🔄 Extracting from: 00159\n",
      "📈 FPS: 30.00 → Saving every 1 frame(s)\n",
      "✅ Saved 448 frame(s) from '00159' to 'Celeb-DF/Real Frames\\00159'\n",
      "\n",
      "🔄 Extracting from: 00160\n",
      "📈 FPS: 30.00 → Saving every 1 frame(s)\n",
      "✅ Saved 490 frame(s) from '00160' to 'Celeb-DF/Real Frames\\00160'\n",
      "\n",
      "🔄 Extracting from: 00161\n",
      "📈 FPS: 30.00 → Saving every 1 frame(s)\n",
      "✅ Saved 519 frame(s) from '00161' to 'Celeb-DF/Real Frames\\00161'\n",
      "\n",
      "🔄 Extracting from: 00162\n",
      "📈 FPS: 30.00 → Saving every 1 frame(s)\n",
      "✅ Saved 447 frame(s) from '00162' to 'Celeb-DF/Real Frames\\00162'\n",
      "\n",
      "🔄 Extracting from: 00163\n",
      "📈 FPS: 30.00 → Saving every 1 frame(s)\n",
      "✅ Saved 475 frame(s) from '00163' to 'Celeb-DF/Real Frames\\00163'\n",
      "\n",
      "🔄 Extracting from: 00164\n",
      "📈 FPS: 30.00 → Saving every 1 frame(s)\n",
      "✅ Saved 526 frame(s) from '00164' to 'Celeb-DF/Real Frames\\00164'\n",
      "\n",
      "🔄 Extracting from: 00165\n",
      "📈 FPS: 30.00 → Saving every 1 frame(s)\n",
      "✅ Saved 470 frame(s) from '00165' to 'Celeb-DF/Real Frames\\00165'\n",
      "\n",
      "🔄 Extracting from: 00166\n",
      "📈 FPS: 30.00 → Saving every 1 frame(s)\n",
      "✅ Saved 469 frame(s) from '00166' to 'Celeb-DF/Real Frames\\00166'\n",
      "\n",
      "🔄 Extracting from: 00167\n",
      "📈 FPS: 30.00 → Saving every 1 frame(s)\n",
      "✅ Saved 477 frame(s) from '00167' to 'Celeb-DF/Real Frames\\00167'\n",
      "\n",
      "🔄 Extracting from: 00168\n",
      "📈 FPS: 30.00 → Saving every 1 frame(s)\n",
      "✅ Saved 476 frame(s) from '00168' to 'Celeb-DF/Real Frames\\00168'\n",
      "\n",
      "🔄 Extracting from: 00169\n",
      "📈 FPS: 30.00 → Saving every 1 frame(s)\n",
      "✅ Saved 432 frame(s) from '00169' to 'Celeb-DF/Real Frames\\00169'\n",
      "\n",
      "🔄 Extracting from: 00170\n",
      "📈 FPS: 30.00 → Saving every 1 frame(s)\n",
      "✅ Saved 348 frame(s) from '00170' to 'Celeb-DF/Real Frames\\00170'\n",
      "\n",
      "🔄 Extracting from: 00171\n",
      "📈 FPS: 30.00 → Saving every 1 frame(s)\n",
      "✅ Saved 436 frame(s) from '00171' to 'Celeb-DF/Real Frames\\00171'\n",
      "\n",
      "🔄 Extracting from: 00172\n",
      "📈 FPS: 30.00 → Saving every 1 frame(s)\n",
      "✅ Saved 353 frame(s) from '00172' to 'Celeb-DF/Real Frames\\00172'\n",
      "\n",
      "🔄 Extracting from: 00173\n",
      "📈 FPS: 30.00 → Saving every 1 frame(s)\n",
      "✅ Saved 499 frame(s) from '00173' to 'Celeb-DF/Real Frames\\00173'\n",
      "\n",
      "🔄 Extracting from: 00174\n",
      "📈 FPS: 30.00 → Saving every 1 frame(s)\n",
      "✅ Saved 465 frame(s) from '00174' to 'Celeb-DF/Real Frames\\00174'\n",
      "\n",
      "🔄 Extracting from: 00175\n",
      "📈 FPS: 30.00 → Saving every 1 frame(s)\n",
      "✅ Saved 483 frame(s) from '00175' to 'Celeb-DF/Real Frames\\00175'\n",
      "\n",
      "🔄 Extracting from: 00176\n",
      "📈 FPS: 30.00 → Saving every 1 frame(s)\n",
      "✅ Saved 605 frame(s) from '00176' to 'Celeb-DF/Real Frames\\00176'\n",
      "\n",
      "🔄 Extracting from: 00177\n",
      "📈 FPS: 30.00 → Saving every 1 frame(s)\n",
      "✅ Saved 521 frame(s) from '00177' to 'Celeb-DF/Real Frames\\00177'\n",
      "\n",
      "🔄 Extracting from: 00178\n",
      "📈 FPS: 30.00 → Saving every 1 frame(s)\n",
      "✅ Saved 468 frame(s) from '00178' to 'Celeb-DF/Real Frames\\00178'\n",
      "\n",
      "🔄 Extracting from: 00179\n",
      "📈 FPS: 30.00 → Saving every 1 frame(s)\n",
      "✅ Saved 451 frame(s) from '00179' to 'Celeb-DF/Real Frames\\00179'\n",
      "\n",
      "🔄 Extracting from: 00180\n",
      "📈 FPS: 30.00 → Saving every 1 frame(s)\n",
      "✅ Saved 349 frame(s) from '00180' to 'Celeb-DF/Real Frames\\00180'\n",
      "\n",
      "🔄 Extracting from: 00181\n",
      "📈 FPS: 30.00 → Saving every 1 frame(s)\n",
      "✅ Saved 391 frame(s) from '00181' to 'Celeb-DF/Real Frames\\00181'\n",
      "\n",
      "🔄 Extracting from: 00182\n",
      "📈 FPS: 30.00 → Saving every 1 frame(s)\n",
      "✅ Saved 478 frame(s) from '00182' to 'Celeb-DF/Real Frames\\00182'\n",
      "\n",
      "🔄 Extracting from: 00183\n",
      "📈 FPS: 30.00 → Saving every 1 frame(s)\n",
      "✅ Saved 516 frame(s) from '00183' to 'Celeb-DF/Real Frames\\00183'\n",
      "\n",
      "🔄 Extracting from: 00184\n",
      "📈 FPS: 30.00 → Saving every 1 frame(s)\n",
      "✅ Saved 467 frame(s) from '00184' to 'Celeb-DF/Real Frames\\00184'\n",
      "\n",
      "🔄 Extracting from: 00185\n",
      "📈 FPS: 30.00 → Saving every 1 frame(s)\n",
      "✅ Saved 474 frame(s) from '00185' to 'Celeb-DF/Real Frames\\00185'\n",
      "\n",
      "🔄 Extracting from: 00186\n",
      "📈 FPS: 30.00 → Saving every 1 frame(s)\n",
      "✅ Saved 510 frame(s) from '00186' to 'Celeb-DF/Real Frames\\00186'\n",
      "\n",
      "🔄 Extracting from: 00187\n",
      "📈 FPS: 30.00 → Saving every 1 frame(s)\n",
      "✅ Saved 460 frame(s) from '00187' to 'Celeb-DF/Real Frames\\00187'\n",
      "\n",
      "🔄 Extracting from: 00188\n",
      "📈 FPS: 30.00 → Saving every 1 frame(s)\n",
      "✅ Saved 476 frame(s) from '00188' to 'Celeb-DF/Real Frames\\00188'\n",
      "\n",
      "🔄 Extracting from: 00189\n",
      "📈 FPS: 30.00 → Saving every 1 frame(s)\n",
      "✅ Saved 410 frame(s) from '00189' to 'Celeb-DF/Real Frames\\00189'\n",
      "\n",
      "🔄 Extracting from: 00190\n",
      "📈 FPS: 30.00 → Saving every 1 frame(s)\n",
      "✅ Saved 465 frame(s) from '00190' to 'Celeb-DF/Real Frames\\00190'\n",
      "\n",
      "🔄 Extracting from: 00191\n",
      "📈 FPS: 30.00 → Saving every 1 frame(s)\n",
      "✅ Saved 442 frame(s) from '00191' to 'Celeb-DF/Real Frames\\00191'\n",
      "\n",
      "🔄 Extracting from: 00192\n",
      "📈 FPS: 30.00 → Saving every 1 frame(s)\n",
      "✅ Saved 474 frame(s) from '00192' to 'Celeb-DF/Real Frames\\00192'\n",
      "\n",
      "🔄 Extracting from: 00193\n",
      "📈 FPS: 30.00 → Saving every 1 frame(s)\n",
      "✅ Saved 353 frame(s) from '00193' to 'Celeb-DF/Real Frames\\00193'\n",
      "\n",
      "🔄 Extracting from: 00194\n",
      "📈 FPS: 30.00 → Saving every 1 frame(s)\n",
      "✅ Saved 462 frame(s) from '00194' to 'Celeb-DF/Real Frames\\00194'\n",
      "\n",
      "🔄 Extracting from: 00195\n",
      "📈 FPS: 30.00 → Saving every 1 frame(s)\n",
      "✅ Saved 495 frame(s) from '00195' to 'Celeb-DF/Real Frames\\00195'\n",
      "\n",
      "🔄 Extracting from: 00196\n",
      "📈 FPS: 30.00 → Saving every 1 frame(s)\n",
      "✅ Saved 480 frame(s) from '00196' to 'Celeb-DF/Real Frames\\00196'\n",
      "\n",
      "🔄 Extracting from: 00197\n",
      "📈 FPS: 30.00 → Saving every 1 frame(s)\n",
      "✅ Saved 467 frame(s) from '00197' to 'Celeb-DF/Real Frames\\00197'\n",
      "\n",
      "🔄 Extracting from: 00198\n",
      "📈 FPS: 30.00 → Saving every 1 frame(s)\n",
      "✅ Saved 456 frame(s) from '00198' to 'Celeb-DF/Real Frames\\00198'\n",
      "\n",
      "🔄 Extracting from: 00199\n",
      "📈 FPS: 30.00 → Saving every 1 frame(s)\n",
      "✅ Saved 480 frame(s) from '00199' to 'Celeb-DF/Real Frames\\00199'\n",
      "\n",
      "🔄 Extracting from: 00200\n",
      "📈 FPS: 30.00 → Saving every 1 frame(s)\n",
      "✅ Saved 462 frame(s) from '00200' to 'Celeb-DF/Real Frames\\00200'\n",
      "\n",
      "🔄 Extracting from: 00201\n",
      "📈 FPS: 30.00 → Saving every 1 frame(s)\n",
      "✅ Saved 459 frame(s) from '00201' to 'Celeb-DF/Real Frames\\00201'\n",
      "\n",
      "🔄 Extracting from: 00202\n",
      "📈 FPS: 30.00 → Saving every 1 frame(s)\n",
      "✅ Saved 499 frame(s) from '00202' to 'Celeb-DF/Real Frames\\00202'\n",
      "\n",
      "🔄 Extracting from: 00203\n",
      "📈 FPS: 30.00 → Saving every 1 frame(s)\n",
      "✅ Saved 309 frame(s) from '00203' to 'Celeb-DF/Real Frames\\00203'\n",
      "\n",
      "🔄 Extracting from: 00204\n",
      "📈 FPS: 30.00 → Saving every 1 frame(s)\n",
      "✅ Saved 463 frame(s) from '00204' to 'Celeb-DF/Real Frames\\00204'\n",
      "\n",
      "🔄 Extracting from: 00205\n",
      "📈 FPS: 30.00 → Saving every 1 frame(s)\n",
      "✅ Saved 453 frame(s) from '00205' to 'Celeb-DF/Real Frames\\00205'\n",
      "\n",
      "🔄 Extracting from: 00206\n",
      "📈 FPS: 30.00 → Saving every 1 frame(s)\n",
      "✅ Saved 455 frame(s) from '00206' to 'Celeb-DF/Real Frames\\00206'\n",
      "\n",
      "🔄 Extracting from: 00207\n",
      "📈 FPS: 30.00 → Saving every 1 frame(s)\n",
      "✅ Saved 126 frame(s) from '00207' to 'Celeb-DF/Real Frames\\00207'\n",
      "\n",
      "🔄 Extracting from: 00208\n",
      "📈 FPS: 30.00 → Saving every 1 frame(s)\n",
      "✅ Saved 459 frame(s) from '00208' to 'Celeb-DF/Real Frames\\00208'\n",
      "\n",
      "🔄 Extracting from: 00209\n",
      "📈 FPS: 30.00 → Saving every 1 frame(s)\n",
      "✅ Saved 460 frame(s) from '00209' to 'Celeb-DF/Real Frames\\00209'\n",
      "\n",
      "🔄 Extracting from: 00210\n",
      "📈 FPS: 30.00 → Saving every 1 frame(s)\n",
      "✅ Saved 611 frame(s) from '00210' to 'Celeb-DF/Real Frames\\00210'\n",
      "\n",
      "🔄 Extracting from: 00211\n",
      "📈 FPS: 30.00 → Saving every 1 frame(s)\n",
      "✅ Saved 424 frame(s) from '00211' to 'Celeb-DF/Real Frames\\00211'\n",
      "\n",
      "🔄 Extracting from: 00212\n",
      "📈 FPS: 30.00 → Saving every 1 frame(s)\n",
      "✅ Saved 413 frame(s) from '00212' to 'Celeb-DF/Real Frames\\00212'\n",
      "\n",
      "🔄 Extracting from: 00213\n",
      "📈 FPS: 30.00 → Saving every 1 frame(s)\n",
      "✅ Saved 461 frame(s) from '00213' to 'Celeb-DF/Real Frames\\00213'\n",
      "\n",
      "🔄 Extracting from: 00214\n",
      "📈 FPS: 30.00 → Saving every 1 frame(s)\n",
      "✅ Saved 446 frame(s) from '00214' to 'Celeb-DF/Real Frames\\00214'\n",
      "\n",
      "🔄 Extracting from: 00215\n",
      "📈 FPS: 30.00 → Saving every 1 frame(s)\n",
      "✅ Saved 469 frame(s) from '00215' to 'Celeb-DF/Real Frames\\00215'\n",
      "\n",
      "🔄 Extracting from: 00216\n",
      "📈 FPS: 30.00 → Saving every 1 frame(s)\n",
      "✅ Saved 384 frame(s) from '00216' to 'Celeb-DF/Real Frames\\00216'\n",
      "\n",
      "🔄 Extracting from: 00217\n",
      "📈 FPS: 30.00 → Saving every 1 frame(s)\n",
      "✅ Saved 324 frame(s) from '00217' to 'Celeb-DF/Real Frames\\00217'\n",
      "\n",
      "🔄 Extracting from: 00218\n",
      "📈 FPS: 30.00 → Saving every 1 frame(s)\n",
      "✅ Saved 478 frame(s) from '00218' to 'Celeb-DF/Real Frames\\00218'\n",
      "\n",
      "🔄 Extracting from: 00219\n",
      "📈 FPS: 30.00 → Saving every 1 frame(s)\n",
      "✅ Saved 483 frame(s) from '00219' to 'Celeb-DF/Real Frames\\00219'\n",
      "\n",
      "🔄 Extracting from: 00220\n",
      "📈 FPS: 30.00 → Saving every 1 frame(s)\n",
      "✅ Saved 523 frame(s) from '00220' to 'Celeb-DF/Real Frames\\00220'\n",
      "\n",
      "🔄 Extracting from: 00221\n",
      "📈 FPS: 30.00 → Saving every 1 frame(s)\n",
      "✅ Saved 448 frame(s) from '00221' to 'Celeb-DF/Real Frames\\00221'\n",
      "\n",
      "🔄 Extracting from: 00222\n",
      "📈 FPS: 30.00 → Saving every 1 frame(s)\n",
      "✅ Saved 468 frame(s) from '00222' to 'Celeb-DF/Real Frames\\00222'\n",
      "\n",
      "🔄 Extracting from: 00223\n",
      "📈 FPS: 30.00 → Saving every 1 frame(s)\n",
      "✅ Saved 480 frame(s) from '00223' to 'Celeb-DF/Real Frames\\00223'\n",
      "\n",
      "🔄 Extracting from: 00224\n",
      "📈 FPS: 30.00 → Saving every 1 frame(s)\n",
      "✅ Saved 428 frame(s) from '00224' to 'Celeb-DF/Real Frames\\00224'\n",
      "\n",
      "🔄 Extracting from: 00225\n",
      "📈 FPS: 30.00 → Saving every 1 frame(s)\n",
      "✅ Saved 468 frame(s) from '00225' to 'Celeb-DF/Real Frames\\00225'\n",
      "\n",
      "🔄 Extracting from: 00226\n",
      "📈 FPS: 30.00 → Saving every 1 frame(s)\n",
      "✅ Saved 466 frame(s) from '00226' to 'Celeb-DF/Real Frames\\00226'\n",
      "\n",
      "🔄 Extracting from: 00227\n",
      "📈 FPS: 30.00 → Saving every 1 frame(s)\n",
      "✅ Saved 471 frame(s) from '00227' to 'Celeb-DF/Real Frames\\00227'\n",
      "\n",
      "🔄 Extracting from: 00228\n",
      "📈 FPS: 30.00 → Saving every 1 frame(s)\n",
      "✅ Saved 470 frame(s) from '00228' to 'Celeb-DF/Real Frames\\00228'\n",
      "\n",
      "🔄 Extracting from: 00229\n",
      "📈 FPS: 30.00 → Saving every 1 frame(s)\n",
      "✅ Saved 533 frame(s) from '00229' to 'Celeb-DF/Real Frames\\00229'\n",
      "\n",
      "🔄 Extracting from: 00230\n",
      "📈 FPS: 30.00 → Saving every 1 frame(s)\n",
      "✅ Saved 455 frame(s) from '00230' to 'Celeb-DF/Real Frames\\00230'\n",
      "\n",
      "🔄 Extracting from: 00231\n",
      "📈 FPS: 30.00 → Saving every 1 frame(s)\n",
      "✅ Saved 477 frame(s) from '00231' to 'Celeb-DF/Real Frames\\00231'\n",
      "\n",
      "🔄 Extracting from: 00232\n",
      "📈 FPS: 30.00 → Saving every 1 frame(s)\n",
      "✅ Saved 471 frame(s) from '00232' to 'Celeb-DF/Real Frames\\00232'\n",
      "\n",
      "🔄 Extracting from: 00233\n",
      "📈 FPS: 30.00 → Saving every 1 frame(s)\n",
      "✅ Saved 464 frame(s) from '00233' to 'Celeb-DF/Real Frames\\00233'\n",
      "\n",
      "🔄 Extracting from: 00234\n",
      "📈 FPS: 30.00 → Saving every 1 frame(s)\n",
      "✅ Saved 363 frame(s) from '00234' to 'Celeb-DF/Real Frames\\00234'\n",
      "\n",
      "🔄 Extracting from: 00235\n",
      "📈 FPS: 30.00 → Saving every 1 frame(s)\n",
      "✅ Saved 496 frame(s) from '00235' to 'Celeb-DF/Real Frames\\00235'\n",
      "\n",
      "🔄 Extracting from: 00236\n",
      "📈 FPS: 30.00 → Saving every 1 frame(s)\n",
      "✅ Saved 468 frame(s) from '00236' to 'Celeb-DF/Real Frames\\00236'\n",
      "\n",
      "🔄 Extracting from: 00237\n",
      "📈 FPS: 30.00 → Saving every 1 frame(s)\n",
      "✅ Saved 456 frame(s) from '00237' to 'Celeb-DF/Real Frames\\00237'\n",
      "\n",
      "🔄 Extracting from: 00238\n",
      "📈 FPS: 30.00 → Saving every 1 frame(s)\n",
      "✅ Saved 422 frame(s) from '00238' to 'Celeb-DF/Real Frames\\00238'\n",
      "\n",
      "🔄 Extracting from: 00239\n",
      "📈 FPS: 30.00 → Saving every 1 frame(s)\n",
      "✅ Saved 493 frame(s) from '00239' to 'Celeb-DF/Real Frames\\00239'\n",
      "\n",
      "🔄 Extracting from: 00240\n",
      "📈 FPS: 30.00 → Saving every 1 frame(s)\n",
      "✅ Saved 471 frame(s) from '00240' to 'Celeb-DF/Real Frames\\00240'\n",
      "\n",
      "🔄 Extracting from: 00241\n",
      "📈 FPS: 30.00 → Saving every 1 frame(s)\n",
      "✅ Saved 447 frame(s) from '00241' to 'Celeb-DF/Real Frames\\00241'\n",
      "\n",
      "🔄 Extracting from: 00242\n",
      "📈 FPS: 30.00 → Saving every 1 frame(s)\n",
      "✅ Saved 442 frame(s) from '00242' to 'Celeb-DF/Real Frames\\00242'\n",
      "\n",
      "🔄 Extracting from: 00243\n",
      "📈 FPS: 30.00 → Saving every 1 frame(s)\n",
      "✅ Saved 461 frame(s) from '00243' to 'Celeb-DF/Real Frames\\00243'\n",
      "\n",
      "🔄 Extracting from: 00244\n",
      "📈 FPS: 30.00 → Saving every 1 frame(s)\n",
      "✅ Saved 289 frame(s) from '00244' to 'Celeb-DF/Real Frames\\00244'\n",
      "\n",
      "🔄 Extracting from: 00245\n",
      "📈 FPS: 30.00 → Saving every 1 frame(s)\n",
      "✅ Saved 464 frame(s) from '00245' to 'Celeb-DF/Real Frames\\00245'\n",
      "\n",
      "🔄 Extracting from: 00246\n",
      "📈 FPS: 30.00 → Saving every 1 frame(s)\n",
      "✅ Saved 454 frame(s) from '00246' to 'Celeb-DF/Real Frames\\00246'\n",
      "\n",
      "🔄 Extracting from: 00247\n",
      "📈 FPS: 30.00 → Saving every 1 frame(s)\n",
      "✅ Saved 467 frame(s) from '00247' to 'Celeb-DF/Real Frames\\00247'\n",
      "\n",
      "🔄 Extracting from: 00248\n",
      "📈 FPS: 30.00 → Saving every 1 frame(s)\n",
      "✅ Saved 480 frame(s) from '00248' to 'Celeb-DF/Real Frames\\00248'\n",
      "\n",
      "🔄 Extracting from: 00249\n",
      "📈 FPS: 30.00 → Saving every 1 frame(s)\n",
      "✅ Saved 517 frame(s) from '00249' to 'Celeb-DF/Real Frames\\00249'\n",
      "\n",
      "🔄 Extracting from: id0_0000\n",
      "📈 FPS: 30.00 → Saving every 1 frame(s)\n",
      "✅ Saved 469 frame(s) from 'id0_0000' to 'Celeb-DF/Real Frames\\id0_0000'\n",
      "\n",
      "🔄 Extracting from: id0_0001\n",
      "📈 FPS: 30.00 → Saving every 1 frame(s)\n",
      "✅ Saved 303 frame(s) from 'id0_0001' to 'Celeb-DF/Real Frames\\id0_0001'\n",
      "\n",
      "🔄 Extracting from: id0_0002\n",
      "📈 FPS: 30.00 → Saving every 1 frame(s)\n",
      "✅ Saved 350 frame(s) from 'id0_0002' to 'Celeb-DF/Real Frames\\id0_0002'\n",
      "\n",
      "🔄 Extracting from: id0_0003\n",
      "📈 FPS: 30.00 → Saving every 1 frame(s)\n",
      "✅ Saved 529 frame(s) from 'id0_0003' to 'Celeb-DF/Real Frames\\id0_0003'\n",
      "\n",
      "🔄 Extracting from: id0_0004\n",
      "📈 FPS: 30.00 → Saving every 1 frame(s)\n",
      "✅ Saved 326 frame(s) from 'id0_0004' to 'Celeb-DF/Real Frames\\id0_0004'\n",
      "\n",
      "🔄 Extracting from: id0_0005\n",
      "📈 FPS: 30.00 → Saving every 1 frame(s)\n",
      "✅ Saved 459 frame(s) from 'id0_0005' to 'Celeb-DF/Real Frames\\id0_0005'\n",
      "\n",
      "🔄 Extracting from: id0_0006\n",
      "📈 FPS: 30.00 → Saving every 1 frame(s)\n",
      "✅ Saved 534 frame(s) from 'id0_0006' to 'Celeb-DF/Real Frames\\id0_0006'\n",
      "\n",
      "🔄 Extracting from: id0_0007\n",
      "📈 FPS: 30.00 → Saving every 1 frame(s)\n",
      "✅ Saved 479 frame(s) from 'id0_0007' to 'Celeb-DF/Real Frames\\id0_0007'\n",
      "\n",
      "🔄 Extracting from: id0_0008\n",
      "📈 FPS: 30.00 → Saving every 1 frame(s)\n",
      "✅ Saved 464 frame(s) from 'id0_0008' to 'Celeb-DF/Real Frames\\id0_0008'\n",
      "\n",
      "🔄 Extracting from: id0_0009\n",
      "📈 FPS: 30.00 → Saving every 1 frame(s)\n",
      "✅ Saved 520 frame(s) from 'id0_0009' to 'Celeb-DF/Real Frames\\id0_0009'\n",
      "\n",
      "🔄 Extracting from: id10_0000\n",
      "📈 FPS: 30.00 → Saving every 1 frame(s)\n",
      "✅ Saved 239 frame(s) from 'id10_0000' to 'Celeb-DF/Real Frames\\id10_0000'\n",
      "\n",
      "🔄 Extracting from: id10_0001\n",
      "📈 FPS: 30.00 → Saving every 1 frame(s)\n",
      "✅ Saved 145 frame(s) from 'id10_0001' to 'Celeb-DF/Real Frames\\id10_0001'\n",
      "\n",
      "🔄 Extracting from: id10_0002\n",
      "📈 FPS: 30.00 → Saving every 1 frame(s)\n",
      "✅ Saved 322 frame(s) from 'id10_0002' to 'Celeb-DF/Real Frames\\id10_0002'\n",
      "\n",
      "🔄 Extracting from: id10_0003\n",
      "📈 FPS: 30.00 → Saving every 1 frame(s)\n",
      "✅ Saved 351 frame(s) from 'id10_0003' to 'Celeb-DF/Real Frames\\id10_0003'\n",
      "\n",
      "🔄 Extracting from: id10_0004\n",
      "📈 FPS: 30.00 → Saving every 1 frame(s)\n",
      "✅ Saved 517 frame(s) from 'id10_0004' to 'Celeb-DF/Real Frames\\id10_0004'\n",
      "\n",
      "🔄 Extracting from: id10_0005\n",
      "📈 FPS: 30.00 → Saving every 1 frame(s)\n",
      "✅ Saved 318 frame(s) from 'id10_0005' to 'Celeb-DF/Real Frames\\id10_0005'\n",
      "\n",
      "🔄 Extracting from: id10_0006\n",
      "📈 FPS: 30.00 → Saving every 1 frame(s)\n",
      "✅ Saved 172 frame(s) from 'id10_0006' to 'Celeb-DF/Real Frames\\id10_0006'\n",
      "\n",
      "🔄 Extracting from: id10_0007\n",
      "📈 FPS: 30.00 → Saving every 1 frame(s)\n",
      "✅ Saved 502 frame(s) from 'id10_0007' to 'Celeb-DF/Real Frames\\id10_0007'\n",
      "\n",
      "🔄 Extracting from: id10_0008\n",
      "📈 FPS: 30.00 → Saving every 1 frame(s)\n",
      "✅ Saved 380 frame(s) from 'id10_0008' to 'Celeb-DF/Real Frames\\id10_0008'\n",
      "\n",
      "🔄 Extracting from: id10_0009\n",
      "📈 FPS: 30.00 → Saving every 1 frame(s)\n",
      "✅ Saved 535 frame(s) from 'id10_0009' to 'Celeb-DF/Real Frames\\id10_0009'\n",
      "\n",
      "🔄 Extracting from: id11_0000\n",
      "📈 FPS: 30.00 → Saving every 1 frame(s)\n",
      "✅ Saved 373 frame(s) from 'id11_0000' to 'Celeb-DF/Real Frames\\id11_0000'\n",
      "\n",
      "🔄 Extracting from: id11_0001\n",
      "📈 FPS: 30.00 → Saving every 1 frame(s)\n",
      "✅ Saved 441 frame(s) from 'id11_0001' to 'Celeb-DF/Real Frames\\id11_0001'\n",
      "\n",
      "🔄 Extracting from: id11_0002\n",
      "📈 FPS: 30.00 → Saving every 1 frame(s)\n",
      "✅ Saved 357 frame(s) from 'id11_0002' to 'Celeb-DF/Real Frames\\id11_0002'\n",
      "\n",
      "🔄 Extracting from: id11_0003\n",
      "📈 FPS: 30.00 → Saving every 1 frame(s)\n",
      "✅ Saved 313 frame(s) from 'id11_0003' to 'Celeb-DF/Real Frames\\id11_0003'\n",
      "\n",
      "🔄 Extracting from: id11_0004\n",
      "📈 FPS: 30.00 → Saving every 1 frame(s)\n",
      "✅ Saved 350 frame(s) from 'id11_0004' to 'Celeb-DF/Real Frames\\id11_0004'\n",
      "\n",
      "🔄 Extracting from: id11_0005\n",
      "📈 FPS: 30.00 → Saving every 1 frame(s)\n",
      "✅ Saved 327 frame(s) from 'id11_0005' to 'Celeb-DF/Real Frames\\id11_0005'\n",
      "\n",
      "🔄 Extracting from: id11_0006\n",
      "📈 FPS: 30.00 → Saving every 1 frame(s)\n",
      "✅ Saved 316 frame(s) from 'id11_0006' to 'Celeb-DF/Real Frames\\id11_0006'\n",
      "\n",
      "🔄 Extracting from: id11_0007\n",
      "📈 FPS: 30.00 → Saving every 1 frame(s)\n",
      "✅ Saved 320 frame(s) from 'id11_0007' to 'Celeb-DF/Real Frames\\id11_0007'\n",
      "\n",
      "🔄 Extracting from: id11_0008\n",
      "📈 FPS: 30.00 → Saving every 1 frame(s)\n",
      "✅ Saved 371 frame(s) from 'id11_0008' to 'Celeb-DF/Real Frames\\id11_0008'\n",
      "\n",
      "🔄 Extracting from: id11_0009\n",
      "📈 FPS: 30.00 → Saving every 1 frame(s)\n",
      "✅ Saved 397 frame(s) from 'id11_0009' to 'Celeb-DF/Real Frames\\id11_0009'\n",
      "\n",
      "🔄 Extracting from: id11_0010\n",
      "📈 FPS: 30.00 → Saving every 1 frame(s)\n",
      "✅ Saved 330 frame(s) from 'id11_0010' to 'Celeb-DF/Real Frames\\id11_0010'\n",
      "\n",
      "🔄 Extracting from: id12_0000\n",
      "📈 FPS: 30.00 → Saving every 1 frame(s)\n",
      "✅ Saved 376 frame(s) from 'id12_0000' to 'Celeb-DF/Real Frames\\id12_0000'\n",
      "\n",
      "🔄 Extracting from: id12_0001\n",
      "📈 FPS: 30.00 → Saving every 1 frame(s)\n",
      "✅ Saved 398 frame(s) from 'id12_0001' to 'Celeb-DF/Real Frames\\id12_0001'\n",
      "\n",
      "🔄 Extracting from: id12_0002\n",
      "📈 FPS: 30.00 → Saving every 1 frame(s)\n",
      "✅ Saved 364 frame(s) from 'id12_0002' to 'Celeb-DF/Real Frames\\id12_0002'\n",
      "\n",
      "🔄 Extracting from: id12_0003\n",
      "📈 FPS: 30.00 → Saving every 1 frame(s)\n",
      "✅ Saved 379 frame(s) from 'id12_0003' to 'Celeb-DF/Real Frames\\id12_0003'\n",
      "\n",
      "🔄 Extracting from: id12_0004\n",
      "📈 FPS: 30.00 → Saving every 1 frame(s)\n",
      "✅ Saved 339 frame(s) from 'id12_0004' to 'Celeb-DF/Real Frames\\id12_0004'\n",
      "\n",
      "🔄 Extracting from: id12_0005\n",
      "📈 FPS: 30.00 → Saving every 1 frame(s)\n",
      "✅ Saved 314 frame(s) from 'id12_0005' to 'Celeb-DF/Real Frames\\id12_0005'\n",
      "\n",
      "🔄 Extracting from: id12_0006\n",
      "📈 FPS: 30.00 → Saving every 1 frame(s)\n",
      "✅ Saved 308 frame(s) from 'id12_0006' to 'Celeb-DF/Real Frames\\id12_0006'\n",
      "\n",
      "🔄 Extracting from: id13_0000\n",
      "📈 FPS: 30.00 → Saving every 1 frame(s)\n",
      "✅ Saved 327 frame(s) from 'id13_0000' to 'Celeb-DF/Real Frames\\id13_0000'\n",
      "\n",
      "🔄 Extracting from: id13_0001\n",
      "📈 FPS: 30.00 → Saving every 1 frame(s)\n",
      "✅ Saved 349 frame(s) from 'id13_0001' to 'Celeb-DF/Real Frames\\id13_0001'\n",
      "\n",
      "🔄 Extracting from: id13_0002\n",
      "📈 FPS: 30.00 → Saving every 1 frame(s)\n",
      "✅ Saved 400 frame(s) from 'id13_0002' to 'Celeb-DF/Real Frames\\id13_0002'\n",
      "\n",
      "🔄 Extracting from: id13_0003\n",
      "📈 FPS: 30.00 → Saving every 1 frame(s)\n",
      "✅ Saved 340 frame(s) from 'id13_0003' to 'Celeb-DF/Real Frames\\id13_0003'\n",
      "\n",
      "🔄 Extracting from: id13_0004\n",
      "📈 FPS: 30.00 → Saving every 1 frame(s)\n",
      "✅ Saved 352 frame(s) from 'id13_0004' to 'Celeb-DF/Real Frames\\id13_0004'\n",
      "\n",
      "🔄 Extracting from: id13_0005\n",
      "📈 FPS: 30.00 → Saving every 1 frame(s)\n",
      "✅ Saved 309 frame(s) from 'id13_0005' to 'Celeb-DF/Real Frames\\id13_0005'\n",
      "\n",
      "🔄 Extracting from: id13_0006\n",
      "📈 FPS: 30.00 → Saving every 1 frame(s)\n",
      "✅ Saved 333 frame(s) from 'id13_0006' to 'Celeb-DF/Real Frames\\id13_0006'\n",
      "\n",
      "🔄 Extracting from: id13_0007\n",
      "📈 FPS: 29.87 → Saving every 1 frame(s)\n",
      "✅ Saved 452 frame(s) from 'id13_0007' to 'Celeb-DF/Real Frames\\id13_0007'\n",
      "\n",
      "🔄 Extracting from: id13_0008\n",
      "📈 FPS: 30.00 → Saving every 1 frame(s)\n",
      "✅ Saved 459 frame(s) from 'id13_0008' to 'Celeb-DF/Real Frames\\id13_0008'\n",
      "\n",
      "🔄 Extracting from: id13_0009\n",
      "📈 FPS: 30.00 → Saving every 1 frame(s)\n",
      "✅ Saved 435 frame(s) from 'id13_0009' to 'Celeb-DF/Real Frames\\id13_0009'\n",
      "\n",
      "🔄 Extracting from: id13_0010\n",
      "📈 FPS: 30.00 → Saving every 1 frame(s)\n",
      "✅ Saved 332 frame(s) from 'id13_0010' to 'Celeb-DF/Real Frames\\id13_0010'\n",
      "\n",
      "🔄 Extracting from: id13_0011\n",
      "📈 FPS: 30.00 → Saving every 1 frame(s)\n",
      "✅ Saved 466 frame(s) from 'id13_0011' to 'Celeb-DF/Real Frames\\id13_0011'\n",
      "\n",
      "🔄 Extracting from: id13_0012\n",
      "📈 FPS: 30.00 → Saving every 1 frame(s)\n",
      "✅ Saved 510 frame(s) from 'id13_0012' to 'Celeb-DF/Real Frames\\id13_0012'\n",
      "\n",
      "🔄 Extracting from: id13_0013\n",
      "📈 FPS: 30.00 → Saving every 1 frame(s)\n",
      "✅ Saved 459 frame(s) from 'id13_0013' to 'Celeb-DF/Real Frames\\id13_0013'\n",
      "\n",
      "🔄 Extracting from: id13_0014\n",
      "📈 FPS: 30.00 → Saving every 1 frame(s)\n",
      "✅ Saved 390 frame(s) from 'id13_0014' to 'Celeb-DF/Real Frames\\id13_0014'\n",
      "\n",
      "🔄 Extracting from: id13_0015\n",
      "📈 FPS: 30.00 → Saving every 1 frame(s)\n",
      "✅ Saved 489 frame(s) from 'id13_0015' to 'Celeb-DF/Real Frames\\id13_0015'\n",
      "\n",
      "🔄 Extracting from: id16_0000\n",
      "📈 FPS: 30.00 → Saving every 1 frame(s)\n",
      "✅ Saved 317 frame(s) from 'id16_0000' to 'Celeb-DF/Real Frames\\id16_0000'\n",
      "\n",
      "🔄 Extracting from: id16_0001\n",
      "📈 FPS: 30.00 → Saving every 1 frame(s)\n",
      "✅ Saved 316 frame(s) from 'id16_0001' to 'Celeb-DF/Real Frames\\id16_0001'\n",
      "\n",
      "🔄 Extracting from: id16_0002\n",
      "📈 FPS: 30.00 → Saving every 1 frame(s)\n",
      "✅ Saved 363 frame(s) from 'id16_0002' to 'Celeb-DF/Real Frames\\id16_0002'\n",
      "\n",
      "🔄 Extracting from: id16_0003\n",
      "📈 FPS: 30.00 → Saving every 1 frame(s)\n",
      "✅ Saved 303 frame(s) from 'id16_0003' to 'Celeb-DF/Real Frames\\id16_0003'\n",
      "\n",
      "🔄 Extracting from: id16_0004\n",
      "📈 FPS: 30.00 → Saving every 1 frame(s)\n",
      "✅ Saved 410 frame(s) from 'id16_0004' to 'Celeb-DF/Real Frames\\id16_0004'\n",
      "\n",
      "🔄 Extracting from: id16_0005\n",
      "📈 FPS: 30.00 → Saving every 1 frame(s)\n",
      "✅ Saved 345 frame(s) from 'id16_0005' to 'Celeb-DF/Real Frames\\id16_0005'\n",
      "\n",
      "🔄 Extracting from: id16_0006\n",
      "📈 FPS: 30.00 → Saving every 1 frame(s)\n",
      "✅ Saved 224 frame(s) from 'id16_0006' to 'Celeb-DF/Real Frames\\id16_0006'\n",
      "\n",
      "🔄 Extracting from: id16_0007\n",
      "📈 FPS: 30.00 → Saving every 1 frame(s)\n",
      "✅ Saved 284 frame(s) from 'id16_0007' to 'Celeb-DF/Real Frames\\id16_0007'\n",
      "\n",
      "🔄 Extracting from: id16_0008\n",
      "📈 FPS: 30.00 → Saving every 1 frame(s)\n",
      "✅ Saved 337 frame(s) from 'id16_0008' to 'Celeb-DF/Real Frames\\id16_0008'\n",
      "\n",
      "🔄 Extracting from: id16_0009\n",
      "📈 FPS: 30.00 → Saving every 1 frame(s)\n",
      "✅ Saved 315 frame(s) from 'id16_0009' to 'Celeb-DF/Real Frames\\id16_0009'\n",
      "\n",
      "🔄 Extracting from: id16_0010\n",
      "📈 FPS: 30.00 → Saving every 1 frame(s)\n",
      "✅ Saved 325 frame(s) from 'id16_0010' to 'Celeb-DF/Real Frames\\id16_0010'\n",
      "\n",
      "🔄 Extracting from: id16_0011\n",
      "📈 FPS: 30.00 → Saving every 1 frame(s)\n",
      "✅ Saved 272 frame(s) from 'id16_0011' to 'Celeb-DF/Real Frames\\id16_0011'\n",
      "\n",
      "🔄 Extracting from: id16_0012\n",
      "📈 FPS: 30.00 → Saving every 1 frame(s)\n",
      "✅ Saved 308 frame(s) from 'id16_0012' to 'Celeb-DF/Real Frames\\id16_0012'\n",
      "\n",
      "🔄 Extracting from: id16_0013\n",
      "📈 FPS: 30.00 → Saving every 1 frame(s)\n",
      "✅ Saved 311 frame(s) from 'id16_0013' to 'Celeb-DF/Real Frames\\id16_0013'\n",
      "\n",
      "🔄 Extracting from: id17_0000\n",
      "📈 FPS: 30.00 → Saving every 1 frame(s)\n",
      "✅ Saved 305 frame(s) from 'id17_0000' to 'Celeb-DF/Real Frames\\id17_0000'\n",
      "\n",
      "🔄 Extracting from: id17_0001\n",
      "📈 FPS: 30.00 → Saving every 1 frame(s)\n",
      "✅ Saved 315 frame(s) from 'id17_0001' to 'Celeb-DF/Real Frames\\id17_0001'\n",
      "\n",
      "🔄 Extracting from: id17_0002\n",
      "📈 FPS: 30.00 → Saving every 1 frame(s)\n",
      "✅ Saved 334 frame(s) from 'id17_0002' to 'Celeb-DF/Real Frames\\id17_0002'\n",
      "\n",
      "🔄 Extracting from: id17_0003\n",
      "📈 FPS: 30.00 → Saving every 1 frame(s)\n",
      "✅ Saved 247 frame(s) from 'id17_0003' to 'Celeb-DF/Real Frames\\id17_0003'\n",
      "\n",
      "🔄 Extracting from: id17_0004\n",
      "📈 FPS: 30.00 → Saving every 1 frame(s)\n",
      "✅ Saved 306 frame(s) from 'id17_0004' to 'Celeb-DF/Real Frames\\id17_0004'\n",
      "\n",
      "🔄 Extracting from: id17_0005\n",
      "📈 FPS: 30.00 → Saving every 1 frame(s)\n",
      "✅ Saved 312 frame(s) from 'id17_0005' to 'Celeb-DF/Real Frames\\id17_0005'\n",
      "\n",
      "🔄 Extracting from: id17_0006\n",
      "📈 FPS: 30.00 → Saving every 1 frame(s)\n",
      "✅ Saved 201 frame(s) from 'id17_0006' to 'Celeb-DF/Real Frames\\id17_0006'\n",
      "\n",
      "🔄 Extracting from: id17_0007\n",
      "📈 FPS: 30.00 → Saving every 1 frame(s)\n",
      "✅ Saved 274 frame(s) from 'id17_0007' to 'Celeb-DF/Real Frames\\id17_0007'\n",
      "\n",
      "🔄 Extracting from: id17_0008\n",
      "📈 FPS: 30.00 → Saving every 1 frame(s)\n",
      "✅ Saved 269 frame(s) from 'id17_0008' to 'Celeb-DF/Real Frames\\id17_0008'\n",
      "\n",
      "🔄 Extracting from: id17_0009\n",
      "📈 FPS: 30.00 → Saving every 1 frame(s)\n",
      "✅ Saved 298 frame(s) from 'id17_0009' to 'Celeb-DF/Real Frames\\id17_0009'\n",
      "\n",
      "🔄 Extracting from: id1_0000\n",
      "📈 FPS: 30.00 → Saving every 1 frame(s)\n",
      "✅ Saved 371 frame(s) from 'id1_0000' to 'Celeb-DF/Real Frames\\id1_0000'\n",
      "\n",
      "🔄 Extracting from: id1_0001\n",
      "📈 FPS: 30.00 → Saving every 1 frame(s)\n",
      "✅ Saved 276 frame(s) from 'id1_0001' to 'Celeb-DF/Real Frames\\id1_0001'\n",
      "\n",
      "🔄 Extracting from: id1_0002\n",
      "📈 FPS: 30.00 → Saving every 1 frame(s)\n",
      "✅ Saved 400 frame(s) from 'id1_0002' to 'Celeb-DF/Real Frames\\id1_0002'\n",
      "\n",
      "🔄 Extracting from: id1_0003\n",
      "📈 FPS: 30.00 → Saving every 1 frame(s)\n",
      "✅ Saved 451 frame(s) from 'id1_0003' to 'Celeb-DF/Real Frames\\id1_0003'\n",
      "\n",
      "🔄 Extracting from: id1_0004\n",
      "📈 FPS: 30.00 → Saving every 1 frame(s)\n",
      "✅ Saved 409 frame(s) from 'id1_0004' to 'Celeb-DF/Real Frames\\id1_0004'\n",
      "\n",
      "🔄 Extracting from: id1_0005\n",
      "📈 FPS: 30.00 → Saving every 1 frame(s)\n",
      "✅ Saved 422 frame(s) from 'id1_0005' to 'Celeb-DF/Real Frames\\id1_0005'\n",
      "\n",
      "🔄 Extracting from: id1_0006\n",
      "📈 FPS: 30.00 → Saving every 1 frame(s)\n",
      "✅ Saved 505 frame(s) from 'id1_0006' to 'Celeb-DF/Real Frames\\id1_0006'\n",
      "\n",
      "🔄 Extracting from: id1_0007\n",
      "📈 FPS: 30.00 → Saving every 1 frame(s)\n",
      "✅ Saved 328 frame(s) from 'id1_0007' to 'Celeb-DF/Real Frames\\id1_0007'\n",
      "\n",
      "🔄 Extracting from: id1_0008\n",
      "📈 FPS: 30.00 → Saving every 1 frame(s)\n",
      "✅ Saved 519 frame(s) from 'id1_0008' to 'Celeb-DF/Real Frames\\id1_0008'\n",
      "\n",
      "🔄 Extracting from: id1_0009\n",
      "📈 FPS: 30.00 → Saving every 1 frame(s)\n",
      "✅ Saved 412 frame(s) from 'id1_0009' to 'Celeb-DF/Real Frames\\id1_0009'\n",
      "\n",
      "🔄 Extracting from: id2_0000\n",
      "📈 FPS: 30.00 → Saving every 1 frame(s)\n",
      "✅ Saved 445 frame(s) from 'id2_0000' to 'Celeb-DF/Real Frames\\id2_0000'\n",
      "\n",
      "🔄 Extracting from: id2_0001\n",
      "📈 FPS: 30.00 → Saving every 1 frame(s)\n",
      "✅ Saved 376 frame(s) from 'id2_0001' to 'Celeb-DF/Real Frames\\id2_0001'\n",
      "\n",
      "🔄 Extracting from: id2_0002\n",
      "📈 FPS: 30.00 → Saving every 1 frame(s)\n",
      "✅ Saved 361 frame(s) from 'id2_0002' to 'Celeb-DF/Real Frames\\id2_0002'\n",
      "\n",
      "🔄 Extracting from: id2_0003\n",
      "📈 FPS: 30.00 → Saving every 1 frame(s)\n",
      "✅ Saved 383 frame(s) from 'id2_0003' to 'Celeb-DF/Real Frames\\id2_0003'\n",
      "\n",
      "🔄 Extracting from: id2_0004\n",
      "📈 FPS: 30.00 → Saving every 1 frame(s)\n",
      "✅ Saved 425 frame(s) from 'id2_0004' to 'Celeb-DF/Real Frames\\id2_0004'\n",
      "\n",
      "🔄 Extracting from: id2_0005\n",
      "📈 FPS: 30.00 → Saving every 1 frame(s)\n",
      "✅ Saved 307 frame(s) from 'id2_0005' to 'Celeb-DF/Real Frames\\id2_0005'\n",
      "\n",
      "🔄 Extracting from: id2_0006\n",
      "📈 FPS: 30.00 → Saving every 1 frame(s)\n",
      "✅ Saved 380 frame(s) from 'id2_0006' to 'Celeb-DF/Real Frames\\id2_0006'\n",
      "\n",
      "🔄 Extracting from: id2_0007\n",
      "📈 FPS: 30.00 → Saving every 1 frame(s)\n",
      "✅ Saved 470 frame(s) from 'id2_0007' to 'Celeb-DF/Real Frames\\id2_0007'\n",
      "\n",
      "🔄 Extracting from: id2_0008\n",
      "📈 FPS: 30.00 → Saving every 1 frame(s)\n",
      "✅ Saved 516 frame(s) from 'id2_0008' to 'Celeb-DF/Real Frames\\id2_0008'\n",
      "\n",
      "🔄 Extracting from: id2_0009\n",
      "📈 FPS: 30.00 → Saving every 1 frame(s)\n",
      "✅ Saved 322 frame(s) from 'id2_0009' to 'Celeb-DF/Real Frames\\id2_0009'\n",
      "\n",
      "🔄 Extracting from: id3_0000\n",
      "📈 FPS: 30.00 → Saving every 1 frame(s)\n",
      "✅ Saved 458 frame(s) from 'id3_0000' to 'Celeb-DF/Real Frames\\id3_0000'\n",
      "\n",
      "🔄 Extracting from: id3_0001\n",
      "📈 FPS: 30.00 → Saving every 1 frame(s)\n",
      "✅ Saved 380 frame(s) from 'id3_0001' to 'Celeb-DF/Real Frames\\id3_0001'\n",
      "\n",
      "🔄 Extracting from: id3_0002\n",
      "📈 FPS: 30.00 → Saving every 1 frame(s)\n",
      "✅ Saved 428 frame(s) from 'id3_0002' to 'Celeb-DF/Real Frames\\id3_0002'\n",
      "\n",
      "🔄 Extracting from: id3_0003\n",
      "📈 FPS: 30.00 → Saving every 1 frame(s)\n",
      "✅ Saved 372 frame(s) from 'id3_0003' to 'Celeb-DF/Real Frames\\id3_0003'\n",
      "\n",
      "🔄 Extracting from: id3_0004\n",
      "📈 FPS: 30.00 → Saving every 1 frame(s)\n",
      "✅ Saved 499 frame(s) from 'id3_0004' to 'Celeb-DF/Real Frames\\id3_0004'\n",
      "\n",
      "🔄 Extracting from: id3_0005\n",
      "📈 FPS: 30.00 → Saving every 1 frame(s)\n",
      "✅ Saved 398 frame(s) from 'id3_0005' to 'Celeb-DF/Real Frames\\id3_0005'\n",
      "\n",
      "🔄 Extracting from: id3_0006\n",
      "📈 FPS: 30.00 → Saving every 1 frame(s)\n",
      "✅ Saved 409 frame(s) from 'id3_0006' to 'Celeb-DF/Real Frames\\id3_0006'\n",
      "\n",
      "🔄 Extracting from: id3_0007\n",
      "📈 FPS: 30.00 → Saving every 1 frame(s)\n",
      "✅ Saved 361 frame(s) from 'id3_0007' to 'Celeb-DF/Real Frames\\id3_0007'\n",
      "\n",
      "🔄 Extracting from: id3_0008\n",
      "📈 FPS: 30.00 → Saving every 1 frame(s)\n",
      "✅ Saved 458 frame(s) from 'id3_0008' to 'Celeb-DF/Real Frames\\id3_0008'\n",
      "\n",
      "🔄 Extracting from: id3_0009\n",
      "📈 FPS: 30.00 → Saving every 1 frame(s)\n",
      "✅ Saved 497 frame(s) from 'id3_0009' to 'Celeb-DF/Real Frames\\id3_0009'\n",
      "\n",
      "🔄 Extracting from: id4_0000\n",
      "📈 FPS: 30.00 → Saving every 1 frame(s)\n",
      "✅ Saved 477 frame(s) from 'id4_0000' to 'Celeb-DF/Real Frames\\id4_0000'\n",
      "\n",
      "🔄 Extracting from: id4_0001\n",
      "📈 FPS: 30.00 → Saving every 1 frame(s)\n",
      "✅ Saved 459 frame(s) from 'id4_0001' to 'Celeb-DF/Real Frames\\id4_0001'\n",
      "\n",
      "🔄 Extracting from: id4_0002\n",
      "📈 FPS: 30.00 → Saving every 1 frame(s)\n",
      "✅ Saved 491 frame(s) from 'id4_0002' to 'Celeb-DF/Real Frames\\id4_0002'\n",
      "\n",
      "🔄 Extracting from: id4_0003\n",
      "📈 FPS: 30.00 → Saving every 1 frame(s)\n",
      "✅ Saved 444 frame(s) from 'id4_0003' to 'Celeb-DF/Real Frames\\id4_0003'\n",
      "\n",
      "🔄 Extracting from: id4_0004\n",
      "📈 FPS: 30.00 → Saving every 1 frame(s)\n",
      "✅ Saved 439 frame(s) from 'id4_0004' to 'Celeb-DF/Real Frames\\id4_0004'\n",
      "\n",
      "🔄 Extracting from: id4_0005\n",
      "📈 FPS: 30.00 → Saving every 1 frame(s)\n",
      "✅ Saved 467 frame(s) from 'id4_0005' to 'Celeb-DF/Real Frames\\id4_0005'\n",
      "\n",
      "🔄 Extracting from: id4_0006\n",
      "📈 FPS: 30.00 → Saving every 1 frame(s)\n",
      "✅ Saved 304 frame(s) from 'id4_0006' to 'Celeb-DF/Real Frames\\id4_0006'\n",
      "\n",
      "🔄 Extracting from: id4_0007\n",
      "📈 FPS: 30.00 → Saving every 1 frame(s)\n",
      "✅ Saved 446 frame(s) from 'id4_0007' to 'Celeb-DF/Real Frames\\id4_0007'\n",
      "\n",
      "🔄 Extracting from: id4_0008\n",
      "📈 FPS: 30.00 → Saving every 1 frame(s)\n",
      "✅ Saved 326 frame(s) from 'id4_0008' to 'Celeb-DF/Real Frames\\id4_0008'\n",
      "\n",
      "🔄 Extracting from: id4_0009\n",
      "📈 FPS: 30.00 → Saving every 1 frame(s)\n",
      "✅ Saved 483 frame(s) from 'id4_0009' to 'Celeb-DF/Real Frames\\id4_0009'\n",
      "\n",
      "🔄 Extracting from: id6_0000\n",
      "📈 FPS: 30.00 → Saving every 1 frame(s)\n",
      "✅ Saved 630 frame(s) from 'id6_0000' to 'Celeb-DF/Real Frames\\id6_0000'\n",
      "\n",
      "🔄 Extracting from: id6_0001\n",
      "📈 FPS: 30.00 → Saving every 1 frame(s)\n",
      "✅ Saved 323 frame(s) from 'id6_0001' to 'Celeb-DF/Real Frames\\id6_0001'\n",
      "\n",
      "🔄 Extracting from: id6_0002\n",
      "📈 FPS: 30.00 → Saving every 1 frame(s)\n",
      "✅ Saved 611 frame(s) from 'id6_0002' to 'Celeb-DF/Real Frames\\id6_0002'\n",
      "\n",
      "🔄 Extracting from: id6_0003\n",
      "📈 FPS: 30.00 → Saving every 1 frame(s)\n",
      "✅ Saved 372 frame(s) from 'id6_0003' to 'Celeb-DF/Real Frames\\id6_0003'\n",
      "\n",
      "🔄 Extracting from: id6_0004\n",
      "📈 FPS: 30.00 → Saving every 1 frame(s)\n",
      "✅ Saved 458 frame(s) from 'id6_0004' to 'Celeb-DF/Real Frames\\id6_0004'\n",
      "\n",
      "🔄 Extracting from: id6_0005\n",
      "📈 FPS: 30.00 → Saving every 1 frame(s)\n",
      "✅ Saved 372 frame(s) from 'id6_0005' to 'Celeb-DF/Real Frames\\id6_0005'\n",
      "\n",
      "🔄 Extracting from: id6_0006\n",
      "📈 FPS: 30.00 → Saving every 1 frame(s)\n",
      "✅ Saved 294 frame(s) from 'id6_0006' to 'Celeb-DF/Real Frames\\id6_0006'\n",
      "\n",
      "🔄 Extracting from: id6_0007\n",
      "📈 FPS: 30.00 → Saving every 1 frame(s)\n",
      "✅ Saved 557 frame(s) from 'id6_0007' to 'Celeb-DF/Real Frames\\id6_0007'\n",
      "\n",
      "🔄 Extracting from: id6_0008\n",
      "📈 FPS: 30.00 → Saving every 1 frame(s)\n",
      "✅ Saved 381 frame(s) from 'id6_0008' to 'Celeb-DF/Real Frames\\id6_0008'\n",
      "\n",
      "🔄 Extracting from: id6_0009\n",
      "📈 FPS: 30.00 → Saving every 1 frame(s)\n",
      "✅ Saved 530 frame(s) from 'id6_0009' to 'Celeb-DF/Real Frames\\id6_0009'\n",
      "\n",
      "🔄 Extracting from: id7_0000\n",
      "📈 FPS: 30.00 → Saving every 1 frame(s)\n",
      "✅ Saved 280 frame(s) from 'id7_0000' to 'Celeb-DF/Real Frames\\id7_0000'\n",
      "\n",
      "🔄 Extracting from: id7_0001\n",
      "📈 FPS: 30.00 → Saving every 1 frame(s)\n",
      "✅ Saved 295 frame(s) from 'id7_0001' to 'Celeb-DF/Real Frames\\id7_0001'\n",
      "\n",
      "🔄 Extracting from: id7_0002\n",
      "📈 FPS: 30.00 → Saving every 1 frame(s)\n",
      "✅ Saved 270 frame(s) from 'id7_0002' to 'Celeb-DF/Real Frames\\id7_0002'\n",
      "\n",
      "🔄 Extracting from: id7_0003\n",
      "📈 FPS: 30.00 → Saving every 1 frame(s)\n",
      "✅ Saved 555 frame(s) from 'id7_0003' to 'Celeb-DF/Real Frames\\id7_0003'\n",
      "\n",
      "🔄 Extracting from: id7_0004\n",
      "📈 FPS: 30.00 → Saving every 1 frame(s)\n",
      "✅ Saved 740 frame(s) from 'id7_0004' to 'Celeb-DF/Real Frames\\id7_0004'\n",
      "\n",
      "🔄 Extracting from: id7_0005\n",
      "📈 FPS: 30.00 → Saving every 1 frame(s)\n",
      "✅ Saved 161 frame(s) from 'id7_0005' to 'Celeb-DF/Real Frames\\id7_0005'\n",
      "\n",
      "🔄 Extracting from: id7_0006\n",
      "📈 FPS: 30.00 → Saving every 1 frame(s)\n",
      "✅ Saved 214 frame(s) from 'id7_0006' to 'Celeb-DF/Real Frames\\id7_0006'\n",
      "\n",
      "🔄 Extracting from: id7_0007\n",
      "📈 FPS: 30.00 → Saving every 1 frame(s)\n",
      "✅ Saved 415 frame(s) from 'id7_0007' to 'Celeb-DF/Real Frames\\id7_0007'\n",
      "\n",
      "🔄 Extracting from: id7_0008\n",
      "📈 FPS: 30.00 → Saving every 1 frame(s)\n",
      "✅ Saved 291 frame(s) from 'id7_0008' to 'Celeb-DF/Real Frames\\id7_0008'\n",
      "\n",
      "🔄 Extracting from: id7_0009\n",
      "📈 FPS: 30.00 → Saving every 1 frame(s)\n",
      "✅ Saved 458 frame(s) from 'id7_0009' to 'Celeb-DF/Real Frames\\id7_0009'\n",
      "\n",
      "🔄 Extracting from: id8_0000\n",
      "📈 FPS: 30.00 → Saving every 1 frame(s)\n",
      "✅ Saved 477 frame(s) from 'id8_0000' to 'Celeb-DF/Real Frames\\id8_0000'\n",
      "\n",
      "🔄 Extracting from: id8_0001\n",
      "📈 FPS: 30.00 → Saving every 1 frame(s)\n",
      "✅ Saved 457 frame(s) from 'id8_0001' to 'Celeb-DF/Real Frames\\id8_0001'\n",
      "\n",
      "🔄 Extracting from: id8_0002\n",
      "📈 FPS: 30.00 → Saving every 1 frame(s)\n",
      "✅ Saved 525 frame(s) from 'id8_0002' to 'Celeb-DF/Real Frames\\id8_0002'\n",
      "\n",
      "🔄 Extracting from: id8_0003\n",
      "📈 FPS: 30.00 → Saving every 1 frame(s)\n",
      "✅ Saved 401 frame(s) from 'id8_0003' to 'Celeb-DF/Real Frames\\id8_0003'\n",
      "\n",
      "🔄 Extracting from: id8_0004\n",
      "📈 FPS: 30.00 → Saving every 1 frame(s)\n",
      "✅ Saved 566 frame(s) from 'id8_0004' to 'Celeb-DF/Real Frames\\id8_0004'\n",
      "\n",
      "🔄 Extracting from: id8_0005\n",
      "📈 FPS: 30.00 → Saving every 1 frame(s)\n",
      "✅ Saved 215 frame(s) from 'id8_0005' to 'Celeb-DF/Real Frames\\id8_0005'\n",
      "\n",
      "🔄 Extracting from: id8_0006\n",
      "📈 FPS: 30.00 → Saving every 1 frame(s)\n",
      "✅ Saved 514 frame(s) from 'id8_0006' to 'Celeb-DF/Real Frames\\id8_0006'\n",
      "\n",
      "🔄 Extracting from: id8_0007\n",
      "📈 FPS: 30.00 → Saving every 1 frame(s)\n",
      "✅ Saved 387 frame(s) from 'id8_0007' to 'Celeb-DF/Real Frames\\id8_0007'\n",
      "\n",
      "🔄 Extracting from: id8_0008\n",
      "📈 FPS: 30.00 → Saving every 1 frame(s)\n",
      "✅ Saved 570 frame(s) from 'id8_0008' to 'Celeb-DF/Real Frames\\id8_0008'\n",
      "\n",
      "🔄 Extracting from: id8_0009\n",
      "📈 FPS: 30.00 → Saving every 1 frame(s)\n",
      "✅ Saved 378 frame(s) from 'id8_0009' to 'Celeb-DF/Real Frames\\id8_0009'\n",
      "\n",
      "🔄 Extracting from: id9_0000\n",
      "📈 FPS: 30.00 → Saving every 1 frame(s)\n",
      "✅ Saved 448 frame(s) from 'id9_0000' to 'Celeb-DF/Real Frames\\id9_0000'\n",
      "\n",
      "🔄 Extracting from: id9_0001\n",
      "📈 FPS: 30.00 → Saving every 1 frame(s)\n",
      "✅ Saved 437 frame(s) from 'id9_0001' to 'Celeb-DF/Real Frames\\id9_0001'\n",
      "\n",
      "🔄 Extracting from: id9_0002\n",
      "📈 FPS: 30.00 → Saving every 1 frame(s)\n",
      "✅ Saved 364 frame(s) from 'id9_0002' to 'Celeb-DF/Real Frames\\id9_0002'\n",
      "\n",
      "🔄 Extracting from: id9_0003\n",
      "📈 FPS: 30.00 → Saving every 1 frame(s)\n",
      "✅ Saved 492 frame(s) from 'id9_0003' to 'Celeb-DF/Real Frames\\id9_0003'\n",
      "\n",
      "🔄 Extracting from: id9_0004\n",
      "📈 FPS: 30.00 → Saving every 1 frame(s)\n",
      "✅ Saved 362 frame(s) from 'id9_0004' to 'Celeb-DF/Real Frames\\id9_0004'\n",
      "\n",
      "🔄 Extracting from: id9_0005\n",
      "📈 FPS: 30.00 → Saving every 1 frame(s)\n",
      "✅ Saved 420 frame(s) from 'id9_0005' to 'Celeb-DF/Real Frames\\id9_0005'\n",
      "\n",
      "🔄 Extracting from: id9_0006\n",
      "📈 FPS: 30.00 → Saving every 1 frame(s)\n",
      "✅ Saved 401 frame(s) from 'id9_0006' to 'Celeb-DF/Real Frames\\id9_0006'\n",
      "\n",
      "🔄 Extracting from: id9_0007\n",
      "📈 FPS: 30.00 → Saving every 1 frame(s)\n",
      "✅ Saved 456 frame(s) from 'id9_0007' to 'Celeb-DF/Real Frames\\id9_0007'\n",
      "\n",
      "🔄 Extracting from: id9_0008\n",
      "📈 FPS: 30.00 → Saving every 1 frame(s)\n",
      "✅ Saved 461 frame(s) from 'id9_0008' to 'Celeb-DF/Real Frames\\id9_0008'\n",
      "\n",
      "🔄 Extracting from: id9_0009\n",
      "📈 FPS: 30.00 → Saving every 1 frame(s)\n",
      "✅ Saved 314 frame(s) from 'id9_0009' to 'Celeb-DF/Real Frames\\id9_0009'\n",
      "\n",
      "✅ All frames extracted successfully!\n"
     ]
    }
   ],
   "source": [
    "import os\n",
    "import cv2\n",
    "import glob\n",
    "\n",
    "# ========== CONFIGURATION ==========\n",
    "\n",
    "# Input video folders\n",
    "real_video_path = r'Celeb-DF/Real/Celeb-real'\n",
    "\n",
    "\n",
    "# Output frame folders\n",
    "real_frame_path = r'Celeb-DF/Real Frames'\n",
    "\n",
    "\n",
    "# Frame extraction settings\n",
    "target_fps = 35\n",
    "resize_dims = (256, 256)\n",
    "valid_extensions = {'.mp4', '.avi', '.mov'}\n",
    "\n",
    "# ========== FUNCTION TO COUNT UNIQUE VIDEOS ==========\n",
    "\n",
    "def count_unique_videos(folder_path):\n",
    "    if not os.path.exists(folder_path):\n",
    "        print(f\"❌ Folder not found: {folder_path}\")\n",
    "        return 0, []\n",
    "\n",
    "    video_files = set()\n",
    "    for file in os.listdir(folder_path):\n",
    "        if os.path.isfile(os.path.join(folder_path, file)):\n",
    "            ext = os.path.splitext(file)[1].lower()\n",
    "            if ext in valid_extensions:\n",
    "                video_files.add(file)\n",
    "\n",
    "    return len(video_files), sorted(video_files)\n",
    "\n",
    "# ========== FUNCTION TO EXTRACT FRAMES ==========\n",
    "\n",
    "def extract_frames_from_videos(video_folder, output_root, label):\n",
    "    print(f\"\\n📁 Processing {label} videos from: {video_folder}\")\n",
    "    os.makedirs(output_root, exist_ok=True)\n",
    "\n",
    "    video_paths = []\n",
    "    for ext in valid_extensions:\n",
    "        video_paths.extend(glob.glob(os.path.join(video_folder, f'*{ext}')))\n",
    "        video_paths.extend(glob.glob(os.path.join(video_folder, f'*{ext.upper()}')))  # for .MP4 etc.\n",
    "\n",
    "    video_paths = sorted(set(video_paths))  # remove duplicates\n",
    "    print(f\"🎬 Found {len(video_paths)} unique {label.lower()} video(s).\")\n",
    "\n",
    "    for video_path in video_paths:\n",
    "        video_name = os.path.splitext(os.path.basename(video_path))[0]\n",
    "        output_dir = os.path.join(output_root, video_name)\n",
    "        os.makedirs(output_dir, exist_ok=True)\n",
    "\n",
    "        print(f\"\\n🔄 Extracting from: {video_name}\")\n",
    "        cap = cv2.VideoCapture(video_path)\n",
    "\n",
    "        if not cap.isOpened():\n",
    "            print(f\"❌ Cannot open video: {video_path}\")\n",
    "            continue\n",
    "\n",
    "        original_fps = cap.get(cv2.CAP_PROP_FPS)\n",
    "        if not original_fps or original_fps < 1:\n",
    "            print(f\"⚠️ Invalid FPS detected, using default 30.\")\n",
    "            original_fps = 30\n",
    "\n",
    "        frame_interval = max(1, int(original_fps / target_fps))\n",
    "        print(f\"📈 FPS: {original_fps:.2f} → Saving every {frame_interval} frame(s)\")\n",
    "\n",
    "        frame_count = 0\n",
    "        saved_count = 0\n",
    "\n",
    "        while True:\n",
    "            ret, frame = cap.read()\n",
    "            if not ret:\n",
    "                break\n",
    "\n",
    "            if frame_count % frame_interval == 0:\n",
    "                frame = cv2.resize(frame, resize_dims)\n",
    "                frame_filename = os.path.join(output_dir, f\"{video_name}_frame_{saved_count:05d}.jpg\")\n",
    "                cv2.imwrite(frame_filename, frame)\n",
    "                saved_count += 1\n",
    "\n",
    "            frame_count += 1\n",
    "\n",
    "        cap.release()\n",
    "        print(f\"✅ Saved {saved_count} frame(s) from '{video_name}' to '{output_dir}'\")\n",
    "\n",
    "# ========== MAIN EXECUTION ==========\n",
    "\n",
    "# Step 1: Count and display video totals\n",
    "real_count, real_videos = count_unique_videos(real_video_path)\n",
    "\n",
    "print(f\"\\n📊 Summary:\")\n",
    "print(f\"🎬 Real videos: {real_count}\")\n",
    "\n",
    "# Step 2: Extract frames\n",
    "extract_frames_from_videos(real_video_path, real_frame_path, label=\"Real\")\n",
    "\n",
    "print(\"\\n✅ All frames extracted successfully!\")\n"
   ]
  },
  {
   "cell_type": "code",
   "execution_count": null,
   "id": "74c6a621",
   "metadata": {},
   "outputs": [],
   "source": [
    "csv_summary_path = r'D:\\DETECTION 1.0\\Celeb-DF\\video_frame_summary.csv'"
   ]
  },
  {
   "cell_type": "code",
   "execution_count": null,
   "id": "6f59d266",
   "metadata": {},
   "outputs": [
    {
     "name": "stdout",
     "output_type": "stream",
     "text": [
      "🧮 Frame Extraction Summary\n",
      "🟩 Real frames: 175289\n",
      "🟥 Fake frames: 172315\n",
      "📊 Total frames: 347604\n"
     ]
    }
   ],
   "source": [
    "import os\n",
    "\n",
    "# ========== Folder Paths ==========\n",
    "real_frame_path = r'D:\\DETECTION 1.0\\Celeb-DF\\Real Frames'\n",
    "fake_frame_path = r'D:\\DETECTION 1.0\\Celeb-DF\\Fake Frames'\n",
    "\n",
    "def count_image_frames(folder_path, image_ext='.jpg'):\n",
    "    count = 0\n",
    "    for root, dirs, files in os.walk(folder_path):\n",
    "        count += sum(1 for file in files if file.lower().endswith(image_ext))\n",
    "    return count\n",
    "\n",
    "# ========== Count Frames ==========\n",
    "real_frames = count_image_frames(real_frame_path)\n",
    "fake_frames = count_image_frames(fake_frame_path)\n",
    "\n",
    "# ========== Print Summary ==========\n",
    "print(\"🧮 Frame Extraction Summary\")\n",
    "print(f\"🟩 Real frames: {real_frames}\")\n",
    "print(f\"🟥 Fake frames: {fake_frames}\")\n",
    "print(f\"📊 Total frames: {real_frames + fake_frames}\")\n"
   ]
  },
  {
   "cell_type": "code",
   "execution_count": null,
   "id": "65df722b",
   "metadata": {},
   "outputs": [
    {
     "name": "stdout",
     "output_type": "stream",
     "text": [
      "📂 Processing Real Frames...\n",
      "📂 Processing Fake Frames...\n",
      "✅ Done: All facial zones extracted and saved.\n"
     ]
    }
   ],
   "source": [
    "import os\n",
    "import cv2\n",
    "import mediapipe as mp\n",
    "import numpy as np\n",
    "\n",
    "# ========= CONFIG =========\n",
    "real_frame_dir = r'D:\\DETECTION 1.0\\Celeb-DF\\Real Frames'\n",
    "fake_frame_dir = r'D:\\DETECTION 1.0\\Celeb-DF\\Fake Frames'\n",
    "real_output_root = r'D:\\DETECTION 1.0\\Celeb-DF\\Real Frame Face Segmentation'\n",
    "fake_output_root = r'D:\\DETECTION 1.0\\Celeb-DF\\Fake Face Segmentation'\n",
    "\n",
    "zone_names = ['eyes_left', 'eyes_right', 'brows_left', 'brows_right',\n",
    "              'cheeks_left', 'cheeks_right', 'nose', 'mouth', 'jaw']\n",
    "\n",
    "# Create output directories\n",
    "for base in [real_output_root, fake_output_root]:\n",
    "    for zone in zone_names:\n",
    "        os.makedirs(os.path.join(base, zone), exist_ok=True)\n",
    "\n",
    "# ========= MediaPipe Setup =========\n",
    "mp_face_mesh = mp.solutions.face_mesh\n",
    "face_mesh = mp_face_mesh.FaceMesh(static_image_mode=True, refine_landmarks=True)\n",
    "\n",
    "# ========= Landmark Groups =========\n",
    "landmark_indices = {\n",
    "    'eyes_left': [33, 133],\n",
    "    'eyes_right': [362, 263],\n",
    "    'brows_left': [70, 105],\n",
    "    'brows_right': [336, 276],\n",
    "    'cheeks_left': [50, 205],\n",
    "    'cheeks_right': [280, 425],\n",
    "    'nose': [1, 2, 98, 168],\n",
    "    'mouth': [61, 291],\n",
    "    'jaw': [103, 330]\n",
    "}\n",
    "\n",
    "# ========= Crop Function =========\n",
    "def crop_zone(image, landmarks, indices, padding=10):\n",
    "    h, w = image.shape[:2]\n",
    "    points = np.array([[int(landmarks[i].x * w), int(landmarks[i].y * h)] for i in indices])\n",
    "    x, y, w_box, h_box = cv2.boundingRect(points)\n",
    "    x, y = max(x-padding, 0), max(y-padding, 0)\n",
    "    x2, y2 = min(x+w_box+padding, image.shape[1]), min(y+h_box+padding, image.shape[0])\n",
    "    return image[y:y2, x:x2]\n",
    "\n",
    "# ========= Process Function =========\n",
    "def process_frames(frame_dir, output_root):\n",
    "    for root, _, files in os.walk(frame_dir):\n",
    "        files = sorted(files, key=lambda f: int(''.join(filter(str.isdigit, f)) or 0))\n",
    "\n",
    "        for file in files:\n",
    "            if not file.lower().endswith(('.jpg', '.jpeg', '.png')):\n",
    "                continue\n",
    "\n",
    "            img_path = os.path.join(root, file)\n",
    "            image = cv2.imread(img_path)\n",
    "            if image is None:\n",
    "                continue\n",
    "\n",
    "            rgb = cv2.cvtColor(image, cv2.COLOR_BGR2RGB)\n",
    "            results = face_mesh.process(rgb)\n",
    "\n",
    "            if not results.multi_face_landmarks:\n",
    "                continue\n",
    "\n",
    "            landmarks = results.multi_face_landmarks[0].landmark\n",
    "\n",
    "            for zone, indices in landmark_indices.items():\n",
    "                crop = crop_zone(image, landmarks, indices)\n",
    "                out_path = os.path.join(output_root, zone, file)\n",
    "                cv2.imwrite(out_path, crop)\n",
    "\n",
    "# ========= Run on Real and Fake =========\n",
    "print(\"📂 Processing Real Frames...\")\n",
    "process_frames(real_frame_dir, real_output_root)\n",
    "\n",
    "print(\"📂 Processing Fake Frames...\")\n",
    "process_frames(fake_frame_dir, fake_output_root)\n",
    "\n",
    "print(\"✅ Done: All facial zones extracted and saved.\")\n"
   ]
  },
  {
   "cell_type": "code",
   "execution_count": null,
   "id": "179d8a52",
   "metadata": {},
   "outputs": [],
   "source": [
    "import cv2\n",
    "import os\n",
    "import mediapipe as mp\n",
    "import csv\n",
    "\n",
    "# ========== CONFIG ==========\n",
    "real_frame_path = r'Real Frames'              # Input frames\n",
    "output_path = r'Real Frame Landmark'        # Annotated output\n",
    "summary_csv = 'landmark_summary.csv'                   # Output CSV summary\n",
    "os.makedirs(output_path, exist_ok=True)\n",
    "\n",
    "# ========== MediaPipe Setup ==========\n",
    "mp_face_mesh = mp.solutions.face_mesh\n",
    "face_mesh = mp_face_mesh.FaceMesh(static_image_mode=True, refine_landmarks=True)\n",
    "\n",
    "# ========== Landmark Subset ==========\n",
    "selected_indices = {\n",
    "    \"eyes\": [33, 133, 362, 263],\n",
    "    \"nose\": [1, 2, 98, 168],\n",
    "    \"lips\": [61, 291]\n",
    "}\n",
    "all_indices = [i for region in selected_indices.values() for i in region]\n",
    "\n",
    "# ========== Open CSV for writing ==========\n",
    "summary_data = [(\"Folder\", \"Frame\", \"Landmarks Detected\")]\n",
    "\n",
    "# ========== Walk through folders and process ==========\n",
    "for root, _, files in os.walk(real_frame_path):\n",
    "    # Sort filenames numerically (e.g., frame_00000.jpg)\n",
    "    sorted_files = sorted(files, key=lambda f: int(''.join(filter(str.isdigit, f)) or 0))\n",
    "\n",
    "    for file in sorted_files:\n",
    "        if not file.lower().endswith(('.jpg', '.jpeg', '.png')):\n",
    "            continue\n",
    "\n",
    "        img_path = os.path.join(root, file)\n",
    "        image = cv2.imread(img_path)\n",
    "        if image is None:\n",
    "            continue\n",
    "\n",
    "        h, w = image.shape[:2]\n",
    "        rgb = cv2.cvtColor(image, cv2.COLOR_BGR2RGB)\n",
    "        results = face_mesh.process(rgb)\n",
    "\n",
    "        landmark_count = 0\n",
    "        if results.multi_face_landmarks:\n",
    "            landmarks = results.multi_face_landmarks[0].landmark\n",
    "\n",
    "            for idx in all_indices:\n",
    "                lm = landmarks[idx]\n",
    "                x, y = int(lm.x * w), int(lm.y * h)\n",
    "                cv2.circle(image, (x, y), 2, (0, 255, 0), -1)\n",
    "                cv2.putText(image, str(idx), (x + 5, y - 5),\n",
    "                            cv2.FONT_HERSHEY_SIMPLEX, 0.45, (0, 0, 255), 1)\n",
    "                landmark_count += 1\n",
    "\n",
    "        # Save image to output directory with same substructure\n",
    "        rel_path = os.path.relpath(img_path, real_frame_path)\n",
    "        save_path = os.path.join(output_path, rel_path)\n",
    "        os.makedirs(os.path.dirname(save_path), exist_ok=True)\n",
    "        cv2.imwrite(save_path, image)\n",
    "\n",
    "        # Add to CSV summary\n",
    "        subfolder = os.path.basename(os.path.dirname(img_path))\n",
    "        summary_data.append((subfolder, file, landmark_count))\n",
    "\n",
    "# ========== Write Summary CSV ==========\n",
    "with open(summary_csv, mode='w', newline='') as f:\n",
    "    writer = csv.writer(f)\n",
    "    writer.writerows(summary_data)\n",
    "\n",
    "print(f\"✅ All frames processed in order, saved to: {output_path}\")\n",
    "print(f\"📄 Landmark summary CSV saved to: {summary_csv}\")\n"
   ]
  },
  {
   "cell_type": "code",
   "execution_count": null,
   "id": "c498823a",
   "metadata": {},
   "outputs": [
    {
     "name": "stderr",
     "output_type": "stream",
     "text": [
      "c:\\Users\\ACER\\anaconda3\\envs\\torch_env\\lib\\site-packages\\tqdm\\auto.py:21: TqdmWarning: IProgress not found. Please update jupyter and ipywidgets. See https://ipywidgets.readthedocs.io/en/stable/user_install.html\n",
      "  from .autonotebook import tqdm as notebook_tqdm\n"
     ]
    },
    {
     "name": "stdout",
     "output_type": "stream",
     "text": [
      "11.1\n"
     ]
    }
   ],
   "source": [
    "import torch\n",
    "print(torch.version.cuda)\n"
   ]
  },
  {
   "cell_type": "code",
   "execution_count": null,
   "id": "0e80822a",
   "metadata": {},
   "outputs": [
    {
     "name": "stdout",
     "output_type": "stream",
     "text": [
      "1.9.1+cu111\n"
     ]
    }
   ],
   "source": [
    "import torch\n",
    "print(torch.__version__)\n"
   ]
  },
  {
   "cell_type": "code",
   "execution_count": null,
   "id": "1e9234d3",
   "metadata": {},
   "outputs": [
    {
     "name": "stdout",
     "output_type": "stream",
     "text": [
      "PyTorch Version: 1.9.1+cu111\n",
      "CUDA Available: True\n",
      "CUDA Version: 11.1\n",
      "Device Name: NVIDIA GeForce RTX 4050 Laptop GPU\n"
     ]
    }
   ],
   "source": [
    "import torch\n",
    "\n",
    "print(f\"PyTorch Version: {torch.__version__}\")\n",
    "print(f\"CUDA Available: {torch.cuda.is_available()}\")\n",
    "\n",
    "if torch.cuda.is_available():\n",
    "    print(f\"CUDA Version: {torch.version.cuda}\")\n",
    "    print(f\"Device Name: {torch.cuda.get_device_name(0)}\")\n"
   ]
  },
  {
   "cell_type": "code",
   "execution_count": null,
   "id": "9ce49e2f",
   "metadata": {},
   "outputs": [],
   "source": [
    "import os\n",
    "import pandas as pd"
   ]
  },
  {
   "cell_type": "code",
   "execution_count": null,
   "id": "6972e198",
   "metadata": {},
   "outputs": [],
   "source": [
    "# Paths\n",
    "real_frame_path = r'D:\\DETECTION 1.0\\Celeb-DF\\Real Frames'\n",
    "fake_frame_path = r'D:\\DETECTION 1.0\\Celeb-DF\\Fake Frames'\n",
    "\n",
    "# To store image paths and labels\n",
    "dataset=[]"
   ]
  },
  {
   "cell_type": "code",
   "execution_count": null,
   "id": "ca2e90a9",
   "metadata": {},
   "outputs": [
    {
     "name": "stdout",
     "output_type": "stream",
     "text": [
      "[✓] CSV file saved at: D:\\DETECTION 1.0\\Celeb-DF\\frame_labels.csv\n",
      "Total Real Frames: 175289 | Total Fake Frames: 172315 | Total: 347604\n"
     ]
    }
   ],
   "source": [
    "import os\n",
    "import csv\n",
    "\n",
    "# Define paths\n",
    "real_frame_path = r'D:\\DETECTION 1.0\\Celeb-DF\\Real Frames'\n",
    "fake_frame_path = r'D:\\DETECTION 1.0\\Celeb-DF\\Fake Frames'\n",
    "output_csv_path = r'D:\\DETECTION 1.0\\Celeb-DF\\frame_labels.csv'  # Output CSV\n",
    "\n",
    "# Allowed image extensions\n",
    "valid_extensions = ('.jpg', '.jpeg', '.png')\n",
    "\n",
    "# Function to collect image paths and labels\n",
    "def collect_data(image_dir, label):\n",
    "    data = []\n",
    "    for root, _, files in os.walk(image_dir):\n",
    "        for file in files:\n",
    "            if file.lower().endswith(valid_extensions):\n",
    "                full_path = os.path.join(root, file)\n",
    "                data.append([full_path, label])\n",
    "    return data\n",
    "\n",
    "# Collect real and fake frame data\n",
    "real_data = collect_data(real_frame_path, 0)\n",
    "fake_data = collect_data(fake_frame_path, 1)\n",
    "\n",
    "# Combine and save to CSV\n",
    "all_data = real_data + fake_data\n",
    "\n",
    "# Sort for consistency (optional)\n",
    "all_data.sort()\n",
    "\n",
    "# Write CSV\n",
    "with open(output_csv_path, mode='w', newline='', encoding='utf-8') as file:\n",
    "    writer = csv.writer(file)\n",
    "    writer.writerow(['filepath', 'label'])  # Header\n",
    "    writer.writerows(all_data)\n",
    "\n",
    "print(f\"[✓] CSV file saved at: {output_csv_path}\")\n",
    "print(f\"Total Real Frames: {len(real_data)} | Total Fake Frames: {len(fake_data)} | Total: {len(all_data)}\")\n"
   ]
  },
  {
   "cell_type": "code",
   "execution_count": null,
   "id": "00576e3e",
   "metadata": {},
   "outputs": [],
   "source": [
    "import torch\n",
    "import torch.nn as nn\n",
    "from efficientnet_pytorch import EfficientNet\n",
    "\n",
    "class TextureArtifactBranch(nn.Module):\n",
    "    def __init__(self, pretrained=True):\n",
    "        super(TextureArtifactBranch, self).__init__()\n",
    "        \n",
    "        # Load EfficientNet-B4 backbone\n",
    "        self.backbone = EfficientNet.from_pretrained('efficientnet-b4') if pretrained else EfficientNet.from_name('efficientnet-b4')\n",
    "        \n",
    "        # Feature extractor (exclude classifier)\n",
    "        self.feature_extractor = self.backbone.extract_features  # (B, 1792, H/32, W/32)\n",
    "        \n",
    "        # Global average pooling + classification head\n",
    "        self.pooling = nn.AdaptiveAvgPool2d(1)\n",
    "        self.classifier = nn.Sequential(\n",
    "            nn.Flatten(),\n",
    "            nn.Linear(1792, 512),\n",
    "            nn.ReLU(inplace=True),\n",
    "            nn.Dropout(0.4),\n",
    "            nn.Linear(512, 1),\n",
    "            nn.Sigmoid()  # Binary output: real/fake\n",
    "        )\n",
    "    \n",
    "    def forward(self, x):\n",
    "        features = self.feature_extractor(x)\n",
    "        pooled = self.pooling(features)\n",
    "        out = self.classifier(pooled)\n",
    "        return out\n"
   ]
  },
  {
   "cell_type": "code",
   "execution_count": 1,
   "id": "8e9c61f1",
   "metadata": {},
   "outputs": [
    {
     "name": "stderr",
     "output_type": "stream",
     "text": [
      "c:\\Users\\ACER\\anaconda3\\envs\\torch_env\\lib\\site-packages\\tqdm\\auto.py:21: TqdmWarning: IProgress not found. Please update jupyter and ipywidgets. See https://ipywidgets.readthedocs.io/en/stable/user_install.html\n",
      "  from .autonotebook import tqdm as notebook_tqdm\n"
     ]
    }
   ],
   "source": [
    "import pandas as pd\n",
    "from PIL import Image\n",
    "from torchvision import transforms\n",
    "from torch.utils.data import Dataset\n",
    "\n",
    "class DeepfakeFrameDataset(Dataset):\n",
    "    def __init__(self, csv_path, transform=None):\n",
    "        self.data = pd.read_csv(csv_path)\n",
    "        self.transform = transform\n",
    "\n",
    "    def __len__(self):\n",
    "        return len(self.data)\n",
    "\n",
    "    def __getitem__(self, idx):\n",
    "        image_path = self.data.iloc[idx, 0]\n",
    "        label = int(self.data.iloc[idx, 1])\n",
    "        image = Image.open(image_path).convert('RGB')\n",
    "        \n",
    "        if self.transform:\n",
    "            image = self.transform(image)\n",
    "        \n",
    "        return image, torch.tensor(label, dtype=torch.float32)\n"
   ]
  },
  {
   "cell_type": "code",
   "execution_count": 2,
   "id": "94e0a675",
   "metadata": {},
   "outputs": [
    {
     "name": "stdout",
     "output_type": "stream",
     "text": [
      "[✓] CSV created at: D:\\DETECTION 1.0\\Celeb-DF\\frame_labels.csv\n",
      "Total entries: 347604\n"
     ]
    }
   ],
   "source": [
    "import os\n",
    "import csv\n",
    "\n",
    "real_frame_path = r'D:\\DETECTION 1.0\\Celeb-DF\\Real Frames'\n",
    "fake_frame_path = r'D:\\DETECTION 1.0\\Celeb-DF\\Fake Frames'\n",
    "output_csv_path = r'D:\\DETECTION 1.0\\Celeb-DF\\frame_labels.csv'\n",
    "\n",
    "valid_extensions = ('.jpg', '.jpeg', '.png')\n",
    "\n",
    "def collect_data(image_dir, label):\n",
    "    data = []\n",
    "    for root, _, files in os.walk(image_dir):\n",
    "        for file in files:\n",
    "            if file.lower().endswith(valid_extensions):\n",
    "                full_path = os.path.join(root, file)\n",
    "                data.append([full_path, label])\n",
    "    return data\n",
    "\n",
    "real_data = collect_data(real_frame_path, 0)\n",
    "fake_data = collect_data(fake_frame_path, 1)\n",
    "all_data = real_data + fake_data\n",
    "all_data.sort()\n",
    "\n",
    "# Write to CSV\n",
    "with open(output_csv_path, 'w', newline='', encoding='utf-8') as f:\n",
    "    writer = csv.writer(f)\n",
    "    writer.writerow(['filepath', 'label'])\n",
    "    writer.writerows(all_data)\n",
    "\n",
    "print(f\"[✓] CSV created at: {output_csv_path}\")\n",
    "print(f\"Total entries: {len(all_data)}\")\n"
   ]
  },
  {
   "cell_type": "code",
   "execution_count": 3,
   "id": "7479afe4",
   "metadata": {},
   "outputs": [
    {
     "name": "stderr",
     "output_type": "stream",
     "text": [
      "c:\\Users\\ACER\\anaconda3\\envs\\torch_env\\lib\\site-packages\\tqdm\\auto.py:21: TqdmWarning: IProgress not found. Please update jupyter and ipywidgets. See https://ipywidgets.readthedocs.io/en/stable/user_install.html\n",
      "  from .autonotebook import tqdm as notebook_tqdm\n"
     ]
    }
   ],
   "source": [
    "import torch\n",
    "import torch.nn as nn\n",
    "import torch.nn.functional as F\n",
    "from torch.utils.data import Dataset, DataLoader, random_split\n",
    "from torchvision import transforms\n",
    "from PIL import Image, ImageFile\n",
    "import pandas as pd\n",
    "from tqdm import tqdm\n",
    "from efficientnet_pytorch import EfficientNet\n",
    "from torch.cuda.amp import autocast, GradScaler\n",
    "\n",
    "ImageFile.LOAD_TRUNCATED_IMAGES = True\n"
   ]
  },
  {
   "cell_type": "code",
   "execution_count": 4,
   "id": "86c95224",
   "metadata": {},
   "outputs": [],
   "source": [
    "class DeepfakeFrameDataset(Dataset):\n",
    "    def __init__(self, csv_path, transform=None):\n",
    "        self.data = pd.read_csv(csv_path)\n",
    "        self.transform = transform\n",
    "\n",
    "    def __len__(self):\n",
    "        return len(self.data)\n",
    "\n",
    "    def __getitem__(self, idx):\n",
    "        image_path = self.data.iloc[idx, 0]\n",
    "        label = int(self.data.iloc[idx, 1])\n",
    "        try:\n",
    "            image = Image.open(image_path).convert('RGB')\n",
    "        except Exception as e:\n",
    "            print(f\"Error loading {image_path}: {e}\")\n",
    "            return self.__getitem__((idx + 1) % len(self.data))\n",
    "        if self.transform:\n",
    "            image = self.transform(image)\n",
    "        return image, torch.tensor(label, dtype=torch.float32)\n"
   ]
  },
  {
   "cell_type": "code",
   "execution_count": 5,
   "id": "460b5f6d",
   "metadata": {},
   "outputs": [],
   "source": [
    "transform = transforms.Compose([\n",
    "    transforms.Resize((380, 380)),\n",
    "    transforms.ToTensor(),\n",
    "    transforms.Normalize([0.485, 0.456, 0.406],\n",
    "                         [0.229, 0.224, 0.225])\n",
    "])\n",
    "\n",
    "csv_path = r'D:\\DETECTION 1.0\\Celeb-DF\\frame_labels.csv'\n",
    "full_dataset = DeepfakeFrameDataset(csv_path, transform=transform)\n",
    "\n",
    "train_size = int(0.8 * len(full_dataset))\n",
    "val_size = len(full_dataset) - train_size\n",
    "train_dataset, val_dataset = random_split(full_dataset, [train_size, val_size])\n",
    "\n",
    "train_loader = DataLoader(train_dataset, batch_size=32, shuffle=True, num_workers=0, pin_memory=True)\n",
    "val_loader = DataLoader(val_dataset, batch_size=32, shuffle=False, num_workers=0, pin_memory=True)\n"
   ]
  },
  {
   "cell_type": "code",
   "execution_count": 6,
   "id": "d0f2232f",
   "metadata": {},
   "outputs": [],
   "source": [
    "class TextureArtifactBranch(nn.Module):\n",
    "    def __init__(self, pretrained=True):\n",
    "        super(TextureArtifactBranch, self).__init__()\n",
    "        self.backbone = EfficientNet.from_pretrained('efficientnet-b4') if pretrained else EfficientNet.from_name('efficientnet-b4')\n",
    "        self.feature_extractor = self.backbone.extract_features\n",
    "        self.pooling = nn.AdaptiveAvgPool2d(1)\n",
    "        self.classifier = nn.Sequential(\n",
    "            nn.Flatten(),\n",
    "            nn.Linear(1792, 512),\n",
    "            nn.ReLU(),\n",
    "            nn.Dropout(0.4),\n",
    "            nn.Linear(512, 1)  # ⚠️ No sigmoid here\n",
    "        )\n",
    "\n",
    "    def forward(self, x):\n",
    "        x = self.feature_extractor(x)\n",
    "        x = self.pooling(x)\n",
    "        x = self.classifier(x)\n",
    "        return x  # logits\n"
   ]
  },
  {
   "cell_type": "code",
   "execution_count": 7,
   "id": "4eab6b8f",
   "metadata": {},
   "outputs": [],
   "source": [
    "class FocalLoss(nn.Module):\n",
    "    def __init__(self, alpha=0.25, gamma=2.0):\n",
    "        super(FocalLoss, self).__init__()\n",
    "        self.alpha = alpha\n",
    "        self.gamma = gamma\n",
    "\n",
    "    def forward(self, inputs, targets):\n",
    "        BCE = F.binary_cross_entropy_with_logits(inputs, targets, reduction='none')\n",
    "        pt = torch.sigmoid(inputs)\n",
    "        pt = torch.where(targets == 1, pt, 1 - pt)\n",
    "        loss = self.alpha * (1 - pt) ** self.gamma * BCE\n",
    "        return loss.mean()\n"
   ]
  },
  {
   "cell_type": "code",
   "execution_count": 8,
   "id": "ef99b855",
   "metadata": {},
   "outputs": [
    {
     "name": "stdout",
     "output_type": "stream",
     "text": [
      "Using device: cuda\n",
      "GPU: NVIDIA GeForce RTX 4050 Laptop GPU\n",
      "Loaded pretrained weights for efficientnet-b4\n"
     ]
    }
   ],
   "source": [
    "device = torch.device(\"cuda\" if torch.cuda.is_available() else \"cpu\")\n",
    "print(\"Using device:\", device)\n",
    "if device.type == \"cuda\":\n",
    "    print(\"GPU:\", torch.cuda.get_device_name(0))\n",
    "\n",
    "model = TextureArtifactBranch(pretrained=True).to(device)\n",
    "\n",
    "# Freeze backbone if needed\n",
    "for param in model.backbone.parameters():\n",
    "    param.requires_grad = False\n",
    "\n",
    "criterion = FocalLoss(alpha=0.25, gamma=2.0)\n",
    "optimizer = torch.optim.Adam(model.parameters(), lr=1e-3)\n",
    "scheduler = torch.optim.lr_scheduler.CosineAnnealingLR(optimizer, T_max=5)\n",
    "scaler = GradScaler()\n"
   ]
  },
  {
   "cell_type": "code",
   "execution_count": 16,
   "id": "c7e9e537",
   "metadata": {},
   "outputs": [
    {
     "name": "stdout",
     "output_type": "stream",
     "text": [
      "\n",
      "🔁 Epoch 1/5\n"
     ]
    },
    {
     "name": "stderr",
     "output_type": "stream",
     "text": [
      "Training: 100%|██████████| 8691/8691 [2:46:36<00:00,  1.15s/it]     \n"
     ]
    },
    {
     "name": "stdout",
     "output_type": "stream",
     "text": [
      "✅ Train Loss: 0.0113 | Accuracy: 0.9344\n"
     ]
    },
    {
     "name": "stderr",
     "output_type": "stream",
     "text": [
      "Validation: 100%|██████████| 2173/2173 [29:41<00:00,  1.22it/s]\n"
     ]
    },
    {
     "name": "stdout",
     "output_type": "stream",
     "text": [
      "🧪 Val Loss: 0.0061 | Accuracy: 0.9629\n",
      "\n",
      "🔁 Epoch 2/5\n"
     ]
    },
    {
     "name": "stderr",
     "output_type": "stream",
     "text": [
      "Training: 100%|██████████| 8691/8691 [1:24:32<00:00,  1.71it/s]\n"
     ]
    },
    {
     "name": "stdout",
     "output_type": "stream",
     "text": [
      "✅ Train Loss: 0.0076 | Accuracy: 0.9564\n"
     ]
    },
    {
     "name": "stderr",
     "output_type": "stream",
     "text": [
      "Validation: 100%|██████████| 2173/2173 [18:45<00:00,  1.93it/s]\n"
     ]
    },
    {
     "name": "stdout",
     "output_type": "stream",
     "text": [
      "🧪 Val Loss: 0.0036 | Accuracy: 0.9789\n",
      "\n",
      "🔁 Epoch 3/5\n"
     ]
    },
    {
     "name": "stderr",
     "output_type": "stream",
     "text": [
      "Training: 100%|██████████| 8691/8691 [1:13:19<00:00,  1.98it/s]\n"
     ]
    },
    {
     "name": "stdout",
     "output_type": "stream",
     "text": [
      "✅ Train Loss: 0.0059 | Accuracy: 0.9666\n"
     ]
    },
    {
     "name": "stderr",
     "output_type": "stream",
     "text": [
      "Validation: 100%|██████████| 2173/2173 [16:20<00:00,  2.22it/s]\n"
     ]
    },
    {
     "name": "stdout",
     "output_type": "stream",
     "text": [
      "🧪 Val Loss: 0.0023 | Accuracy: 0.9871\n",
      "\n",
      "🔁 Epoch 4/5\n"
     ]
    },
    {
     "name": "stderr",
     "output_type": "stream",
     "text": [
      "Training: 100%|██████████| 8691/8691 [1:14:00<00:00,  1.96it/s]\n"
     ]
    },
    {
     "name": "stdout",
     "output_type": "stream",
     "text": [
      "✅ Train Loss: 0.0046 | Accuracy: 0.9743\n"
     ]
    },
    {
     "name": "stderr",
     "output_type": "stream",
     "text": [
      "Validation: 100%|██████████| 2173/2173 [20:41<00:00,  1.75it/s]\n"
     ]
    },
    {
     "name": "stdout",
     "output_type": "stream",
     "text": [
      "🧪 Val Loss: 0.0017 | Accuracy: 0.9907\n",
      "\n",
      "🔁 Epoch 5/5\n"
     ]
    },
    {
     "name": "stderr",
     "output_type": "stream",
     "text": [
      "Training: 100%|██████████| 8691/8691 [1:13:11<00:00,  1.98it/s]\n"
     ]
    },
    {
     "name": "stdout",
     "output_type": "stream",
     "text": [
      "✅ Train Loss: 0.0039 | Accuracy: 0.9787\n"
     ]
    },
    {
     "name": "stderr",
     "output_type": "stream",
     "text": [
      "Validation: 100%|██████████| 2173/2173 [21:37<00:00,  1.67it/s]"
     ]
    },
    {
     "name": "stdout",
     "output_type": "stream",
     "text": [
      "🧪 Val Loss: 0.0013 | Accuracy: 0.9925\n"
     ]
    },
    {
     "name": "stderr",
     "output_type": "stream",
     "text": [
      "\n"
     ]
    }
   ],
   "source": [
    "epochs = 5\n",
    "for epoch in range(epochs):\n",
    "    print(f\"\\n🔁 Epoch {epoch+1}/{epochs}\")\n",
    "    model.train()\n",
    "    train_loss, train_correct = 0.0, 0\n",
    "\n",
    "    for images, labels in tqdm(train_loader, desc=\"Training\"):\n",
    "        images, labels = images.to(device), labels.to(device).unsqueeze(1)\n",
    "\n",
    "        optimizer.zero_grad()\n",
    "        with autocast():\n",
    "            outputs = model(images)\n",
    "            loss = criterion(outputs, labels)\n",
    "\n",
    "        scaler.scale(loss).backward()\n",
    "        scaler.step(optimizer)\n",
    "        scaler.update()\n",
    "\n",
    "        train_loss += loss.item() * images.size(0)\n",
    "        preds = (torch.sigmoid(outputs) > 0.5).float()\n",
    "        train_correct += (preds == labels).sum().item()\n",
    "\n",
    "    scheduler.step()\n",
    "\n",
    "    avg_train_loss = train_loss / len(train_loader.dataset)\n",
    "    train_acc = train_correct / len(train_loader.dataset)\n",
    "    print(f\"✅ Train Loss: {avg_train_loss:.4f} | Accuracy: {train_acc:.4f}\")\n",
    "\n",
    "    # ===== Validation =====\n",
    "    model.eval()\n",
    "    val_loss, val_correct = 0.0, 0\n",
    "    with torch.no_grad():\n",
    "        for images, labels in tqdm(val_loader, desc=\"Validation\"):\n",
    "            images, labels = images.to(device), labels.to(device).unsqueeze(1)\n",
    "            with autocast():\n",
    "                outputs = model(images)\n",
    "                loss = criterion(outputs, labels)\n",
    "\n",
    "            val_loss += loss.item() * images.size(0)\n",
    "            preds = (torch.sigmoid(outputs) > 0.5).float()\n",
    "            val_correct += (preds == labels).sum().item()\n",
    "\n",
    "    avg_val_loss = val_loss / len(val_loader.dataset)\n",
    "    val_acc = val_correct / len(val_loader.dataset)\n",
    "    print(f\"🧪 Val Loss: {avg_val_loss:.4f} | Accuracy: {val_acc:.4f}\")\n"
   ]
  },
  {
   "cell_type": "code",
   "execution_count": 8,
   "id": "8a88b306",
   "metadata": {},
   "outputs": [],
   "source": [
    "torch.save(model.state_dict(), \"efficientnet_texture_artifact.pth\")\n"
   ]
  },
  {
   "cell_type": "code",
   "execution_count": 9,
   "id": "67b2d928",
   "metadata": {},
   "outputs": [
    {
     "data": {
      "text/plain": [
       "TextureArtifactBranch(\n",
       "  (backbone): EfficientNet(\n",
       "    (_conv_stem): Conv2dStaticSamePadding(\n",
       "      3, 48, kernel_size=(3, 3), stride=(2, 2), bias=False\n",
       "      (static_padding): ZeroPad2d(padding=(0, 1, 0, 1), value=0.0)\n",
       "    )\n",
       "    (_bn0): BatchNorm2d(48, eps=0.001, momentum=0.010000000000000009, affine=True, track_running_stats=True)\n",
       "    (_blocks): ModuleList(\n",
       "      (0): MBConvBlock(\n",
       "        (_depthwise_conv): Conv2dStaticSamePadding(\n",
       "          48, 48, kernel_size=(3, 3), stride=[1, 1], groups=48, bias=False\n",
       "          (static_padding): ZeroPad2d(padding=(1, 1, 1, 1), value=0.0)\n",
       "        )\n",
       "        (_bn1): BatchNorm2d(48, eps=0.001, momentum=0.010000000000000009, affine=True, track_running_stats=True)\n",
       "        (_se_reduce): Conv2dStaticSamePadding(\n",
       "          48, 12, kernel_size=(1, 1), stride=(1, 1)\n",
       "          (static_padding): Identity()\n",
       "        )\n",
       "        (_se_expand): Conv2dStaticSamePadding(\n",
       "          12, 48, kernel_size=(1, 1), stride=(1, 1)\n",
       "          (static_padding): Identity()\n",
       "        )\n",
       "        (_project_conv): Conv2dStaticSamePadding(\n",
       "          48, 24, kernel_size=(1, 1), stride=(1, 1), bias=False\n",
       "          (static_padding): Identity()\n",
       "        )\n",
       "        (_bn2): BatchNorm2d(24, eps=0.001, momentum=0.010000000000000009, affine=True, track_running_stats=True)\n",
       "        (_swish): MemoryEfficientSwish()\n",
       "      )\n",
       "      (1): MBConvBlock(\n",
       "        (_depthwise_conv): Conv2dStaticSamePadding(\n",
       "          24, 24, kernel_size=(3, 3), stride=(1, 1), groups=24, bias=False\n",
       "          (static_padding): ZeroPad2d(padding=(1, 1, 1, 1), value=0.0)\n",
       "        )\n",
       "        (_bn1): BatchNorm2d(24, eps=0.001, momentum=0.010000000000000009, affine=True, track_running_stats=True)\n",
       "        (_se_reduce): Conv2dStaticSamePadding(\n",
       "          24, 6, kernel_size=(1, 1), stride=(1, 1)\n",
       "          (static_padding): Identity()\n",
       "        )\n",
       "        (_se_expand): Conv2dStaticSamePadding(\n",
       "          6, 24, kernel_size=(1, 1), stride=(1, 1)\n",
       "          (static_padding): Identity()\n",
       "        )\n",
       "        (_project_conv): Conv2dStaticSamePadding(\n",
       "          24, 24, kernel_size=(1, 1), stride=(1, 1), bias=False\n",
       "          (static_padding): Identity()\n",
       "        )\n",
       "        (_bn2): BatchNorm2d(24, eps=0.001, momentum=0.010000000000000009, affine=True, track_running_stats=True)\n",
       "        (_swish): MemoryEfficientSwish()\n",
       "      )\n",
       "      (2): MBConvBlock(\n",
       "        (_expand_conv): Conv2dStaticSamePadding(\n",
       "          24, 144, kernel_size=(1, 1), stride=(1, 1), bias=False\n",
       "          (static_padding): Identity()\n",
       "        )\n",
       "        (_bn0): BatchNorm2d(144, eps=0.001, momentum=0.010000000000000009, affine=True, track_running_stats=True)\n",
       "        (_depthwise_conv): Conv2dStaticSamePadding(\n",
       "          144, 144, kernel_size=(3, 3), stride=[2, 2], groups=144, bias=False\n",
       "          (static_padding): ZeroPad2d(padding=(0, 1, 0, 1), value=0.0)\n",
       "        )\n",
       "        (_bn1): BatchNorm2d(144, eps=0.001, momentum=0.010000000000000009, affine=True, track_running_stats=True)\n",
       "        (_se_reduce): Conv2dStaticSamePadding(\n",
       "          144, 6, kernel_size=(1, 1), stride=(1, 1)\n",
       "          (static_padding): Identity()\n",
       "        )\n",
       "        (_se_expand): Conv2dStaticSamePadding(\n",
       "          6, 144, kernel_size=(1, 1), stride=(1, 1)\n",
       "          (static_padding): Identity()\n",
       "        )\n",
       "        (_project_conv): Conv2dStaticSamePadding(\n",
       "          144, 32, kernel_size=(1, 1), stride=(1, 1), bias=False\n",
       "          (static_padding): Identity()\n",
       "        )\n",
       "        (_bn2): BatchNorm2d(32, eps=0.001, momentum=0.010000000000000009, affine=True, track_running_stats=True)\n",
       "        (_swish): MemoryEfficientSwish()\n",
       "      )\n",
       "      (3): MBConvBlock(\n",
       "        (_expand_conv): Conv2dStaticSamePadding(\n",
       "          32, 192, kernel_size=(1, 1), stride=(1, 1), bias=False\n",
       "          (static_padding): Identity()\n",
       "        )\n",
       "        (_bn0): BatchNorm2d(192, eps=0.001, momentum=0.010000000000000009, affine=True, track_running_stats=True)\n",
       "        (_depthwise_conv): Conv2dStaticSamePadding(\n",
       "          192, 192, kernel_size=(3, 3), stride=(1, 1), groups=192, bias=False\n",
       "          (static_padding): ZeroPad2d(padding=(1, 1, 1, 1), value=0.0)\n",
       "        )\n",
       "        (_bn1): BatchNorm2d(192, eps=0.001, momentum=0.010000000000000009, affine=True, track_running_stats=True)\n",
       "        (_se_reduce): Conv2dStaticSamePadding(\n",
       "          192, 8, kernel_size=(1, 1), stride=(1, 1)\n",
       "          (static_padding): Identity()\n",
       "        )\n",
       "        (_se_expand): Conv2dStaticSamePadding(\n",
       "          8, 192, kernel_size=(1, 1), stride=(1, 1)\n",
       "          (static_padding): Identity()\n",
       "        )\n",
       "        (_project_conv): Conv2dStaticSamePadding(\n",
       "          192, 32, kernel_size=(1, 1), stride=(1, 1), bias=False\n",
       "          (static_padding): Identity()\n",
       "        )\n",
       "        (_bn2): BatchNorm2d(32, eps=0.001, momentum=0.010000000000000009, affine=True, track_running_stats=True)\n",
       "        (_swish): MemoryEfficientSwish()\n",
       "      )\n",
       "      (4): MBConvBlock(\n",
       "        (_expand_conv): Conv2dStaticSamePadding(\n",
       "          32, 192, kernel_size=(1, 1), stride=(1, 1), bias=False\n",
       "          (static_padding): Identity()\n",
       "        )\n",
       "        (_bn0): BatchNorm2d(192, eps=0.001, momentum=0.010000000000000009, affine=True, track_running_stats=True)\n",
       "        (_depthwise_conv): Conv2dStaticSamePadding(\n",
       "          192, 192, kernel_size=(3, 3), stride=(1, 1), groups=192, bias=False\n",
       "          (static_padding): ZeroPad2d(padding=(1, 1, 1, 1), value=0.0)\n",
       "        )\n",
       "        (_bn1): BatchNorm2d(192, eps=0.001, momentum=0.010000000000000009, affine=True, track_running_stats=True)\n",
       "        (_se_reduce): Conv2dStaticSamePadding(\n",
       "          192, 8, kernel_size=(1, 1), stride=(1, 1)\n",
       "          (static_padding): Identity()\n",
       "        )\n",
       "        (_se_expand): Conv2dStaticSamePadding(\n",
       "          8, 192, kernel_size=(1, 1), stride=(1, 1)\n",
       "          (static_padding): Identity()\n",
       "        )\n",
       "        (_project_conv): Conv2dStaticSamePadding(\n",
       "          192, 32, kernel_size=(1, 1), stride=(1, 1), bias=False\n",
       "          (static_padding): Identity()\n",
       "        )\n",
       "        (_bn2): BatchNorm2d(32, eps=0.001, momentum=0.010000000000000009, affine=True, track_running_stats=True)\n",
       "        (_swish): MemoryEfficientSwish()\n",
       "      )\n",
       "      (5): MBConvBlock(\n",
       "        (_expand_conv): Conv2dStaticSamePadding(\n",
       "          32, 192, kernel_size=(1, 1), stride=(1, 1), bias=False\n",
       "          (static_padding): Identity()\n",
       "        )\n",
       "        (_bn0): BatchNorm2d(192, eps=0.001, momentum=0.010000000000000009, affine=True, track_running_stats=True)\n",
       "        (_depthwise_conv): Conv2dStaticSamePadding(\n",
       "          192, 192, kernel_size=(3, 3), stride=(1, 1), groups=192, bias=False\n",
       "          (static_padding): ZeroPad2d(padding=(1, 1, 1, 1), value=0.0)\n",
       "        )\n",
       "        (_bn1): BatchNorm2d(192, eps=0.001, momentum=0.010000000000000009, affine=True, track_running_stats=True)\n",
       "        (_se_reduce): Conv2dStaticSamePadding(\n",
       "          192, 8, kernel_size=(1, 1), stride=(1, 1)\n",
       "          (static_padding): Identity()\n",
       "        )\n",
       "        (_se_expand): Conv2dStaticSamePadding(\n",
       "          8, 192, kernel_size=(1, 1), stride=(1, 1)\n",
       "          (static_padding): Identity()\n",
       "        )\n",
       "        (_project_conv): Conv2dStaticSamePadding(\n",
       "          192, 32, kernel_size=(1, 1), stride=(1, 1), bias=False\n",
       "          (static_padding): Identity()\n",
       "        )\n",
       "        (_bn2): BatchNorm2d(32, eps=0.001, momentum=0.010000000000000009, affine=True, track_running_stats=True)\n",
       "        (_swish): MemoryEfficientSwish()\n",
       "      )\n",
       "      (6): MBConvBlock(\n",
       "        (_expand_conv): Conv2dStaticSamePadding(\n",
       "          32, 192, kernel_size=(1, 1), stride=(1, 1), bias=False\n",
       "          (static_padding): Identity()\n",
       "        )\n",
       "        (_bn0): BatchNorm2d(192, eps=0.001, momentum=0.010000000000000009, affine=True, track_running_stats=True)\n",
       "        (_depthwise_conv): Conv2dStaticSamePadding(\n",
       "          192, 192, kernel_size=(5, 5), stride=[2, 2], groups=192, bias=False\n",
       "          (static_padding): ZeroPad2d(padding=(2, 2, 2, 2), value=0.0)\n",
       "        )\n",
       "        (_bn1): BatchNorm2d(192, eps=0.001, momentum=0.010000000000000009, affine=True, track_running_stats=True)\n",
       "        (_se_reduce): Conv2dStaticSamePadding(\n",
       "          192, 8, kernel_size=(1, 1), stride=(1, 1)\n",
       "          (static_padding): Identity()\n",
       "        )\n",
       "        (_se_expand): Conv2dStaticSamePadding(\n",
       "          8, 192, kernel_size=(1, 1), stride=(1, 1)\n",
       "          (static_padding): Identity()\n",
       "        )\n",
       "        (_project_conv): Conv2dStaticSamePadding(\n",
       "          192, 56, kernel_size=(1, 1), stride=(1, 1), bias=False\n",
       "          (static_padding): Identity()\n",
       "        )\n",
       "        (_bn2): BatchNorm2d(56, eps=0.001, momentum=0.010000000000000009, affine=True, track_running_stats=True)\n",
       "        (_swish): MemoryEfficientSwish()\n",
       "      )\n",
       "      (7): MBConvBlock(\n",
       "        (_expand_conv): Conv2dStaticSamePadding(\n",
       "          56, 336, kernel_size=(1, 1), stride=(1, 1), bias=False\n",
       "          (static_padding): Identity()\n",
       "        )\n",
       "        (_bn0): BatchNorm2d(336, eps=0.001, momentum=0.010000000000000009, affine=True, track_running_stats=True)\n",
       "        (_depthwise_conv): Conv2dStaticSamePadding(\n",
       "          336, 336, kernel_size=(5, 5), stride=(1, 1), groups=336, bias=False\n",
       "          (static_padding): ZeroPad2d(padding=(2, 2, 2, 2), value=0.0)\n",
       "        )\n",
       "        (_bn1): BatchNorm2d(336, eps=0.001, momentum=0.010000000000000009, affine=True, track_running_stats=True)\n",
       "        (_se_reduce): Conv2dStaticSamePadding(\n",
       "          336, 14, kernel_size=(1, 1), stride=(1, 1)\n",
       "          (static_padding): Identity()\n",
       "        )\n",
       "        (_se_expand): Conv2dStaticSamePadding(\n",
       "          14, 336, kernel_size=(1, 1), stride=(1, 1)\n",
       "          (static_padding): Identity()\n",
       "        )\n",
       "        (_project_conv): Conv2dStaticSamePadding(\n",
       "          336, 56, kernel_size=(1, 1), stride=(1, 1), bias=False\n",
       "          (static_padding): Identity()\n",
       "        )\n",
       "        (_bn2): BatchNorm2d(56, eps=0.001, momentum=0.010000000000000009, affine=True, track_running_stats=True)\n",
       "        (_swish): MemoryEfficientSwish()\n",
       "      )\n",
       "      (8): MBConvBlock(\n",
       "        (_expand_conv): Conv2dStaticSamePadding(\n",
       "          56, 336, kernel_size=(1, 1), stride=(1, 1), bias=False\n",
       "          (static_padding): Identity()\n",
       "        )\n",
       "        (_bn0): BatchNorm2d(336, eps=0.001, momentum=0.010000000000000009, affine=True, track_running_stats=True)\n",
       "        (_depthwise_conv): Conv2dStaticSamePadding(\n",
       "          336, 336, kernel_size=(5, 5), stride=(1, 1), groups=336, bias=False\n",
       "          (static_padding): ZeroPad2d(padding=(2, 2, 2, 2), value=0.0)\n",
       "        )\n",
       "        (_bn1): BatchNorm2d(336, eps=0.001, momentum=0.010000000000000009, affine=True, track_running_stats=True)\n",
       "        (_se_reduce): Conv2dStaticSamePadding(\n",
       "          336, 14, kernel_size=(1, 1), stride=(1, 1)\n",
       "          (static_padding): Identity()\n",
       "        )\n",
       "        (_se_expand): Conv2dStaticSamePadding(\n",
       "          14, 336, kernel_size=(1, 1), stride=(1, 1)\n",
       "          (static_padding): Identity()\n",
       "        )\n",
       "        (_project_conv): Conv2dStaticSamePadding(\n",
       "          336, 56, kernel_size=(1, 1), stride=(1, 1), bias=False\n",
       "          (static_padding): Identity()\n",
       "        )\n",
       "        (_bn2): BatchNorm2d(56, eps=0.001, momentum=0.010000000000000009, affine=True, track_running_stats=True)\n",
       "        (_swish): MemoryEfficientSwish()\n",
       "      )\n",
       "      (9): MBConvBlock(\n",
       "        (_expand_conv): Conv2dStaticSamePadding(\n",
       "          56, 336, kernel_size=(1, 1), stride=(1, 1), bias=False\n",
       "          (static_padding): Identity()\n",
       "        )\n",
       "        (_bn0): BatchNorm2d(336, eps=0.001, momentum=0.010000000000000009, affine=True, track_running_stats=True)\n",
       "        (_depthwise_conv): Conv2dStaticSamePadding(\n",
       "          336, 336, kernel_size=(5, 5), stride=(1, 1), groups=336, bias=False\n",
       "          (static_padding): ZeroPad2d(padding=(2, 2, 2, 2), value=0.0)\n",
       "        )\n",
       "        (_bn1): BatchNorm2d(336, eps=0.001, momentum=0.010000000000000009, affine=True, track_running_stats=True)\n",
       "        (_se_reduce): Conv2dStaticSamePadding(\n",
       "          336, 14, kernel_size=(1, 1), stride=(1, 1)\n",
       "          (static_padding): Identity()\n",
       "        )\n",
       "        (_se_expand): Conv2dStaticSamePadding(\n",
       "          14, 336, kernel_size=(1, 1), stride=(1, 1)\n",
       "          (static_padding): Identity()\n",
       "        )\n",
       "        (_project_conv): Conv2dStaticSamePadding(\n",
       "          336, 56, kernel_size=(1, 1), stride=(1, 1), bias=False\n",
       "          (static_padding): Identity()\n",
       "        )\n",
       "        (_bn2): BatchNorm2d(56, eps=0.001, momentum=0.010000000000000009, affine=True, track_running_stats=True)\n",
       "        (_swish): MemoryEfficientSwish()\n",
       "      )\n",
       "      (10): MBConvBlock(\n",
       "        (_expand_conv): Conv2dStaticSamePadding(\n",
       "          56, 336, kernel_size=(1, 1), stride=(1, 1), bias=False\n",
       "          (static_padding): Identity()\n",
       "        )\n",
       "        (_bn0): BatchNorm2d(336, eps=0.001, momentum=0.010000000000000009, affine=True, track_running_stats=True)\n",
       "        (_depthwise_conv): Conv2dStaticSamePadding(\n",
       "          336, 336, kernel_size=(3, 3), stride=[2, 2], groups=336, bias=False\n",
       "          (static_padding): ZeroPad2d(padding=(0, 1, 0, 1), value=0.0)\n",
       "        )\n",
       "        (_bn1): BatchNorm2d(336, eps=0.001, momentum=0.010000000000000009, affine=True, track_running_stats=True)\n",
       "        (_se_reduce): Conv2dStaticSamePadding(\n",
       "          336, 14, kernel_size=(1, 1), stride=(1, 1)\n",
       "          (static_padding): Identity()\n",
       "        )\n",
       "        (_se_expand): Conv2dStaticSamePadding(\n",
       "          14, 336, kernel_size=(1, 1), stride=(1, 1)\n",
       "          (static_padding): Identity()\n",
       "        )\n",
       "        (_project_conv): Conv2dStaticSamePadding(\n",
       "          336, 112, kernel_size=(1, 1), stride=(1, 1), bias=False\n",
       "          (static_padding): Identity()\n",
       "        )\n",
       "        (_bn2): BatchNorm2d(112, eps=0.001, momentum=0.010000000000000009, affine=True, track_running_stats=True)\n",
       "        (_swish): MemoryEfficientSwish()\n",
       "      )\n",
       "      (11): MBConvBlock(\n",
       "        (_expand_conv): Conv2dStaticSamePadding(\n",
       "          112, 672, kernel_size=(1, 1), stride=(1, 1), bias=False\n",
       "          (static_padding): Identity()\n",
       "        )\n",
       "        (_bn0): BatchNorm2d(672, eps=0.001, momentum=0.010000000000000009, affine=True, track_running_stats=True)\n",
       "        (_depthwise_conv): Conv2dStaticSamePadding(\n",
       "          672, 672, kernel_size=(3, 3), stride=(1, 1), groups=672, bias=False\n",
       "          (static_padding): ZeroPad2d(padding=(1, 1, 1, 1), value=0.0)\n",
       "        )\n",
       "        (_bn1): BatchNorm2d(672, eps=0.001, momentum=0.010000000000000009, affine=True, track_running_stats=True)\n",
       "        (_se_reduce): Conv2dStaticSamePadding(\n",
       "          672, 28, kernel_size=(1, 1), stride=(1, 1)\n",
       "          (static_padding): Identity()\n",
       "        )\n",
       "        (_se_expand): Conv2dStaticSamePadding(\n",
       "          28, 672, kernel_size=(1, 1), stride=(1, 1)\n",
       "          (static_padding): Identity()\n",
       "        )\n",
       "        (_project_conv): Conv2dStaticSamePadding(\n",
       "          672, 112, kernel_size=(1, 1), stride=(1, 1), bias=False\n",
       "          (static_padding): Identity()\n",
       "        )\n",
       "        (_bn2): BatchNorm2d(112, eps=0.001, momentum=0.010000000000000009, affine=True, track_running_stats=True)\n",
       "        (_swish): MemoryEfficientSwish()\n",
       "      )\n",
       "      (12): MBConvBlock(\n",
       "        (_expand_conv): Conv2dStaticSamePadding(\n",
       "          112, 672, kernel_size=(1, 1), stride=(1, 1), bias=False\n",
       "          (static_padding): Identity()\n",
       "        )\n",
       "        (_bn0): BatchNorm2d(672, eps=0.001, momentum=0.010000000000000009, affine=True, track_running_stats=True)\n",
       "        (_depthwise_conv): Conv2dStaticSamePadding(\n",
       "          672, 672, kernel_size=(3, 3), stride=(1, 1), groups=672, bias=False\n",
       "          (static_padding): ZeroPad2d(padding=(1, 1, 1, 1), value=0.0)\n",
       "        )\n",
       "        (_bn1): BatchNorm2d(672, eps=0.001, momentum=0.010000000000000009, affine=True, track_running_stats=True)\n",
       "        (_se_reduce): Conv2dStaticSamePadding(\n",
       "          672, 28, kernel_size=(1, 1), stride=(1, 1)\n",
       "          (static_padding): Identity()\n",
       "        )\n",
       "        (_se_expand): Conv2dStaticSamePadding(\n",
       "          28, 672, kernel_size=(1, 1), stride=(1, 1)\n",
       "          (static_padding): Identity()\n",
       "        )\n",
       "        (_project_conv): Conv2dStaticSamePadding(\n",
       "          672, 112, kernel_size=(1, 1), stride=(1, 1), bias=False\n",
       "          (static_padding): Identity()\n",
       "        )\n",
       "        (_bn2): BatchNorm2d(112, eps=0.001, momentum=0.010000000000000009, affine=True, track_running_stats=True)\n",
       "        (_swish): MemoryEfficientSwish()\n",
       "      )\n",
       "      (13): MBConvBlock(\n",
       "        (_expand_conv): Conv2dStaticSamePadding(\n",
       "          112, 672, kernel_size=(1, 1), stride=(1, 1), bias=False\n",
       "          (static_padding): Identity()\n",
       "        )\n",
       "        (_bn0): BatchNorm2d(672, eps=0.001, momentum=0.010000000000000009, affine=True, track_running_stats=True)\n",
       "        (_depthwise_conv): Conv2dStaticSamePadding(\n",
       "          672, 672, kernel_size=(3, 3), stride=(1, 1), groups=672, bias=False\n",
       "          (static_padding): ZeroPad2d(padding=(1, 1, 1, 1), value=0.0)\n",
       "        )\n",
       "        (_bn1): BatchNorm2d(672, eps=0.001, momentum=0.010000000000000009, affine=True, track_running_stats=True)\n",
       "        (_se_reduce): Conv2dStaticSamePadding(\n",
       "          672, 28, kernel_size=(1, 1), stride=(1, 1)\n",
       "          (static_padding): Identity()\n",
       "        )\n",
       "        (_se_expand): Conv2dStaticSamePadding(\n",
       "          28, 672, kernel_size=(1, 1), stride=(1, 1)\n",
       "          (static_padding): Identity()\n",
       "        )\n",
       "        (_project_conv): Conv2dStaticSamePadding(\n",
       "          672, 112, kernel_size=(1, 1), stride=(1, 1), bias=False\n",
       "          (static_padding): Identity()\n",
       "        )\n",
       "        (_bn2): BatchNorm2d(112, eps=0.001, momentum=0.010000000000000009, affine=True, track_running_stats=True)\n",
       "        (_swish): MemoryEfficientSwish()\n",
       "      )\n",
       "      (14): MBConvBlock(\n",
       "        (_expand_conv): Conv2dStaticSamePadding(\n",
       "          112, 672, kernel_size=(1, 1), stride=(1, 1), bias=False\n",
       "          (static_padding): Identity()\n",
       "        )\n",
       "        (_bn0): BatchNorm2d(672, eps=0.001, momentum=0.010000000000000009, affine=True, track_running_stats=True)\n",
       "        (_depthwise_conv): Conv2dStaticSamePadding(\n",
       "          672, 672, kernel_size=(3, 3), stride=(1, 1), groups=672, bias=False\n",
       "          (static_padding): ZeroPad2d(padding=(1, 1, 1, 1), value=0.0)\n",
       "        )\n",
       "        (_bn1): BatchNorm2d(672, eps=0.001, momentum=0.010000000000000009, affine=True, track_running_stats=True)\n",
       "        (_se_reduce): Conv2dStaticSamePadding(\n",
       "          672, 28, kernel_size=(1, 1), stride=(1, 1)\n",
       "          (static_padding): Identity()\n",
       "        )\n",
       "        (_se_expand): Conv2dStaticSamePadding(\n",
       "          28, 672, kernel_size=(1, 1), stride=(1, 1)\n",
       "          (static_padding): Identity()\n",
       "        )\n",
       "        (_project_conv): Conv2dStaticSamePadding(\n",
       "          672, 112, kernel_size=(1, 1), stride=(1, 1), bias=False\n",
       "          (static_padding): Identity()\n",
       "        )\n",
       "        (_bn2): BatchNorm2d(112, eps=0.001, momentum=0.010000000000000009, affine=True, track_running_stats=True)\n",
       "        (_swish): MemoryEfficientSwish()\n",
       "      )\n",
       "      (15): MBConvBlock(\n",
       "        (_expand_conv): Conv2dStaticSamePadding(\n",
       "          112, 672, kernel_size=(1, 1), stride=(1, 1), bias=False\n",
       "          (static_padding): Identity()\n",
       "        )\n",
       "        (_bn0): BatchNorm2d(672, eps=0.001, momentum=0.010000000000000009, affine=True, track_running_stats=True)\n",
       "        (_depthwise_conv): Conv2dStaticSamePadding(\n",
       "          672, 672, kernel_size=(3, 3), stride=(1, 1), groups=672, bias=False\n",
       "          (static_padding): ZeroPad2d(padding=(1, 1, 1, 1), value=0.0)\n",
       "        )\n",
       "        (_bn1): BatchNorm2d(672, eps=0.001, momentum=0.010000000000000009, affine=True, track_running_stats=True)\n",
       "        (_se_reduce): Conv2dStaticSamePadding(\n",
       "          672, 28, kernel_size=(1, 1), stride=(1, 1)\n",
       "          (static_padding): Identity()\n",
       "        )\n",
       "        (_se_expand): Conv2dStaticSamePadding(\n",
       "          28, 672, kernel_size=(1, 1), stride=(1, 1)\n",
       "          (static_padding): Identity()\n",
       "        )\n",
       "        (_project_conv): Conv2dStaticSamePadding(\n",
       "          672, 112, kernel_size=(1, 1), stride=(1, 1), bias=False\n",
       "          (static_padding): Identity()\n",
       "        )\n",
       "        (_bn2): BatchNorm2d(112, eps=0.001, momentum=0.010000000000000009, affine=True, track_running_stats=True)\n",
       "        (_swish): MemoryEfficientSwish()\n",
       "      )\n",
       "      (16): MBConvBlock(\n",
       "        (_expand_conv): Conv2dStaticSamePadding(\n",
       "          112, 672, kernel_size=(1, 1), stride=(1, 1), bias=False\n",
       "          (static_padding): Identity()\n",
       "        )\n",
       "        (_bn0): BatchNorm2d(672, eps=0.001, momentum=0.010000000000000009, affine=True, track_running_stats=True)\n",
       "        (_depthwise_conv): Conv2dStaticSamePadding(\n",
       "          672, 672, kernel_size=(5, 5), stride=[1, 1], groups=672, bias=False\n",
       "          (static_padding): ZeroPad2d(padding=(2, 2, 2, 2), value=0.0)\n",
       "        )\n",
       "        (_bn1): BatchNorm2d(672, eps=0.001, momentum=0.010000000000000009, affine=True, track_running_stats=True)\n",
       "        (_se_reduce): Conv2dStaticSamePadding(\n",
       "          672, 28, kernel_size=(1, 1), stride=(1, 1)\n",
       "          (static_padding): Identity()\n",
       "        )\n",
       "        (_se_expand): Conv2dStaticSamePadding(\n",
       "          28, 672, kernel_size=(1, 1), stride=(1, 1)\n",
       "          (static_padding): Identity()\n",
       "        )\n",
       "        (_project_conv): Conv2dStaticSamePadding(\n",
       "          672, 160, kernel_size=(1, 1), stride=(1, 1), bias=False\n",
       "          (static_padding): Identity()\n",
       "        )\n",
       "        (_bn2): BatchNorm2d(160, eps=0.001, momentum=0.010000000000000009, affine=True, track_running_stats=True)\n",
       "        (_swish): MemoryEfficientSwish()\n",
       "      )\n",
       "      (17): MBConvBlock(\n",
       "        (_expand_conv): Conv2dStaticSamePadding(\n",
       "          160, 960, kernel_size=(1, 1), stride=(1, 1), bias=False\n",
       "          (static_padding): Identity()\n",
       "        )\n",
       "        (_bn0): BatchNorm2d(960, eps=0.001, momentum=0.010000000000000009, affine=True, track_running_stats=True)\n",
       "        (_depthwise_conv): Conv2dStaticSamePadding(\n",
       "          960, 960, kernel_size=(5, 5), stride=(1, 1), groups=960, bias=False\n",
       "          (static_padding): ZeroPad2d(padding=(2, 2, 2, 2), value=0.0)\n",
       "        )\n",
       "        (_bn1): BatchNorm2d(960, eps=0.001, momentum=0.010000000000000009, affine=True, track_running_stats=True)\n",
       "        (_se_reduce): Conv2dStaticSamePadding(\n",
       "          960, 40, kernel_size=(1, 1), stride=(1, 1)\n",
       "          (static_padding): Identity()\n",
       "        )\n",
       "        (_se_expand): Conv2dStaticSamePadding(\n",
       "          40, 960, kernel_size=(1, 1), stride=(1, 1)\n",
       "          (static_padding): Identity()\n",
       "        )\n",
       "        (_project_conv): Conv2dStaticSamePadding(\n",
       "          960, 160, kernel_size=(1, 1), stride=(1, 1), bias=False\n",
       "          (static_padding): Identity()\n",
       "        )\n",
       "        (_bn2): BatchNorm2d(160, eps=0.001, momentum=0.010000000000000009, affine=True, track_running_stats=True)\n",
       "        (_swish): MemoryEfficientSwish()\n",
       "      )\n",
       "      (18): MBConvBlock(\n",
       "        (_expand_conv): Conv2dStaticSamePadding(\n",
       "          160, 960, kernel_size=(1, 1), stride=(1, 1), bias=False\n",
       "          (static_padding): Identity()\n",
       "        )\n",
       "        (_bn0): BatchNorm2d(960, eps=0.001, momentum=0.010000000000000009, affine=True, track_running_stats=True)\n",
       "        (_depthwise_conv): Conv2dStaticSamePadding(\n",
       "          960, 960, kernel_size=(5, 5), stride=(1, 1), groups=960, bias=False\n",
       "          (static_padding): ZeroPad2d(padding=(2, 2, 2, 2), value=0.0)\n",
       "        )\n",
       "        (_bn1): BatchNorm2d(960, eps=0.001, momentum=0.010000000000000009, affine=True, track_running_stats=True)\n",
       "        (_se_reduce): Conv2dStaticSamePadding(\n",
       "          960, 40, kernel_size=(1, 1), stride=(1, 1)\n",
       "          (static_padding): Identity()\n",
       "        )\n",
       "        (_se_expand): Conv2dStaticSamePadding(\n",
       "          40, 960, kernel_size=(1, 1), stride=(1, 1)\n",
       "          (static_padding): Identity()\n",
       "        )\n",
       "        (_project_conv): Conv2dStaticSamePadding(\n",
       "          960, 160, kernel_size=(1, 1), stride=(1, 1), bias=False\n",
       "          (static_padding): Identity()\n",
       "        )\n",
       "        (_bn2): BatchNorm2d(160, eps=0.001, momentum=0.010000000000000009, affine=True, track_running_stats=True)\n",
       "        (_swish): MemoryEfficientSwish()\n",
       "      )\n",
       "      (19): MBConvBlock(\n",
       "        (_expand_conv): Conv2dStaticSamePadding(\n",
       "          160, 960, kernel_size=(1, 1), stride=(1, 1), bias=False\n",
       "          (static_padding): Identity()\n",
       "        )\n",
       "        (_bn0): BatchNorm2d(960, eps=0.001, momentum=0.010000000000000009, affine=True, track_running_stats=True)\n",
       "        (_depthwise_conv): Conv2dStaticSamePadding(\n",
       "          960, 960, kernel_size=(5, 5), stride=(1, 1), groups=960, bias=False\n",
       "          (static_padding): ZeroPad2d(padding=(2, 2, 2, 2), value=0.0)\n",
       "        )\n",
       "        (_bn1): BatchNorm2d(960, eps=0.001, momentum=0.010000000000000009, affine=True, track_running_stats=True)\n",
       "        (_se_reduce): Conv2dStaticSamePadding(\n",
       "          960, 40, kernel_size=(1, 1), stride=(1, 1)\n",
       "          (static_padding): Identity()\n",
       "        )\n",
       "        (_se_expand): Conv2dStaticSamePadding(\n",
       "          40, 960, kernel_size=(1, 1), stride=(1, 1)\n",
       "          (static_padding): Identity()\n",
       "        )\n",
       "        (_project_conv): Conv2dStaticSamePadding(\n",
       "          960, 160, kernel_size=(1, 1), stride=(1, 1), bias=False\n",
       "          (static_padding): Identity()\n",
       "        )\n",
       "        (_bn2): BatchNorm2d(160, eps=0.001, momentum=0.010000000000000009, affine=True, track_running_stats=True)\n",
       "        (_swish): MemoryEfficientSwish()\n",
       "      )\n",
       "      (20): MBConvBlock(\n",
       "        (_expand_conv): Conv2dStaticSamePadding(\n",
       "          160, 960, kernel_size=(1, 1), stride=(1, 1), bias=False\n",
       "          (static_padding): Identity()\n",
       "        )\n",
       "        (_bn0): BatchNorm2d(960, eps=0.001, momentum=0.010000000000000009, affine=True, track_running_stats=True)\n",
       "        (_depthwise_conv): Conv2dStaticSamePadding(\n",
       "          960, 960, kernel_size=(5, 5), stride=(1, 1), groups=960, bias=False\n",
       "          (static_padding): ZeroPad2d(padding=(2, 2, 2, 2), value=0.0)\n",
       "        )\n",
       "        (_bn1): BatchNorm2d(960, eps=0.001, momentum=0.010000000000000009, affine=True, track_running_stats=True)\n",
       "        (_se_reduce): Conv2dStaticSamePadding(\n",
       "          960, 40, kernel_size=(1, 1), stride=(1, 1)\n",
       "          (static_padding): Identity()\n",
       "        )\n",
       "        (_se_expand): Conv2dStaticSamePadding(\n",
       "          40, 960, kernel_size=(1, 1), stride=(1, 1)\n",
       "          (static_padding): Identity()\n",
       "        )\n",
       "        (_project_conv): Conv2dStaticSamePadding(\n",
       "          960, 160, kernel_size=(1, 1), stride=(1, 1), bias=False\n",
       "          (static_padding): Identity()\n",
       "        )\n",
       "        (_bn2): BatchNorm2d(160, eps=0.001, momentum=0.010000000000000009, affine=True, track_running_stats=True)\n",
       "        (_swish): MemoryEfficientSwish()\n",
       "      )\n",
       "      (21): MBConvBlock(\n",
       "        (_expand_conv): Conv2dStaticSamePadding(\n",
       "          160, 960, kernel_size=(1, 1), stride=(1, 1), bias=False\n",
       "          (static_padding): Identity()\n",
       "        )\n",
       "        (_bn0): BatchNorm2d(960, eps=0.001, momentum=0.010000000000000009, affine=True, track_running_stats=True)\n",
       "        (_depthwise_conv): Conv2dStaticSamePadding(\n",
       "          960, 960, kernel_size=(5, 5), stride=(1, 1), groups=960, bias=False\n",
       "          (static_padding): ZeroPad2d(padding=(2, 2, 2, 2), value=0.0)\n",
       "        )\n",
       "        (_bn1): BatchNorm2d(960, eps=0.001, momentum=0.010000000000000009, affine=True, track_running_stats=True)\n",
       "        (_se_reduce): Conv2dStaticSamePadding(\n",
       "          960, 40, kernel_size=(1, 1), stride=(1, 1)\n",
       "          (static_padding): Identity()\n",
       "        )\n",
       "        (_se_expand): Conv2dStaticSamePadding(\n",
       "          40, 960, kernel_size=(1, 1), stride=(1, 1)\n",
       "          (static_padding): Identity()\n",
       "        )\n",
       "        (_project_conv): Conv2dStaticSamePadding(\n",
       "          960, 160, kernel_size=(1, 1), stride=(1, 1), bias=False\n",
       "          (static_padding): Identity()\n",
       "        )\n",
       "        (_bn2): BatchNorm2d(160, eps=0.001, momentum=0.010000000000000009, affine=True, track_running_stats=True)\n",
       "        (_swish): MemoryEfficientSwish()\n",
       "      )\n",
       "      (22): MBConvBlock(\n",
       "        (_expand_conv): Conv2dStaticSamePadding(\n",
       "          160, 960, kernel_size=(1, 1), stride=(1, 1), bias=False\n",
       "          (static_padding): Identity()\n",
       "        )\n",
       "        (_bn0): BatchNorm2d(960, eps=0.001, momentum=0.010000000000000009, affine=True, track_running_stats=True)\n",
       "        (_depthwise_conv): Conv2dStaticSamePadding(\n",
       "          960, 960, kernel_size=(5, 5), stride=[2, 2], groups=960, bias=False\n",
       "          (static_padding): ZeroPad2d(padding=(1, 2, 1, 2), value=0.0)\n",
       "        )\n",
       "        (_bn1): BatchNorm2d(960, eps=0.001, momentum=0.010000000000000009, affine=True, track_running_stats=True)\n",
       "        (_se_reduce): Conv2dStaticSamePadding(\n",
       "          960, 40, kernel_size=(1, 1), stride=(1, 1)\n",
       "          (static_padding): Identity()\n",
       "        )\n",
       "        (_se_expand): Conv2dStaticSamePadding(\n",
       "          40, 960, kernel_size=(1, 1), stride=(1, 1)\n",
       "          (static_padding): Identity()\n",
       "        )\n",
       "        (_project_conv): Conv2dStaticSamePadding(\n",
       "          960, 272, kernel_size=(1, 1), stride=(1, 1), bias=False\n",
       "          (static_padding): Identity()\n",
       "        )\n",
       "        (_bn2): BatchNorm2d(272, eps=0.001, momentum=0.010000000000000009, affine=True, track_running_stats=True)\n",
       "        (_swish): MemoryEfficientSwish()\n",
       "      )\n",
       "      (23): MBConvBlock(\n",
       "        (_expand_conv): Conv2dStaticSamePadding(\n",
       "          272, 1632, kernel_size=(1, 1), stride=(1, 1), bias=False\n",
       "          (static_padding): Identity()\n",
       "        )\n",
       "        (_bn0): BatchNorm2d(1632, eps=0.001, momentum=0.010000000000000009, affine=True, track_running_stats=True)\n",
       "        (_depthwise_conv): Conv2dStaticSamePadding(\n",
       "          1632, 1632, kernel_size=(5, 5), stride=(1, 1), groups=1632, bias=False\n",
       "          (static_padding): ZeroPad2d(padding=(2, 2, 2, 2), value=0.0)\n",
       "        )\n",
       "        (_bn1): BatchNorm2d(1632, eps=0.001, momentum=0.010000000000000009, affine=True, track_running_stats=True)\n",
       "        (_se_reduce): Conv2dStaticSamePadding(\n",
       "          1632, 68, kernel_size=(1, 1), stride=(1, 1)\n",
       "          (static_padding): Identity()\n",
       "        )\n",
       "        (_se_expand): Conv2dStaticSamePadding(\n",
       "          68, 1632, kernel_size=(1, 1), stride=(1, 1)\n",
       "          (static_padding): Identity()\n",
       "        )\n",
       "        (_project_conv): Conv2dStaticSamePadding(\n",
       "          1632, 272, kernel_size=(1, 1), stride=(1, 1), bias=False\n",
       "          (static_padding): Identity()\n",
       "        )\n",
       "        (_bn2): BatchNorm2d(272, eps=0.001, momentum=0.010000000000000009, affine=True, track_running_stats=True)\n",
       "        (_swish): MemoryEfficientSwish()\n",
       "      )\n",
       "      (24): MBConvBlock(\n",
       "        (_expand_conv): Conv2dStaticSamePadding(\n",
       "          272, 1632, kernel_size=(1, 1), stride=(1, 1), bias=False\n",
       "          (static_padding): Identity()\n",
       "        )\n",
       "        (_bn0): BatchNorm2d(1632, eps=0.001, momentum=0.010000000000000009, affine=True, track_running_stats=True)\n",
       "        (_depthwise_conv): Conv2dStaticSamePadding(\n",
       "          1632, 1632, kernel_size=(5, 5), stride=(1, 1), groups=1632, bias=False\n",
       "          (static_padding): ZeroPad2d(padding=(2, 2, 2, 2), value=0.0)\n",
       "        )\n",
       "        (_bn1): BatchNorm2d(1632, eps=0.001, momentum=0.010000000000000009, affine=True, track_running_stats=True)\n",
       "        (_se_reduce): Conv2dStaticSamePadding(\n",
       "          1632, 68, kernel_size=(1, 1), stride=(1, 1)\n",
       "          (static_padding): Identity()\n",
       "        )\n",
       "        (_se_expand): Conv2dStaticSamePadding(\n",
       "          68, 1632, kernel_size=(1, 1), stride=(1, 1)\n",
       "          (static_padding): Identity()\n",
       "        )\n",
       "        (_project_conv): Conv2dStaticSamePadding(\n",
       "          1632, 272, kernel_size=(1, 1), stride=(1, 1), bias=False\n",
       "          (static_padding): Identity()\n",
       "        )\n",
       "        (_bn2): BatchNorm2d(272, eps=0.001, momentum=0.010000000000000009, affine=True, track_running_stats=True)\n",
       "        (_swish): MemoryEfficientSwish()\n",
       "      )\n",
       "      (25): MBConvBlock(\n",
       "        (_expand_conv): Conv2dStaticSamePadding(\n",
       "          272, 1632, kernel_size=(1, 1), stride=(1, 1), bias=False\n",
       "          (static_padding): Identity()\n",
       "        )\n",
       "        (_bn0): BatchNorm2d(1632, eps=0.001, momentum=0.010000000000000009, affine=True, track_running_stats=True)\n",
       "        (_depthwise_conv): Conv2dStaticSamePadding(\n",
       "          1632, 1632, kernel_size=(5, 5), stride=(1, 1), groups=1632, bias=False\n",
       "          (static_padding): ZeroPad2d(padding=(2, 2, 2, 2), value=0.0)\n",
       "        )\n",
       "        (_bn1): BatchNorm2d(1632, eps=0.001, momentum=0.010000000000000009, affine=True, track_running_stats=True)\n",
       "        (_se_reduce): Conv2dStaticSamePadding(\n",
       "          1632, 68, kernel_size=(1, 1), stride=(1, 1)\n",
       "          (static_padding): Identity()\n",
       "        )\n",
       "        (_se_expand): Conv2dStaticSamePadding(\n",
       "          68, 1632, kernel_size=(1, 1), stride=(1, 1)\n",
       "          (static_padding): Identity()\n",
       "        )\n",
       "        (_project_conv): Conv2dStaticSamePadding(\n",
       "          1632, 272, kernel_size=(1, 1), stride=(1, 1), bias=False\n",
       "          (static_padding): Identity()\n",
       "        )\n",
       "        (_bn2): BatchNorm2d(272, eps=0.001, momentum=0.010000000000000009, affine=True, track_running_stats=True)\n",
       "        (_swish): MemoryEfficientSwish()\n",
       "      )\n",
       "      (26): MBConvBlock(\n",
       "        (_expand_conv): Conv2dStaticSamePadding(\n",
       "          272, 1632, kernel_size=(1, 1), stride=(1, 1), bias=False\n",
       "          (static_padding): Identity()\n",
       "        )\n",
       "        (_bn0): BatchNorm2d(1632, eps=0.001, momentum=0.010000000000000009, affine=True, track_running_stats=True)\n",
       "        (_depthwise_conv): Conv2dStaticSamePadding(\n",
       "          1632, 1632, kernel_size=(5, 5), stride=(1, 1), groups=1632, bias=False\n",
       "          (static_padding): ZeroPad2d(padding=(2, 2, 2, 2), value=0.0)\n",
       "        )\n",
       "        (_bn1): BatchNorm2d(1632, eps=0.001, momentum=0.010000000000000009, affine=True, track_running_stats=True)\n",
       "        (_se_reduce): Conv2dStaticSamePadding(\n",
       "          1632, 68, kernel_size=(1, 1), stride=(1, 1)\n",
       "          (static_padding): Identity()\n",
       "        )\n",
       "        (_se_expand): Conv2dStaticSamePadding(\n",
       "          68, 1632, kernel_size=(1, 1), stride=(1, 1)\n",
       "          (static_padding): Identity()\n",
       "        )\n",
       "        (_project_conv): Conv2dStaticSamePadding(\n",
       "          1632, 272, kernel_size=(1, 1), stride=(1, 1), bias=False\n",
       "          (static_padding): Identity()\n",
       "        )\n",
       "        (_bn2): BatchNorm2d(272, eps=0.001, momentum=0.010000000000000009, affine=True, track_running_stats=True)\n",
       "        (_swish): MemoryEfficientSwish()\n",
       "      )\n",
       "      (27): MBConvBlock(\n",
       "        (_expand_conv): Conv2dStaticSamePadding(\n",
       "          272, 1632, kernel_size=(1, 1), stride=(1, 1), bias=False\n",
       "          (static_padding): Identity()\n",
       "        )\n",
       "        (_bn0): BatchNorm2d(1632, eps=0.001, momentum=0.010000000000000009, affine=True, track_running_stats=True)\n",
       "        (_depthwise_conv): Conv2dStaticSamePadding(\n",
       "          1632, 1632, kernel_size=(5, 5), stride=(1, 1), groups=1632, bias=False\n",
       "          (static_padding): ZeroPad2d(padding=(2, 2, 2, 2), value=0.0)\n",
       "        )\n",
       "        (_bn1): BatchNorm2d(1632, eps=0.001, momentum=0.010000000000000009, affine=True, track_running_stats=True)\n",
       "        (_se_reduce): Conv2dStaticSamePadding(\n",
       "          1632, 68, kernel_size=(1, 1), stride=(1, 1)\n",
       "          (static_padding): Identity()\n",
       "        )\n",
       "        (_se_expand): Conv2dStaticSamePadding(\n",
       "          68, 1632, kernel_size=(1, 1), stride=(1, 1)\n",
       "          (static_padding): Identity()\n",
       "        )\n",
       "        (_project_conv): Conv2dStaticSamePadding(\n",
       "          1632, 272, kernel_size=(1, 1), stride=(1, 1), bias=False\n",
       "          (static_padding): Identity()\n",
       "        )\n",
       "        (_bn2): BatchNorm2d(272, eps=0.001, momentum=0.010000000000000009, affine=True, track_running_stats=True)\n",
       "        (_swish): MemoryEfficientSwish()\n",
       "      )\n",
       "      (28): MBConvBlock(\n",
       "        (_expand_conv): Conv2dStaticSamePadding(\n",
       "          272, 1632, kernel_size=(1, 1), stride=(1, 1), bias=False\n",
       "          (static_padding): Identity()\n",
       "        )\n",
       "        (_bn0): BatchNorm2d(1632, eps=0.001, momentum=0.010000000000000009, affine=True, track_running_stats=True)\n",
       "        (_depthwise_conv): Conv2dStaticSamePadding(\n",
       "          1632, 1632, kernel_size=(5, 5), stride=(1, 1), groups=1632, bias=False\n",
       "          (static_padding): ZeroPad2d(padding=(2, 2, 2, 2), value=0.0)\n",
       "        )\n",
       "        (_bn1): BatchNorm2d(1632, eps=0.001, momentum=0.010000000000000009, affine=True, track_running_stats=True)\n",
       "        (_se_reduce): Conv2dStaticSamePadding(\n",
       "          1632, 68, kernel_size=(1, 1), stride=(1, 1)\n",
       "          (static_padding): Identity()\n",
       "        )\n",
       "        (_se_expand): Conv2dStaticSamePadding(\n",
       "          68, 1632, kernel_size=(1, 1), stride=(1, 1)\n",
       "          (static_padding): Identity()\n",
       "        )\n",
       "        (_project_conv): Conv2dStaticSamePadding(\n",
       "          1632, 272, kernel_size=(1, 1), stride=(1, 1), bias=False\n",
       "          (static_padding): Identity()\n",
       "        )\n",
       "        (_bn2): BatchNorm2d(272, eps=0.001, momentum=0.010000000000000009, affine=True, track_running_stats=True)\n",
       "        (_swish): MemoryEfficientSwish()\n",
       "      )\n",
       "      (29): MBConvBlock(\n",
       "        (_expand_conv): Conv2dStaticSamePadding(\n",
       "          272, 1632, kernel_size=(1, 1), stride=(1, 1), bias=False\n",
       "          (static_padding): Identity()\n",
       "        )\n",
       "        (_bn0): BatchNorm2d(1632, eps=0.001, momentum=0.010000000000000009, affine=True, track_running_stats=True)\n",
       "        (_depthwise_conv): Conv2dStaticSamePadding(\n",
       "          1632, 1632, kernel_size=(5, 5), stride=(1, 1), groups=1632, bias=False\n",
       "          (static_padding): ZeroPad2d(padding=(2, 2, 2, 2), value=0.0)\n",
       "        )\n",
       "        (_bn1): BatchNorm2d(1632, eps=0.001, momentum=0.010000000000000009, affine=True, track_running_stats=True)\n",
       "        (_se_reduce): Conv2dStaticSamePadding(\n",
       "          1632, 68, kernel_size=(1, 1), stride=(1, 1)\n",
       "          (static_padding): Identity()\n",
       "        )\n",
       "        (_se_expand): Conv2dStaticSamePadding(\n",
       "          68, 1632, kernel_size=(1, 1), stride=(1, 1)\n",
       "          (static_padding): Identity()\n",
       "        )\n",
       "        (_project_conv): Conv2dStaticSamePadding(\n",
       "          1632, 272, kernel_size=(1, 1), stride=(1, 1), bias=False\n",
       "          (static_padding): Identity()\n",
       "        )\n",
       "        (_bn2): BatchNorm2d(272, eps=0.001, momentum=0.010000000000000009, affine=True, track_running_stats=True)\n",
       "        (_swish): MemoryEfficientSwish()\n",
       "      )\n",
       "      (30): MBConvBlock(\n",
       "        (_expand_conv): Conv2dStaticSamePadding(\n",
       "          272, 1632, kernel_size=(1, 1), stride=(1, 1), bias=False\n",
       "          (static_padding): Identity()\n",
       "        )\n",
       "        (_bn0): BatchNorm2d(1632, eps=0.001, momentum=0.010000000000000009, affine=True, track_running_stats=True)\n",
       "        (_depthwise_conv): Conv2dStaticSamePadding(\n",
       "          1632, 1632, kernel_size=(3, 3), stride=[1, 1], groups=1632, bias=False\n",
       "          (static_padding): ZeroPad2d(padding=(1, 1, 1, 1), value=0.0)\n",
       "        )\n",
       "        (_bn1): BatchNorm2d(1632, eps=0.001, momentum=0.010000000000000009, affine=True, track_running_stats=True)\n",
       "        (_se_reduce): Conv2dStaticSamePadding(\n",
       "          1632, 68, kernel_size=(1, 1), stride=(1, 1)\n",
       "          (static_padding): Identity()\n",
       "        )\n",
       "        (_se_expand): Conv2dStaticSamePadding(\n",
       "          68, 1632, kernel_size=(1, 1), stride=(1, 1)\n",
       "          (static_padding): Identity()\n",
       "        )\n",
       "        (_project_conv): Conv2dStaticSamePadding(\n",
       "          1632, 448, kernel_size=(1, 1), stride=(1, 1), bias=False\n",
       "          (static_padding): Identity()\n",
       "        )\n",
       "        (_bn2): BatchNorm2d(448, eps=0.001, momentum=0.010000000000000009, affine=True, track_running_stats=True)\n",
       "        (_swish): MemoryEfficientSwish()\n",
       "      )\n",
       "      (31): MBConvBlock(\n",
       "        (_expand_conv): Conv2dStaticSamePadding(\n",
       "          448, 2688, kernel_size=(1, 1), stride=(1, 1), bias=False\n",
       "          (static_padding): Identity()\n",
       "        )\n",
       "        (_bn0): BatchNorm2d(2688, eps=0.001, momentum=0.010000000000000009, affine=True, track_running_stats=True)\n",
       "        (_depthwise_conv): Conv2dStaticSamePadding(\n",
       "          2688, 2688, kernel_size=(3, 3), stride=(1, 1), groups=2688, bias=False\n",
       "          (static_padding): ZeroPad2d(padding=(1, 1, 1, 1), value=0.0)\n",
       "        )\n",
       "        (_bn1): BatchNorm2d(2688, eps=0.001, momentum=0.010000000000000009, affine=True, track_running_stats=True)\n",
       "        (_se_reduce): Conv2dStaticSamePadding(\n",
       "          2688, 112, kernel_size=(1, 1), stride=(1, 1)\n",
       "          (static_padding): Identity()\n",
       "        )\n",
       "        (_se_expand): Conv2dStaticSamePadding(\n",
       "          112, 2688, kernel_size=(1, 1), stride=(1, 1)\n",
       "          (static_padding): Identity()\n",
       "        )\n",
       "        (_project_conv): Conv2dStaticSamePadding(\n",
       "          2688, 448, kernel_size=(1, 1), stride=(1, 1), bias=False\n",
       "          (static_padding): Identity()\n",
       "        )\n",
       "        (_bn2): BatchNorm2d(448, eps=0.001, momentum=0.010000000000000009, affine=True, track_running_stats=True)\n",
       "        (_swish): MemoryEfficientSwish()\n",
       "      )\n",
       "    )\n",
       "    (_conv_head): Conv2dStaticSamePadding(\n",
       "      448, 1792, kernel_size=(1, 1), stride=(1, 1), bias=False\n",
       "      (static_padding): Identity()\n",
       "    )\n",
       "    (_bn1): BatchNorm2d(1792, eps=0.001, momentum=0.010000000000000009, affine=True, track_running_stats=True)\n",
       "    (_avg_pooling): AdaptiveAvgPool2d(output_size=1)\n",
       "    (_dropout): Dropout(p=0.4, inplace=False)\n",
       "    (_fc): Linear(in_features=1792, out_features=1000, bias=True)\n",
       "    (_swish): MemoryEfficientSwish()\n",
       "  )\n",
       "  (pooling): AdaptiveAvgPool2d(output_size=1)\n",
       "  (classifier): Sequential(\n",
       "    (0): Flatten(start_dim=1, end_dim=-1)\n",
       "    (1): Linear(in_features=1792, out_features=512, bias=True)\n",
       "    (2): ReLU()\n",
       "    (3): Dropout(p=0.4, inplace=False)\n",
       "    (4): Linear(in_features=512, out_features=1, bias=True)\n",
       "  )\n",
       ")"
      ]
     },
     "execution_count": 9,
     "metadata": {},
     "output_type": "execute_result"
    }
   ],
   "source": [
    "model = TextureArtifactBranch(pretrained=False).to(device)\n",
    "model.load_state_dict(torch.load(\"efficientnet_texture_artifact.pth\"))\n",
    "model.eval()\n"
   ]
  },
  {
   "cell_type": "code",
   "execution_count": 2,
   "id": "05774a3b",
   "metadata": {},
   "outputs": [
    {
     "name": "stdout",
     "output_type": "stream",
     "text": [
      "Collecting opencv-python\n",
      "  Using cached opencv_python-4.11.0.86-cp37-abi3-win_amd64.whl.metadata (20 kB)\n",
      "Requirement already satisfied: numpy>=1.17.0 in c:\\users\\acer\\anaconda3\\envs\\torch_env\\lib\\site-packages (from opencv-python) (1.26.3)\n",
      "Using cached opencv_python-4.11.0.86-cp37-abi3-win_amd64.whl (39.5 MB)\n",
      "Installing collected packages: opencv-python\n",
      "Successfully installed opencv-python-4.11.0.86\n",
      "Note: you may need to restart the kernel to use updated packages.\n"
     ]
    }
   ],
   "source": [
    "pip install opencv-python\n"
   ]
  },
  {
   "cell_type": "markdown",
   "id": "81e7afdc",
   "metadata": {},
   "source": [
    "For Micro-Muscular Optical Flow\n",
    "\n",
    "Input: Consecutive facial frames (aligned) → (Frame t, Frame t+1)\n",
    "↓\n",
    "Step 1: Compute Optical Flow between frames\n",
    "↓\n",
    "Step 2: Segment face into facial zones (mask: eyes, cheeks, etc.)\n",
    "↓\n",
    "Step 3: For each zone:\n",
    "        → Extract flow vectors\n",
    "        → Compute motion stats (mean, std, etc.)\n",
    "↓\n",
    "Step 4: Generate & save color heatmaps showing motion magnitude\n",
    "↓\n",
    "Output: Zone-wise motion features + visual heatmaps\n"
   ]
  },
  {
   "cell_type": "code",
   "execution_count": 8,
   "id": "b2fcba5d",
   "metadata": {},
   "outputs": [],
   "source": [
    "import os\n",
    "import glob\n",
    "import cv2\n",
    "import numpy as np\n",
    "import pandas as pd\n",
    "from tqdm import tqdm\n",
    "import matplotlib.pyplot as plt"
   ]
  },
  {
   "cell_type": "code",
   "execution_count": 9,
   "id": "5874824a",
   "metadata": {},
   "outputs": [],
   "source": [
    "# ========== Step 1: Define utility functions ==========\n",
    "def compute_dense_optical_flow(prev_img, next_img):\n",
    "    prev_gray = cv2.cvtColor(prev_img, cv2.COLOR_BGR2GRAY)\n",
    "    next_gray = cv2.cvtColor(next_img, cv2.COLOR_BGR2GRAY)\n",
    "    flow = cv2.calcOpticalFlowFarneback(\n",
    "        prev_gray, next_gray, None,\n",
    "        pyr_scale=0.5, levels=3, winsize=15,\n",
    "        iterations=3, poly_n=5, poly_sigma=1.2, flags=0)\n",
    "    return flow\n"
   ]
  },
  {
   "cell_type": "code",
   "execution_count": 10,
   "id": "66464c1b",
   "metadata": {},
   "outputs": [],
   "source": [
    "def extract_zone_flow_features(flow, zone_masks):\n",
    "    stats = {}\n",
    "    for zone_name, mask in zone_masks.items():\n",
    "        zone_flow = flow * mask[..., None]\n",
    "        mag = np.linalg.norm(zone_flow, axis=2)\n",
    "        zone_mag = mag[mask > 0]\n",
    "        if zone_mag.size == 0:\n",
    "            stats[zone_name] = {\"mean\": 0, \"std\": 0, \"max\": 0, \"min\": 0}\n",
    "        else:\n",
    "            stats[zone_name] = {\n",
    "                \"mean\": np.mean(zone_mag),\n",
    "                \"std\": np.std(zone_mag),\n",
    "                \"max\": np.max(zone_mag),\n",
    "                \"min\": np.min(zone_mag),\n",
    "            }\n",
    "    return stats"
   ]
  },
  {
   "cell_type": "code",
   "execution_count": 11,
   "id": "216ad2b6",
   "metadata": {},
   "outputs": [],
   "source": [
    "def save_optical_flow_heatmap(flow, save_path):\n",
    "    mag, ang = cv2.cartToPolar(flow[..., 0], flow[..., 1])\n",
    "    hsv = np.zeros((flow.shape[0], flow.shape[1], 3), dtype=np.uint8)\n",
    "    hsv[..., 0] = ang * 180 / np.pi / 2\n",
    "    hsv[..., 1] = 255\n",
    "    hsv[..., 2] = cv2.normalize(mag, None, 0, 255, cv2.NORM_MINMAX)\n",
    "    rgb = cv2.cvtColor(hsv, cv2.COLOR_HSV2BGR)\n",
    "    cv2.imwrite(save_path, rgb)"
   ]
  },
  {
   "cell_type": "code",
   "execution_count": 12,
   "id": "504e5b3b",
   "metadata": {},
   "outputs": [],
   "source": [
    "\n",
    "def process_frame_pair(prev_img, next_img, zone_masks, save_dir, frame_id):\n",
    "    flow = compute_dense_optical_flow(prev_img, next_img)\n",
    "    stats = extract_zone_flow_features(flow, zone_masks)\n",
    "    heatmap_path = os.path.join(save_dir, f\"flow_heatmap_{frame_id}.png\")\n",
    "    save_optical_flow_heatmap(flow, heatmap_path)\n",
    "    return stats"
   ]
  },
  {
   "cell_type": "code",
   "execution_count": 13,
   "id": "c13854a1",
   "metadata": {},
   "outputs": [],
   "source": [
    "def count_total_frames(root_dir):\n",
    "    total = 0\n",
    "    for sub in os.listdir(root_dir):\n",
    "        sub_dir = os.path.join(root_dir, sub)\n",
    "        if os.path.isdir(sub_dir):\n",
    "            frame_paths = glob.glob(os.path.join(sub_dir, '*.jpg')) + glob.glob(os.path.join(sub_dir, '*.png'))\n",
    "            total += len(frame_paths)\n",
    "    return total"
   ]
  },
  {
   "cell_type": "code",
   "execution_count": 14,
   "id": "450cae30",
   "metadata": {},
   "outputs": [],
   "source": [
    "# ========== Step 2: Process a folder of frames ==========\n",
    "def process_video_folder(frame_dir, save_dir, label):\n",
    "    os.makedirs(save_dir, exist_ok=True)\n",
    "    frame_paths = sorted(glob.glob(os.path.join(frame_dir, '*.jpg')) +\n",
    "                         glob.glob(os.path.join(frame_dir, '*.png')))\n",
    "\n",
    "    frames = [cv2.imread(f) for f in frame_paths if cv2.imread(f) is not None]\n",
    "    print(f\"📂 {frame_dir} | Total frames: {len(frames)}\")\n",
    "\n",
    "    if len(frames) < 2:\n",
    "        print(\"⚠️ Not enough frames to compute optical flow.\")\n",
    "        return pd.DataFrame()\n",
    "\n",
    "    h, w = frames[0].shape[:2]\n",
    "    zone_masks = {\"full_face\": np.ones((h, w), dtype=np.uint8)}\n",
    "\n",
    "    motion_features = []\n",
    "    for i in tqdm(range(len(frames) - 1), desc=f\"Processing {os.path.basename(frame_dir)}\"):\n",
    "        stats = process_frame_pair(frames[i], frames[i+1], zone_masks, save_dir, i)\n",
    "        flat_stats = {f\"{zone}_{k}\": v for zone, d in stats.items() for k, v in d.items()}\n",
    "        flat_stats['pair_id'] = i\n",
    "        flat_stats['label'] = label\n",
    "        motion_features.append(flat_stats)\n",
    "\n",
    "    return pd.DataFrame(motion_features)\n"
   ]
  },
  {
   "cell_type": "code",
   "execution_count": 15,
   "id": "f50bd380",
   "metadata": {},
   "outputs": [
    {
     "name": "stdout",
     "output_type": "stream",
     "text": [
      "🟢 Total real frames: 175289\n",
      "🔴 Total fake frames: 172315\n"
     ]
    }
   ],
   "source": [
    "# ========== Step 3: Provide root paths ==========\n",
    "real_frame_path = r'D:\\DETECTION 1.0\\Celeb-DF\\Real Frames'\n",
    "fake_frame_path = r'D:\\DETECTION 1.0\\Celeb-DF\\Fake Frames'\n",
    "\n",
    "real_total = count_total_frames(real_frame_path)\n",
    "fake_total = count_total_frames(fake_frame_path)\n",
    "print(f\"🟢 Total real frames: {real_total}\")\n",
    "print(f\"🔴 Total fake frames: {fake_total}\")"
   ]
  },
  {
   "cell_type": "code",
   "execution_count": 43,
   "id": "682921f5",
   "metadata": {},
   "outputs": [
    {
     "name": "stdout",
     "output_type": "stream",
     "text": [
      "📂 D:\\DETECTION 1.0\\Celeb-DF\\Real Frames\\00000 | Total frames: 450\n"
     ]
    },
    {
     "name": "stderr",
     "output_type": "stream",
     "text": [
      "Processing 00000: 100%|██████████| 449/449 [00:06<00:00, 66.52it/s]\n"
     ]
    },
    {
     "name": "stdout",
     "output_type": "stream",
     "text": [
      "📂 D:\\DETECTION 1.0\\Celeb-DF\\Real Frames\\00001 | Total frames: 415\n"
     ]
    },
    {
     "name": "stderr",
     "output_type": "stream",
     "text": [
      "Processing 00001: 100%|██████████| 414/414 [00:06<00:00, 65.97it/s]\n"
     ]
    },
    {
     "name": "stdout",
     "output_type": "stream",
     "text": [
      "📂 D:\\DETECTION 1.0\\Celeb-DF\\Real Frames\\00002 | Total frames: 512\n"
     ]
    },
    {
     "name": "stderr",
     "output_type": "stream",
     "text": [
      "Processing 00002: 100%|██████████| 511/511 [00:18<00:00, 27.62it/s]\n"
     ]
    },
    {
     "name": "stdout",
     "output_type": "stream",
     "text": [
      "📂 D:\\DETECTION 1.0\\Celeb-DF\\Real Frames\\00003 | Total frames: 295\n"
     ]
    },
    {
     "name": "stderr",
     "output_type": "stream",
     "text": [
      "Processing 00003: 100%|██████████| 294/294 [00:13<00:00, 22.32it/s]\n"
     ]
    },
    {
     "name": "stdout",
     "output_type": "stream",
     "text": [
      "📂 D:\\DETECTION 1.0\\Celeb-DF\\Real Frames\\00004 | Total frames: 450\n"
     ]
    },
    {
     "name": "stderr",
     "output_type": "stream",
     "text": [
      "Processing 00004: 100%|██████████| 449/449 [00:06<00:00, 72.08it/s]\n"
     ]
    },
    {
     "name": "stdout",
     "output_type": "stream",
     "text": [
      "📂 D:\\DETECTION 1.0\\Celeb-DF\\Real Frames\\00005 | Total frames: 463\n"
     ]
    },
    {
     "name": "stderr",
     "output_type": "stream",
     "text": [
      "Processing 00005: 100%|██████████| 462/462 [00:06<00:00, 69.12it/s]\n"
     ]
    },
    {
     "name": "stdout",
     "output_type": "stream",
     "text": [
      "📂 D:\\DETECTION 1.0\\Celeb-DF\\Real Frames\\00006 | Total frames: 486\n"
     ]
    },
    {
     "name": "stderr",
     "output_type": "stream",
     "text": [
      "Processing 00006: 100%|██████████| 485/485 [00:15<00:00, 32.17it/s]\n"
     ]
    },
    {
     "name": "stdout",
     "output_type": "stream",
     "text": [
      "📂 D:\\DETECTION 1.0\\Celeb-DF\\Real Frames\\00007 | Total frames: 474\n"
     ]
    },
    {
     "name": "stderr",
     "output_type": "stream",
     "text": [
      "Processing 00007: 100%|██████████| 473/473 [00:20<00:00, 22.85it/s]\n"
     ]
    },
    {
     "name": "stdout",
     "output_type": "stream",
     "text": [
      "📂 D:\\DETECTION 1.0\\Celeb-DF\\Real Frames\\00008 | Total frames: 477\n"
     ]
    },
    {
     "name": "stderr",
     "output_type": "stream",
     "text": [
      "Processing 00008: 100%|██████████| 476/476 [00:22<00:00, 21.62it/s]\n"
     ]
    },
    {
     "name": "stdout",
     "output_type": "stream",
     "text": [
      "📂 D:\\DETECTION 1.0\\Celeb-DF\\Real Frames\\00009 | Total frames: 575\n"
     ]
    },
    {
     "name": "stderr",
     "output_type": "stream",
     "text": [
      "Processing 00009: 100%|██████████| 574/574 [00:25<00:00, 22.67it/s]\n"
     ]
    },
    {
     "name": "stdout",
     "output_type": "stream",
     "text": [
      "📂 D:\\DETECTION 1.0\\Celeb-DF\\Real Frames\\00010 | Total frames: 422\n"
     ]
    },
    {
     "name": "stderr",
     "output_type": "stream",
     "text": [
      "Processing 00010: 100%|██████████| 421/421 [00:06<00:00, 68.75it/s]\n"
     ]
    },
    {
     "name": "stdout",
     "output_type": "stream",
     "text": [
      "📂 D:\\DETECTION 1.0\\Celeb-DF\\Real Frames\\00011 | Total frames: 470\n"
     ]
    },
    {
     "name": "stderr",
     "output_type": "stream",
     "text": [
      "Processing 00011: 100%|██████████| 469/469 [00:06<00:00, 69.92it/s]\n"
     ]
    },
    {
     "name": "stdout",
     "output_type": "stream",
     "text": [
      "📂 D:\\DETECTION 1.0\\Celeb-DF\\Real Frames\\00012 | Total frames: 397\n"
     ]
    },
    {
     "name": "stderr",
     "output_type": "stream",
     "text": [
      "Processing 00012: 100%|██████████| 396/396 [00:06<00:00, 63.26it/s]\n"
     ]
    },
    {
     "name": "stdout",
     "output_type": "stream",
     "text": [
      "📂 D:\\DETECTION 1.0\\Celeb-DF\\Real Frames\\00013 | Total frames: 474\n"
     ]
    },
    {
     "name": "stderr",
     "output_type": "stream",
     "text": [
      "Processing 00013: 100%|██████████| 473/473 [00:06<00:00, 68.46it/s]\n"
     ]
    },
    {
     "name": "stdout",
     "output_type": "stream",
     "text": [
      "📂 D:\\DETECTION 1.0\\Celeb-DF\\Real Frames\\00014 | Total frames: 461\n"
     ]
    },
    {
     "name": "stderr",
     "output_type": "stream",
     "text": [
      "Processing 00014: 100%|██████████| 460/460 [00:06<00:00, 67.60it/s]\n"
     ]
    },
    {
     "name": "stdout",
     "output_type": "stream",
     "text": [
      "📂 D:\\DETECTION 1.0\\Celeb-DF\\Real Frames\\00015 | Total frames: 442\n"
     ]
    },
    {
     "name": "stderr",
     "output_type": "stream",
     "text": [
      "Processing 00015: 100%|██████████| 441/441 [00:06<00:00, 67.04it/s]\n"
     ]
    },
    {
     "name": "stdout",
     "output_type": "stream",
     "text": [
      "📂 D:\\DETECTION 1.0\\Celeb-DF\\Real Frames\\00016 | Total frames: 319\n"
     ]
    },
    {
     "name": "stderr",
     "output_type": "stream",
     "text": [
      "Processing 00016: 100%|██████████| 318/318 [00:04<00:00, 66.75it/s]\n"
     ]
    },
    {
     "name": "stdout",
     "output_type": "stream",
     "text": [
      "📂 D:\\DETECTION 1.0\\Celeb-DF\\Real Frames\\00017 | Total frames: 282\n"
     ]
    },
    {
     "name": "stderr",
     "output_type": "stream",
     "text": [
      "Processing 00017: 100%|██████████| 281/281 [00:04<00:00, 65.10it/s]\n"
     ]
    },
    {
     "name": "stdout",
     "output_type": "stream",
     "text": [
      "📂 D:\\DETECTION 1.0\\Celeb-DF\\Real Frames\\00018 | Total frames: 435\n"
     ]
    },
    {
     "name": "stderr",
     "output_type": "stream",
     "text": [
      "Processing 00018: 100%|██████████| 434/434 [00:06<00:00, 67.77it/s]\n"
     ]
    },
    {
     "name": "stdout",
     "output_type": "stream",
     "text": [
      "📂 D:\\DETECTION 1.0\\Celeb-DF\\Real Frames\\00019 | Total frames: 468\n"
     ]
    },
    {
     "name": "stderr",
     "output_type": "stream",
     "text": [
      "Processing 00019: 100%|██████████| 467/467 [00:07<00:00, 65.56it/s]\n"
     ]
    },
    {
     "name": "stdout",
     "output_type": "stream",
     "text": [
      "📂 D:\\DETECTION 1.0\\Celeb-DF\\Real Frames\\00020 | Total frames: 456\n"
     ]
    },
    {
     "name": "stderr",
     "output_type": "stream",
     "text": [
      "Processing 00020: 100%|██████████| 455/455 [00:07<00:00, 62.42it/s]\n"
     ]
    },
    {
     "name": "stdout",
     "output_type": "stream",
     "text": [
      "📂 D:\\DETECTION 1.0\\Celeb-DF\\Real Frames\\00021 | Total frames: 462\n"
     ]
    },
    {
     "name": "stderr",
     "output_type": "stream",
     "text": [
      "Processing 00021: 100%|██████████| 461/461 [00:07<00:00, 65.53it/s]\n"
     ]
    },
    {
     "name": "stdout",
     "output_type": "stream",
     "text": [
      "📂 D:\\DETECTION 1.0\\Celeb-DF\\Real Frames\\00022 | Total frames: 471\n"
     ]
    },
    {
     "name": "stderr",
     "output_type": "stream",
     "text": [
      "Processing 00022: 100%|██████████| 470/470 [00:06<00:00, 68.52it/s]\n"
     ]
    },
    {
     "name": "stdout",
     "output_type": "stream",
     "text": [
      "📂 D:\\DETECTION 1.0\\Celeb-DF\\Real Frames\\00023 | Total frames: 463\n"
     ]
    },
    {
     "name": "stderr",
     "output_type": "stream",
     "text": [
      "Processing 00023: 100%|██████████| 462/462 [00:06<00:00, 69.44it/s]\n"
     ]
    },
    {
     "name": "stdout",
     "output_type": "stream",
     "text": [
      "📂 D:\\DETECTION 1.0\\Celeb-DF\\Real Frames\\00024 | Total frames: 547\n"
     ]
    },
    {
     "name": "stderr",
     "output_type": "stream",
     "text": [
      "Processing 00024: 100%|██████████| 546/546 [00:08<00:00, 67.52it/s]\n"
     ]
    },
    {
     "name": "stdout",
     "output_type": "stream",
     "text": [
      "📂 D:\\DETECTION 1.0\\Celeb-DF\\Real Frames\\00025 | Total frames: 470\n"
     ]
    },
    {
     "name": "stderr",
     "output_type": "stream",
     "text": [
      "Processing 00025: 100%|██████████| 469/469 [00:06<00:00, 68.80it/s]\n"
     ]
    },
    {
     "name": "stdout",
     "output_type": "stream",
     "text": [
      "📂 D:\\DETECTION 1.0\\Celeb-DF\\Real Frames\\00026 | Total frames: 499\n"
     ]
    },
    {
     "name": "stderr",
     "output_type": "stream",
     "text": [
      "Processing 00026: 100%|██████████| 498/498 [00:07<00:00, 64.88it/s]\n"
     ]
    },
    {
     "name": "stdout",
     "output_type": "stream",
     "text": [
      "📂 D:\\DETECTION 1.0\\Celeb-DF\\Real Frames\\00027 | Total frames: 481\n"
     ]
    },
    {
     "name": "stderr",
     "output_type": "stream",
     "text": [
      "Processing 00027: 100%|██████████| 480/480 [00:07<00:00, 67.64it/s]\n"
     ]
    },
    {
     "name": "stdout",
     "output_type": "stream",
     "text": [
      "📂 D:\\DETECTION 1.0\\Celeb-DF\\Real Frames\\00028 | Total frames: 473\n"
     ]
    },
    {
     "name": "stderr",
     "output_type": "stream",
     "text": [
      "Processing 00028: 100%|██████████| 472/472 [00:07<00:00, 66.42it/s]\n"
     ]
    },
    {
     "name": "stdout",
     "output_type": "stream",
     "text": [
      "📂 D:\\DETECTION 1.0\\Celeb-DF\\Real Frames\\00029 | Total frames: 463\n"
     ]
    },
    {
     "name": "stderr",
     "output_type": "stream",
     "text": [
      "Processing 00029: 100%|██████████| 462/462 [00:08<00:00, 57.34it/s]\n"
     ]
    },
    {
     "name": "stdout",
     "output_type": "stream",
     "text": [
      "📂 D:\\DETECTION 1.0\\Celeb-DF\\Real Frames\\00030 | Total frames: 472\n"
     ]
    },
    {
     "name": "stderr",
     "output_type": "stream",
     "text": [
      "Processing 00030: 100%|██████████| 471/471 [00:07<00:00, 64.86it/s]\n"
     ]
    },
    {
     "name": "stdout",
     "output_type": "stream",
     "text": [
      "📂 D:\\DETECTION 1.0\\Celeb-DF\\Real Frames\\00031 | Total frames: 510\n"
     ]
    },
    {
     "name": "stderr",
     "output_type": "stream",
     "text": [
      "Processing 00031: 100%|██████████| 509/509 [00:08<00:00, 63.62it/s]\n"
     ]
    },
    {
     "name": "stdout",
     "output_type": "stream",
     "text": [
      "📂 D:\\DETECTION 1.0\\Celeb-DF\\Real Frames\\00032 | Total frames: 463\n"
     ]
    },
    {
     "name": "stderr",
     "output_type": "stream",
     "text": [
      "Processing 00032: 100%|██████████| 462/462 [00:07<00:00, 65.39it/s]\n"
     ]
    },
    {
     "name": "stdout",
     "output_type": "stream",
     "text": [
      "📂 D:\\DETECTION 1.0\\Celeb-DF\\Real Frames\\00033 | Total frames: 461\n"
     ]
    },
    {
     "name": "stderr",
     "output_type": "stream",
     "text": [
      "Processing 00033: 100%|██████████| 460/460 [00:06<00:00, 70.21it/s]\n"
     ]
    },
    {
     "name": "stdout",
     "output_type": "stream",
     "text": [
      "📂 D:\\DETECTION 1.0\\Celeb-DF\\Real Frames\\00034 | Total frames: 505\n"
     ]
    },
    {
     "name": "stderr",
     "output_type": "stream",
     "text": [
      "Processing 00034: 100%|██████████| 504/504 [00:07<00:00, 66.09it/s]\n"
     ]
    },
    {
     "name": "stdout",
     "output_type": "stream",
     "text": [
      "📂 D:\\DETECTION 1.0\\Celeb-DF\\Real Frames\\00035 | Total frames: 458\n"
     ]
    },
    {
     "name": "stderr",
     "output_type": "stream",
     "text": [
      "Processing 00035: 100%|██████████| 457/457 [00:07<00:00, 64.92it/s]\n"
     ]
    },
    {
     "name": "stdout",
     "output_type": "stream",
     "text": [
      "📂 D:\\DETECTION 1.0\\Celeb-DF\\Real Frames\\00036 | Total frames: 550\n"
     ]
    },
    {
     "name": "stderr",
     "output_type": "stream",
     "text": [
      "Processing 00036: 100%|██████████| 549/549 [00:08<00:00, 62.14it/s]\n"
     ]
    },
    {
     "name": "stdout",
     "output_type": "stream",
     "text": [
      "📂 D:\\DETECTION 1.0\\Celeb-DF\\Real Frames\\00037 | Total frames: 455\n"
     ]
    },
    {
     "name": "stderr",
     "output_type": "stream",
     "text": [
      "Processing 00037: 100%|██████████| 454/454 [00:07<00:00, 59.66it/s]\n"
     ]
    },
    {
     "name": "stdout",
     "output_type": "stream",
     "text": [
      "📂 D:\\DETECTION 1.0\\Celeb-DF\\Real Frames\\00038 | Total frames: 467\n"
     ]
    },
    {
     "name": "stderr",
     "output_type": "stream",
     "text": [
      "Processing 00038: 100%|██████████| 466/466 [00:07<00:00, 65.42it/s]\n"
     ]
    },
    {
     "name": "stdout",
     "output_type": "stream",
     "text": [
      "📂 D:\\DETECTION 1.0\\Celeb-DF\\Real Frames\\00039 | Total frames: 459\n"
     ]
    },
    {
     "name": "stderr",
     "output_type": "stream",
     "text": [
      "Processing 00039: 100%|██████████| 458/458 [00:07<00:00, 64.29it/s]\n"
     ]
    },
    {
     "name": "stdout",
     "output_type": "stream",
     "text": [
      "📂 D:\\DETECTION 1.0\\Celeb-DF\\Real Frames\\00040 | Total frames: 381\n"
     ]
    },
    {
     "name": "stderr",
     "output_type": "stream",
     "text": [
      "Processing 00040: 100%|██████████| 380/380 [00:05<00:00, 65.97it/s]\n"
     ]
    },
    {
     "name": "stdout",
     "output_type": "stream",
     "text": [
      "📂 D:\\DETECTION 1.0\\Celeb-DF\\Real Frames\\00041 | Total frames: 456\n"
     ]
    },
    {
     "name": "stderr",
     "output_type": "stream",
     "text": [
      "Processing 00041: 100%|██████████| 455/455 [00:07<00:00, 61.04it/s]\n"
     ]
    },
    {
     "name": "stdout",
     "output_type": "stream",
     "text": [
      "📂 D:\\DETECTION 1.0\\Celeb-DF\\Real Frames\\00042 | Total frames: 271\n"
     ]
    },
    {
     "name": "stderr",
     "output_type": "stream",
     "text": [
      "Processing 00042: 100%|██████████| 270/270 [00:04<00:00, 59.91it/s]\n"
     ]
    },
    {
     "name": "stdout",
     "output_type": "stream",
     "text": [
      "📂 D:\\DETECTION 1.0\\Celeb-DF\\Real Frames\\00043 | Total frames: 472\n"
     ]
    },
    {
     "name": "stderr",
     "output_type": "stream",
     "text": [
      "Processing 00043: 100%|██████████| 471/471 [00:07<00:00, 66.32it/s]\n"
     ]
    },
    {
     "name": "stdout",
     "output_type": "stream",
     "text": [
      "📂 D:\\DETECTION 1.0\\Celeb-DF\\Real Frames\\00044 | Total frames: 464\n"
     ]
    },
    {
     "name": "stderr",
     "output_type": "stream",
     "text": [
      "Processing 00044: 100%|██████████| 463/463 [00:07<00:00, 65.61it/s]\n"
     ]
    },
    {
     "name": "stdout",
     "output_type": "stream",
     "text": [
      "📂 D:\\DETECTION 1.0\\Celeb-DF\\Real Frames\\00045 | Total frames: 459\n"
     ]
    },
    {
     "name": "stderr",
     "output_type": "stream",
     "text": [
      "Processing 00045: 100%|██████████| 458/458 [00:07<00:00, 59.76it/s]\n"
     ]
    },
    {
     "name": "stdout",
     "output_type": "stream",
     "text": [
      "📂 D:\\DETECTION 1.0\\Celeb-DF\\Real Frames\\00046 | Total frames: 471\n"
     ]
    },
    {
     "name": "stderr",
     "output_type": "stream",
     "text": [
      "Processing 00046: 100%|██████████| 470/470 [00:07<00:00, 64.90it/s]\n"
     ]
    },
    {
     "name": "stdout",
     "output_type": "stream",
     "text": [
      "📂 D:\\DETECTION 1.0\\Celeb-DF\\Real Frames\\00047 | Total frames: 489\n"
     ]
    },
    {
     "name": "stderr",
     "output_type": "stream",
     "text": [
      "Processing 00047: 100%|██████████| 488/488 [00:07<00:00, 62.54it/s]\n"
     ]
    },
    {
     "name": "stdout",
     "output_type": "stream",
     "text": [
      "📂 D:\\DETECTION 1.0\\Celeb-DF\\Real Frames\\00048 | Total frames: 484\n"
     ]
    },
    {
     "name": "stderr",
     "output_type": "stream",
     "text": [
      "Processing 00048: 100%|██████████| 483/483 [00:08<00:00, 59.13it/s]\n"
     ]
    },
    {
     "name": "stdout",
     "output_type": "stream",
     "text": [
      "📂 D:\\DETECTION 1.0\\Celeb-DF\\Real Frames\\00049 | Total frames: 476\n"
     ]
    },
    {
     "name": "stderr",
     "output_type": "stream",
     "text": [
      "Processing 00049: 100%|██████████| 475/475 [00:08<00:00, 58.32it/s]\n"
     ]
    },
    {
     "name": "stdout",
     "output_type": "stream",
     "text": [
      "📂 D:\\DETECTION 1.0\\Celeb-DF\\Real Frames\\00050 | Total frames: 470\n"
     ]
    },
    {
     "name": "stderr",
     "output_type": "stream",
     "text": [
      "Processing 00050: 100%|██████████| 469/469 [00:07<00:00, 59.70it/s]\n"
     ]
    },
    {
     "name": "stdout",
     "output_type": "stream",
     "text": [
      "📂 D:\\DETECTION 1.0\\Celeb-DF\\Real Frames\\00051 | Total frames: 367\n"
     ]
    },
    {
     "name": "stderr",
     "output_type": "stream",
     "text": [
      "Processing 00051: 100%|██████████| 366/366 [00:06<00:00, 57.62it/s]\n"
     ]
    },
    {
     "name": "stdout",
     "output_type": "stream",
     "text": [
      "📂 D:\\DETECTION 1.0\\Celeb-DF\\Real Frames\\00052 | Total frames: 464\n"
     ]
    },
    {
     "name": "stderr",
     "output_type": "stream",
     "text": [
      "Processing 00052: 100%|██████████| 463/463 [00:08<00:00, 56.71it/s]\n"
     ]
    },
    {
     "name": "stdout",
     "output_type": "stream",
     "text": [
      "📂 D:\\DETECTION 1.0\\Celeb-DF\\Real Frames\\00053 | Total frames: 468\n"
     ]
    },
    {
     "name": "stderr",
     "output_type": "stream",
     "text": [
      "Processing 00053: 100%|██████████| 467/467 [00:07<00:00, 62.48it/s]\n"
     ]
    },
    {
     "name": "stdout",
     "output_type": "stream",
     "text": [
      "📂 D:\\DETECTION 1.0\\Celeb-DF\\Real Frames\\00054 | Total frames: 417\n"
     ]
    },
    {
     "name": "stderr",
     "output_type": "stream",
     "text": [
      "Processing 00054: 100%|██████████| 416/416 [00:06<00:00, 59.62it/s]\n"
     ]
    },
    {
     "name": "stdout",
     "output_type": "stream",
     "text": [
      "📂 D:\\DETECTION 1.0\\Celeb-DF\\Real Frames\\00055 | Total frames: 468\n"
     ]
    },
    {
     "name": "stderr",
     "output_type": "stream",
     "text": [
      "Processing 00055: 100%|██████████| 467/467 [00:07<00:00, 65.94it/s]\n"
     ]
    },
    {
     "name": "stdout",
     "output_type": "stream",
     "text": [
      "📂 D:\\DETECTION 1.0\\Celeb-DF\\Real Frames\\00056 | Total frames: 534\n"
     ]
    },
    {
     "name": "stderr",
     "output_type": "stream",
     "text": [
      "Processing 00056: 100%|██████████| 533/533 [00:08<00:00, 63.34it/s]\n"
     ]
    },
    {
     "name": "stdout",
     "output_type": "stream",
     "text": [
      "📂 D:\\DETECTION 1.0\\Celeb-DF\\Real Frames\\00057 | Total frames: 466\n"
     ]
    },
    {
     "name": "stderr",
     "output_type": "stream",
     "text": [
      "Processing 00057: 100%|██████████| 465/465 [00:07<00:00, 61.26it/s]\n"
     ]
    },
    {
     "name": "stdout",
     "output_type": "stream",
     "text": [
      "📂 D:\\DETECTION 1.0\\Celeb-DF\\Real Frames\\00058 | Total frames: 507\n"
     ]
    },
    {
     "name": "stderr",
     "output_type": "stream",
     "text": [
      "Processing 00058: 100%|██████████| 506/506 [00:08<00:00, 61.37it/s]\n"
     ]
    },
    {
     "name": "stdout",
     "output_type": "stream",
     "text": [
      "📂 D:\\DETECTION 1.0\\Celeb-DF\\Real Frames\\00059 | Total frames: 474\n"
     ]
    },
    {
     "name": "stderr",
     "output_type": "stream",
     "text": [
      "Processing 00059: 100%|██████████| 473/473 [00:07<00:00, 63.69it/s]\n"
     ]
    },
    {
     "name": "stdout",
     "output_type": "stream",
     "text": [
      "📂 D:\\DETECTION 1.0\\Celeb-DF\\Real Frames\\00060 | Total frames: 478\n"
     ]
    },
    {
     "name": "stderr",
     "output_type": "stream",
     "text": [
      "Processing 00060: 100%|██████████| 477/477 [00:07<00:00, 60.16it/s]\n"
     ]
    },
    {
     "name": "stdout",
     "output_type": "stream",
     "text": [
      "📂 D:\\DETECTION 1.0\\Celeb-DF\\Real Frames\\00061 | Total frames: 412\n"
     ]
    },
    {
     "name": "stderr",
     "output_type": "stream",
     "text": [
      "Processing 00061: 100%|██████████| 411/411 [00:06<00:00, 62.41it/s]\n"
     ]
    },
    {
     "name": "stdout",
     "output_type": "stream",
     "text": [
      "📂 D:\\DETECTION 1.0\\Celeb-DF\\Real Frames\\00062 | Total frames: 478\n"
     ]
    },
    {
     "name": "stderr",
     "output_type": "stream",
     "text": [
      "Processing 00062: 100%|██████████| 477/477 [00:07<00:00, 61.77it/s]\n"
     ]
    },
    {
     "name": "stdout",
     "output_type": "stream",
     "text": [
      "📂 D:\\DETECTION 1.0\\Celeb-DF\\Real Frames\\00063 | Total frames: 477\n"
     ]
    },
    {
     "name": "stderr",
     "output_type": "stream",
     "text": [
      "Processing 00063: 100%|██████████| 476/476 [00:07<00:00, 60.03it/s]\n"
     ]
    },
    {
     "name": "stdout",
     "output_type": "stream",
     "text": [
      "📂 D:\\DETECTION 1.0\\Celeb-DF\\Real Frames\\00064 | Total frames: 429\n"
     ]
    },
    {
     "name": "stderr",
     "output_type": "stream",
     "text": [
      "Processing 00064: 100%|██████████| 428/428 [00:07<00:00, 58.91it/s]\n"
     ]
    },
    {
     "name": "stdout",
     "output_type": "stream",
     "text": [
      "📂 D:\\DETECTION 1.0\\Celeb-DF\\Real Frames\\00065 | Total frames: 493\n"
     ]
    },
    {
     "name": "stderr",
     "output_type": "stream",
     "text": [
      "Processing 00065: 100%|██████████| 492/492 [00:07<00:00, 64.78it/s]\n"
     ]
    },
    {
     "name": "stdout",
     "output_type": "stream",
     "text": [
      "📂 D:\\DETECTION 1.0\\Celeb-DF\\Real Frames\\00066 | Total frames: 457\n"
     ]
    },
    {
     "name": "stderr",
     "output_type": "stream",
     "text": [
      "Processing 00066: 100%|██████████| 456/456 [00:07<00:00, 63.69it/s]\n"
     ]
    },
    {
     "name": "stdout",
     "output_type": "stream",
     "text": [
      "📂 D:\\DETECTION 1.0\\Celeb-DF\\Real Frames\\00067 | Total frames: 474\n"
     ]
    },
    {
     "name": "stderr",
     "output_type": "stream",
     "text": [
      "Processing 00067: 100%|██████████| 473/473 [00:07<00:00, 60.34it/s]\n"
     ]
    },
    {
     "name": "stdout",
     "output_type": "stream",
     "text": [
      "📂 D:\\DETECTION 1.0\\Celeb-DF\\Real Frames\\00068 | Total frames: 476\n"
     ]
    },
    {
     "name": "stderr",
     "output_type": "stream",
     "text": [
      "Processing 00068: 100%|██████████| 475/475 [00:07<00:00, 61.56it/s]\n"
     ]
    },
    {
     "name": "stdout",
     "output_type": "stream",
     "text": [
      "📂 D:\\DETECTION 1.0\\Celeb-DF\\Real Frames\\00069 | Total frames: 432\n"
     ]
    },
    {
     "name": "stderr",
     "output_type": "stream",
     "text": [
      "Processing 00069: 100%|██████████| 431/431 [00:07<00:00, 60.22it/s]\n"
     ]
    },
    {
     "name": "stdout",
     "output_type": "stream",
     "text": [
      "📂 D:\\DETECTION 1.0\\Celeb-DF\\Real Frames\\00070 | Total frames: 357\n"
     ]
    },
    {
     "name": "stderr",
     "output_type": "stream",
     "text": [
      "Processing 00070: 100%|██████████| 356/356 [00:07<00:00, 45.00it/s]\n"
     ]
    },
    {
     "name": "stdout",
     "output_type": "stream",
     "text": [
      "📂 D:\\DETECTION 1.0\\Celeb-DF\\Real Frames\\00071 | Total frames: 508\n"
     ]
    },
    {
     "name": "stderr",
     "output_type": "stream",
     "text": [
      "Processing 00071: 100%|██████████| 507/507 [00:08<00:00, 59.36it/s]\n"
     ]
    },
    {
     "name": "stdout",
     "output_type": "stream",
     "text": [
      "📂 D:\\DETECTION 1.0\\Celeb-DF\\Real Frames\\00072 | Total frames: 478\n"
     ]
    },
    {
     "name": "stderr",
     "output_type": "stream",
     "text": [
      "Processing 00072: 100%|██████████| 477/477 [00:07<00:00, 61.21it/s]\n"
     ]
    },
    {
     "name": "stdout",
     "output_type": "stream",
     "text": [
      "📂 D:\\DETECTION 1.0\\Celeb-DF\\Real Frames\\00073 | Total frames: 475\n"
     ]
    },
    {
     "name": "stderr",
     "output_type": "stream",
     "text": [
      "Processing 00073: 100%|██████████| 474/474 [00:07<00:00, 65.33it/s]\n"
     ]
    },
    {
     "name": "stdout",
     "output_type": "stream",
     "text": [
      "📂 D:\\DETECTION 1.0\\Celeb-DF\\Real Frames\\00074 | Total frames: 471\n"
     ]
    },
    {
     "name": "stderr",
     "output_type": "stream",
     "text": [
      "Processing 00074: 100%|██████████| 470/470 [00:07<00:00, 59.00it/s]\n"
     ]
    },
    {
     "name": "stdout",
     "output_type": "stream",
     "text": [
      "📂 D:\\DETECTION 1.0\\Celeb-DF\\Real Frames\\00075 | Total frames: 474\n"
     ]
    },
    {
     "name": "stderr",
     "output_type": "stream",
     "text": [
      "Processing 00075: 100%|██████████| 473/473 [00:07<00:00, 62.45it/s]\n"
     ]
    },
    {
     "name": "stdout",
     "output_type": "stream",
     "text": [
      "📂 D:\\DETECTION 1.0\\Celeb-DF\\Real Frames\\00076 | Total frames: 479\n"
     ]
    },
    {
     "name": "stderr",
     "output_type": "stream",
     "text": [
      "Processing 00076: 100%|██████████| 478/478 [00:08<00:00, 59.10it/s]\n"
     ]
    },
    {
     "name": "stdout",
     "output_type": "stream",
     "text": [
      "📂 D:\\DETECTION 1.0\\Celeb-DF\\Real Frames\\00077 | Total frames: 475\n"
     ]
    },
    {
     "name": "stderr",
     "output_type": "stream",
     "text": [
      "Processing 00077: 100%|██████████| 474/474 [00:07<00:00, 62.57it/s]\n"
     ]
    },
    {
     "name": "stdout",
     "output_type": "stream",
     "text": [
      "📂 D:\\DETECTION 1.0\\Celeb-DF\\Real Frames\\00078 | Total frames: 492\n"
     ]
    },
    {
     "name": "stderr",
     "output_type": "stream",
     "text": [
      "Processing 00078: 100%|██████████| 491/491 [00:07<00:00, 62.02it/s]\n"
     ]
    },
    {
     "name": "stdout",
     "output_type": "stream",
     "text": [
      "📂 D:\\DETECTION 1.0\\Celeb-DF\\Real Frames\\00079 | Total frames: 386\n"
     ]
    },
    {
     "name": "stderr",
     "output_type": "stream",
     "text": [
      "Processing 00079: 100%|██████████| 385/385 [00:06<00:00, 57.66it/s]\n"
     ]
    },
    {
     "name": "stdout",
     "output_type": "stream",
     "text": [
      "📂 D:\\DETECTION 1.0\\Celeb-DF\\Real Frames\\00080 | Total frames: 478\n"
     ]
    },
    {
     "name": "stderr",
     "output_type": "stream",
     "text": [
      "Processing 00080: 100%|██████████| 477/477 [00:07<00:00, 61.91it/s]\n"
     ]
    },
    {
     "name": "stdout",
     "output_type": "stream",
     "text": [
      "📂 D:\\DETECTION 1.0\\Celeb-DF\\Real Frames\\00081 | Total frames: 452\n"
     ]
    },
    {
     "name": "stderr",
     "output_type": "stream",
     "text": [
      "Processing 00081: 100%|██████████| 451/451 [00:07<00:00, 61.32it/s]\n"
     ]
    },
    {
     "name": "stdout",
     "output_type": "stream",
     "text": [
      "📂 D:\\DETECTION 1.0\\Celeb-DF\\Real Frames\\00082 | Total frames: 462\n"
     ]
    },
    {
     "name": "stderr",
     "output_type": "stream",
     "text": [
      "Processing 00082: 100%|██████████| 461/461 [00:07<00:00, 63.90it/s]\n"
     ]
    },
    {
     "name": "stdout",
     "output_type": "stream",
     "text": [
      "📂 D:\\DETECTION 1.0\\Celeb-DF\\Real Frames\\00083 | Total frames: 359\n"
     ]
    },
    {
     "name": "stderr",
     "output_type": "stream",
     "text": [
      "Processing 00083: 100%|██████████| 358/358 [00:05<00:00, 60.22it/s]\n"
     ]
    },
    {
     "name": "stdout",
     "output_type": "stream",
     "text": [
      "📂 D:\\DETECTION 1.0\\Celeb-DF\\Real Frames\\00084 | Total frames: 408\n"
     ]
    },
    {
     "name": "stderr",
     "output_type": "stream",
     "text": [
      "Processing 00084: 100%|██████████| 407/407 [00:06<00:00, 62.43it/s]\n"
     ]
    },
    {
     "name": "stdout",
     "output_type": "stream",
     "text": [
      "📂 D:\\DETECTION 1.0\\Celeb-DF\\Real Frames\\00085 | Total frames: 658\n"
     ]
    },
    {
     "name": "stderr",
     "output_type": "stream",
     "text": [
      "Processing 00085: 100%|██████████| 657/657 [00:10<00:00, 62.14it/s]\n"
     ]
    },
    {
     "name": "stdout",
     "output_type": "stream",
     "text": [
      "📂 D:\\DETECTION 1.0\\Celeb-DF\\Real Frames\\00086 | Total frames: 482\n"
     ]
    },
    {
     "name": "stderr",
     "output_type": "stream",
     "text": [
      "Processing 00086: 100%|██████████| 481/481 [00:08<00:00, 59.93it/s]\n"
     ]
    },
    {
     "name": "stdout",
     "output_type": "stream",
     "text": [
      "📂 D:\\DETECTION 1.0\\Celeb-DF\\Real Frames\\00087 | Total frames: 468\n"
     ]
    },
    {
     "name": "stderr",
     "output_type": "stream",
     "text": [
      "Processing 00087: 100%|██████████| 467/467 [00:07<00:00, 61.56it/s]\n"
     ]
    },
    {
     "name": "stdout",
     "output_type": "stream",
     "text": [
      "📂 D:\\DETECTION 1.0\\Celeb-DF\\Real Frames\\00088 | Total frames: 493\n"
     ]
    },
    {
     "name": "stderr",
     "output_type": "stream",
     "text": [
      "Processing 00088: 100%|██████████| 492/492 [00:07<00:00, 64.72it/s]\n"
     ]
    },
    {
     "name": "stdout",
     "output_type": "stream",
     "text": [
      "📂 D:\\DETECTION 1.0\\Celeb-DF\\Real Frames\\00089 | Total frames: 485\n"
     ]
    },
    {
     "name": "stderr",
     "output_type": "stream",
     "text": [
      "Processing 00089: 100%|██████████| 484/484 [00:07<00:00, 65.82it/s]\n"
     ]
    },
    {
     "name": "stdout",
     "output_type": "stream",
     "text": [
      "📂 D:\\DETECTION 1.0\\Celeb-DF\\Real Frames\\00090 | Total frames: 416\n"
     ]
    },
    {
     "name": "stderr",
     "output_type": "stream",
     "text": [
      "Processing 00090: 100%|██████████| 415/415 [00:06<00:00, 63.83it/s]\n"
     ]
    },
    {
     "name": "stdout",
     "output_type": "stream",
     "text": [
      "📂 D:\\DETECTION 1.0\\Celeb-DF\\Real Frames\\00091 | Total frames: 455\n"
     ]
    },
    {
     "name": "stderr",
     "output_type": "stream",
     "text": [
      "Processing 00091: 100%|██████████| 454/454 [00:06<00:00, 65.08it/s]\n"
     ]
    },
    {
     "name": "stdout",
     "output_type": "stream",
     "text": [
      "📂 D:\\DETECTION 1.0\\Celeb-DF\\Real Frames\\00092 | Total frames: 549\n"
     ]
    },
    {
     "name": "stderr",
     "output_type": "stream",
     "text": [
      "Processing 00092: 100%|██████████| 548/548 [00:08<00:00, 64.25it/s]\n"
     ]
    },
    {
     "name": "stdout",
     "output_type": "stream",
     "text": [
      "📂 D:\\DETECTION 1.0\\Celeb-DF\\Real Frames\\00093 | Total frames: 495\n"
     ]
    },
    {
     "name": "stderr",
     "output_type": "stream",
     "text": [
      "Processing 00093: 100%|██████████| 494/494 [00:10<00:00, 47.72it/s]\n"
     ]
    },
    {
     "name": "stdout",
     "output_type": "stream",
     "text": [
      "📂 D:\\DETECTION 1.0\\Celeb-DF\\Real Frames\\00094 | Total frames: 414\n"
     ]
    },
    {
     "name": "stderr",
     "output_type": "stream",
     "text": [
      "Processing 00094: 100%|██████████| 413/413 [00:06<00:00, 63.60it/s]\n"
     ]
    },
    {
     "name": "stdout",
     "output_type": "stream",
     "text": [
      "📂 D:\\DETECTION 1.0\\Celeb-DF\\Real Frames\\00095 | Total frames: 487\n"
     ]
    },
    {
     "name": "stderr",
     "output_type": "stream",
     "text": [
      "Processing 00095: 100%|██████████| 486/486 [00:07<00:00, 61.55it/s]\n"
     ]
    },
    {
     "name": "stdout",
     "output_type": "stream",
     "text": [
      "📂 D:\\DETECTION 1.0\\Celeb-DF\\Real Frames\\00096 | Total frames: 305\n"
     ]
    },
    {
     "name": "stderr",
     "output_type": "stream",
     "text": [
      "Processing 00096: 100%|██████████| 304/304 [00:04<00:00, 65.10it/s]\n"
     ]
    },
    {
     "name": "stdout",
     "output_type": "stream",
     "text": [
      "📂 D:\\DETECTION 1.0\\Celeb-DF\\Real Frames\\00097 | Total frames: 502\n"
     ]
    },
    {
     "name": "stderr",
     "output_type": "stream",
     "text": [
      "Processing 00097: 100%|██████████| 501/501 [00:07<00:00, 65.35it/s]\n"
     ]
    },
    {
     "name": "stdout",
     "output_type": "stream",
     "text": [
      "📂 D:\\DETECTION 1.0\\Celeb-DF\\Real Frames\\00098 | Total frames: 453\n"
     ]
    },
    {
     "name": "stderr",
     "output_type": "stream",
     "text": [
      "Processing 00098: 100%|██████████| 452/452 [00:06<00:00, 64.91it/s]\n"
     ]
    },
    {
     "name": "stdout",
     "output_type": "stream",
     "text": [
      "📂 D:\\DETECTION 1.0\\Celeb-DF\\Real Frames\\00099 | Total frames: 494\n"
     ]
    },
    {
     "name": "stderr",
     "output_type": "stream",
     "text": [
      "Processing 00099: 100%|██████████| 493/493 [00:07<00:00, 63.72it/s]\n"
     ]
    },
    {
     "name": "stdout",
     "output_type": "stream",
     "text": [
      "📂 D:\\DETECTION 1.0\\Celeb-DF\\Real Frames\\00100 | Total frames: 534\n"
     ]
    },
    {
     "name": "stderr",
     "output_type": "stream",
     "text": [
      "Processing 00100: 100%|██████████| 533/533 [00:08<00:00, 62.94it/s]\n"
     ]
    },
    {
     "name": "stdout",
     "output_type": "stream",
     "text": [
      "📂 D:\\DETECTION 1.0\\Celeb-DF\\Real Frames\\00101 | Total frames: 440\n"
     ]
    },
    {
     "name": "stderr",
     "output_type": "stream",
     "text": [
      "Processing 00101: 100%|██████████| 439/439 [00:06<00:00, 65.49it/s]\n"
     ]
    },
    {
     "name": "stdout",
     "output_type": "stream",
     "text": [
      "📂 D:\\DETECTION 1.0\\Celeb-DF\\Real Frames\\00102 | Total frames: 457\n"
     ]
    },
    {
     "name": "stderr",
     "output_type": "stream",
     "text": [
      "Processing 00102: 100%|██████████| 456/456 [00:07<00:00, 62.80it/s]\n"
     ]
    },
    {
     "name": "stdout",
     "output_type": "stream",
     "text": [
      "📂 D:\\DETECTION 1.0\\Celeb-DF\\Real Frames\\00103 | Total frames: 474\n"
     ]
    },
    {
     "name": "stderr",
     "output_type": "stream",
     "text": [
      "Processing 00103: 100%|██████████| 473/473 [00:07<00:00, 64.39it/s]\n"
     ]
    },
    {
     "name": "stdout",
     "output_type": "stream",
     "text": [
      "📂 D:\\DETECTION 1.0\\Celeb-DF\\Real Frames\\00104 | Total frames: 499\n"
     ]
    },
    {
     "name": "stderr",
     "output_type": "stream",
     "text": [
      "Processing 00104: 100%|██████████| 498/498 [00:07<00:00, 63.76it/s]\n"
     ]
    },
    {
     "name": "stdout",
     "output_type": "stream",
     "text": [
      "📂 D:\\DETECTION 1.0\\Celeb-DF\\Real Frames\\00105 | Total frames: 504\n"
     ]
    },
    {
     "name": "stderr",
     "output_type": "stream",
     "text": [
      "Processing 00105: 100%|██████████| 503/503 [00:08<00:00, 61.59it/s]\n"
     ]
    },
    {
     "name": "stdout",
     "output_type": "stream",
     "text": [
      "📂 D:\\DETECTION 1.0\\Celeb-DF\\Real Frames\\00106 | Total frames: 327\n"
     ]
    },
    {
     "name": "stderr",
     "output_type": "stream",
     "text": [
      "Processing 00106: 100%|██████████| 326/326 [00:05<00:00, 64.19it/s]\n"
     ]
    },
    {
     "name": "stdout",
     "output_type": "stream",
     "text": [
      "📂 D:\\DETECTION 1.0\\Celeb-DF\\Real Frames\\00107 | Total frames: 462\n"
     ]
    },
    {
     "name": "stderr",
     "output_type": "stream",
     "text": [
      "Processing 00107: 100%|██████████| 461/461 [00:07<00:00, 65.46it/s]\n"
     ]
    },
    {
     "name": "stdout",
     "output_type": "stream",
     "text": [
      "📂 D:\\DETECTION 1.0\\Celeb-DF\\Real Frames\\00108 | Total frames: 478\n"
     ]
    },
    {
     "name": "stderr",
     "output_type": "stream",
     "text": [
      "Processing 00108: 100%|██████████| 477/477 [00:07<00:00, 64.88it/s]\n"
     ]
    },
    {
     "name": "stdout",
     "output_type": "stream",
     "text": [
      "📂 D:\\DETECTION 1.0\\Celeb-DF\\Real Frames\\00109 | Total frames: 264\n"
     ]
    },
    {
     "name": "stderr",
     "output_type": "stream",
     "text": [
      "Processing 00109: 100%|██████████| 263/263 [00:04<00:00, 62.88it/s]\n"
     ]
    },
    {
     "name": "stdout",
     "output_type": "stream",
     "text": [
      "📂 D:\\DETECTION 1.0\\Celeb-DF\\Real Frames\\00110 | Total frames: 479\n"
     ]
    },
    {
     "name": "stderr",
     "output_type": "stream",
     "text": [
      "Processing 00110: 100%|██████████| 478/478 [00:07<00:00, 64.35it/s]\n"
     ]
    },
    {
     "name": "stdout",
     "output_type": "stream",
     "text": [
      "📂 D:\\DETECTION 1.0\\Celeb-DF\\Real Frames\\00111 | Total frames: 467\n"
     ]
    },
    {
     "name": "stderr",
     "output_type": "stream",
     "text": [
      "Processing 00111: 100%|██████████| 466/466 [00:07<00:00, 63.41it/s]\n"
     ]
    },
    {
     "name": "stdout",
     "output_type": "stream",
     "text": [
      "📂 D:\\DETECTION 1.0\\Celeb-DF\\Real Frames\\00112 | Total frames: 477\n"
     ]
    },
    {
     "name": "stderr",
     "output_type": "stream",
     "text": [
      "Processing 00112: 100%|██████████| 476/476 [00:07<00:00, 64.72it/s]\n"
     ]
    },
    {
     "name": "stdout",
     "output_type": "stream",
     "text": [
      "📂 D:\\DETECTION 1.0\\Celeb-DF\\Real Frames\\00113 | Total frames: 504\n"
     ]
    },
    {
     "name": "stderr",
     "output_type": "stream",
     "text": [
      "Processing 00113: 100%|██████████| 503/503 [00:07<00:00, 63.96it/s]\n"
     ]
    },
    {
     "name": "stdout",
     "output_type": "stream",
     "text": [
      "📂 D:\\DETECTION 1.0\\Celeb-DF\\Real Frames\\00114 | Total frames: 340\n"
     ]
    },
    {
     "name": "stderr",
     "output_type": "stream",
     "text": [
      "Processing 00114: 100%|██████████| 339/339 [00:05<00:00, 64.03it/s]\n"
     ]
    },
    {
     "name": "stdout",
     "output_type": "stream",
     "text": [
      "📂 D:\\DETECTION 1.0\\Celeb-DF\\Real Frames\\00115 | Total frames: 312\n"
     ]
    },
    {
     "name": "stderr",
     "output_type": "stream",
     "text": [
      "Processing 00115: 100%|██████████| 311/311 [00:04<00:00, 65.66it/s]\n"
     ]
    },
    {
     "name": "stdout",
     "output_type": "stream",
     "text": [
      "📂 D:\\DETECTION 1.0\\Celeb-DF\\Real Frames\\00116 | Total frames: 471\n"
     ]
    },
    {
     "name": "stderr",
     "output_type": "stream",
     "text": [
      "Processing 00116: 100%|██████████| 470/470 [00:07<00:00, 64.69it/s]\n"
     ]
    },
    {
     "name": "stdout",
     "output_type": "stream",
     "text": [
      "📂 D:\\DETECTION 1.0\\Celeb-DF\\Real Frames\\00117 | Total frames: 462\n"
     ]
    },
    {
     "name": "stderr",
     "output_type": "stream",
     "text": [
      "Processing 00117: 100%|██████████| 461/461 [00:06<00:00, 66.83it/s]\n"
     ]
    },
    {
     "name": "stdout",
     "output_type": "stream",
     "text": [
      "📂 D:\\DETECTION 1.0\\Celeb-DF\\Real Frames\\00118 | Total frames: 474\n"
     ]
    },
    {
     "name": "stderr",
     "output_type": "stream",
     "text": [
      "Processing 00118: 100%|██████████| 473/473 [00:07<00:00, 63.94it/s]\n"
     ]
    },
    {
     "name": "stdout",
     "output_type": "stream",
     "text": [
      "📂 D:\\DETECTION 1.0\\Celeb-DF\\Real Frames\\00119 | Total frames: 424\n"
     ]
    },
    {
     "name": "stderr",
     "output_type": "stream",
     "text": [
      "Processing 00119: 100%|██████████| 423/423 [00:06<00:00, 64.81it/s]\n"
     ]
    },
    {
     "name": "stdout",
     "output_type": "stream",
     "text": [
      "📂 D:\\DETECTION 1.0\\Celeb-DF\\Real Frames\\00120 | Total frames: 468\n"
     ]
    },
    {
     "name": "stderr",
     "output_type": "stream",
     "text": [
      "Processing 00120: 100%|██████████| 467/467 [00:07<00:00, 63.78it/s]\n"
     ]
    },
    {
     "name": "stdout",
     "output_type": "stream",
     "text": [
      "📂 D:\\DETECTION 1.0\\Celeb-DF\\Real Frames\\00121 | Total frames: 468\n"
     ]
    },
    {
     "name": "stderr",
     "output_type": "stream",
     "text": [
      "Processing 00121: 100%|██████████| 467/467 [00:07<00:00, 65.17it/s]\n"
     ]
    },
    {
     "name": "stdout",
     "output_type": "stream",
     "text": [
      "📂 D:\\DETECTION 1.0\\Celeb-DF\\Real Frames\\00122 | Total frames: 362\n"
     ]
    },
    {
     "name": "stderr",
     "output_type": "stream",
     "text": [
      "Processing 00122: 100%|██████████| 361/361 [00:05<00:00, 64.36it/s]\n"
     ]
    },
    {
     "name": "stdout",
     "output_type": "stream",
     "text": [
      "📂 D:\\DETECTION 1.0\\Celeb-DF\\Real Frames\\00123 | Total frames: 303\n"
     ]
    },
    {
     "name": "stderr",
     "output_type": "stream",
     "text": [
      "Processing 00123: 100%|██████████| 302/302 [00:04<00:00, 64.52it/s]\n"
     ]
    },
    {
     "name": "stdout",
     "output_type": "stream",
     "text": [
      "📂 D:\\DETECTION 1.0\\Celeb-DF\\Real Frames\\00124 | Total frames: 421\n"
     ]
    },
    {
     "name": "stderr",
     "output_type": "stream",
     "text": [
      "Processing 00124: 100%|██████████| 420/420 [00:06<00:00, 61.61it/s]\n"
     ]
    },
    {
     "name": "stdout",
     "output_type": "stream",
     "text": [
      "📂 D:\\DETECTION 1.0\\Celeb-DF\\Real Frames\\00125 | Total frames: 280\n"
     ]
    },
    {
     "name": "stderr",
     "output_type": "stream",
     "text": [
      "Processing 00125: 100%|██████████| 279/279 [00:04<00:00, 63.07it/s]\n"
     ]
    },
    {
     "name": "stdout",
     "output_type": "stream",
     "text": [
      "📂 D:\\DETECTION 1.0\\Celeb-DF\\Real Frames\\00126 | Total frames: 455\n"
     ]
    },
    {
     "name": "stderr",
     "output_type": "stream",
     "text": [
      "Processing 00126: 100%|██████████| 454/454 [00:07<00:00, 63.18it/s]\n"
     ]
    },
    {
     "name": "stdout",
     "output_type": "stream",
     "text": [
      "📂 D:\\DETECTION 1.0\\Celeb-DF\\Real Frames\\00127 | Total frames: 483\n"
     ]
    },
    {
     "name": "stderr",
     "output_type": "stream",
     "text": [
      "Processing 00127: 100%|██████████| 482/482 [00:07<00:00, 65.72it/s]\n"
     ]
    },
    {
     "name": "stdout",
     "output_type": "stream",
     "text": [
      "📂 D:\\DETECTION 1.0\\Celeb-DF\\Real Frames\\00128 | Total frames: 460\n"
     ]
    },
    {
     "name": "stderr",
     "output_type": "stream",
     "text": [
      "Processing 00128: 100%|██████████| 459/459 [00:07<00:00, 62.91it/s]\n"
     ]
    },
    {
     "name": "stdout",
     "output_type": "stream",
     "text": [
      "📂 D:\\DETECTION 1.0\\Celeb-DF\\Real Frames\\00129 | Total frames: 467\n"
     ]
    },
    {
     "name": "stderr",
     "output_type": "stream",
     "text": [
      "Processing 00129: 100%|██████████| 466/466 [00:07<00:00, 66.15it/s]\n"
     ]
    },
    {
     "name": "stdout",
     "output_type": "stream",
     "text": [
      "📂 D:\\DETECTION 1.0\\Celeb-DF\\Real Frames\\00130 | Total frames: 398\n"
     ]
    },
    {
     "name": "stderr",
     "output_type": "stream",
     "text": [
      "Processing 00130: 100%|██████████| 397/397 [00:06<00:00, 63.68it/s]\n"
     ]
    },
    {
     "name": "stdout",
     "output_type": "stream",
     "text": [
      "📂 D:\\DETECTION 1.0\\Celeb-DF\\Real Frames\\00131 | Total frames: 357\n"
     ]
    },
    {
     "name": "stderr",
     "output_type": "stream",
     "text": [
      "Processing 00131: 100%|██████████| 356/356 [00:05<00:00, 64.22it/s]\n"
     ]
    },
    {
     "name": "stdout",
     "output_type": "stream",
     "text": [
      "📂 D:\\DETECTION 1.0\\Celeb-DF\\Real Frames\\00132 | Total frames: 350\n"
     ]
    },
    {
     "name": "stderr",
     "output_type": "stream",
     "text": [
      "Processing 00132: 100%|██████████| 349/349 [00:05<00:00, 61.32it/s]\n"
     ]
    },
    {
     "name": "stdout",
     "output_type": "stream",
     "text": [
      "📂 D:\\DETECTION 1.0\\Celeb-DF\\Real Frames\\00133 | Total frames: 499\n"
     ]
    },
    {
     "name": "stderr",
     "output_type": "stream",
     "text": [
      "Processing 00133: 100%|██████████| 498/498 [00:08<00:00, 62.10it/s]\n"
     ]
    },
    {
     "name": "stdout",
     "output_type": "stream",
     "text": [
      "📂 D:\\DETECTION 1.0\\Celeb-DF\\Real Frames\\00134 | Total frames: 481\n"
     ]
    },
    {
     "name": "stderr",
     "output_type": "stream",
     "text": [
      "Processing 00134: 100%|██████████| 480/480 [00:07<00:00, 63.31it/s]\n"
     ]
    },
    {
     "name": "stdout",
     "output_type": "stream",
     "text": [
      "📂 D:\\DETECTION 1.0\\Celeb-DF\\Real Frames\\00135 | Total frames: 354\n"
     ]
    },
    {
     "name": "stderr",
     "output_type": "stream",
     "text": [
      "Processing 00135: 100%|██████████| 353/353 [00:05<00:00, 65.44it/s]\n"
     ]
    },
    {
     "name": "stdout",
     "output_type": "stream",
     "text": [
      "📂 D:\\DETECTION 1.0\\Celeb-DF\\Real Frames\\00136 | Total frames: 293\n"
     ]
    },
    {
     "name": "stderr",
     "output_type": "stream",
     "text": [
      "Processing 00136: 100%|██████████| 292/292 [00:04<00:00, 63.93it/s]\n"
     ]
    },
    {
     "name": "stdout",
     "output_type": "stream",
     "text": [
      "📂 D:\\DETECTION 1.0\\Celeb-DF\\Real Frames\\00137 | Total frames: 353\n"
     ]
    },
    {
     "name": "stderr",
     "output_type": "stream",
     "text": [
      "Processing 00137: 100%|██████████| 352/352 [00:05<00:00, 62.72it/s]\n"
     ]
    },
    {
     "name": "stdout",
     "output_type": "stream",
     "text": [
      "📂 D:\\DETECTION 1.0\\Celeb-DF\\Real Frames\\00138 | Total frames: 481\n"
     ]
    },
    {
     "name": "stderr",
     "output_type": "stream",
     "text": [
      "Processing 00138: 100%|██████████| 480/480 [00:07<00:00, 62.90it/s]\n"
     ]
    },
    {
     "name": "stdout",
     "output_type": "stream",
     "text": [
      "📂 D:\\DETECTION 1.0\\Celeb-DF\\Real Frames\\00139 | Total frames: 553\n"
     ]
    },
    {
     "name": "stderr",
     "output_type": "stream",
     "text": [
      "Processing 00139: 100%|██████████| 552/552 [00:08<00:00, 63.10it/s]\n"
     ]
    },
    {
     "name": "stdout",
     "output_type": "stream",
     "text": [
      "📂 D:\\DETECTION 1.0\\Celeb-DF\\Real Frames\\00140 | Total frames: 382\n"
     ]
    },
    {
     "name": "stderr",
     "output_type": "stream",
     "text": [
      "Processing 00140: 100%|██████████| 381/381 [00:06<00:00, 61.35it/s]\n"
     ]
    },
    {
     "name": "stdout",
     "output_type": "stream",
     "text": [
      "📂 D:\\DETECTION 1.0\\Celeb-DF\\Real Frames\\00141 | Total frames: 445\n"
     ]
    },
    {
     "name": "stderr",
     "output_type": "stream",
     "text": [
      "Processing 00141: 100%|██████████| 444/444 [00:06<00:00, 66.65it/s]\n"
     ]
    },
    {
     "name": "stdout",
     "output_type": "stream",
     "text": [
      "📂 D:\\DETECTION 1.0\\Celeb-DF\\Real Frames\\00142 | Total frames: 450\n"
     ]
    },
    {
     "name": "stderr",
     "output_type": "stream",
     "text": [
      "Processing 00142: 100%|██████████| 449/449 [00:07<00:00, 62.70it/s]\n"
     ]
    },
    {
     "name": "stdout",
     "output_type": "stream",
     "text": [
      "📂 D:\\DETECTION 1.0\\Celeb-DF\\Real Frames\\00143 | Total frames: 462\n"
     ]
    },
    {
     "name": "stderr",
     "output_type": "stream",
     "text": [
      "Processing 00143: 100%|██████████| 461/461 [00:07<00:00, 65.34it/s]\n"
     ]
    },
    {
     "name": "stdout",
     "output_type": "stream",
     "text": [
      "📂 D:\\DETECTION 1.0\\Celeb-DF\\Real Frames\\00144 | Total frames: 451\n"
     ]
    },
    {
     "name": "stderr",
     "output_type": "stream",
     "text": [
      "Processing 00144: 100%|██████████| 450/450 [00:06<00:00, 67.53it/s]\n"
     ]
    },
    {
     "name": "stdout",
     "output_type": "stream",
     "text": [
      "📂 D:\\DETECTION 1.0\\Celeb-DF\\Real Frames\\00145 | Total frames: 469\n"
     ]
    },
    {
     "name": "stderr",
     "output_type": "stream",
     "text": [
      "Processing 00145: 100%|██████████| 468/468 [00:07<00:00, 60.07it/s]\n"
     ]
    },
    {
     "name": "stdout",
     "output_type": "stream",
     "text": [
      "📂 D:\\DETECTION 1.0\\Celeb-DF\\Real Frames\\00146 | Total frames: 722\n"
     ]
    },
    {
     "name": "stderr",
     "output_type": "stream",
     "text": [
      "Processing 00146: 100%|██████████| 721/721 [00:32<00:00, 22.06it/s]\n"
     ]
    },
    {
     "name": "stdout",
     "output_type": "stream",
     "text": [
      "📂 D:\\DETECTION 1.0\\Celeb-DF\\Real Frames\\00147 | Total frames: 514\n"
     ]
    },
    {
     "name": "stderr",
     "output_type": "stream",
     "text": [
      "Processing 00147: 100%|██████████| 513/513 [00:40<00:00, 12.77it/s]\n"
     ]
    },
    {
     "name": "stdout",
     "output_type": "stream",
     "text": [
      "📂 D:\\DETECTION 1.0\\Celeb-DF\\Real Frames\\00148 | Total frames: 459\n"
     ]
    },
    {
     "name": "stderr",
     "output_type": "stream",
     "text": [
      "Processing 00148: 100%|██████████| 458/458 [00:20<00:00, 22.52it/s]\n"
     ]
    },
    {
     "name": "stdout",
     "output_type": "stream",
     "text": [
      "📂 D:\\DETECTION 1.0\\Celeb-DF\\Real Frames\\00149 | Total frames: 506\n"
     ]
    },
    {
     "name": "stderr",
     "output_type": "stream",
     "text": [
      "Processing 00149: 100%|██████████| 505/505 [00:22<00:00, 22.47it/s]\n"
     ]
    },
    {
     "name": "stdout",
     "output_type": "stream",
     "text": [
      "📂 D:\\DETECTION 1.0\\Celeb-DF\\Real Frames\\00150 | Total frames: 461\n"
     ]
    },
    {
     "name": "stderr",
     "output_type": "stream",
     "text": [
      "Processing 00150: 100%|██████████| 460/460 [00:12<00:00, 36.35it/s]\n"
     ]
    },
    {
     "name": "stdout",
     "output_type": "stream",
     "text": [
      "📂 D:\\DETECTION 1.0\\Celeb-DF\\Real Frames\\00151 | Total frames: 504\n"
     ]
    },
    {
     "name": "stderr",
     "output_type": "stream",
     "text": [
      "Processing 00151: 100%|██████████| 503/503 [00:22<00:00, 22.77it/s]\n"
     ]
    },
    {
     "name": "stdout",
     "output_type": "stream",
     "text": [
      "📂 D:\\DETECTION 1.0\\Celeb-DF\\Real Frames\\00152 | Total frames: 698\n"
     ]
    },
    {
     "name": "stderr",
     "output_type": "stream",
     "text": [
      "Processing 00152: 100%|██████████| 697/697 [00:30<00:00, 22.75it/s]\n"
     ]
    },
    {
     "name": "stdout",
     "output_type": "stream",
     "text": [
      "📂 D:\\DETECTION 1.0\\Celeb-DF\\Real Frames\\00153 | Total frames: 488\n"
     ]
    },
    {
     "name": "stderr",
     "output_type": "stream",
     "text": [
      "Processing 00153: 100%|██████████| 487/487 [00:21<00:00, 22.17it/s]\n"
     ]
    },
    {
     "name": "stdout",
     "output_type": "stream",
     "text": [
      "📂 D:\\DETECTION 1.0\\Celeb-DF\\Real Frames\\00154 | Total frames: 375\n"
     ]
    },
    {
     "name": "stderr",
     "output_type": "stream",
     "text": [
      "Processing 00154: 100%|██████████| 374/374 [00:16<00:00, 22.23it/s]\n"
     ]
    },
    {
     "name": "stdout",
     "output_type": "stream",
     "text": [
      "📂 D:\\DETECTION 1.0\\Celeb-DF\\Real Frames\\00155 | Total frames: 573\n"
     ]
    },
    {
     "name": "stderr",
     "output_type": "stream",
     "text": [
      "Processing 00155: 100%|██████████| 572/572 [00:25<00:00, 22.81it/s]\n"
     ]
    },
    {
     "name": "stdout",
     "output_type": "stream",
     "text": [
      "📂 D:\\DETECTION 1.0\\Celeb-DF\\Real Frames\\00156 | Total frames: 445\n"
     ]
    },
    {
     "name": "stderr",
     "output_type": "stream",
     "text": [
      "Processing 00156: 100%|██████████| 444/444 [00:19<00:00, 22.23it/s]\n"
     ]
    },
    {
     "name": "stdout",
     "output_type": "stream",
     "text": [
      "📂 D:\\DETECTION 1.0\\Celeb-DF\\Real Frames\\00157 | Total frames: 450\n"
     ]
    },
    {
     "name": "stderr",
     "output_type": "stream",
     "text": [
      "Processing 00157: 100%|██████████| 449/449 [00:19<00:00, 22.99it/s]\n"
     ]
    },
    {
     "name": "stdout",
     "output_type": "stream",
     "text": [
      "📂 D:\\DETECTION 1.0\\Celeb-DF\\Real Frames\\00158 | Total frames: 455\n"
     ]
    },
    {
     "name": "stderr",
     "output_type": "stream",
     "text": [
      "Processing 00158: 100%|██████████| 454/454 [00:19<00:00, 22.94it/s]\n"
     ]
    },
    {
     "name": "stdout",
     "output_type": "stream",
     "text": [
      "📂 D:\\DETECTION 1.0\\Celeb-DF\\Real Frames\\00159 | Total frames: 448\n"
     ]
    },
    {
     "name": "stderr",
     "output_type": "stream",
     "text": [
      "Processing 00159: 100%|██████████| 447/447 [00:27<00:00, 16.30it/s]\n"
     ]
    },
    {
     "name": "stdout",
     "output_type": "stream",
     "text": [
      "📂 D:\\DETECTION 1.0\\Celeb-DF\\Real Frames\\00160 | Total frames: 490\n"
     ]
    },
    {
     "name": "stderr",
     "output_type": "stream",
     "text": [
      "Processing 00160: 100%|██████████| 489/489 [00:21<00:00, 22.83it/s]\n"
     ]
    },
    {
     "name": "stdout",
     "output_type": "stream",
     "text": [
      "📂 D:\\DETECTION 1.0\\Celeb-DF\\Real Frames\\00161 | Total frames: 519\n"
     ]
    },
    {
     "name": "stderr",
     "output_type": "stream",
     "text": [
      "Processing 00161: 100%|██████████| 518/518 [00:22<00:00, 22.57it/s]\n"
     ]
    },
    {
     "name": "stdout",
     "output_type": "stream",
     "text": [
      "📂 D:\\DETECTION 1.0\\Celeb-DF\\Real Frames\\00162 | Total frames: 447\n"
     ]
    },
    {
     "name": "stderr",
     "output_type": "stream",
     "text": [
      "Processing 00162: 100%|██████████| 446/446 [00:19<00:00, 23.25it/s]\n"
     ]
    },
    {
     "name": "stdout",
     "output_type": "stream",
     "text": [
      "📂 D:\\DETECTION 1.0\\Celeb-DF\\Real Frames\\00163 | Total frames: 475\n"
     ]
    },
    {
     "name": "stderr",
     "output_type": "stream",
     "text": [
      "Processing 00163: 100%|██████████| 474/474 [00:20<00:00, 23.31it/s]\n"
     ]
    },
    {
     "name": "stdout",
     "output_type": "stream",
     "text": [
      "📂 D:\\DETECTION 1.0\\Celeb-DF\\Real Frames\\00164 | Total frames: 526\n"
     ]
    },
    {
     "name": "stderr",
     "output_type": "stream",
     "text": [
      "Processing 00164: 100%|██████████| 525/525 [00:22<00:00, 23.84it/s]\n"
     ]
    },
    {
     "name": "stdout",
     "output_type": "stream",
     "text": [
      "📂 D:\\DETECTION 1.0\\Celeb-DF\\Real Frames\\00165 | Total frames: 470\n"
     ]
    },
    {
     "name": "stderr",
     "output_type": "stream",
     "text": [
      "Processing 00165: 100%|██████████| 469/469 [00:21<00:00, 22.03it/s]\n"
     ]
    },
    {
     "name": "stdout",
     "output_type": "stream",
     "text": [
      "📂 D:\\DETECTION 1.0\\Celeb-DF\\Real Frames\\00166 | Total frames: 469\n"
     ]
    },
    {
     "name": "stderr",
     "output_type": "stream",
     "text": [
      "Processing 00166: 100%|██████████| 468/468 [00:20<00:00, 22.69it/s]\n"
     ]
    },
    {
     "name": "stdout",
     "output_type": "stream",
     "text": [
      "📂 D:\\DETECTION 1.0\\Celeb-DF\\Real Frames\\00167 | Total frames: 477\n"
     ]
    },
    {
     "name": "stderr",
     "output_type": "stream",
     "text": [
      "Processing 00167: 100%|██████████| 476/476 [00:20<00:00, 23.12it/s]\n"
     ]
    },
    {
     "name": "stdout",
     "output_type": "stream",
     "text": [
      "📂 D:\\DETECTION 1.0\\Celeb-DF\\Real Frames\\00168 | Total frames: 476\n"
     ]
    },
    {
     "name": "stderr",
     "output_type": "stream",
     "text": [
      "Processing 00168: 100%|██████████| 475/475 [00:20<00:00, 23.01it/s]\n"
     ]
    },
    {
     "name": "stdout",
     "output_type": "stream",
     "text": [
      "📂 D:\\DETECTION 1.0\\Celeb-DF\\Real Frames\\00169 | Total frames: 432\n"
     ]
    },
    {
     "name": "stderr",
     "output_type": "stream",
     "text": [
      "Processing 00169: 100%|██████████| 431/431 [00:19<00:00, 22.48it/s]\n"
     ]
    },
    {
     "name": "stdout",
     "output_type": "stream",
     "text": [
      "📂 D:\\DETECTION 1.0\\Celeb-DF\\Real Frames\\00170 | Total frames: 348\n"
     ]
    },
    {
     "name": "stderr",
     "output_type": "stream",
     "text": [
      "Processing 00170: 100%|██████████| 347/347 [00:24<00:00, 14.26it/s]\n"
     ]
    },
    {
     "name": "stdout",
     "output_type": "stream",
     "text": [
      "📂 D:\\DETECTION 1.0\\Celeb-DF\\Real Frames\\00171 | Total frames: 436\n"
     ]
    },
    {
     "name": "stderr",
     "output_type": "stream",
     "text": [
      "Processing 00171: 100%|██████████| 435/435 [00:18<00:00, 22.91it/s]\n"
     ]
    },
    {
     "name": "stdout",
     "output_type": "stream",
     "text": [
      "📂 D:\\DETECTION 1.0\\Celeb-DF\\Real Frames\\00172 | Total frames: 353\n"
     ]
    },
    {
     "name": "stderr",
     "output_type": "stream",
     "text": [
      "Processing 00172: 100%|██████████| 352/352 [00:15<00:00, 22.97it/s]\n"
     ]
    },
    {
     "name": "stdout",
     "output_type": "stream",
     "text": [
      "📂 D:\\DETECTION 1.0\\Celeb-DF\\Real Frames\\00173 | Total frames: 499\n"
     ]
    },
    {
     "name": "stderr",
     "output_type": "stream",
     "text": [
      "Processing 00173: 100%|██████████| 498/498 [00:22<00:00, 22.62it/s]\n"
     ]
    },
    {
     "name": "stdout",
     "output_type": "stream",
     "text": [
      "📂 D:\\DETECTION 1.0\\Celeb-DF\\Real Frames\\00174 | Total frames: 465\n"
     ]
    },
    {
     "name": "stderr",
     "output_type": "stream",
     "text": [
      "Processing 00174: 100%|██████████| 464/464 [00:23<00:00, 19.89it/s]\n"
     ]
    },
    {
     "name": "stdout",
     "output_type": "stream",
     "text": [
      "📂 D:\\DETECTION 1.0\\Celeb-DF\\Real Frames\\00175 | Total frames: 483\n"
     ]
    },
    {
     "name": "stderr",
     "output_type": "stream",
     "text": [
      "Processing 00175: 100%|██████████| 482/482 [00:21<00:00, 22.03it/s]\n"
     ]
    },
    {
     "name": "stdout",
     "output_type": "stream",
     "text": [
      "📂 D:\\DETECTION 1.0\\Celeb-DF\\Real Frames\\00176 | Total frames: 605\n"
     ]
    },
    {
     "name": "stderr",
     "output_type": "stream",
     "text": [
      "Processing 00176: 100%|██████████| 604/604 [00:27<00:00, 22.35it/s]\n"
     ]
    },
    {
     "name": "stdout",
     "output_type": "stream",
     "text": [
      "📂 D:\\DETECTION 1.0\\Celeb-DF\\Real Frames\\00177 | Total frames: 521\n"
     ]
    },
    {
     "name": "stderr",
     "output_type": "stream",
     "text": [
      "Processing 00177: 100%|██████████| 520/520 [00:23<00:00, 21.92it/s]\n"
     ]
    },
    {
     "name": "stdout",
     "output_type": "stream",
     "text": [
      "📂 D:\\DETECTION 1.0\\Celeb-DF\\Real Frames\\00178 | Total frames: 468\n"
     ]
    },
    {
     "name": "stderr",
     "output_type": "stream",
     "text": [
      "Processing 00178: 100%|██████████| 467/467 [00:21<00:00, 21.46it/s]\n"
     ]
    },
    {
     "name": "stdout",
     "output_type": "stream",
     "text": [
      "📂 D:\\DETECTION 1.0\\Celeb-DF\\Real Frames\\00179 | Total frames: 451\n"
     ]
    },
    {
     "name": "stderr",
     "output_type": "stream",
     "text": [
      "Processing 00179: 100%|██████████| 450/450 [00:20<00:00, 22.05it/s]\n"
     ]
    },
    {
     "name": "stdout",
     "output_type": "stream",
     "text": [
      "📂 D:\\DETECTION 1.0\\Celeb-DF\\Real Frames\\00180 | Total frames: 349\n"
     ]
    },
    {
     "name": "stderr",
     "output_type": "stream",
     "text": [
      "Processing 00180: 100%|██████████| 348/348 [00:14<00:00, 23.27it/s]\n"
     ]
    },
    {
     "name": "stdout",
     "output_type": "stream",
     "text": [
      "📂 D:\\DETECTION 1.0\\Celeb-DF\\Real Frames\\00181 | Total frames: 391\n"
     ]
    },
    {
     "name": "stderr",
     "output_type": "stream",
     "text": [
      "Processing 00181: 100%|██████████| 390/390 [00:17<00:00, 21.81it/s]\n"
     ]
    },
    {
     "name": "stdout",
     "output_type": "stream",
     "text": [
      "📂 D:\\DETECTION 1.0\\Celeb-DF\\Real Frames\\00182 | Total frames: 478\n"
     ]
    },
    {
     "name": "stderr",
     "output_type": "stream",
     "text": [
      "Processing 00182: 100%|██████████| 477/477 [00:21<00:00, 22.30it/s]\n"
     ]
    },
    {
     "name": "stdout",
     "output_type": "stream",
     "text": [
      "📂 D:\\DETECTION 1.0\\Celeb-DF\\Real Frames\\00183 | Total frames: 516\n"
     ]
    },
    {
     "name": "stderr",
     "output_type": "stream",
     "text": [
      "Processing 00183: 100%|██████████| 515/515 [00:22<00:00, 22.74it/s]\n"
     ]
    },
    {
     "name": "stdout",
     "output_type": "stream",
     "text": [
      "📂 D:\\DETECTION 1.0\\Celeb-DF\\Real Frames\\00184 | Total frames: 467\n"
     ]
    },
    {
     "name": "stderr",
     "output_type": "stream",
     "text": [
      "Processing 00184: 100%|██████████| 466/466 [00:21<00:00, 22.11it/s]\n"
     ]
    },
    {
     "name": "stdout",
     "output_type": "stream",
     "text": [
      "📂 D:\\DETECTION 1.0\\Celeb-DF\\Real Frames\\00185 | Total frames: 474\n"
     ]
    },
    {
     "name": "stderr",
     "output_type": "stream",
     "text": [
      "Processing 00185: 100%|██████████| 473/473 [00:21<00:00, 21.78it/s]\n"
     ]
    },
    {
     "name": "stdout",
     "output_type": "stream",
     "text": [
      "📂 D:\\DETECTION 1.0\\Celeb-DF\\Real Frames\\00186 | Total frames: 510\n"
     ]
    },
    {
     "name": "stderr",
     "output_type": "stream",
     "text": [
      "Processing 00186: 100%|██████████| 509/509 [00:23<00:00, 21.97it/s]\n"
     ]
    },
    {
     "name": "stdout",
     "output_type": "stream",
     "text": [
      "📂 D:\\DETECTION 1.0\\Celeb-DF\\Real Frames\\00187 | Total frames: 460\n"
     ]
    },
    {
     "name": "stderr",
     "output_type": "stream",
     "text": [
      "Processing 00187: 100%|██████████| 459/459 [00:20<00:00, 22.05it/s]\n"
     ]
    },
    {
     "name": "stdout",
     "output_type": "stream",
     "text": [
      "📂 D:\\DETECTION 1.0\\Celeb-DF\\Real Frames\\00188 | Total frames: 476\n"
     ]
    },
    {
     "name": "stderr",
     "output_type": "stream",
     "text": [
      "Processing 00188: 100%|██████████| 475/475 [00:21<00:00, 22.17it/s]\n"
     ]
    },
    {
     "name": "stdout",
     "output_type": "stream",
     "text": [
      "📂 D:\\DETECTION 1.0\\Celeb-DF\\Real Frames\\00189 | Total frames: 410\n"
     ]
    },
    {
     "name": "stderr",
     "output_type": "stream",
     "text": [
      "Processing 00189: 100%|██████████| 409/409 [00:18<00:00, 21.56it/s]\n"
     ]
    },
    {
     "name": "stdout",
     "output_type": "stream",
     "text": [
      "📂 D:\\DETECTION 1.0\\Celeb-DF\\Real Frames\\00190 | Total frames: 465\n"
     ]
    },
    {
     "name": "stderr",
     "output_type": "stream",
     "text": [
      "Processing 00190: 100%|██████████| 464/464 [00:21<00:00, 21.73it/s]\n"
     ]
    },
    {
     "name": "stdout",
     "output_type": "stream",
     "text": [
      "📂 D:\\DETECTION 1.0\\Celeb-DF\\Real Frames\\00191 | Total frames: 442\n"
     ]
    },
    {
     "name": "stderr",
     "output_type": "stream",
     "text": [
      "Processing 00191: 100%|██████████| 441/441 [00:19<00:00, 22.43it/s]\n"
     ]
    },
    {
     "name": "stdout",
     "output_type": "stream",
     "text": [
      "📂 D:\\DETECTION 1.0\\Celeb-DF\\Real Frames\\00192 | Total frames: 474\n"
     ]
    },
    {
     "name": "stderr",
     "output_type": "stream",
     "text": [
      "Processing 00192: 100%|██████████| 473/473 [00:20<00:00, 22.91it/s]\n"
     ]
    },
    {
     "name": "stdout",
     "output_type": "stream",
     "text": [
      "📂 D:\\DETECTION 1.0\\Celeb-DF\\Real Frames\\00193 | Total frames: 353\n"
     ]
    },
    {
     "name": "stderr",
     "output_type": "stream",
     "text": [
      "Processing 00193: 100%|██████████| 352/352 [00:15<00:00, 22.06it/s]\n"
     ]
    },
    {
     "name": "stdout",
     "output_type": "stream",
     "text": [
      "📂 D:\\DETECTION 1.0\\Celeb-DF\\Real Frames\\00194 | Total frames: 462\n"
     ]
    },
    {
     "name": "stderr",
     "output_type": "stream",
     "text": [
      "Processing 00194: 100%|██████████| 461/461 [00:20<00:00, 22.00it/s]\n"
     ]
    },
    {
     "name": "stdout",
     "output_type": "stream",
     "text": [
      "📂 D:\\DETECTION 1.0\\Celeb-DF\\Real Frames\\00195 | Total frames: 495\n"
     ]
    },
    {
     "name": "stderr",
     "output_type": "stream",
     "text": [
      "Processing 00195: 100%|██████████| 494/494 [00:29<00:00, 16.53it/s]\n"
     ]
    },
    {
     "name": "stdout",
     "output_type": "stream",
     "text": [
      "📂 D:\\DETECTION 1.0\\Celeb-DF\\Real Frames\\00196 | Total frames: 480\n"
     ]
    },
    {
     "name": "stderr",
     "output_type": "stream",
     "text": [
      "Processing 00196: 100%|██████████| 479/479 [00:21<00:00, 22.43it/s]\n"
     ]
    },
    {
     "name": "stdout",
     "output_type": "stream",
     "text": [
      "📂 D:\\DETECTION 1.0\\Celeb-DF\\Real Frames\\00197 | Total frames: 467\n"
     ]
    },
    {
     "name": "stderr",
     "output_type": "stream",
     "text": [
      "Processing 00197: 100%|██████████| 466/466 [00:20<00:00, 22.47it/s]\n"
     ]
    },
    {
     "name": "stdout",
     "output_type": "stream",
     "text": [
      "📂 D:\\DETECTION 1.0\\Celeb-DF\\Real Frames\\00198 | Total frames: 456\n"
     ]
    },
    {
     "name": "stderr",
     "output_type": "stream",
     "text": [
      "Processing 00198: 100%|██████████| 455/455 [00:20<00:00, 22.03it/s]\n"
     ]
    },
    {
     "name": "stdout",
     "output_type": "stream",
     "text": [
      "📂 D:\\DETECTION 1.0\\Celeb-DF\\Real Frames\\00199 | Total frames: 480\n"
     ]
    },
    {
     "name": "stderr",
     "output_type": "stream",
     "text": [
      "Processing 00199: 100%|██████████| 479/479 [00:21<00:00, 22.20it/s]\n"
     ]
    },
    {
     "name": "stdout",
     "output_type": "stream",
     "text": [
      "📂 D:\\DETECTION 1.0\\Celeb-DF\\Real Frames\\00200 | Total frames: 462\n"
     ]
    },
    {
     "name": "stderr",
     "output_type": "stream",
     "text": [
      "Processing 00200: 100%|██████████| 461/461 [00:21<00:00, 21.87it/s]\n"
     ]
    },
    {
     "name": "stdout",
     "output_type": "stream",
     "text": [
      "📂 D:\\DETECTION 1.0\\Celeb-DF\\Real Frames\\00201 | Total frames: 459\n"
     ]
    },
    {
     "name": "stderr",
     "output_type": "stream",
     "text": [
      "Processing 00201: 100%|██████████| 458/458 [00:19<00:00, 23.17it/s]\n"
     ]
    },
    {
     "name": "stdout",
     "output_type": "stream",
     "text": [
      "📂 D:\\DETECTION 1.0\\Celeb-DF\\Real Frames\\00202 | Total frames: 499\n"
     ]
    },
    {
     "name": "stderr",
     "output_type": "stream",
     "text": [
      "Processing 00202: 100%|██████████| 498/498 [00:21<00:00, 22.94it/s]\n"
     ]
    },
    {
     "name": "stdout",
     "output_type": "stream",
     "text": [
      "📂 D:\\DETECTION 1.0\\Celeb-DF\\Real Frames\\00203 | Total frames: 309\n"
     ]
    },
    {
     "name": "stderr",
     "output_type": "stream",
     "text": [
      "Processing 00203: 100%|██████████| 308/308 [00:13<00:00, 22.91it/s]\n"
     ]
    },
    {
     "name": "stdout",
     "output_type": "stream",
     "text": [
      "📂 D:\\DETECTION 1.0\\Celeb-DF\\Real Frames\\00204 | Total frames: 463\n"
     ]
    },
    {
     "name": "stderr",
     "output_type": "stream",
     "text": [
      "Processing 00204: 100%|██████████| 462/462 [00:20<00:00, 22.91it/s]\n"
     ]
    },
    {
     "name": "stdout",
     "output_type": "stream",
     "text": [
      "📂 D:\\DETECTION 1.0\\Celeb-DF\\Real Frames\\00205 | Total frames: 453\n"
     ]
    },
    {
     "name": "stderr",
     "output_type": "stream",
     "text": [
      "Processing 00205: 100%|██████████| 452/452 [00:19<00:00, 22.61it/s]\n"
     ]
    },
    {
     "name": "stdout",
     "output_type": "stream",
     "text": [
      "📂 D:\\DETECTION 1.0\\Celeb-DF\\Real Frames\\00206 | Total frames: 455\n"
     ]
    },
    {
     "name": "stderr",
     "output_type": "stream",
     "text": [
      "Processing 00206: 100%|██████████| 454/454 [00:19<00:00, 23.06it/s]\n"
     ]
    },
    {
     "name": "stdout",
     "output_type": "stream",
     "text": [
      "📂 D:\\DETECTION 1.0\\Celeb-DF\\Real Frames\\00207 | Total frames: 126\n"
     ]
    },
    {
     "name": "stderr",
     "output_type": "stream",
     "text": [
      "Processing 00207: 100%|██████████| 125/125 [00:05<00:00, 22.19it/s]\n"
     ]
    },
    {
     "name": "stdout",
     "output_type": "stream",
     "text": [
      "📂 D:\\DETECTION 1.0\\Celeb-DF\\Real Frames\\00208 | Total frames: 459\n"
     ]
    },
    {
     "name": "stderr",
     "output_type": "stream",
     "text": [
      "Processing 00208: 100%|██████████| 458/458 [00:20<00:00, 22.85it/s]\n"
     ]
    },
    {
     "name": "stdout",
     "output_type": "stream",
     "text": [
      "📂 D:\\DETECTION 1.0\\Celeb-DF\\Real Frames\\00209 | Total frames: 460\n"
     ]
    },
    {
     "name": "stderr",
     "output_type": "stream",
     "text": [
      "Processing 00209: 100%|██████████| 459/459 [00:20<00:00, 22.45it/s]\n"
     ]
    },
    {
     "name": "stdout",
     "output_type": "stream",
     "text": [
      "📂 D:\\DETECTION 1.0\\Celeb-DF\\Real Frames\\00210 | Total frames: 611\n"
     ]
    },
    {
     "name": "stderr",
     "output_type": "stream",
     "text": [
      "Processing 00210: 100%|██████████| 610/610 [00:26<00:00, 23.15it/s]\n"
     ]
    },
    {
     "name": "stdout",
     "output_type": "stream",
     "text": [
      "📂 D:\\DETECTION 1.0\\Celeb-DF\\Real Frames\\00211 | Total frames: 424\n"
     ]
    },
    {
     "name": "stderr",
     "output_type": "stream",
     "text": [
      "Processing 00211: 100%|██████████| 423/423 [00:18<00:00, 22.62it/s]\n"
     ]
    },
    {
     "name": "stdout",
     "output_type": "stream",
     "text": [
      "📂 D:\\DETECTION 1.0\\Celeb-DF\\Real Frames\\00212 | Total frames: 413\n"
     ]
    },
    {
     "name": "stderr",
     "output_type": "stream",
     "text": [
      "Processing 00212: 100%|██████████| 412/412 [00:18<00:00, 22.04it/s]\n"
     ]
    },
    {
     "name": "stdout",
     "output_type": "stream",
     "text": [
      "📂 D:\\DETECTION 1.0\\Celeb-DF\\Real Frames\\00213 | Total frames: 461\n"
     ]
    },
    {
     "name": "stderr",
     "output_type": "stream",
     "text": [
      "Processing 00213: 100%|██████████| 460/460 [00:20<00:00, 22.50it/s]\n"
     ]
    },
    {
     "name": "stdout",
     "output_type": "stream",
     "text": [
      "📂 D:\\DETECTION 1.0\\Celeb-DF\\Real Frames\\00214 | Total frames: 446\n"
     ]
    },
    {
     "name": "stderr",
     "output_type": "stream",
     "text": [
      "Processing 00214: 100%|██████████| 445/445 [00:19<00:00, 22.82it/s]\n"
     ]
    },
    {
     "name": "stdout",
     "output_type": "stream",
     "text": [
      "📂 D:\\DETECTION 1.0\\Celeb-DF\\Real Frames\\00215 | Total frames: 469\n"
     ]
    },
    {
     "name": "stderr",
     "output_type": "stream",
     "text": [
      "Processing 00215: 100%|██████████| 468/468 [00:20<00:00, 22.32it/s]\n"
     ]
    },
    {
     "name": "stdout",
     "output_type": "stream",
     "text": [
      "📂 D:\\DETECTION 1.0\\Celeb-DF\\Real Frames\\00216 | Total frames: 384\n"
     ]
    },
    {
     "name": "stderr",
     "output_type": "stream",
     "text": [
      "Processing 00216: 100%|██████████| 383/383 [00:16<00:00, 22.53it/s]\n"
     ]
    },
    {
     "name": "stdout",
     "output_type": "stream",
     "text": [
      "📂 D:\\DETECTION 1.0\\Celeb-DF\\Real Frames\\00217 | Total frames: 324\n"
     ]
    },
    {
     "name": "stderr",
     "output_type": "stream",
     "text": [
      "Processing 00217: 100%|██████████| 323/323 [00:05<00:00, 59.10it/s]\n"
     ]
    },
    {
     "name": "stdout",
     "output_type": "stream",
     "text": [
      "📂 D:\\DETECTION 1.0\\Celeb-DF\\Real Frames\\00218 | Total frames: 478\n"
     ]
    },
    {
     "name": "stderr",
     "output_type": "stream",
     "text": [
      "Processing 00218: 100%|██████████| 477/477 [00:07<00:00, 64.93it/s]\n"
     ]
    },
    {
     "name": "stdout",
     "output_type": "stream",
     "text": [
      "📂 D:\\DETECTION 1.0\\Celeb-DF\\Real Frames\\00219 | Total frames: 483\n"
     ]
    },
    {
     "name": "stderr",
     "output_type": "stream",
     "text": [
      "Processing 00219: 100%|██████████| 482/482 [00:08<00:00, 54.29it/s]\n"
     ]
    },
    {
     "name": "stdout",
     "output_type": "stream",
     "text": [
      "📂 D:\\DETECTION 1.0\\Celeb-DF\\Real Frames\\00220 | Total frames: 523\n"
     ]
    },
    {
     "name": "stderr",
     "output_type": "stream",
     "text": [
      "Processing 00220: 100%|██████████| 522/522 [00:22<00:00, 22.70it/s]\n"
     ]
    },
    {
     "name": "stdout",
     "output_type": "stream",
     "text": [
      "📂 D:\\DETECTION 1.0\\Celeb-DF\\Real Frames\\00221 | Total frames: 448\n"
     ]
    },
    {
     "name": "stderr",
     "output_type": "stream",
     "text": [
      "Processing 00221: 100%|██████████| 447/447 [00:20<00:00, 22.02it/s]\n"
     ]
    },
    {
     "name": "stdout",
     "output_type": "stream",
     "text": [
      "📂 D:\\DETECTION 1.0\\Celeb-DF\\Real Frames\\00222 | Total frames: 468\n"
     ]
    },
    {
     "name": "stderr",
     "output_type": "stream",
     "text": [
      "Processing 00222: 100%|██████████| 467/467 [00:20<00:00, 22.73it/s]\n"
     ]
    },
    {
     "name": "stdout",
     "output_type": "stream",
     "text": [
      "📂 D:\\DETECTION 1.0\\Celeb-DF\\Real Frames\\00223 | Total frames: 480\n"
     ]
    },
    {
     "name": "stderr",
     "output_type": "stream",
     "text": [
      "Processing 00223: 100%|██████████| 479/479 [00:24<00:00, 19.94it/s]\n"
     ]
    },
    {
     "name": "stdout",
     "output_type": "stream",
     "text": [
      "📂 D:\\DETECTION 1.0\\Celeb-DF\\Real Frames\\00224 | Total frames: 428\n"
     ]
    },
    {
     "name": "stderr",
     "output_type": "stream",
     "text": [
      "Processing 00224: 100%|██████████| 427/427 [00:19<00:00, 22.31it/s]\n"
     ]
    },
    {
     "name": "stdout",
     "output_type": "stream",
     "text": [
      "📂 D:\\DETECTION 1.0\\Celeb-DF\\Real Frames\\00225 | Total frames: 468\n"
     ]
    },
    {
     "name": "stderr",
     "output_type": "stream",
     "text": [
      "Processing 00225: 100%|██████████| 467/467 [00:20<00:00, 23.18it/s]\n"
     ]
    },
    {
     "name": "stdout",
     "output_type": "stream",
     "text": [
      "📂 D:\\DETECTION 1.0\\Celeb-DF\\Real Frames\\00226 | Total frames: 466\n"
     ]
    },
    {
     "name": "stderr",
     "output_type": "stream",
     "text": [
      "Processing 00226: 100%|██████████| 465/465 [00:07<00:00, 61.69it/s]\n"
     ]
    },
    {
     "name": "stdout",
     "output_type": "stream",
     "text": [
      "📂 D:\\DETECTION 1.0\\Celeb-DF\\Real Frames\\00227 | Total frames: 471\n"
     ]
    },
    {
     "name": "stderr",
     "output_type": "stream",
     "text": [
      "Processing 00227: 100%|██████████| 470/470 [00:07<00:00, 63.26it/s]\n"
     ]
    },
    {
     "name": "stdout",
     "output_type": "stream",
     "text": [
      "📂 D:\\DETECTION 1.0\\Celeb-DF\\Real Frames\\00228 | Total frames: 470\n"
     ]
    },
    {
     "name": "stderr",
     "output_type": "stream",
     "text": [
      "Processing 00228: 100%|██████████| 469/469 [00:08<00:00, 52.12it/s]\n"
     ]
    },
    {
     "name": "stdout",
     "output_type": "stream",
     "text": [
      "📂 D:\\DETECTION 1.0\\Celeb-DF\\Real Frames\\00229 | Total frames: 533\n"
     ]
    },
    {
     "name": "stderr",
     "output_type": "stream",
     "text": [
      "Processing 00229: 100%|██████████| 532/532 [00:07<00:00, 66.91it/s]\n"
     ]
    },
    {
     "name": "stdout",
     "output_type": "stream",
     "text": [
      "📂 D:\\DETECTION 1.0\\Celeb-DF\\Real Frames\\00230 | Total frames: 455\n"
     ]
    },
    {
     "name": "stderr",
     "output_type": "stream",
     "text": [
      "Processing 00230: 100%|██████████| 454/454 [00:07<00:00, 63.42it/s]\n"
     ]
    },
    {
     "name": "stdout",
     "output_type": "stream",
     "text": [
      "📂 D:\\DETECTION 1.0\\Celeb-DF\\Real Frames\\00231 | Total frames: 477\n"
     ]
    },
    {
     "name": "stderr",
     "output_type": "stream",
     "text": [
      "Processing 00231: 100%|██████████| 476/476 [00:10<00:00, 43.33it/s]\n"
     ]
    },
    {
     "name": "stdout",
     "output_type": "stream",
     "text": [
      "📂 D:\\DETECTION 1.0\\Celeb-DF\\Real Frames\\00232 | Total frames: 471\n"
     ]
    },
    {
     "name": "stderr",
     "output_type": "stream",
     "text": [
      "Processing 00232: 100%|██████████| 470/470 [00:12<00:00, 37.14it/s]\n"
     ]
    },
    {
     "name": "stdout",
     "output_type": "stream",
     "text": [
      "📂 D:\\DETECTION 1.0\\Celeb-DF\\Real Frames\\00233 | Total frames: 464\n"
     ]
    },
    {
     "name": "stderr",
     "output_type": "stream",
     "text": [
      "Processing 00233: 100%|██████████| 463/463 [00:06<00:00, 69.36it/s]\n"
     ]
    },
    {
     "name": "stdout",
     "output_type": "stream",
     "text": [
      "📂 D:\\DETECTION 1.0\\Celeb-DF\\Real Frames\\00234 | Total frames: 363\n"
     ]
    },
    {
     "name": "stderr",
     "output_type": "stream",
     "text": [
      "Processing 00234: 100%|██████████| 362/362 [00:05<00:00, 70.23it/s]\n"
     ]
    },
    {
     "name": "stdout",
     "output_type": "stream",
     "text": [
      "📂 D:\\DETECTION 1.0\\Celeb-DF\\Real Frames\\00235 | Total frames: 496\n"
     ]
    },
    {
     "name": "stderr",
     "output_type": "stream",
     "text": [
      "Processing 00235: 100%|██████████| 495/495 [00:06<00:00, 71.74it/s]\n"
     ]
    },
    {
     "name": "stdout",
     "output_type": "stream",
     "text": [
      "📂 D:\\DETECTION 1.0\\Celeb-DF\\Real Frames\\00236 | Total frames: 468\n"
     ]
    },
    {
     "name": "stderr",
     "output_type": "stream",
     "text": [
      "Processing 00236: 100%|██████████| 467/467 [00:06<00:00, 69.46it/s]\n"
     ]
    },
    {
     "name": "stdout",
     "output_type": "stream",
     "text": [
      "📂 D:\\DETECTION 1.0\\Celeb-DF\\Real Frames\\00237 | Total frames: 456\n"
     ]
    },
    {
     "name": "stderr",
     "output_type": "stream",
     "text": [
      "Processing 00237: 100%|██████████| 455/455 [00:06<00:00, 65.94it/s]\n"
     ]
    },
    {
     "name": "stdout",
     "output_type": "stream",
     "text": [
      "📂 D:\\DETECTION 1.0\\Celeb-DF\\Real Frames\\00238 | Total frames: 422\n"
     ]
    },
    {
     "name": "stderr",
     "output_type": "stream",
     "text": [
      "Processing 00238: 100%|██████████| 421/421 [00:05<00:00, 70.48it/s]\n"
     ]
    },
    {
     "name": "stdout",
     "output_type": "stream",
     "text": [
      "📂 D:\\DETECTION 1.0\\Celeb-DF\\Real Frames\\00239 | Total frames: 493\n"
     ]
    },
    {
     "name": "stderr",
     "output_type": "stream",
     "text": [
      "Processing 00239: 100%|██████████| 492/492 [00:07<00:00, 67.53it/s]\n"
     ]
    },
    {
     "name": "stdout",
     "output_type": "stream",
     "text": [
      "📂 D:\\DETECTION 1.0\\Celeb-DF\\Real Frames\\00240 | Total frames: 471\n"
     ]
    },
    {
     "name": "stderr",
     "output_type": "stream",
     "text": [
      "Processing 00240: 100%|██████████| 470/470 [00:07<00:00, 65.39it/s]\n"
     ]
    },
    {
     "name": "stdout",
     "output_type": "stream",
     "text": [
      "📂 D:\\DETECTION 1.0\\Celeb-DF\\Real Frames\\00241 | Total frames: 447\n"
     ]
    },
    {
     "name": "stderr",
     "output_type": "stream",
     "text": [
      "Processing 00241: 100%|██████████| 446/446 [00:06<00:00, 66.55it/s]\n"
     ]
    },
    {
     "name": "stdout",
     "output_type": "stream",
     "text": [
      "📂 D:\\DETECTION 1.0\\Celeb-DF\\Real Frames\\00242 | Total frames: 442\n"
     ]
    },
    {
     "name": "stderr",
     "output_type": "stream",
     "text": [
      "Processing 00242: 100%|██████████| 441/441 [00:06<00:00, 66.36it/s]\n"
     ]
    },
    {
     "name": "stdout",
     "output_type": "stream",
     "text": [
      "📂 D:\\DETECTION 1.0\\Celeb-DF\\Real Frames\\00243 | Total frames: 461\n"
     ]
    },
    {
     "name": "stderr",
     "output_type": "stream",
     "text": [
      "Processing 00243: 100%|██████████| 460/460 [00:06<00:00, 69.65it/s]\n"
     ]
    },
    {
     "name": "stdout",
     "output_type": "stream",
     "text": [
      "📂 D:\\DETECTION 1.0\\Celeb-DF\\Real Frames\\00244 | Total frames: 289\n"
     ]
    },
    {
     "name": "stderr",
     "output_type": "stream",
     "text": [
      "Processing 00244: 100%|██████████| 288/288 [00:04<00:00, 70.59it/s]\n"
     ]
    },
    {
     "name": "stdout",
     "output_type": "stream",
     "text": [
      "📂 D:\\DETECTION 1.0\\Celeb-DF\\Real Frames\\00245 | Total frames: 464\n"
     ]
    },
    {
     "name": "stderr",
     "output_type": "stream",
     "text": [
      "Processing 00245: 100%|██████████| 463/463 [00:06<00:00, 70.80it/s]\n"
     ]
    },
    {
     "name": "stdout",
     "output_type": "stream",
     "text": [
      "📂 D:\\DETECTION 1.0\\Celeb-DF\\Real Frames\\00246 | Total frames: 454\n"
     ]
    },
    {
     "name": "stderr",
     "output_type": "stream",
     "text": [
      "Processing 00246: 100%|██████████| 453/453 [00:06<00:00, 66.96it/s]\n"
     ]
    },
    {
     "name": "stdout",
     "output_type": "stream",
     "text": [
      "📂 D:\\DETECTION 1.0\\Celeb-DF\\Real Frames\\00247 | Total frames: 467\n"
     ]
    },
    {
     "name": "stderr",
     "output_type": "stream",
     "text": [
      "Processing 00247: 100%|██████████| 466/466 [00:06<00:00, 66.88it/s]\n"
     ]
    },
    {
     "name": "stdout",
     "output_type": "stream",
     "text": [
      "📂 D:\\DETECTION 1.0\\Celeb-DF\\Real Frames\\00248 | Total frames: 480\n"
     ]
    },
    {
     "name": "stderr",
     "output_type": "stream",
     "text": [
      "Processing 00248: 100%|██████████| 479/479 [00:06<00:00, 71.40it/s]\n"
     ]
    },
    {
     "name": "stdout",
     "output_type": "stream",
     "text": [
      "📂 D:\\DETECTION 1.0\\Celeb-DF\\Real Frames\\00249 | Total frames: 517\n"
     ]
    },
    {
     "name": "stderr",
     "output_type": "stream",
     "text": [
      "Processing 00249: 100%|██████████| 516/516 [00:07<00:00, 68.24it/s]\n"
     ]
    },
    {
     "name": "stdout",
     "output_type": "stream",
     "text": [
      "📂 D:\\DETECTION 1.0\\Celeb-DF\\Real Frames\\id0_0000 | Total frames: 469\n"
     ]
    },
    {
     "name": "stderr",
     "output_type": "stream",
     "text": [
      "Processing id0_0000: 100%|██████████| 468/468 [00:06<00:00, 67.29it/s]\n"
     ]
    },
    {
     "name": "stdout",
     "output_type": "stream",
     "text": [
      "📂 D:\\DETECTION 1.0\\Celeb-DF\\Real Frames\\id0_0001 | Total frames: 303\n"
     ]
    },
    {
     "name": "stderr",
     "output_type": "stream",
     "text": [
      "Processing id0_0001: 100%|██████████| 302/302 [00:04<00:00, 67.24it/s]\n"
     ]
    },
    {
     "name": "stdout",
     "output_type": "stream",
     "text": [
      "📂 D:\\DETECTION 1.0\\Celeb-DF\\Real Frames\\id0_0002 | Total frames: 350\n"
     ]
    },
    {
     "name": "stderr",
     "output_type": "stream",
     "text": [
      "Processing id0_0002: 100%|██████████| 349/349 [00:05<00:00, 65.87it/s]\n"
     ]
    },
    {
     "name": "stdout",
     "output_type": "stream",
     "text": [
      "📂 D:\\DETECTION 1.0\\Celeb-DF\\Real Frames\\id0_0003 | Total frames: 529\n"
     ]
    },
    {
     "name": "stderr",
     "output_type": "stream",
     "text": [
      "Processing id0_0003: 100%|██████████| 528/528 [00:07<00:00, 69.93it/s]\n"
     ]
    },
    {
     "name": "stdout",
     "output_type": "stream",
     "text": [
      "📂 D:\\DETECTION 1.0\\Celeb-DF\\Real Frames\\id0_0004 | Total frames: 326\n"
     ]
    },
    {
     "name": "stderr",
     "output_type": "stream",
     "text": [
      "Processing id0_0004: 100%|██████████| 325/325 [00:04<00:00, 67.27it/s]\n"
     ]
    },
    {
     "name": "stdout",
     "output_type": "stream",
     "text": [
      "📂 D:\\DETECTION 1.0\\Celeb-DF\\Real Frames\\id0_0005 | Total frames: 459\n"
     ]
    },
    {
     "name": "stderr",
     "output_type": "stream",
     "text": [
      "Processing id0_0005: 100%|██████████| 458/458 [00:06<00:00, 72.79it/s]\n"
     ]
    },
    {
     "name": "stdout",
     "output_type": "stream",
     "text": [
      "📂 D:\\DETECTION 1.0\\Celeb-DF\\Real Frames\\id0_0006 | Total frames: 534\n"
     ]
    },
    {
     "name": "stderr",
     "output_type": "stream",
     "text": [
      "Processing id0_0006: 100%|██████████| 533/533 [00:07<00:00, 71.12it/s]\n"
     ]
    },
    {
     "name": "stdout",
     "output_type": "stream",
     "text": [
      "📂 D:\\DETECTION 1.0\\Celeb-DF\\Real Frames\\id0_0007 | Total frames: 479\n"
     ]
    },
    {
     "name": "stderr",
     "output_type": "stream",
     "text": [
      "Processing id0_0007: 100%|██████████| 478/478 [00:06<00:00, 69.65it/s]\n"
     ]
    },
    {
     "name": "stdout",
     "output_type": "stream",
     "text": [
      "📂 D:\\DETECTION 1.0\\Celeb-DF\\Real Frames\\id0_0008 | Total frames: 464\n"
     ]
    },
    {
     "name": "stderr",
     "output_type": "stream",
     "text": [
      "Processing id0_0008: 100%|██████████| 463/463 [00:06<00:00, 69.28it/s]\n"
     ]
    },
    {
     "name": "stdout",
     "output_type": "stream",
     "text": [
      "📂 D:\\DETECTION 1.0\\Celeb-DF\\Real Frames\\id0_0009 | Total frames: 520\n"
     ]
    },
    {
     "name": "stderr",
     "output_type": "stream",
     "text": [
      "Processing id0_0009: 100%|██████████| 519/519 [00:07<00:00, 65.16it/s]\n"
     ]
    },
    {
     "name": "stdout",
     "output_type": "stream",
     "text": [
      "📂 D:\\DETECTION 1.0\\Celeb-DF\\Real Frames\\id10_0000 | Total frames: 239\n"
     ]
    },
    {
     "name": "stderr",
     "output_type": "stream",
     "text": [
      "Processing id10_0000: 100%|██████████| 238/238 [00:03<00:00, 66.28it/s]\n"
     ]
    },
    {
     "name": "stdout",
     "output_type": "stream",
     "text": [
      "📂 D:\\DETECTION 1.0\\Celeb-DF\\Real Frames\\id10_0001 | Total frames: 145\n"
     ]
    },
    {
     "name": "stderr",
     "output_type": "stream",
     "text": [
      "Processing id10_0001: 100%|██████████| 144/144 [00:02<00:00, 60.03it/s]\n"
     ]
    },
    {
     "name": "stdout",
     "output_type": "stream",
     "text": [
      "📂 D:\\DETECTION 1.0\\Celeb-DF\\Real Frames\\id10_0002 | Total frames: 322\n"
     ]
    },
    {
     "name": "stderr",
     "output_type": "stream",
     "text": [
      "Processing id10_0002: 100%|██████████| 321/321 [00:04<00:00, 68.87it/s]\n"
     ]
    },
    {
     "name": "stdout",
     "output_type": "stream",
     "text": [
      "📂 D:\\DETECTION 1.0\\Celeb-DF\\Real Frames\\id10_0003 | Total frames: 351\n"
     ]
    },
    {
     "name": "stderr",
     "output_type": "stream",
     "text": [
      "Processing id10_0003: 100%|██████████| 350/350 [00:05<00:00, 66.31it/s]\n"
     ]
    },
    {
     "name": "stdout",
     "output_type": "stream",
     "text": [
      "📂 D:\\DETECTION 1.0\\Celeb-DF\\Real Frames\\id10_0004 | Total frames: 517\n"
     ]
    },
    {
     "name": "stderr",
     "output_type": "stream",
     "text": [
      "Processing id10_0004: 100%|██████████| 516/516 [00:08<00:00, 61.07it/s]\n"
     ]
    },
    {
     "name": "stdout",
     "output_type": "stream",
     "text": [
      "📂 D:\\DETECTION 1.0\\Celeb-DF\\Real Frames\\id10_0005 | Total frames: 318\n"
     ]
    },
    {
     "name": "stderr",
     "output_type": "stream",
     "text": [
      "Processing id10_0005: 100%|██████████| 317/317 [00:04<00:00, 65.54it/s]\n"
     ]
    },
    {
     "name": "stdout",
     "output_type": "stream",
     "text": [
      "📂 D:\\DETECTION 1.0\\Celeb-DF\\Real Frames\\id10_0006 | Total frames: 172\n"
     ]
    },
    {
     "name": "stderr",
     "output_type": "stream",
     "text": [
      "Processing id10_0006: 100%|██████████| 171/171 [00:02<00:00, 64.08it/s]\n"
     ]
    },
    {
     "name": "stdout",
     "output_type": "stream",
     "text": [
      "📂 D:\\DETECTION 1.0\\Celeb-DF\\Real Frames\\id10_0007 | Total frames: 502\n"
     ]
    },
    {
     "name": "stderr",
     "output_type": "stream",
     "text": [
      "Processing id10_0007: 100%|██████████| 501/501 [00:07<00:00, 68.05it/s]\n"
     ]
    },
    {
     "name": "stdout",
     "output_type": "stream",
     "text": [
      "📂 D:\\DETECTION 1.0\\Celeb-DF\\Real Frames\\id10_0008 | Total frames: 380\n"
     ]
    },
    {
     "name": "stderr",
     "output_type": "stream",
     "text": [
      "Processing id10_0008: 100%|██████████| 379/379 [00:05<00:00, 70.61it/s]\n"
     ]
    },
    {
     "name": "stdout",
     "output_type": "stream",
     "text": [
      "📂 D:\\DETECTION 1.0\\Celeb-DF\\Real Frames\\id10_0009 | Total frames: 535\n"
     ]
    },
    {
     "name": "stderr",
     "output_type": "stream",
     "text": [
      "Processing id10_0009: 100%|██████████| 534/534 [00:07<00:00, 69.35it/s]\n"
     ]
    },
    {
     "name": "stdout",
     "output_type": "stream",
     "text": [
      "📂 D:\\DETECTION 1.0\\Celeb-DF\\Real Frames\\id11_0000 | Total frames: 373\n"
     ]
    },
    {
     "name": "stderr",
     "output_type": "stream",
     "text": [
      "Processing id11_0000: 100%|██████████| 372/372 [00:05<00:00, 66.68it/s]\n"
     ]
    },
    {
     "name": "stdout",
     "output_type": "stream",
     "text": [
      "📂 D:\\DETECTION 1.0\\Celeb-DF\\Real Frames\\id11_0001 | Total frames: 441\n"
     ]
    },
    {
     "name": "stderr",
     "output_type": "stream",
     "text": [
      "Processing id11_0001: 100%|██████████| 440/440 [00:06<00:00, 70.28it/s]\n"
     ]
    },
    {
     "name": "stdout",
     "output_type": "stream",
     "text": [
      "📂 D:\\DETECTION 1.0\\Celeb-DF\\Real Frames\\id11_0002 | Total frames: 357\n"
     ]
    },
    {
     "name": "stderr",
     "output_type": "stream",
     "text": [
      "Processing id11_0002: 100%|██████████| 356/356 [00:05<00:00, 62.65it/s]\n"
     ]
    },
    {
     "name": "stdout",
     "output_type": "stream",
     "text": [
      "📂 D:\\DETECTION 1.0\\Celeb-DF\\Real Frames\\id11_0003 | Total frames: 313\n"
     ]
    },
    {
     "name": "stderr",
     "output_type": "stream",
     "text": [
      "Processing id11_0003: 100%|██████████| 312/312 [00:04<00:00, 63.48it/s]\n"
     ]
    },
    {
     "name": "stdout",
     "output_type": "stream",
     "text": [
      "📂 D:\\DETECTION 1.0\\Celeb-DF\\Real Frames\\id11_0004 | Total frames: 350\n"
     ]
    },
    {
     "name": "stderr",
     "output_type": "stream",
     "text": [
      "Processing id11_0004: 100%|██████████| 349/349 [00:05<00:00, 64.49it/s]\n"
     ]
    },
    {
     "name": "stdout",
     "output_type": "stream",
     "text": [
      "📂 D:\\DETECTION 1.0\\Celeb-DF\\Real Frames\\id11_0005 | Total frames: 327\n"
     ]
    },
    {
     "name": "stderr",
     "output_type": "stream",
     "text": [
      "Processing id11_0005: 100%|██████████| 326/326 [00:05<00:00, 62.69it/s]\n"
     ]
    },
    {
     "name": "stdout",
     "output_type": "stream",
     "text": [
      "📂 D:\\DETECTION 1.0\\Celeb-DF\\Real Frames\\id11_0006 | Total frames: 316\n"
     ]
    },
    {
     "name": "stderr",
     "output_type": "stream",
     "text": [
      "Processing id11_0006: 100%|██████████| 315/315 [00:04<00:00, 65.62it/s]\n"
     ]
    },
    {
     "name": "stdout",
     "output_type": "stream",
     "text": [
      "📂 D:\\DETECTION 1.0\\Celeb-DF\\Real Frames\\id11_0007 | Total frames: 320\n"
     ]
    },
    {
     "name": "stderr",
     "output_type": "stream",
     "text": [
      "Processing id11_0007: 100%|██████████| 319/319 [00:04<00:00, 64.38it/s]\n"
     ]
    },
    {
     "name": "stdout",
     "output_type": "stream",
     "text": [
      "📂 D:\\DETECTION 1.0\\Celeb-DF\\Real Frames\\id11_0008 | Total frames: 371\n"
     ]
    },
    {
     "name": "stderr",
     "output_type": "stream",
     "text": [
      "Processing id11_0008: 100%|██████████| 370/370 [00:05<00:00, 66.34it/s]\n"
     ]
    },
    {
     "name": "stdout",
     "output_type": "stream",
     "text": [
      "📂 D:\\DETECTION 1.0\\Celeb-DF\\Real Frames\\id11_0009 | Total frames: 397\n"
     ]
    },
    {
     "name": "stderr",
     "output_type": "stream",
     "text": [
      "Processing id11_0009: 100%|██████████| 396/396 [00:06<00:00, 63.53it/s]\n"
     ]
    },
    {
     "name": "stdout",
     "output_type": "stream",
     "text": [
      "📂 D:\\DETECTION 1.0\\Celeb-DF\\Real Frames\\id11_0010 | Total frames: 330\n"
     ]
    },
    {
     "name": "stderr",
     "output_type": "stream",
     "text": [
      "Processing id11_0010: 100%|██████████| 329/329 [00:04<00:00, 66.30it/s]\n"
     ]
    },
    {
     "name": "stdout",
     "output_type": "stream",
     "text": [
      "📂 D:\\DETECTION 1.0\\Celeb-DF\\Real Frames\\id12_0000 | Total frames: 376\n"
     ]
    },
    {
     "name": "stderr",
     "output_type": "stream",
     "text": [
      "Processing id12_0000: 100%|██████████| 375/375 [00:05<00:00, 68.33it/s]\n"
     ]
    },
    {
     "name": "stdout",
     "output_type": "stream",
     "text": [
      "📂 D:\\DETECTION 1.0\\Celeb-DF\\Real Frames\\id12_0001 | Total frames: 398\n"
     ]
    },
    {
     "name": "stderr",
     "output_type": "stream",
     "text": [
      "Processing id12_0001: 100%|██████████| 397/397 [00:05<00:00, 68.62it/s]\n"
     ]
    },
    {
     "name": "stdout",
     "output_type": "stream",
     "text": [
      "📂 D:\\DETECTION 1.0\\Celeb-DF\\Real Frames\\id12_0002 | Total frames: 364\n"
     ]
    },
    {
     "name": "stderr",
     "output_type": "stream",
     "text": [
      "Processing id12_0002: 100%|██████████| 363/363 [00:06<00:00, 59.34it/s]\n"
     ]
    },
    {
     "name": "stdout",
     "output_type": "stream",
     "text": [
      "📂 D:\\DETECTION 1.0\\Celeb-DF\\Real Frames\\id12_0003 | Total frames: 379\n"
     ]
    },
    {
     "name": "stderr",
     "output_type": "stream",
     "text": [
      "Processing id12_0003: 100%|██████████| 378/378 [00:05<00:00, 71.22it/s]\n"
     ]
    },
    {
     "name": "stdout",
     "output_type": "stream",
     "text": [
      "📂 D:\\DETECTION 1.0\\Celeb-DF\\Real Frames\\id12_0004 | Total frames: 339\n"
     ]
    },
    {
     "name": "stderr",
     "output_type": "stream",
     "text": [
      "Processing id12_0004: 100%|██████████| 338/338 [00:04<00:00, 71.12it/s]\n"
     ]
    },
    {
     "name": "stdout",
     "output_type": "stream",
     "text": [
      "📂 D:\\DETECTION 1.0\\Celeb-DF\\Real Frames\\id12_0005 | Total frames: 314\n"
     ]
    },
    {
     "name": "stderr",
     "output_type": "stream",
     "text": [
      "Processing id12_0005: 100%|██████████| 313/313 [00:04<00:00, 65.28it/s]\n"
     ]
    },
    {
     "name": "stdout",
     "output_type": "stream",
     "text": [
      "📂 D:\\DETECTION 1.0\\Celeb-DF\\Real Frames\\id12_0006 | Total frames: 308\n"
     ]
    },
    {
     "name": "stderr",
     "output_type": "stream",
     "text": [
      "Processing id12_0006: 100%|██████████| 307/307 [00:04<00:00, 66.48it/s]\n"
     ]
    },
    {
     "name": "stdout",
     "output_type": "stream",
     "text": [
      "📂 D:\\DETECTION 1.0\\Celeb-DF\\Real Frames\\id13_0000 | Total frames: 327\n"
     ]
    },
    {
     "name": "stderr",
     "output_type": "stream",
     "text": [
      "Processing id13_0000: 100%|██████████| 326/326 [00:04<00:00, 66.06it/s]\n"
     ]
    },
    {
     "name": "stdout",
     "output_type": "stream",
     "text": [
      "📂 D:\\DETECTION 1.0\\Celeb-DF\\Real Frames\\id13_0001 | Total frames: 349\n"
     ]
    },
    {
     "name": "stderr",
     "output_type": "stream",
     "text": [
      "Processing id13_0001: 100%|██████████| 348/348 [00:05<00:00, 68.17it/s]\n"
     ]
    },
    {
     "name": "stdout",
     "output_type": "stream",
     "text": [
      "📂 D:\\DETECTION 1.0\\Celeb-DF\\Real Frames\\id13_0002 | Total frames: 400\n"
     ]
    },
    {
     "name": "stderr",
     "output_type": "stream",
     "text": [
      "Processing id13_0002: 100%|██████████| 399/399 [00:05<00:00, 68.04it/s]\n"
     ]
    },
    {
     "name": "stdout",
     "output_type": "stream",
     "text": [
      "📂 D:\\DETECTION 1.0\\Celeb-DF\\Real Frames\\id13_0003 | Total frames: 340\n"
     ]
    },
    {
     "name": "stderr",
     "output_type": "stream",
     "text": [
      "Processing id13_0003: 100%|██████████| 339/339 [00:05<00:00, 65.54it/s]\n"
     ]
    },
    {
     "name": "stdout",
     "output_type": "stream",
     "text": [
      "📂 D:\\DETECTION 1.0\\Celeb-DF\\Real Frames\\id13_0004 | Total frames: 352\n"
     ]
    },
    {
     "name": "stderr",
     "output_type": "stream",
     "text": [
      "Processing id13_0004: 100%|██████████| 351/351 [00:05<00:00, 63.85it/s]\n"
     ]
    },
    {
     "name": "stdout",
     "output_type": "stream",
     "text": [
      "📂 D:\\DETECTION 1.0\\Celeb-DF\\Real Frames\\id13_0005 | Total frames: 309\n"
     ]
    },
    {
     "name": "stderr",
     "output_type": "stream",
     "text": [
      "Processing id13_0005: 100%|██████████| 308/308 [00:04<00:00, 63.89it/s]\n"
     ]
    },
    {
     "name": "stdout",
     "output_type": "stream",
     "text": [
      "📂 D:\\DETECTION 1.0\\Celeb-DF\\Real Frames\\id13_0006 | Total frames: 333\n"
     ]
    },
    {
     "name": "stderr",
     "output_type": "stream",
     "text": [
      "Processing id13_0006: 100%|██████████| 332/332 [00:04<00:00, 68.21it/s]\n"
     ]
    },
    {
     "name": "stdout",
     "output_type": "stream",
     "text": [
      "📂 D:\\DETECTION 1.0\\Celeb-DF\\Real Frames\\id13_0007 | Total frames: 452\n"
     ]
    },
    {
     "name": "stderr",
     "output_type": "stream",
     "text": [
      "Processing id13_0007: 100%|██████████| 451/451 [00:06<00:00, 67.32it/s]\n"
     ]
    },
    {
     "name": "stdout",
     "output_type": "stream",
     "text": [
      "📂 D:\\DETECTION 1.0\\Celeb-DF\\Real Frames\\id13_0008 | Total frames: 459\n"
     ]
    },
    {
     "name": "stderr",
     "output_type": "stream",
     "text": [
      "Processing id13_0008: 100%|██████████| 458/458 [00:06<00:00, 69.55it/s]\n"
     ]
    },
    {
     "name": "stdout",
     "output_type": "stream",
     "text": [
      "📂 D:\\DETECTION 1.0\\Celeb-DF\\Real Frames\\id13_0009 | Total frames: 435\n"
     ]
    },
    {
     "name": "stderr",
     "output_type": "stream",
     "text": [
      "Processing id13_0009: 100%|██████████| 434/434 [00:07<00:00, 61.21it/s]\n"
     ]
    },
    {
     "name": "stdout",
     "output_type": "stream",
     "text": [
      "📂 D:\\DETECTION 1.0\\Celeb-DF\\Real Frames\\id13_0010 | Total frames: 332\n"
     ]
    },
    {
     "name": "stderr",
     "output_type": "stream",
     "text": [
      "Processing id13_0010: 100%|██████████| 331/331 [00:05<00:00, 63.88it/s]\n"
     ]
    },
    {
     "name": "stdout",
     "output_type": "stream",
     "text": [
      "📂 D:\\DETECTION 1.0\\Celeb-DF\\Real Frames\\id13_0011 | Total frames: 466\n"
     ]
    },
    {
     "name": "stderr",
     "output_type": "stream",
     "text": [
      "Processing id13_0011: 100%|██████████| 465/465 [00:06<00:00, 67.67it/s]\n"
     ]
    },
    {
     "name": "stdout",
     "output_type": "stream",
     "text": [
      "📂 D:\\DETECTION 1.0\\Celeb-DF\\Real Frames\\id13_0012 | Total frames: 510\n"
     ]
    },
    {
     "name": "stderr",
     "output_type": "stream",
     "text": [
      "Processing id13_0012: 100%|██████████| 509/509 [00:07<00:00, 68.60it/s]\n"
     ]
    },
    {
     "name": "stdout",
     "output_type": "stream",
     "text": [
      "📂 D:\\DETECTION 1.0\\Celeb-DF\\Real Frames\\id13_0013 | Total frames: 459\n"
     ]
    },
    {
     "name": "stderr",
     "output_type": "stream",
     "text": [
      "Processing id13_0013: 100%|██████████| 458/458 [00:06<00:00, 66.31it/s]\n"
     ]
    },
    {
     "name": "stdout",
     "output_type": "stream",
     "text": [
      "📂 D:\\DETECTION 1.0\\Celeb-DF\\Real Frames\\id13_0014 | Total frames: 390\n"
     ]
    },
    {
     "name": "stderr",
     "output_type": "stream",
     "text": [
      "Processing id13_0014: 100%|██████████| 389/389 [00:05<00:00, 65.99it/s]\n"
     ]
    },
    {
     "name": "stdout",
     "output_type": "stream",
     "text": [
      "📂 D:\\DETECTION 1.0\\Celeb-DF\\Real Frames\\id13_0015 | Total frames: 489\n"
     ]
    },
    {
     "name": "stderr",
     "output_type": "stream",
     "text": [
      "Processing id13_0015: 100%|██████████| 488/488 [00:07<00:00, 65.01it/s]\n"
     ]
    },
    {
     "name": "stdout",
     "output_type": "stream",
     "text": [
      "📂 D:\\DETECTION 1.0\\Celeb-DF\\Real Frames\\id16_0000 | Total frames: 317\n"
     ]
    },
    {
     "name": "stderr",
     "output_type": "stream",
     "text": [
      "Processing id16_0000: 100%|██████████| 316/316 [00:04<00:00, 67.29it/s]\n"
     ]
    },
    {
     "name": "stdout",
     "output_type": "stream",
     "text": [
      "📂 D:\\DETECTION 1.0\\Celeb-DF\\Real Frames\\id16_0001 | Total frames: 316\n"
     ]
    },
    {
     "name": "stderr",
     "output_type": "stream",
     "text": [
      "Processing id16_0001: 100%|██████████| 315/315 [00:04<00:00, 64.82it/s]\n"
     ]
    },
    {
     "name": "stdout",
     "output_type": "stream",
     "text": [
      "📂 D:\\DETECTION 1.0\\Celeb-DF\\Real Frames\\id16_0002 | Total frames: 363\n"
     ]
    },
    {
     "name": "stderr",
     "output_type": "stream",
     "text": [
      "Processing id16_0002: 100%|██████████| 362/362 [00:05<00:00, 68.18it/s]\n"
     ]
    },
    {
     "name": "stdout",
     "output_type": "stream",
     "text": [
      "📂 D:\\DETECTION 1.0\\Celeb-DF\\Real Frames\\id16_0003 | Total frames: 303\n"
     ]
    },
    {
     "name": "stderr",
     "output_type": "stream",
     "text": [
      "Processing id16_0003: 100%|██████████| 302/302 [00:04<00:00, 67.74it/s]\n"
     ]
    },
    {
     "name": "stdout",
     "output_type": "stream",
     "text": [
      "📂 D:\\DETECTION 1.0\\Celeb-DF\\Real Frames\\id16_0004 | Total frames: 410\n"
     ]
    },
    {
     "name": "stderr",
     "output_type": "stream",
     "text": [
      "Processing id16_0004: 100%|██████████| 409/409 [00:05<00:00, 68.43it/s]\n"
     ]
    },
    {
     "name": "stdout",
     "output_type": "stream",
     "text": [
      "📂 D:\\DETECTION 1.0\\Celeb-DF\\Real Frames\\id16_0005 | Total frames: 345\n"
     ]
    },
    {
     "name": "stderr",
     "output_type": "stream",
     "text": [
      "Processing id16_0005: 100%|██████████| 344/344 [00:05<00:00, 67.34it/s]\n"
     ]
    },
    {
     "name": "stdout",
     "output_type": "stream",
     "text": [
      "📂 D:\\DETECTION 1.0\\Celeb-DF\\Real Frames\\id16_0006 | Total frames: 224\n"
     ]
    },
    {
     "name": "stderr",
     "output_type": "stream",
     "text": [
      "Processing id16_0006: 100%|██████████| 223/223 [00:03<00:00, 65.84it/s]\n"
     ]
    },
    {
     "name": "stdout",
     "output_type": "stream",
     "text": [
      "📂 D:\\DETECTION 1.0\\Celeb-DF\\Real Frames\\id16_0007 | Total frames: 284\n"
     ]
    },
    {
     "name": "stderr",
     "output_type": "stream",
     "text": [
      "Processing id16_0007: 100%|██████████| 283/283 [00:04<00:00, 66.83it/s]\n"
     ]
    },
    {
     "name": "stdout",
     "output_type": "stream",
     "text": [
      "📂 D:\\DETECTION 1.0\\Celeb-DF\\Real Frames\\id16_0008 | Total frames: 337\n"
     ]
    },
    {
     "name": "stderr",
     "output_type": "stream",
     "text": [
      "Processing id16_0008: 100%|██████████| 336/336 [00:05<00:00, 66.57it/s]\n"
     ]
    },
    {
     "name": "stdout",
     "output_type": "stream",
     "text": [
      "📂 D:\\DETECTION 1.0\\Celeb-DF\\Real Frames\\id16_0009 | Total frames: 315\n"
     ]
    },
    {
     "name": "stderr",
     "output_type": "stream",
     "text": [
      "Processing id16_0009: 100%|██████████| 314/314 [00:04<00:00, 66.31it/s]\n"
     ]
    },
    {
     "name": "stdout",
     "output_type": "stream",
     "text": [
      "📂 D:\\DETECTION 1.0\\Celeb-DF\\Real Frames\\id16_0010 | Total frames: 325\n"
     ]
    },
    {
     "name": "stderr",
     "output_type": "stream",
     "text": [
      "Processing id16_0010: 100%|██████████| 324/324 [00:04<00:00, 66.46it/s]\n"
     ]
    },
    {
     "name": "stdout",
     "output_type": "stream",
     "text": [
      "📂 D:\\DETECTION 1.0\\Celeb-DF\\Real Frames\\id16_0011 | Total frames: 272\n"
     ]
    },
    {
     "name": "stderr",
     "output_type": "stream",
     "text": [
      "Processing id16_0011: 100%|██████████| 271/271 [00:03<00:00, 67.92it/s]\n"
     ]
    },
    {
     "name": "stdout",
     "output_type": "stream",
     "text": [
      "📂 D:\\DETECTION 1.0\\Celeb-DF\\Real Frames\\id16_0012 | Total frames: 308\n"
     ]
    },
    {
     "name": "stderr",
     "output_type": "stream",
     "text": [
      "Processing id16_0012: 100%|██████████| 307/307 [00:04<00:00, 65.22it/s]\n"
     ]
    },
    {
     "name": "stdout",
     "output_type": "stream",
     "text": [
      "📂 D:\\DETECTION 1.0\\Celeb-DF\\Real Frames\\id16_0013 | Total frames: 311\n"
     ]
    },
    {
     "name": "stderr",
     "output_type": "stream",
     "text": [
      "Processing id16_0013: 100%|██████████| 310/310 [00:04<00:00, 64.42it/s]\n"
     ]
    },
    {
     "name": "stdout",
     "output_type": "stream",
     "text": [
      "📂 D:\\DETECTION 1.0\\Celeb-DF\\Real Frames\\id17_0000 | Total frames: 305\n"
     ]
    },
    {
     "name": "stderr",
     "output_type": "stream",
     "text": [
      "Processing id17_0000: 100%|██████████| 304/304 [00:04<00:00, 66.42it/s]\n"
     ]
    },
    {
     "name": "stdout",
     "output_type": "stream",
     "text": [
      "📂 D:\\DETECTION 1.0\\Celeb-DF\\Real Frames\\id17_0001 | Total frames: 315\n"
     ]
    },
    {
     "name": "stderr",
     "output_type": "stream",
     "text": [
      "Processing id17_0001: 100%|██████████| 314/314 [00:05<00:00, 62.25it/s]\n"
     ]
    },
    {
     "name": "stdout",
     "output_type": "stream",
     "text": [
      "📂 D:\\DETECTION 1.0\\Celeb-DF\\Real Frames\\id17_0002 | Total frames: 334\n"
     ]
    },
    {
     "name": "stderr",
     "output_type": "stream",
     "text": [
      "Processing id17_0002: 100%|██████████| 333/333 [00:04<00:00, 66.90it/s]\n"
     ]
    },
    {
     "name": "stdout",
     "output_type": "stream",
     "text": [
      "📂 D:\\DETECTION 1.0\\Celeb-DF\\Real Frames\\id17_0003 | Total frames: 247\n"
     ]
    },
    {
     "name": "stderr",
     "output_type": "stream",
     "text": [
      "Processing id17_0003: 100%|██████████| 246/246 [00:03<00:00, 67.84it/s]\n"
     ]
    },
    {
     "name": "stdout",
     "output_type": "stream",
     "text": [
      "📂 D:\\DETECTION 1.0\\Celeb-DF\\Real Frames\\id17_0004 | Total frames: 306\n"
     ]
    },
    {
     "name": "stderr",
     "output_type": "stream",
     "text": [
      "Processing id17_0004: 100%|██████████| 305/305 [00:04<00:00, 63.69it/s]\n"
     ]
    },
    {
     "name": "stdout",
     "output_type": "stream",
     "text": [
      "📂 D:\\DETECTION 1.0\\Celeb-DF\\Real Frames\\id17_0005 | Total frames: 312\n"
     ]
    },
    {
     "name": "stderr",
     "output_type": "stream",
     "text": [
      "Processing id17_0005: 100%|██████████| 311/311 [00:04<00:00, 63.52it/s]\n"
     ]
    },
    {
     "name": "stdout",
     "output_type": "stream",
     "text": [
      "📂 D:\\DETECTION 1.0\\Celeb-DF\\Real Frames\\id17_0006 | Total frames: 201\n"
     ]
    },
    {
     "name": "stderr",
     "output_type": "stream",
     "text": [
      "Processing id17_0006: 100%|██████████| 200/200 [00:03<00:00, 66.37it/s]\n"
     ]
    },
    {
     "name": "stdout",
     "output_type": "stream",
     "text": [
      "📂 D:\\DETECTION 1.0\\Celeb-DF\\Real Frames\\id17_0007 | Total frames: 274\n"
     ]
    },
    {
     "name": "stderr",
     "output_type": "stream",
     "text": [
      "Processing id17_0007: 100%|██████████| 273/273 [00:03<00:00, 68.96it/s]\n"
     ]
    },
    {
     "name": "stdout",
     "output_type": "stream",
     "text": [
      "📂 D:\\DETECTION 1.0\\Celeb-DF\\Real Frames\\id17_0008 | Total frames: 269\n"
     ]
    },
    {
     "name": "stderr",
     "output_type": "stream",
     "text": [
      "Processing id17_0008: 100%|██████████| 268/268 [00:03<00:00, 67.57it/s]\n"
     ]
    },
    {
     "name": "stdout",
     "output_type": "stream",
     "text": [
      "📂 D:\\DETECTION 1.0\\Celeb-DF\\Real Frames\\id17_0009 | Total frames: 298\n"
     ]
    },
    {
     "name": "stderr",
     "output_type": "stream",
     "text": [
      "Processing id17_0009: 100%|██████████| 297/297 [00:04<00:00, 64.77it/s]\n"
     ]
    },
    {
     "name": "stdout",
     "output_type": "stream",
     "text": [
      "📂 D:\\DETECTION 1.0\\Celeb-DF\\Real Frames\\id1_0000 | Total frames: 371\n"
     ]
    },
    {
     "name": "stderr",
     "output_type": "stream",
     "text": [
      "Processing id1_0000: 100%|██████████| 370/370 [00:05<00:00, 68.19it/s]\n"
     ]
    },
    {
     "name": "stdout",
     "output_type": "stream",
     "text": [
      "📂 D:\\DETECTION 1.0\\Celeb-DF\\Real Frames\\id1_0001 | Total frames: 276\n"
     ]
    },
    {
     "name": "stderr",
     "output_type": "stream",
     "text": [
      "Processing id1_0001: 100%|██████████| 275/275 [00:03<00:00, 70.51it/s]\n"
     ]
    },
    {
     "name": "stdout",
     "output_type": "stream",
     "text": [
      "📂 D:\\DETECTION 1.0\\Celeb-DF\\Real Frames\\id1_0002 | Total frames: 400\n"
     ]
    },
    {
     "name": "stderr",
     "output_type": "stream",
     "text": [
      "Processing id1_0002: 100%|██████████| 399/399 [00:05<00:00, 69.82it/s]\n"
     ]
    },
    {
     "name": "stdout",
     "output_type": "stream",
     "text": [
      "📂 D:\\DETECTION 1.0\\Celeb-DF\\Real Frames\\id1_0003 | Total frames: 451\n"
     ]
    },
    {
     "name": "stderr",
     "output_type": "stream",
     "text": [
      "Processing id1_0003: 100%|██████████| 450/450 [00:06<00:00, 69.61it/s]\n"
     ]
    },
    {
     "name": "stdout",
     "output_type": "stream",
     "text": [
      "📂 D:\\DETECTION 1.0\\Celeb-DF\\Real Frames\\id1_0004 | Total frames: 409\n"
     ]
    },
    {
     "name": "stderr",
     "output_type": "stream",
     "text": [
      "Processing id1_0004: 100%|██████████| 408/408 [00:06<00:00, 64.40it/s]\n"
     ]
    },
    {
     "name": "stdout",
     "output_type": "stream",
     "text": [
      "📂 D:\\DETECTION 1.0\\Celeb-DF\\Real Frames\\id1_0005 | Total frames: 422\n"
     ]
    },
    {
     "name": "stderr",
     "output_type": "stream",
     "text": [
      "Processing id1_0005: 100%|██████████| 421/421 [00:06<00:00, 66.65it/s]\n"
     ]
    },
    {
     "name": "stdout",
     "output_type": "stream",
     "text": [
      "📂 D:\\DETECTION 1.0\\Celeb-DF\\Real Frames\\id1_0006 | Total frames: 505\n"
     ]
    },
    {
     "name": "stderr",
     "output_type": "stream",
     "text": [
      "Processing id1_0006: 100%|██████████| 504/504 [00:07<00:00, 70.56it/s]\n"
     ]
    },
    {
     "name": "stdout",
     "output_type": "stream",
     "text": [
      "📂 D:\\DETECTION 1.0\\Celeb-DF\\Real Frames\\id1_0007 | Total frames: 328\n"
     ]
    },
    {
     "name": "stderr",
     "output_type": "stream",
     "text": [
      "Processing id1_0007: 100%|██████████| 327/327 [00:04<00:00, 73.10it/s]\n"
     ]
    },
    {
     "name": "stdout",
     "output_type": "stream",
     "text": [
      "📂 D:\\DETECTION 1.0\\Celeb-DF\\Real Frames\\id1_0008 | Total frames: 519\n"
     ]
    },
    {
     "name": "stderr",
     "output_type": "stream",
     "text": [
      "Processing id1_0008: 100%|██████████| 518/518 [00:07<00:00, 68.24it/s]\n"
     ]
    },
    {
     "name": "stdout",
     "output_type": "stream",
     "text": [
      "📂 D:\\DETECTION 1.0\\Celeb-DF\\Real Frames\\id1_0009 | Total frames: 412\n"
     ]
    },
    {
     "name": "stderr",
     "output_type": "stream",
     "text": [
      "Processing id1_0009: 100%|██████████| 411/411 [00:05<00:00, 69.28it/s]\n"
     ]
    },
    {
     "name": "stdout",
     "output_type": "stream",
     "text": [
      "📂 D:\\DETECTION 1.0\\Celeb-DF\\Real Frames\\id2_0000 | Total frames: 445\n"
     ]
    },
    {
     "name": "stderr",
     "output_type": "stream",
     "text": [
      "Processing id2_0000: 100%|██████████| 444/444 [00:06<00:00, 70.41it/s]\n"
     ]
    },
    {
     "name": "stdout",
     "output_type": "stream",
     "text": [
      "📂 D:\\DETECTION 1.0\\Celeb-DF\\Real Frames\\id2_0001 | Total frames: 376\n"
     ]
    },
    {
     "name": "stderr",
     "output_type": "stream",
     "text": [
      "Processing id2_0001: 100%|██████████| 375/375 [00:05<00:00, 67.28it/s]\n"
     ]
    },
    {
     "name": "stdout",
     "output_type": "stream",
     "text": [
      "📂 D:\\DETECTION 1.0\\Celeb-DF\\Real Frames\\id2_0002 | Total frames: 361\n"
     ]
    },
    {
     "name": "stderr",
     "output_type": "stream",
     "text": [
      "Processing id2_0002: 100%|██████████| 360/360 [00:05<00:00, 69.44it/s]\n"
     ]
    },
    {
     "name": "stdout",
     "output_type": "stream",
     "text": [
      "📂 D:\\DETECTION 1.0\\Celeb-DF\\Real Frames\\id2_0003 | Total frames: 383\n"
     ]
    },
    {
     "name": "stderr",
     "output_type": "stream",
     "text": [
      "Processing id2_0003: 100%|██████████| 382/382 [00:05<00:00, 65.41it/s]\n"
     ]
    },
    {
     "name": "stdout",
     "output_type": "stream",
     "text": [
      "📂 D:\\DETECTION 1.0\\Celeb-DF\\Real Frames\\id2_0004 | Total frames: 425\n"
     ]
    },
    {
     "name": "stderr",
     "output_type": "stream",
     "text": [
      "Processing id2_0004: 100%|██████████| 424/424 [00:06<00:00, 66.51it/s]\n"
     ]
    },
    {
     "name": "stdout",
     "output_type": "stream",
     "text": [
      "📂 D:\\DETECTION 1.0\\Celeb-DF\\Real Frames\\id2_0005 | Total frames: 307\n"
     ]
    },
    {
     "name": "stderr",
     "output_type": "stream",
     "text": [
      "Processing id2_0005: 100%|██████████| 306/306 [00:04<00:00, 70.35it/s]\n"
     ]
    },
    {
     "name": "stdout",
     "output_type": "stream",
     "text": [
      "📂 D:\\DETECTION 1.0\\Celeb-DF\\Real Frames\\id2_0006 | Total frames: 380\n"
     ]
    },
    {
     "name": "stderr",
     "output_type": "stream",
     "text": [
      "Processing id2_0006: 100%|██████████| 379/379 [00:05<00:00, 64.74it/s]\n"
     ]
    },
    {
     "name": "stdout",
     "output_type": "stream",
     "text": [
      "📂 D:\\DETECTION 1.0\\Celeb-DF\\Real Frames\\id2_0007 | Total frames: 470\n"
     ]
    },
    {
     "name": "stderr",
     "output_type": "stream",
     "text": [
      "Processing id2_0007: 100%|██████████| 469/469 [00:06<00:00, 67.31it/s]\n"
     ]
    },
    {
     "name": "stdout",
     "output_type": "stream",
     "text": [
      "📂 D:\\DETECTION 1.0\\Celeb-DF\\Real Frames\\id2_0008 | Total frames: 516\n"
     ]
    },
    {
     "name": "stderr",
     "output_type": "stream",
     "text": [
      "Processing id2_0008: 100%|██████████| 515/515 [00:08<00:00, 63.49it/s]\n"
     ]
    },
    {
     "name": "stdout",
     "output_type": "stream",
     "text": [
      "📂 D:\\DETECTION 1.0\\Celeb-DF\\Real Frames\\id2_0009 | Total frames: 322\n"
     ]
    },
    {
     "name": "stderr",
     "output_type": "stream",
     "text": [
      "Processing id2_0009: 100%|██████████| 321/321 [00:04<00:00, 66.33it/s]\n"
     ]
    },
    {
     "name": "stdout",
     "output_type": "stream",
     "text": [
      "📂 D:\\DETECTION 1.0\\Celeb-DF\\Real Frames\\id3_0000 | Total frames: 458\n"
     ]
    },
    {
     "name": "stderr",
     "output_type": "stream",
     "text": [
      "Processing id3_0000: 100%|██████████| 457/457 [00:07<00:00, 65.02it/s]\n"
     ]
    },
    {
     "name": "stdout",
     "output_type": "stream",
     "text": [
      "📂 D:\\DETECTION 1.0\\Celeb-DF\\Real Frames\\id3_0001 | Total frames: 380\n"
     ]
    },
    {
     "name": "stderr",
     "output_type": "stream",
     "text": [
      "Processing id3_0001: 100%|██████████| 379/379 [00:05<00:00, 70.00it/s]\n"
     ]
    },
    {
     "name": "stdout",
     "output_type": "stream",
     "text": [
      "📂 D:\\DETECTION 1.0\\Celeb-DF\\Real Frames\\id3_0002 | Total frames: 428\n"
     ]
    },
    {
     "name": "stderr",
     "output_type": "stream",
     "text": [
      "Processing id3_0002: 100%|██████████| 427/427 [00:06<00:00, 69.43it/s]\n"
     ]
    },
    {
     "name": "stdout",
     "output_type": "stream",
     "text": [
      "📂 D:\\DETECTION 1.0\\Celeb-DF\\Real Frames\\id3_0003 | Total frames: 372\n"
     ]
    },
    {
     "name": "stderr",
     "output_type": "stream",
     "text": [
      "Processing id3_0003: 100%|██████████| 371/371 [00:05<00:00, 69.10it/s]\n"
     ]
    },
    {
     "name": "stdout",
     "output_type": "stream",
     "text": [
      "📂 D:\\DETECTION 1.0\\Celeb-DF\\Real Frames\\id3_0004 | Total frames: 499\n"
     ]
    },
    {
     "name": "stderr",
     "output_type": "stream",
     "text": [
      "Processing id3_0004: 100%|██████████| 498/498 [00:07<00:00, 70.21it/s]\n"
     ]
    },
    {
     "name": "stdout",
     "output_type": "stream",
     "text": [
      "📂 D:\\DETECTION 1.0\\Celeb-DF\\Real Frames\\id3_0005 | Total frames: 398\n"
     ]
    },
    {
     "name": "stderr",
     "output_type": "stream",
     "text": [
      "Processing id3_0005: 100%|██████████| 397/397 [00:05<00:00, 69.33it/s]\n"
     ]
    },
    {
     "name": "stdout",
     "output_type": "stream",
     "text": [
      "📂 D:\\DETECTION 1.0\\Celeb-DF\\Real Frames\\id3_0006 | Total frames: 409\n"
     ]
    },
    {
     "name": "stderr",
     "output_type": "stream",
     "text": [
      "Processing id3_0006: 100%|██████████| 408/408 [00:06<00:00, 60.75it/s]\n"
     ]
    },
    {
     "name": "stdout",
     "output_type": "stream",
     "text": [
      "📂 D:\\DETECTION 1.0\\Celeb-DF\\Real Frames\\id3_0007 | Total frames: 361\n"
     ]
    },
    {
     "name": "stderr",
     "output_type": "stream",
     "text": [
      "Processing id3_0007: 100%|██████████| 360/360 [00:05<00:00, 69.52it/s]\n"
     ]
    },
    {
     "name": "stdout",
     "output_type": "stream",
     "text": [
      "📂 D:\\DETECTION 1.0\\Celeb-DF\\Real Frames\\id3_0008 | Total frames: 458\n"
     ]
    },
    {
     "name": "stderr",
     "output_type": "stream",
     "text": [
      "Processing id3_0008: 100%|██████████| 457/457 [00:06<00:00, 70.49it/s]\n"
     ]
    },
    {
     "name": "stdout",
     "output_type": "stream",
     "text": [
      "📂 D:\\DETECTION 1.0\\Celeb-DF\\Real Frames\\id3_0009 | Total frames: 497\n"
     ]
    },
    {
     "name": "stderr",
     "output_type": "stream",
     "text": [
      "Processing id3_0009: 100%|██████████| 496/496 [00:07<00:00, 68.92it/s]\n"
     ]
    },
    {
     "name": "stdout",
     "output_type": "stream",
     "text": [
      "📂 D:\\DETECTION 1.0\\Celeb-DF\\Real Frames\\id4_0000 | Total frames: 477\n"
     ]
    },
    {
     "name": "stderr",
     "output_type": "stream",
     "text": [
      "Processing id4_0000: 100%|██████████| 476/476 [00:06<00:00, 71.59it/s]\n"
     ]
    },
    {
     "name": "stdout",
     "output_type": "stream",
     "text": [
      "📂 D:\\DETECTION 1.0\\Celeb-DF\\Real Frames\\id4_0001 | Total frames: 459\n"
     ]
    },
    {
     "name": "stderr",
     "output_type": "stream",
     "text": [
      "Processing id4_0001: 100%|██████████| 458/458 [00:06<00:00, 70.97it/s]\n"
     ]
    },
    {
     "name": "stdout",
     "output_type": "stream",
     "text": [
      "📂 D:\\DETECTION 1.0\\Celeb-DF\\Real Frames\\id4_0002 | Total frames: 491\n"
     ]
    },
    {
     "name": "stderr",
     "output_type": "stream",
     "text": [
      "Processing id4_0002: 100%|██████████| 490/490 [00:06<00:00, 71.24it/s]\n"
     ]
    },
    {
     "name": "stdout",
     "output_type": "stream",
     "text": [
      "📂 D:\\DETECTION 1.0\\Celeb-DF\\Real Frames\\id4_0003 | Total frames: 444\n"
     ]
    },
    {
     "name": "stderr",
     "output_type": "stream",
     "text": [
      "Processing id4_0003: 100%|██████████| 443/443 [00:06<00:00, 71.17it/s]\n"
     ]
    },
    {
     "name": "stdout",
     "output_type": "stream",
     "text": [
      "📂 D:\\DETECTION 1.0\\Celeb-DF\\Real Frames\\id4_0004 | Total frames: 439\n"
     ]
    },
    {
     "name": "stderr",
     "output_type": "stream",
     "text": [
      "Processing id4_0004: 100%|██████████| 438/438 [00:05<00:00, 74.17it/s]\n"
     ]
    },
    {
     "name": "stdout",
     "output_type": "stream",
     "text": [
      "📂 D:\\DETECTION 1.0\\Celeb-DF\\Real Frames\\id4_0005 | Total frames: 467\n"
     ]
    },
    {
     "name": "stderr",
     "output_type": "stream",
     "text": [
      "Processing id4_0005: 100%|██████████| 466/466 [00:06<00:00, 72.00it/s]\n"
     ]
    },
    {
     "name": "stdout",
     "output_type": "stream",
     "text": [
      "📂 D:\\DETECTION 1.0\\Celeb-DF\\Real Frames\\id4_0006 | Total frames: 304\n"
     ]
    },
    {
     "name": "stderr",
     "output_type": "stream",
     "text": [
      "Processing id4_0006: 100%|██████████| 303/303 [00:04<00:00, 71.18it/s]\n"
     ]
    },
    {
     "name": "stdout",
     "output_type": "stream",
     "text": [
      "📂 D:\\DETECTION 1.0\\Celeb-DF\\Real Frames\\id4_0007 | Total frames: 446\n"
     ]
    },
    {
     "name": "stderr",
     "output_type": "stream",
     "text": [
      "Processing id4_0007: 100%|██████████| 445/445 [00:06<00:00, 72.52it/s]\n"
     ]
    },
    {
     "name": "stdout",
     "output_type": "stream",
     "text": [
      "📂 D:\\DETECTION 1.0\\Celeb-DF\\Real Frames\\id4_0008 | Total frames: 326\n"
     ]
    },
    {
     "name": "stderr",
     "output_type": "stream",
     "text": [
      "Processing id4_0008: 100%|██████████| 325/325 [00:04<00:00, 71.70it/s]\n"
     ]
    },
    {
     "name": "stdout",
     "output_type": "stream",
     "text": [
      "📂 D:\\DETECTION 1.0\\Celeb-DF\\Real Frames\\id4_0009 | Total frames: 483\n"
     ]
    },
    {
     "name": "stderr",
     "output_type": "stream",
     "text": [
      "Processing id4_0009: 100%|██████████| 482/482 [00:06<00:00, 71.98it/s]\n"
     ]
    },
    {
     "name": "stdout",
     "output_type": "stream",
     "text": [
      "📂 D:\\DETECTION 1.0\\Celeb-DF\\Real Frames\\id6_0000 | Total frames: 630\n"
     ]
    },
    {
     "name": "stderr",
     "output_type": "stream",
     "text": [
      "Processing id6_0000: 100%|██████████| 629/629 [00:08<00:00, 70.67it/s]\n"
     ]
    },
    {
     "name": "stdout",
     "output_type": "stream",
     "text": [
      "📂 D:\\DETECTION 1.0\\Celeb-DF\\Real Frames\\id6_0001 | Total frames: 323\n"
     ]
    },
    {
     "name": "stderr",
     "output_type": "stream",
     "text": [
      "Processing id6_0001: 100%|██████████| 322/322 [00:04<00:00, 71.63it/s]\n"
     ]
    },
    {
     "name": "stdout",
     "output_type": "stream",
     "text": [
      "📂 D:\\DETECTION 1.0\\Celeb-DF\\Real Frames\\id6_0002 | Total frames: 611\n"
     ]
    },
    {
     "name": "stderr",
     "output_type": "stream",
     "text": [
      "Processing id6_0002: 100%|██████████| 610/610 [00:08<00:00, 69.44it/s]\n"
     ]
    },
    {
     "name": "stdout",
     "output_type": "stream",
     "text": [
      "📂 D:\\DETECTION 1.0\\Celeb-DF\\Real Frames\\id6_0003 | Total frames: 372\n"
     ]
    },
    {
     "name": "stderr",
     "output_type": "stream",
     "text": [
      "Processing id6_0003: 100%|██████████| 371/371 [00:05<00:00, 68.48it/s]\n"
     ]
    },
    {
     "name": "stdout",
     "output_type": "stream",
     "text": [
      "📂 D:\\DETECTION 1.0\\Celeb-DF\\Real Frames\\id6_0004 | Total frames: 458\n"
     ]
    },
    {
     "name": "stderr",
     "output_type": "stream",
     "text": [
      "Processing id6_0004: 100%|██████████| 457/457 [00:06<00:00, 68.58it/s]\n"
     ]
    },
    {
     "name": "stdout",
     "output_type": "stream",
     "text": [
      "📂 D:\\DETECTION 1.0\\Celeb-DF\\Real Frames\\id6_0005 | Total frames: 372\n"
     ]
    },
    {
     "name": "stderr",
     "output_type": "stream",
     "text": [
      "Processing id6_0005: 100%|██████████| 371/371 [00:05<00:00, 72.05it/s]\n"
     ]
    },
    {
     "name": "stdout",
     "output_type": "stream",
     "text": [
      "📂 D:\\DETECTION 1.0\\Celeb-DF\\Real Frames\\id6_0006 | Total frames: 294\n"
     ]
    },
    {
     "name": "stderr",
     "output_type": "stream",
     "text": [
      "Processing id6_0006: 100%|██████████| 293/293 [00:04<00:00, 70.61it/s]\n"
     ]
    },
    {
     "name": "stdout",
     "output_type": "stream",
     "text": [
      "📂 D:\\DETECTION 1.0\\Celeb-DF\\Real Frames\\id6_0007 | Total frames: 557\n"
     ]
    },
    {
     "name": "stderr",
     "output_type": "stream",
     "text": [
      "Processing id6_0007: 100%|██████████| 556/556 [00:07<00:00, 69.78it/s]\n"
     ]
    },
    {
     "name": "stdout",
     "output_type": "stream",
     "text": [
      "📂 D:\\DETECTION 1.0\\Celeb-DF\\Real Frames\\id6_0008 | Total frames: 381\n"
     ]
    },
    {
     "name": "stderr",
     "output_type": "stream",
     "text": [
      "Processing id6_0008: 100%|██████████| 380/380 [00:05<00:00, 70.80it/s]\n"
     ]
    },
    {
     "name": "stdout",
     "output_type": "stream",
     "text": [
      "📂 D:\\DETECTION 1.0\\Celeb-DF\\Real Frames\\id6_0009 | Total frames: 530\n"
     ]
    },
    {
     "name": "stderr",
     "output_type": "stream",
     "text": [
      "Processing id6_0009: 100%|██████████| 529/529 [00:07<00:00, 69.01it/s]\n"
     ]
    },
    {
     "name": "stdout",
     "output_type": "stream",
     "text": [
      "📂 D:\\DETECTION 1.0\\Celeb-DF\\Real Frames\\id7_0000 | Total frames: 280\n"
     ]
    },
    {
     "name": "stderr",
     "output_type": "stream",
     "text": [
      "Processing id7_0000: 100%|██████████| 279/279 [00:03<00:00, 71.59it/s]\n"
     ]
    },
    {
     "name": "stdout",
     "output_type": "stream",
     "text": [
      "📂 D:\\DETECTION 1.0\\Celeb-DF\\Real Frames\\id7_0001 | Total frames: 295\n"
     ]
    },
    {
     "name": "stderr",
     "output_type": "stream",
     "text": [
      "Processing id7_0001: 100%|██████████| 294/294 [00:04<00:00, 68.38it/s]\n"
     ]
    },
    {
     "name": "stdout",
     "output_type": "stream",
     "text": [
      "📂 D:\\DETECTION 1.0\\Celeb-DF\\Real Frames\\id7_0002 | Total frames: 270\n"
     ]
    },
    {
     "name": "stderr",
     "output_type": "stream",
     "text": [
      "Processing id7_0002: 100%|██████████| 269/269 [00:03<00:00, 68.23it/s]\n"
     ]
    },
    {
     "name": "stdout",
     "output_type": "stream",
     "text": [
      "📂 D:\\DETECTION 1.0\\Celeb-DF\\Real Frames\\id7_0003 | Total frames: 555\n"
     ]
    },
    {
     "name": "stderr",
     "output_type": "stream",
     "text": [
      "Processing id7_0003: 100%|██████████| 554/554 [00:08<00:00, 66.45it/s]\n"
     ]
    },
    {
     "name": "stdout",
     "output_type": "stream",
     "text": [
      "📂 D:\\DETECTION 1.0\\Celeb-DF\\Real Frames\\id7_0004 | Total frames: 740\n"
     ]
    },
    {
     "name": "stderr",
     "output_type": "stream",
     "text": [
      "Processing id7_0004: 100%|██████████| 739/739 [00:10<00:00, 71.13it/s]\n"
     ]
    },
    {
     "name": "stdout",
     "output_type": "stream",
     "text": [
      "📂 D:\\DETECTION 1.0\\Celeb-DF\\Real Frames\\id7_0005 | Total frames: 161\n"
     ]
    },
    {
     "name": "stderr",
     "output_type": "stream",
     "text": [
      "Processing id7_0005: 100%|██████████| 160/160 [00:02<00:00, 73.31it/s]\n"
     ]
    },
    {
     "name": "stdout",
     "output_type": "stream",
     "text": [
      "📂 D:\\DETECTION 1.0\\Celeb-DF\\Real Frames\\id7_0006 | Total frames: 214\n"
     ]
    },
    {
     "name": "stderr",
     "output_type": "stream",
     "text": [
      "Processing id7_0006: 100%|██████████| 213/213 [00:03<00:00, 69.48it/s]\n"
     ]
    },
    {
     "name": "stdout",
     "output_type": "stream",
     "text": [
      "📂 D:\\DETECTION 1.0\\Celeb-DF\\Real Frames\\id7_0007 | Total frames: 415\n"
     ]
    },
    {
     "name": "stderr",
     "output_type": "stream",
     "text": [
      "Processing id7_0007: 100%|██████████| 414/414 [00:06<00:00, 67.74it/s]\n"
     ]
    },
    {
     "name": "stdout",
     "output_type": "stream",
     "text": [
      "📂 D:\\DETECTION 1.0\\Celeb-DF\\Real Frames\\id7_0008 | Total frames: 291\n"
     ]
    },
    {
     "name": "stderr",
     "output_type": "stream",
     "text": [
      "Processing id7_0008: 100%|██████████| 290/290 [00:04<00:00, 60.01it/s]\n"
     ]
    },
    {
     "name": "stdout",
     "output_type": "stream",
     "text": [
      "📂 D:\\DETECTION 1.0\\Celeb-DF\\Real Frames\\id7_0009 | Total frames: 458\n"
     ]
    },
    {
     "name": "stderr",
     "output_type": "stream",
     "text": [
      "Processing id7_0009: 100%|██████████| 457/457 [00:07<00:00, 59.93it/s]\n"
     ]
    },
    {
     "name": "stdout",
     "output_type": "stream",
     "text": [
      "📂 D:\\DETECTION 1.0\\Celeb-DF\\Real Frames\\id8_0000 | Total frames: 477\n"
     ]
    },
    {
     "name": "stderr",
     "output_type": "stream",
     "text": [
      "Processing id8_0000: 100%|██████████| 476/476 [00:07<00:00, 65.77it/s]\n"
     ]
    },
    {
     "name": "stdout",
     "output_type": "stream",
     "text": [
      "📂 D:\\DETECTION 1.0\\Celeb-DF\\Real Frames\\id8_0001 | Total frames: 457\n"
     ]
    },
    {
     "name": "stderr",
     "output_type": "stream",
     "text": [
      "Processing id8_0001: 100%|██████████| 456/456 [00:06<00:00, 65.81it/s]\n"
     ]
    },
    {
     "name": "stdout",
     "output_type": "stream",
     "text": [
      "📂 D:\\DETECTION 1.0\\Celeb-DF\\Real Frames\\id8_0002 | Total frames: 525\n"
     ]
    },
    {
     "name": "stderr",
     "output_type": "stream",
     "text": [
      "Processing id8_0002: 100%|██████████| 524/524 [00:07<00:00, 72.18it/s]\n"
     ]
    },
    {
     "name": "stdout",
     "output_type": "stream",
     "text": [
      "📂 D:\\DETECTION 1.0\\Celeb-DF\\Real Frames\\id8_0003 | Total frames: 401\n"
     ]
    },
    {
     "name": "stderr",
     "output_type": "stream",
     "text": [
      "Processing id8_0003: 100%|██████████| 400/400 [00:05<00:00, 72.18it/s]\n"
     ]
    },
    {
     "name": "stdout",
     "output_type": "stream",
     "text": [
      "📂 D:\\DETECTION 1.0\\Celeb-DF\\Real Frames\\id8_0004 | Total frames: 566\n"
     ]
    },
    {
     "name": "stderr",
     "output_type": "stream",
     "text": [
      "Processing id8_0004: 100%|██████████| 565/565 [00:07<00:00, 71.41it/s]\n"
     ]
    },
    {
     "name": "stdout",
     "output_type": "stream",
     "text": [
      "📂 D:\\DETECTION 1.0\\Celeb-DF\\Real Frames\\id8_0005 | Total frames: 215\n"
     ]
    },
    {
     "name": "stderr",
     "output_type": "stream",
     "text": [
      "Processing id8_0005: 100%|██████████| 214/214 [00:03<00:00, 70.82it/s]\n"
     ]
    },
    {
     "name": "stdout",
     "output_type": "stream",
     "text": [
      "📂 D:\\DETECTION 1.0\\Celeb-DF\\Real Frames\\id8_0006 | Total frames: 514\n"
     ]
    },
    {
     "name": "stderr",
     "output_type": "stream",
     "text": [
      "Processing id8_0006: 100%|██████████| 513/513 [00:07<00:00, 68.73it/s]\n"
     ]
    },
    {
     "name": "stdout",
     "output_type": "stream",
     "text": [
      "📂 D:\\DETECTION 1.0\\Celeb-DF\\Real Frames\\id8_0007 | Total frames: 387\n"
     ]
    },
    {
     "name": "stderr",
     "output_type": "stream",
     "text": [
      "Processing id8_0007: 100%|██████████| 386/386 [00:05<00:00, 68.99it/s]\n"
     ]
    },
    {
     "name": "stdout",
     "output_type": "stream",
     "text": [
      "📂 D:\\DETECTION 1.0\\Celeb-DF\\Real Frames\\id8_0008 | Total frames: 570\n"
     ]
    },
    {
     "name": "stderr",
     "output_type": "stream",
     "text": [
      "Processing id8_0008: 100%|██████████| 569/569 [00:07<00:00, 71.13it/s]\n"
     ]
    },
    {
     "name": "stdout",
     "output_type": "stream",
     "text": [
      "📂 D:\\DETECTION 1.0\\Celeb-DF\\Real Frames\\id8_0009 | Total frames: 378\n"
     ]
    },
    {
     "name": "stderr",
     "output_type": "stream",
     "text": [
      "Processing id8_0009: 100%|██████████| 377/377 [00:05<00:00, 68.84it/s]\n"
     ]
    },
    {
     "name": "stdout",
     "output_type": "stream",
     "text": [
      "📂 D:\\DETECTION 1.0\\Celeb-DF\\Real Frames\\id9_0000 | Total frames: 448\n"
     ]
    },
    {
     "name": "stderr",
     "output_type": "stream",
     "text": [
      "Processing id9_0000: 100%|██████████| 447/447 [00:06<00:00, 68.76it/s]\n"
     ]
    },
    {
     "name": "stdout",
     "output_type": "stream",
     "text": [
      "📂 D:\\DETECTION 1.0\\Celeb-DF\\Real Frames\\id9_0001 | Total frames: 437\n"
     ]
    },
    {
     "name": "stderr",
     "output_type": "stream",
     "text": [
      "Processing id9_0001: 100%|██████████| 436/436 [00:06<00:00, 70.35it/s]\n"
     ]
    },
    {
     "name": "stdout",
     "output_type": "stream",
     "text": [
      "📂 D:\\DETECTION 1.0\\Celeb-DF\\Real Frames\\id9_0002 | Total frames: 364\n"
     ]
    },
    {
     "name": "stderr",
     "output_type": "stream",
     "text": [
      "Processing id9_0002: 100%|██████████| 363/363 [00:05<00:00, 69.59it/s]\n"
     ]
    },
    {
     "name": "stdout",
     "output_type": "stream",
     "text": [
      "📂 D:\\DETECTION 1.0\\Celeb-DF\\Real Frames\\id9_0003 | Total frames: 492\n"
     ]
    },
    {
     "name": "stderr",
     "output_type": "stream",
     "text": [
      "Processing id9_0003: 100%|██████████| 491/491 [00:07<00:00, 69.87it/s]\n"
     ]
    },
    {
     "name": "stdout",
     "output_type": "stream",
     "text": [
      "📂 D:\\DETECTION 1.0\\Celeb-DF\\Real Frames\\id9_0004 | Total frames: 362\n"
     ]
    },
    {
     "name": "stderr",
     "output_type": "stream",
     "text": [
      "Processing id9_0004: 100%|██████████| 361/361 [00:05<00:00, 67.68it/s]\n"
     ]
    },
    {
     "name": "stdout",
     "output_type": "stream",
     "text": [
      "📂 D:\\DETECTION 1.0\\Celeb-DF\\Real Frames\\id9_0005 | Total frames: 420\n"
     ]
    },
    {
     "name": "stderr",
     "output_type": "stream",
     "text": [
      "Processing id9_0005: 100%|██████████| 419/419 [00:06<00:00, 66.98it/s]\n"
     ]
    },
    {
     "name": "stdout",
     "output_type": "stream",
     "text": [
      "📂 D:\\DETECTION 1.0\\Celeb-DF\\Real Frames\\id9_0006 | Total frames: 401\n"
     ]
    },
    {
     "name": "stderr",
     "output_type": "stream",
     "text": [
      "Processing id9_0006: 100%|██████████| 400/400 [00:05<00:00, 67.70it/s]\n"
     ]
    },
    {
     "name": "stdout",
     "output_type": "stream",
     "text": [
      "📂 D:\\DETECTION 1.0\\Celeb-DF\\Real Frames\\id9_0007 | Total frames: 456\n"
     ]
    },
    {
     "name": "stderr",
     "output_type": "stream",
     "text": [
      "Processing id9_0007: 100%|██████████| 455/455 [00:06<00:00, 70.69it/s]\n"
     ]
    },
    {
     "name": "stdout",
     "output_type": "stream",
     "text": [
      "📂 D:\\DETECTION 1.0\\Celeb-DF\\Real Frames\\id9_0008 | Total frames: 461\n"
     ]
    },
    {
     "name": "stderr",
     "output_type": "stream",
     "text": [
      "Processing id9_0008: 100%|██████████| 460/460 [00:06<00:00, 68.62it/s]\n"
     ]
    },
    {
     "name": "stdout",
     "output_type": "stream",
     "text": [
      "📂 D:\\DETECTION 1.0\\Celeb-DF\\Real Frames\\id9_0009 | Total frames: 314\n"
     ]
    },
    {
     "name": "stderr",
     "output_type": "stream",
     "text": [
      "Processing id9_0009: 100%|██████████| 313/313 [00:05<00:00, 61.10it/s]\n"
     ]
    },
    {
     "name": "stdout",
     "output_type": "stream",
     "text": [
      "📂 D:\\DETECTION 1.0\\Celeb-DF\\Fake Frames\\id1_id0_0000 | Total frames: 365\n"
     ]
    },
    {
     "name": "stderr",
     "output_type": "stream",
     "text": [
      "Processing id1_id0_0000: 100%|██████████| 364/364 [00:05<00:00, 62.65it/s]\n"
     ]
    },
    {
     "name": "stdout",
     "output_type": "stream",
     "text": [
      "📂 D:\\DETECTION 1.0\\Celeb-DF\\Fake Frames\\id1_id0_0001 | Total frames: 272\n"
     ]
    },
    {
     "name": "stderr",
     "output_type": "stream",
     "text": [
      "Processing id1_id0_0001: 100%|██████████| 271/271 [00:04<00:00, 60.45it/s]\n"
     ]
    },
    {
     "name": "stdout",
     "output_type": "stream",
     "text": [
      "📂 D:\\DETECTION 1.0\\Celeb-DF\\Fake Frames\\id1_id0_0002 | Total frames: 400\n"
     ]
    },
    {
     "name": "stderr",
     "output_type": "stream",
     "text": [
      "Processing id1_id0_0002: 100%|██████████| 399/399 [00:06<00:00, 63.90it/s]\n"
     ]
    },
    {
     "name": "stdout",
     "output_type": "stream",
     "text": [
      "📂 D:\\DETECTION 1.0\\Celeb-DF\\Fake Frames\\id1_id0_0003 | Total frames: 451\n"
     ]
    },
    {
     "name": "stderr",
     "output_type": "stream",
     "text": [
      "Processing id1_id0_0003: 100%|██████████| 450/450 [00:07<00:00, 58.32it/s]\n"
     ]
    },
    {
     "name": "stdout",
     "output_type": "stream",
     "text": [
      "📂 D:\\DETECTION 1.0\\Celeb-DF\\Fake Frames\\id1_id0_0004 | Total frames: 409\n"
     ]
    },
    {
     "name": "stderr",
     "output_type": "stream",
     "text": [
      "Processing id1_id0_0004: 100%|██████████| 408/408 [00:06<00:00, 65.25it/s]\n"
     ]
    },
    {
     "name": "stdout",
     "output_type": "stream",
     "text": [
      "📂 D:\\DETECTION 1.0\\Celeb-DF\\Fake Frames\\id1_id0_0005 | Total frames: 422\n"
     ]
    },
    {
     "name": "stderr",
     "output_type": "stream",
     "text": [
      "Processing id1_id0_0005: 100%|██████████| 421/421 [00:06<00:00, 67.72it/s]\n"
     ]
    },
    {
     "name": "stdout",
     "output_type": "stream",
     "text": [
      "📂 D:\\DETECTION 1.0\\Celeb-DF\\Fake Frames\\id1_id0_0006 | Total frames: 505\n"
     ]
    },
    {
     "name": "stderr",
     "output_type": "stream",
     "text": [
      "Processing id1_id0_0006: 100%|██████████| 504/504 [00:07<00:00, 68.11it/s]\n"
     ]
    },
    {
     "name": "stdout",
     "output_type": "stream",
     "text": [
      "📂 D:\\DETECTION 1.0\\Celeb-DF\\Fake Frames\\id1_id0_0007 | Total frames: 328\n"
     ]
    },
    {
     "name": "stderr",
     "output_type": "stream",
     "text": [
      "Processing id1_id0_0007: 100%|██████████| 327/327 [00:04<00:00, 69.05it/s]\n"
     ]
    },
    {
     "name": "stdout",
     "output_type": "stream",
     "text": [
      "📂 D:\\DETECTION 1.0\\Celeb-DF\\Fake Frames\\id1_id0_0009 | Total frames: 412\n"
     ]
    },
    {
     "name": "stderr",
     "output_type": "stream",
     "text": [
      "Processing id1_id0_0009: 100%|██████████| 411/411 [00:06<00:00, 66.06it/s]\n"
     ]
    },
    {
     "name": "stdout",
     "output_type": "stream",
     "text": [
      "📂 D:\\DETECTION 1.0\\Celeb-DF\\Fake Frames\\id1_id16_0000 | Total frames: 365\n"
     ]
    },
    {
     "name": "stderr",
     "output_type": "stream",
     "text": [
      "Processing id1_id16_0000: 100%|██████████| 364/364 [00:05<00:00, 68.38it/s]\n"
     ]
    },
    {
     "name": "stdout",
     "output_type": "stream",
     "text": [
      "📂 D:\\DETECTION 1.0\\Celeb-DF\\Fake Frames\\id1_id16_0001 | Total frames: 272\n"
     ]
    },
    {
     "name": "stderr",
     "output_type": "stream",
     "text": [
      "Processing id1_id16_0001: 100%|██████████| 271/271 [00:03<00:00, 68.92it/s]\n"
     ]
    },
    {
     "name": "stdout",
     "output_type": "stream",
     "text": [
      "📂 D:\\DETECTION 1.0\\Celeb-DF\\Fake Frames\\id1_id16_0002 | Total frames: 400\n"
     ]
    },
    {
     "name": "stderr",
     "output_type": "stream",
     "text": [
      "Processing id1_id16_0002: 100%|██████████| 399/399 [00:05<00:00, 68.24it/s]\n"
     ]
    },
    {
     "name": "stdout",
     "output_type": "stream",
     "text": [
      "📂 D:\\DETECTION 1.0\\Celeb-DF\\Fake Frames\\id1_id16_0003 | Total frames: 451\n"
     ]
    },
    {
     "name": "stderr",
     "output_type": "stream",
     "text": [
      "Processing id1_id16_0003: 100%|██████████| 450/450 [00:06<00:00, 66.75it/s]\n"
     ]
    },
    {
     "name": "stdout",
     "output_type": "stream",
     "text": [
      "📂 D:\\DETECTION 1.0\\Celeb-DF\\Fake Frames\\id1_id16_0004 | Total frames: 409\n"
     ]
    },
    {
     "name": "stderr",
     "output_type": "stream",
     "text": [
      "Processing id1_id16_0004: 100%|██████████| 408/408 [00:06<00:00, 65.24it/s]\n"
     ]
    },
    {
     "name": "stdout",
     "output_type": "stream",
     "text": [
      "📂 D:\\DETECTION 1.0\\Celeb-DF\\Fake Frames\\id1_id16_0005 | Total frames: 422\n"
     ]
    },
    {
     "name": "stderr",
     "output_type": "stream",
     "text": [
      "Processing id1_id16_0005: 100%|██████████| 421/421 [00:06<00:00, 69.60it/s]\n"
     ]
    },
    {
     "name": "stdout",
     "output_type": "stream",
     "text": [
      "📂 D:\\DETECTION 1.0\\Celeb-DF\\Fake Frames\\id1_id16_0006 | Total frames: 49\n"
     ]
    },
    {
     "name": "stderr",
     "output_type": "stream",
     "text": [
      "Processing id1_id16_0006: 100%|██████████| 48/48 [00:00<00:00, 66.51it/s]\n"
     ]
    },
    {
     "name": "stdout",
     "output_type": "stream",
     "text": [
      "📂 D:\\DETECTION 1.0\\Celeb-DF\\Fake Frames\\id1_id16_0007 | Total frames: 328\n"
     ]
    },
    {
     "name": "stderr",
     "output_type": "stream",
     "text": [
      "Processing id1_id16_0007: 100%|██████████| 327/327 [00:04<00:00, 69.55it/s]\n"
     ]
    },
    {
     "name": "stdout",
     "output_type": "stream",
     "text": [
      "📂 D:\\DETECTION 1.0\\Celeb-DF\\Fake Frames\\id1_id16_0009 | Total frames: 412\n"
     ]
    },
    {
     "name": "stderr",
     "output_type": "stream",
     "text": [
      "Processing id1_id16_0009: 100%|██████████| 411/411 [00:06<00:00, 67.06it/s]\n"
     ]
    },
    {
     "name": "stdout",
     "output_type": "stream",
     "text": [
      "📂 D:\\DETECTION 1.0\\Celeb-DF\\Fake Frames\\id1_id17_0000 | Total frames: 365\n"
     ]
    },
    {
     "name": "stderr",
     "output_type": "stream",
     "text": [
      "Processing id1_id17_0000: 100%|██████████| 364/364 [00:05<00:00, 69.33it/s]\n"
     ]
    },
    {
     "name": "stdout",
     "output_type": "stream",
     "text": [
      "📂 D:\\DETECTION 1.0\\Celeb-DF\\Fake Frames\\id1_id2_0000 | Total frames: 365\n"
     ]
    },
    {
     "name": "stderr",
     "output_type": "stream",
     "text": [
      "Processing id1_id2_0000: 100%|██████████| 364/364 [00:05<00:00, 71.34it/s]\n"
     ]
    },
    {
     "name": "stdout",
     "output_type": "stream",
     "text": [
      "📂 D:\\DETECTION 1.0\\Celeb-DF\\Fake Frames\\id1_id2_0001 | Total frames: 272\n"
     ]
    },
    {
     "name": "stderr",
     "output_type": "stream",
     "text": [
      "Processing id1_id2_0001: 100%|██████████| 271/271 [00:03<00:00, 68.20it/s]\n"
     ]
    },
    {
     "name": "stdout",
     "output_type": "stream",
     "text": [
      "📂 D:\\DETECTION 1.0\\Celeb-DF\\Fake Frames\\id1_id2_0002 | Total frames: 400\n"
     ]
    },
    {
     "name": "stderr",
     "output_type": "stream",
     "text": [
      "Processing id1_id2_0002: 100%|██████████| 399/399 [00:05<00:00, 68.33it/s]\n"
     ]
    },
    {
     "name": "stdout",
     "output_type": "stream",
     "text": [
      "📂 D:\\DETECTION 1.0\\Celeb-DF\\Fake Frames\\id1_id2_0003 | Total frames: 451\n"
     ]
    },
    {
     "name": "stderr",
     "output_type": "stream",
     "text": [
      "Processing id1_id2_0003: 100%|██████████| 450/450 [00:06<00:00, 66.82it/s]\n"
     ]
    },
    {
     "name": "stdout",
     "output_type": "stream",
     "text": [
      "📂 D:\\DETECTION 1.0\\Celeb-DF\\Fake Frames\\id1_id2_0004 | Total frames: 409\n"
     ]
    },
    {
     "name": "stderr",
     "output_type": "stream",
     "text": [
      "Processing id1_id2_0004: 100%|██████████| 408/408 [00:06<00:00, 65.24it/s]\n"
     ]
    },
    {
     "name": "stdout",
     "output_type": "stream",
     "text": [
      "📂 D:\\DETECTION 1.0\\Celeb-DF\\Fake Frames\\id1_id2_0005 | Total frames: 422\n"
     ]
    },
    {
     "name": "stderr",
     "output_type": "stream",
     "text": [
      "Processing id1_id2_0005: 100%|██████████| 421/421 [00:06<00:00, 66.61it/s]\n"
     ]
    },
    {
     "name": "stdout",
     "output_type": "stream",
     "text": [
      "📂 D:\\DETECTION 1.0\\Celeb-DF\\Fake Frames\\id1_id2_0006 | Total frames: 505\n"
     ]
    },
    {
     "name": "stderr",
     "output_type": "stream",
     "text": [
      "Processing id1_id2_0006: 100%|██████████| 504/504 [00:07<00:00, 65.50it/s]\n"
     ]
    },
    {
     "name": "stdout",
     "output_type": "stream",
     "text": [
      "📂 D:\\DETECTION 1.0\\Celeb-DF\\Fake Frames\\id1_id2_0007 | Total frames: 328\n"
     ]
    },
    {
     "name": "stderr",
     "output_type": "stream",
     "text": [
      "Processing id1_id2_0007: 100%|██████████| 327/327 [00:05<00:00, 63.75it/s]\n"
     ]
    },
    {
     "name": "stdout",
     "output_type": "stream",
     "text": [
      "📂 D:\\DETECTION 1.0\\Celeb-DF\\Fake Frames\\id1_id2_0009 | Total frames: 412\n"
     ]
    },
    {
     "name": "stderr",
     "output_type": "stream",
     "text": [
      "Processing id1_id2_0009: 100%|██████████| 411/411 [00:06<00:00, 64.54it/s]\n"
     ]
    },
    {
     "name": "stdout",
     "output_type": "stream",
     "text": [
      "📂 D:\\DETECTION 1.0\\Celeb-DF\\Fake Frames\\id1_id3_0000 | Total frames: 365\n"
     ]
    },
    {
     "name": "stderr",
     "output_type": "stream",
     "text": [
      "Processing id1_id3_0000: 100%|██████████| 364/364 [00:05<00:00, 70.60it/s]\n"
     ]
    },
    {
     "name": "stdout",
     "output_type": "stream",
     "text": [
      "📂 D:\\DETECTION 1.0\\Celeb-DF\\Fake Frames\\id1_id3_0001 | Total frames: 272\n"
     ]
    },
    {
     "name": "stderr",
     "output_type": "stream",
     "text": [
      "Processing id1_id3_0001: 100%|██████████| 271/271 [00:03<00:00, 67.94it/s]\n"
     ]
    },
    {
     "name": "stdout",
     "output_type": "stream",
     "text": [
      "📂 D:\\DETECTION 1.0\\Celeb-DF\\Fake Frames\\id1_id3_0002 | Total frames: 400\n"
     ]
    },
    {
     "name": "stderr",
     "output_type": "stream",
     "text": [
      "Processing id1_id3_0002: 100%|██████████| 399/399 [00:06<00:00, 64.94it/s]\n"
     ]
    },
    {
     "name": "stdout",
     "output_type": "stream",
     "text": [
      "📂 D:\\DETECTION 1.0\\Celeb-DF\\Fake Frames\\id1_id3_0003 | Total frames: 451\n"
     ]
    },
    {
     "name": "stderr",
     "output_type": "stream",
     "text": [
      "Processing id1_id3_0003: 100%|██████████| 450/450 [00:06<00:00, 67.63it/s]\n"
     ]
    },
    {
     "name": "stdout",
     "output_type": "stream",
     "text": [
      "📂 D:\\DETECTION 1.0\\Celeb-DF\\Fake Frames\\id1_id3_0004 | Total frames: 409\n"
     ]
    },
    {
     "name": "stderr",
     "output_type": "stream",
     "text": [
      "Processing id1_id3_0004: 100%|██████████| 408/408 [00:06<00:00, 64.83it/s]\n"
     ]
    },
    {
     "name": "stdout",
     "output_type": "stream",
     "text": [
      "📂 D:\\DETECTION 1.0\\Celeb-DF\\Fake Frames\\id1_id3_0005 | Total frames: 422\n"
     ]
    },
    {
     "name": "stderr",
     "output_type": "stream",
     "text": [
      "Processing id1_id3_0005: 100%|██████████| 421/421 [00:06<00:00, 66.51it/s]\n"
     ]
    },
    {
     "name": "stdout",
     "output_type": "stream",
     "text": [
      "📂 D:\\DETECTION 1.0\\Celeb-DF\\Fake Frames\\id1_id3_0006 | Total frames: 505\n"
     ]
    },
    {
     "name": "stderr",
     "output_type": "stream",
     "text": [
      "Processing id1_id3_0006: 100%|██████████| 504/504 [00:07<00:00, 68.63it/s]\n"
     ]
    },
    {
     "name": "stdout",
     "output_type": "stream",
     "text": [
      "📂 D:\\DETECTION 1.0\\Celeb-DF\\Fake Frames\\id1_id3_0007 | Total frames: 328\n"
     ]
    },
    {
     "name": "stderr",
     "output_type": "stream",
     "text": [
      "Processing id1_id3_0007: 100%|██████████| 327/327 [00:04<00:00, 69.53it/s]\n"
     ]
    },
    {
     "name": "stdout",
     "output_type": "stream",
     "text": [
      "📂 D:\\DETECTION 1.0\\Celeb-DF\\Fake Frames\\id1_id3_0009 | Total frames: 412\n"
     ]
    },
    {
     "name": "stderr",
     "output_type": "stream",
     "text": [
      "Processing id1_id3_0009: 100%|██████████| 411/411 [00:06<00:00, 64.61it/s]\n"
     ]
    },
    {
     "name": "stdout",
     "output_type": "stream",
     "text": [
      "📂 D:\\DETECTION 1.0\\Celeb-DF\\Fake Frames\\id1_id4_0000 | Total frames: 365\n"
     ]
    },
    {
     "name": "stderr",
     "output_type": "stream",
     "text": [
      "Processing id1_id4_0000: 100%|██████████| 364/364 [00:05<00:00, 66.28it/s]\n"
     ]
    },
    {
     "name": "stdout",
     "output_type": "stream",
     "text": [
      "📂 D:\\DETECTION 1.0\\Celeb-DF\\Fake Frames\\id1_id4_0001 | Total frames: 272\n"
     ]
    },
    {
     "name": "stderr",
     "output_type": "stream",
     "text": [
      "Processing id1_id4_0001: 100%|██████████| 271/271 [00:04<00:00, 66.22it/s]\n"
     ]
    },
    {
     "name": "stdout",
     "output_type": "stream",
     "text": [
      "📂 D:\\DETECTION 1.0\\Celeb-DF\\Fake Frames\\id1_id4_0002 | Total frames: 400\n"
     ]
    },
    {
     "name": "stderr",
     "output_type": "stream",
     "text": [
      "Processing id1_id4_0002: 100%|██████████| 399/399 [00:05<00:00, 67.66it/s]\n"
     ]
    },
    {
     "name": "stdout",
     "output_type": "stream",
     "text": [
      "📂 D:\\DETECTION 1.0\\Celeb-DF\\Fake Frames\\id1_id4_0003 | Total frames: 451\n"
     ]
    },
    {
     "name": "stderr",
     "output_type": "stream",
     "text": [
      "Processing id1_id4_0003: 100%|██████████| 450/450 [00:06<00:00, 65.47it/s]\n"
     ]
    },
    {
     "name": "stdout",
     "output_type": "stream",
     "text": [
      "📂 D:\\DETECTION 1.0\\Celeb-DF\\Fake Frames\\id1_id4_0004 | Total frames: 409\n"
     ]
    },
    {
     "name": "stderr",
     "output_type": "stream",
     "text": [
      "Processing id1_id4_0004: 100%|██████████| 408/408 [00:06<00:00, 64.10it/s]\n"
     ]
    },
    {
     "name": "stdout",
     "output_type": "stream",
     "text": [
      "📂 D:\\DETECTION 1.0\\Celeb-DF\\Fake Frames\\id1_id4_0005 | Total frames: 422\n"
     ]
    },
    {
     "name": "stderr",
     "output_type": "stream",
     "text": [
      "Processing id1_id4_0005: 100%|██████████| 421/421 [00:06<00:00, 66.31it/s]\n"
     ]
    },
    {
     "name": "stdout",
     "output_type": "stream",
     "text": [
      "📂 D:\\DETECTION 1.0\\Celeb-DF\\Fake Frames\\id1_id4_0006 | Total frames: 505\n"
     ]
    },
    {
     "name": "stderr",
     "output_type": "stream",
     "text": [
      "Processing id1_id4_0006: 100%|██████████| 504/504 [00:07<00:00, 66.63it/s]\n"
     ]
    },
    {
     "name": "stdout",
     "output_type": "stream",
     "text": [
      "📂 D:\\DETECTION 1.0\\Celeb-DF\\Fake Frames\\id1_id4_0007 | Total frames: 328\n"
     ]
    },
    {
     "name": "stderr",
     "output_type": "stream",
     "text": [
      "Processing id1_id4_0007: 100%|██████████| 327/327 [00:04<00:00, 68.65it/s]\n"
     ]
    },
    {
     "name": "stdout",
     "output_type": "stream",
     "text": [
      "📂 D:\\DETECTION 1.0\\Celeb-DF\\Fake Frames\\id1_id4_0009 | Total frames: 412\n"
     ]
    },
    {
     "name": "stderr",
     "output_type": "stream",
     "text": [
      "Processing id1_id4_0009: 100%|██████████| 411/411 [00:06<00:00, 65.02it/s]\n"
     ]
    },
    {
     "name": "stdout",
     "output_type": "stream",
     "text": [
      "📂 D:\\DETECTION 1.0\\Celeb-DF\\Fake Frames\\id1_id6_0000 | Total frames: 365\n"
     ]
    },
    {
     "name": "stderr",
     "output_type": "stream",
     "text": [
      "Processing id1_id6_0000: 100%|██████████| 364/364 [00:05<00:00, 66.66it/s]\n"
     ]
    },
    {
     "name": "stdout",
     "output_type": "stream",
     "text": [
      "📂 D:\\DETECTION 1.0\\Celeb-DF\\Fake Frames\\id1_id6_0001 | Total frames: 272\n"
     ]
    },
    {
     "name": "stderr",
     "output_type": "stream",
     "text": [
      "Processing id1_id6_0001: 100%|██████████| 271/271 [00:04<00:00, 67.37it/s]\n"
     ]
    },
    {
     "name": "stdout",
     "output_type": "stream",
     "text": [
      "📂 D:\\DETECTION 1.0\\Celeb-DF\\Fake Frames\\id1_id6_0002 | Total frames: 400\n"
     ]
    },
    {
     "name": "stderr",
     "output_type": "stream",
     "text": [
      "Processing id1_id6_0002: 100%|██████████| 399/399 [00:05<00:00, 66.57it/s]\n"
     ]
    },
    {
     "name": "stdout",
     "output_type": "stream",
     "text": [
      "📂 D:\\DETECTION 1.0\\Celeb-DF\\Fake Frames\\id1_id6_0003 | Total frames: 451\n"
     ]
    },
    {
     "name": "stderr",
     "output_type": "stream",
     "text": [
      "Processing id1_id6_0003: 100%|██████████| 450/450 [00:06<00:00, 66.12it/s]\n"
     ]
    },
    {
     "name": "stdout",
     "output_type": "stream",
     "text": [
      "📂 D:\\DETECTION 1.0\\Celeb-DF\\Fake Frames\\id1_id6_0004 | Total frames: 409\n"
     ]
    },
    {
     "name": "stderr",
     "output_type": "stream",
     "text": [
      "Processing id1_id6_0004: 100%|██████████| 408/408 [00:06<00:00, 62.42it/s]\n"
     ]
    },
    {
     "name": "stdout",
     "output_type": "stream",
     "text": [
      "📂 D:\\DETECTION 1.0\\Celeb-DF\\Fake Frames\\id1_id6_0005 | Total frames: 422\n"
     ]
    },
    {
     "name": "stderr",
     "output_type": "stream",
     "text": [
      "Processing id1_id6_0005: 100%|██████████| 421/421 [00:06<00:00, 65.54it/s]\n"
     ]
    },
    {
     "name": "stdout",
     "output_type": "stream",
     "text": [
      "📂 D:\\DETECTION 1.0\\Celeb-DF\\Fake Frames\\id1_id6_0006 | Total frames: 505\n"
     ]
    },
    {
     "name": "stderr",
     "output_type": "stream",
     "text": [
      "Processing id1_id6_0006: 100%|██████████| 504/504 [00:07<00:00, 67.75it/s]\n"
     ]
    },
    {
     "name": "stdout",
     "output_type": "stream",
     "text": [
      "📂 D:\\DETECTION 1.0\\Celeb-DF\\Fake Frames\\id1_id6_0007 | Total frames: 328\n"
     ]
    },
    {
     "name": "stderr",
     "output_type": "stream",
     "text": [
      "Processing id1_id6_0007: 100%|██████████| 327/327 [00:04<00:00, 67.36it/s]\n"
     ]
    },
    {
     "name": "stdout",
     "output_type": "stream",
     "text": [
      "📂 D:\\DETECTION 1.0\\Celeb-DF\\Fake Frames\\id1_id6_0009 | Total frames: 412\n"
     ]
    },
    {
     "name": "stderr",
     "output_type": "stream",
     "text": [
      "Processing id1_id6_0009: 100%|██████████| 411/411 [00:06<00:00, 63.61it/s]\n"
     ]
    },
    {
     "name": "stdout",
     "output_type": "stream",
     "text": [
      "📂 D:\\DETECTION 1.0\\Celeb-DF\\Fake Frames\\id1_id9_0000 | Total frames: 365\n"
     ]
    },
    {
     "name": "stderr",
     "output_type": "stream",
     "text": [
      "Processing id1_id9_0000: 100%|██████████| 364/364 [00:05<00:00, 68.61it/s]\n"
     ]
    },
    {
     "name": "stdout",
     "output_type": "stream",
     "text": [
      "📂 D:\\DETECTION 1.0\\Celeb-DF\\Fake Frames\\id1_id9_0001 | Total frames: 272\n"
     ]
    },
    {
     "name": "stderr",
     "output_type": "stream",
     "text": [
      "Processing id1_id9_0001: 100%|██████████| 271/271 [00:04<00:00, 66.00it/s]\n"
     ]
    },
    {
     "name": "stdout",
     "output_type": "stream",
     "text": [
      "📂 D:\\DETECTION 1.0\\Celeb-DF\\Fake Frames\\id1_id9_0002 | Total frames: 400\n"
     ]
    },
    {
     "name": "stderr",
     "output_type": "stream",
     "text": [
      "Processing id1_id9_0002: 100%|██████████| 399/399 [00:05<00:00, 68.05it/s]\n"
     ]
    },
    {
     "name": "stdout",
     "output_type": "stream",
     "text": [
      "📂 D:\\DETECTION 1.0\\Celeb-DF\\Fake Frames\\id1_id9_0003 | Total frames: 451\n"
     ]
    },
    {
     "name": "stderr",
     "output_type": "stream",
     "text": [
      "Processing id1_id9_0003: 100%|██████████| 450/450 [00:06<00:00, 67.73it/s]\n"
     ]
    },
    {
     "name": "stdout",
     "output_type": "stream",
     "text": [
      "📂 D:\\DETECTION 1.0\\Celeb-DF\\Fake Frames\\id1_id9_0004 | Total frames: 409\n"
     ]
    },
    {
     "name": "stderr",
     "output_type": "stream",
     "text": [
      "Processing id1_id9_0004: 100%|██████████| 408/408 [00:06<00:00, 65.29it/s]\n"
     ]
    },
    {
     "name": "stdout",
     "output_type": "stream",
     "text": [
      "📂 D:\\DETECTION 1.0\\Celeb-DF\\Fake Frames\\id1_id9_0005 | Total frames: 422\n"
     ]
    },
    {
     "name": "stderr",
     "output_type": "stream",
     "text": [
      "Processing id1_id9_0005: 100%|██████████| 421/421 [00:13<00:00, 31.19it/s]\n"
     ]
    },
    {
     "name": "stdout",
     "output_type": "stream",
     "text": [
      "📂 D:\\DETECTION 1.0\\Celeb-DF\\Fake Frames\\id1_id9_0006 | Total frames: 505\n"
     ]
    },
    {
     "name": "stderr",
     "output_type": "stream",
     "text": [
      "Processing id1_id9_0006: 100%|██████████| 504/504 [00:07<00:00, 68.49it/s]\n"
     ]
    },
    {
     "name": "stdout",
     "output_type": "stream",
     "text": [
      "📂 D:\\DETECTION 1.0\\Celeb-DF\\Fake Frames\\id1_id9_0007 | Total frames: 328\n"
     ]
    },
    {
     "name": "stderr",
     "output_type": "stream",
     "text": [
      "Processing id1_id9_0007: 100%|██████████| 327/327 [00:04<00:00, 71.18it/s]\n"
     ]
    },
    {
     "name": "stdout",
     "output_type": "stream",
     "text": [
      "📂 D:\\DETECTION 1.0\\Celeb-DF\\Fake Frames\\id1_id9_0009 | Total frames: 412\n"
     ]
    },
    {
     "name": "stderr",
     "output_type": "stream",
     "text": [
      "Processing id1_id9_0009: 100%|██████████| 411/411 [00:06<00:00, 66.76it/s]\n"
     ]
    },
    {
     "name": "stdout",
     "output_type": "stream",
     "text": [
      "📂 D:\\DETECTION 1.0\\Celeb-DF\\Fake Frames\\id3_id0_0001 | Total frames: 380\n"
     ]
    },
    {
     "name": "stderr",
     "output_type": "stream",
     "text": [
      "Processing id3_id0_0001: 100%|██████████| 379/379 [00:05<00:00, 68.10it/s]\n"
     ]
    },
    {
     "name": "stdout",
     "output_type": "stream",
     "text": [
      "📂 D:\\DETECTION 1.0\\Celeb-DF\\Fake Frames\\id3_id0_0002 | Total frames: 428\n"
     ]
    },
    {
     "name": "stderr",
     "output_type": "stream",
     "text": [
      "Processing id3_id0_0002: 100%|██████████| 427/427 [00:06<00:00, 65.75it/s]\n"
     ]
    },
    {
     "name": "stdout",
     "output_type": "stream",
     "text": [
      "📂 D:\\DETECTION 1.0\\Celeb-DF\\Fake Frames\\id3_id0_0003 | Total frames: 372\n"
     ]
    },
    {
     "name": "stderr",
     "output_type": "stream",
     "text": [
      "Processing id3_id0_0003: 100%|██████████| 371/371 [00:05<00:00, 65.72it/s]\n"
     ]
    },
    {
     "name": "stdout",
     "output_type": "stream",
     "text": [
      "📂 D:\\DETECTION 1.0\\Celeb-DF\\Fake Frames\\id3_id0_0004 | Total frames: 499\n"
     ]
    },
    {
     "name": "stderr",
     "output_type": "stream",
     "text": [
      "Processing id3_id0_0004: 100%|██████████| 498/498 [00:07<00:00, 66.38it/s]\n"
     ]
    },
    {
     "name": "stdout",
     "output_type": "stream",
     "text": [
      "📂 D:\\DETECTION 1.0\\Celeb-DF\\Fake Frames\\id3_id0_0005 | Total frames: 398\n"
     ]
    },
    {
     "name": "stderr",
     "output_type": "stream",
     "text": [
      "Processing id3_id0_0005: 100%|██████████| 397/397 [00:05<00:00, 66.75it/s]\n"
     ]
    },
    {
     "name": "stdout",
     "output_type": "stream",
     "text": [
      "📂 D:\\DETECTION 1.0\\Celeb-DF\\Fake Frames\\id3_id0_0006 | Total frames: 409\n"
     ]
    },
    {
     "name": "stderr",
     "output_type": "stream",
     "text": [
      "Processing id3_id0_0006: 100%|██████████| 408/408 [00:06<00:00, 58.38it/s]\n"
     ]
    },
    {
     "name": "stdout",
     "output_type": "stream",
     "text": [
      "📂 D:\\DETECTION 1.0\\Celeb-DF\\Fake Frames\\id3_id0_0007 | Total frames: 361\n"
     ]
    },
    {
     "name": "stderr",
     "output_type": "stream",
     "text": [
      "Processing id3_id0_0007: 100%|██████████| 360/360 [00:05<00:00, 63.55it/s]\n"
     ]
    },
    {
     "name": "stdout",
     "output_type": "stream",
     "text": [
      "📂 D:\\DETECTION 1.0\\Celeb-DF\\Fake Frames\\id3_id0_0008 | Total frames: 458\n"
     ]
    },
    {
     "name": "stderr",
     "output_type": "stream",
     "text": [
      "Processing id3_id0_0008: 100%|██████████| 457/457 [00:06<00:00, 66.42it/s]\n"
     ]
    },
    {
     "name": "stdout",
     "output_type": "stream",
     "text": [
      "📂 D:\\DETECTION 1.0\\Celeb-DF\\Fake Frames\\id3_id0_0009 | Total frames: 497\n"
     ]
    },
    {
     "name": "stderr",
     "output_type": "stream",
     "text": [
      "Processing id3_id0_0009: 100%|██████████| 496/496 [00:07<00:00, 64.85it/s]\n"
     ]
    },
    {
     "name": "stdout",
     "output_type": "stream",
     "text": [
      "📂 D:\\DETECTION 1.0\\Celeb-DF\\Fake Frames\\id3_id16_0000 | Total frames: 458\n"
     ]
    },
    {
     "name": "stderr",
     "output_type": "stream",
     "text": [
      "Processing id3_id16_0000: 100%|██████████| 457/457 [00:06<00:00, 67.26it/s]\n"
     ]
    },
    {
     "name": "stdout",
     "output_type": "stream",
     "text": [
      "📂 D:\\DETECTION 1.0\\Celeb-DF\\Fake Frames\\id3_id16_0001 | Total frames: 380\n"
     ]
    },
    {
     "name": "stderr",
     "output_type": "stream",
     "text": [
      "Processing id3_id16_0001: 100%|██████████| 379/379 [00:05<00:00, 65.95it/s]\n"
     ]
    },
    {
     "name": "stdout",
     "output_type": "stream",
     "text": [
      "📂 D:\\DETECTION 1.0\\Celeb-DF\\Fake Frames\\id3_id16_0002 | Total frames: 428\n"
     ]
    },
    {
     "name": "stderr",
     "output_type": "stream",
     "text": [
      "Processing id3_id16_0002: 100%|██████████| 427/427 [00:06<00:00, 65.62it/s]\n"
     ]
    },
    {
     "name": "stdout",
     "output_type": "stream",
     "text": [
      "📂 D:\\DETECTION 1.0\\Celeb-DF\\Fake Frames\\id3_id16_0003 | Total frames: 372\n"
     ]
    },
    {
     "name": "stderr",
     "output_type": "stream",
     "text": [
      "Processing id3_id16_0003: 100%|██████████| 371/371 [00:05<00:00, 64.05it/s]\n"
     ]
    },
    {
     "name": "stdout",
     "output_type": "stream",
     "text": [
      "📂 D:\\DETECTION 1.0\\Celeb-DF\\Fake Frames\\id3_id16_0004 | Total frames: 499\n"
     ]
    },
    {
     "name": "stderr",
     "output_type": "stream",
     "text": [
      "Processing id3_id16_0004: 100%|██████████| 498/498 [00:07<00:00, 66.81it/s]\n"
     ]
    },
    {
     "name": "stdout",
     "output_type": "stream",
     "text": [
      "📂 D:\\DETECTION 1.0\\Celeb-DF\\Fake Frames\\id3_id16_0005 | Total frames: 398\n"
     ]
    },
    {
     "name": "stderr",
     "output_type": "stream",
     "text": [
      "Processing id3_id16_0005: 100%|██████████| 397/397 [00:06<00:00, 65.42it/s]\n"
     ]
    },
    {
     "name": "stdout",
     "output_type": "stream",
     "text": [
      "📂 D:\\DETECTION 1.0\\Celeb-DF\\Fake Frames\\id3_id16_0006 | Total frames: 409\n"
     ]
    },
    {
     "name": "stderr",
     "output_type": "stream",
     "text": [
      "Processing id3_id16_0006: 100%|██████████| 408/408 [00:07<00:00, 56.09it/s]\n"
     ]
    },
    {
     "name": "stdout",
     "output_type": "stream",
     "text": [
      "📂 D:\\DETECTION 1.0\\Celeb-DF\\Fake Frames\\id3_id16_0008 | Total frames: 458\n"
     ]
    },
    {
     "name": "stderr",
     "output_type": "stream",
     "text": [
      "Processing id3_id16_0008: 100%|██████████| 457/457 [00:06<00:00, 65.93it/s]\n"
     ]
    },
    {
     "name": "stdout",
     "output_type": "stream",
     "text": [
      "📂 D:\\DETECTION 1.0\\Celeb-DF\\Fake Frames\\id3_id16_0009 | Total frames: 497\n"
     ]
    },
    {
     "name": "stderr",
     "output_type": "stream",
     "text": [
      "Processing id3_id16_0009: 100%|██████████| 496/496 [00:07<00:00, 66.86it/s]\n"
     ]
    },
    {
     "name": "stdout",
     "output_type": "stream",
     "text": [
      "📂 D:\\DETECTION 1.0\\Celeb-DF\\Fake Frames\\id3_id17_0000 | Total frames: 458\n"
     ]
    },
    {
     "name": "stderr",
     "output_type": "stream",
     "text": [
      "Processing id3_id17_0000: 100%|██████████| 457/457 [00:06<00:00, 67.17it/s]\n"
     ]
    },
    {
     "name": "stdout",
     "output_type": "stream",
     "text": [
      "📂 D:\\DETECTION 1.0\\Celeb-DF\\Fake Frames\\id3_id17_0001 | Total frames: 380\n"
     ]
    },
    {
     "name": "stderr",
     "output_type": "stream",
     "text": [
      "Processing id3_id17_0001: 100%|██████████| 379/379 [00:05<00:00, 65.81it/s]\n"
     ]
    },
    {
     "name": "stdout",
     "output_type": "stream",
     "text": [
      "📂 D:\\DETECTION 1.0\\Celeb-DF\\Fake Frames\\id3_id17_0002 | Total frames: 428\n"
     ]
    },
    {
     "name": "stderr",
     "output_type": "stream",
     "text": [
      "Processing id3_id17_0002: 100%|██████████| 427/427 [00:06<00:00, 66.08it/s]\n"
     ]
    },
    {
     "name": "stdout",
     "output_type": "stream",
     "text": [
      "📂 D:\\DETECTION 1.0\\Celeb-DF\\Fake Frames\\id3_id17_0003 | Total frames: 372\n"
     ]
    },
    {
     "name": "stderr",
     "output_type": "stream",
     "text": [
      "Processing id3_id17_0003: 100%|██████████| 371/371 [00:05<00:00, 65.95it/s]\n"
     ]
    },
    {
     "name": "stdout",
     "output_type": "stream",
     "text": [
      "📂 D:\\DETECTION 1.0\\Celeb-DF\\Fake Frames\\id3_id17_0004 | Total frames: 499\n"
     ]
    },
    {
     "name": "stderr",
     "output_type": "stream",
     "text": [
      "Processing id3_id17_0004: 100%|██████████| 498/498 [00:07<00:00, 65.94it/s]\n"
     ]
    },
    {
     "name": "stdout",
     "output_type": "stream",
     "text": [
      "📂 D:\\DETECTION 1.0\\Celeb-DF\\Fake Frames\\id3_id17_0005 | Total frames: 398\n"
     ]
    },
    {
     "name": "stderr",
     "output_type": "stream",
     "text": [
      "Processing id3_id17_0005: 100%|██████████| 397/397 [00:05<00:00, 66.85it/s]\n"
     ]
    },
    {
     "name": "stdout",
     "output_type": "stream",
     "text": [
      "📂 D:\\DETECTION 1.0\\Celeb-DF\\Fake Frames\\id3_id17_0006 | Total frames: 409\n"
     ]
    },
    {
     "name": "stderr",
     "output_type": "stream",
     "text": [
      "Processing id3_id17_0006: 100%|██████████| 408/408 [00:07<00:00, 56.88it/s]\n"
     ]
    },
    {
     "name": "stdout",
     "output_type": "stream",
     "text": [
      "📂 D:\\DETECTION 1.0\\Celeb-DF\\Fake Frames\\id3_id17_0007 | Total frames: 361\n"
     ]
    },
    {
     "name": "stderr",
     "output_type": "stream",
     "text": [
      "Processing id3_id17_0007: 100%|██████████| 360/360 [00:05<00:00, 64.97it/s]\n"
     ]
    },
    {
     "name": "stdout",
     "output_type": "stream",
     "text": [
      "📂 D:\\DETECTION 1.0\\Celeb-DF\\Fake Frames\\id3_id17_0008 | Total frames: 458\n"
     ]
    },
    {
     "name": "stderr",
     "output_type": "stream",
     "text": [
      "Processing id3_id17_0008: 100%|██████████| 457/457 [00:06<00:00, 65.52it/s]\n"
     ]
    },
    {
     "name": "stdout",
     "output_type": "stream",
     "text": [
      "📂 D:\\DETECTION 1.0\\Celeb-DF\\Fake Frames\\id3_id17_0009 | Total frames: 497\n"
     ]
    },
    {
     "name": "stderr",
     "output_type": "stream",
     "text": [
      "Processing id3_id17_0009: 100%|██████████| 496/496 [00:07<00:00, 66.72it/s]\n"
     ]
    },
    {
     "name": "stdout",
     "output_type": "stream",
     "text": [
      "📂 D:\\DETECTION 1.0\\Celeb-DF\\Fake Frames\\id3_id1_0001 | Total frames: 380\n"
     ]
    },
    {
     "name": "stderr",
     "output_type": "stream",
     "text": [
      "Processing id3_id1_0001: 100%|██████████| 379/379 [00:06<00:00, 58.76it/s]\n"
     ]
    },
    {
     "name": "stdout",
     "output_type": "stream",
     "text": [
      "📂 D:\\DETECTION 1.0\\Celeb-DF\\Fake Frames\\id3_id1_0002 | Total frames: 428\n"
     ]
    },
    {
     "name": "stderr",
     "output_type": "stream",
     "text": [
      "Processing id3_id1_0002: 100%|██████████| 427/427 [00:06<00:00, 61.46it/s]\n"
     ]
    },
    {
     "name": "stdout",
     "output_type": "stream",
     "text": [
      "📂 D:\\DETECTION 1.0\\Celeb-DF\\Fake Frames\\id3_id1_0003 | Total frames: 372\n"
     ]
    },
    {
     "name": "stderr",
     "output_type": "stream",
     "text": [
      "Processing id3_id1_0003: 100%|██████████| 371/371 [00:05<00:00, 62.57it/s]\n"
     ]
    },
    {
     "name": "stdout",
     "output_type": "stream",
     "text": [
      "📂 D:\\DETECTION 1.0\\Celeb-DF\\Fake Frames\\id3_id1_0004 | Total frames: 499\n"
     ]
    },
    {
     "name": "stderr",
     "output_type": "stream",
     "text": [
      "Processing id3_id1_0004: 100%|██████████| 498/498 [00:07<00:00, 70.16it/s]\n"
     ]
    },
    {
     "name": "stdout",
     "output_type": "stream",
     "text": [
      "📂 D:\\DETECTION 1.0\\Celeb-DF\\Fake Frames\\id3_id1_0005 | Total frames: 398\n"
     ]
    },
    {
     "name": "stderr",
     "output_type": "stream",
     "text": [
      "Processing id3_id1_0005: 100%|██████████| 397/397 [00:05<00:00, 69.02it/s]\n"
     ]
    },
    {
     "name": "stdout",
     "output_type": "stream",
     "text": [
      "📂 D:\\DETECTION 1.0\\Celeb-DF\\Fake Frames\\id3_id1_0006 | Total frames: 409\n"
     ]
    },
    {
     "name": "stderr",
     "output_type": "stream",
     "text": [
      "Processing id3_id1_0006: 100%|██████████| 408/408 [00:06<00:00, 61.37it/s]\n"
     ]
    },
    {
     "name": "stdout",
     "output_type": "stream",
     "text": [
      "📂 D:\\DETECTION 1.0\\Celeb-DF\\Fake Frames\\id3_id1_0007 | Total frames: 361\n"
     ]
    },
    {
     "name": "stderr",
     "output_type": "stream",
     "text": [
      "Processing id3_id1_0007: 100%|██████████| 360/360 [00:05<00:00, 69.17it/s]\n"
     ]
    },
    {
     "name": "stdout",
     "output_type": "stream",
     "text": [
      "📂 D:\\DETECTION 1.0\\Celeb-DF\\Fake Frames\\id3_id1_0008 | Total frames: 458\n"
     ]
    },
    {
     "name": "stderr",
     "output_type": "stream",
     "text": [
      "Processing id3_id1_0008: 100%|██████████| 457/457 [00:06<00:00, 68.10it/s]\n"
     ]
    },
    {
     "name": "stdout",
     "output_type": "stream",
     "text": [
      "📂 D:\\DETECTION 1.0\\Celeb-DF\\Fake Frames\\id3_id1_0009 | Total frames: 497\n"
     ]
    },
    {
     "name": "stderr",
     "output_type": "stream",
     "text": [
      "Processing id3_id1_0009: 100%|██████████| 496/496 [00:07<00:00, 67.95it/s]\n"
     ]
    },
    {
     "name": "stdout",
     "output_type": "stream",
     "text": [
      "📂 D:\\DETECTION 1.0\\Celeb-DF\\Fake Frames\\id3_id2_0000 | Total frames: 458\n"
     ]
    },
    {
     "name": "stderr",
     "output_type": "stream",
     "text": [
      "Processing id3_id2_0000: 100%|██████████| 457/457 [00:06<00:00, 68.68it/s]\n"
     ]
    },
    {
     "name": "stdout",
     "output_type": "stream",
     "text": [
      "📂 D:\\DETECTION 1.0\\Celeb-DF\\Fake Frames\\id3_id2_0001 | Total frames: 380\n"
     ]
    },
    {
     "name": "stderr",
     "output_type": "stream",
     "text": [
      "Processing id3_id2_0001: 100%|██████████| 379/379 [00:05<00:00, 66.37it/s]\n"
     ]
    },
    {
     "name": "stdout",
     "output_type": "stream",
     "text": [
      "📂 D:\\DETECTION 1.0\\Celeb-DF\\Fake Frames\\id3_id2_0002 | Total frames: 428\n"
     ]
    },
    {
     "name": "stderr",
     "output_type": "stream",
     "text": [
      "Processing id3_id2_0002: 100%|██████████| 427/427 [00:06<00:00, 63.67it/s]\n"
     ]
    },
    {
     "name": "stdout",
     "output_type": "stream",
     "text": [
      "📂 D:\\DETECTION 1.0\\Celeb-DF\\Fake Frames\\id3_id2_0003 | Total frames: 372\n"
     ]
    },
    {
     "name": "stderr",
     "output_type": "stream",
     "text": [
      "Processing id3_id2_0003: 100%|██████████| 371/371 [00:05<00:00, 67.96it/s]\n"
     ]
    },
    {
     "name": "stdout",
     "output_type": "stream",
     "text": [
      "📂 D:\\DETECTION 1.0\\Celeb-DF\\Fake Frames\\id3_id2_0004 | Total frames: 499\n"
     ]
    },
    {
     "name": "stderr",
     "output_type": "stream",
     "text": [
      "Processing id3_id2_0004: 100%|██████████| 498/498 [00:07<00:00, 65.65it/s]\n"
     ]
    },
    {
     "name": "stdout",
     "output_type": "stream",
     "text": [
      "📂 D:\\DETECTION 1.0\\Celeb-DF\\Fake Frames\\id3_id2_0005 | Total frames: 398\n"
     ]
    },
    {
     "name": "stderr",
     "output_type": "stream",
     "text": [
      "Processing id3_id2_0005: 100%|██████████| 397/397 [00:06<00:00, 65.81it/s]\n"
     ]
    },
    {
     "name": "stdout",
     "output_type": "stream",
     "text": [
      "📂 D:\\DETECTION 1.0\\Celeb-DF\\Fake Frames\\id3_id2_0006 | Total frames: 409\n"
     ]
    },
    {
     "name": "stderr",
     "output_type": "stream",
     "text": [
      "Processing id3_id2_0006: 100%|██████████| 408/408 [00:07<00:00, 56.29it/s]\n"
     ]
    },
    {
     "name": "stdout",
     "output_type": "stream",
     "text": [
      "📂 D:\\DETECTION 1.0\\Celeb-DF\\Fake Frames\\id3_id2_0007 | Total frames: 361\n"
     ]
    },
    {
     "name": "stderr",
     "output_type": "stream",
     "text": [
      "Processing id3_id2_0007: 100%|██████████| 360/360 [00:05<00:00, 64.73it/s]\n"
     ]
    },
    {
     "name": "stdout",
     "output_type": "stream",
     "text": [
      "📂 D:\\DETECTION 1.0\\Celeb-DF\\Fake Frames\\id3_id2_0008 | Total frames: 458\n"
     ]
    },
    {
     "name": "stderr",
     "output_type": "stream",
     "text": [
      "Processing id3_id2_0008: 100%|██████████| 457/457 [00:06<00:00, 65.96it/s]\n"
     ]
    },
    {
     "name": "stdout",
     "output_type": "stream",
     "text": [
      "📂 D:\\DETECTION 1.0\\Celeb-DF\\Fake Frames\\id3_id2_0009 | Total frames: 497\n"
     ]
    },
    {
     "name": "stderr",
     "output_type": "stream",
     "text": [
      "Processing id3_id2_0009: 100%|██████████| 496/496 [00:07<00:00, 67.70it/s]\n"
     ]
    },
    {
     "name": "stdout",
     "output_type": "stream",
     "text": [
      "📂 D:\\DETECTION 1.0\\Celeb-DF\\Fake Frames\\id3_id4_0001 | Total frames: 380\n"
     ]
    },
    {
     "name": "stderr",
     "output_type": "stream",
     "text": [
      "Processing id3_id4_0001: 100%|██████████| 379/379 [00:05<00:00, 65.59it/s]\n"
     ]
    },
    {
     "name": "stdout",
     "output_type": "stream",
     "text": [
      "📂 D:\\DETECTION 1.0\\Celeb-DF\\Fake Frames\\id3_id4_0003 | Total frames: 372\n"
     ]
    },
    {
     "name": "stderr",
     "output_type": "stream",
     "text": [
      "Processing id3_id4_0003: 100%|██████████| 371/371 [00:05<00:00, 64.94it/s]\n"
     ]
    },
    {
     "name": "stdout",
     "output_type": "stream",
     "text": [
      "📂 D:\\DETECTION 1.0\\Celeb-DF\\Fake Frames\\id3_id4_0004 | Total frames: 499\n"
     ]
    },
    {
     "name": "stderr",
     "output_type": "stream",
     "text": [
      "Processing id3_id4_0004: 100%|██████████| 498/498 [00:07<00:00, 67.02it/s]\n"
     ]
    },
    {
     "name": "stdout",
     "output_type": "stream",
     "text": [
      "📂 D:\\DETECTION 1.0\\Celeb-DF\\Fake Frames\\id3_id4_0005 | Total frames: 398\n"
     ]
    },
    {
     "name": "stderr",
     "output_type": "stream",
     "text": [
      "Processing id3_id4_0005: 100%|██████████| 397/397 [00:06<00:00, 65.03it/s]\n"
     ]
    },
    {
     "name": "stdout",
     "output_type": "stream",
     "text": [
      "📂 D:\\DETECTION 1.0\\Celeb-DF\\Fake Frames\\id3_id4_0006 | Total frames: 409\n"
     ]
    },
    {
     "name": "stderr",
     "output_type": "stream",
     "text": [
      "Processing id3_id4_0006: 100%|██████████| 408/408 [00:07<00:00, 57.90it/s]\n"
     ]
    },
    {
     "name": "stdout",
     "output_type": "stream",
     "text": [
      "📂 D:\\DETECTION 1.0\\Celeb-DF\\Fake Frames\\id3_id4_0008 | Total frames: 458\n"
     ]
    },
    {
     "name": "stderr",
     "output_type": "stream",
     "text": [
      "Processing id3_id4_0008: 100%|██████████| 457/457 [00:06<00:00, 66.46it/s]\n"
     ]
    },
    {
     "name": "stdout",
     "output_type": "stream",
     "text": [
      "📂 D:\\DETECTION 1.0\\Celeb-DF\\Fake Frames\\id3_id6_0000 | Total frames: 458\n"
     ]
    },
    {
     "name": "stderr",
     "output_type": "stream",
     "text": [
      "Processing id3_id6_0000: 100%|██████████| 457/457 [00:06<00:00, 68.93it/s]\n"
     ]
    },
    {
     "name": "stdout",
     "output_type": "stream",
     "text": [
      "📂 D:\\DETECTION 1.0\\Celeb-DF\\Fake Frames\\id3_id6_0001 | Total frames: 380\n"
     ]
    },
    {
     "name": "stderr",
     "output_type": "stream",
     "text": [
      "Processing id3_id6_0001: 100%|██████████| 379/379 [00:05<00:00, 66.08it/s]\n"
     ]
    },
    {
     "name": "stdout",
     "output_type": "stream",
     "text": [
      "📂 D:\\DETECTION 1.0\\Celeb-DF\\Fake Frames\\id3_id6_0002 | Total frames: 428\n"
     ]
    },
    {
     "name": "stderr",
     "output_type": "stream",
     "text": [
      "Processing id3_id6_0002: 100%|██████████| 427/427 [00:06<00:00, 65.99it/s]\n"
     ]
    },
    {
     "name": "stdout",
     "output_type": "stream",
     "text": [
      "📂 D:\\DETECTION 1.0\\Celeb-DF\\Fake Frames\\id3_id6_0003 | Total frames: 372\n"
     ]
    },
    {
     "name": "stderr",
     "output_type": "stream",
     "text": [
      "Processing id3_id6_0003: 100%|██████████| 371/371 [00:05<00:00, 66.80it/s]\n"
     ]
    },
    {
     "name": "stdout",
     "output_type": "stream",
     "text": [
      "📂 D:\\DETECTION 1.0\\Celeb-DF\\Fake Frames\\id3_id6_0004 | Total frames: 499\n"
     ]
    },
    {
     "name": "stderr",
     "output_type": "stream",
     "text": [
      "Processing id3_id6_0004: 100%|██████████| 498/498 [00:07<00:00, 65.83it/s]\n"
     ]
    },
    {
     "name": "stdout",
     "output_type": "stream",
     "text": [
      "📂 D:\\DETECTION 1.0\\Celeb-DF\\Fake Frames\\id3_id6_0005 | Total frames: 398\n"
     ]
    },
    {
     "name": "stderr",
     "output_type": "stream",
     "text": [
      "Processing id3_id6_0005: 100%|██████████| 397/397 [00:05<00:00, 70.54it/s]\n"
     ]
    },
    {
     "name": "stdout",
     "output_type": "stream",
     "text": [
      "📂 D:\\DETECTION 1.0\\Celeb-DF\\Fake Frames\\id3_id6_0006 | Total frames: 409\n"
     ]
    },
    {
     "name": "stderr",
     "output_type": "stream",
     "text": [
      "Processing id3_id6_0006: 100%|██████████| 408/408 [00:06<00:00, 61.34it/s]\n"
     ]
    },
    {
     "name": "stdout",
     "output_type": "stream",
     "text": [
      "📂 D:\\DETECTION 1.0\\Celeb-DF\\Fake Frames\\id3_id6_0007 | Total frames: 361\n"
     ]
    },
    {
     "name": "stderr",
     "output_type": "stream",
     "text": [
      "Processing id3_id6_0007: 100%|██████████| 360/360 [00:05<00:00, 69.30it/s]\n"
     ]
    },
    {
     "name": "stdout",
     "output_type": "stream",
     "text": [
      "📂 D:\\DETECTION 1.0\\Celeb-DF\\Fake Frames\\id3_id6_0008 | Total frames: 458\n"
     ]
    },
    {
     "name": "stderr",
     "output_type": "stream",
     "text": [
      "Processing id3_id6_0008: 100%|██████████| 457/457 [00:06<00:00, 70.65it/s]\n"
     ]
    },
    {
     "name": "stdout",
     "output_type": "stream",
     "text": [
      "📂 D:\\DETECTION 1.0\\Celeb-DF\\Fake Frames\\id3_id6_0009 | Total frames: 497\n"
     ]
    },
    {
     "name": "stderr",
     "output_type": "stream",
     "text": [
      "Processing id3_id6_0009: 100%|██████████| 496/496 [00:07<00:00, 69.46it/s]\n"
     ]
    },
    {
     "name": "stdout",
     "output_type": "stream",
     "text": [
      "📂 D:\\DETECTION 1.0\\Celeb-DF\\Fake Frames\\id3_id9_0000 | Total frames: 458\n"
     ]
    },
    {
     "name": "stderr",
     "output_type": "stream",
     "text": [
      "Processing id3_id9_0000: 100%|██████████| 457/457 [00:06<00:00, 67.28it/s]\n"
     ]
    },
    {
     "name": "stdout",
     "output_type": "stream",
     "text": [
      "📂 D:\\DETECTION 1.0\\Celeb-DF\\Fake Frames\\id3_id9_0001 | Total frames: 380\n"
     ]
    },
    {
     "name": "stderr",
     "output_type": "stream",
     "text": [
      "Processing id3_id9_0001: 100%|██████████| 379/379 [00:05<00:00, 71.21it/s]\n"
     ]
    },
    {
     "name": "stdout",
     "output_type": "stream",
     "text": [
      "📂 D:\\DETECTION 1.0\\Celeb-DF\\Fake Frames\\id3_id9_0002 | Total frames: 428\n"
     ]
    },
    {
     "name": "stderr",
     "output_type": "stream",
     "text": [
      "Processing id3_id9_0002: 100%|██████████| 427/427 [00:06<00:00, 70.36it/s]\n"
     ]
    },
    {
     "name": "stdout",
     "output_type": "stream",
     "text": [
      "📂 D:\\DETECTION 1.0\\Celeb-DF\\Fake Frames\\id3_id9_0003 | Total frames: 372\n"
     ]
    },
    {
     "name": "stderr",
     "output_type": "stream",
     "text": [
      "Processing id3_id9_0003: 100%|██████████| 371/371 [00:05<00:00, 69.13it/s]\n"
     ]
    },
    {
     "name": "stdout",
     "output_type": "stream",
     "text": [
      "📂 D:\\DETECTION 1.0\\Celeb-DF\\Fake Frames\\id3_id9_0004 | Total frames: 499\n"
     ]
    },
    {
     "name": "stderr",
     "output_type": "stream",
     "text": [
      "Processing id3_id9_0004: 100%|██████████| 498/498 [00:07<00:00, 69.06it/s]\n"
     ]
    },
    {
     "name": "stdout",
     "output_type": "stream",
     "text": [
      "📂 D:\\DETECTION 1.0\\Celeb-DF\\Fake Frames\\id3_id9_0005 | Total frames: 398\n"
     ]
    },
    {
     "name": "stderr",
     "output_type": "stream",
     "text": [
      "Processing id3_id9_0005: 100%|██████████| 397/397 [00:05<00:00, 67.07it/s]\n"
     ]
    },
    {
     "name": "stdout",
     "output_type": "stream",
     "text": [
      "📂 D:\\DETECTION 1.0\\Celeb-DF\\Fake Frames\\id3_id9_0006 | Total frames: 409\n"
     ]
    },
    {
     "name": "stderr",
     "output_type": "stream",
     "text": [
      "Processing id3_id9_0006: 100%|██████████| 408/408 [00:06<00:00, 60.41it/s]\n"
     ]
    },
    {
     "name": "stdout",
     "output_type": "stream",
     "text": [
      "📂 D:\\DETECTION 1.0\\Celeb-DF\\Fake Frames\\id3_id9_0007 | Total frames: 361\n"
     ]
    },
    {
     "name": "stderr",
     "output_type": "stream",
     "text": [
      "Processing id3_id9_0007: 100%|██████████| 360/360 [00:05<00:00, 69.59it/s]\n"
     ]
    },
    {
     "name": "stdout",
     "output_type": "stream",
     "text": [
      "📂 D:\\DETECTION 1.0\\Celeb-DF\\Fake Frames\\id3_id9_0008 | Total frames: 458\n"
     ]
    },
    {
     "name": "stderr",
     "output_type": "stream",
     "text": [
      "Processing id3_id9_0008: 100%|██████████| 457/457 [00:06<00:00, 70.38it/s]\n"
     ]
    },
    {
     "name": "stdout",
     "output_type": "stream",
     "text": [
      "📂 D:\\DETECTION 1.0\\Celeb-DF\\Fake Frames\\id3_id9_0009 | Total frames: 497\n"
     ]
    },
    {
     "name": "stderr",
     "output_type": "stream",
     "text": [
      "Processing id3_id9_0009: 100%|██████████| 496/496 [00:07<00:00, 63.89it/s]\n"
     ]
    },
    {
     "name": "stdout",
     "output_type": "stream",
     "text": [
      "📂 D:\\DETECTION 1.0\\Celeb-DF\\Fake Frames\\id4_id0_0000 | Total frames: 477\n"
     ]
    },
    {
     "name": "stderr",
     "output_type": "stream",
     "text": [
      "Processing id4_id0_0000: 100%|██████████| 476/476 [00:07<00:00, 61.54it/s]\n"
     ]
    },
    {
     "name": "stdout",
     "output_type": "stream",
     "text": [
      "📂 D:\\DETECTION 1.0\\Celeb-DF\\Fake Frames\\id4_id0_0001 | Total frames: 459\n"
     ]
    },
    {
     "name": "stderr",
     "output_type": "stream",
     "text": [
      "Processing id4_id0_0001: 100%|██████████| 458/458 [00:06<00:00, 71.16it/s]\n"
     ]
    },
    {
     "name": "stdout",
     "output_type": "stream",
     "text": [
      "📂 D:\\DETECTION 1.0\\Celeb-DF\\Fake Frames\\id4_id0_0002 | Total frames: 491\n"
     ]
    },
    {
     "name": "stderr",
     "output_type": "stream",
     "text": [
      "Processing id4_id0_0002: 100%|██████████| 490/490 [00:06<00:00, 70.07it/s]\n"
     ]
    },
    {
     "name": "stdout",
     "output_type": "stream",
     "text": [
      "📂 D:\\DETECTION 1.0\\Celeb-DF\\Fake Frames\\id4_id0_0003 | Total frames: 442\n"
     ]
    },
    {
     "name": "stderr",
     "output_type": "stream",
     "text": [
      "Processing id4_id0_0003: 100%|██████████| 441/441 [00:06<00:00, 71.82it/s]\n"
     ]
    },
    {
     "name": "stdout",
     "output_type": "stream",
     "text": [
      "📂 D:\\DETECTION 1.0\\Celeb-DF\\Fake Frames\\id4_id0_0004 | Total frames: 439\n"
     ]
    },
    {
     "name": "stderr",
     "output_type": "stream",
     "text": [
      "Processing id4_id0_0004: 100%|██████████| 438/438 [00:06<00:00, 72.30it/s]\n"
     ]
    },
    {
     "name": "stdout",
     "output_type": "stream",
     "text": [
      "📂 D:\\DETECTION 1.0\\Celeb-DF\\Fake Frames\\id4_id0_0005 | Total frames: 467\n"
     ]
    },
    {
     "name": "stderr",
     "output_type": "stream",
     "text": [
      "Processing id4_id0_0005: 100%|██████████| 466/466 [00:06<00:00, 70.70it/s]\n"
     ]
    },
    {
     "name": "stdout",
     "output_type": "stream",
     "text": [
      "📂 D:\\DETECTION 1.0\\Celeb-DF\\Fake Frames\\id4_id0_0006 | Total frames: 302\n"
     ]
    },
    {
     "name": "stderr",
     "output_type": "stream",
     "text": [
      "Processing id4_id0_0006: 100%|██████████| 301/301 [00:04<00:00, 69.47it/s]\n"
     ]
    },
    {
     "name": "stdout",
     "output_type": "stream",
     "text": [
      "📂 D:\\DETECTION 1.0\\Celeb-DF\\Fake Frames\\id4_id0_0007 | Total frames: 446\n"
     ]
    },
    {
     "name": "stderr",
     "output_type": "stream",
     "text": [
      "Processing id4_id0_0007: 100%|██████████| 445/445 [00:06<00:00, 72.30it/s]\n"
     ]
    },
    {
     "name": "stdout",
     "output_type": "stream",
     "text": [
      "📂 D:\\DETECTION 1.0\\Celeb-DF\\Fake Frames\\id4_id0_0008 | Total frames: 326\n"
     ]
    },
    {
     "name": "stderr",
     "output_type": "stream",
     "text": [
      "Processing id4_id0_0008: 100%|██████████| 325/325 [00:04<00:00, 68.25it/s]\n"
     ]
    },
    {
     "name": "stdout",
     "output_type": "stream",
     "text": [
      "📂 D:\\DETECTION 1.0\\Celeb-DF\\Fake Frames\\id4_id0_0009 | Total frames: 483\n"
     ]
    },
    {
     "name": "stderr",
     "output_type": "stream",
     "text": [
      "Processing id4_id0_0009: 100%|██████████| 482/482 [00:06<00:00, 71.77it/s]\n"
     ]
    },
    {
     "name": "stdout",
     "output_type": "stream",
     "text": [
      "📂 D:\\DETECTION 1.0\\Celeb-DF\\Fake Frames\\id4_id1_0000 | Total frames: 477\n"
     ]
    },
    {
     "name": "stderr",
     "output_type": "stream",
     "text": [
      "Processing id4_id1_0000: 100%|██████████| 476/476 [00:06<00:00, 69.13it/s]\n"
     ]
    },
    {
     "name": "stdout",
     "output_type": "stream",
     "text": [
      "📂 D:\\DETECTION 1.0\\Celeb-DF\\Fake Frames\\id4_id1_0001 | Total frames: 459\n"
     ]
    },
    {
     "name": "stderr",
     "output_type": "stream",
     "text": [
      "Processing id4_id1_0001: 100%|██████████| 458/458 [00:06<00:00, 68.98it/s]\n"
     ]
    },
    {
     "name": "stdout",
     "output_type": "stream",
     "text": [
      "📂 D:\\DETECTION 1.0\\Celeb-DF\\Fake Frames\\id4_id1_0002 | Total frames: 491\n"
     ]
    },
    {
     "name": "stderr",
     "output_type": "stream",
     "text": [
      "Processing id4_id1_0002: 100%|██████████| 490/490 [00:06<00:00, 70.83it/s]\n"
     ]
    },
    {
     "name": "stdout",
     "output_type": "stream",
     "text": [
      "📂 D:\\DETECTION 1.0\\Celeb-DF\\Fake Frames\\id4_id1_0003 | Total frames: 442\n"
     ]
    },
    {
     "name": "stderr",
     "output_type": "stream",
     "text": [
      "Processing id4_id1_0003: 100%|██████████| 441/441 [00:06<00:00, 72.11it/s]\n"
     ]
    },
    {
     "name": "stdout",
     "output_type": "stream",
     "text": [
      "📂 D:\\DETECTION 1.0\\Celeb-DF\\Fake Frames\\id4_id1_0004 | Total frames: 439\n"
     ]
    },
    {
     "name": "stderr",
     "output_type": "stream",
     "text": [
      "Processing id4_id1_0004: 100%|██████████| 438/438 [00:05<00:00, 78.28it/s]\n"
     ]
    },
    {
     "name": "stdout",
     "output_type": "stream",
     "text": [
      "📂 D:\\DETECTION 1.0\\Celeb-DF\\Fake Frames\\id4_id1_0005 | Total frames: 467\n"
     ]
    },
    {
     "name": "stderr",
     "output_type": "stream",
     "text": [
      "Processing id4_id1_0005: 100%|██████████| 466/466 [00:06<00:00, 67.07it/s]\n"
     ]
    },
    {
     "name": "stdout",
     "output_type": "stream",
     "text": [
      "📂 D:\\DETECTION 1.0\\Celeb-DF\\Fake Frames\\id4_id1_0006 | Total frames: 302\n"
     ]
    },
    {
     "name": "stderr",
     "output_type": "stream",
     "text": [
      "Processing id4_id1_0006: 100%|██████████| 301/301 [00:04<00:00, 71.73it/s]\n"
     ]
    },
    {
     "name": "stdout",
     "output_type": "stream",
     "text": [
      "📂 D:\\DETECTION 1.0\\Celeb-DF\\Fake Frames\\id4_id1_0007 | Total frames: 446\n"
     ]
    },
    {
     "name": "stderr",
     "output_type": "stream",
     "text": [
      "Processing id4_id1_0007: 100%|██████████| 445/445 [00:06<00:00, 71.11it/s]\n"
     ]
    },
    {
     "name": "stdout",
     "output_type": "stream",
     "text": [
      "📂 D:\\DETECTION 1.0\\Celeb-DF\\Fake Frames\\id4_id1_0008 | Total frames: 326\n"
     ]
    },
    {
     "name": "stderr",
     "output_type": "stream",
     "text": [
      "Processing id4_id1_0008: 100%|██████████| 325/325 [00:04<00:00, 71.40it/s]\n"
     ]
    },
    {
     "name": "stdout",
     "output_type": "stream",
     "text": [
      "📂 D:\\DETECTION 1.0\\Celeb-DF\\Fake Frames\\id4_id1_0009 | Total frames: 483\n"
     ]
    },
    {
     "name": "stderr",
     "output_type": "stream",
     "text": [
      "Processing id4_id1_0009: 100%|██████████| 482/482 [00:06<00:00, 71.14it/s]\n"
     ]
    },
    {
     "name": "stdout",
     "output_type": "stream",
     "text": [
      "📂 D:\\DETECTION 1.0\\Celeb-DF\\Fake Frames\\id4_id2_0000 | Total frames: 477\n"
     ]
    },
    {
     "name": "stderr",
     "output_type": "stream",
     "text": [
      "Processing id4_id2_0000: 100%|██████████| 476/476 [00:06<00:00, 70.90it/s]\n"
     ]
    },
    {
     "name": "stdout",
     "output_type": "stream",
     "text": [
      "📂 D:\\DETECTION 1.0\\Celeb-DF\\Fake Frames\\id4_id2_0001 | Total frames: 459\n"
     ]
    },
    {
     "name": "stderr",
     "output_type": "stream",
     "text": [
      "Processing id4_id2_0001: 100%|██████████| 458/458 [00:06<00:00, 71.78it/s]\n"
     ]
    },
    {
     "name": "stdout",
     "output_type": "stream",
     "text": [
      "📂 D:\\DETECTION 1.0\\Celeb-DF\\Fake Frames\\id4_id2_0002 | Total frames: 491\n"
     ]
    },
    {
     "name": "stderr",
     "output_type": "stream",
     "text": [
      "Processing id4_id2_0002: 100%|██████████| 490/490 [00:06<00:00, 71.36it/s]\n"
     ]
    },
    {
     "name": "stdout",
     "output_type": "stream",
     "text": [
      "📂 D:\\DETECTION 1.0\\Celeb-DF\\Fake Frames\\id4_id2_0003 | Total frames: 442\n"
     ]
    },
    {
     "name": "stderr",
     "output_type": "stream",
     "text": [
      "Processing id4_id2_0003: 100%|██████████| 441/441 [00:06<00:00, 70.22it/s]\n"
     ]
    },
    {
     "name": "stdout",
     "output_type": "stream",
     "text": [
      "📂 D:\\DETECTION 1.0\\Celeb-DF\\Fake Frames\\id4_id2_0004 | Total frames: 439\n"
     ]
    },
    {
     "name": "stderr",
     "output_type": "stream",
     "text": [
      "Processing id4_id2_0004: 100%|██████████| 438/438 [00:06<00:00, 70.76it/s]\n"
     ]
    },
    {
     "name": "stdout",
     "output_type": "stream",
     "text": [
      "📂 D:\\DETECTION 1.0\\Celeb-DF\\Fake Frames\\id4_id2_0005 | Total frames: 467\n"
     ]
    },
    {
     "name": "stderr",
     "output_type": "stream",
     "text": [
      "Processing id4_id2_0005: 100%|██████████| 466/466 [00:06<00:00, 70.57it/s]\n"
     ]
    },
    {
     "name": "stdout",
     "output_type": "stream",
     "text": [
      "📂 D:\\DETECTION 1.0\\Celeb-DF\\Fake Frames\\id4_id2_0006 | Total frames: 302\n"
     ]
    },
    {
     "name": "stderr",
     "output_type": "stream",
     "text": [
      "Processing id4_id2_0006: 100%|██████████| 301/301 [00:04<00:00, 70.74it/s]\n"
     ]
    },
    {
     "name": "stdout",
     "output_type": "stream",
     "text": [
      "📂 D:\\DETECTION 1.0\\Celeb-DF\\Fake Frames\\id4_id2_0007 | Total frames: 446\n"
     ]
    },
    {
     "name": "stderr",
     "output_type": "stream",
     "text": [
      "Processing id4_id2_0007: 100%|██████████| 445/445 [00:06<00:00, 69.51it/s]\n"
     ]
    },
    {
     "name": "stdout",
     "output_type": "stream",
     "text": [
      "📂 D:\\DETECTION 1.0\\Celeb-DF\\Fake Frames\\id4_id2_0008 | Total frames: 326\n"
     ]
    },
    {
     "name": "stderr",
     "output_type": "stream",
     "text": [
      "Processing id4_id2_0008: 100%|██████████| 325/325 [00:04<00:00, 69.59it/s]\n"
     ]
    },
    {
     "name": "stdout",
     "output_type": "stream",
     "text": [
      "📂 D:\\DETECTION 1.0\\Celeb-DF\\Fake Frames\\id4_id2_0009 | Total frames: 483\n"
     ]
    },
    {
     "name": "stderr",
     "output_type": "stream",
     "text": [
      "Processing id4_id2_0009: 100%|██████████| 482/482 [00:06<00:00, 70.67it/s]\n"
     ]
    },
    {
     "name": "stdout",
     "output_type": "stream",
     "text": [
      "📂 D:\\DETECTION 1.0\\Celeb-DF\\Fake Frames\\id4_id3_0000 | Total frames: 477\n"
     ]
    },
    {
     "name": "stderr",
     "output_type": "stream",
     "text": [
      "Processing id4_id3_0000: 100%|██████████| 476/476 [00:06<00:00, 69.24it/s]\n"
     ]
    },
    {
     "name": "stdout",
     "output_type": "stream",
     "text": [
      "📂 D:\\DETECTION 1.0\\Celeb-DF\\Fake Frames\\id4_id3_0001 | Total frames: 459\n"
     ]
    },
    {
     "name": "stderr",
     "output_type": "stream",
     "text": [
      "Processing id4_id3_0001: 100%|██████████| 458/458 [00:06<00:00, 69.45it/s]\n"
     ]
    },
    {
     "name": "stdout",
     "output_type": "stream",
     "text": [
      "📂 D:\\DETECTION 1.0\\Celeb-DF\\Fake Frames\\id4_id3_0002 | Total frames: 491\n"
     ]
    },
    {
     "name": "stderr",
     "output_type": "stream",
     "text": [
      "Processing id4_id3_0002: 100%|██████████| 490/490 [00:07<00:00, 64.59it/s]\n"
     ]
    },
    {
     "name": "stdout",
     "output_type": "stream",
     "text": [
      "📂 D:\\DETECTION 1.0\\Celeb-DF\\Fake Frames\\id4_id3_0003 | Total frames: 442\n"
     ]
    },
    {
     "name": "stderr",
     "output_type": "stream",
     "text": [
      "Processing id4_id3_0003: 100%|██████████| 441/441 [00:06<00:00, 66.23it/s]\n"
     ]
    },
    {
     "name": "stdout",
     "output_type": "stream",
     "text": [
      "📂 D:\\DETECTION 1.0\\Celeb-DF\\Fake Frames\\id4_id3_0004 | Total frames: 439\n"
     ]
    },
    {
     "name": "stderr",
     "output_type": "stream",
     "text": [
      "Processing id4_id3_0004: 100%|██████████| 438/438 [00:06<00:00, 70.94it/s]\n"
     ]
    },
    {
     "name": "stdout",
     "output_type": "stream",
     "text": [
      "📂 D:\\DETECTION 1.0\\Celeb-DF\\Fake Frames\\id4_id3_0005 | Total frames: 467\n"
     ]
    },
    {
     "name": "stderr",
     "output_type": "stream",
     "text": [
      "Processing id4_id3_0005: 100%|██████████| 466/466 [00:06<00:00, 67.54it/s]\n"
     ]
    },
    {
     "name": "stdout",
     "output_type": "stream",
     "text": [
      "📂 D:\\DETECTION 1.0\\Celeb-DF\\Fake Frames\\id4_id3_0006 | Total frames: 302\n"
     ]
    },
    {
     "name": "stderr",
     "output_type": "stream",
     "text": [
      "Processing id4_id3_0006: 100%|██████████| 301/301 [00:04<00:00, 70.28it/s]\n"
     ]
    },
    {
     "name": "stdout",
     "output_type": "stream",
     "text": [
      "📂 D:\\DETECTION 1.0\\Celeb-DF\\Fake Frames\\id4_id3_0007 | Total frames: 446\n"
     ]
    },
    {
     "name": "stderr",
     "output_type": "stream",
     "text": [
      "Processing id4_id3_0007: 100%|██████████| 445/445 [00:06<00:00, 65.18it/s]\n"
     ]
    },
    {
     "name": "stdout",
     "output_type": "stream",
     "text": [
      "📂 D:\\DETECTION 1.0\\Celeb-DF\\Fake Frames\\id4_id3_0008 | Total frames: 326\n"
     ]
    },
    {
     "name": "stderr",
     "output_type": "stream",
     "text": [
      "Processing id4_id3_0008: 100%|██████████| 325/325 [00:04<00:00, 71.04it/s]\n"
     ]
    },
    {
     "name": "stdout",
     "output_type": "stream",
     "text": [
      "📂 D:\\DETECTION 1.0\\Celeb-DF\\Fake Frames\\id4_id3_0009 | Total frames: 483\n"
     ]
    },
    {
     "name": "stderr",
     "output_type": "stream",
     "text": [
      "Processing id4_id3_0009: 100%|██████████| 482/482 [00:06<00:00, 71.87it/s]\n"
     ]
    },
    {
     "name": "stdout",
     "output_type": "stream",
     "text": [
      "📂 D:\\DETECTION 1.0\\Celeb-DF\\Fake Frames\\id4_id6_0000 | Total frames: 477\n"
     ]
    },
    {
     "name": "stderr",
     "output_type": "stream",
     "text": [
      "Processing id4_id6_0000: 100%|██████████| 476/476 [00:06<00:00, 71.84it/s]\n"
     ]
    },
    {
     "name": "stdout",
     "output_type": "stream",
     "text": [
      "📂 D:\\DETECTION 1.0\\Celeb-DF\\Fake Frames\\id4_id6_0001 | Total frames: 459\n"
     ]
    },
    {
     "name": "stderr",
     "output_type": "stream",
     "text": [
      "Processing id4_id6_0001: 100%|██████████| 458/458 [00:06<00:00, 70.77it/s]\n"
     ]
    },
    {
     "name": "stdout",
     "output_type": "stream",
     "text": [
      "📂 D:\\DETECTION 1.0\\Celeb-DF\\Fake Frames\\id4_id6_0002 | Total frames: 491\n"
     ]
    },
    {
     "name": "stderr",
     "output_type": "stream",
     "text": [
      "Processing id4_id6_0002: 100%|██████████| 490/490 [00:07<00:00, 68.49it/s]\n"
     ]
    },
    {
     "name": "stdout",
     "output_type": "stream",
     "text": [
      "📂 D:\\DETECTION 1.0\\Celeb-DF\\Fake Frames\\id4_id6_0003 | Total frames: 442\n"
     ]
    },
    {
     "name": "stderr",
     "output_type": "stream",
     "text": [
      "Processing id4_id6_0003: 100%|██████████| 441/441 [00:06<00:00, 70.68it/s]\n"
     ]
    },
    {
     "name": "stdout",
     "output_type": "stream",
     "text": [
      "📂 D:\\DETECTION 1.0\\Celeb-DF\\Fake Frames\\id4_id6_0004 | Total frames: 439\n"
     ]
    },
    {
     "name": "stderr",
     "output_type": "stream",
     "text": [
      "Processing id4_id6_0004: 100%|██████████| 438/438 [00:06<00:00, 71.88it/s]\n"
     ]
    },
    {
     "name": "stdout",
     "output_type": "stream",
     "text": [
      "📂 D:\\DETECTION 1.0\\Celeb-DF\\Fake Frames\\id4_id6_0005 | Total frames: 467\n"
     ]
    },
    {
     "name": "stderr",
     "output_type": "stream",
     "text": [
      "Processing id4_id6_0005: 100%|██████████| 466/466 [00:06<00:00, 70.38it/s]\n"
     ]
    },
    {
     "name": "stdout",
     "output_type": "stream",
     "text": [
      "📂 D:\\DETECTION 1.0\\Celeb-DF\\Fake Frames\\id4_id6_0006 | Total frames: 302\n"
     ]
    },
    {
     "name": "stderr",
     "output_type": "stream",
     "text": [
      "Processing id4_id6_0006: 100%|██████████| 301/301 [00:04<00:00, 70.18it/s]\n"
     ]
    },
    {
     "name": "stdout",
     "output_type": "stream",
     "text": [
      "📂 D:\\DETECTION 1.0\\Celeb-DF\\Fake Frames\\id4_id6_0007 | Total frames: 446\n"
     ]
    },
    {
     "name": "stderr",
     "output_type": "stream",
     "text": [
      "Processing id4_id6_0007: 100%|██████████| 445/445 [00:06<00:00, 68.17it/s]\n"
     ]
    },
    {
     "name": "stdout",
     "output_type": "stream",
     "text": [
      "📂 D:\\DETECTION 1.0\\Celeb-DF\\Fake Frames\\id4_id6_0008 | Total frames: 326\n"
     ]
    },
    {
     "name": "stderr",
     "output_type": "stream",
     "text": [
      "Processing id4_id6_0008: 100%|██████████| 325/325 [00:04<00:00, 70.10it/s]\n"
     ]
    },
    {
     "name": "stdout",
     "output_type": "stream",
     "text": [
      "📂 D:\\DETECTION 1.0\\Celeb-DF\\Fake Frames\\id4_id6_0009 | Total frames: 483\n"
     ]
    },
    {
     "name": "stderr",
     "output_type": "stream",
     "text": [
      "Processing id4_id6_0009: 100%|██████████| 482/482 [00:06<00:00, 70.78it/s]\n"
     ]
    },
    {
     "name": "stdout",
     "output_type": "stream",
     "text": [
      "📂 D:\\DETECTION 1.0\\Celeb-DF\\Fake Frames\\id4_id9_0000 | Total frames: 477\n"
     ]
    },
    {
     "name": "stderr",
     "output_type": "stream",
     "text": [
      "Processing id4_id9_0000: 100%|██████████| 476/476 [00:06<00:00, 70.21it/s]\n"
     ]
    },
    {
     "name": "stdout",
     "output_type": "stream",
     "text": [
      "📂 D:\\DETECTION 1.0\\Celeb-DF\\Fake Frames\\id4_id9_0001 | Total frames: 459\n"
     ]
    },
    {
     "name": "stderr",
     "output_type": "stream",
     "text": [
      "Processing id4_id9_0001: 100%|██████████| 458/458 [00:06<00:00, 68.38it/s]\n"
     ]
    },
    {
     "name": "stdout",
     "output_type": "stream",
     "text": [
      "📂 D:\\DETECTION 1.0\\Celeb-DF\\Fake Frames\\id4_id9_0002 | Total frames: 491\n"
     ]
    },
    {
     "name": "stderr",
     "output_type": "stream",
     "text": [
      "Processing id4_id9_0002: 100%|██████████| 490/490 [00:07<00:00, 69.39it/s]\n"
     ]
    },
    {
     "name": "stdout",
     "output_type": "stream",
     "text": [
      "📂 D:\\DETECTION 1.0\\Celeb-DF\\Fake Frames\\id4_id9_0003 | Total frames: 442\n"
     ]
    },
    {
     "name": "stderr",
     "output_type": "stream",
     "text": [
      "Processing id4_id9_0003: 100%|██████████| 441/441 [00:06<00:00, 69.92it/s]\n"
     ]
    },
    {
     "name": "stdout",
     "output_type": "stream",
     "text": [
      "📂 D:\\DETECTION 1.0\\Celeb-DF\\Fake Frames\\id4_id9_0004 | Total frames: 439\n"
     ]
    },
    {
     "name": "stderr",
     "output_type": "stream",
     "text": [
      "Processing id4_id9_0004: 100%|██████████| 438/438 [00:06<00:00, 70.44it/s]\n"
     ]
    },
    {
     "name": "stdout",
     "output_type": "stream",
     "text": [
      "📂 D:\\DETECTION 1.0\\Celeb-DF\\Fake Frames\\id4_id9_0005 | Total frames: 467\n"
     ]
    },
    {
     "name": "stderr",
     "output_type": "stream",
     "text": [
      "Processing id4_id9_0005: 100%|██████████| 466/466 [00:06<00:00, 69.30it/s]\n"
     ]
    },
    {
     "name": "stdout",
     "output_type": "stream",
     "text": [
      "📂 D:\\DETECTION 1.0\\Celeb-DF\\Fake Frames\\id4_id9_0006 | Total frames: 302\n"
     ]
    },
    {
     "name": "stderr",
     "output_type": "stream",
     "text": [
      "Processing id4_id9_0006: 100%|██████████| 301/301 [00:04<00:00, 64.97it/s]\n"
     ]
    },
    {
     "name": "stdout",
     "output_type": "stream",
     "text": [
      "📂 D:\\DETECTION 1.0\\Celeb-DF\\Fake Frames\\id4_id9_0007 | Total frames: 446\n"
     ]
    },
    {
     "name": "stderr",
     "output_type": "stream",
     "text": [
      "Processing id4_id9_0007: 100%|██████████| 445/445 [00:06<00:00, 70.79it/s]\n"
     ]
    },
    {
     "name": "stdout",
     "output_type": "stream",
     "text": [
      "📂 D:\\DETECTION 1.0\\Celeb-DF\\Fake Frames\\id4_id9_0008 | Total frames: 326\n"
     ]
    },
    {
     "name": "stderr",
     "output_type": "stream",
     "text": [
      "Processing id4_id9_0008: 100%|██████████| 325/325 [00:04<00:00, 72.05it/s]\n"
     ]
    },
    {
     "name": "stdout",
     "output_type": "stream",
     "text": [
      "📂 D:\\DETECTION 1.0\\Celeb-DF\\Fake Frames\\id6_id0_0000 | Total frames: 630\n"
     ]
    },
    {
     "name": "stderr",
     "output_type": "stream",
     "text": [
      "Processing id6_id0_0000: 100%|██████████| 629/629 [00:08<00:00, 72.00it/s]\n"
     ]
    },
    {
     "name": "stdout",
     "output_type": "stream",
     "text": [
      "📂 D:\\DETECTION 1.0\\Celeb-DF\\Fake Frames\\id6_id0_0001 | Total frames: 323\n"
     ]
    },
    {
     "name": "stderr",
     "output_type": "stream",
     "text": [
      "Processing id6_id0_0001: 100%|██████████| 322/322 [00:04<00:00, 70.40it/s]\n"
     ]
    },
    {
     "name": "stdout",
     "output_type": "stream",
     "text": [
      "📂 D:\\DETECTION 1.0\\Celeb-DF\\Fake Frames\\id6_id0_0002 | Total frames: 611\n"
     ]
    },
    {
     "name": "stderr",
     "output_type": "stream",
     "text": [
      "Processing id6_id0_0002: 100%|██████████| 610/610 [00:08<00:00, 68.54it/s]\n"
     ]
    },
    {
     "name": "stdout",
     "output_type": "stream",
     "text": [
      "📂 D:\\DETECTION 1.0\\Celeb-DF\\Fake Frames\\id6_id0_0003 | Total frames: 372\n"
     ]
    },
    {
     "name": "stderr",
     "output_type": "stream",
     "text": [
      "Processing id6_id0_0003: 100%|██████████| 371/371 [00:05<00:00, 67.16it/s]\n"
     ]
    },
    {
     "name": "stdout",
     "output_type": "stream",
     "text": [
      "📂 D:\\DETECTION 1.0\\Celeb-DF\\Fake Frames\\id6_id0_0004 | Total frames: 458\n"
     ]
    },
    {
     "name": "stderr",
     "output_type": "stream",
     "text": [
      "Processing id6_id0_0004: 100%|██████████| 457/457 [00:06<00:00, 70.05it/s]\n"
     ]
    },
    {
     "name": "stdout",
     "output_type": "stream",
     "text": [
      "📂 D:\\DETECTION 1.0\\Celeb-DF\\Fake Frames\\id6_id0_0005 | Total frames: 372\n"
     ]
    },
    {
     "name": "stderr",
     "output_type": "stream",
     "text": [
      "Processing id6_id0_0005: 100%|██████████| 371/371 [00:05<00:00, 72.23it/s]\n"
     ]
    },
    {
     "name": "stdout",
     "output_type": "stream",
     "text": [
      "📂 D:\\DETECTION 1.0\\Celeb-DF\\Fake Frames\\id6_id0_0006 | Total frames: 294\n"
     ]
    },
    {
     "name": "stderr",
     "output_type": "stream",
     "text": [
      "Processing id6_id0_0006: 100%|██████████| 293/293 [00:04<00:00, 72.28it/s]\n"
     ]
    },
    {
     "name": "stdout",
     "output_type": "stream",
     "text": [
      "📂 D:\\DETECTION 1.0\\Celeb-DF\\Fake Frames\\id6_id0_0007 | Total frames: 557\n"
     ]
    },
    {
     "name": "stderr",
     "output_type": "stream",
     "text": [
      "Processing id6_id0_0007: 100%|██████████| 556/556 [00:07<00:00, 70.26it/s]\n"
     ]
    },
    {
     "name": "stdout",
     "output_type": "stream",
     "text": [
      "📂 D:\\DETECTION 1.0\\Celeb-DF\\Fake Frames\\id6_id0_0008 | Total frames: 381\n"
     ]
    },
    {
     "name": "stderr",
     "output_type": "stream",
     "text": [
      "Processing id6_id0_0008: 100%|██████████| 380/380 [00:05<00:00, 70.21it/s]\n"
     ]
    },
    {
     "name": "stdout",
     "output_type": "stream",
     "text": [
      "📂 D:\\DETECTION 1.0\\Celeb-DF\\Fake Frames\\id6_id0_0009 | Total frames: 530\n"
     ]
    },
    {
     "name": "stderr",
     "output_type": "stream",
     "text": [
      "Processing id6_id0_0009: 100%|██████████| 529/529 [00:07<00:00, 68.62it/s]\n"
     ]
    },
    {
     "name": "stdout",
     "output_type": "stream",
     "text": [
      "📂 D:\\DETECTION 1.0\\Celeb-DF\\Fake Frames\\id6_id16_0000 | Total frames: 630\n"
     ]
    },
    {
     "name": "stderr",
     "output_type": "stream",
     "text": [
      "Processing id6_id16_0000: 100%|██████████| 629/629 [00:08<00:00, 71.09it/s]\n"
     ]
    },
    {
     "name": "stdout",
     "output_type": "stream",
     "text": [
      "📂 D:\\DETECTION 1.0\\Celeb-DF\\Fake Frames\\id6_id16_0001 | Total frames: 323\n"
     ]
    },
    {
     "name": "stderr",
     "output_type": "stream",
     "text": [
      "Processing id6_id16_0001: 100%|██████████| 322/322 [00:04<00:00, 70.88it/s]\n"
     ]
    },
    {
     "name": "stdout",
     "output_type": "stream",
     "text": [
      "📂 D:\\DETECTION 1.0\\Celeb-DF\\Fake Frames\\id6_id16_0002 | Total frames: 611\n"
     ]
    },
    {
     "name": "stderr",
     "output_type": "stream",
     "text": [
      "Processing id6_id16_0002: 100%|██████████| 610/610 [00:08<00:00, 70.00it/s]\n"
     ]
    },
    {
     "name": "stdout",
     "output_type": "stream",
     "text": [
      "📂 D:\\DETECTION 1.0\\Celeb-DF\\Fake Frames\\id6_id16_0003 | Total frames: 372\n"
     ]
    },
    {
     "name": "stderr",
     "output_type": "stream",
     "text": [
      "Processing id6_id16_0003: 100%|██████████| 371/371 [00:05<00:00, 67.89it/s]\n"
     ]
    },
    {
     "name": "stdout",
     "output_type": "stream",
     "text": [
      "📂 D:\\DETECTION 1.0\\Celeb-DF\\Fake Frames\\id6_id16_0004 | Total frames: 458\n"
     ]
    },
    {
     "name": "stderr",
     "output_type": "stream",
     "text": [
      "Processing id6_id16_0004: 100%|██████████| 457/457 [00:06<00:00, 69.88it/s]\n"
     ]
    },
    {
     "name": "stdout",
     "output_type": "stream",
     "text": [
      "📂 D:\\DETECTION 1.0\\Celeb-DF\\Fake Frames\\id6_id16_0005 | Total frames: 372\n"
     ]
    },
    {
     "name": "stderr",
     "output_type": "stream",
     "text": [
      "Processing id6_id16_0005: 100%|██████████| 371/371 [00:05<00:00, 70.38it/s]\n"
     ]
    },
    {
     "name": "stdout",
     "output_type": "stream",
     "text": [
      "📂 D:\\DETECTION 1.0\\Celeb-DF\\Fake Frames\\id6_id16_0006 | Total frames: 294\n"
     ]
    },
    {
     "name": "stderr",
     "output_type": "stream",
     "text": [
      "Processing id6_id16_0006: 100%|██████████| 293/293 [00:04<00:00, 69.91it/s]\n"
     ]
    },
    {
     "name": "stdout",
     "output_type": "stream",
     "text": [
      "📂 D:\\DETECTION 1.0\\Celeb-DF\\Fake Frames\\id6_id16_0007 | Total frames: 557\n"
     ]
    },
    {
     "name": "stderr",
     "output_type": "stream",
     "text": [
      "Processing id6_id16_0007: 100%|██████████| 556/556 [00:07<00:00, 69.67it/s]\n"
     ]
    },
    {
     "name": "stdout",
     "output_type": "stream",
     "text": [
      "📂 D:\\DETECTION 1.0\\Celeb-DF\\Fake Frames\\id6_id16_0008 | Total frames: 381\n"
     ]
    },
    {
     "name": "stderr",
     "output_type": "stream",
     "text": [
      "Processing id6_id16_0008: 100%|██████████| 380/380 [00:05<00:00, 70.25it/s]\n"
     ]
    },
    {
     "name": "stdout",
     "output_type": "stream",
     "text": [
      "📂 D:\\DETECTION 1.0\\Celeb-DF\\Fake Frames\\id6_id16_0009 | Total frames: 530\n"
     ]
    },
    {
     "name": "stderr",
     "output_type": "stream",
     "text": [
      "Processing id6_id16_0009: 100%|██████████| 529/529 [00:07<00:00, 68.92it/s]\n"
     ]
    },
    {
     "name": "stdout",
     "output_type": "stream",
     "text": [
      "📂 D:\\DETECTION 1.0\\Celeb-DF\\Fake Frames\\id6_id17_0000 | Total frames: 630\n"
     ]
    },
    {
     "name": "stderr",
     "output_type": "stream",
     "text": [
      "Processing id6_id17_0000: 100%|██████████| 629/629 [00:08<00:00, 70.63it/s]\n"
     ]
    },
    {
     "name": "stdout",
     "output_type": "stream",
     "text": [
      "📂 D:\\DETECTION 1.0\\Celeb-DF\\Fake Frames\\id6_id17_0001 | Total frames: 323\n"
     ]
    },
    {
     "name": "stderr",
     "output_type": "stream",
     "text": [
      "Processing id6_id17_0001: 100%|██████████| 322/322 [00:04<00:00, 71.23it/s]\n"
     ]
    },
    {
     "name": "stdout",
     "output_type": "stream",
     "text": [
      "📂 D:\\DETECTION 1.0\\Celeb-DF\\Fake Frames\\id6_id17_0002 | Total frames: 611\n"
     ]
    },
    {
     "name": "stderr",
     "output_type": "stream",
     "text": [
      "Processing id6_id17_0002: 100%|██████████| 610/610 [00:08<00:00, 69.16it/s]\n"
     ]
    },
    {
     "name": "stdout",
     "output_type": "stream",
     "text": [
      "📂 D:\\DETECTION 1.0\\Celeb-DF\\Fake Frames\\id6_id17_0003 | Total frames: 372\n"
     ]
    },
    {
     "name": "stderr",
     "output_type": "stream",
     "text": [
      "Processing id6_id17_0003: 100%|██████████| 371/371 [00:05<00:00, 68.96it/s]\n"
     ]
    },
    {
     "name": "stdout",
     "output_type": "stream",
     "text": [
      "📂 D:\\DETECTION 1.0\\Celeb-DF\\Fake Frames\\id6_id17_0004 | Total frames: 458\n"
     ]
    },
    {
     "name": "stderr",
     "output_type": "stream",
     "text": [
      "Processing id6_id17_0004: 100%|██████████| 457/457 [00:09<00:00, 49.00it/s]\n"
     ]
    },
    {
     "name": "stdout",
     "output_type": "stream",
     "text": [
      "📂 D:\\DETECTION 1.0\\Celeb-DF\\Fake Frames\\id6_id17_0005 | Total frames: 372\n"
     ]
    },
    {
     "name": "stderr",
     "output_type": "stream",
     "text": [
      "Processing id6_id17_0005: 100%|██████████| 371/371 [00:07<00:00, 50.46it/s]\n"
     ]
    },
    {
     "name": "stdout",
     "output_type": "stream",
     "text": [
      "📂 D:\\DETECTION 1.0\\Celeb-DF\\Fake Frames\\id6_id17_0006 | Total frames: 294\n"
     ]
    },
    {
     "name": "stderr",
     "output_type": "stream",
     "text": [
      "Processing id6_id17_0006: 100%|██████████| 293/293 [00:05<00:00, 50.46it/s]\n"
     ]
    },
    {
     "name": "stdout",
     "output_type": "stream",
     "text": [
      "📂 D:\\DETECTION 1.0\\Celeb-DF\\Fake Frames\\id6_id17_0007 | Total frames: 557\n"
     ]
    },
    {
     "name": "stderr",
     "output_type": "stream",
     "text": [
      "Processing id6_id17_0007: 100%|██████████| 556/556 [00:11<00:00, 49.61it/s]\n"
     ]
    },
    {
     "name": "stdout",
     "output_type": "stream",
     "text": [
      "📂 D:\\DETECTION 1.0\\Celeb-DF\\Fake Frames\\id6_id17_0008 | Total frames: 381\n"
     ]
    },
    {
     "name": "stderr",
     "output_type": "stream",
     "text": [
      "Processing id6_id17_0008: 100%|██████████| 380/380 [00:08<00:00, 45.33it/s]\n"
     ]
    },
    {
     "name": "stdout",
     "output_type": "stream",
     "text": [
      "📂 D:\\DETECTION 1.0\\Celeb-DF\\Fake Frames\\id6_id17_0009 | Total frames: 530\n"
     ]
    },
    {
     "name": "stderr",
     "output_type": "stream",
     "text": [
      "Processing id6_id17_0009: 100%|██████████| 529/529 [00:11<00:00, 47.42it/s]\n"
     ]
    },
    {
     "name": "stdout",
     "output_type": "stream",
     "text": [
      "📂 D:\\DETECTION 1.0\\Celeb-DF\\Fake Frames\\id6_id1_0000 | Total frames: 630\n"
     ]
    },
    {
     "name": "stderr",
     "output_type": "stream",
     "text": [
      "Processing id6_id1_0000: 100%|██████████| 629/629 [00:12<00:00, 49.84it/s]\n"
     ]
    },
    {
     "name": "stdout",
     "output_type": "stream",
     "text": [
      "📂 D:\\DETECTION 1.0\\Celeb-DF\\Fake Frames\\id6_id1_0001 | Total frames: 323\n"
     ]
    },
    {
     "name": "stderr",
     "output_type": "stream",
     "text": [
      "Processing id6_id1_0001: 100%|██████████| 322/322 [00:06<00:00, 48.85it/s]\n"
     ]
    },
    {
     "name": "stdout",
     "output_type": "stream",
     "text": [
      "📂 D:\\DETECTION 1.0\\Celeb-DF\\Fake Frames\\id6_id1_0002 | Total frames: 611\n"
     ]
    },
    {
     "name": "stderr",
     "output_type": "stream",
     "text": [
      "Processing id6_id1_0002: 100%|██████████| 610/610 [00:08<00:00, 68.53it/s]\n"
     ]
    },
    {
     "name": "stdout",
     "output_type": "stream",
     "text": [
      "📂 D:\\DETECTION 1.0\\Celeb-DF\\Fake Frames\\id6_id1_0003 | Total frames: 372\n"
     ]
    },
    {
     "name": "stderr",
     "output_type": "stream",
     "text": [
      "Processing id6_id1_0003: 100%|██████████| 371/371 [00:05<00:00, 69.17it/s]\n"
     ]
    },
    {
     "name": "stdout",
     "output_type": "stream",
     "text": [
      "📂 D:\\DETECTION 1.0\\Celeb-DF\\Fake Frames\\id6_id1_0004 | Total frames: 458\n"
     ]
    },
    {
     "name": "stderr",
     "output_type": "stream",
     "text": [
      "Processing id6_id1_0004: 100%|██████████| 457/457 [00:06<00:00, 71.71it/s]\n"
     ]
    },
    {
     "name": "stdout",
     "output_type": "stream",
     "text": [
      "📂 D:\\DETECTION 1.0\\Celeb-DF\\Fake Frames\\id6_id1_0005 | Total frames: 372\n"
     ]
    },
    {
     "name": "stderr",
     "output_type": "stream",
     "text": [
      "Processing id6_id1_0005: 100%|██████████| 371/371 [00:05<00:00, 67.18it/s]\n"
     ]
    },
    {
     "name": "stdout",
     "output_type": "stream",
     "text": [
      "📂 D:\\DETECTION 1.0\\Celeb-DF\\Fake Frames\\id6_id1_0006 | Total frames: 294\n"
     ]
    },
    {
     "name": "stderr",
     "output_type": "stream",
     "text": [
      "Processing id6_id1_0006: 100%|██████████| 293/293 [00:04<00:00, 67.92it/s]\n"
     ]
    },
    {
     "name": "stdout",
     "output_type": "stream",
     "text": [
      "📂 D:\\DETECTION 1.0\\Celeb-DF\\Fake Frames\\id6_id1_0007 | Total frames: 557\n"
     ]
    },
    {
     "name": "stderr",
     "output_type": "stream",
     "text": [
      "Processing id6_id1_0007: 100%|██████████| 556/556 [00:09<00:00, 59.97it/s]\n"
     ]
    },
    {
     "name": "stdout",
     "output_type": "stream",
     "text": [
      "📂 D:\\DETECTION 1.0\\Celeb-DF\\Fake Frames\\id6_id1_0008 | Total frames: 381\n"
     ]
    },
    {
     "name": "stderr",
     "output_type": "stream",
     "text": [
      "Processing id6_id1_0008: 100%|██████████| 380/380 [00:06<00:00, 62.41it/s]\n"
     ]
    },
    {
     "name": "stdout",
     "output_type": "stream",
     "text": [
      "📂 D:\\DETECTION 1.0\\Celeb-DF\\Fake Frames\\id6_id1_0009 | Total frames: 530\n"
     ]
    },
    {
     "name": "stderr",
     "output_type": "stream",
     "text": [
      "Processing id6_id1_0009: 100%|██████████| 529/529 [00:08<00:00, 61.10it/s]\n"
     ]
    },
    {
     "name": "stdout",
     "output_type": "stream",
     "text": [
      "📂 D:\\DETECTION 1.0\\Celeb-DF\\Fake Frames\\id6_id2_0000 | Total frames: 630\n"
     ]
    },
    {
     "name": "stderr",
     "output_type": "stream",
     "text": [
      "Processing id6_id2_0000: 100%|██████████| 629/629 [00:10<00:00, 62.86it/s]\n"
     ]
    },
    {
     "name": "stdout",
     "output_type": "stream",
     "text": [
      "📂 D:\\DETECTION 1.0\\Celeb-DF\\Fake Frames\\id6_id2_0001 | Total frames: 323\n"
     ]
    },
    {
     "name": "stderr",
     "output_type": "stream",
     "text": [
      "Processing id6_id2_0001: 100%|██████████| 322/322 [00:04<00:00, 67.59it/s]\n"
     ]
    },
    {
     "name": "stdout",
     "output_type": "stream",
     "text": [
      "📂 D:\\DETECTION 1.0\\Celeb-DF\\Fake Frames\\id6_id2_0002 | Total frames: 611\n"
     ]
    },
    {
     "name": "stderr",
     "output_type": "stream",
     "text": [
      "Processing id6_id2_0002: 100%|██████████| 610/610 [00:09<00:00, 63.39it/s]\n"
     ]
    },
    {
     "name": "stdout",
     "output_type": "stream",
     "text": [
      "📂 D:\\DETECTION 1.0\\Celeb-DF\\Fake Frames\\id6_id2_0003 | Total frames: 372\n"
     ]
    },
    {
     "name": "stderr",
     "output_type": "stream",
     "text": [
      "Processing id6_id2_0003: 100%|██████████| 371/371 [00:06<00:00, 61.01it/s]\n"
     ]
    },
    {
     "name": "stdout",
     "output_type": "stream",
     "text": [
      "📂 D:\\DETECTION 1.0\\Celeb-DF\\Fake Frames\\id6_id2_0004 | Total frames: 458\n"
     ]
    },
    {
     "name": "stderr",
     "output_type": "stream",
     "text": [
      "Processing id6_id2_0004: 100%|██████████| 457/457 [00:07<00:00, 61.76it/s]\n"
     ]
    },
    {
     "name": "stdout",
     "output_type": "stream",
     "text": [
      "📂 D:\\DETECTION 1.0\\Celeb-DF\\Fake Frames\\id6_id2_0005 | Total frames: 372\n"
     ]
    },
    {
     "name": "stderr",
     "output_type": "stream",
     "text": [
      "Processing id6_id2_0005: 100%|██████████| 371/371 [00:05<00:00, 62.65it/s]\n"
     ]
    },
    {
     "name": "stdout",
     "output_type": "stream",
     "text": [
      "📂 D:\\DETECTION 1.0\\Celeb-DF\\Fake Frames\\id6_id2_0006 | Total frames: 294\n"
     ]
    },
    {
     "name": "stderr",
     "output_type": "stream",
     "text": [
      "Processing id6_id2_0006: 100%|██████████| 293/293 [00:04<00:00, 63.78it/s]\n"
     ]
    },
    {
     "name": "stdout",
     "output_type": "stream",
     "text": [
      "📂 D:\\DETECTION 1.0\\Celeb-DF\\Fake Frames\\id6_id2_0007 | Total frames: 557\n"
     ]
    },
    {
     "name": "stderr",
     "output_type": "stream",
     "text": [
      "Processing id6_id2_0007: 100%|██████████| 556/556 [00:09<00:00, 60.82it/s]\n"
     ]
    },
    {
     "name": "stdout",
     "output_type": "stream",
     "text": [
      "📂 D:\\DETECTION 1.0\\Celeb-DF\\Fake Frames\\id6_id2_0008 | Total frames: 381\n"
     ]
    },
    {
     "name": "stderr",
     "output_type": "stream",
     "text": [
      "Processing id6_id2_0008: 100%|██████████| 380/380 [00:05<00:00, 66.04it/s]\n"
     ]
    },
    {
     "name": "stdout",
     "output_type": "stream",
     "text": [
      "📂 D:\\DETECTION 1.0\\Celeb-DF\\Fake Frames\\id6_id2_0009 | Total frames: 530\n"
     ]
    },
    {
     "name": "stderr",
     "output_type": "stream",
     "text": [
      "Processing id6_id2_0009: 100%|██████████| 529/529 [00:07<00:00, 68.57it/s]\n"
     ]
    },
    {
     "name": "stdout",
     "output_type": "stream",
     "text": [
      "📂 D:\\DETECTION 1.0\\Celeb-DF\\Fake Frames\\id6_id3_0000 | Total frames: 630\n"
     ]
    },
    {
     "name": "stderr",
     "output_type": "stream",
     "text": [
      "Processing id6_id3_0000: 100%|██████████| 629/629 [00:08<00:00, 70.18it/s]\n"
     ]
    },
    {
     "name": "stdout",
     "output_type": "stream",
     "text": [
      "📂 D:\\DETECTION 1.0\\Celeb-DF\\Fake Frames\\id6_id3_0001 | Total frames: 323\n"
     ]
    },
    {
     "name": "stderr",
     "output_type": "stream",
     "text": [
      "Processing id6_id3_0001: 100%|██████████| 322/322 [00:04<00:00, 71.06it/s]\n"
     ]
    },
    {
     "name": "stdout",
     "output_type": "stream",
     "text": [
      "📂 D:\\DETECTION 1.0\\Celeb-DF\\Fake Frames\\id6_id3_0002 | Total frames: 611\n"
     ]
    },
    {
     "name": "stderr",
     "output_type": "stream",
     "text": [
      "Processing id6_id3_0002: 100%|██████████| 610/610 [00:08<00:00, 68.75it/s]\n"
     ]
    },
    {
     "name": "stdout",
     "output_type": "stream",
     "text": [
      "📂 D:\\DETECTION 1.0\\Celeb-DF\\Fake Frames\\id6_id3_0003 | Total frames: 372\n"
     ]
    },
    {
     "name": "stderr",
     "output_type": "stream",
     "text": [
      "Processing id6_id3_0003: 100%|██████████| 371/371 [00:05<00:00, 69.04it/s]\n"
     ]
    },
    {
     "name": "stdout",
     "output_type": "stream",
     "text": [
      "📂 D:\\DETECTION 1.0\\Celeb-DF\\Fake Frames\\id6_id3_0004 | Total frames: 458\n"
     ]
    },
    {
     "name": "stderr",
     "output_type": "stream",
     "text": [
      "Processing id6_id3_0004: 100%|██████████| 457/457 [00:06<00:00, 70.12it/s]\n"
     ]
    },
    {
     "name": "stdout",
     "output_type": "stream",
     "text": [
      "📂 D:\\DETECTION 1.0\\Celeb-DF\\Fake Frames\\id6_id3_0005 | Total frames: 372\n"
     ]
    },
    {
     "name": "stderr",
     "output_type": "stream",
     "text": [
      "Processing id6_id3_0005: 100%|██████████| 371/371 [00:05<00:00, 71.41it/s]\n"
     ]
    },
    {
     "name": "stdout",
     "output_type": "stream",
     "text": [
      "📂 D:\\DETECTION 1.0\\Celeb-DF\\Fake Frames\\id6_id3_0006 | Total frames: 294\n"
     ]
    },
    {
     "name": "stderr",
     "output_type": "stream",
     "text": [
      "Processing id6_id3_0006: 100%|██████████| 293/293 [00:04<00:00, 71.46it/s]\n"
     ]
    },
    {
     "name": "stdout",
     "output_type": "stream",
     "text": [
      "📂 D:\\DETECTION 1.0\\Celeb-DF\\Fake Frames\\id6_id3_0007 | Total frames: 557\n"
     ]
    },
    {
     "name": "stderr",
     "output_type": "stream",
     "text": [
      "Processing id6_id3_0007: 100%|██████████| 556/556 [00:07<00:00, 70.11it/s]\n"
     ]
    },
    {
     "name": "stdout",
     "output_type": "stream",
     "text": [
      "📂 D:\\DETECTION 1.0\\Celeb-DF\\Fake Frames\\id6_id3_0008 | Total frames: 381\n"
     ]
    },
    {
     "name": "stderr",
     "output_type": "stream",
     "text": [
      "Processing id6_id3_0008: 100%|██████████| 380/380 [00:05<00:00, 70.70it/s]\n"
     ]
    },
    {
     "name": "stdout",
     "output_type": "stream",
     "text": [
      "📂 D:\\DETECTION 1.0\\Celeb-DF\\Fake Frames\\id6_id3_0009 | Total frames: 530\n"
     ]
    },
    {
     "name": "stderr",
     "output_type": "stream",
     "text": [
      "Processing id6_id3_0009: 100%|██████████| 529/529 [00:07<00:00, 68.59it/s]\n"
     ]
    },
    {
     "name": "stdout",
     "output_type": "stream",
     "text": [
      "📂 D:\\DETECTION 1.0\\Celeb-DF\\Fake Frames\\id6_id4_0001 | Total frames: 323\n"
     ]
    },
    {
     "name": "stderr",
     "output_type": "stream",
     "text": [
      "Processing id6_id4_0001: 100%|██████████| 322/322 [00:04<00:00, 69.80it/s]\n"
     ]
    },
    {
     "name": "stdout",
     "output_type": "stream",
     "text": [
      "📂 D:\\DETECTION 1.0\\Celeb-DF\\Fake Frames\\id6_id4_0004 | Total frames: 458\n"
     ]
    },
    {
     "name": "stderr",
     "output_type": "stream",
     "text": [
      "Processing id6_id4_0004: 100%|██████████| 457/457 [00:06<00:00, 70.59it/s]\n"
     ]
    },
    {
     "name": "stdout",
     "output_type": "stream",
     "text": [
      "📂 D:\\DETECTION 1.0\\Celeb-DF\\Fake Frames\\id6_id4_0005 | Total frames: 372\n"
     ]
    },
    {
     "name": "stderr",
     "output_type": "stream",
     "text": [
      "Processing id6_id4_0005: 100%|██████████| 371/371 [00:05<00:00, 69.84it/s]\n"
     ]
    },
    {
     "name": "stdout",
     "output_type": "stream",
     "text": [
      "📂 D:\\DETECTION 1.0\\Celeb-DF\\Fake Frames\\id6_id4_0006 | Total frames: 294\n"
     ]
    },
    {
     "name": "stderr",
     "output_type": "stream",
     "text": [
      "Processing id6_id4_0006: 100%|██████████| 293/293 [00:04<00:00, 69.98it/s]\n"
     ]
    },
    {
     "name": "stdout",
     "output_type": "stream",
     "text": [
      "📂 D:\\DETECTION 1.0\\Celeb-DF\\Fake Frames\\id6_id4_0007 | Total frames: 557\n"
     ]
    },
    {
     "name": "stderr",
     "output_type": "stream",
     "text": [
      "Processing id6_id4_0007: 100%|██████████| 556/556 [00:08<00:00, 68.94it/s]\n"
     ]
    },
    {
     "name": "stdout",
     "output_type": "stream",
     "text": [
      "📂 D:\\DETECTION 1.0\\Celeb-DF\\Fake Frames\\id6_id4_0008 | Total frames: 381\n"
     ]
    },
    {
     "name": "stderr",
     "output_type": "stream",
     "text": [
      "Processing id6_id4_0008: 100%|██████████| 380/380 [00:05<00:00, 69.52it/s]\n"
     ]
    },
    {
     "name": "stdout",
     "output_type": "stream",
     "text": [
      "📂 D:\\DETECTION 1.0\\Celeb-DF\\Fake Frames\\id6_id4_0009 | Total frames: 530\n"
     ]
    },
    {
     "name": "stderr",
     "output_type": "stream",
     "text": [
      "Processing id6_id4_0009: 100%|██████████| 529/529 [00:07<00:00, 67.65it/s]\n"
     ]
    },
    {
     "name": "stdout",
     "output_type": "stream",
     "text": [
      "📂 D:\\DETECTION 1.0\\Celeb-DF\\Fake Frames\\id6_id9_0000 | Total frames: 630\n"
     ]
    },
    {
     "name": "stderr",
     "output_type": "stream",
     "text": [
      "Processing id6_id9_0000: 100%|██████████| 629/629 [00:08<00:00, 71.57it/s]\n"
     ]
    },
    {
     "name": "stdout",
     "output_type": "stream",
     "text": [
      "📂 D:\\DETECTION 1.0\\Celeb-DF\\Fake Frames\\id6_id9_0001 | Total frames: 323\n"
     ]
    },
    {
     "name": "stderr",
     "output_type": "stream",
     "text": [
      "Processing id6_id9_0001: 100%|██████████| 322/322 [00:04<00:00, 71.64it/s]\n"
     ]
    },
    {
     "name": "stdout",
     "output_type": "stream",
     "text": [
      "📂 D:\\DETECTION 1.0\\Celeb-DF\\Fake Frames\\id6_id9_0002 | Total frames: 611\n"
     ]
    },
    {
     "name": "stderr",
     "output_type": "stream",
     "text": [
      "Processing id6_id9_0002: 100%|██████████| 610/610 [00:08<00:00, 69.90it/s]\n"
     ]
    },
    {
     "name": "stdout",
     "output_type": "stream",
     "text": [
      "📂 D:\\DETECTION 1.0\\Celeb-DF\\Fake Frames\\id6_id9_0003 | Total frames: 372\n"
     ]
    },
    {
     "name": "stderr",
     "output_type": "stream",
     "text": [
      "Processing id6_id9_0003: 100%|██████████| 371/371 [00:05<00:00, 69.74it/s]\n"
     ]
    },
    {
     "name": "stdout",
     "output_type": "stream",
     "text": [
      "📂 D:\\DETECTION 1.0\\Celeb-DF\\Fake Frames\\id6_id9_0004 | Total frames: 458\n"
     ]
    },
    {
     "name": "stderr",
     "output_type": "stream",
     "text": [
      "Processing id6_id9_0004: 100%|██████████| 457/457 [00:07<00:00, 64.02it/s]\n"
     ]
    },
    {
     "name": "stdout",
     "output_type": "stream",
     "text": [
      "📂 D:\\DETECTION 1.0\\Celeb-DF\\Fake Frames\\id6_id9_0005 | Total frames: 372\n"
     ]
    },
    {
     "name": "stderr",
     "output_type": "stream",
     "text": [
      "Processing id6_id9_0005: 100%|██████████| 371/371 [00:04<00:00, 75.04it/s]\n"
     ]
    },
    {
     "name": "stdout",
     "output_type": "stream",
     "text": [
      "📂 D:\\DETECTION 1.0\\Celeb-DF\\Fake Frames\\id6_id9_0006 | Total frames: 294\n"
     ]
    },
    {
     "name": "stderr",
     "output_type": "stream",
     "text": [
      "Processing id6_id9_0006: 100%|██████████| 293/293 [00:04<00:00, 72.98it/s]\n"
     ]
    },
    {
     "name": "stdout",
     "output_type": "stream",
     "text": [
      "📂 D:\\DETECTION 1.0\\Celeb-DF\\Fake Frames\\id6_id9_0007 | Total frames: 557\n"
     ]
    },
    {
     "name": "stderr",
     "output_type": "stream",
     "text": [
      "Processing id6_id9_0007: 100%|██████████| 556/556 [00:07<00:00, 70.29it/s]\n"
     ]
    },
    {
     "name": "stdout",
     "output_type": "stream",
     "text": [
      "📂 D:\\DETECTION 1.0\\Celeb-DF\\Fake Frames\\id6_id9_0008 | Total frames: 381\n"
     ]
    },
    {
     "name": "stderr",
     "output_type": "stream",
     "text": [
      "Processing id6_id9_0008: 100%|██████████| 380/380 [00:05<00:00, 69.93it/s]\n"
     ]
    },
    {
     "name": "stdout",
     "output_type": "stream",
     "text": [
      "📂 D:\\DETECTION 1.0\\Celeb-DF\\Fake Frames\\id6_id9_0009 | Total frames: 530\n"
     ]
    },
    {
     "name": "stderr",
     "output_type": "stream",
     "text": [
      "Processing id6_id9_0009: 100%|██████████| 529/529 [00:07<00:00, 69.00it/s]\n"
     ]
    },
    {
     "name": "stdout",
     "output_type": "stream",
     "text": [
      "📂 D:\\DETECTION 1.0\\Celeb-DF\\Fake Frames\\id7_id10_0001 | Total frames: 295\n"
     ]
    },
    {
     "name": "stderr",
     "output_type": "stream",
     "text": [
      "Processing id7_id10_0001: 100%|██████████| 294/294 [00:04<00:00, 70.52it/s]\n"
     ]
    },
    {
     "name": "stdout",
     "output_type": "stream",
     "text": [
      "📂 D:\\DETECTION 1.0\\Celeb-DF\\Fake Frames\\id7_id10_0002 | Total frames: 270\n"
     ]
    },
    {
     "name": "stderr",
     "output_type": "stream",
     "text": [
      "Processing id7_id10_0002: 100%|██████████| 269/269 [00:03<00:00, 69.98it/s]\n"
     ]
    },
    {
     "name": "stdout",
     "output_type": "stream",
     "text": [
      "📂 D:\\DETECTION 1.0\\Celeb-DF\\Fake Frames\\id7_id10_0003 | Total frames: 555\n"
     ]
    },
    {
     "name": "stderr",
     "output_type": "stream",
     "text": [
      "Processing id7_id10_0003: 100%|██████████| 554/554 [00:08<00:00, 68.41it/s]\n"
     ]
    },
    {
     "name": "stdout",
     "output_type": "stream",
     "text": [
      "📂 D:\\DETECTION 1.0\\Celeb-DF\\Fake Frames\\id7_id10_0004 | Total frames: 740\n"
     ]
    },
    {
     "name": "stderr",
     "output_type": "stream",
     "text": [
      "Processing id7_id10_0004: 100%|██████████| 739/739 [00:10<00:00, 72.23it/s]\n"
     ]
    },
    {
     "name": "stdout",
     "output_type": "stream",
     "text": [
      "📂 D:\\DETECTION 1.0\\Celeb-DF\\Fake Frames\\id7_id10_0005 | Total frames: 161\n"
     ]
    },
    {
     "name": "stderr",
     "output_type": "stream",
     "text": [
      "Processing id7_id10_0005: 100%|██████████| 160/160 [00:02<00:00, 72.86it/s]\n"
     ]
    },
    {
     "name": "stdout",
     "output_type": "stream",
     "text": [
      "📂 D:\\DETECTION 1.0\\Celeb-DF\\Fake Frames\\id7_id10_0007 | Total frames: 415\n"
     ]
    },
    {
     "name": "stderr",
     "output_type": "stream",
     "text": [
      "Processing id7_id10_0007: 100%|██████████| 414/414 [00:05<00:00, 71.14it/s]\n"
     ]
    },
    {
     "name": "stdout",
     "output_type": "stream",
     "text": [
      "📂 D:\\DETECTION 1.0\\Celeb-DF\\Fake Frames\\id7_id10_0009 | Total frames: 458\n"
     ]
    },
    {
     "name": "stderr",
     "output_type": "stream",
     "text": [
      "Processing id7_id10_0009: 100%|██████████| 457/457 [00:06<00:00, 70.04it/s]\n"
     ]
    },
    {
     "name": "stdout",
     "output_type": "stream",
     "text": [
      "📂 D:\\DETECTION 1.0\\Celeb-DF\\Fake Frames\\id7_id11_0000 | Total frames: 280\n"
     ]
    },
    {
     "name": "stderr",
     "output_type": "stream",
     "text": [
      "Processing id7_id11_0000: 100%|██████████| 279/279 [00:04<00:00, 66.77it/s]\n"
     ]
    },
    {
     "name": "stdout",
     "output_type": "stream",
     "text": [
      "📂 D:\\DETECTION 1.0\\Celeb-DF\\Fake Frames\\id7_id11_0001 | Total frames: 295\n"
     ]
    },
    {
     "name": "stderr",
     "output_type": "stream",
     "text": [
      "Processing id7_id11_0001: 100%|██████████| 294/294 [00:04<00:00, 64.35it/s]\n"
     ]
    },
    {
     "name": "stdout",
     "output_type": "stream",
     "text": [
      "📂 D:\\DETECTION 1.0\\Celeb-DF\\Fake Frames\\id7_id11_0002 | Total frames: 270\n"
     ]
    },
    {
     "name": "stderr",
     "output_type": "stream",
     "text": [
      "Processing id7_id11_0002: 100%|██████████| 269/269 [00:04<00:00, 64.98it/s]\n"
     ]
    },
    {
     "name": "stdout",
     "output_type": "stream",
     "text": [
      "📂 D:\\DETECTION 1.0\\Celeb-DF\\Fake Frames\\id7_id11_0004 | Total frames: 740\n"
     ]
    },
    {
     "name": "stderr",
     "output_type": "stream",
     "text": [
      "Processing id7_id11_0004: 100%|██████████| 739/739 [00:10<00:00, 70.91it/s]\n"
     ]
    },
    {
     "name": "stdout",
     "output_type": "stream",
     "text": [
      "📂 D:\\DETECTION 1.0\\Celeb-DF\\Fake Frames\\id7_id11_0005 | Total frames: 161\n"
     ]
    },
    {
     "name": "stderr",
     "output_type": "stream",
     "text": [
      "Processing id7_id11_0005: 100%|██████████| 160/160 [00:02<00:00, 74.12it/s]\n"
     ]
    },
    {
     "name": "stdout",
     "output_type": "stream",
     "text": [
      "📂 D:\\DETECTION 1.0\\Celeb-DF\\Fake Frames\\id7_id11_0006 | Total frames: 214\n"
     ]
    },
    {
     "name": "stderr",
     "output_type": "stream",
     "text": [
      "Processing id7_id11_0006: 100%|██████████| 213/213 [00:03<00:00, 70.53it/s]\n"
     ]
    },
    {
     "name": "stdout",
     "output_type": "stream",
     "text": [
      "📂 D:\\DETECTION 1.0\\Celeb-DF\\Fake Frames\\id7_id11_0007 | Total frames: 415\n"
     ]
    },
    {
     "name": "stderr",
     "output_type": "stream",
     "text": [
      "Processing id7_id11_0007: 100%|██████████| 414/414 [00:06<00:00, 66.96it/s]\n"
     ]
    },
    {
     "name": "stdout",
     "output_type": "stream",
     "text": [
      "📂 D:\\DETECTION 1.0\\Celeb-DF\\Fake Frames\\id7_id11_0009 | Total frames: 458\n"
     ]
    },
    {
     "name": "stderr",
     "output_type": "stream",
     "text": [
      "Processing id7_id11_0009: 100%|██████████| 457/457 [00:06<00:00, 66.62it/s]\n"
     ]
    },
    {
     "name": "stdout",
     "output_type": "stream",
     "text": [
      "📂 D:\\DETECTION 1.0\\Celeb-DF\\Fake Frames\\id7_id12_0000 | Total frames: 280\n"
     ]
    },
    {
     "name": "stderr",
     "output_type": "stream",
     "text": [
      "Processing id7_id12_0000: 100%|██████████| 279/279 [00:04<00:00, 66.77it/s]\n"
     ]
    },
    {
     "name": "stdout",
     "output_type": "stream",
     "text": [
      "📂 D:\\DETECTION 1.0\\Celeb-DF\\Fake Frames\\id7_id12_0002 | Total frames: 270\n"
     ]
    },
    {
     "name": "stderr",
     "output_type": "stream",
     "text": [
      "Processing id7_id12_0002: 100%|██████████| 269/269 [00:04<00:00, 64.94it/s]\n"
     ]
    },
    {
     "name": "stdout",
     "output_type": "stream",
     "text": [
      "📂 D:\\DETECTION 1.0\\Celeb-DF\\Fake Frames\\id7_id12_0004 | Total frames: 740\n"
     ]
    },
    {
     "name": "stderr",
     "output_type": "stream",
     "text": [
      "Processing id7_id12_0004: 100%|██████████| 739/739 [00:11<00:00, 65.98it/s]\n"
     ]
    },
    {
     "name": "stdout",
     "output_type": "stream",
     "text": [
      "📂 D:\\DETECTION 1.0\\Celeb-DF\\Fake Frames\\id7_id12_0005 | Total frames: 161\n"
     ]
    },
    {
     "name": "stderr",
     "output_type": "stream",
     "text": [
      "Processing id7_id12_0005: 100%|██████████| 160/160 [00:02<00:00, 71.64it/s]\n"
     ]
    },
    {
     "name": "stdout",
     "output_type": "stream",
     "text": [
      "📂 D:\\DETECTION 1.0\\Celeb-DF\\Fake Frames\\id7_id12_0007 | Total frames: 415\n"
     ]
    },
    {
     "name": "stderr",
     "output_type": "stream",
     "text": [
      "Processing id7_id12_0007: 100%|██████████| 414/414 [00:06<00:00, 64.96it/s]\n"
     ]
    },
    {
     "name": "stdout",
     "output_type": "stream",
     "text": [
      "📂 D:\\DETECTION 1.0\\Celeb-DF\\Fake Frames\\id7_id12_0009 | Total frames: 458\n"
     ]
    },
    {
     "name": "stderr",
     "output_type": "stream",
     "text": [
      "Processing id7_id12_0009: 100%|██████████| 457/457 [00:07<00:00, 65.10it/s]\n"
     ]
    },
    {
     "name": "stdout",
     "output_type": "stream",
     "text": [
      "📂 D:\\DETECTION 1.0\\Celeb-DF\\Fake Frames\\id7_id13_0000 | Total frames: 280\n"
     ]
    },
    {
     "name": "stderr",
     "output_type": "stream",
     "text": [
      "Processing id7_id13_0000: 100%|██████████| 279/279 [00:04<00:00, 67.42it/s]\n"
     ]
    },
    {
     "name": "stdout",
     "output_type": "stream",
     "text": [
      "📂 D:\\DETECTION 1.0\\Celeb-DF\\Fake Frames\\id7_id13_0001 | Total frames: 295\n"
     ]
    },
    {
     "name": "stderr",
     "output_type": "stream",
     "text": [
      "Processing id7_id13_0001: 100%|██████████| 294/294 [00:04<00:00, 63.13it/s]\n"
     ]
    },
    {
     "name": "stdout",
     "output_type": "stream",
     "text": [
      "📂 D:\\DETECTION 1.0\\Celeb-DF\\Fake Frames\\id7_id13_0002 | Total frames: 270\n"
     ]
    },
    {
     "name": "stderr",
     "output_type": "stream",
     "text": [
      "Processing id7_id13_0002: 100%|██████████| 269/269 [00:04<00:00, 62.80it/s]\n"
     ]
    },
    {
     "name": "stdout",
     "output_type": "stream",
     "text": [
      "📂 D:\\DETECTION 1.0\\Celeb-DF\\Fake Frames\\id7_id13_0004 | Total frames: 740\n"
     ]
    },
    {
     "name": "stderr",
     "output_type": "stream",
     "text": [
      "Processing id7_id13_0004: 100%|██████████| 739/739 [00:10<00:00, 71.29it/s]\n"
     ]
    },
    {
     "name": "stdout",
     "output_type": "stream",
     "text": [
      "📂 D:\\DETECTION 1.0\\Celeb-DF\\Fake Frames\\id7_id13_0005 | Total frames: 161\n"
     ]
    },
    {
     "name": "stderr",
     "output_type": "stream",
     "text": [
      "Processing id7_id13_0005: 100%|██████████| 160/160 [00:02<00:00, 73.32it/s]\n"
     ]
    },
    {
     "name": "stdout",
     "output_type": "stream",
     "text": [
      "📂 D:\\DETECTION 1.0\\Celeb-DF\\Fake Frames\\id7_id13_0006 | Total frames: 214\n"
     ]
    },
    {
     "name": "stderr",
     "output_type": "stream",
     "text": [
      "Processing id7_id13_0006: 100%|██████████| 213/213 [00:03<00:00, 70.92it/s]\n"
     ]
    },
    {
     "name": "stdout",
     "output_type": "stream",
     "text": [
      "📂 D:\\DETECTION 1.0\\Celeb-DF\\Fake Frames\\id7_id13_0007 | Total frames: 415\n"
     ]
    },
    {
     "name": "stderr",
     "output_type": "stream",
     "text": [
      "Processing id7_id13_0007: 100%|██████████| 414/414 [00:05<00:00, 70.35it/s]\n"
     ]
    },
    {
     "name": "stdout",
     "output_type": "stream",
     "text": [
      "📂 D:\\DETECTION 1.0\\Celeb-DF\\Fake Frames\\id7_id13_0009 | Total frames: 458\n"
     ]
    },
    {
     "name": "stderr",
     "output_type": "stream",
     "text": [
      "Processing id7_id13_0009: 100%|██████████| 457/457 [00:06<00:00, 70.37it/s]\n"
     ]
    },
    {
     "name": "stdout",
     "output_type": "stream",
     "text": [
      "📂 D:\\DETECTION 1.0\\Celeb-DF\\Fake Frames\\id8_id0_0002 | Total frames: 525\n"
     ]
    },
    {
     "name": "stderr",
     "output_type": "stream",
     "text": [
      "Processing id8_id0_0002: 100%|██████████| 524/524 [00:07<00:00, 74.81it/s]\n"
     ]
    },
    {
     "name": "stdout",
     "output_type": "stream",
     "text": [
      "📂 D:\\DETECTION 1.0\\Celeb-DF\\Fake Frames\\id8_id0_0003 | Total frames: 399\n"
     ]
    },
    {
     "name": "stderr",
     "output_type": "stream",
     "text": [
      "Processing id8_id0_0003: 100%|██████████| 398/398 [00:05<00:00, 71.80it/s]\n"
     ]
    },
    {
     "name": "stdout",
     "output_type": "stream",
     "text": [
      "📂 D:\\DETECTION 1.0\\Celeb-DF\\Fake Frames\\id8_id0_0007 | Total frames: 387\n"
     ]
    },
    {
     "name": "stderr",
     "output_type": "stream",
     "text": [
      "Processing id8_id0_0007: 100%|██████████| 386/386 [00:05<00:00, 68.10it/s]\n"
     ]
    },
    {
     "name": "stdout",
     "output_type": "stream",
     "text": [
      "📂 D:\\DETECTION 1.0\\Celeb-DF\\Fake Frames\\id8_id0_0008 | Total frames: 570\n"
     ]
    },
    {
     "name": "stderr",
     "output_type": "stream",
     "text": [
      "Processing id8_id0_0008: 100%|██████████| 569/569 [00:07<00:00, 72.09it/s]\n"
     ]
    },
    {
     "name": "stdout",
     "output_type": "stream",
     "text": [
      "📂 D:\\DETECTION 1.0\\Celeb-DF\\Fake Frames\\id8_id1_0002 | Total frames: 525\n"
     ]
    },
    {
     "name": "stderr",
     "output_type": "stream",
     "text": [
      "Processing id8_id1_0002: 100%|██████████| 524/524 [00:07<00:00, 72.85it/s]\n"
     ]
    },
    {
     "name": "stdout",
     "output_type": "stream",
     "text": [
      "📂 D:\\DETECTION 1.0\\Celeb-DF\\Fake Frames\\id8_id1_0003 | Total frames: 399\n"
     ]
    },
    {
     "name": "stderr",
     "output_type": "stream",
     "text": [
      "Processing id8_id1_0003: 100%|██████████| 398/398 [00:05<00:00, 71.61it/s]\n"
     ]
    },
    {
     "name": "stdout",
     "output_type": "stream",
     "text": [
      "📂 D:\\DETECTION 1.0\\Celeb-DF\\Fake Frames\\id8_id1_0007 | Total frames: 387\n"
     ]
    },
    {
     "name": "stderr",
     "output_type": "stream",
     "text": [
      "Processing id8_id1_0007: 100%|██████████| 386/386 [00:05<00:00, 69.69it/s]\n"
     ]
    },
    {
     "name": "stdout",
     "output_type": "stream",
     "text": [
      "📂 D:\\DETECTION 1.0\\Celeb-DF\\Fake Frames\\id8_id1_0008 | Total frames: 570\n"
     ]
    },
    {
     "name": "stderr",
     "output_type": "stream",
     "text": [
      "Processing id8_id1_0008: 100%|██████████| 569/569 [00:08<00:00, 70.98it/s]\n"
     ]
    },
    {
     "name": "stdout",
     "output_type": "stream",
     "text": [
      "📂 D:\\DETECTION 1.0\\Celeb-DF\\Fake Frames\\id8_id2_0002 | Total frames: 525\n"
     ]
    },
    {
     "name": "stderr",
     "output_type": "stream",
     "text": [
      "Processing id8_id2_0002: 100%|██████████| 524/524 [00:07<00:00, 71.62it/s]\n"
     ]
    },
    {
     "name": "stdout",
     "output_type": "stream",
     "text": [
      "📂 D:\\DETECTION 1.0\\Celeb-DF\\Fake Frames\\id8_id2_0003 | Total frames: 399\n"
     ]
    },
    {
     "name": "stderr",
     "output_type": "stream",
     "text": [
      "Processing id8_id2_0003: 100%|██████████| 398/398 [00:05<00:00, 70.42it/s]\n"
     ]
    },
    {
     "name": "stdout",
     "output_type": "stream",
     "text": [
      "📂 D:\\DETECTION 1.0\\Celeb-DF\\Fake Frames\\id8_id2_0007 | Total frames: 387\n"
     ]
    },
    {
     "name": "stderr",
     "output_type": "stream",
     "text": [
      "Processing id8_id2_0007: 100%|██████████| 386/386 [00:05<00:00, 69.00it/s]\n"
     ]
    },
    {
     "name": "stdout",
     "output_type": "stream",
     "text": [
      "📂 D:\\DETECTION 1.0\\Celeb-DF\\Fake Frames\\id8_id2_0008 | Total frames: 570\n"
     ]
    },
    {
     "name": "stderr",
     "output_type": "stream",
     "text": [
      "Processing id8_id2_0008: 100%|██████████| 569/569 [00:08<00:00, 70.38it/s]\n"
     ]
    },
    {
     "name": "stdout",
     "output_type": "stream",
     "text": [
      "📂 D:\\DETECTION 1.0\\Celeb-DF\\Fake Frames\\id8_id3_0002 | Total frames: 525\n"
     ]
    },
    {
     "name": "stderr",
     "output_type": "stream",
     "text": [
      "Processing id8_id3_0002: 100%|██████████| 524/524 [00:07<00:00, 71.13it/s]\n"
     ]
    },
    {
     "name": "stdout",
     "output_type": "stream",
     "text": [
      "📂 D:\\DETECTION 1.0\\Celeb-DF\\Fake Frames\\id8_id3_0003 | Total frames: 399\n"
     ]
    },
    {
     "name": "stderr",
     "output_type": "stream",
     "text": [
      "Processing id8_id3_0003: 100%|██████████| 398/398 [00:05<00:00, 66.90it/s]\n"
     ]
    },
    {
     "name": "stdout",
     "output_type": "stream",
     "text": [
      "📂 D:\\DETECTION 1.0\\Celeb-DF\\Fake Frames\\id8_id3_0007 | Total frames: 387\n"
     ]
    },
    {
     "name": "stderr",
     "output_type": "stream",
     "text": [
      "Processing id8_id3_0007: 100%|██████████| 386/386 [00:05<00:00, 65.20it/s]\n"
     ]
    },
    {
     "name": "stdout",
     "output_type": "stream",
     "text": [
      "📂 D:\\DETECTION 1.0\\Celeb-DF\\Fake Frames\\id8_id3_0008 | Total frames: 570\n"
     ]
    },
    {
     "name": "stderr",
     "output_type": "stream",
     "text": [
      "Processing id8_id3_0008: 100%|██████████| 569/569 [00:08<00:00, 67.32it/s]\n"
     ]
    },
    {
     "name": "stdout",
     "output_type": "stream",
     "text": [
      "📂 D:\\DETECTION 1.0\\Celeb-DF\\Fake Frames\\id8_id4_0007 | Total frames: 387\n"
     ]
    },
    {
     "name": "stderr",
     "output_type": "stream",
     "text": [
      "Processing id8_id4_0007: 100%|██████████| 386/386 [00:05<00:00, 71.04it/s]\n"
     ]
    },
    {
     "name": "stdout",
     "output_type": "stream",
     "text": [
      "📂 D:\\DETECTION 1.0\\Celeb-DF\\Fake Frames\\id8_id5_0002 | Total frames: 525\n"
     ]
    },
    {
     "name": "stderr",
     "output_type": "stream",
     "text": [
      "Processing id8_id5_0002: 100%|██████████| 524/524 [00:07<00:00, 67.66it/s]\n"
     ]
    },
    {
     "name": "stdout",
     "output_type": "stream",
     "text": [
      "📂 D:\\DETECTION 1.0\\Celeb-DF\\Fake Frames\\id8_id5_0003 | Total frames: 399\n"
     ]
    },
    {
     "name": "stderr",
     "output_type": "stream",
     "text": [
      "Processing id8_id5_0003: 100%|██████████| 398/398 [00:06<00:00, 57.39it/s]\n"
     ]
    },
    {
     "name": "stdout",
     "output_type": "stream",
     "text": [
      "📂 D:\\DETECTION 1.0\\Celeb-DF\\Fake Frames\\id8_id5_0007 | Total frames: 387\n"
     ]
    },
    {
     "name": "stderr",
     "output_type": "stream",
     "text": [
      "Processing id8_id5_0007: 100%|██████████| 386/386 [00:05<00:00, 71.36it/s]\n"
     ]
    },
    {
     "name": "stdout",
     "output_type": "stream",
     "text": [
      "📂 D:\\DETECTION 1.0\\Celeb-DF\\Fake Frames\\id8_id5_0008 | Total frames: 570\n"
     ]
    },
    {
     "name": "stderr",
     "output_type": "stream",
     "text": [
      "Processing id8_id5_0008: 100%|██████████| 569/569 [00:08<00:00, 65.80it/s]\n"
     ]
    },
    {
     "name": "stdout",
     "output_type": "stream",
     "text": [
      "📂 D:\\DETECTION 1.0\\Celeb-DF\\Fake Frames\\id8_id6_0002 | Total frames: 525\n"
     ]
    },
    {
     "name": "stderr",
     "output_type": "stream",
     "text": [
      "Processing id8_id6_0002: 100%|██████████| 524/524 [00:06<00:00, 74.93it/s]\n"
     ]
    },
    {
     "name": "stdout",
     "output_type": "stream",
     "text": [
      "📂 D:\\DETECTION 1.0\\Celeb-DF\\Fake Frames\\id8_id6_0003 | Total frames: 399\n"
     ]
    },
    {
     "name": "stderr",
     "output_type": "stream",
     "text": [
      "Processing id8_id6_0003: 100%|██████████| 398/398 [00:05<00:00, 73.98it/s]\n"
     ]
    },
    {
     "name": "stdout",
     "output_type": "stream",
     "text": [
      "📂 D:\\DETECTION 1.0\\Celeb-DF\\Fake Frames\\id8_id6_0007 | Total frames: 387\n"
     ]
    },
    {
     "name": "stderr",
     "output_type": "stream",
     "text": [
      "Processing id8_id6_0007: 100%|██████████| 386/386 [00:05<00:00, 69.15it/s]\n"
     ]
    },
    {
     "name": "stdout",
     "output_type": "stream",
     "text": [
      "📂 D:\\DETECTION 1.0\\Celeb-DF\\Fake Frames\\id8_id6_0008 | Total frames: 570\n"
     ]
    },
    {
     "name": "stderr",
     "output_type": "stream",
     "text": [
      "Processing id8_id6_0008: 100%|██████████| 569/569 [00:07<00:00, 71.58it/s]\n"
     ]
    },
    {
     "name": "stdout",
     "output_type": "stream",
     "text": [
      "📂 D:\\DETECTION 1.0\\Celeb-DF\\Fake Frames\\id8_id7_0002 | Total frames: 525\n"
     ]
    },
    {
     "name": "stderr",
     "output_type": "stream",
     "text": [
      "Processing id8_id7_0002: 100%|██████████| 524/524 [00:07<00:00, 73.06it/s]\n"
     ]
    },
    {
     "name": "stdout",
     "output_type": "stream",
     "text": [
      "📂 D:\\DETECTION 1.0\\Celeb-DF\\Fake Frames\\id8_id7_0003 | Total frames: 399\n"
     ]
    },
    {
     "name": "stderr",
     "output_type": "stream",
     "text": [
      "Processing id8_id7_0003: 100%|██████████| 398/398 [00:05<00:00, 73.43it/s]\n"
     ]
    },
    {
     "name": "stdout",
     "output_type": "stream",
     "text": [
      "📂 D:\\DETECTION 1.0\\Celeb-DF\\Fake Frames\\id8_id7_0007 | Total frames: 387\n"
     ]
    },
    {
     "name": "stderr",
     "output_type": "stream",
     "text": [
      "Processing id8_id7_0007: 100%|██████████| 386/386 [00:05<00:00, 71.81it/s]\n"
     ]
    },
    {
     "name": "stdout",
     "output_type": "stream",
     "text": [
      "📂 D:\\DETECTION 1.0\\Celeb-DF\\Fake Frames\\id8_id7_0008 | Total frames: 570\n"
     ]
    },
    {
     "name": "stderr",
     "output_type": "stream",
     "text": [
      "Processing id8_id7_0008: 100%|██████████| 569/569 [00:07<00:00, 72.84it/s]\n"
     ]
    },
    {
     "name": "stdout",
     "output_type": "stream",
     "text": [
      "📂 D:\\DETECTION 1.0\\Celeb-DF\\Fake Frames\\id8_id9_0002 | Total frames: 525\n"
     ]
    },
    {
     "name": "stderr",
     "output_type": "stream",
     "text": [
      "Processing id8_id9_0002: 100%|██████████| 524/524 [00:07<00:00, 72.35it/s]\n"
     ]
    },
    {
     "name": "stdout",
     "output_type": "stream",
     "text": [
      "📂 D:\\DETECTION 1.0\\Celeb-DF\\Fake Frames\\id8_id9_0003 | Total frames: 399\n"
     ]
    },
    {
     "name": "stderr",
     "output_type": "stream",
     "text": [
      "Processing id8_id9_0003: 100%|██████████| 398/398 [00:05<00:00, 69.54it/s]\n"
     ]
    },
    {
     "name": "stdout",
     "output_type": "stream",
     "text": [
      "📂 D:\\DETECTION 1.0\\Celeb-DF\\Fake Frames\\id8_id9_0007 | Total frames: 387\n"
     ]
    },
    {
     "name": "stderr",
     "output_type": "stream",
     "text": [
      "Processing id8_id9_0007: 100%|██████████| 386/386 [00:05<00:00, 67.23it/s]\n"
     ]
    },
    {
     "name": "stdout",
     "output_type": "stream",
     "text": [
      "📂 D:\\DETECTION 1.0\\Celeb-DF\\Fake Frames\\id8_id9_0008 | Total frames: 570\n"
     ]
    },
    {
     "name": "stderr",
     "output_type": "stream",
     "text": [
      "Processing id8_id9_0008: 100%|██████████| 569/569 [00:08<00:00, 70.70it/s]\n"
     ]
    },
    {
     "name": "stdout",
     "output_type": "stream",
     "text": [
      "📂 D:\\DETECTION 1.0\\Celeb-DF\\Fake Frames\\id9_id0_0000 | Total frames: 448\n"
     ]
    },
    {
     "name": "stderr",
     "output_type": "stream",
     "text": [
      "Processing id9_id0_0000: 100%|██████████| 447/447 [00:06<00:00, 70.92it/s]\n"
     ]
    },
    {
     "name": "stdout",
     "output_type": "stream",
     "text": [
      "📂 D:\\DETECTION 1.0\\Celeb-DF\\Fake Frames\\id9_id0_0001 | Total frames: 437\n"
     ]
    },
    {
     "name": "stderr",
     "output_type": "stream",
     "text": [
      "Processing id9_id0_0001: 100%|██████████| 436/436 [00:06<00:00, 70.89it/s]\n"
     ]
    },
    {
     "name": "stdout",
     "output_type": "stream",
     "text": [
      "📂 D:\\DETECTION 1.0\\Celeb-DF\\Fake Frames\\id9_id0_0003 | Total frames: 492\n"
     ]
    },
    {
     "name": "stderr",
     "output_type": "stream",
     "text": [
      "Processing id9_id0_0003: 100%|██████████| 491/491 [00:06<00:00, 72.67it/s]\n"
     ]
    },
    {
     "name": "stdout",
     "output_type": "stream",
     "text": [
      "📂 D:\\DETECTION 1.0\\Celeb-DF\\Fake Frames\\id9_id0_0004 | Total frames: 362\n"
     ]
    },
    {
     "name": "stderr",
     "output_type": "stream",
     "text": [
      "Processing id9_id0_0004: 100%|██████████| 361/361 [00:05<00:00, 70.60it/s]\n"
     ]
    },
    {
     "name": "stdout",
     "output_type": "stream",
     "text": [
      "📂 D:\\DETECTION 1.0\\Celeb-DF\\Fake Frames\\id9_id0_0005 | Total frames: 420\n"
     ]
    },
    {
     "name": "stderr",
     "output_type": "stream",
     "text": [
      "Processing id9_id0_0005: 100%|██████████| 419/419 [00:06<00:00, 69.21it/s]\n"
     ]
    },
    {
     "name": "stdout",
     "output_type": "stream",
     "text": [
      "📂 D:\\DETECTION 1.0\\Celeb-DF\\Fake Frames\\id9_id0_0006 | Total frames: 401\n"
     ]
    },
    {
     "name": "stderr",
     "output_type": "stream",
     "text": [
      "Processing id9_id0_0006: 100%|██████████| 400/400 [00:05<00:00, 70.90it/s]\n"
     ]
    },
    {
     "name": "stdout",
     "output_type": "stream",
     "text": [
      "📂 D:\\DETECTION 1.0\\Celeb-DF\\Fake Frames\\id9_id0_0007 | Total frames: 456\n"
     ]
    },
    {
     "name": "stderr",
     "output_type": "stream",
     "text": [
      "Processing id9_id0_0007: 100%|██████████| 455/455 [00:06<00:00, 73.55it/s]\n"
     ]
    },
    {
     "name": "stdout",
     "output_type": "stream",
     "text": [
      "📂 D:\\DETECTION 1.0\\Celeb-DF\\Fake Frames\\id9_id0_0008 | Total frames: 461\n"
     ]
    },
    {
     "name": "stderr",
     "output_type": "stream",
     "text": [
      "Processing id9_id0_0008: 100%|██████████| 460/460 [00:06<00:00, 73.07it/s]\n"
     ]
    },
    {
     "name": "stdout",
     "output_type": "stream",
     "text": [
      "📂 D:\\DETECTION 1.0\\Celeb-DF\\Fake Frames\\id9_id0_0009 | Total frames: 314\n"
     ]
    },
    {
     "name": "stderr",
     "output_type": "stream",
     "text": [
      "Processing id9_id0_0009: 100%|██████████| 313/313 [00:04<00:00, 71.52it/s]\n"
     ]
    },
    {
     "name": "stdout",
     "output_type": "stream",
     "text": [
      "📂 D:\\DETECTION 1.0\\Celeb-DF\\Fake Frames\\id9_id16_0000 | Total frames: 448\n"
     ]
    },
    {
     "name": "stderr",
     "output_type": "stream",
     "text": [
      "Processing id9_id16_0000: 100%|██████████| 447/447 [00:06<00:00, 70.66it/s]\n"
     ]
    },
    {
     "name": "stdout",
     "output_type": "stream",
     "text": [
      "📂 D:\\DETECTION 1.0\\Celeb-DF\\Fake Frames\\id9_id16_0001 | Total frames: 437\n"
     ]
    },
    {
     "name": "stderr",
     "output_type": "stream",
     "text": [
      "Processing id9_id16_0001: 100%|██████████| 436/436 [00:06<00:00, 70.27it/s]\n"
     ]
    },
    {
     "name": "stdout",
     "output_type": "stream",
     "text": [
      "📂 D:\\DETECTION 1.0\\Celeb-DF\\Fake Frames\\id9_id16_0002 | Total frames: 364\n"
     ]
    },
    {
     "name": "stderr",
     "output_type": "stream",
     "text": [
      "Processing id9_id16_0002: 100%|██████████| 363/363 [00:05<00:00, 71.42it/s]\n"
     ]
    },
    {
     "name": "stdout",
     "output_type": "stream",
     "text": [
      "📂 D:\\DETECTION 1.0\\Celeb-DF\\Fake Frames\\id9_id16_0003 | Total frames: 492\n"
     ]
    },
    {
     "name": "stderr",
     "output_type": "stream",
     "text": [
      "Processing id9_id16_0003: 100%|██████████| 491/491 [00:06<00:00, 72.25it/s]\n"
     ]
    },
    {
     "name": "stdout",
     "output_type": "stream",
     "text": [
      "📂 D:\\DETECTION 1.0\\Celeb-DF\\Fake Frames\\id9_id16_0004 | Total frames: 362\n"
     ]
    },
    {
     "name": "stderr",
     "output_type": "stream",
     "text": [
      "Processing id9_id16_0004: 100%|██████████| 361/361 [00:05<00:00, 69.34it/s]\n"
     ]
    },
    {
     "name": "stdout",
     "output_type": "stream",
     "text": [
      "📂 D:\\DETECTION 1.0\\Celeb-DF\\Fake Frames\\id9_id16_0005 | Total frames: 420\n"
     ]
    },
    {
     "name": "stderr",
     "output_type": "stream",
     "text": [
      "Processing id9_id16_0005: 100%|██████████| 419/419 [00:06<00:00, 68.24it/s]\n"
     ]
    },
    {
     "name": "stdout",
     "output_type": "stream",
     "text": [
      "📂 D:\\DETECTION 1.0\\Celeb-DF\\Fake Frames\\id9_id16_0006 | Total frames: 401\n"
     ]
    },
    {
     "name": "stderr",
     "output_type": "stream",
     "text": [
      "Processing id9_id16_0006: 100%|██████████| 400/400 [00:05<00:00, 71.28it/s]\n"
     ]
    },
    {
     "name": "stdout",
     "output_type": "stream",
     "text": [
      "📂 D:\\DETECTION 1.0\\Celeb-DF\\Fake Frames\\id9_id16_0007 | Total frames: 456\n"
     ]
    },
    {
     "name": "stderr",
     "output_type": "stream",
     "text": [
      "Processing id9_id16_0007: 100%|██████████| 455/455 [00:06<00:00, 72.74it/s]\n"
     ]
    },
    {
     "name": "stdout",
     "output_type": "stream",
     "text": [
      "📂 D:\\DETECTION 1.0\\Celeb-DF\\Fake Frames\\id9_id16_0008 | Total frames: 461\n"
     ]
    },
    {
     "name": "stderr",
     "output_type": "stream",
     "text": [
      "Processing id9_id16_0008: 100%|██████████| 460/460 [00:06<00:00, 71.42it/s]\n"
     ]
    },
    {
     "name": "stdout",
     "output_type": "stream",
     "text": [
      "📂 D:\\DETECTION 1.0\\Celeb-DF\\Fake Frames\\id9_id16_0009 | Total frames: 314\n"
     ]
    },
    {
     "name": "stderr",
     "output_type": "stream",
     "text": [
      "Processing id9_id16_0009: 100%|██████████| 313/313 [00:04<00:00, 70.96it/s]\n"
     ]
    },
    {
     "name": "stdout",
     "output_type": "stream",
     "text": [
      "📂 D:\\DETECTION 1.0\\Celeb-DF\\Fake Frames\\id9_id17_0000 | Total frames: 448\n"
     ]
    },
    {
     "name": "stderr",
     "output_type": "stream",
     "text": [
      "Processing id9_id17_0000: 100%|██████████| 447/447 [00:06<00:00, 68.52it/s]\n"
     ]
    },
    {
     "name": "stdout",
     "output_type": "stream",
     "text": [
      "📂 D:\\DETECTION 1.0\\Celeb-DF\\Fake Frames\\id9_id17_0001 | Total frames: 437\n"
     ]
    },
    {
     "name": "stderr",
     "output_type": "stream",
     "text": [
      "Processing id9_id17_0001: 100%|██████████| 436/436 [00:06<00:00, 71.63it/s]\n"
     ]
    },
    {
     "name": "stdout",
     "output_type": "stream",
     "text": [
      "📂 D:\\DETECTION 1.0\\Celeb-DF\\Fake Frames\\id9_id17_0002 | Total frames: 364\n"
     ]
    },
    {
     "name": "stderr",
     "output_type": "stream",
     "text": [
      "Processing id9_id17_0002: 100%|██████████| 363/363 [00:05<00:00, 68.91it/s]\n"
     ]
    },
    {
     "name": "stdout",
     "output_type": "stream",
     "text": [
      "📂 D:\\DETECTION 1.0\\Celeb-DF\\Fake Frames\\id9_id17_0003 | Total frames: 492\n"
     ]
    },
    {
     "name": "stderr",
     "output_type": "stream",
     "text": [
      "Processing id9_id17_0003: 100%|██████████| 491/491 [00:07<00:00, 69.47it/s]\n"
     ]
    },
    {
     "name": "stdout",
     "output_type": "stream",
     "text": [
      "📂 D:\\DETECTION 1.0\\Celeb-DF\\Fake Frames\\id9_id17_0004 | Total frames: 362\n"
     ]
    },
    {
     "name": "stderr",
     "output_type": "stream",
     "text": [
      "Processing id9_id17_0004: 100%|██████████| 361/361 [00:05<00:00, 70.25it/s]\n"
     ]
    },
    {
     "name": "stdout",
     "output_type": "stream",
     "text": [
      "📂 D:\\DETECTION 1.0\\Celeb-DF\\Fake Frames\\id9_id17_0005 | Total frames: 420\n"
     ]
    },
    {
     "name": "stderr",
     "output_type": "stream",
     "text": [
      "Processing id9_id17_0005: 100%|██████████| 419/419 [00:05<00:00, 70.75it/s]\n"
     ]
    },
    {
     "name": "stdout",
     "output_type": "stream",
     "text": [
      "📂 D:\\DETECTION 1.0\\Celeb-DF\\Fake Frames\\id9_id17_0006 | Total frames: 401\n"
     ]
    },
    {
     "name": "stderr",
     "output_type": "stream",
     "text": [
      "Processing id9_id17_0006: 100%|██████████| 400/400 [00:05<00:00, 70.05it/s]\n"
     ]
    },
    {
     "name": "stdout",
     "output_type": "stream",
     "text": [
      "📂 D:\\DETECTION 1.0\\Celeb-DF\\Fake Frames\\id9_id17_0007 | Total frames: 456\n"
     ]
    },
    {
     "name": "stderr",
     "output_type": "stream",
     "text": [
      "Processing id9_id17_0007: 100%|██████████| 455/455 [00:06<00:00, 72.13it/s]\n"
     ]
    },
    {
     "name": "stdout",
     "output_type": "stream",
     "text": [
      "📂 D:\\DETECTION 1.0\\Celeb-DF\\Fake Frames\\id9_id17_0008 | Total frames: 461\n"
     ]
    },
    {
     "name": "stderr",
     "output_type": "stream",
     "text": [
      "Processing id9_id17_0008: 100%|██████████| 460/460 [00:06<00:00, 71.16it/s]\n"
     ]
    },
    {
     "name": "stdout",
     "output_type": "stream",
     "text": [
      "📂 D:\\DETECTION 1.0\\Celeb-DF\\Fake Frames\\id9_id17_0009 | Total frames: 314\n"
     ]
    },
    {
     "name": "stderr",
     "output_type": "stream",
     "text": [
      "Processing id9_id17_0009: 100%|██████████| 313/313 [00:04<00:00, 70.98it/s]\n"
     ]
    },
    {
     "name": "stdout",
     "output_type": "stream",
     "text": [
      "📂 D:\\DETECTION 1.0\\Celeb-DF\\Fake Frames\\id9_id1_0000 | Total frames: 448\n"
     ]
    },
    {
     "name": "stderr",
     "output_type": "stream",
     "text": [
      "Processing id9_id1_0000: 100%|██████████| 447/447 [00:06<00:00, 65.98it/s]\n"
     ]
    },
    {
     "name": "stdout",
     "output_type": "stream",
     "text": [
      "📂 D:\\DETECTION 1.0\\Celeb-DF\\Fake Frames\\id9_id1_0001 | Total frames: 437\n"
     ]
    },
    {
     "name": "stderr",
     "output_type": "stream",
     "text": [
      "Processing id9_id1_0001: 100%|██████████| 436/436 [00:06<00:00, 69.10it/s]\n"
     ]
    },
    {
     "name": "stdout",
     "output_type": "stream",
     "text": [
      "📂 D:\\DETECTION 1.0\\Celeb-DF\\Fake Frames\\id9_id1_0002 | Total frames: 364\n"
     ]
    },
    {
     "name": "stderr",
     "output_type": "stream",
     "text": [
      "Processing id9_id1_0002: 100%|██████████| 363/363 [00:05<00:00, 69.27it/s]\n"
     ]
    },
    {
     "name": "stdout",
     "output_type": "stream",
     "text": [
      "📂 D:\\DETECTION 1.0\\Celeb-DF\\Fake Frames\\id9_id1_0004 | Total frames: 362\n"
     ]
    },
    {
     "name": "stderr",
     "output_type": "stream",
     "text": [
      "Processing id9_id1_0004: 100%|██████████| 361/361 [00:05<00:00, 66.26it/s]\n"
     ]
    },
    {
     "name": "stdout",
     "output_type": "stream",
     "text": [
      "📂 D:\\DETECTION 1.0\\Celeb-DF\\Fake Frames\\id9_id1_0005 | Total frames: 420\n"
     ]
    },
    {
     "name": "stderr",
     "output_type": "stream",
     "text": [
      "Processing id9_id1_0005: 100%|██████████| 419/419 [00:06<00:00, 66.21it/s]\n"
     ]
    },
    {
     "name": "stdout",
     "output_type": "stream",
     "text": [
      "📂 D:\\DETECTION 1.0\\Celeb-DF\\Fake Frames\\id9_id1_0006 | Total frames: 401\n"
     ]
    },
    {
     "name": "stderr",
     "output_type": "stream",
     "text": [
      "Processing id9_id1_0006: 100%|██████████| 400/400 [00:05<00:00, 69.09it/s]\n"
     ]
    },
    {
     "name": "stdout",
     "output_type": "stream",
     "text": [
      "📂 D:\\DETECTION 1.0\\Celeb-DF\\Fake Frames\\id9_id1_0008 | Total frames: 461\n"
     ]
    },
    {
     "name": "stderr",
     "output_type": "stream",
     "text": [
      "Processing id9_id1_0008: 100%|██████████| 460/460 [00:06<00:00, 68.71it/s]\n"
     ]
    },
    {
     "name": "stdout",
     "output_type": "stream",
     "text": [
      "📂 D:\\DETECTION 1.0\\Celeb-DF\\Fake Frames\\id9_id1_0009 | Total frames: 314\n"
     ]
    },
    {
     "name": "stderr",
     "output_type": "stream",
     "text": [
      "Processing id9_id1_0009: 100%|██████████| 313/313 [00:04<00:00, 70.50it/s]\n"
     ]
    },
    {
     "name": "stdout",
     "output_type": "stream",
     "text": [
      "📂 D:\\DETECTION 1.0\\Celeb-DF\\Fake Frames\\id9_id2_0000 | Total frames: 448\n"
     ]
    },
    {
     "name": "stderr",
     "output_type": "stream",
     "text": [
      "Processing id9_id2_0000: 100%|██████████| 447/447 [00:06<00:00, 66.65it/s]\n"
     ]
    },
    {
     "name": "stdout",
     "output_type": "stream",
     "text": [
      "📂 D:\\DETECTION 1.0\\Celeb-DF\\Fake Frames\\id9_id2_0001 | Total frames: 437\n"
     ]
    },
    {
     "name": "stderr",
     "output_type": "stream",
     "text": [
      "Processing id9_id2_0001: 100%|██████████| 436/436 [00:06<00:00, 68.98it/s]\n"
     ]
    },
    {
     "name": "stdout",
     "output_type": "stream",
     "text": [
      "📂 D:\\DETECTION 1.0\\Celeb-DF\\Fake Frames\\id9_id2_0002 | Total frames: 364\n"
     ]
    },
    {
     "name": "stderr",
     "output_type": "stream",
     "text": [
      "Processing id9_id2_0002: 100%|██████████| 363/363 [00:05<00:00, 70.16it/s]\n"
     ]
    },
    {
     "name": "stdout",
     "output_type": "stream",
     "text": [
      "📂 D:\\DETECTION 1.0\\Celeb-DF\\Fake Frames\\id9_id2_0004 | Total frames: 362\n"
     ]
    },
    {
     "name": "stderr",
     "output_type": "stream",
     "text": [
      "Processing id9_id2_0004: 100%|██████████| 361/361 [00:05<00:00, 68.90it/s]\n"
     ]
    },
    {
     "name": "stdout",
     "output_type": "stream",
     "text": [
      "📂 D:\\DETECTION 1.0\\Celeb-DF\\Fake Frames\\id9_id2_0005 | Total frames: 420\n"
     ]
    },
    {
     "name": "stderr",
     "output_type": "stream",
     "text": [
      "Processing id9_id2_0005: 100%|██████████| 419/419 [00:06<00:00, 66.58it/s]\n"
     ]
    },
    {
     "name": "stdout",
     "output_type": "stream",
     "text": [
      "📂 D:\\DETECTION 1.0\\Celeb-DF\\Fake Frames\\id9_id2_0006 | Total frames: 401\n"
     ]
    },
    {
     "name": "stderr",
     "output_type": "stream",
     "text": [
      "Processing id9_id2_0006: 100%|██████████| 400/400 [00:05<00:00, 68.67it/s]\n"
     ]
    },
    {
     "name": "stdout",
     "output_type": "stream",
     "text": [
      "📂 D:\\DETECTION 1.0\\Celeb-DF\\Fake Frames\\id9_id2_0007 | Total frames: 456\n"
     ]
    },
    {
     "name": "stderr",
     "output_type": "stream",
     "text": [
      "Processing id9_id2_0007: 100%|██████████| 455/455 [00:06<00:00, 70.52it/s]\n"
     ]
    },
    {
     "name": "stdout",
     "output_type": "stream",
     "text": [
      "📂 D:\\DETECTION 1.0\\Celeb-DF\\Fake Frames\\id9_id2_0008 | Total frames: 461\n"
     ]
    },
    {
     "name": "stderr",
     "output_type": "stream",
     "text": [
      "Processing id9_id2_0008: 100%|██████████| 460/460 [00:06<00:00, 69.09it/s]\n"
     ]
    },
    {
     "name": "stdout",
     "output_type": "stream",
     "text": [
      "📂 D:\\DETECTION 1.0\\Celeb-DF\\Fake Frames\\id9_id2_0009 | Total frames: 314\n"
     ]
    },
    {
     "name": "stderr",
     "output_type": "stream",
     "text": [
      "Processing id9_id2_0009: 100%|██████████| 313/313 [00:04<00:00, 69.28it/s]\n"
     ]
    },
    {
     "name": "stdout",
     "output_type": "stream",
     "text": [
      "📂 D:\\DETECTION 1.0\\Celeb-DF\\Fake Frames\\id9_id3_0000 | Total frames: 448\n"
     ]
    },
    {
     "name": "stderr",
     "output_type": "stream",
     "text": [
      "Processing id9_id3_0000: 100%|██████████| 447/447 [00:06<00:00, 67.18it/s]\n"
     ]
    },
    {
     "name": "stdout",
     "output_type": "stream",
     "text": [
      "📂 D:\\DETECTION 1.0\\Celeb-DF\\Fake Frames\\id9_id3_0001 | Total frames: 437\n"
     ]
    },
    {
     "name": "stderr",
     "output_type": "stream",
     "text": [
      "Processing id9_id3_0001: 100%|██████████| 436/436 [00:06<00:00, 68.67it/s]\n"
     ]
    },
    {
     "name": "stdout",
     "output_type": "stream",
     "text": [
      "📂 D:\\DETECTION 1.0\\Celeb-DF\\Fake Frames\\id9_id3_0002 | Total frames: 364\n"
     ]
    },
    {
     "name": "stderr",
     "output_type": "stream",
     "text": [
      "Processing id9_id3_0002: 100%|██████████| 363/363 [00:05<00:00, 70.07it/s]\n"
     ]
    },
    {
     "name": "stdout",
     "output_type": "stream",
     "text": [
      "📂 D:\\DETECTION 1.0\\Celeb-DF\\Fake Frames\\id9_id3_0004 | Total frames: 362\n"
     ]
    },
    {
     "name": "stderr",
     "output_type": "stream",
     "text": [
      "Processing id9_id3_0004: 100%|██████████| 361/361 [00:05<00:00, 67.25it/s]\n"
     ]
    },
    {
     "name": "stdout",
     "output_type": "stream",
     "text": [
      "📂 D:\\DETECTION 1.0\\Celeb-DF\\Fake Frames\\id9_id3_0005 | Total frames: 420\n"
     ]
    },
    {
     "name": "stderr",
     "output_type": "stream",
     "text": [
      "Processing id9_id3_0005: 100%|██████████| 419/419 [00:06<00:00, 67.69it/s]\n"
     ]
    },
    {
     "name": "stdout",
     "output_type": "stream",
     "text": [
      "📂 D:\\DETECTION 1.0\\Celeb-DF\\Fake Frames\\id9_id3_0006 | Total frames: 401\n"
     ]
    },
    {
     "name": "stderr",
     "output_type": "stream",
     "text": [
      "Processing id9_id3_0006: 100%|██████████| 400/400 [00:05<00:00, 69.32it/s]\n"
     ]
    },
    {
     "name": "stdout",
     "output_type": "stream",
     "text": [
      "📂 D:\\DETECTION 1.0\\Celeb-DF\\Fake Frames\\id9_id3_0007 | Total frames: 456\n"
     ]
    },
    {
     "name": "stderr",
     "output_type": "stream",
     "text": [
      "Processing id9_id3_0007: 100%|██████████| 455/455 [00:06<00:00, 70.96it/s]\n"
     ]
    },
    {
     "name": "stdout",
     "output_type": "stream",
     "text": [
      "📂 D:\\DETECTION 1.0\\Celeb-DF\\Fake Frames\\id9_id3_0008 | Total frames: 461\n"
     ]
    },
    {
     "name": "stderr",
     "output_type": "stream",
     "text": [
      "Processing id9_id3_0008: 100%|██████████| 460/460 [00:06<00:00, 68.90it/s]\n"
     ]
    },
    {
     "name": "stdout",
     "output_type": "stream",
     "text": [
      "📂 D:\\DETECTION 1.0\\Celeb-DF\\Fake Frames\\id9_id3_0009 | Total frames: 314\n"
     ]
    },
    {
     "name": "stderr",
     "output_type": "stream",
     "text": [
      "Processing id9_id3_0009: 100%|██████████| 313/313 [00:04<00:00, 71.24it/s]\n"
     ]
    },
    {
     "name": "stdout",
     "output_type": "stream",
     "text": [
      "📂 D:\\DETECTION 1.0\\Celeb-DF\\Fake Frames\\id9_id4_0000 | Total frames: 448\n"
     ]
    },
    {
     "name": "stderr",
     "output_type": "stream",
     "text": [
      "Processing id9_id4_0000: 100%|██████████| 447/447 [00:06<00:00, 70.32it/s]\n"
     ]
    },
    {
     "name": "stdout",
     "output_type": "stream",
     "text": [
      "📂 D:\\DETECTION 1.0\\Celeb-DF\\Fake Frames\\id9_id4_0001 | Total frames: 437\n"
     ]
    },
    {
     "name": "stderr",
     "output_type": "stream",
     "text": [
      "Processing id9_id4_0001: 100%|██████████| 436/436 [00:06<00:00, 67.98it/s]\n"
     ]
    },
    {
     "name": "stdout",
     "output_type": "stream",
     "text": [
      "📂 D:\\DETECTION 1.0\\Celeb-DF\\Fake Frames\\id9_id4_0002 | Total frames: 364\n"
     ]
    },
    {
     "name": "stderr",
     "output_type": "stream",
     "text": [
      "Processing id9_id4_0002: 100%|██████████| 363/363 [00:06<00:00, 59.19it/s]\n"
     ]
    },
    {
     "name": "stdout",
     "output_type": "stream",
     "text": [
      "📂 D:\\DETECTION 1.0\\Celeb-DF\\Fake Frames\\id9_id4_0004 | Total frames: 362\n"
     ]
    },
    {
     "name": "stderr",
     "output_type": "stream",
     "text": [
      "Processing id9_id4_0004: 100%|██████████| 361/361 [00:05<00:00, 64.57it/s]\n"
     ]
    },
    {
     "name": "stdout",
     "output_type": "stream",
     "text": [
      "📂 D:\\DETECTION 1.0\\Celeb-DF\\Fake Frames\\id9_id4_0005 | Total frames: 420\n"
     ]
    },
    {
     "name": "stderr",
     "output_type": "stream",
     "text": [
      "Processing id9_id4_0005: 100%|██████████| 419/419 [00:06<00:00, 69.51it/s]\n"
     ]
    },
    {
     "name": "stdout",
     "output_type": "stream",
     "text": [
      "📂 D:\\DETECTION 1.0\\Celeb-DF\\Fake Frames\\id9_id4_0006 | Total frames: 401\n"
     ]
    },
    {
     "name": "stderr",
     "output_type": "stream",
     "text": [
      "Processing id9_id4_0006: 100%|██████████| 400/400 [00:05<00:00, 67.41it/s]\n"
     ]
    },
    {
     "name": "stdout",
     "output_type": "stream",
     "text": [
      "📂 D:\\DETECTION 1.0\\Celeb-DF\\Fake Frames\\id9_id4_0007 | Total frames: 456\n"
     ]
    },
    {
     "name": "stderr",
     "output_type": "stream",
     "text": [
      "Processing id9_id4_0007: 100%|██████████| 455/455 [00:06<00:00, 67.25it/s]\n"
     ]
    },
    {
     "name": "stdout",
     "output_type": "stream",
     "text": [
      "📂 D:\\DETECTION 1.0\\Celeb-DF\\Fake Frames\\id9_id4_0008 | Total frames: 461\n"
     ]
    },
    {
     "name": "stderr",
     "output_type": "stream",
     "text": [
      "Processing id9_id4_0008: 100%|██████████| 460/460 [00:06<00:00, 69.33it/s]\n"
     ]
    },
    {
     "name": "stdout",
     "output_type": "stream",
     "text": [
      "📂 D:\\DETECTION 1.0\\Celeb-DF\\Fake Frames\\id9_id4_0009 | Total frames: 314\n"
     ]
    },
    {
     "name": "stderr",
     "output_type": "stream",
     "text": [
      "Processing id9_id4_0009: 100%|██████████| 313/313 [00:13<00:00, 22.96it/s]\n"
     ]
    },
    {
     "name": "stdout",
     "output_type": "stream",
     "text": [
      "📂 D:\\DETECTION 1.0\\Celeb-DF\\Fake Frames\\id9_id6_0000 | Total frames: 448\n"
     ]
    },
    {
     "name": "stderr",
     "output_type": "stream",
     "text": [
      "Processing id9_id6_0000: 100%|██████████| 447/447 [00:09<00:00, 49.55it/s]\n"
     ]
    },
    {
     "name": "stdout",
     "output_type": "stream",
     "text": [
      "📂 D:\\DETECTION 1.0\\Celeb-DF\\Fake Frames\\id9_id6_0001 | Total frames: 437\n"
     ]
    },
    {
     "name": "stderr",
     "output_type": "stream",
     "text": [
      "Processing id9_id6_0001: 100%|██████████| 436/436 [00:20<00:00, 21.67it/s]\n"
     ]
    },
    {
     "name": "stdout",
     "output_type": "stream",
     "text": [
      "📂 D:\\DETECTION 1.0\\Celeb-DF\\Fake Frames\\id9_id6_0002 | Total frames: 364\n"
     ]
    },
    {
     "name": "stderr",
     "output_type": "stream",
     "text": [
      "Processing id9_id6_0002: 100%|██████████| 363/363 [00:15<00:00, 22.69it/s]\n"
     ]
    },
    {
     "name": "stdout",
     "output_type": "stream",
     "text": [
      "📂 D:\\DETECTION 1.0\\Celeb-DF\\Fake Frames\\id9_id6_0004 | Total frames: 362\n"
     ]
    },
    {
     "name": "stderr",
     "output_type": "stream",
     "text": [
      "Processing id9_id6_0004: 100%|██████████| 361/361 [00:17<00:00, 21.18it/s]\n"
     ]
    },
    {
     "name": "stdout",
     "output_type": "stream",
     "text": [
      "📂 D:\\DETECTION 1.0\\Celeb-DF\\Fake Frames\\id9_id6_0005 | Total frames: 420\n"
     ]
    },
    {
     "name": "stderr",
     "output_type": "stream",
     "text": [
      "Processing id9_id6_0005: 100%|██████████| 419/419 [00:19<00:00, 21.72it/s]\n"
     ]
    },
    {
     "name": "stdout",
     "output_type": "stream",
     "text": [
      "📂 D:\\DETECTION 1.0\\Celeb-DF\\Fake Frames\\id9_id6_0006 | Total frames: 401\n"
     ]
    },
    {
     "name": "stderr",
     "output_type": "stream",
     "text": [
      "Processing id9_id6_0006: 100%|██████████| 400/400 [00:18<00:00, 21.22it/s]\n"
     ]
    },
    {
     "name": "stdout",
     "output_type": "stream",
     "text": [
      "📂 D:\\DETECTION 1.0\\Celeb-DF\\Fake Frames\\id9_id6_0007 | Total frames: 456\n"
     ]
    },
    {
     "name": "stderr",
     "output_type": "stream",
     "text": [
      "Processing id9_id6_0007: 100%|██████████| 455/455 [00:11<00:00, 38.10it/s]\n"
     ]
    },
    {
     "name": "stdout",
     "output_type": "stream",
     "text": [
      "📂 D:\\DETECTION 1.0\\Celeb-DF\\Fake Frames\\id9_id6_0008 | Total frames: 461\n"
     ]
    },
    {
     "name": "stderr",
     "output_type": "stream",
     "text": [
      "Processing id9_id6_0008: 100%|██████████| 460/460 [00:06<00:00, 69.78it/s]\n"
     ]
    },
    {
     "name": "stdout",
     "output_type": "stream",
     "text": [
      "📂 D:\\DETECTION 1.0\\Celeb-DF\\Fake Frames\\id9_id6_0009 | Total frames: 314\n"
     ]
    },
    {
     "name": "stderr",
     "output_type": "stream",
     "text": [
      "Processing id9_id6_0009: 100%|██████████| 313/313 [00:04<00:00, 69.64it/s]\n"
     ]
    }
   ],
   "source": [
    "# ========== Step 4: Process all subfolders ==========\n",
    "real_dfs, fake_dfs = [], []\n",
    "for sub in os.listdir(real_frame_path):\n",
    "    path = os.path.join(real_frame_path, sub)\n",
    "    if os.path.isdir(path):\n",
    "        real_dfs.append(process_video_folder(path, f\"heatmaps_real/{sub}\", label=0))\n",
    "\n",
    "for sub in os.listdir(fake_frame_path):\n",
    "    path = os.path.join(fake_frame_path, sub)\n",
    "    if os.path.isdir(path):\n",
    "        fake_dfs.append(process_video_folder(path, f\"heatmaps_fake/{sub}\", label=1))\n"
   ]
  },
  {
   "cell_type": "code",
   "execution_count": 20,
   "id": "f32c967c",
   "metadata": {},
   "outputs": [
    {
     "name": "stdout",
     "output_type": "stream",
     "text": [
      "🖼️ Total real heatmaps saved: 174881\n",
      "🖼️ Total fake heatmaps saved: 171907\n"
     ]
    }
   ],
   "source": [
    "import glob\n",
    "\n",
    "# Set paths to your heatmap folders\n",
    "real_heatmap_dir = \"heatmaps_real\"\n",
    "fake_heatmap_dir = \"heatmaps_fake\"\n",
    "\n",
    "# Recursively count all PNG files\n",
    "real_heatmaps = glob.glob(f\"{real_heatmap_dir}/**/*.png\", recursive=True)\n",
    "fake_heatmaps = glob.glob(f\"{fake_heatmap_dir}/**/*.png\", recursive=True)\n",
    "\n",
    "# Print results\n",
    "print(f\"🖼️ Total real heatmaps saved: {len(real_heatmaps)}\")\n",
    "print(f\"🖼️ Total fake heatmaps saved: {len(fake_heatmaps)}\")\n"
   ]
  },
  {
   "cell_type": "code",
   "execution_count": 21,
   "id": "97ad402f",
   "metadata": {},
   "outputs": [
    {
     "name": "stderr",
     "output_type": "stream",
     "text": [
      "Processing heatmaps_real: 100%|██████████| 174881/174881 [26:37<00:00, 109.48it/s]\n",
      "Processing heatmaps_fake: 100%|██████████| 171907/171907 [27:43<00:00, 103.31it/s]\n"
     ]
    },
    {
     "name": "stdout",
     "output_type": "stream",
     "text": [
      "✅ real_motion.csv: 174881 rows\n",
      "✅ fake_motion.csv: 171907 rows\n",
      "✅ combined_motion.csv: 346788 rows\n"
     ]
    }
   ],
   "source": [
    "import cv2\n",
    "import numpy as np\n",
    "import os\n",
    "import glob\n",
    "import pandas as pd\n",
    "from tqdm import tqdm\n",
    "\n",
    "def compute_flow_stats_from_heatmap(image_path):\n",
    "    \"\"\"Compute mean and std of flow intensity from a heatmap.\"\"\"\n",
    "    img = cv2.imread(image_path, cv2.IMREAD_GRAYSCALE)\n",
    "    if img is None:\n",
    "        return None  # Skip unreadable image\n",
    "    mean_val = np.mean(img)\n",
    "    std_val = np.std(img)\n",
    "    return {\n",
    "        'heatmap_path': image_path,\n",
    "        'full_face_mean': mean_val,\n",
    "        'full_face_std': std_val\n",
    "    }\n",
    "\n",
    "def process_heatmap_folder(folder_path, label):\n",
    "    \"\"\"Process all .png heatmaps in a folder and extract motion stats.\"\"\"\n",
    "    heatmap_paths = sorted(glob.glob(os.path.join(folder_path, '**', '*.png'), recursive=True))\n",
    "    data = []\n",
    "    for i, path in enumerate(tqdm(heatmap_paths, desc=f\"Processing {folder_path}\")):\n",
    "        stats = compute_flow_stats_from_heatmap(path)\n",
    "        if stats:\n",
    "            stats['pair_id'] = i\n",
    "            stats['label'] = label\n",
    "            data.append(stats)\n",
    "    return pd.DataFrame(data)\n",
    "\n",
    "# Set your paths\n",
    "real_heatmap_dir = \"heatmaps_real\"\n",
    "fake_heatmap_dir = \"heatmaps_fake\"\n",
    "\n",
    "# Process both sets\n",
    "real_df = process_heatmap_folder(real_heatmap_dir, label=0)\n",
    "fake_df = process_heatmap_folder(fake_heatmap_dir, label=1)\n",
    "\n",
    "# Save individually\n",
    "real_df.to_csv(\"real_motion.csv\", index=False)\n",
    "fake_df.to_csv(\"fake_motion.csv\", index=False)\n",
    "\n",
    "# Combine both\n",
    "combined_df = pd.concat([real_df, fake_df], ignore_index=True)\n",
    "combined_df.to_csv(\"combined_motion.csv\", index=False)\n",
    "\n",
    "# Summary\n",
    "print(f\"✅ real_motion.csv: {len(real_df)} rows\")\n",
    "print(f\"✅ fake_motion.csv: {len(fake_df)} rows\")\n",
    "print(f\"✅ combined_motion.csv: {len(combined_df)} rows\")\n"
   ]
  },
  {
   "cell_type": "code",
   "execution_count": 25,
   "id": "850c0202",
   "metadata": {},
   "outputs": [
    {
     "data": {
      "image/png": "[encoded data removed]",
      "text/plain": [
       "<Figure size 1400x800 with 1 Axes>"
      ]
     },
     "metadata": {},
     "output_type": "display_data"
    }
   ],
   "source": [
    "import pandas as pd\n",
    "import matplotlib.pyplot as plt\n",
    "\n",
    "# ✅ Load the combined motion features\n",
    "df = pd.read_csv(\"D:\\DETECTION 1.0\\Celeb-DF\\combined_motion.csv\")\n",
    "\n",
    "# ✅ Define zones (ensure they exist in your file)\n",
    "zones = [col for col in df.columns if \"_mean\" in col and col != 'pair_id']\n",
    "\n",
    "# ✅ Group by pair_id and label\n",
    "real_avg = df[df['label'] == 0].groupby('pair_id')[zones].mean()\n",
    "fake_avg = df[df['label'] == 1].groupby('pair_id')[zones].mean()\n",
    "\n",
    "# ✅ Plot each zone's motion curve\n",
    "plt.figure(figsize=(14, 8))\n",
    "for zone in zones:\n",
    "    if zone in real_avg.columns and zone in fake_avg.columns:\n",
    "        plt.plot(real_avg[zone], label=f'Real - {zone}', linestyle='-')\n",
    "        plt.plot(fake_avg[zone], label=f'Fake - {zone}', linestyle='--')\n",
    "\n",
    "plt.title(\"Motion Curves per Facial Zone (Real vs Fake)\")\n",
    "plt.xlabel(\"Frame Pair ID\")\n",
    "plt.ylabel(\"Mean Optical Flow Magnitude\")\n",
    "plt.legend(loc='upper right', fontsize='small')\n",
    "plt.grid(True)\n",
    "plt.tight_layout()\n",
    "plt.show()\n"
   ]
  },
  {
   "cell_type": "code",
   "execution_count": 2,
   "id": "87f1d166",
   "metadata": {},
   "outputs": [
    {
     "data": {
      "image/png": "[encoded data removed]",
      "text/plain": [
       "<Figure size 1000x400 with 1 Axes>"
      ]
     },
     "metadata": {},
     "output_type": "display_data"
    }
   ],
   "source": [
    "import pandas as pd\n",
    "import matplotlib.pyplot as plt\n",
    "\n",
    "# Load the motion feature CSV\n",
    "df = pd.read_csv(\"D:\\DETECTION 1.0\\Celeb-DF\\combined_motion.csv\")\n",
    "\n",
    "# Extract zone columns with \"_mean\"\n",
    "zones = [col for col in df.columns if \"_mean\" in col and col != 'pair_id']\n",
    "\n",
    "# Group by pair_id and label\n",
    "real_avg = df[df['label'] == 0].groupby('pair_id')[zones].mean()\n",
    "fake_avg = df[df['label'] == 1].groupby('pair_id')[zones].mean()\n",
    "\n",
    "# Plot separately for each zone\n",
    "for zone in zones:\n",
    "    if zone in real_avg.columns and zone in fake_avg.columns:\n",
    "        plt.figure(figsize=(10, 4))\n",
    "        plt.plot(real_avg[zone], label='Real', color='green', linestyle='-')\n",
    "        plt.plot(fake_avg[zone], label='Fake', color='red', linestyle='--')\n",
    "        plt.title(f\"Motion Curve - {zone.replace('_mean', '').replace('_', ' ').title()}\")\n",
    "        plt.xlabel(\"Frame Pair ID\")\n",
    "        plt.ylabel(\"Mean Optical Flow\")\n",
    "        plt.legend()\n",
    "        plt.grid(True)\n",
    "        plt.tight_layout()\n",
    "        plt.show()\n"
   ]
  },
  {
   "cell_type": "code",
   "execution_count": 4,
   "id": "645bb5ce",
   "metadata": {},
   "outputs": [
    {
     "name": "stderr",
     "output_type": "stream",
     "text": [
      "C:\\Users\\ACER\\AppData\\Local\\Temp\\ipykernel_24964\\3020875079.py:30: UserWarning: set_ticklabels() should only be used with a fixed number of ticks, i.e. after set_ticks() or using a FixedLocator.\n",
      "  axes[1].set_xticklabels(['Real', 'Fake'])\n"
     ]
    },
    {
     "data": {
      "image/png": "[encoded data removed]",
      "text/plain": [
       "<Figure size 1800x400 with 3 Axes>"
      ]
     },
     "metadata": {},
     "output_type": "display_data"
    }
   ],
   "source": [
    "import pandas as pd\n",
    "import matplotlib.pyplot as plt\n",
    "import seaborn as sns\n",
    "\n",
    "# Load combined motion features\n",
    "df = pd.read_csv(\"D:\\DETECTION 1.0\\Celeb-DF\\combined_motion.csv\")\n",
    "\n",
    "# Extract motion feature columns\n",
    "zones = [col for col in df.columns if \"_mean\" in col and col != 'pair_id']\n",
    "\n",
    "# Group by pair_id and label\n",
    "real_avg = df[df['label'] == 0].groupby('pair_id')[zones].mean()\n",
    "fake_avg = df[df['label'] == 1].groupby('pair_id')[zones].mean()\n",
    "\n",
    "# Plotting in different styles\n",
    "for zone in zones:\n",
    "    if zone in real_avg.columns and zone in fake_avg.columns:\n",
    "        fig, axes = plt.subplots(1, 3, figsize=(18, 4))\n",
    "        fig.suptitle(f\"Motion Comparison - {zone.replace('_mean', '').replace('_', ' ').title()}\", fontsize=16)\n",
    "\n",
    "        # 1. Line Plot\n",
    "        axes[0].plot(real_avg[zone], label='Real', color='green', linestyle='-')\n",
    "        axes[0].plot(fake_avg[zone], label='Fake', color='red', linestyle='--')\n",
    "        axes[0].set_title(\"Line Plot\")\n",
    "        axes[0].legend()\n",
    "        axes[0].grid(True)\n",
    "\n",
    "        # 2. Box Plot (distribution across pair_id)\n",
    "        sns.boxplot(data=[real_avg[zone], fake_avg[zone]], ax=axes[1])\n",
    "        axes[1].set_xticklabels(['Real', 'Fake'])\n",
    "        axes[1].set_title(\"Box Plot\")\n",
    "        axes[1].set_ylabel(\"Mean Optical Flow\")\n",
    "\n",
    "        # 3. KDE Plot (density)\n",
    "        sns.kdeplot(real_avg[zone], label='Real', ax=axes[2], color='green')\n",
    "        sns.kdeplot(fake_avg[zone], label='Fake', ax=axes[2], color='red')\n",
    "        axes[2].set_title(\"KDE (Density) Plot\")\n",
    "        axes[2].legend()\n",
    "\n",
    "        plt.tight_layout()\n",
    "        plt.show()\n"
   ]
  },
  {
   "cell_type": "code",
   "execution_count": null,
   "id": "a2e016d0",
   "metadata": {},
   "outputs": [],
   "source": []
  }
 ],
 "metadata": {
  "kernelspec": {
   "display_name": "torch_env",
   "language": "python",
   "name": "python3"
  },
  "language_info": {
   "codemirror_mode": {
    "name": "ipython",
    "version": 3
   },
   "file_extension": ".py",
   "mimetype": "text/x-python",
   "name": "python",
   "nbconvert_exporter": "python",
   "pygments_lexer": "ipython3",
   "version": "3.9.21"
  }
 },
 "nbformat": 4,
 "nbformat_minor": 5
}
