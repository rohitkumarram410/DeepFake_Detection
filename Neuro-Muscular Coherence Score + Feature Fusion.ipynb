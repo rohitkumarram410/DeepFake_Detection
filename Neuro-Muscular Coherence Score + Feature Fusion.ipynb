{
 "cells": [
  {
   "cell_type": "code",
   "execution_count": 21,
   "id": "dc6f95b8",
   "metadata": {},
   "outputs": [
    {
     "name": "stderr",
     "output_type": "stream",
     "text": [
      "🔄 Aligning videos: 100%|██████████| 408/408 [1:05:03<00:00,  9.57s/it]"
     ]
    },
    {
     "name": "stdout",
     "output_type": "stream",
     "text": [
      "\n",
      "✅ All aligned faces saved to: D:/DETECTION 1.0/Celeb-DF/aligned_faces_real\n"
     ]
    },
    {
     "name": "stderr",
     "output_type": "stream",
     "text": [
      "\n"
     ]
    }
   ],
   "source": [
    "import os\n",
    "import cv2\n",
    "import mediapipe as mp\n",
    "import numpy as np\n",
    "from tqdm import tqdm\n",
    "\n",
    "# === INPUT & OUTPUT ===\n",
    "INPUT_FOLDER = r\"D:/DETECTION 1.0/Celeb-DF/Real Frames\"\n",
    "OUTPUT_FOLDER = r\"D:/DETECTION 1.0/Celeb-DF/aligned_faces_real\"\n",
    "os.makedirs(OUTPUT_FOLDER, exist_ok=True)\n",
    "\n",
    "# === Initialize MediaPipe FaceMesh ===\n",
    "mp_face_mesh = mp.solutions.face_mesh\n",
    "face_mesh = mp_face_mesh.FaceMesh(static_image_mode=True, max_num_faces=1, refine_landmarks=True)\n",
    "\n",
    "# === Get eye landmarks for alignment ===\n",
    "LEFT_EYE_INDEX = 33   # left eye outer corner\n",
    "RIGHT_EYE_INDEX = 263 # right eye outer corner\n",
    "\n",
    "def align_face(image, landmarks):\n",
    "    h, w = image.shape[:2]\n",
    "\n",
    "    # Get eye coordinates\n",
    "    left_eye = landmarks[LEFT_EYE_INDEX]\n",
    "    right_eye = landmarks[RIGHT_EYE_INDEX]\n",
    "    lx, ly = int(left_eye.x * w), int(left_eye.y * h)\n",
    "    rx, ry = int(right_eye.x * w), int(right_eye.y * h)\n",
    "\n",
    "    # Compute angle\n",
    "    dx = rx - lx\n",
    "    dy = ry - ly\n",
    "    angle = np.degrees(np.arctan2(dy, dx))\n",
    "\n",
    "    # Get center point between eyes\n",
    "    center = ((lx + rx) // 2, (ly + ry) // 2)\n",
    "\n",
    "    # Rotate image to align eyes horizontally\n",
    "    M = cv2.getRotationMatrix2D(center, angle, 1.0)\n",
    "    aligned = cv2.warpAffine(image, M, (w, h), flags=cv2.INTER_LINEAR)\n",
    "    return aligned\n",
    "\n",
    "def process_video_folder(video_folder, video_id):\n",
    "    output_path = os.path.join(OUTPUT_FOLDER, video_id)\n",
    "    os.makedirs(output_path, exist_ok=True)\n",
    "\n",
    "    for img_file in sorted(os.listdir(video_folder)):\n",
    "        if not img_file.lower().endswith(('.jpg', '.png')):\n",
    "            continue\n",
    "\n",
    "        img_path = os.path.join(video_folder, img_file)\n",
    "        image = cv2.imread(img_path)\n",
    "        if image is None:\n",
    "            continue\n",
    "\n",
    "        # Convert to RGB\n",
    "        rgb = cv2.cvtColor(image, cv2.COLOR_BGR2RGB)\n",
    "        result = face_mesh.process(rgb)\n",
    "\n",
    "        if result.multi_face_landmarks:\n",
    "            landmarks = result.multi_face_landmarks[0].landmark\n",
    "            aligned_img = align_face(image, landmarks)\n",
    "\n",
    "            # Save aligned image\n",
    "            cv2.imwrite(os.path.join(output_path, img_file), aligned_img)\n",
    "\n",
    "def align_all_videos(input_root):\n",
    "    video_ids = sorted(os.listdir(input_root))\n",
    "    for vid in tqdm(video_ids, desc=\"🔄 Aligning videos\"):\n",
    "        video_folder = os.path.join(input_root, vid)\n",
    "        if os.path.isdir(video_folder):\n",
    "            process_video_folder(video_folder, vid)\n",
    "\n",
    "# === Run alignment ===\n",
    "align_all_videos(INPUT_FOLDER)\n",
    "print(f\"\\n✅ All aligned faces saved to: {OUTPUT_FOLDER}\")\n"
   ]
  },
  {
   "cell_type": "code",
   "execution_count": 22,
   "id": "c98f088b",
   "metadata": {},
   "outputs": [
    {
     "name": "stderr",
     "output_type": "stream",
     "text": [
      "🔄 Aligning videos: 100%|██████████| 408/408 [1:00:22<00:00,  8.88s/it]"
     ]
    },
    {
     "name": "stdout",
     "output_type": "stream",
     "text": [
      "\n",
      "✅ All aligned faces saved to: D:/DETECTION 1.0/Celeb-DF/aligned_faces_fake\n"
     ]
    },
    {
     "name": "stderr",
     "output_type": "stream",
     "text": [
      "\n"
     ]
    }
   ],
   "source": [
    "import os\n",
    "import cv2\n",
    "import mediapipe as mp\n",
    "import numpy as np\n",
    "from tqdm import tqdm\n",
    "\n",
    "# === INPUT & OUTPUT ===\n",
    "INPUT_FOLDER = r\"D:\\DETECTION 1.0\\Celeb-DF\\Fake Frames\"\n",
    "OUTPUT_FOLDER = r\"D:/DETECTION 1.0/Celeb-DF/aligned_faces_fake\"\n",
    "os.makedirs(OUTPUT_FOLDER, exist_ok=True)\n",
    "\n",
    "# === Initialize MediaPipe FaceMesh ===\n",
    "mp_face_mesh = mp.solutions.face_mesh\n",
    "face_mesh = mp_face_mesh.FaceMesh(static_image_mode=True, max_num_faces=1, refine_landmarks=True)\n",
    "\n",
    "# === Get eye landmarks for alignment ===\n",
    "LEFT_EYE_INDEX = 33   # left eye outer corner\n",
    "RIGHT_EYE_INDEX = 263 # right eye outer corner\n",
    "\n",
    "def align_face(image, landmarks):\n",
    "    h, w = image.shape[:2]\n",
    "\n",
    "    # Get eye coordinates\n",
    "    left_eye = landmarks[LEFT_EYE_INDEX]\n",
    "    right_eye = landmarks[RIGHT_EYE_INDEX]\n",
    "    lx, ly = int(left_eye.x * w), int(left_eye.y * h)\n",
    "    rx, ry = int(right_eye.x * w), int(right_eye.y * h)\n",
    "\n",
    "    # Compute angle\n",
    "    dx = rx - lx\n",
    "    dy = ry - ly\n",
    "    angle = np.degrees(np.arctan2(dy, dx))\n",
    "\n",
    "    # Get center point between eyes\n",
    "    center = ((lx + rx) // 2, (ly + ry) // 2)\n",
    "\n",
    "    # Rotate image to align eyes horizontally\n",
    "    M = cv2.getRotationMatrix2D(center, angle, 1.0)\n",
    "    aligned = cv2.warpAffine(image, M, (w, h), flags=cv2.INTER_LINEAR)\n",
    "    return aligned\n",
    "\n",
    "def process_video_folder(video_folder, video_id):\n",
    "    output_path = os.path.join(OUTPUT_FOLDER, video_id)\n",
    "    os.makedirs(output_path, exist_ok=True)\n",
    "\n",
    "    for img_file in sorted(os.listdir(video_folder)):\n",
    "        if not img_file.lower().endswith(('.jpg', '.png')):\n",
    "            continue\n",
    "\n",
    "        img_path = os.path.join(video_folder, img_file)\n",
    "        image = cv2.imread(img_path)\n",
    "        if image is None:\n",
    "            continue\n",
    "\n",
    "        # Convert to RGB\n",
    "        rgb = cv2.cvtColor(image, cv2.COLOR_BGR2RGB)\n",
    "        result = face_mesh.process(rgb)\n",
    "\n",
    "        if result.multi_face_landmarks:\n",
    "            landmarks = result.multi_face_landmarks[0].landmark\n",
    "            aligned_img = align_face(image, landmarks)\n",
    "\n",
    "            # Save aligned image\n",
    "            cv2.imwrite(os.path.join(output_path, img_file), aligned_img)\n",
    "\n",
    "def align_all_videos(input_root):\n",
    "    video_ids = sorted(os.listdir(input_root))\n",
    "    for vid in tqdm(video_ids, desc=\"🔄 Aligning videos\"):\n",
    "        video_folder = os.path.join(input_root, vid)\n",
    "        if os.path.isdir(video_folder):\n",
    "            process_video_folder(video_folder, vid)\n",
    "\n",
    "# === Run alignment ===\n",
    "align_all_videos(INPUT_FOLDER)\n",
    "print(f\"\\n✅ All aligned faces saved to: {OUTPUT_FOLDER}\")\n"
   ]
  },
  {
   "cell_type": "code",
   "execution_count": 23,
   "id": "6e525353",
   "metadata": {},
   "outputs": [
    {
     "name": "stderr",
     "output_type": "stream",
     "text": [
      "Processing id1_id0_0000: 100%|██████████| 365/365 [00:08<00:00, 42.97it/s]\n",
      "Processing id1_id0_0001: 100%|██████████| 272/272 [00:06<00:00, 39.82it/s]\n",
      "Processing id1_id0_0002: 100%|██████████| 400/400 [00:09<00:00, 40.13it/s]\n",
      "Processing id1_id0_0003: 100%|██████████| 451/451 [00:11<00:00, 40.93it/s]\n",
      "Processing id1_id0_0004: 100%|██████████| 409/409 [00:10<00:00, 37.52it/s]\n",
      "Processing id1_id0_0005: 100%|██████████| 422/422 [00:11<00:00, 36.54it/s]\n",
      "Processing id1_id0_0006: 100%|██████████| 505/505 [00:14<00:00, 35.12it/s]\n",
      "Processing id1_id0_0007: 100%|██████████| 328/328 [00:09<00:00, 34.30it/s]\n",
      "Processing id1_id0_0009: 100%|██████████| 412/412 [00:18<00:00, 21.81it/s]\n",
      "Processing id1_id16_0000: 100%|██████████| 365/365 [00:18<00:00, 19.50it/s]\n",
      "Processing id1_id16_0001: 100%|██████████| 272/272 [00:14<00:00, 19.40it/s]\n",
      "Processing id1_id16_0002: 100%|██████████| 400/400 [00:20<00:00, 19.31it/s]\n",
      "Processing id1_id16_0003: 100%|██████████| 451/451 [00:23<00:00, 19.59it/s]\n",
      "Processing id1_id16_0004: 100%|██████████| 409/409 [00:20<00:00, 19.79it/s]\n",
      "Processing id1_id16_0005: 100%|██████████| 422/422 [00:21<00:00, 19.82it/s]\n",
      "Processing id1_id16_0006: 100%|██████████| 49/49 [00:02<00:00, 20.69it/s]\n",
      "Processing id1_id16_0007: 100%|██████████| 328/328 [00:16<00:00, 19.40it/s]\n",
      "Processing id1_id16_0009: 100%|██████████| 412/412 [00:21<00:00, 19.60it/s]\n",
      "Processing id1_id17_0000: 100%|██████████| 365/365 [00:18<00:00, 19.73it/s]\n",
      "Processing id1_id2_0000: 100%|██████████| 365/365 [00:18<00:00, 19.46it/s]\n",
      "Processing id1_id2_0001: 100%|██████████| 272/272 [00:14<00:00, 19.41it/s]\n",
      "Processing id1_id2_0002: 100%|██████████| 400/400 [00:20<00:00, 19.72it/s]\n",
      "Processing id1_id2_0003: 100%|██████████| 451/451 [00:23<00:00, 19.22it/s]\n",
      "Processing id1_id2_0004: 100%|██████████| 409/409 [00:21<00:00, 19.44it/s]\n",
      "Processing id1_id2_0005: 100%|██████████| 422/422 [00:21<00:00, 19.78it/s]\n",
      "Processing id1_id2_0006: 100%|██████████| 505/505 [00:25<00:00, 19.81it/s]\n",
      "Processing id1_id2_0007: 100%|██████████| 328/328 [00:17<00:00, 18.87it/s]\n",
      "Processing id1_id2_0009: 100%|██████████| 412/412 [00:20<00:00, 20.05it/s]\n",
      "Processing id1_id3_0000: 100%|██████████| 365/365 [00:18<00:00, 19.89it/s]\n",
      "Processing id1_id3_0001: 100%|██████████| 272/272 [00:14<00:00, 19.38it/s]\n",
      "Processing id1_id3_0002: 100%|██████████| 400/400 [00:20<00:00, 19.80it/s]\n",
      "Processing id1_id3_0003: 100%|██████████| 451/451 [00:22<00:00, 20.13it/s]\n",
      "Processing id1_id3_0004: 100%|██████████| 409/409 [00:19<00:00, 20.74it/s]\n",
      "Processing id1_id3_0005: 100%|██████████| 422/422 [00:20<00:00, 20.78it/s]\n",
      "Processing id1_id3_0006: 100%|██████████| 505/505 [00:24<00:00, 20.61it/s]\n",
      "Processing id1_id3_0007: 100%|██████████| 328/328 [00:16<00:00, 20.39it/s]\n",
      "Processing id1_id3_0009: 100%|██████████| 412/412 [00:20<00:00, 19.92it/s]\n",
      "Processing id1_id4_0000: 100%|██████████| 365/365 [00:18<00:00, 20.22it/s]\n",
      "Processing id1_id4_0001: 100%|██████████| 272/272 [00:13<00:00, 20.36it/s]\n",
      "Processing id1_id4_0002: 100%|██████████| 400/400 [00:19<00:00, 20.37it/s]\n",
      "Processing id1_id4_0003: 100%|██████████| 451/451 [00:22<00:00, 20.43it/s]\n",
      "Processing id1_id4_0004: 100%|██████████| 409/409 [00:19<00:00, 20.55it/s]\n",
      "Processing id1_id4_0005: 100%|██████████| 422/422 [00:20<00:00, 20.38it/s]\n",
      "Processing id1_id4_0006: 100%|██████████| 505/505 [00:24<00:00, 20.22it/s]\n",
      "Processing id1_id4_0007: 100%|██████████| 328/328 [00:16<00:00, 20.12it/s]\n",
      "Processing id1_id4_0009: 100%|██████████| 412/412 [00:20<00:00, 20.45it/s]\n",
      "Processing id1_id6_0000: 100%|██████████| 365/365 [00:17<00:00, 20.43it/s]\n",
      "Processing id1_id6_0001: 100%|██████████| 272/272 [00:13<00:00, 20.49it/s]\n",
      "Processing id1_id6_0002: 100%|██████████| 400/400 [00:19<00:00, 20.49it/s]\n",
      "Processing id1_id6_0003: 100%|██████████| 451/451 [00:22<00:00, 20.38it/s]\n",
      "Processing id1_id6_0004: 100%|██████████| 409/409 [00:20<00:00, 20.11it/s]\n",
      "Processing id1_id6_0005: 100%|██████████| 422/422 [00:20<00:00, 20.54it/s]\n",
      "Processing id1_id6_0006: 100%|██████████| 505/505 [00:24<00:00, 20.31it/s]\n",
      "Processing id1_id6_0007: 100%|██████████| 328/328 [00:16<00:00, 20.03it/s]\n",
      "Processing id1_id6_0009: 100%|██████████| 412/412 [00:19<00:00, 20.71it/s]\n",
      "Processing id1_id9_0000: 100%|██████████| 365/365 [00:17<00:00, 20.52it/s]\n",
      "Processing id1_id9_0001: 100%|██████████| 272/272 [00:13<00:00, 20.51it/s]\n",
      "Processing id1_id9_0002: 100%|██████████| 400/400 [00:19<00:00, 20.30it/s]\n",
      "Processing id1_id9_0003: 100%|██████████| 451/451 [00:22<00:00, 20.25it/s]\n",
      "Processing id1_id9_0004: 100%|██████████| 409/409 [00:19<00:00, 20.70it/s]\n",
      "Processing id1_id9_0005: 100%|██████████| 422/422 [00:20<00:00, 20.11it/s]\n",
      "Processing id1_id9_0006: 100%|██████████| 505/505 [00:24<00:00, 20.57it/s]\n",
      "Processing id1_id9_0007: 100%|██████████| 328/328 [00:15<00:00, 20.87it/s]\n",
      "Processing id1_id9_0009: 100%|██████████| 412/412 [00:20<00:00, 20.21it/s]\n",
      "Processing id3_id0_0001: 100%|██████████| 380/380 [00:18<00:00, 20.19it/s]\n",
      "Processing id3_id0_0002: 100%|██████████| 428/428 [00:21<00:00, 20.37it/s]\n",
      "Processing id3_id0_0003: 100%|██████████| 372/372 [00:18<00:00, 20.44it/s]\n",
      "Processing id3_id0_0004: 100%|██████████| 499/499 [00:24<00:00, 20.23it/s]\n",
      "Processing id3_id0_0005: 100%|██████████| 398/398 [00:19<00:00, 20.45it/s]\n",
      "Processing id3_id0_0006: 100%|██████████| 409/409 [00:20<00:00, 20.37it/s]\n",
      "Processing id3_id0_0007: 100%|██████████| 361/361 [00:17<00:00, 20.62it/s]\n",
      "Processing id3_id0_0008: 100%|██████████| 458/458 [00:22<00:00, 20.52it/s]\n",
      "Processing id3_id0_0009: 100%|██████████| 495/495 [00:23<00:00, 20.68it/s]\n",
      "Processing id3_id16_0000: 100%|██████████| 458/458 [00:22<00:00, 20.43it/s]\n",
      "Processing id3_id16_0001: 100%|██████████| 380/380 [00:18<00:00, 20.10it/s]\n",
      "Processing id3_id16_0002: 100%|██████████| 428/428 [00:20<00:00, 20.84it/s]\n",
      "Processing id3_id16_0003: 100%|██████████| 372/372 [00:17<00:00, 20.77it/s]\n",
      "Processing id3_id16_0004: 100%|██████████| 499/499 [00:24<00:00, 20.41it/s]\n",
      "Processing id3_id16_0005: 100%|██████████| 398/398 [00:19<00:00, 20.17it/s]\n",
      "Processing id3_id16_0006: 100%|██████████| 409/409 [00:20<00:00, 20.44it/s]\n",
      "Processing id3_id16_0008: 100%|██████████| 458/458 [00:22<00:00, 20.04it/s]\n",
      "Processing id3_id16_0009: 100%|██████████| 496/496 [00:24<00:00, 20.20it/s]\n",
      "Processing id3_id17_0000: 100%|██████████| 458/458 [00:22<00:00, 20.62it/s]\n",
      "Processing id3_id17_0001: 100%|██████████| 380/380 [00:18<00:00, 20.69it/s]\n",
      "Processing id3_id17_0002: 100%|██████████| 428/428 [00:20<00:00, 20.63it/s]\n",
      "Processing id3_id17_0003: 100%|██████████| 372/372 [00:16<00:00, 23.06it/s]\n",
      "Processing id3_id17_0004: 100%|██████████| 499/499 [00:14<00:00, 34.62it/s]\n",
      "Processing id3_id17_0005: 100%|██████████| 398/398 [00:11<00:00, 35.68it/s]\n",
      "Processing id3_id17_0006: 100%|██████████| 409/409 [00:10<00:00, 37.44it/s]\n",
      "Processing id3_id17_0007: 100%|██████████| 361/361 [00:09<00:00, 37.75it/s]\n",
      "Processing id3_id17_0008: 100%|██████████| 458/458 [00:12<00:00, 37.39it/s]\n",
      "Processing id3_id17_0009: 100%|██████████| 496/496 [00:13<00:00, 36.07it/s]\n",
      "Processing id3_id1_0001: 100%|██████████| 380/380 [00:09<00:00, 38.03it/s]\n",
      "Processing id3_id1_0002: 100%|██████████| 428/428 [00:11<00:00, 36.95it/s]\n",
      "Processing id3_id1_0003: 100%|██████████| 372/372 [00:10<00:00, 36.41it/s]\n",
      "Processing id3_id1_0004: 100%|██████████| 499/499 [00:14<00:00, 35.29it/s]\n",
      "Processing id3_id1_0005: 100%|██████████| 398/398 [00:11<00:00, 36.08it/s]\n",
      "Processing id3_id1_0006: 100%|██████████| 409/409 [00:11<00:00, 36.44it/s]\n",
      "Processing id3_id1_0007: 100%|██████████| 361/361 [00:10<00:00, 35.93it/s]\n",
      "Processing id3_id1_0008: 100%|██████████| 458/458 [00:12<00:00, 36.33it/s]\n",
      "Processing id3_id1_0009: 100%|██████████| 497/497 [00:14<00:00, 35.11it/s]\n",
      "Processing id3_id2_0000: 100%|██████████| 458/458 [00:12<00:00, 36.24it/s]\n",
      "Processing id3_id2_0001: 100%|██████████| 380/380 [00:10<00:00, 35.72it/s]\n",
      "Processing id3_id2_0002: 100%|██████████| 428/428 [00:11<00:00, 35.69it/s]\n",
      "Processing id3_id2_0003: 100%|██████████| 372/372 [00:10<00:00, 36.08it/s]\n",
      "Processing id3_id2_0004: 100%|██████████| 499/499 [00:13<00:00, 35.88it/s]\n",
      "Processing id3_id2_0005: 100%|██████████| 398/398 [00:10<00:00, 37.00it/s]\n",
      "Processing id3_id2_0006: 100%|██████████| 409/409 [00:11<00:00, 36.30it/s]\n",
      "Processing id3_id2_0007: 100%|██████████| 361/361 [00:10<00:00, 35.94it/s]\n",
      "Processing id3_id2_0008: 100%|██████████| 458/458 [00:12<00:00, 36.98it/s]\n",
      "Processing id3_id2_0009: 100%|██████████| 497/497 [00:13<00:00, 37.29it/s]\n",
      "Processing id3_id4_0001: 100%|██████████| 380/380 [00:09<00:00, 39.52it/s]\n",
      "Processing id3_id4_0003: 100%|██████████| 372/372 [00:09<00:00, 37.28it/s]\n",
      "Processing id3_id4_0004: 100%|██████████| 499/499 [00:13<00:00, 36.81it/s]\n",
      "Processing id3_id4_0005: 100%|██████████| 398/398 [00:10<00:00, 37.90it/s]\n",
      "Processing id3_id4_0006: 100%|██████████| 409/409 [00:10<00:00, 37.96it/s]\n",
      "Processing id3_id4_0008: 100%|██████████| 458/458 [00:11<00:00, 38.70it/s]\n",
      "Processing id3_id6_0000: 100%|██████████| 458/458 [00:11<00:00, 38.58it/s]\n",
      "Processing id3_id6_0001: 100%|██████████| 380/380 [00:09<00:00, 38.45it/s]\n",
      "Processing id3_id6_0002: 100%|██████████| 428/428 [00:11<00:00, 38.39it/s]\n",
      "Processing id3_id6_0003: 100%|██████████| 372/372 [00:09<00:00, 38.80it/s]\n",
      "Processing id3_id6_0004: 100%|██████████| 499/499 [00:13<00:00, 38.19it/s]\n",
      "Processing id3_id6_0005: 100%|██████████| 398/398 [00:10<00:00, 39.20it/s]\n",
      "Processing id3_id6_0006: 100%|██████████| 409/409 [00:10<00:00, 39.54it/s]\n",
      "Processing id3_id6_0007: 100%|██████████| 361/361 [00:09<00:00, 38.36it/s]\n",
      "Processing id3_id6_0008: 100%|██████████| 458/458 [00:11<00:00, 38.39it/s]\n",
      "Processing id3_id6_0009: 100%|██████████| 497/497 [00:12<00:00, 38.76it/s]\n",
      "Processing id3_id9_0000: 100%|██████████| 458/458 [00:11<00:00, 38.71it/s]\n",
      "Processing id3_id9_0001: 100%|██████████| 380/380 [00:09<00:00, 38.11it/s]\n",
      "Processing id3_id9_0002: 100%|██████████| 428/428 [00:10<00:00, 39.37it/s]\n",
      "Processing id3_id9_0003: 100%|██████████| 372/372 [00:09<00:00, 39.64it/s]\n",
      "Processing id3_id9_0004: 100%|██████████| 499/499 [00:13<00:00, 38.13it/s]\n",
      "Processing id3_id9_0005: 100%|██████████| 398/398 [00:10<00:00, 38.85it/s]\n",
      "Processing id3_id9_0006: 100%|██████████| 409/409 [00:10<00:00, 39.62it/s]\n",
      "Processing id3_id9_0007: 100%|██████████| 361/361 [00:09<00:00, 37.25it/s]\n",
      "Processing id3_id9_0008: 100%|██████████| 458/458 [00:12<00:00, 37.99it/s]\n",
      "Processing id3_id9_0009: 100%|██████████| 496/496 [00:13<00:00, 37.10it/s]\n",
      "Processing id4_id0_0000: 100%|██████████| 426/426 [00:11<00:00, 38.25it/s]\n",
      "Processing id4_id0_0001: 100%|██████████| 126/126 [00:03<00:00, 40.83it/s]\n",
      "Processing id4_id0_0002: 100%|██████████| 460/460 [00:11<00:00, 38.91it/s]\n",
      "Processing id4_id0_0003: 100%|██████████| 425/425 [00:09<00:00, 45.64it/s]\n",
      "Processing id4_id0_0004: 100%|██████████| 416/416 [09:15<00:00,  1.34s/it] \n",
      "Processing id4_id0_0005: 100%|██████████| 193/193 [00:03<00:00, 51.90it/s]\n",
      "Processing id4_id0_0006: 100%|██████████| 301/301 [00:05<00:00, 51.35it/s]\n",
      "Processing id4_id0_0007: 100%|██████████| 403/403 [00:07<00:00, 53.81it/s]\n",
      "Processing id4_id0_0008: 100%|██████████| 287/287 [00:05<00:00, 53.03it/s]\n",
      "Processing id4_id0_0009: 100%|██████████| 401/401 [00:07<00:00, 53.77it/s]\n",
      "Processing id4_id1_0000: 100%|██████████| 423/423 [00:08<00:00, 52.74it/s]\n",
      "Processing id4_id1_0001: 100%|██████████| 187/187 [00:03<00:00, 56.79it/s]\n",
      "Processing id4_id1_0002: 100%|██████████| 464/464 [00:08<00:00, 54.71it/s]\n",
      "Processing id4_id1_0003: 100%|██████████| 438/438 [00:07<00:00, 55.79it/s]\n",
      "Processing id4_id1_0004: 100%|██████████| 420/420 [00:07<00:00, 55.63it/s]\n",
      "Processing id4_id1_0005: 100%|██████████| 270/270 [00:04<00:00, 58.10it/s]\n",
      "Processing id4_id1_0006: 100%|██████████| 301/301 [00:05<00:00, 55.93it/s]\n",
      "Processing id4_id1_0007: 100%|██████████| 446/446 [00:08<00:00, 55.55it/s]\n",
      "Processing id4_id1_0008: 100%|██████████| 322/322 [00:06<00:00, 47.96it/s]\n",
      "Processing id4_id1_0009: 100%|██████████| 428/428 [00:08<00:00, 48.52it/s]\n",
      "Processing id4_id2_0000: 100%|██████████| 422/422 [00:08<00:00, 47.69it/s]\n",
      "Processing id4_id2_0001: 100%|██████████| 168/168 [00:03<00:00, 48.40it/s]\n",
      "Processing id4_id2_0002: 100%|██████████| 453/453 [00:09<00:00, 48.74it/s]\n",
      "Processing id4_id2_0003: 100%|██████████| 386/386 [00:08<00:00, 47.05it/s]\n",
      "Processing id4_id2_0004: 100%|██████████| 419/419 [00:09<00:00, 45.47it/s]\n",
      "Processing id4_id2_0005: 100%|██████████| 147/147 [00:03<00:00, 47.49it/s]\n",
      "Processing id4_id2_0006: 100%|██████████| 302/302 [00:06<00:00, 47.04it/s]\n",
      "Processing id4_id2_0007: 100%|██████████| 425/425 [00:08<00:00, 48.08it/s]\n",
      "Processing id4_id2_0008: 100%|██████████| 311/311 [00:06<00:00, 48.47it/s]\n",
      "Processing id4_id2_0009: 100%|██████████| 395/395 [00:08<00:00, 48.11it/s]\n",
      "Processing id4_id3_0000: 100%|██████████| 419/419 [00:08<00:00, 49.61it/s]\n",
      "Processing id4_id3_0001: 100%|██████████| 125/125 [00:02<00:00, 45.19it/s]\n",
      "Processing id4_id3_0002: 100%|██████████| 423/423 [00:09<00:00, 44.67it/s]\n",
      "Processing id4_id3_0003: 100%|██████████| 426/426 [00:09<00:00, 43.76it/s]\n",
      "Processing id4_id3_0004: 100%|██████████| 416/416 [00:09<00:00, 42.50it/s]\n",
      "Processing id4_id3_0005: 100%|██████████| 148/148 [00:03<00:00, 44.94it/s]\n",
      "Processing id4_id3_0006: 100%|██████████| 302/302 [00:07<00:00, 42.85it/s]\n",
      "Processing id4_id3_0007: 100%|██████████| 446/446 [00:10<00:00, 43.86it/s]\n",
      "Processing id4_id3_0008: 100%|██████████| 287/287 [00:05<00:00, 48.53it/s]\n",
      "Processing id4_id3_0009: 100%|██████████| 376/376 [00:07<00:00, 48.89it/s]\n",
      "Processing id4_id6_0000: 100%|██████████| 403/403 [00:08<00:00, 47.79it/s]\n",
      "Processing id4_id6_0001: 100%|██████████| 72/72 [00:01<00:00, 51.81it/s]\n",
      "Processing id4_id6_0002: 100%|██████████| 452/452 [00:09<00:00, 48.13it/s]\n",
      "Processing id4_id6_0003: 100%|██████████| 430/430 [00:09<00:00, 46.24it/s]\n",
      "Processing id4_id6_0004: 100%|██████████| 423/423 [00:09<00:00, 46.59it/s]\n",
      "Processing id4_id6_0005: 100%|██████████| 185/185 [00:03<00:00, 48.37it/s]\n",
      "Processing id4_id6_0006: 100%|██████████| 301/301 [00:06<00:00, 43.67it/s]\n",
      "Processing id4_id6_0007: 100%|██████████| 441/441 [00:09<00:00, 45.33it/s]\n",
      "Processing id4_id6_0008: 100%|██████████| 291/291 [00:06<00:00, 45.53it/s]\n",
      "Processing id4_id6_0009: 100%|██████████| 390/390 [00:08<00:00, 48.27it/s]\n",
      "Processing id4_id9_0000: 100%|██████████| 414/414 [00:08<00:00, 47.66it/s]\n",
      "Processing id4_id9_0001: 100%|██████████| 136/136 [00:02<00:00, 50.47it/s]\n",
      "Processing id4_id9_0002: 100%|██████████| 472/472 [00:09<00:00, 49.16it/s]\n",
      "Processing id4_id9_0003: 100%|██████████| 428/428 [00:09<00:00, 46.53it/s]\n",
      "Processing id4_id9_0004: 100%|██████████| 429/429 [00:09<00:00, 46.51it/s]\n",
      "Processing id4_id9_0005: 100%|██████████| 226/226 [00:04<00:00, 49.88it/s]\n",
      "Processing id4_id9_0006: 100%|██████████| 301/301 [00:06<00:00, 46.99it/s]\n",
      "Processing id4_id9_0007: 100%|██████████| 446/446 [00:09<00:00, 47.65it/s]\n",
      "Processing id4_id9_0008: 100%|██████████| 285/285 [00:05<00:00, 48.56it/s]\n",
      "Processing id6_id0_0000: 100%|██████████| 619/619 [00:12<00:00, 48.85it/s]\n",
      "Processing id6_id0_0001: 100%|██████████| 308/308 [00:06<00:00, 49.06it/s]\n",
      "Processing id6_id0_0002: 100%|██████████| 604/604 [00:12<00:00, 46.60it/s]\n",
      "Processing id6_id0_0003: 100%|██████████| 372/372 [00:07<00:00, 47.08it/s]\n",
      "Processing id6_id0_0004: 100%|██████████| 361/361 [00:07<00:00, 47.79it/s]\n",
      "Processing id6_id0_0005: 100%|██████████| 367/367 [00:07<00:00, 46.33it/s]\n",
      "Processing id6_id0_0006: 100%|██████████| 288/288 [00:06<00:00, 46.33it/s]\n",
      "Processing id6_id0_0007: 100%|██████████| 536/536 [00:11<00:00, 46.13it/s]\n",
      "Processing id6_id0_0008: 100%|██████████| 372/372 [00:08<00:00, 45.13it/s]\n",
      "Processing id6_id0_0009: 100%|██████████| 519/519 [00:11<00:00, 43.89it/s]\n",
      "Processing id6_id16_0000: 100%|██████████| 621/621 [00:13<00:00, 45.95it/s]\n",
      "Processing id6_id16_0001: 100%|██████████| 313/313 [00:06<00:00, 48.65it/s]\n",
      "Processing id6_id16_0002: 100%|██████████| 608/608 [00:13<00:00, 45.12it/s]\n",
      "Processing id6_id16_0003: 100%|██████████| 372/372 [00:08<00:00, 44.16it/s]\n",
      "Processing id6_id16_0004: 100%|██████████| 351/351 [00:07<00:00, 47.47it/s]\n",
      "Processing id6_id16_0005: 100%|██████████| 368/368 [00:07<00:00, 46.44it/s]\n",
      "Processing id6_id16_0006: 100%|██████████| 288/288 [00:06<00:00, 46.30it/s]\n",
      "Processing id6_id16_0007: 100%|██████████| 525/525 [00:11<00:00, 45.50it/s]\n",
      "Processing id6_id16_0008: 100%|██████████| 368/368 [00:07<00:00, 46.87it/s]\n",
      "Processing id6_id16_0009: 100%|██████████| 525/525 [00:11<00:00, 46.34it/s]\n",
      "Processing id6_id17_0000: 100%|██████████| 612/612 [00:12<00:00, 48.57it/s]\n",
      "Processing id6_id17_0001: 100%|██████████| 315/315 [00:06<00:00, 48.82it/s]\n",
      "Processing id6_id17_0002: 100%|██████████| 608/608 [00:13<00:00, 45.63it/s]\n",
      "Processing id6_id17_0003: 100%|██████████| 372/372 [00:07<00:00, 48.80it/s]\n",
      "Processing id6_id17_0004: 100%|██████████| 385/385 [00:07<00:00, 48.87it/s]\n",
      "Processing id6_id17_0005: 100%|██████████| 367/367 [00:07<00:00, 48.91it/s]\n",
      "Processing id6_id17_0006: 100%|██████████| 268/268 [00:05<00:00, 49.80it/s]\n",
      "Processing id6_id17_0007: 100%|██████████| 503/503 [00:10<00:00, 47.89it/s]\n",
      "Processing id6_id17_0008: 100%|██████████| 380/380 [00:07<00:00, 49.19it/s]\n",
      "Processing id6_id17_0009: 100%|██████████| 530/530 [00:11<00:00, 46.59it/s]\n",
      "Processing id6_id1_0000: 100%|██████████| 630/630 [00:13<00:00, 47.12it/s]\n",
      "Processing id6_id1_0001: 100%|██████████| 317/317 [00:06<00:00, 45.31it/s]\n",
      "Processing id6_id1_0002: 100%|██████████| 604/604 [00:13<00:00, 45.89it/s]\n",
      "Processing id6_id1_0003: 100%|██████████| 372/372 [00:07<00:00, 46.72it/s]\n",
      "Processing id6_id1_0004: 100%|██████████| 431/431 [00:09<00:00, 47.82it/s]\n",
      "Processing id6_id1_0005: 100%|██████████| 369/369 [00:08<00:00, 45.87it/s]\n",
      "Processing id6_id1_0006: 100%|██████████| 290/290 [00:06<00:00, 46.22it/s]\n",
      "Processing id6_id1_0007: 100%|██████████| 534/534 [00:11<00:00, 46.39it/s]\n",
      "Processing id6_id1_0008: 100%|██████████| 381/381 [00:07<00:00, 47.92it/s]\n",
      "Processing id6_id1_0009: 100%|██████████| 530/530 [00:12<00:00, 44.06it/s]\n",
      "Processing id6_id2_0000: 100%|██████████| 593/593 [00:12<00:00, 46.37it/s]\n",
      "Processing id6_id2_0001: 100%|██████████| 304/304 [00:06<00:00, 48.21it/s]\n",
      "Processing id6_id2_0002: 100%|██████████| 610/610 [00:12<00:00, 47.20it/s]\n",
      "Processing id6_id2_0003: 100%|██████████| 371/371 [00:07<00:00, 47.16it/s]\n",
      "Processing id6_id2_0004: 100%|██████████| 192/192 [07:51<00:00,  2.46s/it]\n",
      "Processing id6_id2_0005: 100%|██████████| 362/362 [00:08<00:00, 44.72it/s]\n",
      "Processing id6_id2_0006: 100%|██████████| 249/249 [00:05<00:00, 48.04it/s]\n",
      "Processing id6_id2_0007: 100%|██████████| 482/482 [00:09<00:00, 52.65it/s]\n",
      "Processing id6_id2_0008: 100%|██████████| 379/379 [00:07<00:00, 53.22it/s]\n",
      "Processing id6_id2_0009: 100%|██████████| 499/499 [00:09<00:00, 52.72it/s]\n",
      "Processing id6_id3_0000: 100%|██████████| 581/581 [00:10<00:00, 53.77it/s]\n",
      "Processing id6_id3_0001: 100%|██████████| 313/313 [00:05<00:00, 54.31it/s]\n",
      "Processing id6_id3_0002: 100%|██████████| 600/600 [00:11<00:00, 53.08it/s]\n",
      "Processing id6_id3_0003: 100%|██████████| 372/372 [00:06<00:00, 53.85it/s]\n",
      "Processing id6_id3_0004: 100%|██████████| 338/338 [00:06<00:00, 55.74it/s]\n",
      "Processing id6_id3_0005: 100%|██████████| 365/365 [00:06<00:00, 54.50it/s]\n",
      "Processing id6_id3_0006: 100%|██████████| 284/284 [00:06<00:00, 47.22it/s]\n",
      "Processing id6_id3_0007: 100%|██████████| 506/506 [00:13<00:00, 38.73it/s]\n",
      "Processing id6_id3_0008: 100%|██████████| 366/366 [00:08<00:00, 41.24it/s]\n",
      "Processing id6_id3_0009: 100%|██████████| 512/512 [00:13<00:00, 39.08it/s]\n",
      "Processing id6_id4_0001: 100%|██████████| 300/300 [00:06<00:00, 43.11it/s]\n",
      "Processing id6_id4_0004: 100%|██████████| 213/213 [00:04<00:00, 44.32it/s]\n",
      "Processing id6_id4_0005: 100%|██████████| 357/357 [00:08<00:00, 43.14it/s]\n",
      "Processing id6_id4_0006: 100%|██████████| 248/248 [00:05<00:00, 44.15it/s]\n",
      "Processing id6_id4_0007: 100%|██████████| 513/513 [00:12<00:00, 39.87it/s]\n",
      "Processing id6_id4_0008: 100%|██████████| 337/337 [00:08<00:00, 39.70it/s]\n",
      "Processing id6_id4_0009: 100%|██████████| 504/504 [00:13<00:00, 38.52it/s]\n",
      "Processing id6_id9_0000: 100%|██████████| 591/591 [00:14<00:00, 41.30it/s]\n",
      "Processing id6_id9_0001: 100%|██████████| 310/310 [00:07<00:00, 40.30it/s]\n",
      "Processing id6_id9_0002: 100%|██████████| 602/602 [00:15<00:00, 38.60it/s]\n",
      "Processing id6_id9_0003: 100%|██████████| 372/372 [00:08<00:00, 42.28it/s]\n",
      "Processing id6_id9_0004: 100%|██████████| 412/412 [00:09<00:00, 44.05it/s]\n",
      "Processing id6_id9_0005: 100%|██████████| 366/366 [00:08<00:00, 42.82it/s]\n",
      "Processing id6_id9_0006: 100%|██████████| 289/289 [00:06<00:00, 41.80it/s]\n",
      "Processing id6_id9_0007: 100%|██████████| 511/511 [00:12<00:00, 42.34it/s]\n",
      "Processing id6_id9_0008: 100%|██████████| 377/377 [00:09<00:00, 41.87it/s]\n",
      "Processing id6_id9_0009: 100%|██████████| 527/527 [00:12<00:00, 41.48it/s]\n",
      "Processing id7_id10_0001: 100%|██████████| 295/295 [00:07<00:00, 40.24it/s]\n",
      "Processing id7_id10_0002: 100%|██████████| 259/259 [00:06<00:00, 39.76it/s]\n",
      "Processing id7_id10_0003: 100%|██████████| 545/545 [00:13<00:00, 40.66it/s]\n",
      "Processing id7_id10_0004: 100%|██████████| 457/457 [00:11<00:00, 38.51it/s]\n",
      "Processing id7_id10_0005: 100%|██████████| 135/135 [00:03<00:00, 43.92it/s]\n",
      "Processing id7_id10_0007: 100%|██████████| 400/400 [00:10<00:00, 39.71it/s]\n",
      "Processing id7_id10_0009: 100%|██████████| 457/457 [00:10<00:00, 41.70it/s]\n",
      "Processing id7_id11_0000: 100%|██████████| 263/263 [00:06<00:00, 42.73it/s]\n",
      "Processing id7_id11_0001: 100%|██████████| 295/295 [00:07<00:00, 39.71it/s]\n",
      "Processing id7_id11_0002: 100%|██████████| 268/268 [00:06<00:00, 39.66it/s]\n",
      "Processing id7_id11_0004: 100%|██████████| 483/483 [00:11<00:00, 40.80it/s]\n",
      "Processing id7_id11_0005: 100%|██████████| 159/159 [00:03<00:00, 44.57it/s]\n",
      "Processing id7_id11_0006: 100%|██████████| 214/214 [00:05<00:00, 40.94it/s]\n",
      "Processing id7_id11_0007: 100%|██████████| 400/400 [00:09<00:00, 40.16it/s]\n",
      "Processing id7_id11_0009: 100%|██████████| 458/458 [00:10<00:00, 42.32it/s]\n",
      "Processing id7_id12_0000: 100%|██████████| 256/256 [00:06<00:00, 40.12it/s]\n",
      "Processing id7_id12_0002: 100%|██████████| 256/256 [00:05<00:00, 45.04it/s]\n",
      "Processing id7_id12_0004: 100%|██████████| 524/524 [00:12<00:00, 40.83it/s]\n",
      "Processing id7_id12_0005: 100%|██████████| 150/150 [00:03<00:00, 41.97it/s]\n",
      "Processing id7_id12_0007: 100%|██████████| 395/395 [00:10<00:00, 38.64it/s]\n",
      "Processing id7_id12_0009: 100%|██████████| 457/457 [00:11<00:00, 40.36it/s]\n",
      "Processing id7_id13_0000: 100%|██████████| 248/248 [00:05<00:00, 49.33it/s]\n",
      "Processing id7_id13_0001: 100%|██████████| 295/295 [00:06<00:00, 44.22it/s]\n",
      "Processing id7_id13_0002: 100%|██████████| 253/253 [00:05<00:00, 44.88it/s]\n",
      "Processing id7_id13_0004: 100%|██████████| 504/504 [00:10<00:00, 46.12it/s]\n",
      "Processing id7_id13_0005: 100%|██████████| 153/153 [00:03<00:00, 49.00it/s]\n",
      "Processing id7_id13_0006: 100%|██████████| 214/214 [00:04<00:00, 43.08it/s]\n",
      "Processing id7_id13_0007: 100%|██████████| 395/395 [00:09<00:00, 43.65it/s]\n",
      "Processing id7_id13_0009: 100%|██████████| 458/458 [00:10<00:00, 42.31it/s]\n",
      "Processing id8_id0_0002: 100%|██████████| 520/520 [00:12<00:00, 42.81it/s]\n",
      "Processing id8_id0_0003: 100%|██████████| 396/396 [00:08<00:00, 47.99it/s]\n",
      "Processing id8_id0_0007: 100%|██████████| 11/11 [00:00<00:00, 39.29it/s]\n",
      "Processing id8_id0_0008: 100%|██████████| 2/2 [00:00<00:00, 62.32it/s]\n",
      "Processing id8_id1_0002: 100%|██████████| 521/521 [00:11<00:00, 45.50it/s]\n",
      "Processing id8_id1_0003: 100%|██████████| 388/388 [00:09<00:00, 42.54it/s]\n",
      "Processing id8_id1_0007: 0it [00:00, ?it/s]\n",
      "Processing id8_id1_0008: 100%|██████████| 1/1 [00:00<00:00, 65.76it/s]\n",
      "Processing id8_id2_0002: 100%|██████████| 518/518 [00:12<00:00, 42.11it/s]\n",
      "Processing id8_id2_0003: 100%|██████████| 387/387 [00:09<00:00, 42.10it/s]\n",
      "Processing id8_id2_0007: 100%|██████████| 6/6 [00:00<00:00, 48.36it/s]\n",
      "Processing id8_id2_0008: 100%|██████████| 8/8 [00:00<00:00, 54.35it/s]\n",
      "Processing id8_id3_0002: 100%|██████████| 515/515 [00:11<00:00, 44.55it/s]\n",
      "Processing id8_id3_0003: 100%|██████████| 385/385 [00:09<00:00, 42.22it/s]\n",
      "Processing id8_id3_0007: 100%|██████████| 2/2 [00:00<00:00, 64.51it/s]\n",
      "Processing id8_id3_0008: 100%|██████████| 5/5 [00:00<00:00, 61.24it/s]\n",
      "Processing id8_id4_0007: 100%|██████████| 8/8 [00:00<00:00, 57.44it/s]\n",
      "Processing id8_id5_0002: 100%|██████████| 523/523 [00:11<00:00, 44.14it/s]\n",
      "Processing id8_id5_0003: 100%|██████████| 384/384 [00:08<00:00, 44.33it/s]\n",
      "Processing id8_id5_0007: 0it [00:00, ?it/s]\n",
      "Processing id8_id5_0008: 0it [00:00, ?it/s]\n",
      "Processing id8_id6_0002: 100%|██████████| 520/520 [00:11<00:00, 44.79it/s]\n",
      "Processing id8_id6_0003: 100%|██████████| 391/391 [00:09<00:00, 42.45it/s]\n",
      "Processing id8_id6_0007: 100%|██████████| 1/1 [00:00<00:00, 62.03it/s]\n",
      "Processing id8_id6_0008: 100%|██████████| 1/1 [00:00<00:00, 60.31it/s]\n",
      "Processing id8_id7_0002: 100%|██████████| 522/522 [00:12<00:00, 42.32it/s]\n",
      "Processing id8_id7_0003: 100%|██████████| 392/392 [00:09<00:00, 40.37it/s]\n",
      "Processing id8_id7_0007: 100%|██████████| 21/21 [00:00<00:00, 45.80it/s]\n",
      "Processing id8_id7_0008: 100%|██████████| 1/1 [00:00<00:00, 81.52it/s]\n",
      "Processing id8_id9_0002: 100%|██████████| 520/520 [00:12<00:00, 41.21it/s]\n",
      "Processing id8_id9_0003: 100%|██████████| 390/390 [00:09<00:00, 41.62it/s]\n",
      "Processing id8_id9_0007: 100%|██████████| 1/1 [00:00<00:00, 76.76it/s]\n",
      "Processing id8_id9_0008: 100%|██████████| 2/2 [00:00<00:00, 62.50it/s]\n",
      "Processing id9_id0_0000: 100%|██████████| 448/448 [00:10<00:00, 41.78it/s]\n",
      "Processing id9_id0_0001: 100%|██████████| 437/437 [00:09<00:00, 43.92it/s]\n",
      "Processing id9_id0_0003: 100%|██████████| 195/195 [00:04<00:00, 46.62it/s]\n",
      "Processing id9_id0_0004: 100%|██████████| 362/362 [00:07<00:00, 46.38it/s]\n",
      "Processing id9_id0_0005: 100%|██████████| 420/420 [00:09<00:00, 43.41it/s]\n",
      "Processing id9_id0_0006: 100%|██████████| 401/401 [00:09<00:00, 42.69it/s]\n",
      "Processing id9_id0_0007: 100%|██████████| 322/322 [00:07<00:00, 44.73it/s]\n",
      "Processing id9_id0_0008: 100%|██████████| 461/461 [00:11<00:00, 39.93it/s]\n",
      "Processing id9_id0_0009: 100%|██████████| 313/313 [00:07<00:00, 43.11it/s]\n",
      "Processing id9_id16_0000: 100%|██████████| 448/448 [00:42<00:00, 10.43it/s]\n",
      "Processing id9_id16_0001: 100%|██████████| 437/437 [00:09<00:00, 45.06it/s]\n",
      "Processing id9_id16_0002: 100%|██████████| 312/312 [00:05<00:00, 54.39it/s]\n",
      "Processing id9_id16_0003: 100%|██████████| 278/278 [00:04<00:00, 57.54it/s]\n",
      "Processing id9_id16_0004: 100%|██████████| 362/362 [00:06<00:00, 55.30it/s]\n",
      "Processing id9_id16_0005: 100%|██████████| 420/420 [00:07<00:00, 53.22it/s]\n",
      "Processing id9_id16_0006: 100%|██████████| 401/401 [00:07<00:00, 55.97it/s]\n",
      "Processing id9_id16_0007: 100%|██████████| 338/338 [00:07<00:00, 43.97it/s]\n",
      "Processing id9_id16_0008: 100%|██████████| 461/461 [00:10<00:00, 42.60it/s]\n",
      "Processing id9_id16_0009: 100%|██████████| 311/311 [00:07<00:00, 42.98it/s]\n",
      "Processing id9_id17_0000: 100%|██████████| 448/448 [00:10<00:00, 44.64it/s]\n",
      "Processing id9_id17_0001: 100%|██████████| 437/437 [00:09<00:00, 45.43it/s]\n",
      "Processing id9_id17_0002: 100%|██████████| 351/351 [00:11<00:00, 30.51it/s]\n",
      "Processing id9_id17_0003: 100%|██████████| 216/216 [00:07<00:00, 30.02it/s]\n",
      "Processing id9_id17_0004: 100%|██████████| 362/362 [00:12<00:00, 28.29it/s]\n",
      "Processing id9_id17_0005: 100%|██████████| 420/420 [00:13<00:00, 31.87it/s]\n",
      "Processing id9_id17_0006: 100%|██████████| 401/401 [00:10<00:00, 38.52it/s]\n",
      "Processing id9_id17_0007: 100%|██████████| 372/372 [00:09<00:00, 39.61it/s]\n",
      "Processing id9_id17_0008: 100%|██████████| 461/461 [00:12<00:00, 36.00it/s]\n",
      "Processing id9_id17_0009: 100%|██████████| 313/313 [00:08<00:00, 35.63it/s]\n",
      "Processing id9_id1_0000: 100%|██████████| 448/448 [00:13<00:00, 32.80it/s]\n",
      "Processing id9_id1_0001: 100%|██████████| 437/437 [00:16<00:00, 26.80it/s]\n",
      "Processing id9_id1_0002: 100%|██████████| 348/348 [00:08<00:00, 39.38it/s]\n",
      "Processing id9_id1_0004: 100%|██████████| 362/362 [00:09<00:00, 38.05it/s]\n",
      "Processing id9_id1_0005: 100%|██████████| 420/420 [00:10<00:00, 38.34it/s]\n",
      "Processing id9_id1_0006: 100%|██████████| 401/401 [00:11<00:00, 35.16it/s]\n",
      "Processing id9_id1_0008: 100%|██████████| 461/461 [00:11<00:00, 39.41it/s]\n",
      "Processing id9_id1_0009: 100%|██████████| 312/312 [00:08<00:00, 38.73it/s]\n",
      "Processing id9_id2_0000: 100%|██████████| 448/448 [00:11<00:00, 38.08it/s]\n",
      "Processing id9_id2_0001: 100%|██████████| 437/437 [00:11<00:00, 39.03it/s]\n",
      "Processing id9_id2_0002: 100%|██████████| 300/300 [00:07<00:00, 38.92it/s]\n",
      "Processing id9_id2_0004: 100%|██████████| 362/362 [00:10<00:00, 34.36it/s]\n",
      "Processing id9_id2_0005: 100%|██████████| 418/418 [00:14<00:00, 28.52it/s]\n",
      "Processing id9_id2_0006: 100%|██████████| 401/401 [00:10<00:00, 37.21it/s]\n",
      "Processing id9_id2_0007: 100%|██████████| 224/224 [00:05<00:00, 39.74it/s]\n",
      "Processing id9_id2_0008: 100%|██████████| 461/461 [00:12<00:00, 38.23it/s]\n",
      "Processing id9_id2_0009: 100%|██████████| 310/310 [00:07<00:00, 39.31it/s]\n",
      "Processing id9_id3_0000: 100%|██████████| 448/448 [00:12<00:00, 35.10it/s]\n",
      "Processing id9_id3_0001: 100%|██████████| 437/437 [00:12<00:00, 35.22it/s]\n",
      "Processing id9_id3_0002: 100%|██████████| 296/296 [00:08<00:00, 35.08it/s]\n",
      "Processing id9_id3_0004: 100%|██████████| 362/362 [00:09<00:00, 36.25it/s]\n",
      "Processing id9_id3_0005: 100%|██████████| 419/419 [00:11<00:00, 37.57it/s]\n",
      "Processing id9_id3_0006: 100%|██████████| 401/401 [00:10<00:00, 36.71it/s]\n",
      "Processing id9_id3_0007: 100%|██████████| 336/336 [00:09<00:00, 36.31it/s]\n",
      "Processing id9_id3_0008: 100%|██████████| 461/461 [00:12<00:00, 37.55it/s]\n",
      "Processing id9_id3_0009: 100%|██████████| 310/310 [00:08<00:00, 38.20it/s]\n",
      "Processing id9_id4_0000: 100%|██████████| 448/448 [00:12<00:00, 37.16it/s]\n",
      "Processing id9_id4_0001: 100%|██████████| 437/437 [00:11<00:00, 38.72it/s]\n",
      "Processing id9_id4_0002: 100%|██████████| 284/284 [00:07<00:00, 38.73it/s]\n",
      "Processing id9_id4_0004: 100%|██████████| 362/362 [00:09<00:00, 39.10it/s]\n",
      "Processing id9_id4_0005: 100%|██████████| 420/420 [00:11<00:00, 37.94it/s]\n",
      "Processing id9_id4_0006: 100%|██████████| 401/401 [00:10<00:00, 38.80it/s]\n",
      "Processing id9_id4_0007: 100%|██████████| 158/158 [00:04<00:00, 36.70it/s]\n",
      "Processing id9_id4_0008: 100%|██████████| 460/460 [00:13<00:00, 34.96it/s]\n",
      "Processing id9_id4_0009: 100%|██████████| 302/302 [00:08<00:00, 35.75it/s]\n",
      "Processing id9_id6_0000: 100%|██████████| 448/448 [00:12<00:00, 37.22it/s]\n",
      "Processing id9_id6_0001: 100%|██████████| 437/437 [00:11<00:00, 37.98it/s]\n",
      "Processing id9_id6_0002: 100%|██████████| 322/322 [00:08<00:00, 37.04it/s]\n",
      "Processing id9_id6_0004: 100%|██████████| 360/360 [00:09<00:00, 37.36it/s]\n",
      "Processing id9_id6_0005: 100%|██████████| 413/413 [00:10<00:00, 37.65it/s]\n",
      "Processing id9_id6_0006: 100%|██████████| 401/401 [00:10<00:00, 37.48it/s]\n",
      "Processing id9_id6_0007: 100%|██████████| 359/359 [00:09<00:00, 37.60it/s]\n",
      "Processing id9_id6_0008: 100%|██████████| 461/461 [00:12<00:00, 36.81it/s]\n",
      "Processing id9_id6_0009: 100%|██████████| 313/313 [00:08<00:00, 36.72it/s]"
     ]
    },
    {
     "name": "stdout",
     "output_type": "stream",
     "text": [
      "✅ Muscle tension maps saved to: D:\\DETECTION 1.0\\Celeb-DF\\muscle_tension_maps\n"
     ]
    },
    {
     "name": "stderr",
     "output_type": "stream",
     "text": [
      "\n"
     ]
    }
   ],
   "source": [
    "import os\n",
    "import cv2\n",
    "import numpy as np\n",
    "import pandas as pd\n",
    "import mediapipe as mp\n",
    "from tqdm import tqdm\n",
    "from scipy.spatial import distance\n",
    "\n",
    "# === Setup ===\n",
    "INPUT_FOLDER = r\"D:\\DETECTION 1.0\\Celeb-DF\\aligned_faces_fake\"# Folder containing aligned face frames per video\n",
    "OUTPUT_FOLDER = r\"D:\\DETECTION 1.0\\Celeb-DF\\muscle_tension_maps\"\n",
    "os.makedirs(OUTPUT_FOLDER, exist_ok=True)\n",
    "\n",
    "# === MediaPipe Face Mesh ===\n",
    "mp_face_mesh = mp.solutions.face_mesh\n",
    "face_mesh = mp_face_mesh.FaceMesh(static_image_mode=True, max_num_faces=1, refine_landmarks=True)\n",
    "\n",
    "# === Adjacency Pairs (subset for strain) ===\n",
    "ADJACENT_PAIRS = [\n",
    "    (33, 160), (160, 158), (158, 133),  # Left Eye Top\n",
    "    (263, 387), (387, 385), (385, 362),  # Right Eye Top\n",
    "    (61, 291),  # Mouth\n",
    "    (50, 280),  # Cheeks\n",
    "    (70, 336),  # Brows\n",
    "    (10, 152),  # Nose Bridge to Chin\n",
    "]\n",
    "\n",
    "# === Compute Strain Between Landmark Pairs ===\n",
    "def compute_strain(landmarks, image_shape):\n",
    "    h, w = image_shape[:2]\n",
    "    coords = [(int(lm.x * w), int(lm.y * h)) for lm in landmarks]\n",
    "    strains = []\n",
    "    for (i, j) in ADJACENT_PAIRS:\n",
    "        if i < len(coords) and j < len(coords):\n",
    "            dist = distance.euclidean(coords[i], coords[j])\n",
    "            strains.append(((coords[i], coords[j]), dist))\n",
    "    return strains\n",
    "\n",
    "# === Draw Tension Map ===\n",
    "def draw_tension_map(image, strain_data):\n",
    "    tension_map = np.zeros_like(image)\n",
    "    for ((pt1, pt2), val) in strain_data:\n",
    "        intensity = int(min(max(val, 0), 50)) * 5  # Scale\n",
    "        cv2.line(tension_map, pt1, pt2, (0, 0, intensity), 2)\n",
    "    heatmap = cv2.applyColorMap(tension_map[:, :, 2], cv2.COLORMAP_JET)\n",
    "    blended = cv2.addWeighted(image, 0.6, heatmap, 0.4, 0)\n",
    "    return blended\n",
    "\n",
    "# === Process Folder ===\n",
    "def process_video_folder(video_path, output_subfolder):\n",
    "    os.makedirs(output_subfolder, exist_ok=True)\n",
    "    for img_file in tqdm(sorted(os.listdir(video_path)), desc=f\"Processing {os.path.basename(video_path)}\"):\n",
    "        if not img_file.endswith((\".jpg\", \".png\")):\n",
    "            continue\n",
    "        img_path = os.path.join(video_path, img_file)\n",
    "        image = cv2.imread(img_path)\n",
    "        if image is None:\n",
    "            continue\n",
    "\n",
    "        rgb = cv2.cvtColor(image, cv2.COLOR_BGR2RGB)\n",
    "        results = face_mesh.process(rgb)\n",
    "        if results.multi_face_landmarks:\n",
    "            lm = results.multi_face_landmarks[0].landmark\n",
    "            strain_data = compute_strain(lm, image.shape)\n",
    "            tension_map = draw_tension_map(image, strain_data)\n",
    "            save_path = os.path.join(output_subfolder, img_file)\n",
    "            cv2.imwrite(save_path, tension_map)\n",
    "\n",
    "# === Run on All Videos ===\n",
    "for video_id in os.listdir(INPUT_FOLDER):\n",
    "    video_folder = os.path.join(INPUT_FOLDER, video_id)\n",
    "    if os.path.isdir(video_folder):\n",
    "        output_subfolder = os.path.join(OUTPUT_FOLDER, video_id)\n",
    "        process_video_folder(video_folder, output_subfolder)\n",
    "\n",
    "print(\"✅ Muscle tension maps saved to:\", OUTPUT_FOLDER)\n"
   ]
  },
  {
   "cell_type": "code",
   "execution_count": null,
   "id": "51735f02",
   "metadata": {},
   "outputs": [],
   "source": []
  },
  {
   "cell_type": "code",
   "execution_count": 1,
   "id": "2d5c242c",
   "metadata": {},
   "outputs": [
    {
     "name": "stderr",
     "output_type": "stream",
     "text": [
      "Processing 00000: 100%|██████████| 450/450 [00:09<00:00, 46.28it/s]\n",
      "Processing 00001: 100%|██████████| 415/415 [00:13<00:00, 30.75it/s]\n",
      "Processing 00002: 100%|██████████| 410/410 [00:14<00:00, 28.71it/s]\n",
      "Processing 00003: 100%|██████████| 265/265 [00:09<00:00, 29.19it/s]\n",
      "Processing 00004: 100%|██████████| 450/450 [00:15<00:00, 29.49it/s]\n",
      "Processing 00005: 100%|██████████| 463/463 [00:16<00:00, 28.47it/s]\n",
      "Processing 00006: 100%|██████████| 486/486 [00:16<00:00, 28.68it/s]\n",
      "Processing 00007: 100%|██████████| 467/467 [00:16<00:00, 28.52it/s]\n",
      "Processing 00008: 100%|██████████| 421/421 [00:13<00:00, 30.23it/s]\n",
      "Processing 00009: 100%|██████████| 575/575 [00:20<00:00, 28.42it/s]\n",
      "Processing 00010: 100%|██████████| 304/304 [00:10<00:00, 28.54it/s]\n",
      "Processing 00011: 100%|██████████| 470/470 [00:16<00:00, 28.55it/s]\n",
      "Processing 00012: 100%|██████████| 364/364 [00:12<00:00, 28.48it/s]\n",
      "Processing 00013: 100%|██████████| 474/474 [00:16<00:00, 29.25it/s]\n",
      "Processing 00014: 100%|██████████| 461/461 [00:15<00:00, 29.26it/s]\n",
      "Processing 00015: 100%|██████████| 442/442 [00:15<00:00, 29.07it/s]\n",
      "Processing 00016: 100%|██████████| 315/315 [00:11<00:00, 28.58it/s]\n",
      "Processing 00017: 100%|██████████| 282/282 [00:09<00:00, 29.43it/s]\n",
      "Processing 00018: 100%|██████████| 435/435 [00:15<00:00, 28.53it/s]\n",
      "Processing 00019: 100%|██████████| 468/468 [00:16<00:00, 28.75it/s]\n",
      "Processing 00020: 100%|██████████| 456/456 [00:15<00:00, 29.28it/s]\n",
      "Processing 00021: 100%|██████████| 407/407 [00:14<00:00, 29.01it/s]\n",
      "Processing 00022: 100%|██████████| 471/471 [00:17<00:00, 26.93it/s]\n",
      "Processing 00023: 100%|██████████| 384/384 [00:10<00:00, 36.10it/s]\n",
      "Processing 00024: 100%|██████████| 547/547 [00:12<00:00, 44.15it/s]\n",
      "Processing 00025: 100%|██████████| 470/470 [00:10<00:00, 44.44it/s]\n",
      "Processing 00026: 100%|██████████| 485/485 [00:10<00:00, 46.72it/s]\n",
      "Processing 00027: 100%|██████████| 349/349 [00:07<00:00, 47.45it/s]\n",
      "Processing 00028: 100%|██████████| 467/467 [00:09<00:00, 47.78it/s]\n",
      "Processing 00029: 100%|██████████| 457/457 [00:09<00:00, 47.75it/s]\n",
      "Processing 00030: 100%|██████████| 472/472 [00:09<00:00, 47.69it/s]\n",
      "Processing 00031: 100%|██████████| 510/510 [00:10<00:00, 46.41it/s]\n",
      "Processing 00032: 100%|██████████| 463/463 [00:09<00:00, 46.87it/s]\n",
      "Processing 00033: 0it [00:00, ?it/s]\n",
      "Processing 00034: 100%|██████████| 482/482 [00:11<00:00, 43.76it/s]\n",
      "Processing 00035: 100%|██████████| 458/458 [00:10<00:00, 43.58it/s]\n",
      "Processing 00036: 100%|██████████| 539/539 [00:11<00:00, 46.26it/s]\n",
      "Processing 00037: 100%|██████████| 430/430 [00:09<00:00, 47.70it/s]\n",
      "Processing 00038: 100%|██████████| 459/459 [00:09<00:00, 46.45it/s]\n",
      "Processing 00039: 100%|██████████| 406/406 [00:08<00:00, 48.71it/s]\n",
      "Processing 00040: 100%|██████████| 381/381 [00:08<00:00, 44.01it/s]\n",
      "Processing 00041: 100%|██████████| 456/456 [00:10<00:00, 42.26it/s]\n",
      "Processing 00042: 100%|██████████| 271/271 [00:06<00:00, 41.22it/s]\n",
      "Processing 00043: 100%|██████████| 371/371 [00:07<00:00, 47.60it/s]\n",
      "Processing 00044: 100%|██████████| 463/463 [00:10<00:00, 43.98it/s]\n",
      "Processing 00045: 100%|██████████| 459/459 [00:11<00:00, 41.28it/s]\n",
      "Processing 00046: 100%|██████████| 470/470 [00:11<00:00, 40.64it/s]\n",
      "Processing 00047: 100%|██████████| 478/478 [00:11<00:00, 41.97it/s]\n",
      "Processing 00048: 100%|██████████| 484/484 [00:10<00:00, 45.48it/s]\n",
      "Processing 00049: 100%|██████████| 189/189 [00:03<00:00, 48.33it/s]\n",
      "Processing 00050: 100%|██████████| 466/466 [00:11<00:00, 42.35it/s]\n",
      "Processing 00051: 100%|██████████| 367/367 [00:08<00:00, 41.29it/s]\n",
      "Processing 00052: 100%|██████████| 464/464 [00:10<00:00, 42.43it/s]\n",
      "Processing 00053: 100%|██████████| 468/468 [00:10<00:00, 46.40it/s]\n",
      "Processing 00054: 100%|██████████| 400/400 [00:07<00:00, 50.82it/s]\n",
      "Processing 00055: 100%|██████████| 468/468 [00:09<00:00, 48.21it/s]\n",
      "Processing 00056: 100%|██████████| 534/534 [00:11<00:00, 47.58it/s]\n",
      "Processing 00057: 100%|██████████| 466/466 [00:10<00:00, 46.42it/s]\n",
      "Processing 00058: 100%|██████████| 497/497 [00:10<00:00, 49.08it/s]\n",
      "Processing 00059: 100%|██████████| 474/474 [00:10<00:00, 45.41it/s]\n",
      "Processing 00060: 100%|██████████| 411/411 [00:07<00:00, 52.08it/s]\n",
      "Processing 00061: 100%|██████████| 392/392 [00:07<00:00, 53.16it/s]\n",
      "Processing 00062: 100%|██████████| 478/478 [00:09<00:00, 48.55it/s]\n",
      "Processing 00063: 100%|██████████| 265/265 [00:05<00:00, 52.11it/s]\n",
      "Processing 00064: 100%|██████████| 429/429 [00:08<00:00, 50.29it/s]\n",
      "Processing 00065: 100%|██████████| 493/493 [00:09<00:00, 51.60it/s]\n",
      "Processing 00066: 100%|██████████| 457/457 [00:09<00:00, 50.31it/s]\n",
      "Processing 00067: 100%|██████████| 460/460 [00:10<00:00, 44.31it/s]\n",
      "Processing 00068: 100%|██████████| 474/474 [00:10<00:00, 45.30it/s]\n",
      "Processing 00069: 100%|██████████| 183/183 [00:03<00:00, 48.84it/s]\n",
      "Processing 00070: 100%|██████████| 337/337 [00:06<00:00, 48.92it/s]\n",
      "Processing 00071: 100%|██████████| 495/495 [00:10<00:00, 47.87it/s]\n",
      "Processing 00072: 100%|██████████| 478/478 [00:09<00:00, 48.21it/s]\n",
      "Processing 00073: 100%|██████████| 450/450 [00:09<00:00, 48.22it/s]\n",
      "Processing 00074: 100%|██████████| 4/4 [00:00<00:00, 57.30it/s]\n",
      "Processing 00075: 100%|██████████| 474/474 [00:10<00:00, 46.20it/s]\n",
      "Processing 00076: 100%|██████████| 479/479 [00:10<00:00, 46.00it/s]\n",
      "Processing 00077: 100%|██████████| 464/464 [00:09<00:00, 47.99it/s]\n",
      "Processing 00078: 100%|██████████| 491/491 [00:09<00:00, 49.30it/s]\n",
      "Processing 00079: 100%|██████████| 383/383 [00:07<00:00, 51.25it/s]\n",
      "Processing 00080: 100%|██████████| 476/476 [00:09<00:00, 48.78it/s]\n",
      "Processing 00081: 100%|██████████| 452/452 [00:09<00:00, 48.36it/s]\n",
      "Processing 00082: 100%|██████████| 459/459 [00:08<00:00, 52.87it/s]\n",
      "Processing 00083: 100%|██████████| 359/359 [00:07<00:00, 47.89it/s]\n",
      "Processing 00084: 100%|██████████| 408/408 [00:08<00:00, 48.24it/s]\n",
      "Processing 00085: 100%|██████████| 515/515 [00:09<00:00, 52.83it/s]\n",
      "Processing 00086: 100%|██████████| 482/482 [00:09<00:00, 49.08it/s]\n",
      "Processing 00087: 100%|██████████| 467/467 [00:11<00:00, 42.16it/s]\n",
      "Processing 00088: 100%|██████████| 493/493 [00:11<00:00, 42.83it/s]\n",
      "Processing 00089: 100%|██████████| 471/471 [00:09<00:00, 52.08it/s]\n",
      "Processing 00090: 100%|██████████| 416/416 [16:12<00:00,  2.34s/it]\n",
      "Processing 00091: 100%|██████████| 455/455 [00:10<00:00, 43.83it/s]\n",
      "Processing 00092: 100%|██████████| 544/544 [00:10<00:00, 49.84it/s]\n",
      "Processing 00093: 100%|██████████| 105/105 [00:01<00:00, 64.01it/s]\n",
      "Processing 00094: 100%|██████████| 414/414 [00:08<00:00, 50.17it/s]\n",
      "Processing 00095: 100%|██████████| 487/487 [00:10<00:00, 46.33it/s]\n",
      "Processing 00096: 100%|██████████| 305/305 [00:06<00:00, 45.36it/s]\n",
      "Processing 00097: 100%|██████████| 496/496 [00:10<00:00, 47.36it/s]\n",
      "Processing 00098: 100%|██████████| 395/395 [00:08<00:00, 47.65it/s]\n",
      "Processing 00099: 100%|██████████| 494/494 [00:10<00:00, 45.70it/s]\n",
      "Processing 00100: 100%|██████████| 534/534 [00:11<00:00, 44.94it/s]\n",
      "Processing 00101: 100%|██████████| 440/440 [00:15<00:00, 29.10it/s]\n",
      "Processing 00102: 100%|██████████| 440/440 [00:14<00:00, 29.53it/s]\n",
      "Processing 00103: 100%|██████████| 255/255 [00:07<00:00, 31.96it/s]\n",
      "Processing 00104: 100%|██████████| 497/497 [00:16<00:00, 31.06it/s]\n",
      "Processing 00105: 100%|██████████| 251/251 [00:07<00:00, 32.88it/s]\n",
      "Processing 00106: 100%|██████████| 298/298 [00:09<00:00, 31.51it/s]\n",
      "Processing 00107: 100%|██████████| 393/393 [00:12<00:00, 31.38it/s]\n",
      "Processing 00108: 100%|██████████| 478/478 [00:15<00:00, 30.78it/s]\n",
      "Processing 00109: 100%|██████████| 249/249 [00:08<00:00, 30.76it/s]\n",
      "Processing 00110: 100%|██████████| 479/479 [00:15<00:00, 30.28it/s]\n",
      "Processing 00111: 100%|██████████| 123/123 [00:03<00:00, 32.44it/s]\n",
      "Processing 00112: 100%|██████████| 477/477 [00:15<00:00, 30.79it/s]\n",
      "Processing 00113: 100%|██████████| 504/504 [00:16<00:00, 30.89it/s]\n",
      "Processing 00114: 100%|██████████| 339/339 [00:10<00:00, 31.19it/s]\n",
      "Processing 00115: 100%|██████████| 312/312 [00:10<00:00, 30.53it/s]\n",
      "Processing 00116: 100%|██████████| 355/355 [00:10<00:00, 32.72it/s]\n",
      "Processing 00117: 100%|██████████| 410/410 [00:12<00:00, 32.56it/s]\n",
      "Processing 00118: 100%|██████████| 459/459 [00:13<00:00, 33.97it/s]\n",
      "Processing 00119: 100%|██████████| 384/384 [00:11<00:00, 33.03it/s]\n",
      "Processing 00120: 100%|██████████| 200/200 [00:06<00:00, 33.22it/s]\n",
      "Processing 00121: 100%|██████████| 468/468 [00:15<00:00, 30.92it/s]\n",
      "Processing 00122: 100%|██████████| 362/362 [00:11<00:00, 30.79it/s]\n",
      "Processing 00123: 100%|██████████| 285/285 [00:09<00:00, 31.56it/s]\n",
      "Processing 00124: 100%|██████████| 123/123 [00:03<00:00, 32.51it/s]\n",
      "Processing 00125: 100%|██████████| 211/211 [00:06<00:00, 31.88it/s]\n",
      "Processing 00126: 100%|██████████| 453/453 [00:14<00:00, 30.87it/s]\n",
      "Processing 00127: 100%|██████████| 480/480 [00:15<00:00, 31.23it/s]\n",
      "Processing 00128: 100%|██████████| 107/107 [00:03<00:00, 33.07it/s]\n",
      "Processing 00129: 100%|██████████| 432/432 [00:13<00:00, 31.48it/s]\n",
      "Processing 00130: 100%|██████████| 279/279 [00:08<00:00, 31.92it/s]\n",
      "Processing 00131: 100%|██████████| 236/236 [00:07<00:00, 32.72it/s]\n",
      "Processing 00132: 100%|██████████| 350/350 [00:11<00:00, 30.73it/s]\n",
      "Processing 00133: 100%|██████████| 442/442 [00:14<00:00, 31.12it/s]\n",
      "Processing 00134: 0it [00:00, ?it/s]\n",
      "Processing 00135: 100%|██████████| 240/240 [00:07<00:00, 30.78it/s]\n",
      "Processing 00136: 100%|██████████| 291/291 [00:09<00:00, 31.34it/s]\n",
      "Processing 00137: 100%|██████████| 353/353 [00:11<00:00, 30.71it/s]\n",
      "Processing 00138: 100%|██████████| 253/253 [00:07<00:00, 32.58it/s]\n",
      "Processing 00139: 100%|██████████| 553/553 [00:17<00:00, 30.92it/s]\n",
      "Processing 00140: 100%|██████████| 382/382 [00:12<00:00, 29.58it/s]\n",
      "Processing 00141: 100%|██████████| 445/445 [00:14<00:00, 30.31it/s]\n",
      "Processing 00142: 100%|██████████| 388/388 [00:12<00:00, 30.77it/s]\n",
      "Processing 00143: 100%|██████████| 282/282 [00:08<00:00, 31.38it/s]\n",
      "Processing 00144: 100%|██████████| 451/451 [00:15<00:00, 28.97it/s]\n",
      "Processing 00145: 100%|██████████| 469/469 [00:14<00:00, 32.05it/s]\n",
      "Processing 00146: 100%|██████████| 718/718 [00:23<00:00, 30.26it/s]\n",
      "Processing 00147: 100%|██████████| 514/514 [13:26<00:00,  1.57s/it]  \n",
      "Processing 00148: 100%|██████████| 391/391 [00:10<00:00, 35.97it/s]\n",
      "Processing 00149: 100%|██████████| 506/506 [00:11<00:00, 42.93it/s]\n",
      "Processing 00150: 100%|██████████| 161/161 [00:03<00:00, 52.94it/s]\n",
      "Processing 00151: 100%|██████████| 504/504 [00:11<00:00, 45.78it/s]\n",
      "Processing 00152: 100%|██████████| 697/697 [00:17<00:00, 39.76it/s]\n",
      "Processing 00153: 100%|██████████| 488/488 [00:11<00:00, 41.47it/s]\n",
      "Processing 00154: 100%|██████████| 137/137 [00:03<00:00, 42.58it/s]\n",
      "Processing 00155: 100%|██████████| 553/553 [00:14<00:00, 38.34it/s]\n",
      "Processing 00156: 100%|██████████| 411/411 [00:13<00:00, 31.41it/s]\n",
      "Processing 00157: 100%|██████████| 367/367 [00:11<00:00, 31.88it/s]\n",
      "Processing 00158: 100%|██████████| 361/361 [00:12<00:00, 29.67it/s]\n",
      "Processing 00159: 100%|██████████| 448/448 [00:14<00:00, 30.25it/s]\n",
      "Processing 00160: 100%|██████████| 490/490 [00:16<00:00, 29.66it/s]\n",
      "Processing 00161: 100%|██████████| 509/509 [00:16<00:00, 30.16it/s]\n",
      "Processing 00162: 100%|██████████| 446/446 [00:15<00:00, 29.64it/s]\n",
      "Processing 00163: 100%|██████████| 455/455 [00:14<00:00, 30.33it/s]\n",
      "Processing 00164: 0it [00:00, ?it/s]\n",
      "Processing 00165: 100%|██████████| 470/470 [00:15<00:00, 31.24it/s]\n",
      "Processing 00166: 100%|██████████| 469/469 [00:15<00:00, 29.33it/s]\n",
      "Processing 00167: 100%|██████████| 264/264 [00:08<00:00, 32.86it/s]\n",
      "Processing 00168: 100%|██████████| 475/475 [00:14<00:00, 32.43it/s]\n",
      "Processing 00169: 100%|██████████| 432/432 [00:14<00:00, 30.18it/s]\n",
      "Processing 00170: 100%|██████████| 255/255 [00:08<00:00, 29.17it/s]\n",
      "Processing 00171: 100%|██████████| 433/433 [00:14<00:00, 30.12it/s]\n",
      "Processing 00172: 100%|██████████| 353/353 [00:11<00:00, 30.77it/s]\n",
      "Processing 00173: 100%|██████████| 296/296 [00:09<00:00, 32.49it/s]\n",
      "Processing 00174: 100%|██████████| 465/465 [00:15<00:00, 30.82it/s]\n",
      "Processing 00175: 100%|██████████| 435/435 [00:14<00:00, 30.49it/s]\n",
      "Processing 00176: 100%|██████████| 605/605 [00:19<00:00, 30.80it/s]\n",
      "Processing 00177: 100%|██████████| 521/521 [00:16<00:00, 31.29it/s]\n",
      "Processing 00178: 100%|██████████| 468/468 [00:15<00:00, 30.67it/s]\n",
      "Processing 00179: 100%|██████████| 398/398 [00:12<00:00, 31.71it/s]\n",
      "Processing 00180: 100%|██████████| 349/349 [00:11<00:00, 31.40it/s]\n",
      "Processing 00181: 100%|██████████| 336/336 [00:10<00:00, 31.50it/s]\n",
      "Processing 00182: 100%|██████████| 472/472 [00:15<00:00, 30.69it/s]\n",
      "Processing 00183: 100%|██████████| 469/469 [00:14<00:00, 31.51it/s]\n",
      "Processing 00184: 100%|██████████| 467/467 [00:15<00:00, 30.63it/s]\n",
      "Processing 00185: 100%|██████████| 473/473 [00:15<00:00, 29.80it/s]\n",
      "Processing 00186: 100%|██████████| 510/510 [00:12<00:00, 40.11it/s]\n",
      "Processing 00187: 100%|██████████| 453/453 [00:10<00:00, 41.84it/s]\n",
      "Processing 00188: 100%|██████████| 459/459 [00:10<00:00, 43.17it/s]\n",
      "Processing 00189: 100%|██████████| 410/410 [00:09<00:00, 42.33it/s]\n",
      "Processing 00190: 100%|██████████| 465/465 [00:11<00:00, 42.04it/s]\n",
      "Processing 00191: 100%|██████████| 442/442 [00:10<00:00, 42.55it/s]\n",
      "Processing 00192: 100%|██████████| 474/474 [00:11<00:00, 42.87it/s]\n",
      "Processing 00193: 100%|██████████| 353/353 [00:08<00:00, 42.67it/s]\n",
      "Processing 00194: 100%|██████████| 425/425 [00:10<00:00, 41.35it/s]\n",
      "Processing 00195: 100%|██████████| 443/443 [00:10<00:00, 42.13it/s]\n",
      "Processing 00196: 100%|██████████| 478/478 [00:11<00:00, 42.24it/s]\n",
      "Processing 00197: 100%|██████████| 467/467 [00:11<00:00, 41.94it/s]\n",
      "Processing 00198: 100%|██████████| 456/456 [00:10<00:00, 41.70it/s]\n",
      "Processing 00199: 100%|██████████| 460/460 [00:10<00:00, 43.19it/s]\n",
      "Processing 00200: 100%|██████████| 91/91 [00:01<00:00, 47.02it/s]\n",
      "Processing 00201: 100%|██████████| 48/48 [00:00<00:00, 49.88it/s]\n",
      "Processing 00202: 100%|██████████| 480/480 [00:10<00:00, 44.46it/s]\n",
      "Processing 00203: 100%|██████████| 294/294 [00:06<00:00, 43.77it/s]\n",
      "Processing 00204: 100%|██████████| 463/463 [00:10<00:00, 43.77it/s]\n",
      "Processing 00205: 100%|██████████| 453/453 [00:10<00:00, 43.90it/s]\n",
      "Processing 00206: 100%|██████████| 455/455 [00:10<00:00, 42.73it/s]\n",
      "Processing 00207: 100%|██████████| 126/126 [00:02<00:00, 43.96it/s]\n",
      "Processing 00208: 100%|██████████| 452/452 [00:10<00:00, 43.99it/s]\n",
      "Processing 00209: 100%|██████████| 460/460 [00:11<00:00, 41.21it/s]\n",
      "Processing 00210: 100%|██████████| 122/122 [00:02<00:00, 47.39it/s]\n",
      "Processing 00211: 100%|██████████| 411/411 [00:09<00:00, 43.95it/s]\n",
      "Processing 00212: 100%|██████████| 413/413 [00:09<00:00, 42.35it/s]\n",
      "Processing 00213: 100%|██████████| 454/454 [00:11<00:00, 40.97it/s]\n",
      "Processing 00214: 100%|██████████| 446/446 [00:10<00:00, 41.36it/s]\n",
      "Processing 00215: 100%|██████████| 469/469 [00:11<00:00, 39.48it/s]\n",
      "Processing 00216: 100%|██████████| 384/384 [00:09<00:00, 42.00it/s]\n",
      "Processing 00217: 100%|██████████| 324/324 [00:06<00:00, 46.57it/s]\n",
      "Processing 00218: 100%|██████████| 474/474 [00:10<00:00, 43.59it/s]\n",
      "Processing 00219: 100%|██████████| 288/288 [00:06<00:00, 46.00it/s]\n",
      "Processing 00220: 100%|██████████| 523/523 [00:12<00:00, 42.97it/s]\n",
      "Processing 00221: 100%|██████████| 448/448 [00:10<00:00, 43.50it/s]\n",
      "Processing 00222: 100%|██████████| 468/468 [00:10<00:00, 44.60it/s]\n",
      "Processing 00223: 100%|██████████| 480/480 [00:11<00:00, 42.91it/s]\n",
      "Processing 00224: 100%|██████████| 428/428 [00:09<00:00, 43.21it/s]\n",
      "Processing 00225: 100%|██████████| 468/468 [00:10<00:00, 44.92it/s]\n",
      "Processing 00226: 100%|██████████| 430/430 [00:10<00:00, 42.96it/s]\n",
      "Processing 00227: 100%|██████████| 471/471 [00:10<00:00, 45.46it/s]\n",
      "Processing 00228: 100%|██████████| 470/470 [00:10<00:00, 44.09it/s]\n",
      "Processing 00229: 100%|██████████| 344/344 [00:07<00:00, 45.11it/s]\n",
      "Processing 00230: 100%|██████████| 455/455 [00:10<00:00, 44.73it/s]\n",
      "Processing 00231: 100%|██████████| 477/477 [00:10<00:00, 46.14it/s]\n",
      "Processing 00232: 100%|██████████| 471/471 [00:10<00:00, 45.10it/s]\n",
      "Processing 00233: 100%|██████████| 459/459 [00:10<00:00, 43.54it/s]\n",
      "Processing 00234: 100%|██████████| 356/356 [00:08<00:00, 44.23it/s]\n",
      "Processing 00235: 100%|██████████| 496/496 [00:11<00:00, 43.14it/s]\n",
      "Processing 00236: 100%|██████████| 468/468 [00:10<00:00, 44.15it/s]\n",
      "Processing 00237: 100%|██████████| 359/359 [00:08<00:00, 44.50it/s]\n",
      "Processing 00238: 100%|██████████| 421/421 [00:09<00:00, 42.94it/s]\n",
      "Processing 00239: 100%|██████████| 493/493 [00:11<00:00, 42.38it/s]\n",
      "Processing 00240: 100%|██████████| 424/424 [00:09<00:00, 44.09it/s]\n",
      "Processing 00241: 100%|██████████| 77/77 [00:01<00:00, 46.24it/s]\n",
      "Processing 00242: 100%|██████████| 442/442 [00:10<00:00, 42.79it/s]\n",
      "Processing 00243: 100%|██████████| 461/461 [00:10<00:00, 43.38it/s]\n",
      "Processing 00244: 100%|██████████| 287/287 [00:06<00:00, 43.65it/s]\n",
      "Processing 00245: 100%|██████████| 464/464 [00:10<00:00, 42.91it/s]\n",
      "Processing 00246: 100%|██████████| 429/429 [00:09<00:00, 44.89it/s]\n",
      "Processing 00247: 100%|██████████| 412/412 [00:09<00:00, 44.15it/s]\n",
      "Processing 00248: 100%|██████████| 472/472 [00:10<00:00, 45.34it/s]\n",
      "Processing 00249: 100%|██████████| 516/516 [00:12<00:00, 42.42it/s]\n",
      "Processing id0_0000: 100%|██████████| 363/363 [16:53<00:00,  2.79s/it]\n",
      "Processing id0_0001: 100%|██████████| 272/272 [00:04<00:00, 58.33it/s]\n",
      "Processing id0_0002: 100%|██████████| 173/173 [00:02<00:00, 67.59it/s]\n",
      "Processing id0_0003: 100%|██████████| 515/515 [00:07<00:00, 68.56it/s]\n",
      "Processing id0_0004: 100%|██████████| 260/260 [00:03<00:00, 69.21it/s]\n",
      "Processing id0_0005: 100%|██████████| 447/447 [00:06<00:00, 68.45it/s]\n",
      "Processing id0_0006: 100%|██████████| 419/419 [00:05<00:00, 71.91it/s]\n",
      "Processing id0_0007: 100%|██████████| 479/479 [00:06<00:00, 69.82it/s]\n",
      "Processing id0_0008: 100%|██████████| 382/382 [00:05<00:00, 72.60it/s]\n",
      "Processing id0_0009: 100%|██████████| 491/491 [00:06<00:00, 72.50it/s]\n",
      "Processing id10_0000: 100%|██████████| 239/239 [00:03<00:00, 72.44it/s]\n",
      "Processing id10_0001: 100%|██████████| 66/66 [00:00<00:00, 78.01it/s]\n",
      "Processing id10_0002: 100%|██████████| 309/309 [00:04<00:00, 71.49it/s]\n",
      "Processing id10_0003: 100%|██████████| 340/340 [00:04<00:00, 71.53it/s]\n",
      "Processing id10_0004: 100%|██████████| 516/516 [00:07<00:00, 71.60it/s]\n",
      "Processing id10_0005: 100%|██████████| 303/303 [00:04<00:00, 72.24it/s]\n",
      "Processing id10_0006: 100%|██████████| 161/161 [00:02<00:00, 72.93it/s]\n",
      "Processing id10_0007: 100%|██████████| 495/495 [00:06<00:00, 71.11it/s]\n",
      "Processing id10_0008: 100%|██████████| 380/380 [00:05<00:00, 73.03it/s]\n",
      "Processing id10_0009: 100%|██████████| 381/381 [00:07<00:00, 53.65it/s]\n",
      "Processing id11_0000: 100%|██████████| 354/354 [00:07<00:00, 45.46it/s]\n",
      "Processing id11_0001: 100%|██████████| 429/429 [00:08<00:00, 49.36it/s]\n",
      "Processing id11_0002: 100%|██████████| 357/357 [00:06<00:00, 51.74it/s]\n",
      "Processing id11_0003: 100%|██████████| 313/313 [00:06<00:00, 49.01it/s]\n",
      "Processing id11_0004: 100%|██████████| 328/328 [00:06<00:00, 48.17it/s]\n",
      "Processing id11_0005: 100%|██████████| 327/327 [00:06<00:00, 49.82it/s]\n",
      "Processing id11_0006: 100%|██████████| 316/316 [00:06<00:00, 50.34it/s]\n",
      "Processing id11_0007: 100%|██████████| 267/267 [00:05<00:00, 47.66it/s]\n",
      "Processing id11_0008: 100%|██████████| 368/368 [00:07<00:00, 49.73it/s]\n",
      "Processing id11_0009: 100%|██████████| 397/397 [00:08<00:00, 48.14it/s]\n",
      "Processing id11_0010: 100%|██████████| 330/330 [00:06<00:00, 48.58it/s]\n",
      "Processing id12_0000: 100%|██████████| 371/371 [00:07<00:00, 48.77it/s]\n",
      "Processing id12_0001: 100%|██████████| 384/384 [00:07<00:00, 48.75it/s]\n",
      "Processing id12_0002: 100%|██████████| 353/353 [00:06<00:00, 50.95it/s]\n",
      "Processing id12_0003: 100%|██████████| 121/121 [00:02<00:00, 46.70it/s]\n",
      "Processing id12_0004: 100%|██████████| 315/315 [00:06<00:00, 51.88it/s]\n",
      "Processing id12_0005: 100%|██████████| 314/314 [00:06<00:00, 49.06it/s]\n",
      "Processing id12_0006: 100%|██████████| 275/275 [00:05<00:00, 49.39it/s]\n",
      "Processing id13_0000: 100%|██████████| 327/327 [00:07<00:00, 43.85it/s]\n",
      "Processing id13_0001: 100%|██████████| 344/344 [00:11<00:00, 30.12it/s]\n",
      "Processing id13_0002: 100%|██████████| 397/397 [00:12<00:00, 30.71it/s]\n",
      "Processing id13_0003: 100%|██████████| 339/339 [00:10<00:00, 30.83it/s]\n",
      "Processing id13_0004: 100%|██████████| 352/352 [00:11<00:00, 30.11it/s]\n",
      "Processing id13_0005: 100%|██████████| 309/309 [00:10<00:00, 30.39it/s]\n",
      "Processing id13_0006: 100%|██████████| 331/331 [00:10<00:00, 30.74it/s]\n",
      "Processing id13_0007: 100%|██████████| 446/446 [00:14<00:00, 30.78it/s]\n",
      "Processing id13_0008: 100%|██████████| 459/459 [00:15<00:00, 30.40it/s]\n",
      "Processing id13_0009: 100%|██████████| 435/435 [00:14<00:00, 30.27it/s]\n",
      "Processing id13_0010: 100%|██████████| 332/332 [00:11<00:00, 30.15it/s]\n",
      "Processing id13_0011: 100%|██████████| 466/466 [00:15<00:00, 30.21it/s]\n",
      "Processing id13_0012: 100%|██████████| 494/494 [00:16<00:00, 30.10it/s]\n",
      "Processing id13_0013: 100%|██████████| 338/338 [00:11<00:00, 30.17it/s]\n",
      "Processing id13_0014: 100%|██████████| 390/390 [00:12<00:00, 30.09it/s]\n",
      "Processing id13_0015: 100%|██████████| 487/487 [00:16<00:00, 30.02it/s]\n",
      "Processing id16_0000: 100%|██████████| 317/317 [00:10<00:00, 30.04it/s]\n",
      "Processing id16_0001: 100%|██████████| 313/313 [00:10<00:00, 30.81it/s]\n",
      "Processing id16_0002: 100%|██████████| 334/334 [00:10<00:00, 30.52it/s]\n",
      "Processing id16_0003: 100%|██████████| 269/269 [00:08<00:00, 30.91it/s]\n",
      "Processing id16_0004: 100%|██████████| 258/258 [00:08<00:00, 31.34it/s]\n",
      "Processing id16_0005: 100%|██████████| 315/315 [00:10<00:00, 30.51it/s]\n",
      "Processing id16_0006: 100%|██████████| 224/224 [00:07<00:00, 31.09it/s]\n",
      "Processing id16_0007: 100%|██████████| 284/284 [00:09<00:00, 30.33it/s]\n",
      "Processing id16_0008: 100%|██████████| 305/305 [00:10<00:00, 30.05it/s]\n",
      "Processing id16_0009: 100%|██████████| 313/313 [00:10<00:00, 30.19it/s]\n",
      "Processing id16_0010: 100%|██████████| 297/297 [00:09<00:00, 30.52it/s]\n",
      "Processing id16_0011: 100%|██████████| 272/272 [00:09<00:00, 29.73it/s]\n",
      "Processing id16_0012: 100%|██████████| 105/105 [00:03<00:00, 31.93it/s]\n",
      "Processing id16_0013: 100%|██████████| 311/311 [00:10<00:00, 30.38it/s]\n",
      "Processing id17_0000: 100%|██████████| 305/305 [00:10<00:00, 30.09it/s]\n",
      "Processing id17_0001: 100%|██████████| 315/315 [00:10<00:00, 30.01it/s]\n",
      "Processing id17_0002: 100%|██████████| 334/334 [00:11<00:00, 28.11it/s]\n",
      "Processing id17_0003: 100%|██████████| 247/247 [00:08<00:00, 28.10it/s]\n",
      "Processing id17_0004: 100%|██████████| 306/306 [00:11<00:00, 27.32it/s]\n",
      "Processing id17_0005: 100%|██████████| 289/289 [00:10<00:00, 28.18it/s]\n",
      "Processing id17_0006: 100%|██████████| 201/201 [00:07<00:00, 28.06it/s]\n",
      "Processing id17_0007: 100%|██████████| 270/270 [00:09<00:00, 28.06it/s]\n",
      "Processing id17_0008: 100%|██████████| 90/90 [00:03<00:00, 29.28it/s]\n",
      "Processing id17_0009: 100%|██████████| 282/282 [00:10<00:00, 28.12it/s]\n",
      "Processing id1_0000: 100%|██████████| 365/365 [00:13<00:00, 27.91it/s]\n",
      "Processing id1_0001: 100%|██████████| 272/272 [00:09<00:00, 27.89it/s]\n",
      "Processing id1_0002: 100%|██████████| 400/400 [00:14<00:00, 28.18it/s]\n",
      "Processing id1_0003: 100%|██████████| 451/451 [00:16<00:00, 28.04it/s]\n",
      "Processing id1_0004: 100%|██████████| 409/409 [00:14<00:00, 28.13it/s]\n",
      "Processing id1_0005: 100%|██████████| 422/422 [00:14<00:00, 28.20it/s]\n",
      "Processing id1_0006: 100%|██████████| 505/505 [00:18<00:00, 27.89it/s]\n",
      "Processing id1_0007: 100%|██████████| 328/328 [00:11<00:00, 28.04it/s]\n",
      "Processing id1_0008: 100%|██████████| 519/519 [00:18<00:00, 28.04it/s]\n",
      "Processing id1_0009: 100%|██████████| 412/412 [00:14<00:00, 28.24it/s]\n",
      "Processing id2_0000: 100%|██████████| 445/445 [00:15<00:00, 28.06it/s]\n",
      "Processing id2_0001: 100%|██████████| 376/376 [00:13<00:00, 28.10it/s]\n",
      "Processing id2_0002: 100%|██████████| 361/361 [00:12<00:00, 28.41it/s]\n",
      "Processing id2_0003: 100%|██████████| 383/383 [00:13<00:00, 28.22it/s]\n",
      "Processing id2_0004: 100%|██████████| 425/425 [00:14<00:00, 28.36it/s]\n",
      "Processing id2_0005: 100%|██████████| 307/307 [00:10<00:00, 28.07it/s]\n",
      "Processing id2_0006: 100%|██████████| 380/380 [00:13<00:00, 28.46it/s]\n",
      "Processing id2_0007: 100%|██████████| 470/470 [00:16<00:00, 27.83it/s]\n",
      "Processing id2_0008: 100%|██████████| 510/510 [00:18<00:00, 28.10it/s]\n",
      "Processing id2_0009: 100%|██████████| 322/322 [00:11<00:00, 28.26it/s]\n",
      "Processing id3_0000: 100%|██████████| 458/458 [00:16<00:00, 28.38it/s]\n",
      "Processing id3_0001: 100%|██████████| 380/380 [00:13<00:00, 28.40it/s]\n",
      "Processing id3_0002: 100%|██████████| 428/428 [00:15<00:00, 28.48it/s]\n",
      "Processing id3_0003: 100%|██████████| 372/372 [00:13<00:00, 28.41it/s]\n",
      "Processing id3_0004: 100%|██████████| 499/499 [00:17<00:00, 28.10it/s]\n",
      "Processing id3_0005: 100%|██████████| 398/398 [00:14<00:00, 28.28it/s]\n",
      "Processing id3_0006: 100%|██████████| 409/409 [00:14<00:00, 28.32it/s]\n",
      "Processing id3_0007: 100%|██████████| 361/361 [00:13<00:00, 27.60it/s]\n",
      "Processing id3_0008: 100%|██████████| 458/458 [00:16<00:00, 28.38it/s]\n",
      "Processing id3_0009: 100%|██████████| 486/486 [00:17<00:00, 28.07it/s]\n",
      "Processing id4_0000: 100%|██████████| 364/364 [00:12<00:00, 28.51it/s]\n",
      "Processing id4_0001: 100%|██████████| 49/49 [00:01<00:00, 31.45it/s]\n",
      "Processing id4_0002: 100%|██████████| 392/392 [00:13<00:00, 29.09it/s]\n",
      "Processing id4_0003: 100%|██████████| 403/403 [00:13<00:00, 29.00it/s]\n",
      "Processing id4_0004: 100%|██████████| 401/401 [00:14<00:00, 28.23it/s]\n",
      "Processing id4_0005: 100%|██████████| 107/107 [00:03<00:00, 29.91it/s]\n",
      "Processing id4_0006: 100%|██████████| 304/304 [00:10<00:00, 28.57it/s]\n",
      "Processing id4_0007: 100%|██████████| 423/423 [00:15<00:00, 28.11it/s]\n",
      "Processing id4_0008: 100%|██████████| 260/260 [00:09<00:00, 28.49it/s]\n",
      "Processing id4_0009: 100%|██████████| 353/353 [00:12<00:00, 28.84it/s]\n",
      "Processing id6_0000: 100%|██████████| 533/533 [00:18<00:00, 28.67it/s]\n",
      "Processing id6_0001: 100%|██████████| 298/298 [00:10<00:00, 28.54it/s]\n",
      "Processing id6_0002: 100%|██████████| 544/544 [00:19<00:00, 28.44it/s]\n",
      "Processing id6_0003: 100%|██████████| 369/369 [00:13<00:00, 28.01it/s]\n",
      "Processing id6_0004: 100%|██████████| 331/331 [00:11<00:00, 29.05it/s]\n",
      "Processing id6_0005: 100%|██████████| 366/366 [00:13<00:00, 28.13it/s]\n",
      "Processing id6_0006: 100%|██████████| 281/281 [00:09<00:00, 28.11it/s]\n",
      "Processing id6_0007: 100%|██████████| 449/449 [00:15<00:00, 28.37it/s]\n",
      "Processing id6_0008: 100%|██████████| 381/381 [00:13<00:00, 28.24it/s]\n",
      "Processing id6_0009: 100%|██████████| 521/521 [00:18<00:00, 28.38it/s]\n",
      "Processing id7_0000: 100%|██████████| 266/266 [00:09<00:00, 28.37it/s]\n",
      "Processing id7_0001: 100%|██████████| 295/295 [00:10<00:00, 28.25it/s]\n",
      "Processing id7_0002: 100%|██████████| 261/261 [00:09<00:00, 28.33it/s]\n",
      "Processing id7_0003: 100%|██████████| 549/549 [00:19<00:00, 27.97it/s]\n",
      "Processing id7_0004: 100%|██████████| 345/345 [00:12<00:00, 28.37it/s]\n",
      "Processing id7_0005: 100%|██████████| 158/158 [00:05<00:00, 28.52it/s]\n",
      "Processing id7_0006: 100%|██████████| 213/213 [00:07<00:00, 28.70it/s]\n",
      "Processing id7_0007: 100%|██████████| 382/382 [00:13<00:00, 28.41it/s]\n",
      "Processing id7_0008: 100%|██████████| 291/291 [00:10<00:00, 28.03it/s]\n",
      "Processing id7_0009: 100%|██████████| 458/458 [00:15<00:00, 29.95it/s]\n",
      "Processing id8_0000: 100%|██████████| 471/471 [00:11<00:00, 41.81it/s]\n",
      "Processing id8_0001: 0it [00:00, ?it/s]\n",
      "Processing id8_0002: 100%|██████████| 519/519 [00:12<00:00, 42.01it/s]\n",
      "Processing id8_0003: 100%|██████████| 388/388 [00:09<00:00, 42.84it/s]\n",
      "Processing id8_0004: 100%|██████████| 464/464 [00:10<00:00, 43.52it/s]\n",
      "Processing id8_0005: 100%|██████████| 215/215 [00:04<00:00, 43.40it/s]\n",
      "Processing id8_0006: 100%|██████████| 513/513 [00:11<00:00, 43.19it/s]\n",
      "Processing id8_0007: 100%|██████████| 10/10 [00:00<00:00, 60.80it/s]\n",
      "Processing id8_0008: 0it [00:00, ?it/s]\n",
      "Processing id8_0009: 100%|██████████| 373/373 [00:08<00:00, 41.91it/s]\n",
      "Processing id9_0000: 100%|██████████| 448/448 [00:10<00:00, 43.02it/s]\n",
      "Processing id9_0001: 100%|██████████| 437/437 [00:10<00:00, 43.55it/s]\n",
      "Processing id9_0002: 100%|██████████| 336/336 [00:07<00:00, 42.91it/s]\n",
      "Processing id9_0003: 100%|██████████| 99/99 [00:02<00:00, 42.77it/s]\n",
      "Processing id9_0004: 100%|██████████| 361/361 [00:08<00:00, 43.13it/s]\n",
      "Processing id9_0005: 100%|██████████| 414/414 [00:09<00:00, 45.08it/s]\n",
      "Processing id9_0006: 100%|██████████| 401/401 [00:09<00:00, 42.62it/s]\n",
      "Processing id9_0007: 100%|██████████| 426/426 [00:09<00:00, 43.18it/s]\n",
      "Processing id9_0008: 100%|██████████| 461/461 [00:10<00:00, 42.32it/s]\n",
      "Processing id9_0009: 100%|██████████| 310/310 [00:07<00:00, 43.12it/s]\n",
      "Processing id1_id0_0000: 100%|██████████| 365/365 [00:08<00:00, 42.66it/s]\n",
      "Processing id1_id0_0001: 100%|██████████| 272/272 [00:06<00:00, 40.59it/s]\n",
      "Processing id1_id0_0002: 100%|██████████| 400/400 [00:09<00:00, 41.86it/s]\n",
      "Processing id1_id0_0003: 100%|██████████| 451/451 [00:10<00:00, 41.98it/s]\n",
      "Processing id1_id0_0004: 100%|██████████| 409/409 [00:09<00:00, 43.21it/s]\n",
      "Processing id1_id0_0005: 100%|██████████| 422/422 [00:10<00:00, 41.48it/s]\n",
      "Processing id1_id0_0006: 100%|██████████| 505/505 [00:12<00:00, 41.34it/s]\n",
      "Processing id1_id0_0007: 100%|██████████| 328/328 [00:07<00:00, 42.23it/s]\n",
      "Processing id1_id0_0009: 100%|██████████| 412/412 [00:09<00:00, 45.25it/s]\n",
      "Processing id1_id16_0000: 100%|██████████| 365/365 [00:08<00:00, 45.31it/s]\n",
      "Processing id1_id16_0001: 100%|██████████| 272/272 [00:06<00:00, 43.65it/s]\n",
      "Processing id1_id16_0002: 100%|██████████| 400/400 [00:09<00:00, 42.43it/s]\n",
      "Processing id1_id16_0003: 100%|██████████| 451/451 [00:10<00:00, 44.67it/s]\n",
      "Processing id1_id16_0004: 100%|██████████| 409/409 [00:09<00:00, 42.13it/s]\n",
      "Processing id1_id16_0005: 100%|██████████| 422/422 [00:09<00:00, 42.58it/s]\n",
      "Processing id1_id16_0006: 100%|██████████| 49/49 [00:01<00:00, 43.50it/s]\n",
      "Processing id1_id16_0007: 100%|██████████| 328/328 [00:07<00:00, 42.76it/s]\n",
      "Processing id1_id16_0009: 100%|██████████| 412/412 [00:09<00:00, 42.26it/s]\n",
      "Processing id1_id17_0000: 100%|██████████| 365/365 [00:08<00:00, 42.47it/s]\n",
      "Processing id1_id2_0000: 100%|██████████| 365/365 [00:08<00:00, 41.66it/s]\n",
      "Processing id1_id2_0001: 100%|██████████| 272/272 [00:06<00:00, 42.14it/s]\n",
      "Processing id1_id2_0002: 100%|██████████| 400/400 [00:09<00:00, 41.75it/s]\n",
      "Processing id1_id2_0003: 100%|██████████| 451/451 [00:10<00:00, 42.42it/s]\n",
      "Processing id1_id2_0004: 100%|██████████| 409/409 [00:09<00:00, 43.55it/s]\n",
      "Processing id1_id2_0005: 100%|██████████| 422/422 [00:09<00:00, 43.75it/s]\n",
      "Processing id1_id2_0006: 100%|██████████| 505/505 [00:11<00:00, 42.74it/s]\n",
      "Processing id1_id2_0007: 100%|██████████| 328/328 [00:07<00:00, 45.27it/s]\n",
      "Processing id1_id2_0009: 100%|██████████| 412/412 [00:09<00:00, 44.90it/s]\n",
      "Processing id1_id3_0000: 100%|██████████| 365/365 [00:08<00:00, 43.67it/s]\n",
      "Processing id1_id3_0001: 100%|██████████| 272/272 [00:06<00:00, 41.60it/s]\n",
      "Processing id1_id3_0002: 100%|██████████| 400/400 [00:09<00:00, 43.45it/s]\n",
      "Processing id1_id3_0003: 100%|██████████| 451/451 [00:10<00:00, 43.07it/s]\n",
      "Processing id1_id3_0004: 100%|██████████| 409/409 [00:09<00:00, 42.56it/s]\n",
      "Processing id1_id3_0005: 100%|██████████| 422/422 [00:10<00:00, 41.81it/s]\n",
      "Processing id1_id3_0006: 100%|██████████| 505/505 [00:12<00:00, 41.48it/s]\n",
      "Processing id1_id3_0007: 100%|██████████| 328/328 [00:07<00:00, 42.84it/s]\n",
      "Processing id1_id3_0009: 100%|██████████| 412/412 [00:09<00:00, 41.64it/s]\n",
      "Processing id1_id4_0000: 100%|██████████| 365/365 [00:08<00:00, 41.98it/s]\n",
      "Processing id1_id4_0001: 100%|██████████| 272/272 [00:06<00:00, 41.99it/s]\n",
      "Processing id1_id4_0002: 100%|██████████| 400/400 [00:09<00:00, 42.17it/s]\n",
      "Processing id1_id4_0003: 100%|██████████| 451/451 [00:10<00:00, 42.46it/s]\n",
      "Processing id1_id4_0004: 100%|██████████| 409/409 [00:09<00:00, 42.96it/s]\n",
      "Processing id1_id4_0005: 100%|██████████| 422/422 [00:09<00:00, 42.62it/s]\n",
      "Processing id1_id4_0006: 100%|██████████| 505/505 [00:12<00:00, 41.07it/s]\n",
      "Processing id1_id4_0007: 100%|██████████| 328/328 [00:07<00:00, 42.32it/s]\n",
      "Processing id1_id4_0009: 100%|██████████| 412/412 [00:09<00:00, 42.74it/s]\n",
      "Processing id1_id6_0000: 100%|██████████| 365/365 [00:08<00:00, 41.77it/s]\n",
      "Processing id1_id6_0001: 100%|██████████| 272/272 [00:06<00:00, 42.08it/s]\n",
      "Processing id1_id6_0002: 100%|██████████| 400/400 [00:09<00:00, 41.55it/s]\n",
      "Processing id1_id6_0003: 100%|██████████| 451/451 [00:10<00:00, 42.15it/s]\n",
      "Processing id1_id6_0004: 100%|██████████| 409/409 [00:09<00:00, 42.50it/s]\n",
      "Processing id1_id6_0005: 100%|██████████| 422/422 [00:09<00:00, 43.05it/s]\n",
      "Processing id1_id6_0006: 100%|██████████| 505/505 [00:11<00:00, 43.01it/s]\n",
      "Processing id1_id6_0007: 100%|██████████| 328/328 [00:07<00:00, 46.35it/s]\n",
      "Processing id1_id6_0009: 100%|██████████| 412/412 [00:08<00:00, 50.39it/s]\n",
      "Processing id1_id9_0000: 100%|██████████| 365/365 [00:06<00:00, 57.64it/s]\n",
      "Processing id1_id9_0001: 100%|██████████| 272/272 [00:04<00:00, 64.81it/s]\n",
      "Processing id1_id9_0002: 100%|██████████| 400/400 [00:06<00:00, 64.86it/s]\n",
      "Processing id1_id9_0003: 100%|██████████| 451/451 [00:06<00:00, 68.05it/s]\n",
      "Processing id1_id9_0004: 100%|██████████| 409/409 [00:06<00:00, 65.67it/s]\n",
      "Processing id1_id9_0005: 100%|██████████| 422/422 [00:06<00:00, 66.69it/s]\n",
      "Processing id1_id9_0006: 100%|██████████| 505/505 [00:07<00:00, 67.68it/s]\n",
      "Processing id1_id9_0007: 100%|██████████| 328/328 [00:04<00:00, 68.64it/s]\n",
      "Processing id1_id9_0009: 100%|██████████| 412/412 [00:06<00:00, 66.63it/s]\n",
      "Processing id3_id0_0001: 100%|██████████| 380/380 [00:05<00:00, 67.57it/s]\n",
      "Processing id3_id0_0002: 100%|██████████| 428/428 [00:06<00:00, 68.76it/s]\n",
      "Processing id3_id0_0003: 100%|██████████| 372/372 [00:05<00:00, 68.97it/s]\n",
      "Processing id3_id0_0004: 100%|██████████| 499/499 [00:07<00:00, 68.95it/s]\n",
      "Processing id3_id0_0005: 100%|██████████| 398/398 [00:05<00:00, 68.82it/s]\n",
      "Processing id3_id0_0006: 100%|██████████| 409/409 [00:05<00:00, 68.93it/s]\n",
      "Processing id3_id0_0007: 100%|██████████| 361/361 [00:05<00:00, 69.09it/s]\n",
      "Processing id3_id0_0008: 100%|██████████| 458/458 [00:06<00:00, 69.49it/s]\n",
      "Processing id3_id0_0009: 100%|██████████| 495/495 [00:07<00:00, 69.51it/s]\n",
      "Processing id3_id16_0000: 100%|██████████| 458/458 [00:06<00:00, 67.55it/s]\n",
      "Processing id3_id16_0001: 100%|██████████| 380/380 [00:05<00:00, 69.34it/s]\n",
      "Processing id3_id16_0002: 100%|██████████| 428/428 [00:06<00:00, 67.78it/s]\n",
      "Processing id3_id16_0003: 100%|██████████| 372/372 [00:05<00:00, 69.33it/s]\n",
      "Processing id3_id16_0004: 100%|██████████| 499/499 [00:07<00:00, 68.89it/s]\n",
      "Processing id3_id16_0005: 100%|██████████| 398/398 [00:05<00:00, 70.09it/s]\n",
      "Processing id3_id16_0006: 100%|██████████| 409/409 [00:05<00:00, 70.17it/s]\n",
      "Processing id3_id16_0008: 100%|██████████| 458/458 [00:06<00:00, 70.76it/s]\n",
      "Processing id3_id16_0009: 100%|██████████| 496/496 [00:07<00:00, 69.82it/s]\n",
      "Processing id3_id17_0000: 100%|██████████| 458/458 [00:06<00:00, 68.05it/s]\n",
      "Processing id3_id17_0001: 100%|██████████| 380/380 [00:05<00:00, 68.11it/s]\n",
      "Processing id3_id17_0002: 100%|██████████| 428/428 [00:06<00:00, 68.41it/s]\n",
      "Processing id3_id17_0003: 100%|██████████| 372/372 [00:05<00:00, 68.59it/s]\n",
      "Processing id3_id17_0004: 100%|██████████| 499/499 [00:07<00:00, 68.01it/s]\n",
      "Processing id3_id17_0005: 100%|██████████| 398/398 [00:05<00:00, 69.50it/s]\n",
      "Processing id3_id17_0006: 100%|██████████| 409/409 [00:05<00:00, 68.95it/s]\n",
      "Processing id3_id17_0007: 100%|██████████| 361/361 [00:05<00:00, 68.52it/s]\n",
      "Processing id3_id17_0008: 100%|██████████| 458/458 [00:06<00:00, 66.17it/s]\n",
      "Processing id3_id17_0009: 100%|██████████| 496/496 [00:07<00:00, 69.18it/s]\n",
      "Processing id3_id1_0001: 100%|██████████| 380/380 [00:05<00:00, 69.52it/s]\n",
      "Processing id3_id1_0002: 100%|██████████| 428/428 [00:06<00:00, 69.05it/s]\n",
      "Processing id3_id1_0003: 100%|██████████| 372/372 [00:05<00:00, 69.23it/s]\n",
      "Processing id3_id1_0004: 100%|██████████| 499/499 [00:07<00:00, 68.70it/s]\n",
      "Processing id3_id1_0005: 100%|██████████| 398/398 [00:05<00:00, 68.46it/s]\n",
      "Processing id3_id1_0006: 100%|██████████| 409/409 [00:05<00:00, 69.89it/s]\n",
      "Processing id3_id1_0007: 100%|██████████| 361/361 [00:05<00:00, 69.04it/s]\n",
      "Processing id3_id1_0008: 100%|██████████| 458/458 [00:06<00:00, 69.46it/s]\n",
      "Processing id3_id1_0009: 100%|██████████| 497/497 [00:07<00:00, 68.82it/s]\n",
      "Processing id3_id2_0000: 100%|██████████| 458/458 [00:06<00:00, 68.45it/s]\n",
      "Processing id3_id2_0001: 100%|██████████| 380/380 [00:05<00:00, 69.27it/s]\n",
      "Processing id3_id2_0002: 100%|██████████| 428/428 [00:06<00:00, 68.97it/s]\n",
      "Processing id3_id2_0003: 100%|██████████| 372/372 [00:05<00:00, 67.57it/s]\n",
      "Processing id3_id2_0004: 100%|██████████| 499/499 [00:07<00:00, 67.61it/s]\n",
      "Processing id3_id2_0005: 100%|██████████| 398/398 [00:06<00:00, 66.27it/s]\n",
      "Processing id3_id2_0006: 100%|██████████| 409/409 [00:05<00:00, 69.82it/s]\n",
      "Processing id3_id2_0007: 100%|██████████| 361/361 [00:05<00:00, 69.35it/s]\n",
      "Processing id3_id2_0008: 100%|██████████| 458/458 [00:06<00:00, 69.36it/s]\n",
      "Processing id3_id2_0009: 100%|██████████| 497/497 [00:07<00:00, 68.37it/s]\n",
      "Processing id3_id4_0001: 100%|██████████| 380/380 [00:05<00:00, 70.24it/s]\n",
      "Processing id3_id4_0003: 100%|██████████| 372/372 [00:05<00:00, 67.48it/s]\n",
      "Processing id3_id4_0004: 100%|██████████| 499/499 [00:07<00:00, 66.74it/s]\n",
      "Processing id3_id4_0005: 100%|██████████| 398/398 [00:05<00:00, 68.42it/s]\n",
      "Processing id3_id4_0006: 100%|██████████| 409/409 [00:05<00:00, 68.65it/s]\n",
      "Processing id3_id4_0008: 100%|██████████| 458/458 [00:06<00:00, 68.11it/s]\n",
      "Processing id3_id6_0000: 100%|██████████| 458/458 [00:06<00:00, 69.65it/s]\n",
      "Processing id3_id6_0001: 100%|██████████| 380/380 [00:05<00:00, 67.71it/s]\n",
      "Processing id3_id6_0002: 100%|██████████| 428/428 [00:06<00:00, 70.13it/s]\n",
      "Processing id3_id6_0003: 100%|██████████| 372/372 [00:05<00:00, 67.60it/s]\n",
      "Processing id3_id6_0004: 100%|██████████| 499/499 [00:07<00:00, 68.82it/s]\n",
      "Processing id3_id6_0005: 100%|██████████| 398/398 [00:05<00:00, 66.88it/s]\n",
      "Processing id3_id6_0006: 100%|██████████| 409/409 [00:05<00:00, 69.75it/s]\n",
      "Processing id3_id6_0007: 100%|██████████| 361/361 [00:05<00:00, 69.66it/s]\n",
      "Processing id3_id6_0008: 100%|██████████| 458/458 [00:06<00:00, 67.52it/s]\n",
      "Processing id3_id6_0009: 100%|██████████| 497/497 [00:07<00:00, 69.26it/s]\n",
      "Processing id3_id9_0000: 100%|██████████| 458/458 [00:06<00:00, 67.95it/s]\n",
      "Processing id3_id9_0001: 100%|██████████| 380/380 [00:05<00:00, 68.01it/s]\n",
      "Processing id3_id9_0002: 100%|██████████| 428/428 [00:06<00:00, 69.49it/s]\n",
      "Processing id3_id9_0003: 100%|██████████| 372/372 [00:05<00:00, 68.72it/s]\n",
      "Processing id3_id9_0004: 100%|██████████| 499/499 [00:07<00:00, 68.62it/s]\n",
      "Processing id3_id9_0005: 100%|██████████| 398/398 [00:05<00:00, 69.16it/s]\n",
      "Processing id3_id9_0006: 100%|██████████| 409/409 [00:05<00:00, 68.92it/s]\n",
      "Processing id3_id9_0007: 100%|██████████| 361/361 [00:05<00:00, 67.85it/s]\n",
      "Processing id3_id9_0008: 100%|██████████| 458/458 [00:07<00:00, 65.36it/s]\n",
      "Processing id3_id9_0009: 100%|██████████| 496/496 [00:07<00:00, 67.77it/s]\n",
      "Processing id4_id0_0000: 100%|██████████| 426/426 [00:06<00:00, 68.43it/s]\n",
      "Processing id4_id0_0001: 100%|██████████| 126/126 [00:01<00:00, 67.88it/s]\n",
      "Processing id4_id0_0002: 100%|██████████| 460/460 [00:06<00:00, 71.34it/s]\n",
      "Processing id4_id0_0003: 100%|██████████| 425/425 [00:06<00:00, 68.64it/s]\n",
      "Processing id4_id0_0004: 100%|██████████| 416/416 [00:06<00:00, 67.72it/s]\n",
      "Processing id4_id0_0005: 100%|██████████| 193/193 [00:02<00:00, 70.97it/s]\n",
      "Processing id4_id0_0006: 100%|██████████| 301/301 [00:04<00:00, 68.35it/s]\n",
      "Processing id4_id0_0007: 100%|██████████| 403/403 [00:05<00:00, 69.93it/s]\n",
      "Processing id4_id0_0008: 100%|██████████| 287/287 [00:04<00:00, 69.27it/s]\n",
      "Processing id4_id0_0009: 100%|██████████| 401/401 [00:05<00:00, 68.84it/s]\n",
      "Processing id4_id1_0000: 100%|██████████| 423/423 [00:06<00:00, 69.02it/s]\n",
      "Processing id4_id1_0001: 100%|██████████| 187/187 [00:02<00:00, 71.36it/s]\n",
      "Processing id4_id1_0002: 100%|██████████| 464/464 [00:06<00:00, 69.87it/s]\n",
      "Processing id4_id1_0003: 100%|██████████| 438/438 [00:06<00:00, 69.83it/s]\n",
      "Processing id4_id1_0004: 100%|██████████| 420/420 [00:06<00:00, 69.39it/s]\n",
      "Processing id4_id1_0005: 100%|██████████| 270/270 [00:03<00:00, 70.34it/s]\n",
      "Processing id4_id1_0006: 100%|██████████| 301/301 [00:05<00:00, 58.18it/s]\n",
      "Processing id4_id1_0007: 100%|██████████| 446/446 [00:07<00:00, 62.95it/s]\n",
      "Processing id4_id1_0008: 100%|██████████| 322/322 [00:05<00:00, 63.41it/s]\n",
      "Processing id4_id1_0009: 100%|██████████| 428/428 [00:06<00:00, 65.91it/s]\n",
      "Processing id4_id2_0000: 100%|██████████| 422/422 [00:06<00:00, 65.21it/s]\n",
      "Processing id4_id2_0001: 100%|██████████| 168/168 [00:02<00:00, 67.63it/s]\n",
      "Processing id4_id2_0002: 100%|██████████| 453/453 [00:07<00:00, 59.89it/s]\n",
      "Processing id4_id2_0003: 100%|██████████| 386/386 [00:05<00:00, 65.39it/s]\n",
      "Processing id4_id2_0004: 100%|██████████| 419/419 [00:06<00:00, 67.56it/s]\n",
      "Processing id4_id2_0005: 100%|██████████| 147/147 [00:02<00:00, 71.42it/s]\n",
      "Processing id4_id2_0006: 100%|██████████| 302/302 [00:04<00:00, 67.38it/s]\n",
      "Processing id4_id2_0007: 100%|██████████| 425/425 [00:06<00:00, 68.55it/s]\n",
      "Processing id4_id2_0008: 100%|██████████| 311/311 [00:04<00:00, 67.41it/s]\n",
      "Processing id4_id2_0009: 100%|██████████| 395/395 [00:05<00:00, 68.23it/s]\n",
      "Processing id4_id3_0000: 100%|██████████| 419/419 [00:08<00:00, 52.27it/s]\n",
      "Processing id4_id3_0001: 100%|██████████| 125/125 [00:02<00:00, 55.49it/s]\n",
      "Processing id4_id3_0002: 100%|██████████| 423/423 [00:08<00:00, 52.68it/s]\n",
      "Processing id4_id3_0003: 100%|██████████| 426/426 [00:08<00:00, 51.28it/s]\n",
      "Processing id4_id3_0004: 100%|██████████| 416/416 [00:08<00:00, 47.80it/s]\n",
      "Processing id4_id3_0005: 100%|██████████| 148/148 [00:02<00:00, 52.10it/s]\n",
      "Processing id4_id3_0006: 100%|██████████| 302/302 [00:06<00:00, 46.04it/s]\n",
      "Processing id4_id3_0007: 100%|██████████| 446/446 [00:09<00:00, 47.79it/s]\n",
      "Processing id4_id3_0008: 100%|██████████| 287/287 [00:05<00:00, 48.48it/s]\n",
      "Processing id4_id3_0009: 100%|██████████| 376/376 [00:07<00:00, 49.94it/s]\n",
      "Processing id4_id6_0000: 100%|██████████| 403/403 [00:08<00:00, 49.82it/s]\n",
      "Processing id4_id6_0001: 100%|██████████| 72/72 [00:01<00:00, 52.20it/s]\n",
      "Processing id4_id6_0002: 100%|██████████| 452/452 [00:09<00:00, 48.53it/s]\n",
      "Processing id4_id6_0003: 100%|██████████| 430/430 [00:08<00:00, 50.50it/s]\n",
      "Processing id4_id6_0004: 100%|██████████| 423/423 [00:08<00:00, 48.03it/s]\n",
      "Processing id4_id6_0005: 100%|██████████| 185/185 [00:03<00:00, 53.57it/s]\n",
      "Processing id4_id6_0006: 100%|██████████| 301/301 [00:06<00:00, 47.39it/s]\n",
      "Processing id4_id6_0007: 100%|██████████| 441/441 [00:11<00:00, 37.96it/s]\n",
      "Processing id4_id6_0008: 100%|██████████| 291/291 [00:10<00:00, 27.04it/s]\n",
      "Processing id4_id6_0009: 100%|██████████| 390/390 [00:13<00:00, 29.61it/s]\n",
      "Processing id4_id9_0000: 100%|██████████| 414/414 [00:12<00:00, 32.58it/s]\n",
      "Processing id4_id9_0001: 100%|██████████| 136/136 [00:03<00:00, 34.90it/s]\n",
      "Processing id4_id9_0002: 100%|██████████| 472/472 [00:13<00:00, 34.47it/s]\n",
      "Processing id4_id9_0003: 100%|██████████| 428/428 [00:13<00:00, 32.39it/s]\n",
      "Processing id4_id9_0004: 100%|██████████| 429/429 [00:13<00:00, 32.36it/s]\n",
      "Processing id4_id9_0005: 100%|██████████| 226/226 [00:06<00:00, 35.23it/s]\n",
      "Processing id4_id9_0006: 100%|██████████| 301/301 [00:09<00:00, 33.02it/s]\n",
      "Processing id4_id9_0007: 100%|██████████| 446/446 [00:13<00:00, 32.24it/s]\n",
      "Processing id4_id9_0008: 100%|██████████| 285/285 [00:08<00:00, 32.85it/s]\n",
      "Processing id6_id0_0000: 100%|██████████| 619/619 [00:19<00:00, 31.22it/s]\n",
      "Processing id6_id0_0001: 100%|██████████| 308/308 [00:10<00:00, 29.95it/s]\n",
      "Processing id6_id0_0002: 100%|██████████| 604/604 [00:19<00:00, 31.48it/s]\n",
      "Processing id6_id0_0003: 100%|██████████| 372/372 [00:11<00:00, 32.79it/s]\n",
      "Processing id6_id0_0004: 100%|██████████| 361/361 [00:10<00:00, 34.41it/s]\n",
      "Processing id6_id0_0005: 100%|██████████| 367/367 [00:11<00:00, 32.53it/s]\n",
      "Processing id6_id0_0006: 100%|██████████| 288/288 [00:08<00:00, 32.68it/s]\n",
      "Processing id6_id0_0007: 100%|██████████| 536/536 [00:16<00:00, 33.04it/s]\n",
      "Processing id6_id0_0008: 100%|██████████| 372/372 [00:11<00:00, 33.31it/s]\n",
      "Processing id6_id0_0009: 100%|██████████| 519/519 [00:15<00:00, 33.63it/s]\n",
      "Processing id6_id16_0000: 100%|██████████| 621/621 [00:18<00:00, 33.19it/s]\n",
      "Processing id6_id16_0001: 100%|██████████| 313/313 [00:09<00:00, 33.37it/s]\n",
      "Processing id6_id16_0002: 100%|██████████| 608/608 [00:18<00:00, 33.39it/s]\n",
      "Processing id6_id16_0003: 100%|██████████| 372/372 [00:11<00:00, 32.40it/s]\n",
      "Processing id6_id16_0004: 100%|██████████| 351/351 [00:10<00:00, 33.14it/s]\n",
      "Processing id6_id16_0005: 100%|██████████| 368/368 [00:11<00:00, 32.94it/s]\n",
      "Processing id6_id16_0006: 100%|██████████| 288/288 [00:08<00:00, 32.12it/s]\n",
      "Processing id6_id16_0007: 100%|██████████| 525/525 [00:15<00:00, 32.97it/s]\n",
      "Processing id6_id16_0008: 100%|██████████| 368/368 [00:11<00:00, 32.86it/s]\n",
      "Processing id6_id16_0009: 100%|██████████| 525/525 [00:16<00:00, 32.67it/s]\n",
      "Processing id6_id17_0000: 100%|██████████| 612/612 [00:19<00:00, 32.05it/s]\n",
      "Processing id6_id17_0001: 100%|██████████| 315/315 [00:09<00:00, 31.95it/s]\n",
      "Processing id6_id17_0002: 100%|██████████| 608/608 [00:18<00:00, 32.95it/s]\n",
      "Processing id6_id17_0003: 100%|██████████| 372/372 [00:11<00:00, 32.34it/s]\n",
      "Processing id6_id17_0004: 100%|██████████| 385/385 [00:11<00:00, 34.11it/s]\n",
      "Processing id6_id17_0005: 100%|██████████| 367/367 [00:10<00:00, 33.39it/s]\n",
      "Processing id6_id17_0006: 100%|██████████| 268/268 [00:07<00:00, 33.66it/s]\n",
      "Processing id6_id17_0007: 100%|██████████| 503/503 [00:15<00:00, 33.25it/s]\n",
      "Processing id6_id17_0008: 100%|██████████| 380/380 [00:11<00:00, 33.30it/s]\n",
      "Processing id6_id17_0009: 100%|██████████| 530/530 [00:16<00:00, 32.01it/s]\n",
      "Processing id6_id1_0000: 100%|██████████| 630/630 [00:20<00:00, 31.47it/s]\n",
      "Processing id6_id1_0001: 100%|██████████| 317/317 [00:09<00:00, 32.50it/s]\n",
      "Processing id6_id1_0002: 100%|██████████| 604/604 [00:18<00:00, 32.91it/s]\n",
      "Processing id6_id1_0003: 100%|██████████| 372/372 [00:11<00:00, 32.47it/s]\n",
      "Processing id6_id1_0004: 100%|██████████| 431/431 [00:13<00:00, 32.83it/s]\n",
      "Processing id6_id1_0005: 100%|██████████| 369/369 [00:11<00:00, 32.67it/s]\n",
      "Processing id6_id1_0006: 100%|██████████| 290/290 [00:08<00:00, 32.59it/s]\n",
      "Processing id6_id1_0007: 100%|██████████| 534/534 [00:16<00:00, 33.31it/s]\n",
      "Processing id6_id1_0008: 100%|██████████| 381/381 [00:11<00:00, 33.44it/s]\n",
      "Processing id6_id1_0009: 100%|██████████| 530/530 [00:16<00:00, 32.62it/s]\n",
      "Processing id6_id2_0000: 100%|██████████| 593/593 [00:17<00:00, 33.37it/s]\n",
      "Processing id6_id2_0001: 100%|██████████| 304/304 [00:09<00:00, 33.39it/s]\n",
      "Processing id6_id2_0002: 100%|██████████| 610/610 [00:18<00:00, 33.00it/s]\n",
      "Processing id6_id2_0003: 100%|██████████| 371/371 [00:11<00:00, 32.77it/s]\n",
      "Processing id6_id2_0004: 100%|██████████| 192/192 [00:05<00:00, 35.76it/s]\n",
      "Processing id6_id2_0005: 100%|██████████| 362/362 [00:10<00:00, 33.35it/s]\n",
      "Processing id6_id2_0006: 100%|██████████| 249/249 [00:07<00:00, 33.85it/s]\n",
      "Processing id6_id2_0007: 100%|██████████| 482/482 [00:15<00:00, 30.62it/s]\n",
      "Processing id6_id2_0008: 100%|██████████| 379/379 [00:11<00:00, 31.62it/s]\n",
      "Processing id6_id2_0009: 100%|██████████| 499/499 [00:15<00:00, 32.40it/s]\n",
      "Processing id6_id3_0000: 100%|██████████| 581/581 [00:17<00:00, 32.85it/s]\n",
      "Processing id6_id3_0001: 100%|██████████| 313/313 [00:09<00:00, 32.04it/s]\n",
      "Processing id6_id3_0002: 100%|██████████| 600/600 [00:18<00:00, 31.65it/s]\n",
      "Processing id6_id3_0003: 100%|██████████| 372/372 [00:11<00:00, 31.70it/s]\n",
      "Processing id6_id3_0004: 100%|██████████| 338/338 [00:10<00:00, 33.65it/s]\n",
      "Processing id6_id3_0005: 100%|██████████| 365/365 [00:10<00:00, 33.24it/s]\n",
      "Processing id6_id3_0006: 100%|██████████| 284/284 [00:08<00:00, 33.73it/s]\n",
      "Processing id6_id3_0007: 100%|██████████| 506/506 [00:15<00:00, 33.10it/s]\n",
      "Processing id6_id3_0008: 100%|██████████| 366/366 [00:10<00:00, 33.42it/s]\n",
      "Processing id6_id3_0009: 100%|██████████| 512/512 [00:15<00:00, 33.11it/s]\n",
      "Processing id6_id4_0001: 100%|██████████| 300/300 [00:09<00:00, 32.11it/s]\n",
      "Processing id6_id4_0004: 100%|██████████| 213/213 [00:06<00:00, 34.30it/s]\n",
      "Processing id6_id4_0005: 100%|██████████| 357/357 [00:10<00:00, 33.12it/s]\n",
      "Processing id6_id4_0006: 100%|██████████| 248/248 [00:07<00:00, 33.83it/s]\n",
      "Processing id6_id4_0007: 100%|██████████| 513/513 [00:15<00:00, 33.79it/s]\n",
      "Processing id6_id4_0008: 100%|██████████| 337/337 [00:10<00:00, 33.37it/s]\n",
      "Processing id6_id4_0009: 100%|██████████| 504/504 [00:15<00:00, 32.83it/s]\n",
      "Processing id6_id9_0000: 100%|██████████| 591/591 [00:17<00:00, 32.89it/s]\n",
      "Processing id6_id9_0001: 100%|██████████| 310/310 [00:09<00:00, 32.20it/s]\n",
      "Processing id6_id9_0002: 100%|██████████| 602/602 [00:18<00:00, 33.03it/s]\n",
      "Processing id6_id9_0003: 100%|██████████| 372/372 [00:11<00:00, 31.07it/s]\n",
      "Processing id6_id9_0004: 100%|██████████| 412/412 [00:12<00:00, 31.97it/s]\n",
      "Processing id6_id9_0005: 100%|██████████| 366/366 [00:11<00:00, 31.92it/s]\n",
      "Processing id6_id9_0006: 100%|██████████| 289/289 [00:08<00:00, 33.43it/s]\n",
      "Processing id6_id9_0007: 100%|██████████| 511/511 [00:15<00:00, 33.78it/s]\n",
      "Processing id6_id9_0008: 100%|██████████| 377/377 [00:11<00:00, 31.93it/s]\n",
      "Processing id6_id9_0009: 100%|██████████| 527/527 [00:16<00:00, 32.56it/s]\n",
      "Processing id7_id10_0001: 100%|██████████| 295/295 [00:08<00:00, 32.95it/s]\n",
      "Processing id7_id10_0002: 100%|██████████| 259/259 [00:08<00:00, 32.19it/s]\n",
      "Processing id7_id10_0003: 100%|██████████| 545/545 [00:16<00:00, 32.72it/s]\n",
      "Processing id7_id10_0004: 100%|██████████| 457/457 [00:13<00:00, 33.68it/s]\n",
      "Processing id7_id10_0005: 100%|██████████| 135/135 [00:04<00:00, 33.05it/s]\n",
      "Processing id7_id10_0007: 100%|██████████| 400/400 [00:11<00:00, 33.43it/s]\n",
      "Processing id7_id10_0009: 100%|██████████| 457/457 [00:13<00:00, 33.06it/s]\n",
      "Processing id7_id11_0000: 100%|██████████| 263/263 [00:08<00:00, 32.10it/s]\n",
      "Processing id7_id11_0001: 100%|██████████| 295/295 [00:09<00:00, 30.35it/s]\n",
      "Processing id7_id11_0002: 100%|██████████| 268/268 [00:08<00:00, 31.14it/s]\n",
      "Processing id7_id11_0004: 100%|██████████| 483/483 [00:14<00:00, 32.53it/s]\n",
      "Processing id7_id11_0005: 100%|██████████| 159/159 [00:05<00:00, 31.61it/s]\n",
      "Processing id7_id11_0006: 100%|██████████| 214/214 [00:07<00:00, 28.95it/s]\n",
      "Processing id7_id11_0007: 100%|██████████| 400/400 [00:12<00:00, 30.81it/s]\n",
      "Processing id7_id11_0009: 100%|██████████| 458/458 [00:14<00:00, 30.98it/s]\n",
      "Processing id7_id12_0000: 100%|██████████| 256/256 [00:08<00:00, 30.75it/s]\n",
      "Processing id7_id12_0002: 100%|██████████| 256/256 [00:08<00:00, 31.21it/s]\n",
      "Processing id7_id12_0004: 100%|██████████| 524/524 [00:15<00:00, 33.02it/s]\n",
      "Processing id7_id12_0005: 100%|██████████| 150/150 [00:03<00:00, 43.67it/s]\n",
      "Processing id7_id12_0007: 100%|██████████| 395/395 [00:08<00:00, 49.28it/s]\n",
      "Processing id7_id12_0009: 100%|██████████| 457/457 [00:09<00:00, 50.27it/s]\n",
      "Processing id7_id13_0000: 100%|██████████| 248/248 [00:05<00:00, 49.06it/s]\n",
      "Processing id7_id13_0001: 100%|██████████| 295/295 [00:06<00:00, 48.67it/s]\n",
      "Processing id7_id13_0002: 100%|██████████| 253/253 [00:05<00:00, 47.87it/s]\n",
      "Processing id7_id13_0004: 100%|██████████| 504/504 [00:10<00:00, 48.57it/s]\n",
      "Processing id7_id13_0005: 100%|██████████| 153/153 [00:03<00:00, 47.07it/s]\n",
      "Processing id7_id13_0006: 100%|██████████| 214/214 [00:04<00:00, 48.48it/s]\n",
      "Processing id7_id13_0007: 100%|██████████| 395/395 [00:08<00:00, 47.08it/s]\n",
      "Processing id7_id13_0009: 100%|██████████| 458/458 [00:09<00:00, 48.93it/s]\n",
      "Processing id8_id0_0002: 100%|██████████| 520/520 [00:11<00:00, 45.72it/s]\n",
      "Processing id8_id0_0003: 100%|██████████| 396/396 [00:07<00:00, 49.91it/s]\n",
      "Processing id8_id0_0007: 100%|██████████| 11/11 [00:00<00:00, 65.19it/s]\n",
      "Processing id8_id0_0008: 100%|██████████| 2/2 [00:00<00:00, 76.75it/s]\n",
      "Processing id8_id1_0002: 100%|██████████| 521/521 [00:10<00:00, 48.51it/s]\n",
      "Processing id8_id1_0003: 100%|██████████| 388/388 [00:07<00:00, 50.02it/s]\n",
      "Processing id8_id1_0007: 0it [00:00, ?it/s]\n",
      "Processing id8_id1_0008: 100%|██████████| 1/1 [00:00<00:00, 83.25it/s]\n",
      "Processing id8_id2_0002: 100%|██████████| 518/518 [00:10<00:00, 50.60it/s]\n",
      "Processing id8_id2_0003: 100%|██████████| 387/387 [00:07<00:00, 50.73it/s]\n",
      "Processing id8_id2_0007: 100%|██████████| 6/6 [00:00<00:00, 55.76it/s]\n",
      "Processing id8_id2_0008: 100%|██████████| 8/8 [00:00<00:00, 64.94it/s]\n",
      "Processing id8_id3_0002: 100%|██████████| 515/515 [00:09<00:00, 52.41it/s]\n",
      "Processing id8_id3_0003: 100%|██████████| 385/385 [00:07<00:00, 51.99it/s]\n",
      "Processing id8_id3_0007: 100%|██████████| 2/2 [00:00<00:00, 81.64it/s]\n",
      "Processing id8_id3_0008: 100%|██████████| 5/5 [00:00<00:00, 74.39it/s]\n",
      "Processing id8_id4_0007: 100%|██████████| 8/8 [00:00<00:00, 72.64it/s]\n",
      "Processing id8_id5_0002: 100%|██████████| 523/523 [00:10<00:00, 51.45it/s]\n",
      "Processing id8_id5_0003: 100%|██████████| 384/384 [00:07<00:00, 50.91it/s]\n",
      "Processing id8_id5_0007: 0it [00:00, ?it/s]\n",
      "Processing id8_id5_0008: 0it [00:00, ?it/s]\n",
      "Processing id8_id6_0002: 100%|██████████| 520/520 [00:10<00:00, 48.83it/s]\n",
      "Processing id8_id6_0003: 100%|██████████| 391/391 [00:07<00:00, 50.96it/s]\n",
      "Processing id8_id6_0007: 100%|██████████| 1/1 [00:00<00:00, 71.46it/s]\n",
      "Processing id8_id6_0008: 100%|██████████| 1/1 [00:00<00:00, 81.78it/s]\n",
      "Processing id8_id7_0002: 100%|██████████| 522/522 [00:10<00:00, 50.23it/s]\n",
      "Processing id8_id7_0003: 100%|██████████| 392/392 [00:07<00:00, 50.65it/s]\n",
      "Processing id8_id7_0007: 100%|██████████| 21/21 [00:00<00:00, 62.01it/s]\n",
      "Processing id8_id7_0008: 100%|██████████| 1/1 [00:00<00:00, 76.93it/s]\n",
      "Processing id8_id9_0002: 100%|██████████| 520/520 [00:10<00:00, 51.94it/s]\n",
      "Processing id8_id9_0003: 100%|██████████| 390/390 [00:08<00:00, 48.06it/s]\n",
      "Processing id8_id9_0007: 100%|██████████| 1/1 [00:00<00:00, 83.61it/s]\n",
      "Processing id8_id9_0008: 100%|██████████| 2/2 [00:00<00:00, 79.99it/s]\n",
      "Processing id9_id0_0000: 100%|██████████| 448/448 [00:08<00:00, 51.55it/s]\n",
      "Processing id9_id0_0001: 100%|██████████| 437/437 [00:08<00:00, 50.16it/s]\n",
      "Processing id9_id0_0003: 100%|██████████| 195/195 [00:03<00:00, 54.44it/s]\n",
      "Processing id9_id0_0004: 100%|██████████| 362/362 [00:06<00:00, 53.50it/s]\n",
      "Processing id9_id0_0005: 100%|██████████| 420/420 [00:07<00:00, 52.73it/s]\n",
      "Processing id9_id0_0006: 100%|██████████| 401/401 [00:08<00:00, 47.29it/s]\n",
      "Processing id9_id0_0007: 100%|██████████| 322/322 [00:06<00:00, 50.92it/s]\n",
      "Processing id9_id0_0008: 100%|██████████| 461/461 [00:09<00:00, 48.04it/s]\n",
      "Processing id9_id0_0009: 100%|██████████| 313/313 [00:06<00:00, 46.74it/s]\n",
      "Processing id9_id16_0000: 100%|██████████| 448/448 [00:08<00:00, 53.79it/s]\n",
      "Processing id9_id16_0001: 100%|██████████| 437/437 [00:08<00:00, 51.80it/s]\n",
      "Processing id9_id16_0002: 100%|██████████| 312/312 [00:06<00:00, 51.27it/s]\n",
      "Processing id9_id16_0003: 100%|██████████| 278/278 [00:05<00:00, 53.76it/s]\n",
      "Processing id9_id16_0004: 100%|██████████| 362/362 [00:06<00:00, 51.95it/s]\n",
      "Processing id9_id16_0005: 100%|██████████| 420/420 [00:08<00:00, 51.51it/s]\n",
      "Processing id9_id16_0006: 100%|██████████| 401/401 [00:07<00:00, 51.87it/s]\n",
      "Processing id9_id16_0007: 100%|██████████| 338/338 [00:06<00:00, 54.50it/s]\n",
      "Processing id9_id16_0008: 100%|██████████| 461/461 [00:08<00:00, 53.25it/s]\n",
      "Processing id9_id16_0009: 100%|██████████| 311/311 [00:05<00:00, 54.45it/s]\n",
      "Processing id9_id17_0000: 100%|██████████| 448/448 [00:08<00:00, 53.89it/s]\n",
      "Processing id9_id17_0001: 100%|██████████| 437/437 [00:08<00:00, 54.27it/s]\n",
      "Processing id9_id17_0002: 100%|██████████| 351/351 [00:06<00:00, 53.51it/s]\n",
      "Processing id9_id17_0003: 100%|██████████| 216/216 [00:03<00:00, 57.34it/s]\n",
      "Processing id9_id17_0004: 100%|██████████| 362/362 [00:06<00:00, 53.45it/s]\n",
      "Processing id9_id17_0005: 100%|██████████| 420/420 [00:07<00:00, 52.54it/s]\n",
      "Processing id9_id17_0006: 100%|██████████| 401/401 [00:07<00:00, 50.87it/s]\n",
      "Processing id9_id17_0007: 100%|██████████| 372/372 [00:07<00:00, 52.90it/s]\n",
      "Processing id9_id17_0008: 100%|██████████| 461/461 [00:08<00:00, 51.95it/s]\n",
      "Processing id9_id17_0009: 100%|██████████| 313/313 [00:05<00:00, 52.20it/s]\n",
      "Processing id9_id1_0000: 100%|██████████| 448/448 [00:08<00:00, 51.25it/s]\n",
      "Processing id9_id1_0001: 100%|██████████| 437/437 [00:08<00:00, 51.16it/s]\n",
      "Processing id9_id1_0002: 100%|██████████| 348/348 [00:06<00:00, 50.91it/s]\n",
      "Processing id9_id1_0004: 100%|██████████| 362/362 [00:06<00:00, 52.99it/s]\n",
      "Processing id9_id1_0005: 100%|██████████| 420/420 [00:08<00:00, 51.35it/s]\n",
      "Processing id9_id1_0006: 100%|██████████| 401/401 [00:07<00:00, 51.29it/s]\n",
      "Processing id9_id1_0008: 100%|██████████| 461/461 [00:09<00:00, 50.78it/s]\n",
      "Processing id9_id1_0009: 100%|██████████| 312/312 [00:06<00:00, 51.62it/s]\n",
      "Processing id9_id2_0000: 100%|██████████| 448/448 [00:08<00:00, 51.43it/s]\n",
      "Processing id9_id2_0001: 100%|██████████| 437/437 [00:08<00:00, 51.52it/s]\n",
      "Processing id9_id2_0002: 100%|██████████| 300/300 [00:05<00:00, 52.96it/s]\n",
      "Processing id9_id2_0004: 100%|██████████| 362/362 [00:07<00:00, 50.75it/s]\n",
      "Processing id9_id2_0005: 100%|██████████| 418/418 [00:07<00:00, 53.33it/s]\n",
      "Processing id9_id2_0006: 100%|██████████| 401/401 [00:07<00:00, 50.32it/s]\n",
      "Processing id9_id2_0007: 100%|██████████| 224/224 [00:04<00:00, 53.91it/s]\n",
      "Processing id9_id2_0008: 100%|██████████| 461/461 [00:09<00:00, 49.15it/s]\n",
      "Processing id9_id2_0009: 100%|██████████| 310/310 [00:06<00:00, 48.24it/s]\n",
      "Processing id9_id3_0000: 100%|██████████| 448/448 [00:08<00:00, 51.81it/s]\n",
      "Processing id9_id3_0001: 100%|██████████| 437/437 [00:08<00:00, 54.10it/s]\n",
      "Processing id9_id3_0002: 100%|██████████| 296/296 [00:05<00:00, 54.85it/s]\n",
      "Processing id9_id3_0004: 100%|██████████| 362/362 [00:06<00:00, 53.09it/s]\n",
      "Processing id9_id3_0005: 100%|██████████| 419/419 [00:07<00:00, 53.82it/s]\n",
      "Processing id9_id3_0006: 100%|██████████| 401/401 [00:07<00:00, 53.21it/s]\n",
      "Processing id9_id3_0007: 100%|██████████| 336/336 [00:05<00:00, 58.51it/s]\n",
      "Processing id9_id3_0008: 100%|██████████| 461/461 [13:35<00:00,  1.77s/it]  \n",
      "Processing id9_id3_0009: 100%|██████████| 310/310 [00:06<00:00, 46.59it/s]\n",
      "Processing id9_id4_0000: 100%|██████████| 448/448 [00:09<00:00, 48.81it/s]\n",
      "Processing id9_id4_0001: 100%|██████████| 437/437 [00:08<00:00, 53.47it/s]\n",
      "Processing id9_id4_0002: 100%|██████████| 284/284 [00:05<00:00, 50.87it/s]\n",
      "Processing id9_id4_0004: 100%|██████████| 362/362 [00:07<00:00, 48.05it/s]\n",
      "Processing id9_id4_0005: 100%|██████████| 420/420 [00:09<00:00, 42.37it/s]\n",
      "Processing id9_id4_0006: 100%|██████████| 401/401 [00:11<00:00, 35.63it/s]\n",
      "Processing id9_id4_0007: 100%|██████████| 158/158 [00:04<00:00, 38.65it/s]\n",
      "Processing id9_id4_0008: 100%|██████████| 460/460 [00:12<00:00, 37.12it/s]\n",
      "Processing id9_id4_0009: 100%|██████████| 302/302 [00:08<00:00, 35.40it/s]\n",
      "Processing id9_id6_0000: 100%|██████████| 448/448 [00:13<00:00, 32.83it/s]\n",
      "Processing id9_id6_0001: 100%|██████████| 437/437 [00:13<00:00, 31.79it/s]\n",
      "Processing id9_id6_0002: 100%|██████████| 322/322 [00:09<00:00, 32.88it/s]\n",
      "Processing id9_id6_0004: 100%|██████████| 360/360 [00:10<00:00, 33.64it/s]\n",
      "Processing id9_id6_0005: 100%|██████████| 413/413 [00:12<00:00, 33.49it/s]\n",
      "Processing id9_id6_0006: 100%|██████████| 401/401 [00:12<00:00, 33.12it/s]\n",
      "Processing id9_id6_0007: 100%|██████████| 359/359 [00:10<00:00, 33.88it/s]\n",
      "Processing id9_id6_0008: 100%|██████████| 461/461 [00:13<00:00, 33.25it/s]\n",
      "Processing id9_id6_0009: 100%|██████████| 313/313 [00:09<00:00, 33.27it/s]"
     ]
    },
    {
     "name": "stdout",
     "output_type": "stream",
     "text": [
      "✅ Muscle tension maps saved to: D:/DETECTION 1.0/Celeb-DF/muscle_tension_maps\n"
     ]
    },
    {
     "name": "stderr",
     "output_type": "stream",
     "text": [
      "\n"
     ]
    }
   ],
   "source": [
    "import os\n",
    "import cv2\n",
    "import numpy as np\n",
    "import mediapipe as mp\n",
    "from tqdm import tqdm\n",
    "from scipy.spatial import distance\n",
    "\n",
    "# === INPUT CONFIG ===\n",
    "REAL_INPUT = r\"D:\\DETECTION 1.0\\Celeb-DF\\aligned_faces_real\"\n",
    "FAKE_INPUT = r\"D:\\DETECTION 1.0\\Celeb-DF\\aligned_faces_fake\"\n",
    "OUTPUT_FOLDER = r\"D:/DETECTION 1.0/Celeb-DF/muscle_tension_maps\"\n",
    "os.makedirs(OUTPUT_FOLDER, exist_ok=True)\n",
    "\n",
    "# === MediaPipe Face Mesh ===\n",
    "mp_face_mesh = mp.solutions.face_mesh\n",
    "face_mesh = mp_face_mesh.FaceMesh(static_image_mode=True, max_num_faces=1, refine_landmarks=True)\n",
    "\n",
    "# === Adjacency Pairs (subset for strain) ===\n",
    "ADJACENT_PAIRS = [\n",
    "    (33, 160), (160, 158), (158, 133),  # Left Eye Top\n",
    "    (263, 387), (387, 385), (385, 362),  # Right Eye Top\n",
    "    (61, 291),  # Mouth\n",
    "    (50, 280),  # Cheeks\n",
    "    (70, 336),  # Brows\n",
    "    (10, 152),  # Nose Bridge to Chin\n",
    "]\n",
    "\n",
    "# === Compute Strain Between Landmark Pairs ===\n",
    "def compute_strain(landmarks, image_shape):\n",
    "    h, w = image_shape[:2]\n",
    "    coords = [(int(lm.x * w), int(lm.y * h)) for lm in landmarks]\n",
    "    strains = []\n",
    "    for (i, j) in ADJACENT_PAIRS:\n",
    "        if i < len(coords) and j < len(coords):\n",
    "            dist = distance.euclidean(coords[i], coords[j])\n",
    "            strains.append(((coords[i], coords[j]), dist))\n",
    "    return strains\n",
    "\n",
    "# === Draw Tension Map ===\n",
    "def draw_tension_map(image, strain_data):\n",
    "    tension_map = np.zeros_like(image)\n",
    "    for ((pt1, pt2), val) in strain_data:\n",
    "        intensity = int(min(max(val, 0), 50)) * 5  # Scale to 0–255\n",
    "        cv2.line(tension_map, pt1, pt2, (0, 0, intensity), 2)\n",
    "    heatmap = cv2.applyColorMap(tension_map[:, :, 2], cv2.COLORMAP_JET)\n",
    "    blended = cv2.addWeighted(image, 0.6, heatmap, 0.4, 0)\n",
    "    return blended\n",
    "\n",
    "# === Process Each Video Folder ===\n",
    "def process_video_folder(video_path, output_subfolder):\n",
    "    os.makedirs(output_subfolder, exist_ok=True)\n",
    "    for img_file in tqdm(sorted(os.listdir(video_path)), desc=f\"Processing {os.path.basename(video_path)}\"):\n",
    "        if not img_file.endswith((\".jpg\", \".png\")):\n",
    "            continue\n",
    "        img_path = os.path.join(video_path, img_file)\n",
    "        image = cv2.imread(img_path)\n",
    "        if image is None:\n",
    "            continue\n",
    "        rgb = cv2.cvtColor(image, cv2.COLOR_BGR2RGB)\n",
    "        results = face_mesh.process(rgb)\n",
    "        if results.multi_face_landmarks:\n",
    "            lm = results.multi_face_landmarks[0].landmark\n",
    "            strain_data = compute_strain(lm, image.shape)\n",
    "            tension_map = draw_tension_map(image, strain_data)\n",
    "            save_path = os.path.join(output_subfolder, img_file)\n",
    "            cv2.imwrite(save_path, tension_map)\n",
    "\n",
    "# === Wrapper for Real and Fake Processing ===\n",
    "def process_dataset(input_path, subfolder_name):\n",
    "    out_dir = os.path.join(OUTPUT_FOLDER, subfolder_name)\n",
    "    for video_id in os.listdir(input_path):\n",
    "        video_folder = os.path.join(input_path, video_id)\n",
    "        if os.path.isdir(video_folder):\n",
    "            output_subfolder = os.path.join(out_dir, video_id)\n",
    "            process_video_folder(video_folder, output_subfolder)\n",
    "\n",
    "# === Run on Both Datasets ===\n",
    "process_dataset(REAL_INPUT, \"real\")\n",
    "process_dataset(FAKE_INPUT, \"fake\")\n",
    "\n",
    "print(\"✅ Muscle tension maps saved to:\", OUTPUT_FOLDER)\n"
   ]
  },
  {
   "cell_type": "code",
   "execution_count": 3,
   "id": "12c2f77d",
   "metadata": {},
   "outputs": [
    {
     "name": "stderr",
     "output_type": "stream",
     "text": [
      "📦 Processing real videos: 100%|██████████| 408/408 [19:01<00:00,  2.80s/it]\n",
      "📦 Processing fake videos: 100%|██████████| 408/408 [20:15<00:00,  2.98s/it]"
     ]
    },
    {
     "name": "stdout",
     "output_type": "stream",
     "text": [
      "\n",
      "✅ Saved muscle tension features to: muscle_tension_features.csv\n"
     ]
    },
    {
     "name": "stderr",
     "output_type": "stream",
     "text": [
      "\n"
     ]
    }
   ],
   "source": [
    "import os\n",
    "import cv2\n",
    "import numpy as np\n",
    "import pandas as pd\n",
    "from tqdm import tqdm\n",
    "\n",
    "# === CONFIG ===\n",
    "TENSION_MAPS_FOLDER = r\"D:\\DETECTION 1.0\\Celeb-DF\\muscle_tension_maps\"\n",
    "OUTPUT_CSV = \"muscle_tension_features.csv\"\n",
    "\n",
    "# === Extract Histogram from Grayscale Image ===\n",
    "def extract_histogram_features(gray_img, bins=32):\n",
    "    hist = cv2.calcHist([gray_img], [0], None, [bins], [0, 256])\n",
    "    hist = cv2.normalize(hist, hist).flatten()\n",
    "    return hist\n",
    "\n",
    "# === Main Processing ===\n",
    "all_features = []\n",
    "\n",
    "for label_name in ['real', 'fake']:\n",
    "    label_path = os.path.join(TENSION_MAPS_FOLDER, label_name)\n",
    "    label_value = 0 if label_name == 'real' else 1\n",
    "\n",
    "    if not os.path.isdir(label_path):\n",
    "        print(f\"⚠️ Folder not found: {label_path}\")\n",
    "        continue\n",
    "\n",
    "    for video_id in tqdm(os.listdir(label_path), desc=f\"📦 Processing {label_name} videos\"):\n",
    "        video_folder = os.path.join(label_path, video_id)\n",
    "        if not os.path.isdir(video_folder):\n",
    "            continue\n",
    "\n",
    "        frame_files = sorted([f for f in os.listdir(video_folder) if f.lower().endswith(('.jpg', '.png'))])\n",
    "        if not frame_files:\n",
    "            continue\n",
    "\n",
    "        video_hists = []\n",
    "        for frame_file in frame_files:\n",
    "            img_path = os.path.join(video_folder, frame_file)\n",
    "            image = cv2.imread(img_path, cv2.IMREAD_GRAYSCALE)\n",
    "            if image is None:\n",
    "                continue\n",
    "            hist = extract_histogram_features(image)\n",
    "            video_hists.append(hist)\n",
    "\n",
    "        if video_hists:\n",
    "            avg_hist = np.mean(video_hists, axis=0)\n",
    "            all_features.append({\n",
    "                'video_id': video_id,\n",
    "                'label': label_value,\n",
    "                **{f'hist_bin_{i}': avg_hist[i] for i in range(len(avg_hist))}\n",
    "            })\n",
    "\n",
    "# === Save CSV ===\n",
    "df = pd.DataFrame(all_features)\n",
    "df.to_csv(OUTPUT_CSV, index=False)\n",
    "print(f\"\\n✅ Saved muscle tension features to: {OUTPUT_CSV}\")\n"
   ]
  },
  {
   "cell_type": "code",
   "execution_count": 15,
   "id": "933caa07",
   "metadata": {},
   "outputs": [
    {
     "name": "stdout",
     "output_type": "stream",
     "text": [
      "✅ Label → Labels: [1 0]\n",
      "📦 Label | Rows: 347604 | Unique video_ids: 347604\n",
      "✅ Motion → Labels: [0 1]\n",
      "📦 Motion | Rows: 346788 | Unique video_ids: 346788\n",
      "✅ NMCS → Labels: [0 1]\n",
      "📦 NMCS | Rows: 797 | Unique video_ids: 797\n",
      "✅ Muscle → Labels: [0 1]\n",
      "📦 Muscle | Rows: 798 | Unique video_ids: 798\n",
      "\n",
      "✅ Common video_ids across all datasets: 0\n"
     ]
    }
   ],
   "source": [
    "import pandas as pd\n",
    "\n",
    "# === Paths to CSV files ===\n",
    "csv_files = {\n",
    "    \"Label\": r\"D:\\DETECTION 1.0\\Celeb-DF\\Label Real and Fake.csv\",\n",
    "    \"Motion\": r\"D:\\DETECTION 1.0\\Celeb-DF\\combined_motion.csv\",\n",
    "    \"NMCS\": r\"D:\\DETECTION 1.0\\Celeb-DF\\nmcs_scores.csv\",\n",
    "    \"Muscle\": r\"D:\\DETECTION 1.0\\Celeb-DF\\muscle_tension_features.csv\"\n",
    "}\n",
    "\n",
    "# === Load and normalize ===\n",
    "def load_and_normalize(path, name):\n",
    "    try:\n",
    "        df = pd.read_csv(path)\n",
    "\n",
    "        # Rename common column to 'video_id'\n",
    "        for col in ['video', 'video_id', 'filename']:\n",
    "            if col in df.columns:\n",
    "                df = df.rename(columns={col: 'video_id'})\n",
    "                break\n",
    "\n",
    "        # Keep original ID format (to preserve things like id11_0005)\n",
    "        df['video_id'] = df['video_id'].astype(str)\n",
    "\n",
    "        # Label checks\n",
    "        if 'label' not in df.columns:\n",
    "            print(f\"⚠️ {name} missing 'label' column.\")\n",
    "        else:\n",
    "            labels = df['label'].dropna().unique()\n",
    "            print(f\"✅ {name} → Labels: {labels}\")\n",
    "\n",
    "        print(f\"📦 {name} | Rows: {len(df)} | Unique video_ids: {df['video_id'].nunique()}\")\n",
    "        return df\n",
    "\n",
    "    except Exception as e:\n",
    "        print(f\"❌ Failed to load {name}: {e}\")\n",
    "        return pd.DataFrame()\n",
    "\n",
    "# === Load All CSVs ===\n",
    "dfs = {}\n",
    "for name, path in csv_files.items():\n",
    "    dfs[name] = load_and_normalize(path, name)\n",
    "\n",
    "# === Optional: Check common video_ids across all datasets ===\n",
    "common_ids = set(dfs[\"Label\"]['video_id'])\n",
    "for name, df in dfs.items():\n",
    "    if 'video_id' in df.columns:\n",
    "        common_ids &= set(df['video_id'])\n",
    "\n",
    "print(f\"\\n✅ Common video_ids across all datasets: {len(common_ids)}\")"
   ]
  },
  {
   "cell_type": "code",
   "execution_count": 14,
   "id": "f3b2a402",
   "metadata": {},
   "outputs": [
    {
     "name": "stdout",
     "output_type": "stream",
     "text": [
      "🔁 Repeated video_ids (treated distinctly):\n",
      "Series([], Name: count, dtype: int64)\n",
      "\n",
      "🧮 Total repeated videos: 0\n"
     ]
    }
   ],
   "source": [
    "import pandas as pd\n",
    "\n",
    "# Load your CSV file (replace with actual file if different)\n",
    "df = pd.read_csv(r\"D:\\DETECTION 1.0\\Celeb-DF\\nmcs_scores.csv\")\n",
    "\n",
    "# Ensure 'video_id' is treated as string\n",
    "df['video_id'] = df['video_id'].astype(str)\n",
    "\n",
    "# Count occurrences\n",
    "video_counts = df['video_id'].value_counts()\n",
    "\n",
    "# Find repeated ones\n",
    "repeated_videos = video_counts[video_counts > 1]\n",
    "\n",
    "# Show the repeated video IDs\n",
    "print(\"🔁 Repeated video_ids (treated distinctly):\")\n",
    "print(repeated_videos)\n",
    "print(f\"\\n🧮 Total repeated videos: {len(repeated_videos)}\")\n"
   ]
  },
  {
   "cell_type": "code",
   "execution_count": 16,
   "id": "a90cb32c",
   "metadata": {},
   "outputs": [
    {
     "name": "stdout",
     "output_type": "stream",
     "text": [
      "\n",
      "📦 Label:\n",
      "🟢 Real (0): 175289\n",
      "🔴 Fake (1): 172315\n",
      "🎞️ Total Unique Videos: 347604\n",
      "---------------------------------------------\n",
      "\n",
      "📦 Motion:\n",
      "🟢 Real (0): 174881\n",
      "🔴 Fake (1): 171907\n",
      "🎞️ Total Unique Videos: 346788\n",
      "---------------------------------------------\n",
      "\n",
      "📦 NMCS:\n",
      "🟢 Real (0): 401\n",
      "🔴 Fake (1): 396\n",
      "🎞️ Total Unique Videos: 797\n",
      "---------------------------------------------\n",
      "\n",
      "📦 Muscle:\n",
      "🟢 Real (0): 402\n",
      "🔴 Fake (1): 396\n",
      "🎞️ Total Unique Videos: 798\n",
      "---------------------------------------------\n"
     ]
    }
   ],
   "source": [
    "import pandas as pd\n",
    "\n",
    "# === Paths to CSV files ===\n",
    "csv_files = {\n",
    "    \"Label\": r\"D:\\DETECTION 1.0\\Celeb-DF\\Label Real and Fake.csv\",\n",
    "    \"Motion\": r\"D:\\DETECTION 1.0\\Celeb-DF\\combined_motion.csv\",\n",
    "    \"NMCS\": r\"D:\\DETECTION 1.0\\Celeb-DF\\nmcs_scores.csv\",\n",
    "    \"Muscle\": r\"D:\\DETECTION 1.0\\Celeb-DF\\muscle_tension_features.csv\"\n",
    "}\n",
    "\n",
    "# === Main Counting Function ===\n",
    "def count_real_fake_videos(path, name):\n",
    "    try:\n",
    "        df = pd.read_csv(path)\n",
    "\n",
    "        # Rename to standard column name\n",
    "        for col in ['video', 'filename']:\n",
    "            if col in df.columns:\n",
    "                df = df.rename(columns={col: 'video_id'})\n",
    "                break\n",
    "\n",
    "        df['video_id'] = df['video_id'].astype(str)\n",
    "\n",
    "        # Attach label if missing\n",
    "        if 'label' not in df.columns:\n",
    "            label_df = pd.read_csv(csv_files[\"Label\"])[['video_id', 'label']]\n",
    "            label_df['video_id'] = label_df['video_id'].astype(str)\n",
    "            df = df.merge(label_df, on='video_id', how='left')\n",
    "\n",
    "        # Drop duplicates for correct counting\n",
    "        unique_df = df[['video_id', 'label']].drop_duplicates()\n",
    "        label_counts = unique_df['label'].value_counts().sort_index()\n",
    "\n",
    "        print(f\"\\n📦 {name}:\")\n",
    "        print(f\"🟢 Real (0): {label_counts.get(0, 0)}\")\n",
    "        print(f\"🔴 Fake (1): {label_counts.get(1, 0)}\")\n",
    "        print(f\"🎞️ Total Unique Videos: {unique_df['video_id'].nunique()}\")\n",
    "        print(\"-\" * 45)\n",
    "\n",
    "    except Exception as e:\n",
    "        print(f\"❌ Error in {name}: {e}\")\n",
    "\n",
    "# === Run the Checks ===\n",
    "for name, path in csv_files.items():\n",
    "    count_real_fake_videos(path, name)\n"
   ]
  },
  {
   "cell_type": "code",
   "execution_count": 8,
   "id": "4c90ef31",
   "metadata": {},
   "outputs": [
    {
     "name": "stdout",
     "output_type": "stream",
     "text": [
      "✅ Total real aligned videos: 408\n",
      "✅ Total fake aligned videos: 408\n"
     ]
    }
   ],
   "source": [
    "import os\n",
    "\n",
    "REAL_ALIGNED = r\"D:\\DETECTION 1.0\\Celeb-DF\\aligned_faces_real\"\n",
    "FAKE_ALIGNED = r\"D:\\DETECTION 1.0\\Celeb-DF\\aligned_faces_fake\"\n",
    "\n",
    "real_videos = [f for f in os.listdir(REAL_ALIGNED) if os.path.isdir(os.path.join(REAL_ALIGNED, f))]\n",
    "fake_videos = [f for f in os.listdir(FAKE_ALIGNED) if os.path.isdir(os.path.join(FAKE_ALIGNED, f))]\n",
    "\n",
    "print(\"✅ Total real aligned videos:\", len(real_videos))\n",
    "print(\"✅ Total fake aligned videos:\", len(fake_videos))\n"
   ]
  },
  {
   "cell_type": "code",
   "execution_count": 46,
   "id": "e18dc544",
   "metadata": {},
   "outputs": [
    {
     "name": "stdout",
     "output_type": "stream",
     "text": [
      "\n",
      "✅ Fusion complete. Saved to: D:\\DETECTION 1.0\\Celeb-DF\\fused_features.csv\n",
      "📦 Final shape: (0, 38)\n",
      "🟢 Real: 0 | 🔴 Fake: 0\n"
     ]
    }
   ],
   "source": [
    "import pandas as pd\n",
    "\n",
    "# === Paths to input CSVs ===\n",
    "csv_files = {\n",
    "    \"Label\": r\"D:\\DETECTION 1.0\\Celeb-DF\\Label Real and Fake.csv\",\n",
    "    \"Motion\": r\"D:\\DETECTION 1.0\\Celeb-DF\\combined_motion.csv\",\n",
    "    \"NMCS\": r\"D:\\DETECTION 1.0\\Celeb-DF\\nmcs_scores.csv\",\n",
    "    \"Muscle\": r\"D:\\DETECTION 1.0\\Celeb-DF\\muscle_tension_features.csv\"\n",
    "}\n",
    "\n",
    "# === Load and Normalize ===\n",
    "def load_csv(path, name):\n",
    "    df = pd.read_csv(path)\n",
    "\n",
    "    # Standardize column name\n",
    "    for col in ['video', 'filename']:\n",
    "        if col in df.columns:\n",
    "            df = df.rename(columns={col: 'video_id'})\n",
    "            break\n",
    "\n",
    "    df['video_id'] = df['video_id'].astype(str)\n",
    "\n",
    "    # If video_id is just digits like '1', '2', pad them to 5 digits\n",
    "    if df['video_id'].str.match(r'^\\d+$').all():\n",
    "        df['video_id'] = df['video_id'].str.zfill(5)\n",
    "\n",
    "    if 'label' not in df.columns and name != 'Label':\n",
    "        label_df = pd.read_csv(csv_files[\"Label\"])[['video_id', 'label']]\n",
    "        label_df['video_id'] = label_df['video_id'].astype(str)\n",
    "        if label_df['video_id'].str.match(r'^\\d+$').all():\n",
    "            label_df['video_id'] = label_df['video_id'].str.zfill(5)\n",
    "        df = df.merge(label_df, on='video_id', how='left')\n",
    "\n",
    "    return df\n",
    "\n",
    "\n",
    "# === Load all datasets ===\n",
    "label_df  = load_csv(csv_files[\"Label\"], \"Label\")[['video_id', 'label']]\n",
    "motion_df = load_csv(csv_files[\"Motion\"], \"Motion\")\n",
    "nmcs_df   = load_csv(csv_files[\"NMCS\"], \"NMCS\")\n",
    "muscle_df = load_csv(csv_files[\"Muscle\"], \"Muscle\")\n",
    "\n",
    "# === Group & Aggregate (in case multiple rows per video) ===\n",
    "motion_agg = motion_df.groupby(['video_id', 'label'], as_index=False).mean(numeric_only=True)\n",
    "nmcs_agg   = nmcs_df.groupby(['video_id', 'label'], as_index=False).mean(numeric_only=True)\n",
    "muscle_agg = muscle_df.groupby(['video_id', 'label'], as_index=False).mean(numeric_only=True)\n",
    "\n",
    "# === Merge all ===\n",
    "merged_df = label_df.copy()\n",
    "merged_df = merged_df.merge(motion_agg, on=['video_id', 'label'], how='inner')\n",
    "merged_df = merged_df.merge(nmcs_agg,   on=['video_id', 'label'], how='inner')\n",
    "merged_df = merged_df.merge(muscle_agg, on=['video_id', 'label'], how='inner')\n",
    "\n",
    "# === Save output ===\n",
    "output_path = r\"D:\\DETECTION 1.0\\Celeb-DF\\fused_features.csv\"\n",
    "merged_df.to_csv(output_path, index=False)\n",
    "\n",
    "# === Info ===\n",
    "print(\"\\n✅ Fusion complete. Saved to:\", output_path)\n",
    "print(f\"📦 Final shape: {merged_df.shape}\")\n",
    "print(f\"🟢 Real: {(merged_df['label'] == 0).sum()} | 🔴 Fake: {(merged_df['label'] == 1).sum()}\")\n"
   ]
  },
  {
   "cell_type": "code",
   "execution_count": 47,
   "id": "c52188c7",
   "metadata": {},
   "outputs": [
    {
     "name": "stdout",
     "output_type": "stream",
     "text": [
      "\n",
      "🎯 Sample Video IDs:\n",
      "📌 Label  → ['00000' '00001' '00002' '00003' '00004']\n",
      "📌 Motion → ['00000' '00001' '00002' '00003' '00004']\n",
      "📌 NMCS   → ['00000' '00001' '00002' '00003' '00004']\n",
      "📌 Muscle → ['00000' '00001' '00002' '00003' '00004']\n",
      "\n",
      "✅ Video ID Overlap Stats:\n",
      "🧩 Label ∩ Motion: 346788\n",
      "🧩 Label ∩ NMCS: 246\n",
      "🧩 Label ∩ Muscle: 247\n",
      "🧩 All 4 Intersecting: 246\n"
     ]
    }
   ],
   "source": [
    "# Print first 5 video_ids from each CSV\n",
    "print(\"\\n🎯 Sample Video IDs:\")\n",
    "print(\"📌 Label  →\", label_df['video_id'].unique()[:5])\n",
    "print(\"📌 Motion →\", motion_df['video_id'].unique()[:5])\n",
    "print(\"📌 NMCS   →\", nmcs_df['video_id'].unique()[:5])\n",
    "print(\"📌 Muscle →\", muscle_df['video_id'].unique()[:5])\n",
    "\n",
    "# Check intersection size\n",
    "sets = {\n",
    "    \"Label\": set(label_df['video_id']),\n",
    "    \"Motion\": set(motion_agg['video_id']),\n",
    "    \"NMCS\": set(nmcs_agg['video_id']),\n",
    "    \"Muscle\": set(muscle_agg['video_id']),\n",
    "}\n",
    "print(\"\\n✅ Video ID Overlap Stats:\")\n",
    "print(\"🧩 Label ∩ Motion:\", len(sets[\"Label\"] & sets[\"Motion\"]))\n",
    "print(\"🧩 Label ∩ NMCS:\", len(sets[\"Label\"] & sets[\"NMCS\"]))\n",
    "print(\"🧩 Label ∩ Muscle:\", len(sets[\"Label\"] & sets[\"Muscle\"]))\n",
    "print(\"🧩 All 4 Intersecting:\", len(set.intersection(*sets.values())))\n"
   ]
  },
  {
   "cell_type": "code",
   "execution_count": 48,
   "id": "fae7b453",
   "metadata": {},
   "outputs": [
    {
     "name": "stdout",
     "output_type": "stream",
     "text": [
      "\n",
      "🎯 Sample Video IDs:\n",
      "📌 Label  → ['00000' '00001' '00002' '00003' '00004']\n",
      "📌 Motion → ['00000' '00001' '00002' '00003' '00004']\n",
      "📌 NMCS   → ['00000' '00001' '00002' '00003' '00004']\n",
      "📌 Muscle → ['00000' '00001' '00002' '00003' '00004']\n"
     ]
    }
   ],
   "source": [
    "# Show sample video_ids from each dataframe\n",
    "print(\"\\n🎯 Sample Video IDs:\")\n",
    "print(\"📌 Label  →\", label_df['video_id'].dropna().astype(str).unique()[:5])\n",
    "print(\"📌 Motion →\", motion_df['video_id'].dropna().astype(str).unique()[:5])\n",
    "print(\"📌 NMCS   →\", nmcs_df['video_id'].dropna().astype(str).unique()[:5])\n",
    "print(\"📌 Muscle →\", muscle_df['video_id'].dropna().astype(str).unique()[:5])"
   ]
  },
  {
   "cell_type": "code",
   "execution_count": null,
   "id": "0e4fdb6f",
   "metadata": {},
   "outputs": [
    {
     "name": "stdout",
     "output_type": "stream",
     "text": [
      "✅ NMCS features saved: D:\\DETECTION 1.0\\Celeb-DF\\nmcs_scores_real.csv\n"
     ]
    }
   ],
   "source": [
    "import pandas as pd\n",
    "\n",
    "# === Paths to input CSVs ===\n",
    "csv_files = {\n",
    "    \"Label\":  r\"D:\\DETECTION 1.0\\Celeb-DF\\Label Real and Fake.csv\",\n",
    "    \"Motion\": r\"D:\\DETECTION 1.0\\Celeb-DF\\combined_motion.csv\",\n",
    "    \"NMCS\":   r\"D:\\DETECTION 1.0\\Celeb-DF\\nmcs_scores.csv\",\n",
    "    \"Muscle\": r\"D:\\DETECTION 1.0\\Celeb-DF\\muscle_tension_features.csv\"\n",
    "}\n",
    "\n",
    "# === Load and Normalize CSV ===\n",
    "def load_csv(path, name):\n",
    "    df = pd.read_csv(path)\n",
    "\n",
    "    # Standardize video_id column\n",
    "    for col in ['video', 'filename', 'video_id']:\n",
    "        if col in df.columns:\n",
    "            df = df.rename(columns={col: 'video_id'})\n",
    "            break\n",
    "\n",
    "    df['video_id'] = df['video_id'].astype(str).str.zfill(5)\n",
    "\n",
    "    # Merge label for non-label files\n",
    "    if 'label' not in df.columns and name != 'Label':\n",
    "        label_df = pd.read_csv(csv_files[\"Label\"])[['video_id', 'label']]\n",
    "        label_df['video_id'] = label_df['video_id'].astype(str).str.zfill(5)\n",
    "        df = df.merge(label_df, on='video_id', how='left')\n",
    "\n",
    "    print(f\"✅ Loaded {name}: shape = {df.shape}\")\n",
    "    return df\n",
    "\n",
    "\n",
    "# === Load datasets ===\n",
    "label_df  = load_csv(csv_files[\"Label\"], \"Label\")[['video_id', 'label']]\n",
    "motion_df = load_csv(csv_files[\"Motion\"], \"Motion\")\n",
    "nmcs_df   = load_csv(csv_files[\"NMCS\"], \"NMCS\")\n",
    "muscle_df = load_csv(csv_files[\"Muscle\"], \"Muscle\")\n",
    "\n",
    "# === Drop 'label' columns from features if present ===\n",
    "for df in [motion_df, nmcs_df, muscle_df]:\n",
    "    if 'label' in df.columns:\n",
    "        df.drop(columns=['label'], inplace=True)\n",
    "\n",
    "# === Group & Aggregate to video level ===\n",
    "motion_agg = motion_df.groupby('video_id', as_index=False).mean(numeric_only=True)\n",
    "nmcs_agg   = nmcs_df.groupby('video_id', as_index=False).mean(numeric_only=True)\n",
    "muscle_agg = muscle_df.groupby('video_id', as_index=False).mean(numeric_only=True)\n",
    "\n",
    "# === Merge all on video_id only ===\n",
    "merged_df = label_df.copy()\n",
    "merged_df = merged_df.merge(motion_agg, on='video_id', how='inner')\n",
    "merged_df = merged_df.merge(nmcs_agg,   on='video_id', how='inner')\n",
    "merged_df = merged_df.merge(muscle_agg, on='video_id', how='inner')\n",
    "\n",
    "# === Save final fused features ===\n",
    "output_path = r\"D:\\DETECTION 1.0\\Celeb-DF\\fused_features.csv\"\n",
    "merged_df.to_csv(output_path, index=False)\n",
    "\n",
    "# === Print summary ===\n",
    "print(\"\\n✅ Fusion complete. Saved to:\", output_path)\n",
    "print(f\"📦 Final shape: {merged_df.shape}\")\n",
    "print(f\"🟢 Real: {(merged_df['label'] == 0).sum()} | 🔴 Fake: {(merged_df['label'] == 1).sum()}\")\n",
    "\n",
    "# === Optional: Show intersections ===\n",
    "sets = {\n",
    "    \"Label\":  set(label_df['video_id']),\n",
    "    \"Motion\": set(motion_agg['video_id']),\n",
    "    \"NMCS\":   set(nmcs_agg['video_id']),\n",
    "    \"Muscle\": set(muscle_agg['video_id']),\n",
    "}\n",
    "print(\"\\n✅ Video ID Overlap Stats:\")\n",
    "print(\"🧩 Label ∩ Motion:\", len(sets[\"Label\"] & sets[\"Motion\"]))\n",
    "print(\"🧩 Label ∩ NMCS:\", len(sets[\"Label\"] & sets[\"NMCS\"]))\n",
    "print(\"🧩 Label ∩ Muscle:\", len(sets[\"Label\"] & sets[\"Muscle\"]))\n",
    "print(\"🧩 All 4 Intersecting:\", len(set.intersection(*sets.values())))\n"
   ]
  },
  {
   "cell_type": "code",
   "execution_count": 56,
   "id": "dc2be6b6",
   "metadata": {},
   "outputs": [
    {
     "name": "stdout",
     "output_type": "stream",
     "text": [
      "✅ NMCS features saved: D:\\DETECTION 1.0\\Celeb-DF\\nmcs_scores_real.csv\n"
     ]
    }
   ],
   "source": [
    "import os\n",
    "import pandas as pd\n",
    "\n",
    "# === Input & Output Paths ===\n",
    "real_frames_path = r\"D:\\DETECTION 1.0\\Celeb-DF\\Real Frames\"\n",
    "output_csv = r\"D:\\DETECTION 1.0\\Celeb-DF\\nmcs_scores_real.csv\"\n",
    "\n",
    "# === Dummy NMCS Computation (replace with actual logic) ===\n",
    "def compute_nmcs_for_video(video_id, frames_folder):\n",
    "    # Replace with actual NMCS computation\n",
    "    return {\n",
    "        'video_id': video_id,\n",
    "        'nmcs_score': 0.85,  # placeholder\n",
    "        'coord_variance': 0.12  # placeholder\n",
    "    }\n",
    "\n",
    "# === Process Real Videos ===\n",
    "data = []\n",
    "for video_id in sorted(os.listdir(real_frames_path)):\n",
    "    video_folder = os.path.join(real_frames_path, video_id)\n",
    "    if os.path.isdir(video_folder):\n",
    "        features = compute_nmcs_for_video(video_id, video_folder)\n",
    "        data.append(features)\n",
    "\n",
    "# === Save Results ===\n",
    "nmcs_df = pd.DataFrame(data)\n",
    "nmcs_df['video_id'] = nmcs_df['video_id'].astype(str).str.zfill(5)\n",
    "nmcs_df.to_csv(output_csv, index=False)\n",
    "print(\"✅ NMCS features saved:\", output_csv)\n"
   ]
  },
  {
   "cell_type": "code",
   "execution_count": 57,
   "id": "9f0c9b6e",
   "metadata": {},
   "outputs": [
    {
     "name": "stdout",
     "output_type": "stream",
     "text": [
      "✅ Muscle Tension features saved: D:\\DETECTION 1.0\\Celeb-DF\\muscle_tension_features_real.csv\n"
     ]
    }
   ],
   "source": [
    "import os\n",
    "import pandas as pd\n",
    "\n",
    "# === Input & Output Paths ===\n",
    "real_frames_path = r\"D:\\DETECTION 1.0\\Celeb-DF\\Real Frames\"\n",
    "output_csv = r\"D:\\DETECTION 1.0\\Celeb-DF\\muscle_tension_features_real.csv\"\n",
    "\n",
    "# === Dummy Muscle Tension Computation (replace with actual logic) ===\n",
    "def compute_muscle_features(video_id, frames_folder):\n",
    "    return {\n",
    "        'video_id': video_id,\n",
    "        'jaw_strain': 0.21,\n",
    "        'cheek_strain': 0.18,\n",
    "        'forehead_strain': 0.12,\n",
    "        # add all 30+ fields...\n",
    "    }\n",
    "\n",
    "# === Process Real Videos ===\n",
    "data = []\n",
    "for video_id in sorted(os.listdir(real_frames_path)):\n",
    "    video_folder = os.path.join(real_frames_path, video_id)\n",
    "    if os.path.isdir(video_folder):\n",
    "        features = compute_muscle_features(video_id, video_folder)\n",
    "        data.append(features)\n",
    "\n",
    "# === Save Results ===\n",
    "muscle_df = pd.DataFrame(data)\n",
    "muscle_df['video_id'] = muscle_df['video_id'].astype(str).str.zfill(5)\n",
    "muscle_df.to_csv(output_csv, index=False)\n",
    "print(\"✅ Muscle Tension features saved:\", output_csv)\n"
   ]
  },
  {
   "cell_type": "code",
   "execution_count": 60,
   "id": "8ad14f0e",
   "metadata": {},
   "outputs": [
    {
     "name": "stdout",
     "output_type": "stream",
     "text": [
      "✅ NMCS and Muscle files updated with real video features.\n"
     ]
    }
   ],
   "source": [
    "import pandas as pd\n",
    "\n",
    "# === Paths ===\n",
    "nmcs_real_path   = r\"D:\\DETECTION 1.0\\Celeb-DF\\nmcs_scores_real.csv\"\n",
    "nmcs_full_path   = r\"D:\\DETECTION 1.0\\Celeb-DF\\nmcs_scores.csv\"\n",
    "muscle_real_path = r\"D:\\DETECTION 1.0\\Celeb-DF\\muscle_tension_features_real.csv\"\n",
    "muscle_full_path = r\"D:\\DETECTION 1.0\\Celeb-DF\\muscle_tension_features.csv\"\n",
    "\n",
    "# === Load Real and Fake Features ===\n",
    "nmcs_real   = pd.read_csv(nmcs_real_path)\n",
    "nmcs_fake   = pd.read_csv(nmcs_full_path)\n",
    "muscle_real = pd.read_csv(muscle_real_path)\n",
    "muscle_fake = pd.read_csv(muscle_full_path)\n",
    "\n",
    "# === Combine and Deduplicate if necessary ===\n",
    "nmcs_combined   = pd.concat([nmcs_fake, nmcs_real], ignore_index=True).drop_duplicates(subset='video_id')\n",
    "muscle_combined = pd.concat([muscle_fake, muscle_real], ignore_index=True).drop_duplicates(subset='video_id')\n",
    "\n",
    "# === Save back to full feature CSVs ===\n",
    "nmcs_combined.to_csv(nmcs_full_path, index=False)\n",
    "muscle_combined.to_csv(muscle_full_path, index=False)\n",
    "\n",
    "print(\"✅ NMCS and Muscle files updated with real video features.\")\n"
   ]
  },
  {
   "cell_type": "code",
   "execution_count": 61,
   "id": "3a9b0cb3",
   "metadata": {},
   "outputs": [
    {
     "name": "stdout",
     "output_type": "stream",
     "text": [
      "✅ Successfully appended real NMCS and Muscle features using pandas.\n"
     ]
    }
   ],
   "source": [
    "import pandas as pd\n",
    "\n",
    "# === File paths ===\n",
    "nmcs_real_path   = r\"D:\\DETECTION 1.0\\Celeb-DF\\nmcs_scores_real.csv\"\n",
    "nmcs_full_path   = r\"D:\\DETECTION 1.0\\Celeb-DF\\nmcs_scores.csv\"\n",
    "\n",
    "muscle_real_path = r\"D:\\DETECTION 1.0\\Celeb-DF\\muscle_tension_features_real.csv\"\n",
    "muscle_full_path = r\"D:\\DETECTION 1.0\\Celeb-DF\\muscle_tension_features.csv\"\n",
    "\n",
    "# === Load CSVs ===\n",
    "nmcs_real   = pd.read_csv(nmcs_real_path)\n",
    "nmcs_full   = pd.read_csv(nmcs_full_path)\n",
    "muscle_real = pd.read_csv(muscle_real_path)\n",
    "muscle_full = pd.read_csv(muscle_full_path)\n",
    "\n",
    "# === Normalize video_id ===\n",
    "for df in [nmcs_real, nmcs_full, muscle_real, muscle_full]:\n",
    "    df['video_id'] = df['video_id'].astype(str).str.zfill(5)\n",
    "\n",
    "# === Concatenate & drop duplicates ===\n",
    "nmcs_combined   = pd.concat([nmcs_full, nmcs_real], ignore_index=True).drop_duplicates(subset='video_id')\n",
    "muscle_combined = pd.concat([muscle_full, muscle_real], ignore_index=True).drop_duplicates(subset='video_id')\n",
    "\n",
    "# === Save back to original files ===\n",
    "nmcs_combined.to_csv(nmcs_full_path, index=False)\n",
    "muscle_combined.to_csv(muscle_full_path, index=False)\n",
    "\n",
    "print(\"✅ Successfully appended real NMCS and Muscle features using pandas.\")\n"
   ]
  },
  {
   "cell_type": "code",
   "execution_count": 62,
   "id": "0a3a0150",
   "metadata": {},
   "outputs": [
    {
     "name": "stdout",
     "output_type": "stream",
     "text": [
      "✅ Loaded Label: shape = (347604, 3)\n",
      "✅ Loaded Motion: shape = (346788, 6)\n",
      "✅ Loaded NMCS: shape = (804, 5)\n",
      "✅ Loaded Muscle: shape = (804, 37)\n",
      "\n",
      "✅ Fusion complete. Saved to: D:\\DETECTION 1.0\\Celeb-DF\\fused_features.csv\n",
      "📦 Final shape: (250, 43)\n",
      "🟢 Real: 0 | 🔴 Fake: 250\n",
      "\n",
      "✅ Video ID Overlap Stats:\n",
      "🧩 Label ∩ Motion: 346788\n",
      "🧩 Label ∩ NMCS: 250\n",
      "🧩 Label ∩ Muscle: 250\n",
      "🧩 All 4 Intersecting: 250\n"
     ]
    }
   ],
   "source": [
    "import pandas as pd\n",
    "\n",
    "# === Input Paths ===\n",
    "csv_files = {\n",
    "    \"Label\":  r\"D:\\DETECTION 1.0\\Celeb-DF\\Label Real and Fake.csv\",\n",
    "    \"Motion\": r\"D:\\DETECTION 1.0\\Celeb-DF\\combined_motion.csv\",\n",
    "    \"NMCS\":   r\"D:\\DETECTION 1.0\\Celeb-DF\\nmcs_scores.csv\",\n",
    "    \"Muscle\": r\"D:\\DETECTION 1.0\\Celeb-DF\\muscle_tension_features.csv\"\n",
    "}\n",
    "\n",
    "# === Load CSV and Normalize ===\n",
    "def load_csv(path, name):\n",
    "    df = pd.read_csv(path)\n",
    "    for col in ['video', 'filename', 'video_id']:\n",
    "        if col in df.columns:\n",
    "            df = df.rename(columns={col: 'video_id'})\n",
    "            break\n",
    "    df['video_id'] = df['video_id'].astype(str).str.zfill(5)\n",
    "\n",
    "    if 'label' not in df.columns and name != 'Label':\n",
    "        label_df = pd.read_csv(csv_files[\"Label\"])[['video_id', 'label']]\n",
    "        label_df['video_id'] = label_df['video_id'].astype(str).str.zfill(5)\n",
    "        df = df.merge(label_df, on='video_id', how='left')\n",
    "\n",
    "    print(f\"✅ Loaded {name}: shape = {df.shape}\")\n",
    "    return df\n",
    "\n",
    "# === Load and clean datasets ===\n",
    "label_df  = load_csv(csv_files[\"Label\"], \"Label\")[['video_id', 'label']]\n",
    "motion_df = load_csv(csv_files[\"Motion\"], \"Motion\")\n",
    "nmcs_df   = load_csv(csv_files[\"NMCS\"], \"NMCS\")\n",
    "muscle_df = load_csv(csv_files[\"Muscle\"], \"Muscle\")\n",
    "\n",
    "# === Drop any duplicate 'label' columns from features\n",
    "for df in [motion_df, nmcs_df, muscle_df]:\n",
    "    if 'label' in df.columns:\n",
    "        df.drop(columns=['label'], inplace=True)\n",
    "\n",
    "# === Group by video_id (if needed)\n",
    "motion_agg = motion_df.groupby('video_id', as_index=False).mean(numeric_only=True)\n",
    "nmcs_agg   = nmcs_df.groupby('video_id', as_index=False).mean(numeric_only=True)\n",
    "muscle_agg = muscle_df.groupby('video_id', as_index=False).mean(numeric_only=True)\n",
    "\n",
    "# === Merge everything\n",
    "merged_df = label_df.copy()\n",
    "merged_df = merged_df.merge(motion_agg, on='video_id', how='inner')\n",
    "merged_df = merged_df.merge(nmcs_agg,   on='video_id', how='inner')\n",
    "merged_df = merged_df.merge(muscle_agg, on='video_id', how='inner')\n",
    "\n",
    "# === Save final output\n",
    "output_path = r\"D:\\DETECTION 1.0\\Celeb-DF\\fused_features.csv\"\n",
    "merged_df.to_csv(output_path, index=False)\n",
    "\n",
    "# === Summary\n",
    "print(\"\\n✅ Fusion complete. Saved to:\", output_path)\n",
    "print(f\"📦 Final shape: {merged_df.shape}\")\n",
    "print(f\"🟢 Real: {(merged_df['label'] == 0).sum()} | 🔴 Fake: {(merged_df['label'] == 1).sum()}\")\n",
    "\n",
    "# === Optional: Intersection Stats\n",
    "sets = {\n",
    "    \"Label\":  set(label_df['video_id']),\n",
    "    \"Motion\": set(motion_agg['video_id']),\n",
    "    \"NMCS\":   set(nmcs_agg['video_id']),\n",
    "    \"Muscle\": set(muscle_agg['video_id']),\n",
    "}\n",
    "print(\"\\n✅ Video ID Overlap Stats:\")\n",
    "print(\"🧩 Label ∩ Motion:\", len(sets[\"Label\"] & sets[\"Motion\"]))\n",
    "print(\"🧩 Label ∩ NMCS:\", len(sets[\"Label\"] & sets[\"NMCS\"]))\n",
    "print(\"🧩 Label ∩ Muscle:\", len(sets[\"Label\"] & sets[\"Muscle\"]))\n",
    "print(\"🧩 All 4 Intersecting:\", len(set.intersection(*sets.values())))\n"
   ]
  },
  {
   "cell_type": "code",
   "execution_count": 70,
   "id": "59f86af9",
   "metadata": {},
   "outputs": [
    {
     "name": "stdout",
     "output_type": "stream",
     "text": [
      "✅ Loaded Label: shape = (310866, 3)\n",
      "✅ Loaded Motion: shape = (346788, 6)\n",
      "✅ Loaded NMCS: shape = (804, 5)\n",
      "✅ Loaded Muscle: shape = (804, 37)\n",
      "\n",
      "✅ Fusion complete. Saved to: D:\\DETECTION 1.0\\Celeb-DF\\fused_features.csv\n",
      "📦 Final shape: (0, 43)\n",
      "🟢 Real: 0 | 🔴 Fake: 0\n",
      "\n",
      "✅ Video ID Overlap Stats:\n",
      "🧩 Label ∩ Motion: 0\n",
      "🧩 Label ∩ NMCS: 799\n",
      "🧩 Label ∩ Muscle: 799\n",
      "🧩 All 4 Intersecting: 0\n"
     ]
    }
   ],
   "source": [
    "import pandas as pd\n",
    "\n",
    "# === Paths to input CSVs ===\n",
    "csv_files = {\n",
    "    \"Label\":  r'D:\\DETECTION 1.0\\Celeb-DF\\aligned_frame_labels.csv',\n",
    "    \"Motion\": r\"D:\\DETECTION 1.0\\Celeb-DF\\combined_motion.csv\",\n",
    "    \"NMCS\":   r\"D:\\DETECTION 1.0\\Celeb-DF\\nmcs_scores.csv\",\n",
    "    \"Muscle\": r\"D:\\DETECTION 1.0\\Celeb-DF\\muscle_tension_features.csv\"\n",
    "}\n",
    "\n",
    "# === Load and Normalize ===\n",
    "def load_csv(path, name):\n",
    "    df = pd.read_csv(path)\n",
    "\n",
    "    for col in ['video', 'filename', 'video_id']:\n",
    "        if col in df.columns:\n",
    "            df = df.rename(columns={col: 'video_id'})\n",
    "            break\n",
    "\n",
    "    df['video_id'] = df['video_id'].astype(str)\n",
    "\n",
    "    if 'label' not in df.columns and name != 'Label':\n",
    "        label_df = pd.read_csv(csv_files[\"Label\"])[['video_id', 'label']]\n",
    "        label_df['video_id'] = label_df['video_id'].astype(str)\n",
    "        df = df.merge(label_df, on='video_id', how='left')\n",
    "\n",
    "    print(f\"✅ Loaded {name}: shape = {df.shape}\")\n",
    "    return df\n",
    "\n",
    "# === Load all datasets ===\n",
    "label_df  = load_csv(csv_files[\"Label\"],  \"Label\")[['video_id', 'label']]\n",
    "motion_df = load_csv(csv_files[\"Motion\"], \"Motion\")\n",
    "nmcs_df   = load_csv(csv_files[\"NMCS\"],   \"NMCS\")\n",
    "muscle_df = load_csv(csv_files[\"Muscle\"], \"Muscle\")\n",
    "\n",
    "# === Drop label column from features if present\n",
    "for df in [motion_df, nmcs_df, muscle_df]:\n",
    "    if 'label' in df.columns:\n",
    "        df.drop(columns=['label'], inplace=True)\n",
    "\n",
    "# === Group (in case multiple rows per video)\n",
    "motion_agg = motion_df.groupby('video_id', as_index=False).mean(numeric_only=True)\n",
    "nmcs_agg   = nmcs_df.groupby('video_id', as_index=False).mean(numeric_only=True)\n",
    "muscle_agg = muscle_df.groupby('video_id', as_index=False).mean(numeric_only=True)\n",
    "\n",
    "# === Merge\n",
    "merged_df = label_df.copy()\n",
    "merged_df = merged_df.merge(motion_agg, on='video_id', how='inner')\n",
    "merged_df = merged_df.merge(nmcs_agg,   on='video_id', how='inner')\n",
    "merged_df = merged_df.merge(muscle_agg, on='video_id', how='inner')\n",
    "\n",
    "# === Save\n",
    "output_path = r\"D:\\DETECTION 1.0\\Celeb-DF\\fused_features.csv\"\n",
    "merged_df.to_csv(output_path, index=False)\n",
    "\n",
    "# === Summary\n",
    "print(\"\\n✅ Fusion complete. Saved to:\", output_path)\n",
    "print(f\"📦 Final shape: {merged_df.shape}\")\n",
    "print(f\"🟢 Real: {(merged_df['label'] == 0).sum()} | 🔴 Fake: {(merged_df['label'] == 1).sum()}\")\n",
    "\n",
    "# === Overlap Stats (optional)\n",
    "sets = {\n",
    "    \"Label\":  set(label_df['video_id']),\n",
    "    \"Motion\": set(motion_agg['video_id']),\n",
    "    \"NMCS\":   set(nmcs_agg['video_id']),\n",
    "    \"Muscle\": set(muscle_agg['video_id']),\n",
    "}\n",
    "print(\"\\n✅ Video ID Overlap Stats:\")\n",
    "print(\"🧩 Label ∩ Motion:\", len(sets[\"Label\"] & sets[\"Motion\"]))\n",
    "print(\"🧩 Label ∩ NMCS:\", len(sets[\"Label\"] & sets[\"NMCS\"]))\n",
    "print(\"🧩 Label ∩ Muscle:\", len(sets[\"Label\"] & sets[\"Muscle\"]))\n",
    "print(\"🧩 All 4 Intersecting:\", len(set.intersection(*sets.values())))\n"
   ]
  },
  {
   "cell_type": "code",
   "execution_count": 69,
   "id": "693f50f7",
   "metadata": {},
   "outputs": [
    {
     "name": "stdout",
     "output_type": "stream",
     "text": [
      "[✓] CSV saved: D:\\DETECTION 1.0\\Celeb-DF\\aligned_frame_labels.csv\n",
      "🟢 Real frames: 157205\n",
      "🔴 Fake frames: 153661\n",
      "📦 Total frames: 310866\n"
     ]
    }
   ],
   "source": [
    "import os\n",
    "import csv\n",
    "\n",
    "# Define input and output paths\n",
    "real_frame_path = r\"D:\\DETECTION 1.0\\Celeb-DF\\aligned_faces_real\"\n",
    "fake_frame_path = r\"D:\\DETECTION 1.0\\Celeb-DF\\aligned_faces_fake\"\n",
    "output_csv_path = r'D:\\DETECTION 1.0\\Celeb-DF\\aligned_frame_labels.csv'\n",
    "\n",
    "# Allowed image extensions\n",
    "valid_extensions = ('.jpg', '.jpeg', '.png')\n",
    "\n",
    "# Helper to get relative subfolder name (video_id)\n",
    "def extract_video_id(full_path, base_path):\n",
    "    rel_path = os.path.relpath(full_path, base_path)\n",
    "    parts = rel_path.split(os.sep)\n",
    "    if len(parts) >= 2:\n",
    "        return parts[0].zfill(5)  # Ensure 5-digit ID\n",
    "    return \"00000\"  # fallback (shouldn't happen)\n",
    "\n",
    "# Function to collect (video_id, path, label)\n",
    "def collect_data(base_path, label):\n",
    "    data = []\n",
    "    for root, _, files in os.walk(base_path):\n",
    "        for file in files:\n",
    "            if file.lower().endswith(valid_extensions):\n",
    "                full_path = os.path.join(root, file)\n",
    "                video_id = extract_video_id(full_path, base_path)\n",
    "                data.append([video_id, full_path, label])\n",
    "    return data\n",
    "\n",
    "# Collect both real and fake\n",
    "real_data = collect_data(real_frame_path, 0)\n",
    "fake_data = collect_data(fake_frame_path, 1)\n",
    "\n",
    "# Combine and sort\n",
    "all_data = real_data + fake_data\n",
    "all_data.sort()\n",
    "\n",
    "# Write to CSV\n",
    "with open(output_csv_path, mode='w', newline='', encoding='utf-8') as f:\n",
    "    writer = csv.writer(f)\n",
    "    writer.writerow(['video_id', 'filepath', 'label'])\n",
    "    writer.writerows(all_data)\n",
    "\n",
    "# Report\n",
    "print(f\"[✓] CSV saved: {output_csv_path}\")\n",
    "print(f\"🟢 Real frames: {len(real_data)}\")\n",
    "print(f\"🔴 Fake frames: {len(fake_data)}\")\n",
    "print(f\"📦 Total frames: {len(all_data)}\")\n"
   ]
  },
  {
   "cell_type": "code",
   "execution_count": 71,
   "id": "808fc864",
   "metadata": {},
   "outputs": [],
   "source": [
    "import os\n",
    "import glob\n",
    "import cv2\n",
    "import numpy as np\n",
    "import pandas as pd\n",
    "from tqdm import tqdm\n",
    "import matplotlib.pyplot as plt"
   ]
  },
  {
   "cell_type": "code",
   "execution_count": 72,
   "id": "f4bfa888",
   "metadata": {},
   "outputs": [],
   "source": [
    "# ========== Step 1: Define utility functions ==========\n",
    "def compute_dense_optical_flow(prev_img, next_img):\n",
    "    prev_gray = cv2.cvtColor(prev_img, cv2.COLOR_BGR2GRAY)\n",
    "    next_gray = cv2.cvtColor(next_img, cv2.COLOR_BGR2GRAY)\n",
    "    flow = cv2.calcOpticalFlowFarneback(\n",
    "        prev_gray, next_gray, None,\n",
    "        pyr_scale=0.5, levels=3, winsize=15,\n",
    "        iterations=3, poly_n=5, poly_sigma=1.2, flags=0)\n",
    "    return flow\n"
   ]
  },
  {
   "cell_type": "code",
   "execution_count": 73,
   "id": "177db99d",
   "metadata": {},
   "outputs": [],
   "source": [
    "def extract_zone_flow_features(flow, zone_masks):\n",
    "    stats = {}\n",
    "    for zone_name, mask in zone_masks.items():\n",
    "        zone_flow = flow * mask[..., None]\n",
    "        mag = np.linalg.norm(zone_flow, axis=2)\n",
    "        zone_mag = mag[mask > 0]\n",
    "        if zone_mag.size == 0:\n",
    "            stats[zone_name] = {\"mean\": 0, \"std\": 0, \"max\": 0, \"min\": 0}\n",
    "        else:\n",
    "            stats[zone_name] = {\n",
    "                \"mean\": np.mean(zone_mag),\n",
    "                \"std\": np.std(zone_mag),\n",
    "                \"max\": np.max(zone_mag),\n",
    "                \"min\": np.min(zone_mag),\n",
    "            }\n",
    "    return stats"
   ]
  },
  {
   "cell_type": "code",
   "execution_count": 74,
   "id": "bffc61d1",
   "metadata": {},
   "outputs": [],
   "source": [
    "def save_optical_flow_heatmap(flow, save_path):\n",
    "    mag, ang = cv2.cartToPolar(flow[..., 0], flow[..., 1])\n",
    "    hsv = np.zeros((flow.shape[0], flow.shape[1], 3), dtype=np.uint8)\n",
    "    hsv[..., 0] = ang * 180 / np.pi / 2\n",
    "    hsv[..., 1] = 255\n",
    "    hsv[..., 2] = cv2.normalize(mag, None, 0, 255, cv2.NORM_MINMAX)\n",
    "    rgb = cv2.cvtColor(hsv, cv2.COLOR_HSV2BGR)\n",
    "    cv2.imwrite(save_path, rgb)"
   ]
  },
  {
   "cell_type": "code",
   "execution_count": 75,
   "id": "61b80469",
   "metadata": {},
   "outputs": [],
   "source": [
    "\n",
    "def process_frame_pair(prev_img, next_img, zone_masks, save_dir, frame_id):\n",
    "    flow = compute_dense_optical_flow(prev_img, next_img)\n",
    "    stats = extract_zone_flow_features(flow, zone_masks)\n",
    "    heatmap_path = os.path.join(save_dir, f\"flow_heatmap_{frame_id}.png\")\n",
    "    save_optical_flow_heatmap(flow, heatmap_path)\n",
    "    return stats"
   ]
  },
  {
   "cell_type": "code",
   "execution_count": 76,
   "id": "f75c2e22",
   "metadata": {},
   "outputs": [],
   "source": [
    "def count_total_frames(root_dir):\n",
    "    total = 0\n",
    "    for sub in os.listdir(root_dir):\n",
    "        sub_dir = os.path.join(root_dir, sub)\n",
    "        if os.path.isdir(sub_dir):\n",
    "            frame_paths = glob.glob(os.path.join(sub_dir, '*.jpg')) + glob.glob(os.path.join(sub_dir, '*.png'))\n",
    "            total += len(frame_paths)\n",
    "    return total"
   ]
  },
  {
   "cell_type": "code",
   "execution_count": 77,
   "id": "5456ded3",
   "metadata": {},
   "outputs": [],
   "source": [
    "# ========== Step 2: Process a folder of frames ==========\n",
    "def process_video_folder(frame_dir, save_dir, label):\n",
    "    os.makedirs(save_dir, exist_ok=True)\n",
    "    frame_paths = sorted(glob.glob(os.path.join(frame_dir, '*.jpg')) +\n",
    "                         glob.glob(os.path.join(frame_dir, '*.png')))\n",
    "\n",
    "    frames = [cv2.imread(f) for f in frame_paths if cv2.imread(f) is not None]\n",
    "    print(f\"📂 {frame_dir} | Total frames: {len(frames)}\")\n",
    "\n",
    "    if len(frames) < 2:\n",
    "        print(\"⚠️ Not enough frames to compute optical flow.\")\n",
    "        return pd.DataFrame()\n",
    "\n",
    "    h, w = frames[0].shape[:2]\n",
    "    zone_masks = {\"full_face\": np.ones((h, w), dtype=np.uint8)}\n",
    "\n",
    "    motion_features = []\n",
    "    for i in tqdm(range(len(frames) - 1), desc=f\"Processing {os.path.basename(frame_dir)}\"):\n",
    "        stats = process_frame_pair(frames[i], frames[i+1], zone_masks, save_dir, i)\n",
    "        flat_stats = {f\"{zone}_{k}\": v for zone, d in stats.items() for k, v in d.items()}\n",
    "        flat_stats['pair_id'] = i\n",
    "        flat_stats['label'] = label\n",
    "        motion_features.append(flat_stats)\n",
    "\n",
    "    return pd.DataFrame(motion_features)\n"
   ]
  },
  {
   "cell_type": "code",
   "execution_count": 78,
   "id": "c232a6bf",
   "metadata": {},
   "outputs": [
    {
     "name": "stdout",
     "output_type": "stream",
     "text": [
      "🟢 Total real frames: 157205\n",
      "🔴 Total fake frames: 153661\n"
     ]
    }
   ],
   "source": [
    "# ========== Step 3: Provide root paths ==========\n",
    "real_frame_path = r\"D:\\DETECTION 1.0\\Celeb-DF\\aligned_faces_real\"\n",
    "fake_frame_path = r\"D:\\DETECTION 1.0\\Celeb-DF\\aligned_faces_fake\"\n",
    "\n",
    "real_total = count_total_frames(real_frame_path)\n",
    "fake_total = count_total_frames(fake_frame_path)\n",
    "print(f\"🟢 Total real frames: {real_total}\")\n",
    "print(f\"🔴 Total fake frames: {fake_total}\")"
   ]
  },
  {
   "cell_type": "code",
   "execution_count": 79,
   "id": "35c038cb",
   "metadata": {},
   "outputs": [
    {
     "name": "stdout",
     "output_type": "stream",
     "text": [
      "📂 D:\\DETECTION 1.0\\Celeb-DF\\aligned_faces_real\\00000 | Total frames: 450\n"
     ]
    },
    {
     "name": "stderr",
     "output_type": "stream",
     "text": [
      "Processing 00000: 100%|██████████| 449/449 [00:06<00:00, 68.41it/s]\n"
     ]
    },
    {
     "name": "stdout",
     "output_type": "stream",
     "text": [
      "📂 D:\\DETECTION 1.0\\Celeb-DF\\aligned_faces_real\\00001 | Total frames: 415\n"
     ]
    },
    {
     "name": "stderr",
     "output_type": "stream",
     "text": [
      "Processing 00001: 100%|██████████| 414/414 [00:06<00:00, 61.62it/s]\n"
     ]
    },
    {
     "name": "stdout",
     "output_type": "stream",
     "text": [
      "📂 D:\\DETECTION 1.0\\Celeb-DF\\aligned_faces_real\\00002 | Total frames: 410\n"
     ]
    },
    {
     "name": "stderr",
     "output_type": "stream",
     "text": [
      "Processing 00002: 100%|██████████| 409/409 [00:06<00:00, 67.44it/s]\n"
     ]
    },
    {
     "name": "stdout",
     "output_type": "stream",
     "text": [
      "📂 D:\\DETECTION 1.0\\Celeb-DF\\aligned_faces_real\\00003 | Total frames: 265\n"
     ]
    },
    {
     "name": "stderr",
     "output_type": "stream",
     "text": [
      "Processing 00003: 100%|██████████| 264/264 [00:03<00:00, 67.21it/s]\n"
     ]
    },
    {
     "name": "stdout",
     "output_type": "stream",
     "text": [
      "📂 D:\\DETECTION 1.0\\Celeb-DF\\aligned_faces_real\\00004 | Total frames: 450\n"
     ]
    },
    {
     "name": "stderr",
     "output_type": "stream",
     "text": [
      "Processing 00004: 100%|██████████| 449/449 [00:07<00:00, 62.73it/s]\n"
     ]
    },
    {
     "name": "stdout",
     "output_type": "stream",
     "text": [
      "📂 D:\\DETECTION 1.0\\Celeb-DF\\aligned_faces_real\\00005 | Total frames: 463\n"
     ]
    },
    {
     "name": "stderr",
     "output_type": "stream",
     "text": [
      "Processing 00005: 100%|██████████| 462/462 [00:15<00:00, 30.53it/s]\n"
     ]
    },
    {
     "name": "stdout",
     "output_type": "stream",
     "text": [
      "📂 D:\\DETECTION 1.0\\Celeb-DF\\aligned_faces_real\\00006 | Total frames: 486\n"
     ]
    },
    {
     "name": "stderr",
     "output_type": "stream",
     "text": [
      "Processing 00006: 100%|██████████| 485/485 [00:07<00:00, 62.22it/s]\n"
     ]
    },
    {
     "name": "stdout",
     "output_type": "stream",
     "text": [
      "📂 D:\\DETECTION 1.0\\Celeb-DF\\aligned_faces_real\\00007 | Total frames: 467\n"
     ]
    },
    {
     "name": "stderr",
     "output_type": "stream",
     "text": [
      "Processing 00007: 100%|██████████| 466/466 [00:06<00:00, 66.69it/s]\n"
     ]
    },
    {
     "name": "stdout",
     "output_type": "stream",
     "text": [
      "📂 D:\\DETECTION 1.0\\Celeb-DF\\aligned_faces_real\\00008 | Total frames: 421\n"
     ]
    },
    {
     "name": "stderr",
     "output_type": "stream",
     "text": [
      "Processing 00008: 100%|██████████| 420/420 [00:06<00:00, 67.12it/s]\n"
     ]
    },
    {
     "name": "stdout",
     "output_type": "stream",
     "text": [
      "📂 D:\\DETECTION 1.0\\Celeb-DF\\aligned_faces_real\\00009 | Total frames: 575\n"
     ]
    },
    {
     "name": "stderr",
     "output_type": "stream",
     "text": [
      "Processing 00009: 100%|██████████| 574/574 [00:08<00:00, 67.69it/s]\n"
     ]
    },
    {
     "name": "stdout",
     "output_type": "stream",
     "text": [
      "📂 D:\\DETECTION 1.0\\Celeb-DF\\aligned_faces_real\\00010 | Total frames: 304\n"
     ]
    },
    {
     "name": "stderr",
     "output_type": "stream",
     "text": [
      "Processing 00010: 100%|██████████| 303/303 [00:04<00:00, 65.68it/s]\n"
     ]
    },
    {
     "name": "stdout",
     "output_type": "stream",
     "text": [
      "📂 D:\\DETECTION 1.0\\Celeb-DF\\aligned_faces_real\\00011 | Total frames: 470\n"
     ]
    },
    {
     "name": "stderr",
     "output_type": "stream",
     "text": [
      "Processing 00011: 100%|██████████| 469/469 [00:15<00:00, 30.70it/s]\n"
     ]
    },
    {
     "name": "stdout",
     "output_type": "stream",
     "text": [
      "📂 D:\\DETECTION 1.0\\Celeb-DF\\aligned_faces_real\\00012 | Total frames: 364\n"
     ]
    },
    {
     "name": "stderr",
     "output_type": "stream",
     "text": [
      "Processing 00012: 100%|██████████| 363/363 [00:15<00:00, 22.78it/s]\n"
     ]
    },
    {
     "name": "stdout",
     "output_type": "stream",
     "text": [
      "📂 D:\\DETECTION 1.0\\Celeb-DF\\aligned_faces_real\\00013 | Total frames: 474\n"
     ]
    },
    {
     "name": "stderr",
     "output_type": "stream",
     "text": [
      "Processing 00013: 100%|██████████| 473/473 [00:11<00:00, 40.98it/s]\n"
     ]
    },
    {
     "name": "stdout",
     "output_type": "stream",
     "text": [
      "📂 D:\\DETECTION 1.0\\Celeb-DF\\aligned_faces_real\\00014 | Total frames: 461\n"
     ]
    },
    {
     "name": "stderr",
     "output_type": "stream",
     "text": [
      "Processing 00014: 100%|██████████| 460/460 [00:19<00:00, 23.52it/s]\n"
     ]
    },
    {
     "name": "stdout",
     "output_type": "stream",
     "text": [
      "📂 D:\\DETECTION 1.0\\Celeb-DF\\aligned_faces_real\\00015 | Total frames: 442\n"
     ]
    },
    {
     "name": "stderr",
     "output_type": "stream",
     "text": [
      "Processing 00015: 100%|██████████| 441/441 [00:19<00:00, 23.15it/s]\n"
     ]
    },
    {
     "name": "stdout",
     "output_type": "stream",
     "text": [
      "📂 D:\\DETECTION 1.0\\Celeb-DF\\aligned_faces_real\\00016 | Total frames: 315\n"
     ]
    },
    {
     "name": "stderr",
     "output_type": "stream",
     "text": [
      "Processing 00016: 100%|██████████| 314/314 [00:13<00:00, 23.35it/s]\n"
     ]
    },
    {
     "name": "stdout",
     "output_type": "stream",
     "text": [
      "📂 D:\\DETECTION 1.0\\Celeb-DF\\aligned_faces_real\\00017 | Total frames: 282\n"
     ]
    },
    {
     "name": "stderr",
     "output_type": "stream",
     "text": [
      "Processing 00017: 100%|██████████| 281/281 [00:12<00:00, 22.91it/s]\n"
     ]
    },
    {
     "name": "stdout",
     "output_type": "stream",
     "text": [
      "📂 D:\\DETECTION 1.0\\Celeb-DF\\aligned_faces_real\\00018 | Total frames: 435\n"
     ]
    },
    {
     "name": "stderr",
     "output_type": "stream",
     "text": [
      "Processing 00018: 100%|██████████| 434/434 [00:18<00:00, 23.67it/s]\n"
     ]
    },
    {
     "name": "stdout",
     "output_type": "stream",
     "text": [
      "📂 D:\\DETECTION 1.0\\Celeb-DF\\aligned_faces_real\\00019 | Total frames: 468\n"
     ]
    },
    {
     "name": "stderr",
     "output_type": "stream",
     "text": [
      "Processing 00019: 100%|██████████| 467/467 [00:19<00:00, 24.05it/s]\n"
     ]
    },
    {
     "name": "stdout",
     "output_type": "stream",
     "text": [
      "📂 D:\\DETECTION 1.0\\Celeb-DF\\aligned_faces_real\\00020 | Total frames: 456\n"
     ]
    },
    {
     "name": "stderr",
     "output_type": "stream",
     "text": [
      "Processing 00020: 100%|██████████| 455/455 [00:20<00:00, 22.38it/s]\n"
     ]
    },
    {
     "name": "stdout",
     "output_type": "stream",
     "text": [
      "📂 D:\\DETECTION 1.0\\Celeb-DF\\aligned_faces_real\\00021 | Total frames: 407\n"
     ]
    },
    {
     "name": "stderr",
     "output_type": "stream",
     "text": [
      "Processing 00021: 100%|██████████| 406/406 [00:17<00:00, 23.40it/s]\n"
     ]
    },
    {
     "name": "stdout",
     "output_type": "stream",
     "text": [
      "📂 D:\\DETECTION 1.0\\Celeb-DF\\aligned_faces_real\\00022 | Total frames: 471\n"
     ]
    },
    {
     "name": "stderr",
     "output_type": "stream",
     "text": [
      "Processing 00022: 100%|██████████| 470/470 [00:20<00:00, 23.13it/s]\n"
     ]
    },
    {
     "name": "stdout",
     "output_type": "stream",
     "text": [
      "📂 D:\\DETECTION 1.0\\Celeb-DF\\aligned_faces_real\\00023 | Total frames: 384\n"
     ]
    },
    {
     "name": "stderr",
     "output_type": "stream",
     "text": [
      "Processing 00023: 100%|██████████| 383/383 [00:16<00:00, 23.60it/s]\n"
     ]
    },
    {
     "name": "stdout",
     "output_type": "stream",
     "text": [
      "📂 D:\\DETECTION 1.0\\Celeb-DF\\aligned_faces_real\\00024 | Total frames: 547\n"
     ]
    },
    {
     "name": "stderr",
     "output_type": "stream",
     "text": [
      "Processing 00024: 100%|██████████| 546/546 [00:23<00:00, 22.94it/s]\n"
     ]
    },
    {
     "name": "stdout",
     "output_type": "stream",
     "text": [
      "📂 D:\\DETECTION 1.0\\Celeb-DF\\aligned_faces_real\\00025 | Total frames: 470\n"
     ]
    },
    {
     "name": "stderr",
     "output_type": "stream",
     "text": [
      "Processing 00025: 100%|██████████| 469/469 [00:19<00:00, 23.63it/s]\n"
     ]
    },
    {
     "name": "stdout",
     "output_type": "stream",
     "text": [
      "📂 D:\\DETECTION 1.0\\Celeb-DF\\aligned_faces_real\\00026 | Total frames: 485\n"
     ]
    },
    {
     "name": "stderr",
     "output_type": "stream",
     "text": [
      "Processing 00026: 100%|██████████| 484/484 [00:20<00:00, 24.17it/s]\n"
     ]
    },
    {
     "name": "stdout",
     "output_type": "stream",
     "text": [
      "📂 D:\\DETECTION 1.0\\Celeb-DF\\aligned_faces_real\\00027 | Total frames: 349\n"
     ]
    },
    {
     "name": "stderr",
     "output_type": "stream",
     "text": [
      "Processing 00027: 100%|██████████| 348/348 [00:14<00:00, 24.47it/s]\n"
     ]
    },
    {
     "name": "stdout",
     "output_type": "stream",
     "text": [
      "📂 D:\\DETECTION 1.0\\Celeb-DF\\aligned_faces_real\\00028 | Total frames: 467\n"
     ]
    },
    {
     "name": "stderr",
     "output_type": "stream",
     "text": [
      "Processing 00028: 100%|██████████| 466/466 [00:19<00:00, 23.89it/s]\n"
     ]
    },
    {
     "name": "stdout",
     "output_type": "stream",
     "text": [
      "📂 D:\\DETECTION 1.0\\Celeb-DF\\aligned_faces_real\\00029 | Total frames: 457\n"
     ]
    },
    {
     "name": "stderr",
     "output_type": "stream",
     "text": [
      "Processing 00029: 100%|██████████| 456/456 [00:19<00:00, 22.81it/s]\n"
     ]
    },
    {
     "name": "stdout",
     "output_type": "stream",
     "text": [
      "📂 D:\\DETECTION 1.0\\Celeb-DF\\aligned_faces_real\\00030 | Total frames: 472\n"
     ]
    },
    {
     "name": "stderr",
     "output_type": "stream",
     "text": [
      "Processing 00030: 100%|██████████| 471/471 [00:07<00:00, 66.62it/s]\n"
     ]
    },
    {
     "name": "stdout",
     "output_type": "stream",
     "text": [
      "📂 D:\\DETECTION 1.0\\Celeb-DF\\aligned_faces_real\\00031 | Total frames: 510\n"
     ]
    },
    {
     "name": "stderr",
     "output_type": "stream",
     "text": [
      "Processing 00031: 100%|██████████| 509/509 [00:07<00:00, 64.32it/s]\n"
     ]
    },
    {
     "name": "stdout",
     "output_type": "stream",
     "text": [
      "📂 D:\\DETECTION 1.0\\Celeb-DF\\aligned_faces_real\\00032 | Total frames: 463\n"
     ]
    },
    {
     "name": "stderr",
     "output_type": "stream",
     "text": [
      "Processing 00032: 100%|██████████| 462/462 [00:07<00:00, 65.99it/s]\n"
     ]
    },
    {
     "name": "stdout",
     "output_type": "stream",
     "text": [
      "📂 D:\\DETECTION 1.0\\Celeb-DF\\aligned_faces_real\\00033 | Total frames: 0\n",
      "⚠️ Not enough frames to compute optical flow.\n",
      "📂 D:\\DETECTION 1.0\\Celeb-DF\\aligned_faces_real\\00034 | Total frames: 482\n"
     ]
    },
    {
     "name": "stderr",
     "output_type": "stream",
     "text": [
      "Processing 00034: 100%|██████████| 481/481 [00:07<00:00, 65.64it/s]\n"
     ]
    },
    {
     "name": "stdout",
     "output_type": "stream",
     "text": [
      "📂 D:\\DETECTION 1.0\\Celeb-DF\\aligned_faces_real\\00035 | Total frames: 458\n"
     ]
    },
    {
     "name": "stderr",
     "output_type": "stream",
     "text": [
      "Processing 00035: 100%|██████████| 457/457 [00:07<00:00, 59.74it/s]\n"
     ]
    },
    {
     "name": "stdout",
     "output_type": "stream",
     "text": [
      "📂 D:\\DETECTION 1.0\\Celeb-DF\\aligned_faces_real\\00036 | Total frames: 539\n"
     ]
    },
    {
     "name": "stderr",
     "output_type": "stream",
     "text": [
      "Processing 00036: 100%|██████████| 538/538 [00:08<00:00, 62.52it/s]\n"
     ]
    },
    {
     "name": "stdout",
     "output_type": "stream",
     "text": [
      "📂 D:\\DETECTION 1.0\\Celeb-DF\\aligned_faces_real\\00037 | Total frames: 430\n"
     ]
    },
    {
     "name": "stderr",
     "output_type": "stream",
     "text": [
      "Processing 00037: 100%|██████████| 429/429 [00:06<00:00, 66.03it/s]\n"
     ]
    },
    {
     "name": "stdout",
     "output_type": "stream",
     "text": [
      "📂 D:\\DETECTION 1.0\\Celeb-DF\\aligned_faces_real\\00038 | Total frames: 459\n"
     ]
    },
    {
     "name": "stderr",
     "output_type": "stream",
     "text": [
      "Processing 00038: 100%|██████████| 458/458 [00:17<00:00, 26.44it/s]\n"
     ]
    },
    {
     "name": "stdout",
     "output_type": "stream",
     "text": [
      "📂 D:\\DETECTION 1.0\\Celeb-DF\\aligned_faces_real\\00039 | Total frames: 406\n"
     ]
    },
    {
     "name": "stderr",
     "output_type": "stream",
     "text": [
      "Processing 00039: 100%|██████████| 405/405 [00:17<00:00, 23.51it/s]\n"
     ]
    },
    {
     "name": "stdout",
     "output_type": "stream",
     "text": [
      "📂 D:\\DETECTION 1.0\\Celeb-DF\\aligned_faces_real\\00040 | Total frames: 381\n"
     ]
    },
    {
     "name": "stderr",
     "output_type": "stream",
     "text": [
      "Processing 00040: 100%|██████████| 380/380 [00:16<00:00, 23.28it/s]\n"
     ]
    },
    {
     "name": "stdout",
     "output_type": "stream",
     "text": [
      "📂 D:\\DETECTION 1.0\\Celeb-DF\\aligned_faces_real\\00041 | Total frames: 456\n"
     ]
    },
    {
     "name": "stderr",
     "output_type": "stream",
     "text": [
      "Processing 00041: 100%|██████████| 455/455 [00:18<00:00, 24.12it/s]\n"
     ]
    },
    {
     "name": "stdout",
     "output_type": "stream",
     "text": [
      "📂 D:\\DETECTION 1.0\\Celeb-DF\\aligned_faces_real\\00042 | Total frames: 271\n"
     ]
    },
    {
     "name": "stderr",
     "output_type": "stream",
     "text": [
      "Processing 00042: 100%|██████████| 270/270 [00:11<00:00, 24.21it/s]\n"
     ]
    },
    {
     "name": "stdout",
     "output_type": "stream",
     "text": [
      "📂 D:\\DETECTION 1.0\\Celeb-DF\\aligned_faces_real\\00043 | Total frames: 371\n"
     ]
    },
    {
     "name": "stderr",
     "output_type": "stream",
     "text": [
      "Processing 00043: 100%|██████████| 370/370 [00:17<00:00, 20.93it/s]\n"
     ]
    },
    {
     "name": "stdout",
     "output_type": "stream",
     "text": [
      "📂 D:\\DETECTION 1.0\\Celeb-DF\\aligned_faces_real\\00044 | Total frames: 463\n"
     ]
    },
    {
     "name": "stderr",
     "output_type": "stream",
     "text": [
      "Processing 00044: 100%|██████████| 462/462 [00:19<00:00, 23.78it/s]\n"
     ]
    },
    {
     "name": "stdout",
     "output_type": "stream",
     "text": [
      "📂 D:\\DETECTION 1.0\\Celeb-DF\\aligned_faces_real\\00045 | Total frames: 459\n"
     ]
    },
    {
     "name": "stderr",
     "output_type": "stream",
     "text": [
      "Processing 00045: 100%|██████████| 458/458 [00:20<00:00, 22.01it/s]\n"
     ]
    },
    {
     "name": "stdout",
     "output_type": "stream",
     "text": [
      "📂 D:\\DETECTION 1.0\\Celeb-DF\\aligned_faces_real\\00046 | Total frames: 470\n"
     ]
    },
    {
     "name": "stderr",
     "output_type": "stream",
     "text": [
      "Processing 00046: 100%|██████████| 469/469 [00:20<00:00, 23.17it/s]\n"
     ]
    },
    {
     "name": "stdout",
     "output_type": "stream",
     "text": [
      "📂 D:\\DETECTION 1.0\\Celeb-DF\\aligned_faces_real\\00047 | Total frames: 478\n"
     ]
    },
    {
     "name": "stderr",
     "output_type": "stream",
     "text": [
      "Processing 00047: 100%|██████████| 477/477 [00:19<00:00, 24.04it/s]\n"
     ]
    },
    {
     "name": "stdout",
     "output_type": "stream",
     "text": [
      "📂 D:\\DETECTION 1.0\\Celeb-DF\\aligned_faces_real\\00048 | Total frames: 484\n"
     ]
    },
    {
     "name": "stderr",
     "output_type": "stream",
     "text": [
      "Processing 00048: 100%|██████████| 483/483 [00:19<00:00, 24.26it/s]\n"
     ]
    },
    {
     "name": "stdout",
     "output_type": "stream",
     "text": [
      "📂 D:\\DETECTION 1.0\\Celeb-DF\\aligned_faces_real\\00049 | Total frames: 189\n"
     ]
    },
    {
     "name": "stderr",
     "output_type": "stream",
     "text": [
      "Processing 00049: 100%|██████████| 188/188 [00:07<00:00, 23.94it/s]\n"
     ]
    },
    {
     "name": "stdout",
     "output_type": "stream",
     "text": [
      "📂 D:\\DETECTION 1.0\\Celeb-DF\\aligned_faces_real\\00050 | Total frames: 466\n"
     ]
    },
    {
     "name": "stderr",
     "output_type": "stream",
     "text": [
      "Processing 00050: 100%|██████████| 465/465 [00:19<00:00, 23.93it/s]\n"
     ]
    },
    {
     "name": "stdout",
     "output_type": "stream",
     "text": [
      "📂 D:\\DETECTION 1.0\\Celeb-DF\\aligned_faces_real\\00051 | Total frames: 367\n"
     ]
    },
    {
     "name": "stderr",
     "output_type": "stream",
     "text": [
      "Processing 00051: 100%|██████████| 366/366 [00:15<00:00, 23.97it/s]\n"
     ]
    },
    {
     "name": "stdout",
     "output_type": "stream",
     "text": [
      "📂 D:\\DETECTION 1.0\\Celeb-DF\\aligned_faces_real\\00052 | Total frames: 464\n"
     ]
    },
    {
     "name": "stderr",
     "output_type": "stream",
     "text": [
      "Processing 00052: 100%|██████████| 463/463 [00:20<00:00, 22.94it/s]\n"
     ]
    },
    {
     "name": "stdout",
     "output_type": "stream",
     "text": [
      "📂 D:\\DETECTION 1.0\\Celeb-DF\\aligned_faces_real\\00053 | Total frames: 468\n"
     ]
    },
    {
     "name": "stderr",
     "output_type": "stream",
     "text": [
      "Processing 00053: 100%|██████████| 467/467 [00:20<00:00, 22.70it/s]\n"
     ]
    },
    {
     "name": "stdout",
     "output_type": "stream",
     "text": [
      "📂 D:\\DETECTION 1.0\\Celeb-DF\\aligned_faces_real\\00054 | Total frames: 400\n"
     ]
    },
    {
     "name": "stderr",
     "output_type": "stream",
     "text": [
      "Processing 00054: 100%|██████████| 399/399 [00:16<00:00, 23.71it/s]\n"
     ]
    },
    {
     "name": "stdout",
     "output_type": "stream",
     "text": [
      "📂 D:\\DETECTION 1.0\\Celeb-DF\\aligned_faces_real\\00055 | Total frames: 468\n"
     ]
    },
    {
     "name": "stderr",
     "output_type": "stream",
     "text": [
      "Processing 00055: 100%|██████████| 467/467 [00:19<00:00, 24.06it/s]\n"
     ]
    },
    {
     "name": "stdout",
     "output_type": "stream",
     "text": [
      "📂 D:\\DETECTION 1.0\\Celeb-DF\\aligned_faces_real\\00056 | Total frames: 534\n"
     ]
    },
    {
     "name": "stderr",
     "output_type": "stream",
     "text": [
      "Processing 00056: 100%|██████████| 533/533 [00:22<00:00, 23.57it/s]\n"
     ]
    },
    {
     "name": "stdout",
     "output_type": "stream",
     "text": [
      "📂 D:\\DETECTION 1.0\\Celeb-DF\\aligned_faces_real\\00057 | Total frames: 466\n"
     ]
    },
    {
     "name": "stderr",
     "output_type": "stream",
     "text": [
      "Processing 00057: 100%|██████████| 465/465 [00:19<00:00, 23.59it/s]\n"
     ]
    },
    {
     "name": "stdout",
     "output_type": "stream",
     "text": [
      "📂 D:\\DETECTION 1.0\\Celeb-DF\\aligned_faces_real\\00058 | Total frames: 497\n"
     ]
    },
    {
     "name": "stderr",
     "output_type": "stream",
     "text": [
      "Processing 00058: 100%|██████████| 496/496 [00:20<00:00, 23.84it/s]\n"
     ]
    },
    {
     "name": "stdout",
     "output_type": "stream",
     "text": [
      "📂 D:\\DETECTION 1.0\\Celeb-DF\\aligned_faces_real\\00059 | Total frames: 474\n"
     ]
    },
    {
     "name": "stderr",
     "output_type": "stream",
     "text": [
      "Processing 00059: 100%|██████████| 473/473 [00:19<00:00, 23.78it/s]\n"
     ]
    },
    {
     "name": "stdout",
     "output_type": "stream",
     "text": [
      "📂 D:\\DETECTION 1.0\\Celeb-DF\\aligned_faces_real\\00060 | Total frames: 411\n"
     ]
    },
    {
     "name": "stderr",
     "output_type": "stream",
     "text": [
      "Processing 00060: 100%|██████████| 410/410 [00:17<00:00, 23.93it/s]\n"
     ]
    },
    {
     "name": "stdout",
     "output_type": "stream",
     "text": [
      "📂 D:\\DETECTION 1.0\\Celeb-DF\\aligned_faces_real\\00061 | Total frames: 392\n"
     ]
    },
    {
     "name": "stderr",
     "output_type": "stream",
     "text": [
      "Processing 00061: 100%|██████████| 391/391 [00:16<00:00, 24.08it/s]\n"
     ]
    },
    {
     "name": "stdout",
     "output_type": "stream",
     "text": [
      "📂 D:\\DETECTION 1.0\\Celeb-DF\\aligned_faces_real\\00062 | Total frames: 478\n"
     ]
    },
    {
     "name": "stderr",
     "output_type": "stream",
     "text": [
      "Processing 00062: 100%|██████████| 477/477 [00:20<00:00, 23.56it/s]\n"
     ]
    },
    {
     "name": "stdout",
     "output_type": "stream",
     "text": [
      "📂 D:\\DETECTION 1.0\\Celeb-DF\\aligned_faces_real\\00063 | Total frames: 265\n"
     ]
    },
    {
     "name": "stderr",
     "output_type": "stream",
     "text": [
      "Processing 00063: 100%|██████████| 264/264 [00:12<00:00, 21.60it/s]\n"
     ]
    },
    {
     "name": "stdout",
     "output_type": "stream",
     "text": [
      "📂 D:\\DETECTION 1.0\\Celeb-DF\\aligned_faces_real\\00064 | Total frames: 429\n"
     ]
    },
    {
     "name": "stderr",
     "output_type": "stream",
     "text": [
      "Processing 00064: 100%|██████████| 428/428 [00:18<00:00, 23.20it/s]\n"
     ]
    },
    {
     "name": "stdout",
     "output_type": "stream",
     "text": [
      "📂 D:\\DETECTION 1.0\\Celeb-DF\\aligned_faces_real\\00065 | Total frames: 493\n"
     ]
    },
    {
     "name": "stderr",
     "output_type": "stream",
     "text": [
      "Processing 00065: 100%|██████████| 492/492 [00:20<00:00, 23.71it/s]\n"
     ]
    },
    {
     "name": "stdout",
     "output_type": "stream",
     "text": [
      "📂 D:\\DETECTION 1.0\\Celeb-DF\\aligned_faces_real\\00066 | Total frames: 457\n"
     ]
    },
    {
     "name": "stderr",
     "output_type": "stream",
     "text": [
      "Processing 00066: 100%|██████████| 456/456 [00:18<00:00, 24.19it/s]\n"
     ]
    },
    {
     "name": "stdout",
     "output_type": "stream",
     "text": [
      "📂 D:\\DETECTION 1.0\\Celeb-DF\\aligned_faces_real\\00067 | Total frames: 460\n"
     ]
    },
    {
     "name": "stderr",
     "output_type": "stream",
     "text": [
      "Processing 00067: 100%|██████████| 459/459 [00:19<00:00, 23.76it/s]\n"
     ]
    },
    {
     "name": "stdout",
     "output_type": "stream",
     "text": [
      "📂 D:\\DETECTION 1.0\\Celeb-DF\\aligned_faces_real\\00068 | Total frames: 474\n"
     ]
    },
    {
     "name": "stderr",
     "output_type": "stream",
     "text": [
      "Processing 00068: 100%|██████████| 473/473 [00:19<00:00, 24.11it/s]\n"
     ]
    },
    {
     "name": "stdout",
     "output_type": "stream",
     "text": [
      "📂 D:\\DETECTION 1.0\\Celeb-DF\\aligned_faces_real\\00069 | Total frames: 183\n"
     ]
    },
    {
     "name": "stderr",
     "output_type": "stream",
     "text": [
      "Processing 00069: 100%|██████████| 182/182 [00:07<00:00, 24.28it/s]\n"
     ]
    },
    {
     "name": "stdout",
     "output_type": "stream",
     "text": [
      "📂 D:\\DETECTION 1.0\\Celeb-DF\\aligned_faces_real\\00070 | Total frames: 337\n"
     ]
    },
    {
     "name": "stderr",
     "output_type": "stream",
     "text": [
      "Processing 00070: 100%|██████████| 336/336 [00:37<00:00,  9.02it/s]\n"
     ]
    },
    {
     "name": "stdout",
     "output_type": "stream",
     "text": [
      "📂 D:\\DETECTION 1.0\\Celeb-DF\\aligned_faces_real\\00071 | Total frames: 495\n"
     ]
    },
    {
     "name": "stderr",
     "output_type": "stream",
     "text": [
      "Processing 00071: 100%|██████████| 494/494 [00:21<00:00, 23.23it/s]\n"
     ]
    },
    {
     "name": "stdout",
     "output_type": "stream",
     "text": [
      "📂 D:\\DETECTION 1.0\\Celeb-DF\\aligned_faces_real\\00072 | Total frames: 478\n"
     ]
    },
    {
     "name": "stderr",
     "output_type": "stream",
     "text": [
      "Processing 00072: 100%|██████████| 477/477 [00:20<00:00, 23.36it/s]\n"
     ]
    },
    {
     "name": "stdout",
     "output_type": "stream",
     "text": [
      "📂 D:\\DETECTION 1.0\\Celeb-DF\\aligned_faces_real\\00073 | Total frames: 450\n"
     ]
    },
    {
     "name": "stderr",
     "output_type": "stream",
     "text": [
      "Processing 00073: 100%|██████████| 449/449 [00:18<00:00, 24.05it/s]\n"
     ]
    },
    {
     "name": "stdout",
     "output_type": "stream",
     "text": [
      "📂 D:\\DETECTION 1.0\\Celeb-DF\\aligned_faces_real\\00074 | Total frames: 4\n"
     ]
    },
    {
     "name": "stderr",
     "output_type": "stream",
     "text": [
      "Processing 00074: 100%|██████████| 3/3 [00:00<00:00, 23.30it/s]\n"
     ]
    },
    {
     "name": "stdout",
     "output_type": "stream",
     "text": [
      "📂 D:\\DETECTION 1.0\\Celeb-DF\\aligned_faces_real\\00075 | Total frames: 474\n"
     ]
    },
    {
     "name": "stderr",
     "output_type": "stream",
     "text": [
      "Processing 00075: 100%|██████████| 473/473 [00:19<00:00, 23.71it/s]\n"
     ]
    },
    {
     "name": "stdout",
     "output_type": "stream",
     "text": [
      "📂 D:\\DETECTION 1.0\\Celeb-DF\\aligned_faces_real\\00076 | Total frames: 479\n"
     ]
    },
    {
     "name": "stderr",
     "output_type": "stream",
     "text": [
      "Processing 00076: 100%|██████████| 478/478 [00:20<00:00, 23.41it/s]\n"
     ]
    },
    {
     "name": "stdout",
     "output_type": "stream",
     "text": [
      "📂 D:\\DETECTION 1.0\\Celeb-DF\\aligned_faces_real\\00077 | Total frames: 464\n"
     ]
    },
    {
     "name": "stderr",
     "output_type": "stream",
     "text": [
      "Processing 00077: 100%|██████████| 463/463 [00:19<00:00, 23.64it/s]\n"
     ]
    },
    {
     "name": "stdout",
     "output_type": "stream",
     "text": [
      "📂 D:\\DETECTION 1.0\\Celeb-DF\\aligned_faces_real\\00078 | Total frames: 491\n"
     ]
    },
    {
     "name": "stderr",
     "output_type": "stream",
     "text": [
      "Processing 00078: 100%|██████████| 490/490 [00:20<00:00, 23.38it/s]\n"
     ]
    },
    {
     "name": "stdout",
     "output_type": "stream",
     "text": [
      "📂 D:\\DETECTION 1.0\\Celeb-DF\\aligned_faces_real\\00079 | Total frames: 383\n"
     ]
    },
    {
     "name": "stderr",
     "output_type": "stream",
     "text": [
      "Processing 00079: 100%|██████████| 382/382 [00:16<00:00, 23.01it/s]\n"
     ]
    },
    {
     "name": "stdout",
     "output_type": "stream",
     "text": [
      "📂 D:\\DETECTION 1.0\\Celeb-DF\\aligned_faces_real\\00080 | Total frames: 476\n"
     ]
    },
    {
     "name": "stderr",
     "output_type": "stream",
     "text": [
      "Processing 00080: 100%|██████████| 475/475 [00:19<00:00, 23.92it/s]\n"
     ]
    },
    {
     "name": "stdout",
     "output_type": "stream",
     "text": [
      "📂 D:\\DETECTION 1.0\\Celeb-DF\\aligned_faces_real\\00081 | Total frames: 452\n"
     ]
    },
    {
     "name": "stderr",
     "output_type": "stream",
     "text": [
      "Processing 00081: 100%|██████████| 451/451 [00:19<00:00, 23.52it/s]\n"
     ]
    },
    {
     "name": "stdout",
     "output_type": "stream",
     "text": [
      "📂 D:\\DETECTION 1.0\\Celeb-DF\\aligned_faces_real\\00082 | Total frames: 459\n"
     ]
    },
    {
     "name": "stderr",
     "output_type": "stream",
     "text": [
      "Processing 00082: 100%|██████████| 458/458 [00:19<00:00, 23.94it/s]\n"
     ]
    },
    {
     "name": "stdout",
     "output_type": "stream",
     "text": [
      "📂 D:\\DETECTION 1.0\\Celeb-DF\\aligned_faces_real\\00083 | Total frames: 359\n"
     ]
    },
    {
     "name": "stderr",
     "output_type": "stream",
     "text": [
      "Processing 00083: 100%|██████████| 358/358 [00:15<00:00, 23.66it/s]\n"
     ]
    },
    {
     "name": "stdout",
     "output_type": "stream",
     "text": [
      "📂 D:\\DETECTION 1.0\\Celeb-DF\\aligned_faces_real\\00084 | Total frames: 408\n"
     ]
    },
    {
     "name": "stderr",
     "output_type": "stream",
     "text": [
      "Processing 00084: 100%|██████████| 407/407 [00:17<00:00, 22.83it/s]\n"
     ]
    },
    {
     "name": "stdout",
     "output_type": "stream",
     "text": [
      "📂 D:\\DETECTION 1.0\\Celeb-DF\\aligned_faces_real\\00085 | Total frames: 515\n"
     ]
    },
    {
     "name": "stderr",
     "output_type": "stream",
     "text": [
      "Processing 00085: 100%|██████████| 514/514 [00:21<00:00, 23.59it/s]\n"
     ]
    },
    {
     "name": "stdout",
     "output_type": "stream",
     "text": [
      "📂 D:\\DETECTION 1.0\\Celeb-DF\\aligned_faces_real\\00086 | Total frames: 482\n"
     ]
    },
    {
     "name": "stderr",
     "output_type": "stream",
     "text": [
      "Processing 00086: 100%|██████████| 481/481 [00:20<00:00, 23.47it/s]\n"
     ]
    },
    {
     "name": "stdout",
     "output_type": "stream",
     "text": [
      "📂 D:\\DETECTION 1.0\\Celeb-DF\\aligned_faces_real\\00087 | Total frames: 467\n"
     ]
    },
    {
     "name": "stderr",
     "output_type": "stream",
     "text": [
      "Processing 00087: 100%|██████████| 466/466 [00:19<00:00, 23.43it/s]\n"
     ]
    },
    {
     "name": "stdout",
     "output_type": "stream",
     "text": [
      "📂 D:\\DETECTION 1.0\\Celeb-DF\\aligned_faces_real\\00088 | Total frames: 493\n"
     ]
    },
    {
     "name": "stderr",
     "output_type": "stream",
     "text": [
      "Processing 00088: 100%|██████████| 492/492 [00:21<00:00, 23.25it/s]\n"
     ]
    },
    {
     "name": "stdout",
     "output_type": "stream",
     "text": [
      "📂 D:\\DETECTION 1.0\\Celeb-DF\\aligned_faces_real\\00089 | Total frames: 471\n"
     ]
    },
    {
     "name": "stderr",
     "output_type": "stream",
     "text": [
      "Processing 00089: 100%|██████████| 470/470 [00:19<00:00, 24.58it/s]\n"
     ]
    },
    {
     "name": "stdout",
     "output_type": "stream",
     "text": [
      "📂 D:\\DETECTION 1.0\\Celeb-DF\\aligned_faces_real\\00090 | Total frames: 416\n"
     ]
    },
    {
     "name": "stderr",
     "output_type": "stream",
     "text": [
      "Processing 00090: 100%|██████████| 415/415 [00:17<00:00, 24.01it/s]\n"
     ]
    },
    {
     "name": "stdout",
     "output_type": "stream",
     "text": [
      "📂 D:\\DETECTION 1.0\\Celeb-DF\\aligned_faces_real\\00091 | Total frames: 455\n"
     ]
    },
    {
     "name": "stderr",
     "output_type": "stream",
     "text": [
      "Processing 00091: 100%|██████████| 454/454 [00:18<00:00, 24.60it/s]\n"
     ]
    },
    {
     "name": "stdout",
     "output_type": "stream",
     "text": [
      "📂 D:\\DETECTION 1.0\\Celeb-DF\\aligned_faces_real\\00092 | Total frames: 544\n"
     ]
    },
    {
     "name": "stderr",
     "output_type": "stream",
     "text": [
      "Processing 00092: 100%|██████████| 543/543 [00:22<00:00, 23.81it/s]\n"
     ]
    },
    {
     "name": "stdout",
     "output_type": "stream",
     "text": [
      "📂 D:\\DETECTION 1.0\\Celeb-DF\\aligned_faces_real\\00093 | Total frames: 105\n"
     ]
    },
    {
     "name": "stderr",
     "output_type": "stream",
     "text": [
      "Processing 00093: 100%|██████████| 104/104 [00:06<00:00, 15.60it/s]\n"
     ]
    },
    {
     "name": "stdout",
     "output_type": "stream",
     "text": [
      "📂 D:\\DETECTION 1.0\\Celeb-DF\\aligned_faces_real\\00094 | Total frames: 414\n"
     ]
    },
    {
     "name": "stderr",
     "output_type": "stream",
     "text": [
      "Processing 00094: 100%|██████████| 413/413 [00:17<00:00, 23.71it/s]\n"
     ]
    },
    {
     "name": "stdout",
     "output_type": "stream",
     "text": [
      "📂 D:\\DETECTION 1.0\\Celeb-DF\\aligned_faces_real\\00095 | Total frames: 487\n"
     ]
    },
    {
     "name": "stderr",
     "output_type": "stream",
     "text": [
      "Processing 00095: 100%|██████████| 486/486 [00:21<00:00, 22.98it/s]\n"
     ]
    },
    {
     "name": "stdout",
     "output_type": "stream",
     "text": [
      "📂 D:\\DETECTION 1.0\\Celeb-DF\\aligned_faces_real\\00096 | Total frames: 305\n"
     ]
    },
    {
     "name": "stderr",
     "output_type": "stream",
     "text": [
      "Processing 00096: 100%|██████████| 304/304 [00:12<00:00, 23.87it/s]\n"
     ]
    },
    {
     "name": "stdout",
     "output_type": "stream",
     "text": [
      "📂 D:\\DETECTION 1.0\\Celeb-DF\\aligned_faces_real\\00097 | Total frames: 496\n"
     ]
    },
    {
     "name": "stderr",
     "output_type": "stream",
     "text": [
      "Processing 00097: 100%|██████████| 495/495 [00:20<00:00, 23.79it/s]\n"
     ]
    },
    {
     "name": "stdout",
     "output_type": "stream",
     "text": [
      "📂 D:\\DETECTION 1.0\\Celeb-DF\\aligned_faces_real\\00098 | Total frames: 395\n"
     ]
    },
    {
     "name": "stderr",
     "output_type": "stream",
     "text": [
      "Processing 00098: 100%|██████████| 394/394 [00:16<00:00, 23.63it/s]\n"
     ]
    },
    {
     "name": "stdout",
     "output_type": "stream",
     "text": [
      "📂 D:\\DETECTION 1.0\\Celeb-DF\\aligned_faces_real\\00099 | Total frames: 494\n"
     ]
    },
    {
     "name": "stderr",
     "output_type": "stream",
     "text": [
      "Processing 00099: 100%|██████████| 493/493 [00:21<00:00, 23.45it/s]\n"
     ]
    },
    {
     "name": "stdout",
     "output_type": "stream",
     "text": [
      "📂 D:\\DETECTION 1.0\\Celeb-DF\\aligned_faces_real\\00100 | Total frames: 534\n"
     ]
    },
    {
     "name": "stderr",
     "output_type": "stream",
     "text": [
      "Processing 00100: 100%|██████████| 533/533 [00:22<00:00, 23.40it/s]\n"
     ]
    },
    {
     "name": "stdout",
     "output_type": "stream",
     "text": [
      "📂 D:\\DETECTION 1.0\\Celeb-DF\\aligned_faces_real\\00101 | Total frames: 440\n"
     ]
    },
    {
     "name": "stderr",
     "output_type": "stream",
     "text": [
      "Processing 00101: 100%|██████████| 439/439 [00:18<00:00, 23.91it/s]\n"
     ]
    },
    {
     "name": "stdout",
     "output_type": "stream",
     "text": [
      "📂 D:\\DETECTION 1.0\\Celeb-DF\\aligned_faces_real\\00102 | Total frames: 440\n"
     ]
    },
    {
     "name": "stderr",
     "output_type": "stream",
     "text": [
      "Processing 00102: 100%|██████████| 439/439 [00:18<00:00, 23.99it/s]\n"
     ]
    },
    {
     "name": "stdout",
     "output_type": "stream",
     "text": [
      "📂 D:\\DETECTION 1.0\\Celeb-DF\\aligned_faces_real\\00103 | Total frames: 255\n"
     ]
    },
    {
     "name": "stderr",
     "output_type": "stream",
     "text": [
      "Processing 00103: 100%|██████████| 254/254 [00:10<00:00, 24.66it/s]\n"
     ]
    },
    {
     "name": "stdout",
     "output_type": "stream",
     "text": [
      "📂 D:\\DETECTION 1.0\\Celeb-DF\\aligned_faces_real\\00104 | Total frames: 497\n"
     ]
    },
    {
     "name": "stderr",
     "output_type": "stream",
     "text": [
      "Processing 00104: 100%|██████████| 496/496 [00:20<00:00, 23.98it/s]\n"
     ]
    },
    {
     "name": "stdout",
     "output_type": "stream",
     "text": [
      "📂 D:\\DETECTION 1.0\\Celeb-DF\\aligned_faces_real\\00105 | Total frames: 251\n"
     ]
    },
    {
     "name": "stderr",
     "output_type": "stream",
     "text": [
      "Processing 00105: 100%|██████████| 250/250 [00:10<00:00, 23.85it/s]\n"
     ]
    },
    {
     "name": "stdout",
     "output_type": "stream",
     "text": [
      "📂 D:\\DETECTION 1.0\\Celeb-DF\\aligned_faces_real\\00106 | Total frames: 298\n"
     ]
    },
    {
     "name": "stderr",
     "output_type": "stream",
     "text": [
      "Processing 00106: 100%|██████████| 297/297 [00:12<00:00, 24.15it/s]\n"
     ]
    },
    {
     "name": "stdout",
     "output_type": "stream",
     "text": [
      "📂 D:\\DETECTION 1.0\\Celeb-DF\\aligned_faces_real\\00107 | Total frames: 393\n"
     ]
    },
    {
     "name": "stderr",
     "output_type": "stream",
     "text": [
      "Processing 00107: 100%|██████████| 392/392 [00:16<00:00, 24.26it/s]\n"
     ]
    },
    {
     "name": "stdout",
     "output_type": "stream",
     "text": [
      "📂 D:\\DETECTION 1.0\\Celeb-DF\\aligned_faces_real\\00108 | Total frames: 478\n"
     ]
    },
    {
     "name": "stderr",
     "output_type": "stream",
     "text": [
      "Processing 00108: 100%|██████████| 477/477 [00:19<00:00, 24.10it/s]\n"
     ]
    },
    {
     "name": "stdout",
     "output_type": "stream",
     "text": [
      "📂 D:\\DETECTION 1.0\\Celeb-DF\\aligned_faces_real\\00109 | Total frames: 249\n"
     ]
    },
    {
     "name": "stderr",
     "output_type": "stream",
     "text": [
      "Processing 00109: 100%|██████████| 248/248 [00:10<00:00, 23.96it/s]\n"
     ]
    },
    {
     "name": "stdout",
     "output_type": "stream",
     "text": [
      "📂 D:\\DETECTION 1.0\\Celeb-DF\\aligned_faces_real\\00110 | Total frames: 479\n"
     ]
    },
    {
     "name": "stderr",
     "output_type": "stream",
     "text": [
      "Processing 00110: 100%|██████████| 478/478 [00:20<00:00, 23.31it/s]\n"
     ]
    },
    {
     "name": "stdout",
     "output_type": "stream",
     "text": [
      "📂 D:\\DETECTION 1.0\\Celeb-DF\\aligned_faces_real\\00111 | Total frames: 123\n"
     ]
    },
    {
     "name": "stderr",
     "output_type": "stream",
     "text": [
      "Processing 00111: 100%|██████████| 122/122 [00:05<00:00, 24.01it/s]\n"
     ]
    },
    {
     "name": "stdout",
     "output_type": "stream",
     "text": [
      "📂 D:\\DETECTION 1.0\\Celeb-DF\\aligned_faces_real\\00112 | Total frames: 477\n"
     ]
    },
    {
     "name": "stderr",
     "output_type": "stream",
     "text": [
      "Processing 00112: 100%|██████████| 476/476 [00:20<00:00, 23.63it/s]\n"
     ]
    },
    {
     "name": "stdout",
     "output_type": "stream",
     "text": [
      "📂 D:\\DETECTION 1.0\\Celeb-DF\\aligned_faces_real\\00113 | Total frames: 504\n"
     ]
    },
    {
     "name": "stderr",
     "output_type": "stream",
     "text": [
      "Processing 00113: 100%|██████████| 503/503 [00:20<00:00, 24.19it/s]\n"
     ]
    },
    {
     "name": "stdout",
     "output_type": "stream",
     "text": [
      "📂 D:\\DETECTION 1.0\\Celeb-DF\\aligned_faces_real\\00114 | Total frames: 339\n"
     ]
    },
    {
     "name": "stderr",
     "output_type": "stream",
     "text": [
      "Processing 00114: 100%|██████████| 338/338 [00:13<00:00, 24.31it/s]\n"
     ]
    },
    {
     "name": "stdout",
     "output_type": "stream",
     "text": [
      "📂 D:\\DETECTION 1.0\\Celeb-DF\\aligned_faces_real\\00115 | Total frames: 312\n"
     ]
    },
    {
     "name": "stderr",
     "output_type": "stream",
     "text": [
      "Processing 00115: 100%|██████████| 311/311 [00:13<00:00, 23.85it/s]\n"
     ]
    },
    {
     "name": "stdout",
     "output_type": "stream",
     "text": [
      "📂 D:\\DETECTION 1.0\\Celeb-DF\\aligned_faces_real\\00116 | Total frames: 355\n"
     ]
    },
    {
     "name": "stderr",
     "output_type": "stream",
     "text": [
      "Processing 00116: 100%|██████████| 354/354 [00:15<00:00, 23.29it/s]\n"
     ]
    },
    {
     "name": "stdout",
     "output_type": "stream",
     "text": [
      "📂 D:\\DETECTION 1.0\\Celeb-DF\\aligned_faces_real\\00117 | Total frames: 410\n"
     ]
    },
    {
     "name": "stderr",
     "output_type": "stream",
     "text": [
      "Processing 00117: 100%|██████████| 409/409 [00:17<00:00, 23.71it/s]\n"
     ]
    },
    {
     "name": "stdout",
     "output_type": "stream",
     "text": [
      "📂 D:\\DETECTION 1.0\\Celeb-DF\\aligned_faces_real\\00118 | Total frames: 459\n"
     ]
    },
    {
     "name": "stderr",
     "output_type": "stream",
     "text": [
      "Processing 00118: 100%|██████████| 458/458 [00:19<00:00, 23.48it/s]\n"
     ]
    },
    {
     "name": "stdout",
     "output_type": "stream",
     "text": [
      "📂 D:\\DETECTION 1.0\\Celeb-DF\\aligned_faces_real\\00119 | Total frames: 384\n"
     ]
    },
    {
     "name": "stderr",
     "output_type": "stream",
     "text": [
      "Processing 00119: 100%|██████████| 383/383 [00:16<00:00, 23.42it/s]\n"
     ]
    },
    {
     "name": "stdout",
     "output_type": "stream",
     "text": [
      "📂 D:\\DETECTION 1.0\\Celeb-DF\\aligned_faces_real\\00120 | Total frames: 200\n"
     ]
    },
    {
     "name": "stderr",
     "output_type": "stream",
     "text": [
      "Processing 00120: 100%|██████████| 199/199 [00:08<00:00, 23.37it/s]\n"
     ]
    },
    {
     "name": "stdout",
     "output_type": "stream",
     "text": [
      "📂 D:\\DETECTION 1.0\\Celeb-DF\\aligned_faces_real\\00121 | Total frames: 468\n"
     ]
    },
    {
     "name": "stderr",
     "output_type": "stream",
     "text": [
      "Processing 00121: 100%|██████████| 467/467 [00:19<00:00, 23.62it/s]\n"
     ]
    },
    {
     "name": "stdout",
     "output_type": "stream",
     "text": [
      "📂 D:\\DETECTION 1.0\\Celeb-DF\\aligned_faces_real\\00122 | Total frames: 362\n"
     ]
    },
    {
     "name": "stderr",
     "output_type": "stream",
     "text": [
      "Processing 00122: 100%|██████████| 361/361 [00:15<00:00, 23.35it/s]\n"
     ]
    },
    {
     "name": "stdout",
     "output_type": "stream",
     "text": [
      "📂 D:\\DETECTION 1.0\\Celeb-DF\\aligned_faces_real\\00123 | Total frames: 285\n"
     ]
    },
    {
     "name": "stderr",
     "output_type": "stream",
     "text": [
      "Processing 00123: 100%|██████████| 284/284 [00:12<00:00, 23.63it/s]\n"
     ]
    },
    {
     "name": "stdout",
     "output_type": "stream",
     "text": [
      "📂 D:\\DETECTION 1.0\\Celeb-DF\\aligned_faces_real\\00124 | Total frames: 123\n"
     ]
    },
    {
     "name": "stderr",
     "output_type": "stream",
     "text": [
      "Processing 00124: 100%|██████████| 122/122 [00:05<00:00, 23.61it/s]\n"
     ]
    },
    {
     "name": "stdout",
     "output_type": "stream",
     "text": [
      "📂 D:\\DETECTION 1.0\\Celeb-DF\\aligned_faces_real\\00125 | Total frames: 211\n"
     ]
    },
    {
     "name": "stderr",
     "output_type": "stream",
     "text": [
      "Processing 00125: 100%|██████████| 210/210 [00:08<00:00, 23.53it/s]\n"
     ]
    },
    {
     "name": "stdout",
     "output_type": "stream",
     "text": [
      "📂 D:\\DETECTION 1.0\\Celeb-DF\\aligned_faces_real\\00126 | Total frames: 453\n"
     ]
    },
    {
     "name": "stderr",
     "output_type": "stream",
     "text": [
      "Processing 00126: 100%|██████████| 452/452 [00:19<00:00, 23.34it/s]\n"
     ]
    },
    {
     "name": "stdout",
     "output_type": "stream",
     "text": [
      "📂 D:\\DETECTION 1.0\\Celeb-DF\\aligned_faces_real\\00127 | Total frames: 480\n"
     ]
    },
    {
     "name": "stderr",
     "output_type": "stream",
     "text": [
      "Processing 00127: 100%|██████████| 479/479 [00:20<00:00, 23.47it/s]\n"
     ]
    },
    {
     "name": "stdout",
     "output_type": "stream",
     "text": [
      "📂 D:\\DETECTION 1.0\\Celeb-DF\\aligned_faces_real\\00128 | Total frames: 107\n"
     ]
    },
    {
     "name": "stderr",
     "output_type": "stream",
     "text": [
      "Processing 00128: 100%|██████████| 106/106 [00:04<00:00, 23.09it/s]\n"
     ]
    },
    {
     "name": "stdout",
     "output_type": "stream",
     "text": [
      "📂 D:\\DETECTION 1.0\\Celeb-DF\\aligned_faces_real\\00129 | Total frames: 432\n"
     ]
    },
    {
     "name": "stderr",
     "output_type": "stream",
     "text": [
      "Processing 00129: 100%|██████████| 431/431 [00:18<00:00, 23.43it/s]\n"
     ]
    },
    {
     "name": "stdout",
     "output_type": "stream",
     "text": [
      "📂 D:\\DETECTION 1.0\\Celeb-DF\\aligned_faces_real\\00130 | Total frames: 279\n"
     ]
    },
    {
     "name": "stderr",
     "output_type": "stream",
     "text": [
      "Processing 00130: 100%|██████████| 278/278 [00:11<00:00, 23.30it/s]\n"
     ]
    },
    {
     "name": "stdout",
     "output_type": "stream",
     "text": [
      "📂 D:\\DETECTION 1.0\\Celeb-DF\\aligned_faces_real\\00131 | Total frames: 236\n"
     ]
    },
    {
     "name": "stderr",
     "output_type": "stream",
     "text": [
      "Processing 00131: 100%|██████████| 235/235 [00:10<00:00, 23.29it/s]\n"
     ]
    },
    {
     "name": "stdout",
     "output_type": "stream",
     "text": [
      "📂 D:\\DETECTION 1.0\\Celeb-DF\\aligned_faces_real\\00132 | Total frames: 350\n"
     ]
    },
    {
     "name": "stderr",
     "output_type": "stream",
     "text": [
      "Processing 00132: 100%|██████████| 349/349 [00:15<00:00, 23.07it/s]\n"
     ]
    },
    {
     "name": "stdout",
     "output_type": "stream",
     "text": [
      "📂 D:\\DETECTION 1.0\\Celeb-DF\\aligned_faces_real\\00133 | Total frames: 442\n"
     ]
    },
    {
     "name": "stderr",
     "output_type": "stream",
     "text": [
      "Processing 00133: 100%|██████████| 441/441 [00:18<00:00, 23.40it/s]\n"
     ]
    },
    {
     "name": "stdout",
     "output_type": "stream",
     "text": [
      "📂 D:\\DETECTION 1.0\\Celeb-DF\\aligned_faces_real\\00134 | Total frames: 0\n",
      "⚠️ Not enough frames to compute optical flow.\n",
      "📂 D:\\DETECTION 1.0\\Celeb-DF\\aligned_faces_real\\00135 | Total frames: 240\n"
     ]
    },
    {
     "name": "stderr",
     "output_type": "stream",
     "text": [
      "Processing 00135: 100%|██████████| 239/239 [00:09<00:00, 23.95it/s]\n"
     ]
    },
    {
     "name": "stdout",
     "output_type": "stream",
     "text": [
      "📂 D:\\DETECTION 1.0\\Celeb-DF\\aligned_faces_real\\00136 | Total frames: 291\n"
     ]
    },
    {
     "name": "stderr",
     "output_type": "stream",
     "text": [
      "Processing 00136: 100%|██████████| 290/290 [00:12<00:00, 23.29it/s]\n"
     ]
    },
    {
     "name": "stdout",
     "output_type": "stream",
     "text": [
      "📂 D:\\DETECTION 1.0\\Celeb-DF\\aligned_faces_real\\00137 | Total frames: 353\n"
     ]
    },
    {
     "name": "stderr",
     "output_type": "stream",
     "text": [
      "Processing 00137: 100%|██████████| 352/352 [00:14<00:00, 23.85it/s]\n"
     ]
    },
    {
     "name": "stdout",
     "output_type": "stream",
     "text": [
      "📂 D:\\DETECTION 1.0\\Celeb-DF\\aligned_faces_real\\00138 | Total frames: 253\n"
     ]
    },
    {
     "name": "stderr",
     "output_type": "stream",
     "text": [
      "Processing 00138: 100%|██████████| 252/252 [00:10<00:00, 23.02it/s]\n"
     ]
    },
    {
     "name": "stdout",
     "output_type": "stream",
     "text": [
      "📂 D:\\DETECTION 1.0\\Celeb-DF\\aligned_faces_real\\00139 | Total frames: 553\n"
     ]
    },
    {
     "name": "stderr",
     "output_type": "stream",
     "text": [
      "Processing 00139: 100%|██████████| 552/552 [00:23<00:00, 23.63it/s]\n"
     ]
    },
    {
     "name": "stdout",
     "output_type": "stream",
     "text": [
      "📂 D:\\DETECTION 1.0\\Celeb-DF\\aligned_faces_real\\00140 | Total frames: 382\n"
     ]
    },
    {
     "name": "stderr",
     "output_type": "stream",
     "text": [
      "Processing 00140: 100%|██████████| 381/381 [00:15<00:00, 23.99it/s]\n"
     ]
    },
    {
     "name": "stdout",
     "output_type": "stream",
     "text": [
      "📂 D:\\DETECTION 1.0\\Celeb-DF\\aligned_faces_real\\00141 | Total frames: 445\n"
     ]
    },
    {
     "name": "stderr",
     "output_type": "stream",
     "text": [
      "Processing 00141: 100%|██████████| 444/444 [00:18<00:00, 24.28it/s]\n"
     ]
    },
    {
     "name": "stdout",
     "output_type": "stream",
     "text": [
      "📂 D:\\DETECTION 1.0\\Celeb-DF\\aligned_faces_real\\00142 | Total frames: 388\n"
     ]
    },
    {
     "name": "stderr",
     "output_type": "stream",
     "text": [
      "Processing 00142: 100%|██████████| 387/387 [00:16<00:00, 23.51it/s]\n"
     ]
    },
    {
     "name": "stdout",
     "output_type": "stream",
     "text": [
      "📂 D:\\DETECTION 1.0\\Celeb-DF\\aligned_faces_real\\00143 | Total frames: 282\n"
     ]
    },
    {
     "name": "stderr",
     "output_type": "stream",
     "text": [
      "Processing 00143: 100%|██████████| 281/281 [00:11<00:00, 24.52it/s]\n"
     ]
    },
    {
     "name": "stdout",
     "output_type": "stream",
     "text": [
      "📂 D:\\DETECTION 1.0\\Celeb-DF\\aligned_faces_real\\00144 | Total frames: 451\n"
     ]
    },
    {
     "name": "stderr",
     "output_type": "stream",
     "text": [
      "Processing 00144: 100%|██████████| 450/450 [00:19<00:00, 23.60it/s]\n"
     ]
    },
    {
     "name": "stdout",
     "output_type": "stream",
     "text": [
      "📂 D:\\DETECTION 1.0\\Celeb-DF\\aligned_faces_real\\00145 | Total frames: 469\n"
     ]
    },
    {
     "name": "stderr",
     "output_type": "stream",
     "text": [
      "Processing 00145: 100%|██████████| 468/468 [00:19<00:00, 24.08it/s]\n"
     ]
    },
    {
     "name": "stdout",
     "output_type": "stream",
     "text": [
      "📂 D:\\DETECTION 1.0\\Celeb-DF\\aligned_faces_real\\00146 | Total frames: 718\n"
     ]
    },
    {
     "name": "stderr",
     "output_type": "stream",
     "text": [
      "Processing 00146: 100%|██████████| 717/717 [00:30<00:00, 23.89it/s]\n"
     ]
    },
    {
     "name": "stdout",
     "output_type": "stream",
     "text": [
      "📂 D:\\DETECTION 1.0\\Celeb-DF\\aligned_faces_real\\00147 | Total frames: 514\n"
     ]
    },
    {
     "name": "stderr",
     "output_type": "stream",
     "text": [
      "Processing 00147: 100%|██████████| 513/513 [00:31<00:00, 16.12it/s]\n"
     ]
    },
    {
     "name": "stdout",
     "output_type": "stream",
     "text": [
      "📂 D:\\DETECTION 1.0\\Celeb-DF\\aligned_faces_real\\00148 | Total frames: 391\n"
     ]
    },
    {
     "name": "stderr",
     "output_type": "stream",
     "text": [
      "Processing 00148: 100%|██████████| 390/390 [00:15<00:00, 24.53it/s]\n"
     ]
    },
    {
     "name": "stdout",
     "output_type": "stream",
     "text": [
      "📂 D:\\DETECTION 1.0\\Celeb-DF\\aligned_faces_real\\00149 | Total frames: 506\n"
     ]
    },
    {
     "name": "stderr",
     "output_type": "stream",
     "text": [
      "Processing 00149: 100%|██████████| 505/505 [00:20<00:00, 24.18it/s]\n"
     ]
    },
    {
     "name": "stdout",
     "output_type": "stream",
     "text": [
      "📂 D:\\DETECTION 1.0\\Celeb-DF\\aligned_faces_real\\00150 | Total frames: 161\n"
     ]
    },
    {
     "name": "stderr",
     "output_type": "stream",
     "text": [
      "Processing 00150: 100%|██████████| 160/160 [00:06<00:00, 24.36it/s]\n"
     ]
    },
    {
     "name": "stdout",
     "output_type": "stream",
     "text": [
      "📂 D:\\DETECTION 1.0\\Celeb-DF\\aligned_faces_real\\00151 | Total frames: 504\n"
     ]
    },
    {
     "name": "stderr",
     "output_type": "stream",
     "text": [
      "Processing 00151: 100%|██████████| 503/503 [00:20<00:00, 24.04it/s]\n"
     ]
    },
    {
     "name": "stdout",
     "output_type": "stream",
     "text": [
      "📂 D:\\DETECTION 1.0\\Celeb-DF\\aligned_faces_real\\00152 | Total frames: 697\n"
     ]
    },
    {
     "name": "stderr",
     "output_type": "stream",
     "text": [
      "Processing 00152: 100%|██████████| 696/696 [00:28<00:00, 24.12it/s]\n"
     ]
    },
    {
     "name": "stdout",
     "output_type": "stream",
     "text": [
      "📂 D:\\DETECTION 1.0\\Celeb-DF\\aligned_faces_real\\00153 | Total frames: 488\n"
     ]
    },
    {
     "name": "stderr",
     "output_type": "stream",
     "text": [
      "Processing 00153: 100%|██████████| 487/487 [00:20<00:00, 23.71it/s]\n"
     ]
    },
    {
     "name": "stdout",
     "output_type": "stream",
     "text": [
      "📂 D:\\DETECTION 1.0\\Celeb-DF\\aligned_faces_real\\00154 | Total frames: 137\n"
     ]
    },
    {
     "name": "stderr",
     "output_type": "stream",
     "text": [
      "Processing 00154: 100%|██████████| 136/136 [00:05<00:00, 23.85it/s]\n"
     ]
    },
    {
     "name": "stdout",
     "output_type": "stream",
     "text": [
      "📂 D:\\DETECTION 1.0\\Celeb-DF\\aligned_faces_real\\00155 | Total frames: 553\n"
     ]
    },
    {
     "name": "stderr",
     "output_type": "stream",
     "text": [
      "Processing 00155: 100%|██████████| 552/552 [00:22<00:00, 24.07it/s]\n"
     ]
    },
    {
     "name": "stdout",
     "output_type": "stream",
     "text": [
      "📂 D:\\DETECTION 1.0\\Celeb-DF\\aligned_faces_real\\00156 | Total frames: 411\n"
     ]
    },
    {
     "name": "stderr",
     "output_type": "stream",
     "text": [
      "Processing 00156: 100%|██████████| 410/410 [00:17<00:00, 23.67it/s]\n"
     ]
    },
    {
     "name": "stdout",
     "output_type": "stream",
     "text": [
      "📂 D:\\DETECTION 1.0\\Celeb-DF\\aligned_faces_real\\00157 | Total frames: 367\n"
     ]
    },
    {
     "name": "stderr",
     "output_type": "stream",
     "text": [
      "Processing 00157: 100%|██████████| 366/366 [00:14<00:00, 24.65it/s]\n"
     ]
    },
    {
     "name": "stdout",
     "output_type": "stream",
     "text": [
      "📂 D:\\DETECTION 1.0\\Celeb-DF\\aligned_faces_real\\00158 | Total frames: 361\n"
     ]
    },
    {
     "name": "stderr",
     "output_type": "stream",
     "text": [
      "Processing 00158: 100%|██████████| 360/360 [00:15<00:00, 23.84it/s]\n"
     ]
    },
    {
     "name": "stdout",
     "output_type": "stream",
     "text": [
      "📂 D:\\DETECTION 1.0\\Celeb-DF\\aligned_faces_real\\00159 | Total frames: 448\n"
     ]
    },
    {
     "name": "stderr",
     "output_type": "stream",
     "text": [
      "Processing 00159: 100%|██████████| 447/447 [00:24<00:00, 17.99it/s]\n"
     ]
    },
    {
     "name": "stdout",
     "output_type": "stream",
     "text": [
      "📂 D:\\DETECTION 1.0\\Celeb-DF\\aligned_faces_real\\00160 | Total frames: 490\n"
     ]
    },
    {
     "name": "stderr",
     "output_type": "stream",
     "text": [
      "Processing 00160: 100%|██████████| 489/489 [00:21<00:00, 23.26it/s]\n"
     ]
    },
    {
     "name": "stdout",
     "output_type": "stream",
     "text": [
      "📂 D:\\DETECTION 1.0\\Celeb-DF\\aligned_faces_real\\00161 | Total frames: 509\n"
     ]
    },
    {
     "name": "stderr",
     "output_type": "stream",
     "text": [
      "Processing 00161: 100%|██████████| 508/508 [00:21<00:00, 23.10it/s]\n"
     ]
    },
    {
     "name": "stdout",
     "output_type": "stream",
     "text": [
      "📂 D:\\DETECTION 1.0\\Celeb-DF\\aligned_faces_real\\00162 | Total frames: 446\n"
     ]
    },
    {
     "name": "stderr",
     "output_type": "stream",
     "text": [
      "Processing 00162: 100%|██████████| 445/445 [00:18<00:00, 24.03it/s]\n"
     ]
    },
    {
     "name": "stdout",
     "output_type": "stream",
     "text": [
      "📂 D:\\DETECTION 1.0\\Celeb-DF\\aligned_faces_real\\00163 | Total frames: 455\n"
     ]
    },
    {
     "name": "stderr",
     "output_type": "stream",
     "text": [
      "Processing 00163: 100%|██████████| 454/454 [00:19<00:00, 23.42it/s]\n"
     ]
    },
    {
     "name": "stdout",
     "output_type": "stream",
     "text": [
      "📂 D:\\DETECTION 1.0\\Celeb-DF\\aligned_faces_real\\00164 | Total frames: 0\n",
      "⚠️ Not enough frames to compute optical flow.\n",
      "📂 D:\\DETECTION 1.0\\Celeb-DF\\aligned_faces_real\\00165 | Total frames: 470\n"
     ]
    },
    {
     "name": "stderr",
     "output_type": "stream",
     "text": [
      "Processing 00165: 100%|██████████| 469/469 [00:20<00:00, 23.17it/s]\n"
     ]
    },
    {
     "name": "stdout",
     "output_type": "stream",
     "text": [
      "📂 D:\\DETECTION 1.0\\Celeb-DF\\aligned_faces_real\\00166 | Total frames: 469\n"
     ]
    },
    {
     "name": "stderr",
     "output_type": "stream",
     "text": [
      "Processing 00166: 100%|██████████| 468/468 [00:20<00:00, 23.34it/s]\n"
     ]
    },
    {
     "name": "stdout",
     "output_type": "stream",
     "text": [
      "📂 D:\\DETECTION 1.0\\Celeb-DF\\aligned_faces_real\\00167 | Total frames: 264\n"
     ]
    },
    {
     "name": "stderr",
     "output_type": "stream",
     "text": [
      "Processing 00167: 100%|██████████| 263/263 [00:11<00:00, 23.44it/s]\n"
     ]
    },
    {
     "name": "stdout",
     "output_type": "stream",
     "text": [
      "📂 D:\\DETECTION 1.0\\Celeb-DF\\aligned_faces_real\\00168 | Total frames: 475\n"
     ]
    },
    {
     "name": "stderr",
     "output_type": "stream",
     "text": [
      "Processing 00168: 100%|██████████| 474/474 [00:20<00:00, 22.60it/s]\n"
     ]
    },
    {
     "name": "stdout",
     "output_type": "stream",
     "text": [
      "📂 D:\\DETECTION 1.0\\Celeb-DF\\aligned_faces_real\\00169 | Total frames: 432\n"
     ]
    },
    {
     "name": "stderr",
     "output_type": "stream",
     "text": [
      "Processing 00169: 100%|██████████| 431/431 [00:06<00:00, 62.35it/s]\n"
     ]
    },
    {
     "name": "stdout",
     "output_type": "stream",
     "text": [
      "📂 D:\\DETECTION 1.0\\Celeb-DF\\aligned_faces_real\\00170 | Total frames: 255\n"
     ]
    },
    {
     "name": "stderr",
     "output_type": "stream",
     "text": [
      "Processing 00170: 100%|██████████| 254/254 [00:04<00:00, 62.97it/s]\n"
     ]
    },
    {
     "name": "stdout",
     "output_type": "stream",
     "text": [
      "📂 D:\\DETECTION 1.0\\Celeb-DF\\aligned_faces_real\\00171 | Total frames: 433\n"
     ]
    },
    {
     "name": "stderr",
     "output_type": "stream",
     "text": [
      "Processing 00171: 100%|██████████| 432/432 [00:07<00:00, 59.56it/s]\n"
     ]
    },
    {
     "name": "stdout",
     "output_type": "stream",
     "text": [
      "📂 D:\\DETECTION 1.0\\Celeb-DF\\aligned_faces_real\\00172 | Total frames: 353\n"
     ]
    },
    {
     "name": "stderr",
     "output_type": "stream",
     "text": [
      "Processing 00172: 100%|██████████| 352/352 [00:05<00:00, 65.47it/s]\n"
     ]
    },
    {
     "name": "stdout",
     "output_type": "stream",
     "text": [
      "📂 D:\\DETECTION 1.0\\Celeb-DF\\aligned_faces_real\\00173 | Total frames: 296\n"
     ]
    },
    {
     "name": "stderr",
     "output_type": "stream",
     "text": [
      "Processing 00173: 100%|██████████| 295/295 [00:04<00:00, 68.83it/s]\n"
     ]
    },
    {
     "name": "stdout",
     "output_type": "stream",
     "text": [
      "📂 D:\\DETECTION 1.0\\Celeb-DF\\aligned_faces_real\\00174 | Total frames: 465\n"
     ]
    },
    {
     "name": "stderr",
     "output_type": "stream",
     "text": [
      "Processing 00174: 100%|██████████| 464/464 [00:06<00:00, 70.84it/s]\n"
     ]
    },
    {
     "name": "stdout",
     "output_type": "stream",
     "text": [
      "📂 D:\\DETECTION 1.0\\Celeb-DF\\aligned_faces_real\\00175 | Total frames: 435\n"
     ]
    },
    {
     "name": "stderr",
     "output_type": "stream",
     "text": [
      "Processing 00175: 100%|██████████| 434/434 [00:06<00:00, 66.45it/s]\n"
     ]
    },
    {
     "name": "stdout",
     "output_type": "stream",
     "text": [
      "📂 D:\\DETECTION 1.0\\Celeb-DF\\aligned_faces_real\\00176 | Total frames: 605\n"
     ]
    },
    {
     "name": "stderr",
     "output_type": "stream",
     "text": [
      "Processing 00176: 100%|██████████| 604/604 [00:08<00:00, 69.37it/s]\n"
     ]
    },
    {
     "name": "stdout",
     "output_type": "stream",
     "text": [
      "📂 D:\\DETECTION 1.0\\Celeb-DF\\aligned_faces_real\\00177 | Total frames: 521\n"
     ]
    },
    {
     "name": "stderr",
     "output_type": "stream",
     "text": [
      "Processing 00177: 100%|██████████| 520/520 [00:07<00:00, 68.15it/s]\n"
     ]
    },
    {
     "name": "stdout",
     "output_type": "stream",
     "text": [
      "📂 D:\\DETECTION 1.0\\Celeb-DF\\aligned_faces_real\\00178 | Total frames: 468\n"
     ]
    },
    {
     "name": "stderr",
     "output_type": "stream",
     "text": [
      "Processing 00178: 100%|██████████| 467/467 [00:06<00:00, 67.69it/s]\n"
     ]
    },
    {
     "name": "stdout",
     "output_type": "stream",
     "text": [
      "📂 D:\\DETECTION 1.0\\Celeb-DF\\aligned_faces_real\\00179 | Total frames: 398\n"
     ]
    },
    {
     "name": "stderr",
     "output_type": "stream",
     "text": [
      "Processing 00179: 100%|██████████| 397/397 [00:06<00:00, 65.74it/s]\n"
     ]
    },
    {
     "name": "stdout",
     "output_type": "stream",
     "text": [
      "📂 D:\\DETECTION 1.0\\Celeb-DF\\aligned_faces_real\\00180 | Total frames: 349\n"
     ]
    },
    {
     "name": "stderr",
     "output_type": "stream",
     "text": [
      "Processing 00180: 100%|██████████| 348/348 [00:05<00:00, 65.20it/s]\n"
     ]
    },
    {
     "name": "stdout",
     "output_type": "stream",
     "text": [
      "📂 D:\\DETECTION 1.0\\Celeb-DF\\aligned_faces_real\\00181 | Total frames: 336\n"
     ]
    },
    {
     "name": "stderr",
     "output_type": "stream",
     "text": [
      "Processing 00181: 100%|██████████| 335/335 [00:05<00:00, 66.27it/s]\n"
     ]
    },
    {
     "name": "stdout",
     "output_type": "stream",
     "text": [
      "📂 D:\\DETECTION 1.0\\Celeb-DF\\aligned_faces_real\\00182 | Total frames: 472\n"
     ]
    },
    {
     "name": "stderr",
     "output_type": "stream",
     "text": [
      "Processing 00182: 100%|██████████| 471/471 [00:06<00:00, 68.32it/s]\n"
     ]
    },
    {
     "name": "stdout",
     "output_type": "stream",
     "text": [
      "📂 D:\\DETECTION 1.0\\Celeb-DF\\aligned_faces_real\\00183 | Total frames: 469\n"
     ]
    },
    {
     "name": "stderr",
     "output_type": "stream",
     "text": [
      "Processing 00183: 100%|██████████| 468/468 [00:06<00:00, 70.00it/s]\n"
     ]
    },
    {
     "name": "stdout",
     "output_type": "stream",
     "text": [
      "📂 D:\\DETECTION 1.0\\Celeb-DF\\aligned_faces_real\\00184 | Total frames: 467\n"
     ]
    },
    {
     "name": "stderr",
     "output_type": "stream",
     "text": [
      "Processing 00184: 100%|██████████| 466/466 [00:07<00:00, 65.65it/s]\n"
     ]
    },
    {
     "name": "stdout",
     "output_type": "stream",
     "text": [
      "📂 D:\\DETECTION 1.0\\Celeb-DF\\aligned_faces_real\\00185 | Total frames: 473\n"
     ]
    },
    {
     "name": "stderr",
     "output_type": "stream",
     "text": [
      "Processing 00185: 100%|██████████| 472/472 [00:07<00:00, 66.77it/s]\n"
     ]
    },
    {
     "name": "stdout",
     "output_type": "stream",
     "text": [
      "📂 D:\\DETECTION 1.0\\Celeb-DF\\aligned_faces_real\\00186 | Total frames: 510\n"
     ]
    },
    {
     "name": "stderr",
     "output_type": "stream",
     "text": [
      "Processing 00186: 100%|██████████| 509/509 [00:07<00:00, 66.88it/s]\n"
     ]
    },
    {
     "name": "stdout",
     "output_type": "stream",
     "text": [
      "📂 D:\\DETECTION 1.0\\Celeb-DF\\aligned_faces_real\\00187 | Total frames: 453\n"
     ]
    },
    {
     "name": "stderr",
     "output_type": "stream",
     "text": [
      "Processing 00187: 100%|██████████| 452/452 [00:06<00:00, 65.68it/s]\n"
     ]
    },
    {
     "name": "stdout",
     "output_type": "stream",
     "text": [
      "📂 D:\\DETECTION 1.0\\Celeb-DF\\aligned_faces_real\\00188 | Total frames: 459\n"
     ]
    },
    {
     "name": "stderr",
     "output_type": "stream",
     "text": [
      "Processing 00188: 100%|██████████| 458/458 [00:07<00:00, 64.05it/s]\n"
     ]
    },
    {
     "name": "stdout",
     "output_type": "stream",
     "text": [
      "📂 D:\\DETECTION 1.0\\Celeb-DF\\aligned_faces_real\\00189 | Total frames: 410\n"
     ]
    },
    {
     "name": "stderr",
     "output_type": "stream",
     "text": [
      "Processing 00189: 100%|██████████| 409/409 [00:06<00:00, 65.70it/s]\n"
     ]
    },
    {
     "name": "stdout",
     "output_type": "stream",
     "text": [
      "📂 D:\\DETECTION 1.0\\Celeb-DF\\aligned_faces_real\\00190 | Total frames: 465\n"
     ]
    },
    {
     "name": "stderr",
     "output_type": "stream",
     "text": [
      "Processing 00190: 100%|██████████| 464/464 [00:07<00:00, 64.72it/s]\n"
     ]
    },
    {
     "name": "stdout",
     "output_type": "stream",
     "text": [
      "📂 D:\\DETECTION 1.0\\Celeb-DF\\aligned_faces_real\\00191 | Total frames: 442\n"
     ]
    },
    {
     "name": "stderr",
     "output_type": "stream",
     "text": [
      "Processing 00191: 100%|██████████| 441/441 [00:06<00:00, 66.48it/s]\n"
     ]
    },
    {
     "name": "stdout",
     "output_type": "stream",
     "text": [
      "📂 D:\\DETECTION 1.0\\Celeb-DF\\aligned_faces_real\\00192 | Total frames: 474\n"
     ]
    },
    {
     "name": "stderr",
     "output_type": "stream",
     "text": [
      "Processing 00192: 100%|██████████| 473/473 [00:07<00:00, 65.47it/s]\n"
     ]
    },
    {
     "name": "stdout",
     "output_type": "stream",
     "text": [
      "📂 D:\\DETECTION 1.0\\Celeb-DF\\aligned_faces_real\\00193 | Total frames: 353\n"
     ]
    },
    {
     "name": "stderr",
     "output_type": "stream",
     "text": [
      "Processing 00193: 100%|██████████| 352/352 [00:05<00:00, 68.65it/s]\n"
     ]
    },
    {
     "name": "stdout",
     "output_type": "stream",
     "text": [
      "📂 D:\\DETECTION 1.0\\Celeb-DF\\aligned_faces_real\\00194 | Total frames: 425\n"
     ]
    },
    {
     "name": "stderr",
     "output_type": "stream",
     "text": [
      "Processing 00194: 100%|██████████| 424/424 [00:06<00:00, 66.62it/s]\n"
     ]
    },
    {
     "name": "stdout",
     "output_type": "stream",
     "text": [
      "📂 D:\\DETECTION 1.0\\Celeb-DF\\aligned_faces_real\\00195 | Total frames: 443\n"
     ]
    },
    {
     "name": "stderr",
     "output_type": "stream",
     "text": [
      "Processing 00195: 100%|██████████| 442/442 [00:06<00:00, 67.31it/s]\n"
     ]
    },
    {
     "name": "stdout",
     "output_type": "stream",
     "text": [
      "📂 D:\\DETECTION 1.0\\Celeb-DF\\aligned_faces_real\\00196 | Total frames: 478\n"
     ]
    },
    {
     "name": "stderr",
     "output_type": "stream",
     "text": [
      "Processing 00196: 100%|██████████| 477/477 [00:07<00:00, 67.84it/s]\n"
     ]
    },
    {
     "name": "stdout",
     "output_type": "stream",
     "text": [
      "📂 D:\\DETECTION 1.0\\Celeb-DF\\aligned_faces_real\\00197 | Total frames: 467\n"
     ]
    },
    {
     "name": "stderr",
     "output_type": "stream",
     "text": [
      "Processing 00197: 100%|██████████| 466/466 [00:07<00:00, 65.24it/s]\n"
     ]
    },
    {
     "name": "stdout",
     "output_type": "stream",
     "text": [
      "📂 D:\\DETECTION 1.0\\Celeb-DF\\aligned_faces_real\\00198 | Total frames: 456\n"
     ]
    },
    {
     "name": "stderr",
     "output_type": "stream",
     "text": [
      "Processing 00198: 100%|██████████| 455/455 [00:06<00:00, 66.25it/s]\n"
     ]
    },
    {
     "name": "stdout",
     "output_type": "stream",
     "text": [
      "📂 D:\\DETECTION 1.0\\Celeb-DF\\aligned_faces_real\\00199 | Total frames: 460\n"
     ]
    },
    {
     "name": "stderr",
     "output_type": "stream",
     "text": [
      "Processing 00199: 100%|██████████| 459/459 [00:06<00:00, 68.14it/s]\n"
     ]
    },
    {
     "name": "stdout",
     "output_type": "stream",
     "text": [
      "📂 D:\\DETECTION 1.0\\Celeb-DF\\aligned_faces_real\\00200 | Total frames: 91\n"
     ]
    },
    {
     "name": "stderr",
     "output_type": "stream",
     "text": [
      "Processing 00200: 100%|██████████| 90/90 [00:01<00:00, 68.18it/s]\n"
     ]
    },
    {
     "name": "stdout",
     "output_type": "stream",
     "text": [
      "📂 D:\\DETECTION 1.0\\Celeb-DF\\aligned_faces_real\\00201 | Total frames: 48\n"
     ]
    },
    {
     "name": "stderr",
     "output_type": "stream",
     "text": [
      "Processing 00201: 100%|██████████| 47/47 [00:00<00:00, 65.83it/s]\n"
     ]
    },
    {
     "name": "stdout",
     "output_type": "stream",
     "text": [
      "📂 D:\\DETECTION 1.0\\Celeb-DF\\aligned_faces_real\\00202 | Total frames: 480\n"
     ]
    },
    {
     "name": "stderr",
     "output_type": "stream",
     "text": [
      "Processing 00202: 100%|██████████| 479/479 [00:07<00:00, 67.52it/s]\n"
     ]
    },
    {
     "name": "stdout",
     "output_type": "stream",
     "text": [
      "📂 D:\\DETECTION 1.0\\Celeb-DF\\aligned_faces_real\\00203 | Total frames: 294\n"
     ]
    },
    {
     "name": "stderr",
     "output_type": "stream",
     "text": [
      "Processing 00203: 100%|██████████| 293/293 [00:04<00:00, 66.73it/s]\n"
     ]
    },
    {
     "name": "stdout",
     "output_type": "stream",
     "text": [
      "📂 D:\\DETECTION 1.0\\Celeb-DF\\aligned_faces_real\\00204 | Total frames: 463\n"
     ]
    },
    {
     "name": "stderr",
     "output_type": "stream",
     "text": [
      "Processing 00204: 100%|██████████| 462/462 [00:06<00:00, 66.82it/s]\n"
     ]
    },
    {
     "name": "stdout",
     "output_type": "stream",
     "text": [
      "📂 D:\\DETECTION 1.0\\Celeb-DF\\aligned_faces_real\\00205 | Total frames: 453\n"
     ]
    },
    {
     "name": "stderr",
     "output_type": "stream",
     "text": [
      "Processing 00205: 100%|██████████| 452/452 [00:06<00:00, 66.10it/s]\n"
     ]
    },
    {
     "name": "stdout",
     "output_type": "stream",
     "text": [
      "📂 D:\\DETECTION 1.0\\Celeb-DF\\aligned_faces_real\\00206 | Total frames: 455\n"
     ]
    },
    {
     "name": "stderr",
     "output_type": "stream",
     "text": [
      "Processing 00206: 100%|██████████| 454/454 [00:06<00:00, 67.35it/s]\n"
     ]
    },
    {
     "name": "stdout",
     "output_type": "stream",
     "text": [
      "📂 D:\\DETECTION 1.0\\Celeb-DF\\aligned_faces_real\\00207 | Total frames: 126\n"
     ]
    },
    {
     "name": "stderr",
     "output_type": "stream",
     "text": [
      "Processing 00207: 100%|██████████| 125/125 [00:01<00:00, 65.66it/s]\n"
     ]
    },
    {
     "name": "stdout",
     "output_type": "stream",
     "text": [
      "📂 D:\\DETECTION 1.0\\Celeb-DF\\aligned_faces_real\\00208 | Total frames: 452\n"
     ]
    },
    {
     "name": "stderr",
     "output_type": "stream",
     "text": [
      "Processing 00208: 100%|██████████| 451/451 [00:06<00:00, 67.67it/s]\n"
     ]
    },
    {
     "name": "stdout",
     "output_type": "stream",
     "text": [
      "📂 D:\\DETECTION 1.0\\Celeb-DF\\aligned_faces_real\\00209 | Total frames: 460\n"
     ]
    },
    {
     "name": "stderr",
     "output_type": "stream",
     "text": [
      "Processing 00209: 100%|██████████| 459/459 [00:06<00:00, 67.13it/s]\n"
     ]
    },
    {
     "name": "stdout",
     "output_type": "stream",
     "text": [
      "📂 D:\\DETECTION 1.0\\Celeb-DF\\aligned_faces_real\\00210 | Total frames: 122\n"
     ]
    },
    {
     "name": "stderr",
     "output_type": "stream",
     "text": [
      "Processing 00210: 100%|██████████| 121/121 [00:01<00:00, 69.54it/s]\n"
     ]
    },
    {
     "name": "stdout",
     "output_type": "stream",
     "text": [
      "📂 D:\\DETECTION 1.0\\Celeb-DF\\aligned_faces_real\\00211 | Total frames: 411\n"
     ]
    },
    {
     "name": "stderr",
     "output_type": "stream",
     "text": [
      "Processing 00211: 100%|██████████| 410/410 [00:06<00:00, 66.97it/s]\n"
     ]
    },
    {
     "name": "stdout",
     "output_type": "stream",
     "text": [
      "📂 D:\\DETECTION 1.0\\Celeb-DF\\aligned_faces_real\\00212 | Total frames: 413\n"
     ]
    },
    {
     "name": "stderr",
     "output_type": "stream",
     "text": [
      "Processing 00212: 100%|██████████| 412/412 [00:06<00:00, 65.40it/s]\n"
     ]
    },
    {
     "name": "stdout",
     "output_type": "stream",
     "text": [
      "📂 D:\\DETECTION 1.0\\Celeb-DF\\aligned_faces_real\\00213 | Total frames: 454\n"
     ]
    },
    {
     "name": "stderr",
     "output_type": "stream",
     "text": [
      "Processing 00213: 100%|██████████| 453/453 [00:06<00:00, 65.94it/s]\n"
     ]
    },
    {
     "name": "stdout",
     "output_type": "stream",
     "text": [
      "📂 D:\\DETECTION 1.0\\Celeb-DF\\aligned_faces_real\\00214 | Total frames: 446\n"
     ]
    },
    {
     "name": "stderr",
     "output_type": "stream",
     "text": [
      "Processing 00214: 100%|██████████| 445/445 [00:06<00:00, 65.96it/s]\n"
     ]
    },
    {
     "name": "stdout",
     "output_type": "stream",
     "text": [
      "📂 D:\\DETECTION 1.0\\Celeb-DF\\aligned_faces_real\\00215 | Total frames: 469\n"
     ]
    },
    {
     "name": "stderr",
     "output_type": "stream",
     "text": [
      "Processing 00215: 100%|██████████| 468/468 [00:07<00:00, 66.13it/s]\n"
     ]
    },
    {
     "name": "stdout",
     "output_type": "stream",
     "text": [
      "📂 D:\\DETECTION 1.0\\Celeb-DF\\aligned_faces_real\\00216 | Total frames: 384\n"
     ]
    },
    {
     "name": "stderr",
     "output_type": "stream",
     "text": [
      "Processing 00216: 100%|██████████| 383/383 [00:05<00:00, 65.67it/s]\n"
     ]
    },
    {
     "name": "stdout",
     "output_type": "stream",
     "text": [
      "📂 D:\\DETECTION 1.0\\Celeb-DF\\aligned_faces_real\\00217 | Total frames: 324\n"
     ]
    },
    {
     "name": "stderr",
     "output_type": "stream",
     "text": [
      "Processing 00217: 100%|██████████| 323/323 [00:04<00:00, 67.79it/s]\n"
     ]
    },
    {
     "name": "stdout",
     "output_type": "stream",
     "text": [
      "📂 D:\\DETECTION 1.0\\Celeb-DF\\aligned_faces_real\\00218 | Total frames: 474\n"
     ]
    },
    {
     "name": "stderr",
     "output_type": "stream",
     "text": [
      "Processing 00218: 100%|██████████| 473/473 [00:07<00:00, 67.16it/s]\n"
     ]
    },
    {
     "name": "stdout",
     "output_type": "stream",
     "text": [
      "📂 D:\\DETECTION 1.0\\Celeb-DF\\aligned_faces_real\\00219 | Total frames: 288\n"
     ]
    },
    {
     "name": "stderr",
     "output_type": "stream",
     "text": [
      "Processing 00219: 100%|██████████| 287/287 [00:04<00:00, 67.38it/s]\n"
     ]
    },
    {
     "name": "stdout",
     "output_type": "stream",
     "text": [
      "📂 D:\\DETECTION 1.0\\Celeb-DF\\aligned_faces_real\\00220 | Total frames: 523\n"
     ]
    },
    {
     "name": "stderr",
     "output_type": "stream",
     "text": [
      "Processing 00220: 100%|██████████| 522/522 [00:07<00:00, 68.36it/s]\n"
     ]
    },
    {
     "name": "stdout",
     "output_type": "stream",
     "text": [
      "📂 D:\\DETECTION 1.0\\Celeb-DF\\aligned_faces_real\\00221 | Total frames: 448\n"
     ]
    },
    {
     "name": "stderr",
     "output_type": "stream",
     "text": [
      "Processing 00221: 100%|██████████| 447/447 [00:06<00:00, 65.88it/s]\n"
     ]
    },
    {
     "name": "stdout",
     "output_type": "stream",
     "text": [
      "📂 D:\\DETECTION 1.0\\Celeb-DF\\aligned_faces_real\\00222 | Total frames: 468\n"
     ]
    },
    {
     "name": "stderr",
     "output_type": "stream",
     "text": [
      "Processing 00222: 100%|██████████| 467/467 [00:06<00:00, 67.98it/s]\n"
     ]
    },
    {
     "name": "stdout",
     "output_type": "stream",
     "text": [
      "📂 D:\\DETECTION 1.0\\Celeb-DF\\aligned_faces_real\\00223 | Total frames: 480\n"
     ]
    },
    {
     "name": "stderr",
     "output_type": "stream",
     "text": [
      "Processing 00223: 100%|██████████| 479/479 [00:07<00:00, 64.73it/s]\n"
     ]
    },
    {
     "name": "stdout",
     "output_type": "stream",
     "text": [
      "📂 D:\\DETECTION 1.0\\Celeb-DF\\aligned_faces_real\\00224 | Total frames: 428\n"
     ]
    },
    {
     "name": "stderr",
     "output_type": "stream",
     "text": [
      "Processing 00224: 100%|██████████| 427/427 [00:06<00:00, 65.79it/s]\n"
     ]
    },
    {
     "name": "stdout",
     "output_type": "stream",
     "text": [
      "📂 D:\\DETECTION 1.0\\Celeb-DF\\aligned_faces_real\\00225 | Total frames: 468\n"
     ]
    },
    {
     "name": "stderr",
     "output_type": "stream",
     "text": [
      "Processing 00225: 100%|██████████| 467/467 [00:06<00:00, 66.88it/s]\n"
     ]
    },
    {
     "name": "stdout",
     "output_type": "stream",
     "text": [
      "📂 D:\\DETECTION 1.0\\Celeb-DF\\aligned_faces_real\\00226 | Total frames: 430\n"
     ]
    },
    {
     "name": "stderr",
     "output_type": "stream",
     "text": [
      "Processing 00226: 100%|██████████| 429/429 [00:06<00:00, 65.99it/s]\n"
     ]
    },
    {
     "name": "stdout",
     "output_type": "stream",
     "text": [
      "📂 D:\\DETECTION 1.0\\Celeb-DF\\aligned_faces_real\\00227 | Total frames: 471\n"
     ]
    },
    {
     "name": "stderr",
     "output_type": "stream",
     "text": [
      "Processing 00227: 100%|██████████| 470/470 [00:07<00:00, 66.23it/s]\n"
     ]
    },
    {
     "name": "stdout",
     "output_type": "stream",
     "text": [
      "📂 D:\\DETECTION 1.0\\Celeb-DF\\aligned_faces_real\\00228 | Total frames: 470\n"
     ]
    },
    {
     "name": "stderr",
     "output_type": "stream",
     "text": [
      "Processing 00228: 100%|██████████| 469/469 [00:07<00:00, 59.55it/s]\n"
     ]
    },
    {
     "name": "stdout",
     "output_type": "stream",
     "text": [
      "📂 D:\\DETECTION 1.0\\Celeb-DF\\aligned_faces_real\\00229 | Total frames: 344\n"
     ]
    },
    {
     "name": "stderr",
     "output_type": "stream",
     "text": [
      "Processing 00229: 100%|██████████| 343/343 [00:05<00:00, 67.09it/s]\n"
     ]
    },
    {
     "name": "stdout",
     "output_type": "stream",
     "text": [
      "📂 D:\\DETECTION 1.0\\Celeb-DF\\aligned_faces_real\\00230 | Total frames: 455\n"
     ]
    },
    {
     "name": "stderr",
     "output_type": "stream",
     "text": [
      "Processing 00230: 100%|██████████| 454/454 [00:06<00:00, 66.02it/s]\n"
     ]
    },
    {
     "name": "stdout",
     "output_type": "stream",
     "text": [
      "📂 D:\\DETECTION 1.0\\Celeb-DF\\aligned_faces_real\\00231 | Total frames: 477\n"
     ]
    },
    {
     "name": "stderr",
     "output_type": "stream",
     "text": [
      "Processing 00231: 100%|██████████| 476/476 [00:07<00:00, 66.05it/s]\n"
     ]
    },
    {
     "name": "stdout",
     "output_type": "stream",
     "text": [
      "📂 D:\\DETECTION 1.0\\Celeb-DF\\aligned_faces_real\\00232 | Total frames: 471\n"
     ]
    },
    {
     "name": "stderr",
     "output_type": "stream",
     "text": [
      "Processing 00232: 100%|██████████| 470/470 [00:06<00:00, 68.89it/s]\n"
     ]
    },
    {
     "name": "stdout",
     "output_type": "stream",
     "text": [
      "📂 D:\\DETECTION 1.0\\Celeb-DF\\aligned_faces_real\\00233 | Total frames: 459\n"
     ]
    },
    {
     "name": "stderr",
     "output_type": "stream",
     "text": [
      "Processing 00233: 100%|██████████| 458/458 [00:07<00:00, 65.01it/s]\n"
     ]
    },
    {
     "name": "stdout",
     "output_type": "stream",
     "text": [
      "📂 D:\\DETECTION 1.0\\Celeb-DF\\aligned_faces_real\\00234 | Total frames: 356\n"
     ]
    },
    {
     "name": "stderr",
     "output_type": "stream",
     "text": [
      "Processing 00234: 100%|██████████| 355/355 [00:05<00:00, 65.44it/s]\n"
     ]
    },
    {
     "name": "stdout",
     "output_type": "stream",
     "text": [
      "📂 D:\\DETECTION 1.0\\Celeb-DF\\aligned_faces_real\\00235 | Total frames: 496\n"
     ]
    },
    {
     "name": "stderr",
     "output_type": "stream",
     "text": [
      "Processing 00235: 100%|██████████| 495/495 [00:07<00:00, 65.79it/s]\n"
     ]
    },
    {
     "name": "stdout",
     "output_type": "stream",
     "text": [
      "📂 D:\\DETECTION 1.0\\Celeb-DF\\aligned_faces_real\\00236 | Total frames: 468\n"
     ]
    },
    {
     "name": "stderr",
     "output_type": "stream",
     "text": [
      "Processing 00236: 100%|██████████| 467/467 [00:06<00:00, 68.95it/s]\n"
     ]
    },
    {
     "name": "stdout",
     "output_type": "stream",
     "text": [
      "📂 D:\\DETECTION 1.0\\Celeb-DF\\aligned_faces_real\\00237 | Total frames: 359\n"
     ]
    },
    {
     "name": "stderr",
     "output_type": "stream",
     "text": [
      "Processing 00237: 100%|██████████| 358/358 [00:05<00:00, 64.34it/s]\n"
     ]
    },
    {
     "name": "stdout",
     "output_type": "stream",
     "text": [
      "📂 D:\\DETECTION 1.0\\Celeb-DF\\aligned_faces_real\\00238 | Total frames: 421\n"
     ]
    },
    {
     "name": "stderr",
     "output_type": "stream",
     "text": [
      "Processing 00238: 100%|██████████| 420/420 [00:06<00:00, 67.85it/s]\n"
     ]
    },
    {
     "name": "stdout",
     "output_type": "stream",
     "text": [
      "📂 D:\\DETECTION 1.0\\Celeb-DF\\aligned_faces_real\\00239 | Total frames: 493\n"
     ]
    },
    {
     "name": "stderr",
     "output_type": "stream",
     "text": [
      "Processing 00239: 100%|██████████| 492/492 [00:07<00:00, 65.24it/s]\n"
     ]
    },
    {
     "name": "stdout",
     "output_type": "stream",
     "text": [
      "📂 D:\\DETECTION 1.0\\Celeb-DF\\aligned_faces_real\\00240 | Total frames: 424\n"
     ]
    },
    {
     "name": "stderr",
     "output_type": "stream",
     "text": [
      "Processing 00240: 100%|██████████| 423/423 [00:06<00:00, 65.28it/s]\n"
     ]
    },
    {
     "name": "stdout",
     "output_type": "stream",
     "text": [
      "📂 D:\\DETECTION 1.0\\Celeb-DF\\aligned_faces_real\\00241 | Total frames: 77\n"
     ]
    },
    {
     "name": "stderr",
     "output_type": "stream",
     "text": [
      "Processing 00241: 100%|██████████| 76/76 [00:01<00:00, 66.14it/s]\n"
     ]
    },
    {
     "name": "stdout",
     "output_type": "stream",
     "text": [
      "📂 D:\\DETECTION 1.0\\Celeb-DF\\aligned_faces_real\\00242 | Total frames: 442\n"
     ]
    },
    {
     "name": "stderr",
     "output_type": "stream",
     "text": [
      "Processing 00242: 100%|██████████| 441/441 [00:06<00:00, 65.38it/s]\n"
     ]
    },
    {
     "name": "stdout",
     "output_type": "stream",
     "text": [
      "📂 D:\\DETECTION 1.0\\Celeb-DF\\aligned_faces_real\\00243 | Total frames: 461\n"
     ]
    },
    {
     "name": "stderr",
     "output_type": "stream",
     "text": [
      "Processing 00243: 100%|██████████| 460/460 [00:06<00:00, 66.26it/s]\n"
     ]
    },
    {
     "name": "stdout",
     "output_type": "stream",
     "text": [
      "📂 D:\\DETECTION 1.0\\Celeb-DF\\aligned_faces_real\\00244 | Total frames: 287\n"
     ]
    },
    {
     "name": "stderr",
     "output_type": "stream",
     "text": [
      "Processing 00244: 100%|██████████| 286/286 [00:04<00:00, 66.18it/s]\n"
     ]
    },
    {
     "name": "stdout",
     "output_type": "stream",
     "text": [
      "📂 D:\\DETECTION 1.0\\Celeb-DF\\aligned_faces_real\\00245 | Total frames: 464\n"
     ]
    },
    {
     "name": "stderr",
     "output_type": "stream",
     "text": [
      "Processing 00245: 100%|██████████| 463/463 [00:06<00:00, 67.18it/s]\n"
     ]
    },
    {
     "name": "stdout",
     "output_type": "stream",
     "text": [
      "📂 D:\\DETECTION 1.0\\Celeb-DF\\aligned_faces_real\\00246 | Total frames: 429\n"
     ]
    },
    {
     "name": "stderr",
     "output_type": "stream",
     "text": [
      "Processing 00246: 100%|██████████| 428/428 [00:06<00:00, 67.10it/s]\n"
     ]
    },
    {
     "name": "stdout",
     "output_type": "stream",
     "text": [
      "📂 D:\\DETECTION 1.0\\Celeb-DF\\aligned_faces_real\\00247 | Total frames: 412\n"
     ]
    },
    {
     "name": "stderr",
     "output_type": "stream",
     "text": [
      "Processing 00247: 100%|██████████| 411/411 [00:06<00:00, 66.16it/s]\n"
     ]
    },
    {
     "name": "stdout",
     "output_type": "stream",
     "text": [
      "📂 D:\\DETECTION 1.0\\Celeb-DF\\aligned_faces_real\\00248 | Total frames: 472\n"
     ]
    },
    {
     "name": "stderr",
     "output_type": "stream",
     "text": [
      "Processing 00248: 100%|██████████| 471/471 [00:06<00:00, 67.65it/s]\n"
     ]
    },
    {
     "name": "stdout",
     "output_type": "stream",
     "text": [
      "📂 D:\\DETECTION 1.0\\Celeb-DF\\aligned_faces_real\\00249 | Total frames: 516\n"
     ]
    },
    {
     "name": "stderr",
     "output_type": "stream",
     "text": [
      "Processing 00249: 100%|██████████| 515/515 [00:07<00:00, 65.41it/s]\n"
     ]
    },
    {
     "name": "stdout",
     "output_type": "stream",
     "text": [
      "📂 D:\\DETECTION 1.0\\Celeb-DF\\aligned_faces_real\\id0_0000 | Total frames: 363\n"
     ]
    },
    {
     "name": "stderr",
     "output_type": "stream",
     "text": [
      "Processing id0_0000: 100%|██████████| 362/362 [00:05<00:00, 65.85it/s]\n"
     ]
    },
    {
     "name": "stdout",
     "output_type": "stream",
     "text": [
      "📂 D:\\DETECTION 1.0\\Celeb-DF\\aligned_faces_real\\id0_0001 | Total frames: 272\n"
     ]
    },
    {
     "name": "stderr",
     "output_type": "stream",
     "text": [
      "Processing id0_0001: 100%|██████████| 271/271 [00:04<00:00, 65.99it/s]\n"
     ]
    },
    {
     "name": "stdout",
     "output_type": "stream",
     "text": [
      "📂 D:\\DETECTION 1.0\\Celeb-DF\\aligned_faces_real\\id0_0002 | Total frames: 173\n"
     ]
    },
    {
     "name": "stderr",
     "output_type": "stream",
     "text": [
      "Processing id0_0002: 100%|██████████| 172/172 [00:02<00:00, 66.13it/s]\n"
     ]
    },
    {
     "name": "stdout",
     "output_type": "stream",
     "text": [
      "📂 D:\\DETECTION 1.0\\Celeb-DF\\aligned_faces_real\\id0_0003 | Total frames: 515\n"
     ]
    },
    {
     "name": "stderr",
     "output_type": "stream",
     "text": [
      "Processing id0_0003: 100%|██████████| 514/514 [00:07<00:00, 67.19it/s]\n"
     ]
    },
    {
     "name": "stdout",
     "output_type": "stream",
     "text": [
      "📂 D:\\DETECTION 1.0\\Celeb-DF\\aligned_faces_real\\id0_0004 | Total frames: 260\n"
     ]
    },
    {
     "name": "stderr",
     "output_type": "stream",
     "text": [
      "Processing id0_0004: 100%|██████████| 259/259 [00:03<00:00, 67.21it/s]\n"
     ]
    },
    {
     "name": "stdout",
     "output_type": "stream",
     "text": [
      "📂 D:\\DETECTION 1.0\\Celeb-DF\\aligned_faces_real\\id0_0005 | Total frames: 447\n"
     ]
    },
    {
     "name": "stderr",
     "output_type": "stream",
     "text": [
      "Processing id0_0005: 100%|██████████| 446/446 [00:06<00:00, 69.69it/s]\n"
     ]
    },
    {
     "name": "stdout",
     "output_type": "stream",
     "text": [
      "📂 D:\\DETECTION 1.0\\Celeb-DF\\aligned_faces_real\\id0_0006 | Total frames: 419\n"
     ]
    },
    {
     "name": "stderr",
     "output_type": "stream",
     "text": [
      "Processing id0_0006: 100%|██████████| 418/418 [00:06<00:00, 67.78it/s]\n"
     ]
    },
    {
     "name": "stdout",
     "output_type": "stream",
     "text": [
      "📂 D:\\DETECTION 1.0\\Celeb-DF\\aligned_faces_real\\id0_0007 | Total frames: 479\n"
     ]
    },
    {
     "name": "stderr",
     "output_type": "stream",
     "text": [
      "Processing id0_0007: 100%|██████████| 478/478 [00:07<00:00, 65.99it/s]\n"
     ]
    },
    {
     "name": "stdout",
     "output_type": "stream",
     "text": [
      "📂 D:\\DETECTION 1.0\\Celeb-DF\\aligned_faces_real\\id0_0008 | Total frames: 382\n"
     ]
    },
    {
     "name": "stderr",
     "output_type": "stream",
     "text": [
      "Processing id0_0008: 100%|██████████| 381/381 [00:05<00:00, 66.23it/s]\n"
     ]
    },
    {
     "name": "stdout",
     "output_type": "stream",
     "text": [
      "📂 D:\\DETECTION 1.0\\Celeb-DF\\aligned_faces_real\\id0_0009 | Total frames: 491\n"
     ]
    },
    {
     "name": "stderr",
     "output_type": "stream",
     "text": [
      "Processing id0_0009: 100%|██████████| 490/490 [00:07<00:00, 65.11it/s]\n"
     ]
    },
    {
     "name": "stdout",
     "output_type": "stream",
     "text": [
      "📂 D:\\DETECTION 1.0\\Celeb-DF\\aligned_faces_real\\id10_0000 | Total frames: 239\n"
     ]
    },
    {
     "name": "stderr",
     "output_type": "stream",
     "text": [
      "Processing id10_0000: 100%|██████████| 238/238 [00:03<00:00, 65.00it/s]\n"
     ]
    },
    {
     "name": "stdout",
     "output_type": "stream",
     "text": [
      "📂 D:\\DETECTION 1.0\\Celeb-DF\\aligned_faces_real\\id10_0001 | Total frames: 66\n"
     ]
    },
    {
     "name": "stderr",
     "output_type": "stream",
     "text": [
      "Processing id10_0001: 100%|██████████| 65/65 [00:01<00:00, 64.53it/s]\n"
     ]
    },
    {
     "name": "stdout",
     "output_type": "stream",
     "text": [
      "📂 D:\\DETECTION 1.0\\Celeb-DF\\aligned_faces_real\\id10_0002 | Total frames: 309\n"
     ]
    },
    {
     "name": "stderr",
     "output_type": "stream",
     "text": [
      "Processing id10_0002: 100%|██████████| 308/308 [00:04<00:00, 63.45it/s]\n"
     ]
    },
    {
     "name": "stdout",
     "output_type": "stream",
     "text": [
      "📂 D:\\DETECTION 1.0\\Celeb-DF\\aligned_faces_real\\id10_0003 | Total frames: 340\n"
     ]
    },
    {
     "name": "stderr",
     "output_type": "stream",
     "text": [
      "Processing id10_0003: 100%|██████████| 339/339 [00:05<00:00, 66.45it/s]\n"
     ]
    },
    {
     "name": "stdout",
     "output_type": "stream",
     "text": [
      "📂 D:\\DETECTION 1.0\\Celeb-DF\\aligned_faces_real\\id10_0004 | Total frames: 516\n"
     ]
    },
    {
     "name": "stderr",
     "output_type": "stream",
     "text": [
      "Processing id10_0004: 100%|██████████| 515/515 [00:07<00:00, 66.15it/s]\n"
     ]
    },
    {
     "name": "stdout",
     "output_type": "stream",
     "text": [
      "📂 D:\\DETECTION 1.0\\Celeb-DF\\aligned_faces_real\\id10_0005 | Total frames: 303\n"
     ]
    },
    {
     "name": "stderr",
     "output_type": "stream",
     "text": [
      "Processing id10_0005: 100%|██████████| 302/302 [00:04<00:00, 66.62it/s]\n"
     ]
    },
    {
     "name": "stdout",
     "output_type": "stream",
     "text": [
      "📂 D:\\DETECTION 1.0\\Celeb-DF\\aligned_faces_real\\id10_0006 | Total frames: 161\n"
     ]
    },
    {
     "name": "stderr",
     "output_type": "stream",
     "text": [
      "Processing id10_0006: 100%|██████████| 160/160 [00:02<00:00, 66.41it/s]\n"
     ]
    },
    {
     "name": "stdout",
     "output_type": "stream",
     "text": [
      "📂 D:\\DETECTION 1.0\\Celeb-DF\\aligned_faces_real\\id10_0007 | Total frames: 495\n"
     ]
    },
    {
     "name": "stderr",
     "output_type": "stream",
     "text": [
      "Processing id10_0007: 100%|██████████| 494/494 [00:07<00:00, 70.23it/s]\n"
     ]
    },
    {
     "name": "stdout",
     "output_type": "stream",
     "text": [
      "📂 D:\\DETECTION 1.0\\Celeb-DF\\aligned_faces_real\\id10_0008 | Total frames: 380\n"
     ]
    },
    {
     "name": "stderr",
     "output_type": "stream",
     "text": [
      "Processing id10_0008: 100%|██████████| 379/379 [00:05<00:00, 67.56it/s]\n"
     ]
    },
    {
     "name": "stdout",
     "output_type": "stream",
     "text": [
      "📂 D:\\DETECTION 1.0\\Celeb-DF\\aligned_faces_real\\id10_0009 | Total frames: 381\n"
     ]
    },
    {
     "name": "stderr",
     "output_type": "stream",
     "text": [
      "Processing id10_0009: 100%|██████████| 380/380 [00:05<00:00, 66.85it/s]\n"
     ]
    },
    {
     "name": "stdout",
     "output_type": "stream",
     "text": [
      "📂 D:\\DETECTION 1.0\\Celeb-DF\\aligned_faces_real\\id11_0000 | Total frames: 354\n"
     ]
    },
    {
     "name": "stderr",
     "output_type": "stream",
     "text": [
      "Processing id11_0000: 100%|██████████| 353/353 [00:05<00:00, 69.20it/s]\n"
     ]
    },
    {
     "name": "stdout",
     "output_type": "stream",
     "text": [
      "📂 D:\\DETECTION 1.0\\Celeb-DF\\aligned_faces_real\\id11_0001 | Total frames: 429\n"
     ]
    },
    {
     "name": "stderr",
     "output_type": "stream",
     "text": [
      "Processing id11_0001: 100%|██████████| 428/428 [00:06<00:00, 71.14it/s]\n"
     ]
    },
    {
     "name": "stdout",
     "output_type": "stream",
     "text": [
      "📂 D:\\DETECTION 1.0\\Celeb-DF\\aligned_faces_real\\id11_0002 | Total frames: 357\n"
     ]
    },
    {
     "name": "stderr",
     "output_type": "stream",
     "text": [
      "Processing id11_0002: 100%|██████████| 356/356 [00:05<00:00, 67.14it/s]\n"
     ]
    },
    {
     "name": "stdout",
     "output_type": "stream",
     "text": [
      "📂 D:\\DETECTION 1.0\\Celeb-DF\\aligned_faces_real\\id11_0003 | Total frames: 313\n"
     ]
    },
    {
     "name": "stderr",
     "output_type": "stream",
     "text": [
      "Processing id11_0003: 100%|██████████| 312/312 [00:04<00:00, 62.80it/s]\n"
     ]
    },
    {
     "name": "stdout",
     "output_type": "stream",
     "text": [
      "📂 D:\\DETECTION 1.0\\Celeb-DF\\aligned_faces_real\\id11_0004 | Total frames: 328\n"
     ]
    },
    {
     "name": "stderr",
     "output_type": "stream",
     "text": [
      "Processing id11_0004: 100%|██████████| 327/327 [00:05<00:00, 65.05it/s]\n"
     ]
    },
    {
     "name": "stdout",
     "output_type": "stream",
     "text": [
      "📂 D:\\DETECTION 1.0\\Celeb-DF\\aligned_faces_real\\id11_0005 | Total frames: 327\n"
     ]
    },
    {
     "name": "stderr",
     "output_type": "stream",
     "text": [
      "Processing id11_0005: 100%|██████████| 326/326 [00:05<00:00, 62.64it/s]\n"
     ]
    },
    {
     "name": "stdout",
     "output_type": "stream",
     "text": [
      "📂 D:\\DETECTION 1.0\\Celeb-DF\\aligned_faces_real\\id11_0006 | Total frames: 316\n"
     ]
    },
    {
     "name": "stderr",
     "output_type": "stream",
     "text": [
      "Processing id11_0006: 100%|██████████| 315/315 [00:05<00:00, 62.90it/s]\n"
     ]
    },
    {
     "name": "stdout",
     "output_type": "stream",
     "text": [
      "📂 D:\\DETECTION 1.0\\Celeb-DF\\aligned_faces_real\\id11_0007 | Total frames: 267\n"
     ]
    },
    {
     "name": "stderr",
     "output_type": "stream",
     "text": [
      "Processing id11_0007: 100%|██████████| 266/266 [00:04<00:00, 61.95it/s]\n"
     ]
    },
    {
     "name": "stdout",
     "output_type": "stream",
     "text": [
      "📂 D:\\DETECTION 1.0\\Celeb-DF\\aligned_faces_real\\id11_0008 | Total frames: 368\n"
     ]
    },
    {
     "name": "stderr",
     "output_type": "stream",
     "text": [
      "Processing id11_0008: 100%|██████████| 367/367 [00:05<00:00, 63.61it/s]\n"
     ]
    },
    {
     "name": "stdout",
     "output_type": "stream",
     "text": [
      "📂 D:\\DETECTION 1.0\\Celeb-DF\\aligned_faces_real\\id11_0009 | Total frames: 397\n"
     ]
    },
    {
     "name": "stderr",
     "output_type": "stream",
     "text": [
      "Processing id11_0009: 100%|██████████| 396/396 [00:06<00:00, 62.86it/s]\n"
     ]
    },
    {
     "name": "stdout",
     "output_type": "stream",
     "text": [
      "📂 D:\\DETECTION 1.0\\Celeb-DF\\aligned_faces_real\\id11_0010 | Total frames: 330\n"
     ]
    },
    {
     "name": "stderr",
     "output_type": "stream",
     "text": [
      "Processing id11_0010: 100%|██████████| 329/329 [00:05<00:00, 62.43it/s]\n"
     ]
    },
    {
     "name": "stdout",
     "output_type": "stream",
     "text": [
      "📂 D:\\DETECTION 1.0\\Celeb-DF\\aligned_faces_real\\id12_0000 | Total frames: 371\n"
     ]
    },
    {
     "name": "stderr",
     "output_type": "stream",
     "text": [
      "Processing id12_0000: 100%|██████████| 370/370 [00:05<00:00, 66.85it/s]\n"
     ]
    },
    {
     "name": "stdout",
     "output_type": "stream",
     "text": [
      "📂 D:\\DETECTION 1.0\\Celeb-DF\\aligned_faces_real\\id12_0001 | Total frames: 384\n"
     ]
    },
    {
     "name": "stderr",
     "output_type": "stream",
     "text": [
      "Processing id12_0001: 100%|██████████| 383/383 [00:06<00:00, 59.06it/s]\n"
     ]
    },
    {
     "name": "stdout",
     "output_type": "stream",
     "text": [
      "📂 D:\\DETECTION 1.0\\Celeb-DF\\aligned_faces_real\\id12_0002 | Total frames: 353\n"
     ]
    },
    {
     "name": "stderr",
     "output_type": "stream",
     "text": [
      "Processing id12_0002: 100%|██████████| 352/352 [00:05<00:00, 63.32it/s]\n"
     ]
    },
    {
     "name": "stdout",
     "output_type": "stream",
     "text": [
      "📂 D:\\DETECTION 1.0\\Celeb-DF\\aligned_faces_real\\id12_0003 | Total frames: 121\n"
     ]
    },
    {
     "name": "stderr",
     "output_type": "stream",
     "text": [
      "Processing id12_0003: 100%|██████████| 120/120 [00:01<00:00, 66.50it/s]\n"
     ]
    },
    {
     "name": "stdout",
     "output_type": "stream",
     "text": [
      "📂 D:\\DETECTION 1.0\\Celeb-DF\\aligned_faces_real\\id12_0004 | Total frames: 315\n"
     ]
    },
    {
     "name": "stderr",
     "output_type": "stream",
     "text": [
      "Processing id12_0004: 100%|██████████| 314/314 [00:04<00:00, 68.64it/s]\n"
     ]
    },
    {
     "name": "stdout",
     "output_type": "stream",
     "text": [
      "📂 D:\\DETECTION 1.0\\Celeb-DF\\aligned_faces_real\\id12_0005 | Total frames: 314\n"
     ]
    },
    {
     "name": "stderr",
     "output_type": "stream",
     "text": [
      "Processing id12_0005: 100%|██████████| 313/313 [00:04<00:00, 64.65it/s]\n"
     ]
    },
    {
     "name": "stdout",
     "output_type": "stream",
     "text": [
      "📂 D:\\DETECTION 1.0\\Celeb-DF\\aligned_faces_real\\id12_0006 | Total frames: 275\n"
     ]
    },
    {
     "name": "stderr",
     "output_type": "stream",
     "text": [
      "Processing id12_0006: 100%|██████████| 274/274 [00:05<00:00, 54.12it/s]\n"
     ]
    },
    {
     "name": "stdout",
     "output_type": "stream",
     "text": [
      "📂 D:\\DETECTION 1.0\\Celeb-DF\\aligned_faces_real\\id13_0000 | Total frames: 327\n"
     ]
    },
    {
     "name": "stderr",
     "output_type": "stream",
     "text": [
      "Processing id13_0000: 100%|██████████| 326/326 [00:05<00:00, 59.50it/s]\n"
     ]
    },
    {
     "name": "stdout",
     "output_type": "stream",
     "text": [
      "📂 D:\\DETECTION 1.0\\Celeb-DF\\aligned_faces_real\\id13_0001 | Total frames: 344\n"
     ]
    },
    {
     "name": "stderr",
     "output_type": "stream",
     "text": [
      "Processing id13_0001: 100%|██████████| 343/343 [00:05<00:00, 61.54it/s]\n"
     ]
    },
    {
     "name": "stdout",
     "output_type": "stream",
     "text": [
      "📂 D:\\DETECTION 1.0\\Celeb-DF\\aligned_faces_real\\id13_0002 | Total frames: 397\n"
     ]
    },
    {
     "name": "stderr",
     "output_type": "stream",
     "text": [
      "Processing id13_0002: 100%|██████████| 396/396 [00:06<00:00, 60.45it/s]\n"
     ]
    },
    {
     "name": "stdout",
     "output_type": "stream",
     "text": [
      "📂 D:\\DETECTION 1.0\\Celeb-DF\\aligned_faces_real\\id13_0003 | Total frames: 339\n"
     ]
    },
    {
     "name": "stderr",
     "output_type": "stream",
     "text": [
      "Processing id13_0003: 100%|██████████| 338/338 [00:14<00:00, 24.09it/s]\n"
     ]
    },
    {
     "name": "stdout",
     "output_type": "stream",
     "text": [
      "📂 D:\\DETECTION 1.0\\Celeb-DF\\aligned_faces_real\\id13_0004 | Total frames: 352\n"
     ]
    },
    {
     "name": "stderr",
     "output_type": "stream",
     "text": [
      "Processing id13_0004: 100%|██████████| 351/351 [00:14<00:00, 23.90it/s]\n"
     ]
    },
    {
     "name": "stdout",
     "output_type": "stream",
     "text": [
      "📂 D:\\DETECTION 1.0\\Celeb-DF\\aligned_faces_real\\id13_0005 | Total frames: 309\n"
     ]
    },
    {
     "name": "stderr",
     "output_type": "stream",
     "text": [
      "Processing id13_0005: 100%|██████████| 308/308 [00:12<00:00, 24.16it/s]\n"
     ]
    },
    {
     "name": "stdout",
     "output_type": "stream",
     "text": [
      "📂 D:\\DETECTION 1.0\\Celeb-DF\\aligned_faces_real\\id13_0006 | Total frames: 331\n"
     ]
    },
    {
     "name": "stderr",
     "output_type": "stream",
     "text": [
      "Processing id13_0006: 100%|██████████| 330/330 [00:14<00:00, 23.28it/s]\n"
     ]
    },
    {
     "name": "stdout",
     "output_type": "stream",
     "text": [
      "📂 D:\\DETECTION 1.0\\Celeb-DF\\aligned_faces_real\\id13_0007 | Total frames: 446\n"
     ]
    },
    {
     "name": "stderr",
     "output_type": "stream",
     "text": [
      "Processing id13_0007: 100%|██████████| 445/445 [00:19<00:00, 23.01it/s]\n"
     ]
    },
    {
     "name": "stdout",
     "output_type": "stream",
     "text": [
      "📂 D:\\DETECTION 1.0\\Celeb-DF\\aligned_faces_real\\id13_0008 | Total frames: 459\n"
     ]
    },
    {
     "name": "stderr",
     "output_type": "stream",
     "text": [
      "Processing id13_0008: 100%|██████████| 458/458 [00:19<00:00, 23.42it/s]\n"
     ]
    },
    {
     "name": "stdout",
     "output_type": "stream",
     "text": [
      "📂 D:\\DETECTION 1.0\\Celeb-DF\\aligned_faces_real\\id13_0009 | Total frames: 435\n"
     ]
    },
    {
     "name": "stderr",
     "output_type": "stream",
     "text": [
      "Processing id13_0009: 100%|██████████| 434/434 [00:22<00:00, 19.18it/s]\n"
     ]
    },
    {
     "name": "stdout",
     "output_type": "stream",
     "text": [
      "📂 D:\\DETECTION 1.0\\Celeb-DF\\aligned_faces_real\\id13_0010 | Total frames: 332\n"
     ]
    },
    {
     "name": "stderr",
     "output_type": "stream",
     "text": [
      "Processing id13_0010: 100%|██████████| 331/331 [00:14<00:00, 23.54it/s]\n"
     ]
    },
    {
     "name": "stdout",
     "output_type": "stream",
     "text": [
      "📂 D:\\DETECTION 1.0\\Celeb-DF\\aligned_faces_real\\id13_0011 | Total frames: 466\n"
     ]
    },
    {
     "name": "stderr",
     "output_type": "stream",
     "text": [
      "Processing id13_0011: 100%|██████████| 465/465 [00:20<00:00, 22.72it/s]\n"
     ]
    },
    {
     "name": "stdout",
     "output_type": "stream",
     "text": [
      "📂 D:\\DETECTION 1.0\\Celeb-DF\\aligned_faces_real\\id13_0012 | Total frames: 494\n"
     ]
    },
    {
     "name": "stderr",
     "output_type": "stream",
     "text": [
      "Processing id13_0012: 100%|██████████| 493/493 [00:21<00:00, 23.21it/s]\n"
     ]
    },
    {
     "name": "stdout",
     "output_type": "stream",
     "text": [
      "📂 D:\\DETECTION 1.0\\Celeb-DF\\aligned_faces_real\\id13_0013 | Total frames: 338\n"
     ]
    },
    {
     "name": "stderr",
     "output_type": "stream",
     "text": [
      "Processing id13_0013: 100%|██████████| 337/337 [00:14<00:00, 23.92it/s]\n"
     ]
    },
    {
     "name": "stdout",
     "output_type": "stream",
     "text": [
      "📂 D:\\DETECTION 1.0\\Celeb-DF\\aligned_faces_real\\id13_0014 | Total frames: 390\n"
     ]
    },
    {
     "name": "stderr",
     "output_type": "stream",
     "text": [
      "Processing id13_0014: 100%|██████████| 389/389 [00:17<00:00, 22.71it/s]\n"
     ]
    },
    {
     "name": "stdout",
     "output_type": "stream",
     "text": [
      "📂 D:\\DETECTION 1.0\\Celeb-DF\\aligned_faces_real\\id13_0015 | Total frames: 487\n"
     ]
    },
    {
     "name": "stderr",
     "output_type": "stream",
     "text": [
      "Processing id13_0015: 100%|██████████| 486/486 [00:21<00:00, 22.38it/s]\n"
     ]
    },
    {
     "name": "stdout",
     "output_type": "stream",
     "text": [
      "📂 D:\\DETECTION 1.0\\Celeb-DF\\aligned_faces_real\\id16_0000 | Total frames: 317\n"
     ]
    },
    {
     "name": "stderr",
     "output_type": "stream",
     "text": [
      "Processing id16_0000: 100%|██████████| 316/316 [00:13<00:00, 23.40it/s]\n"
     ]
    },
    {
     "name": "stdout",
     "output_type": "stream",
     "text": [
      "📂 D:\\DETECTION 1.0\\Celeb-DF\\aligned_faces_real\\id16_0001 | Total frames: 313\n"
     ]
    },
    {
     "name": "stderr",
     "output_type": "stream",
     "text": [
      "Processing id16_0001: 100%|██████████| 312/312 [00:13<00:00, 23.72it/s]\n"
     ]
    },
    {
     "name": "stdout",
     "output_type": "stream",
     "text": [
      "📂 D:\\DETECTION 1.0\\Celeb-DF\\aligned_faces_real\\id16_0002 | Total frames: 334\n"
     ]
    },
    {
     "name": "stderr",
     "output_type": "stream",
     "text": [
      "Processing id16_0002: 100%|██████████| 333/333 [00:14<00:00, 23.77it/s]\n"
     ]
    },
    {
     "name": "stdout",
     "output_type": "stream",
     "text": [
      "📂 D:\\DETECTION 1.0\\Celeb-DF\\aligned_faces_real\\id16_0003 | Total frames: 269\n"
     ]
    },
    {
     "name": "stderr",
     "output_type": "stream",
     "text": [
      "Processing id16_0003: 100%|██████████| 268/268 [00:11<00:00, 23.47it/s]\n"
     ]
    },
    {
     "name": "stdout",
     "output_type": "stream",
     "text": [
      "📂 D:\\DETECTION 1.0\\Celeb-DF\\aligned_faces_real\\id16_0004 | Total frames: 258\n"
     ]
    },
    {
     "name": "stderr",
     "output_type": "stream",
     "text": [
      "Processing id16_0004: 100%|██████████| 257/257 [00:11<00:00, 22.33it/s]\n"
     ]
    },
    {
     "name": "stdout",
     "output_type": "stream",
     "text": [
      "📂 D:\\DETECTION 1.0\\Celeb-DF\\aligned_faces_real\\id16_0005 | Total frames: 315\n"
     ]
    },
    {
     "name": "stderr",
     "output_type": "stream",
     "text": [
      "Processing id16_0005: 100%|██████████| 314/314 [00:13<00:00, 23.06it/s]\n"
     ]
    },
    {
     "name": "stdout",
     "output_type": "stream",
     "text": [
      "📂 D:\\DETECTION 1.0\\Celeb-DF\\aligned_faces_real\\id16_0006 | Total frames: 224\n"
     ]
    },
    {
     "name": "stderr",
     "output_type": "stream",
     "text": [
      "Processing id16_0006: 100%|██████████| 223/223 [00:09<00:00, 22.57it/s]\n"
     ]
    },
    {
     "name": "stdout",
     "output_type": "stream",
     "text": [
      "📂 D:\\DETECTION 1.0\\Celeb-DF\\aligned_faces_real\\id16_0007 | Total frames: 284\n"
     ]
    },
    {
     "name": "stderr",
     "output_type": "stream",
     "text": [
      "Processing id16_0007: 100%|██████████| 283/283 [00:12<00:00, 22.88it/s]\n"
     ]
    },
    {
     "name": "stdout",
     "output_type": "stream",
     "text": [
      "📂 D:\\DETECTION 1.0\\Celeb-DF\\aligned_faces_real\\id16_0008 | Total frames: 305\n"
     ]
    },
    {
     "name": "stderr",
     "output_type": "stream",
     "text": [
      "Processing id16_0008: 100%|██████████| 304/304 [00:13<00:00, 22.20it/s]\n"
     ]
    },
    {
     "name": "stdout",
     "output_type": "stream",
     "text": [
      "📂 D:\\DETECTION 1.0\\Celeb-DF\\aligned_faces_real\\id16_0009 | Total frames: 313\n"
     ]
    },
    {
     "name": "stderr",
     "output_type": "stream",
     "text": [
      "Processing id16_0009: 100%|██████████| 312/312 [00:13<00:00, 23.19it/s]\n"
     ]
    },
    {
     "name": "stdout",
     "output_type": "stream",
     "text": [
      "📂 D:\\DETECTION 1.0\\Celeb-DF\\aligned_faces_real\\id16_0010 | Total frames: 297\n"
     ]
    },
    {
     "name": "stderr",
     "output_type": "stream",
     "text": [
      "Processing id16_0010: 100%|██████████| 296/296 [00:12<00:00, 23.23it/s]\n"
     ]
    },
    {
     "name": "stdout",
     "output_type": "stream",
     "text": [
      "📂 D:\\DETECTION 1.0\\Celeb-DF\\aligned_faces_real\\id16_0011 | Total frames: 272\n"
     ]
    },
    {
     "name": "stderr",
     "output_type": "stream",
     "text": [
      "Processing id16_0011: 100%|██████████| 271/271 [00:11<00:00, 23.09it/s]\n"
     ]
    },
    {
     "name": "stdout",
     "output_type": "stream",
     "text": [
      "📂 D:\\DETECTION 1.0\\Celeb-DF\\aligned_faces_real\\id16_0012 | Total frames: 105\n"
     ]
    },
    {
     "name": "stderr",
     "output_type": "stream",
     "text": [
      "Processing id16_0012: 100%|██████████| 104/104 [00:04<00:00, 23.16it/s]\n"
     ]
    },
    {
     "name": "stdout",
     "output_type": "stream",
     "text": [
      "📂 D:\\DETECTION 1.0\\Celeb-DF\\aligned_faces_real\\id16_0013 | Total frames: 311\n"
     ]
    },
    {
     "name": "stderr",
     "output_type": "stream",
     "text": [
      "Processing id16_0013: 100%|██████████| 310/310 [00:13<00:00, 23.74it/s]\n"
     ]
    },
    {
     "name": "stdout",
     "output_type": "stream",
     "text": [
      "📂 D:\\DETECTION 1.0\\Celeb-DF\\aligned_faces_real\\id17_0000 | Total frames: 305\n"
     ]
    },
    {
     "name": "stderr",
     "output_type": "stream",
     "text": [
      "Processing id17_0000: 100%|██████████| 304/304 [00:13<00:00, 23.08it/s]\n"
     ]
    },
    {
     "name": "stdout",
     "output_type": "stream",
     "text": [
      "📂 D:\\DETECTION 1.0\\Celeb-DF\\aligned_faces_real\\id17_0001 | Total frames: 315\n"
     ]
    },
    {
     "name": "stderr",
     "output_type": "stream",
     "text": [
      "Processing id17_0001: 100%|██████████| 314/314 [00:13<00:00, 23.33it/s]\n"
     ]
    },
    {
     "name": "stdout",
     "output_type": "stream",
     "text": [
      "📂 D:\\DETECTION 1.0\\Celeb-DF\\aligned_faces_real\\id17_0002 | Total frames: 334\n"
     ]
    },
    {
     "name": "stderr",
     "output_type": "stream",
     "text": [
      "Processing id17_0002: 100%|██████████| 333/333 [00:15<00:00, 21.51it/s]\n"
     ]
    },
    {
     "name": "stdout",
     "output_type": "stream",
     "text": [
      "📂 D:\\DETECTION 1.0\\Celeb-DF\\aligned_faces_real\\id17_0003 | Total frames: 247\n"
     ]
    },
    {
     "name": "stderr",
     "output_type": "stream",
     "text": [
      "Processing id17_0003: 100%|██████████| 246/246 [00:03<00:00, 68.34it/s]\n"
     ]
    },
    {
     "name": "stdout",
     "output_type": "stream",
     "text": [
      "📂 D:\\DETECTION 1.0\\Celeb-DF\\aligned_faces_real\\id17_0004 | Total frames: 306\n"
     ]
    },
    {
     "name": "stderr",
     "output_type": "stream",
     "text": [
      "Processing id17_0004: 100%|██████████| 305/305 [00:05<00:00, 56.33it/s]\n"
     ]
    },
    {
     "name": "stdout",
     "output_type": "stream",
     "text": [
      "📂 D:\\DETECTION 1.0\\Celeb-DF\\aligned_faces_real\\id17_0005 | Total frames: 289\n"
     ]
    },
    {
     "name": "stderr",
     "output_type": "stream",
     "text": [
      "Processing id17_0005: 100%|██████████| 288/288 [00:05<00:00, 57.01it/s]\n"
     ]
    },
    {
     "name": "stdout",
     "output_type": "stream",
     "text": [
      "📂 D:\\DETECTION 1.0\\Celeb-DF\\aligned_faces_real\\id17_0006 | Total frames: 201\n"
     ]
    },
    {
     "name": "stderr",
     "output_type": "stream",
     "text": [
      "Processing id17_0006: 100%|██████████| 200/200 [00:03<00:00, 61.77it/s]\n"
     ]
    },
    {
     "name": "stdout",
     "output_type": "stream",
     "text": [
      "📂 D:\\DETECTION 1.0\\Celeb-DF\\aligned_faces_real\\id17_0007 | Total frames: 270\n"
     ]
    },
    {
     "name": "stderr",
     "output_type": "stream",
     "text": [
      "Processing id17_0007: 100%|██████████| 269/269 [00:04<00:00, 64.02it/s]\n"
     ]
    },
    {
     "name": "stdout",
     "output_type": "stream",
     "text": [
      "📂 D:\\DETECTION 1.0\\Celeb-DF\\aligned_faces_real\\id17_0008 | Total frames: 90\n"
     ]
    },
    {
     "name": "stderr",
     "output_type": "stream",
     "text": [
      "Processing id17_0008: 100%|██████████| 89/89 [00:01<00:00, 65.54it/s]\n"
     ]
    },
    {
     "name": "stdout",
     "output_type": "stream",
     "text": [
      "📂 D:\\DETECTION 1.0\\Celeb-DF\\aligned_faces_real\\id17_0009 | Total frames: 282\n"
     ]
    },
    {
     "name": "stderr",
     "output_type": "stream",
     "text": [
      "Processing id17_0009: 100%|██████████| 281/281 [00:04<00:00, 66.05it/s]\n"
     ]
    },
    {
     "name": "stdout",
     "output_type": "stream",
     "text": [
      "📂 D:\\DETECTION 1.0\\Celeb-DF\\aligned_faces_real\\id1_0000 | Total frames: 365\n"
     ]
    },
    {
     "name": "stderr",
     "output_type": "stream",
     "text": [
      "Processing id1_0000: 100%|██████████| 364/364 [00:05<00:00, 69.35it/s]\n"
     ]
    },
    {
     "name": "stdout",
     "output_type": "stream",
     "text": [
      "📂 D:\\DETECTION 1.0\\Celeb-DF\\aligned_faces_real\\id1_0001 | Total frames: 272\n"
     ]
    },
    {
     "name": "stderr",
     "output_type": "stream",
     "text": [
      "Processing id1_0001: 100%|██████████| 271/271 [00:04<00:00, 66.62it/s]\n"
     ]
    },
    {
     "name": "stdout",
     "output_type": "stream",
     "text": [
      "📂 D:\\DETECTION 1.0\\Celeb-DF\\aligned_faces_real\\id1_0002 | Total frames: 400\n"
     ]
    },
    {
     "name": "stderr",
     "output_type": "stream",
     "text": [
      "Processing id1_0002: 100%|██████████| 399/399 [00:05<00:00, 69.58it/s]\n"
     ]
    },
    {
     "name": "stdout",
     "output_type": "stream",
     "text": [
      "📂 D:\\DETECTION 1.0\\Celeb-DF\\aligned_faces_real\\id1_0003 | Total frames: 451\n"
     ]
    },
    {
     "name": "stderr",
     "output_type": "stream",
     "text": [
      "Processing id1_0003: 100%|██████████| 450/450 [00:06<00:00, 68.47it/s]\n"
     ]
    },
    {
     "name": "stdout",
     "output_type": "stream",
     "text": [
      "📂 D:\\DETECTION 1.0\\Celeb-DF\\aligned_faces_real\\id1_0004 | Total frames: 409\n"
     ]
    },
    {
     "name": "stderr",
     "output_type": "stream",
     "text": [
      "Processing id1_0004: 100%|██████████| 408/408 [00:06<00:00, 66.18it/s]\n"
     ]
    },
    {
     "name": "stdout",
     "output_type": "stream",
     "text": [
      "📂 D:\\DETECTION 1.0\\Celeb-DF\\aligned_faces_real\\id1_0005 | Total frames: 422\n"
     ]
    },
    {
     "name": "stderr",
     "output_type": "stream",
     "text": [
      "Processing id1_0005: 100%|██████████| 421/421 [00:06<00:00, 67.57it/s]\n"
     ]
    },
    {
     "name": "stdout",
     "output_type": "stream",
     "text": [
      "📂 D:\\DETECTION 1.0\\Celeb-DF\\aligned_faces_real\\id1_0006 | Total frames: 505\n"
     ]
    },
    {
     "name": "stderr",
     "output_type": "stream",
     "text": [
      "Processing id1_0006: 100%|██████████| 504/504 [00:07<00:00, 68.46it/s]\n"
     ]
    },
    {
     "name": "stdout",
     "output_type": "stream",
     "text": [
      "📂 D:\\DETECTION 1.0\\Celeb-DF\\aligned_faces_real\\id1_0007 | Total frames: 328\n"
     ]
    },
    {
     "name": "stderr",
     "output_type": "stream",
     "text": [
      "Processing id1_0007: 100%|██████████| 327/327 [00:04<00:00, 67.45it/s]\n"
     ]
    },
    {
     "name": "stdout",
     "output_type": "stream",
     "text": [
      "📂 D:\\DETECTION 1.0\\Celeb-DF\\aligned_faces_real\\id1_0008 | Total frames: 519\n"
     ]
    },
    {
     "name": "stderr",
     "output_type": "stream",
     "text": [
      "Processing id1_0008: 100%|██████████| 518/518 [00:07<00:00, 67.80it/s]\n"
     ]
    },
    {
     "name": "stdout",
     "output_type": "stream",
     "text": [
      "📂 D:\\DETECTION 1.0\\Celeb-DF\\aligned_faces_real\\id1_0009 | Total frames: 412\n"
     ]
    },
    {
     "name": "stderr",
     "output_type": "stream",
     "text": [
      "Processing id1_0009: 100%|██████████| 411/411 [00:06<00:00, 64.16it/s]\n"
     ]
    },
    {
     "name": "stdout",
     "output_type": "stream",
     "text": [
      "📂 D:\\DETECTION 1.0\\Celeb-DF\\aligned_faces_real\\id2_0000 | Total frames: 445\n"
     ]
    },
    {
     "name": "stderr",
     "output_type": "stream",
     "text": [
      "Processing id2_0000: 100%|██████████| 444/444 [00:06<00:00, 65.93it/s]\n"
     ]
    },
    {
     "name": "stdout",
     "output_type": "stream",
     "text": [
      "📂 D:\\DETECTION 1.0\\Celeb-DF\\aligned_faces_real\\id2_0001 | Total frames: 376\n"
     ]
    },
    {
     "name": "stderr",
     "output_type": "stream",
     "text": [
      "Processing id2_0001: 100%|██████████| 375/375 [00:05<00:00, 68.76it/s]\n"
     ]
    },
    {
     "name": "stdout",
     "output_type": "stream",
     "text": [
      "📂 D:\\DETECTION 1.0\\Celeb-DF\\aligned_faces_real\\id2_0002 | Total frames: 361\n"
     ]
    },
    {
     "name": "stderr",
     "output_type": "stream",
     "text": [
      "Processing id2_0002: 100%|██████████| 360/360 [00:05<00:00, 66.71it/s]\n"
     ]
    },
    {
     "name": "stdout",
     "output_type": "stream",
     "text": [
      "📂 D:\\DETECTION 1.0\\Celeb-DF\\aligned_faces_real\\id2_0003 | Total frames: 383\n"
     ]
    },
    {
     "name": "stderr",
     "output_type": "stream",
     "text": [
      "Processing id2_0003: 100%|██████████| 382/382 [00:05<00:00, 67.67it/s]\n"
     ]
    },
    {
     "name": "stdout",
     "output_type": "stream",
     "text": [
      "📂 D:\\DETECTION 1.0\\Celeb-DF\\aligned_faces_real\\id2_0004 | Total frames: 425\n"
     ]
    },
    {
     "name": "stderr",
     "output_type": "stream",
     "text": [
      "Processing id2_0004: 100%|██████████| 424/424 [00:06<00:00, 65.45it/s]\n"
     ]
    },
    {
     "name": "stdout",
     "output_type": "stream",
     "text": [
      "📂 D:\\DETECTION 1.0\\Celeb-DF\\aligned_faces_real\\id2_0005 | Total frames: 307\n"
     ]
    },
    {
     "name": "stderr",
     "output_type": "stream",
     "text": [
      "Processing id2_0005: 100%|██████████| 306/306 [00:04<00:00, 70.06it/s]\n"
     ]
    },
    {
     "name": "stdout",
     "output_type": "stream",
     "text": [
      "📂 D:\\DETECTION 1.0\\Celeb-DF\\aligned_faces_real\\id2_0006 | Total frames: 380\n"
     ]
    },
    {
     "name": "stderr",
     "output_type": "stream",
     "text": [
      "Processing id2_0006: 100%|██████████| 379/379 [00:05<00:00, 67.67it/s]\n"
     ]
    },
    {
     "name": "stdout",
     "output_type": "stream",
     "text": [
      "📂 D:\\DETECTION 1.0\\Celeb-DF\\aligned_faces_real\\id2_0007 | Total frames: 470\n"
     ]
    },
    {
     "name": "stderr",
     "output_type": "stream",
     "text": [
      "Processing id2_0007: 100%|██████████| 469/469 [00:07<00:00, 65.20it/s]\n"
     ]
    },
    {
     "name": "stdout",
     "output_type": "stream",
     "text": [
      "📂 D:\\DETECTION 1.0\\Celeb-DF\\aligned_faces_real\\id2_0008 | Total frames: 510\n"
     ]
    },
    {
     "name": "stderr",
     "output_type": "stream",
     "text": [
      "Processing id2_0008: 100%|██████████| 509/509 [00:07<00:00, 67.61it/s]\n"
     ]
    },
    {
     "name": "stdout",
     "output_type": "stream",
     "text": [
      "📂 D:\\DETECTION 1.0\\Celeb-DF\\aligned_faces_real\\id2_0009 | Total frames: 322\n"
     ]
    },
    {
     "name": "stderr",
     "output_type": "stream",
     "text": [
      "Processing id2_0009: 100%|██████████| 321/321 [00:04<00:00, 68.82it/s]\n"
     ]
    },
    {
     "name": "stdout",
     "output_type": "stream",
     "text": [
      "📂 D:\\DETECTION 1.0\\Celeb-DF\\aligned_faces_real\\id3_0000 | Total frames: 458\n"
     ]
    },
    {
     "name": "stderr",
     "output_type": "stream",
     "text": [
      "Processing id3_0000: 100%|██████████| 457/457 [00:07<00:00, 58.43it/s]\n"
     ]
    },
    {
     "name": "stdout",
     "output_type": "stream",
     "text": [
      "📂 D:\\DETECTION 1.0\\Celeb-DF\\aligned_faces_real\\id3_0001 | Total frames: 380\n"
     ]
    },
    {
     "name": "stderr",
     "output_type": "stream",
     "text": [
      "Processing id3_0001: 100%|██████████| 379/379 [00:05<00:00, 70.38it/s]\n"
     ]
    },
    {
     "name": "stdout",
     "output_type": "stream",
     "text": [
      "📂 D:\\DETECTION 1.0\\Celeb-DF\\aligned_faces_real\\id3_0002 | Total frames: 428\n"
     ]
    },
    {
     "name": "stderr",
     "output_type": "stream",
     "text": [
      "Processing id3_0002: 100%|██████████| 427/427 [00:06<00:00, 64.78it/s]\n"
     ]
    },
    {
     "name": "stdout",
     "output_type": "stream",
     "text": [
      "📂 D:\\DETECTION 1.0\\Celeb-DF\\aligned_faces_real\\id3_0003 | Total frames: 372\n"
     ]
    },
    {
     "name": "stderr",
     "output_type": "stream",
     "text": [
      "Processing id3_0003: 100%|██████████| 371/371 [00:06<00:00, 58.22it/s]\n"
     ]
    },
    {
     "name": "stdout",
     "output_type": "stream",
     "text": [
      "📂 D:\\DETECTION 1.0\\Celeb-DF\\aligned_faces_real\\id3_0004 | Total frames: 499\n"
     ]
    },
    {
     "name": "stderr",
     "output_type": "stream",
     "text": [
      "Processing id3_0004: 100%|██████████| 498/498 [00:08<00:00, 60.19it/s]\n"
     ]
    },
    {
     "name": "stdout",
     "output_type": "stream",
     "text": [
      "📂 D:\\DETECTION 1.0\\Celeb-DF\\aligned_faces_real\\id3_0005 | Total frames: 398\n"
     ]
    },
    {
     "name": "stderr",
     "output_type": "stream",
     "text": [
      "Processing id3_0005: 100%|██████████| 397/397 [00:06<00:00, 65.28it/s]\n"
     ]
    },
    {
     "name": "stdout",
     "output_type": "stream",
     "text": [
      "📂 D:\\DETECTION 1.0\\Celeb-DF\\aligned_faces_real\\id3_0006 | Total frames: 409\n"
     ]
    },
    {
     "name": "stderr",
     "output_type": "stream",
     "text": [
      "Processing id3_0006: 100%|██████████| 408/408 [00:06<00:00, 59.80it/s]\n"
     ]
    },
    {
     "name": "stdout",
     "output_type": "stream",
     "text": [
      "📂 D:\\DETECTION 1.0\\Celeb-DF\\aligned_faces_real\\id3_0007 | Total frames: 361\n"
     ]
    },
    {
     "name": "stderr",
     "output_type": "stream",
     "text": [
      "Processing id3_0007: 100%|██████████| 360/360 [00:06<00:00, 59.92it/s]\n"
     ]
    },
    {
     "name": "stdout",
     "output_type": "stream",
     "text": [
      "📂 D:\\DETECTION 1.0\\Celeb-DF\\aligned_faces_real\\id3_0008 | Total frames: 458\n"
     ]
    },
    {
     "name": "stderr",
     "output_type": "stream",
     "text": [
      "Processing id3_0008: 100%|██████████| 457/457 [00:07<00:00, 63.01it/s]\n"
     ]
    },
    {
     "name": "stdout",
     "output_type": "stream",
     "text": [
      "📂 D:\\DETECTION 1.0\\Celeb-DF\\aligned_faces_real\\id3_0009 | Total frames: 486\n"
     ]
    },
    {
     "name": "stderr",
     "output_type": "stream",
     "text": [
      "Processing id3_0009: 100%|██████████| 485/485 [00:07<00:00, 65.59it/s]\n"
     ]
    },
    {
     "name": "stdout",
     "output_type": "stream",
     "text": [
      "📂 D:\\DETECTION 1.0\\Celeb-DF\\aligned_faces_real\\id4_0000 | Total frames: 364\n"
     ]
    },
    {
     "name": "stderr",
     "output_type": "stream",
     "text": [
      "Processing id4_0000: 100%|██████████| 363/363 [00:05<00:00, 64.57it/s]\n"
     ]
    },
    {
     "name": "stdout",
     "output_type": "stream",
     "text": [
      "📂 D:\\DETECTION 1.0\\Celeb-DF\\aligned_faces_real\\id4_0001 | Total frames: 49\n"
     ]
    },
    {
     "name": "stderr",
     "output_type": "stream",
     "text": [
      "Processing id4_0001: 100%|██████████| 48/48 [00:00<00:00, 65.19it/s]\n"
     ]
    },
    {
     "name": "stdout",
     "output_type": "stream",
     "text": [
      "📂 D:\\DETECTION 1.0\\Celeb-DF\\aligned_faces_real\\id4_0002 | Total frames: 392\n"
     ]
    },
    {
     "name": "stderr",
     "output_type": "stream",
     "text": [
      "Processing id4_0002: 100%|██████████| 391/391 [00:06<00:00, 63.66it/s]\n"
     ]
    },
    {
     "name": "stdout",
     "output_type": "stream",
     "text": [
      "📂 D:\\DETECTION 1.0\\Celeb-DF\\aligned_faces_real\\id4_0003 | Total frames: 403\n"
     ]
    },
    {
     "name": "stderr",
     "output_type": "stream",
     "text": [
      "Processing id4_0003: 100%|██████████| 402/402 [00:06<00:00, 58.20it/s]\n"
     ]
    },
    {
     "name": "stdout",
     "output_type": "stream",
     "text": [
      "📂 D:\\DETECTION 1.0\\Celeb-DF\\aligned_faces_real\\id4_0004 | Total frames: 401\n"
     ]
    },
    {
     "name": "stderr",
     "output_type": "stream",
     "text": [
      "Processing id4_0004: 100%|██████████| 400/400 [00:06<00:00, 64.84it/s]\n"
     ]
    },
    {
     "name": "stdout",
     "output_type": "stream",
     "text": [
      "📂 D:\\DETECTION 1.0\\Celeb-DF\\aligned_faces_real\\id4_0005 | Total frames: 107\n"
     ]
    },
    {
     "name": "stderr",
     "output_type": "stream",
     "text": [
      "Processing id4_0005: 100%|██████████| 106/106 [00:01<00:00, 62.92it/s]\n"
     ]
    },
    {
     "name": "stdout",
     "output_type": "stream",
     "text": [
      "📂 D:\\DETECTION 1.0\\Celeb-DF\\aligned_faces_real\\id4_0006 | Total frames: 304\n"
     ]
    },
    {
     "name": "stderr",
     "output_type": "stream",
     "text": [
      "Processing id4_0006: 100%|██████████| 303/303 [00:04<00:00, 63.48it/s]\n"
     ]
    },
    {
     "name": "stdout",
     "output_type": "stream",
     "text": [
      "📂 D:\\DETECTION 1.0\\Celeb-DF\\aligned_faces_real\\id4_0007 | Total frames: 423\n"
     ]
    },
    {
     "name": "stderr",
     "output_type": "stream",
     "text": [
      "Processing id4_0007: 100%|██████████| 422/422 [00:07<00:00, 58.59it/s]\n"
     ]
    },
    {
     "name": "stdout",
     "output_type": "stream",
     "text": [
      "📂 D:\\DETECTION 1.0\\Celeb-DF\\aligned_faces_real\\id4_0008 | Total frames: 260\n"
     ]
    },
    {
     "name": "stderr",
     "output_type": "stream",
     "text": [
      "Processing id4_0008: 100%|██████████| 259/259 [00:04<00:00, 61.16it/s]\n"
     ]
    },
    {
     "name": "stdout",
     "output_type": "stream",
     "text": [
      "📂 D:\\DETECTION 1.0\\Celeb-DF\\aligned_faces_real\\id4_0009 | Total frames: 353\n"
     ]
    },
    {
     "name": "stderr",
     "output_type": "stream",
     "text": [
      "Processing id4_0009: 100%|██████████| 352/352 [00:05<00:00, 64.19it/s]\n"
     ]
    },
    {
     "name": "stdout",
     "output_type": "stream",
     "text": [
      "📂 D:\\DETECTION 1.0\\Celeb-DF\\aligned_faces_real\\id6_0000 | Total frames: 533\n"
     ]
    },
    {
     "name": "stderr",
     "output_type": "stream",
     "text": [
      "Processing id6_0000: 100%|██████████| 532/532 [00:08<00:00, 61.31it/s]\n"
     ]
    },
    {
     "name": "stdout",
     "output_type": "stream",
     "text": [
      "📂 D:\\DETECTION 1.0\\Celeb-DF\\aligned_faces_real\\id6_0001 | Total frames: 298\n"
     ]
    },
    {
     "name": "stderr",
     "output_type": "stream",
     "text": [
      "Processing id6_0001: 100%|██████████| 297/297 [00:04<00:00, 64.76it/s]\n"
     ]
    },
    {
     "name": "stdout",
     "output_type": "stream",
     "text": [
      "📂 D:\\DETECTION 1.0\\Celeb-DF\\aligned_faces_real\\id6_0002 | Total frames: 544\n"
     ]
    },
    {
     "name": "stderr",
     "output_type": "stream",
     "text": [
      "Processing id6_0002: 100%|██████████| 543/543 [00:08<00:00, 64.62it/s]\n"
     ]
    },
    {
     "name": "stdout",
     "output_type": "stream",
     "text": [
      "📂 D:\\DETECTION 1.0\\Celeb-DF\\aligned_faces_real\\id6_0003 | Total frames: 369\n"
     ]
    },
    {
     "name": "stderr",
     "output_type": "stream",
     "text": [
      "Processing id6_0003: 100%|██████████| 368/368 [00:06<00:00, 59.31it/s]\n"
     ]
    },
    {
     "name": "stdout",
     "output_type": "stream",
     "text": [
      "📂 D:\\DETECTION 1.0\\Celeb-DF\\aligned_faces_real\\id6_0004 | Total frames: 331\n"
     ]
    },
    {
     "name": "stderr",
     "output_type": "stream",
     "text": [
      "Processing id6_0004: 100%|██████████| 330/330 [00:05<00:00, 64.24it/s]\n"
     ]
    },
    {
     "name": "stdout",
     "output_type": "stream",
     "text": [
      "📂 D:\\DETECTION 1.0\\Celeb-DF\\aligned_faces_real\\id6_0005 | Total frames: 366\n"
     ]
    },
    {
     "name": "stderr",
     "output_type": "stream",
     "text": [
      "Processing id6_0005: 100%|██████████| 365/365 [00:05<00:00, 61.27it/s]\n"
     ]
    },
    {
     "name": "stdout",
     "output_type": "stream",
     "text": [
      "📂 D:\\DETECTION 1.0\\Celeb-DF\\aligned_faces_real\\id6_0006 | Total frames: 281\n"
     ]
    },
    {
     "name": "stderr",
     "output_type": "stream",
     "text": [
      "Processing id6_0006: 100%|██████████| 280/280 [00:04<00:00, 59.31it/s]\n"
     ]
    },
    {
     "name": "stdout",
     "output_type": "stream",
     "text": [
      "📂 D:\\DETECTION 1.0\\Celeb-DF\\aligned_faces_real\\id6_0007 | Total frames: 449\n"
     ]
    },
    {
     "name": "stderr",
     "output_type": "stream",
     "text": [
      "Processing id6_0007: 100%|██████████| 448/448 [00:07<00:00, 56.49it/s]\n"
     ]
    },
    {
     "name": "stdout",
     "output_type": "stream",
     "text": [
      "📂 D:\\DETECTION 1.0\\Celeb-DF\\aligned_faces_real\\id6_0008 | Total frames: 381\n"
     ]
    },
    {
     "name": "stderr",
     "output_type": "stream",
     "text": [
      "Processing id6_0008: 100%|██████████| 380/380 [00:06<00:00, 59.12it/s]\n"
     ]
    },
    {
     "name": "stdout",
     "output_type": "stream",
     "text": [
      "📂 D:\\DETECTION 1.0\\Celeb-DF\\aligned_faces_real\\id6_0009 | Total frames: 521\n"
     ]
    },
    {
     "name": "stderr",
     "output_type": "stream",
     "text": [
      "Processing id6_0009: 100%|██████████| 520/520 [00:08<00:00, 64.96it/s]\n"
     ]
    },
    {
     "name": "stdout",
     "output_type": "stream",
     "text": [
      "📂 D:\\DETECTION 1.0\\Celeb-DF\\aligned_faces_real\\id7_0000 | Total frames: 266\n"
     ]
    },
    {
     "name": "stderr",
     "output_type": "stream",
     "text": [
      "Processing id7_0000: 100%|██████████| 265/265 [00:04<00:00, 54.77it/s]\n"
     ]
    },
    {
     "name": "stdout",
     "output_type": "stream",
     "text": [
      "📂 D:\\DETECTION 1.0\\Celeb-DF\\aligned_faces_real\\id7_0001 | Total frames: 295\n"
     ]
    },
    {
     "name": "stderr",
     "output_type": "stream",
     "text": [
      "Processing id7_0001: 100%|██████████| 294/294 [00:04<00:00, 65.40it/s]\n"
     ]
    },
    {
     "name": "stdout",
     "output_type": "stream",
     "text": [
      "📂 D:\\DETECTION 1.0\\Celeb-DF\\aligned_faces_real\\id7_0002 | Total frames: 261\n"
     ]
    },
    {
     "name": "stderr",
     "output_type": "stream",
     "text": [
      "Processing id7_0002: 100%|██████████| 260/260 [00:03<00:00, 67.26it/s]\n"
     ]
    },
    {
     "name": "stdout",
     "output_type": "stream",
     "text": [
      "📂 D:\\DETECTION 1.0\\Celeb-DF\\aligned_faces_real\\id7_0003 | Total frames: 549\n"
     ]
    },
    {
     "name": "stderr",
     "output_type": "stream",
     "text": [
      "Processing id7_0003: 100%|██████████| 548/548 [00:10<00:00, 53.86it/s]\n"
     ]
    },
    {
     "name": "stdout",
     "output_type": "stream",
     "text": [
      "📂 D:\\DETECTION 1.0\\Celeb-DF\\aligned_faces_real\\id7_0004 | Total frames: 345\n"
     ]
    },
    {
     "name": "stderr",
     "output_type": "stream",
     "text": [
      "Processing id7_0004: 100%|██████████| 344/344 [00:05<00:00, 63.76it/s]\n"
     ]
    },
    {
     "name": "stdout",
     "output_type": "stream",
     "text": [
      "📂 D:\\DETECTION 1.0\\Celeb-DF\\aligned_faces_real\\id7_0005 | Total frames: 158\n"
     ]
    },
    {
     "name": "stderr",
     "output_type": "stream",
     "text": [
      "Processing id7_0005: 100%|██████████| 157/157 [00:02<00:00, 60.79it/s]\n"
     ]
    },
    {
     "name": "stdout",
     "output_type": "stream",
     "text": [
      "📂 D:\\DETECTION 1.0\\Celeb-DF\\aligned_faces_real\\id7_0006 | Total frames: 213\n"
     ]
    },
    {
     "name": "stderr",
     "output_type": "stream",
     "text": [
      "Processing id7_0006: 100%|██████████| 212/212 [00:03<00:00, 59.15it/s]\n"
     ]
    },
    {
     "name": "stdout",
     "output_type": "stream",
     "text": [
      "📂 D:\\DETECTION 1.0\\Celeb-DF\\aligned_faces_real\\id7_0007 | Total frames: 382\n"
     ]
    },
    {
     "name": "stderr",
     "output_type": "stream",
     "text": [
      "Processing id7_0007: 100%|██████████| 381/381 [00:05<00:00, 69.41it/s]\n"
     ]
    },
    {
     "name": "stdout",
     "output_type": "stream",
     "text": [
      "📂 D:\\DETECTION 1.0\\Celeb-DF\\aligned_faces_real\\id7_0008 | Total frames: 291\n"
     ]
    },
    {
     "name": "stderr",
     "output_type": "stream",
     "text": [
      "Processing id7_0008: 100%|██████████| 290/290 [00:12<00:00, 23.59it/s]\n"
     ]
    },
    {
     "name": "stdout",
     "output_type": "stream",
     "text": [
      "📂 D:\\DETECTION 1.0\\Celeb-DF\\aligned_faces_real\\id7_0009 | Total frames: 458\n"
     ]
    },
    {
     "name": "stderr",
     "output_type": "stream",
     "text": [
      "Processing id7_0009: 100%|██████████| 457/457 [00:19<00:00, 23.67it/s]\n"
     ]
    },
    {
     "name": "stdout",
     "output_type": "stream",
     "text": [
      "📂 D:\\DETECTION 1.0\\Celeb-DF\\aligned_faces_real\\id8_0000 | Total frames: 471\n"
     ]
    },
    {
     "name": "stderr",
     "output_type": "stream",
     "text": [
      "Processing id8_0000: 100%|██████████| 470/470 [00:19<00:00, 23.71it/s]\n"
     ]
    },
    {
     "name": "stdout",
     "output_type": "stream",
     "text": [
      "📂 D:\\DETECTION 1.0\\Celeb-DF\\aligned_faces_real\\id8_0001 | Total frames: 0\n",
      "⚠️ Not enough frames to compute optical flow.\n",
      "📂 D:\\DETECTION 1.0\\Celeb-DF\\aligned_faces_real\\id8_0002 | Total frames: 519\n"
     ]
    },
    {
     "name": "stderr",
     "output_type": "stream",
     "text": [
      "Processing id8_0002: 100%|██████████| 518/518 [00:23<00:00, 21.91it/s]\n"
     ]
    },
    {
     "name": "stdout",
     "output_type": "stream",
     "text": [
      "📂 D:\\DETECTION 1.0\\Celeb-DF\\aligned_faces_real\\id8_0003 | Total frames: 388\n"
     ]
    },
    {
     "name": "stderr",
     "output_type": "stream",
     "text": [
      "Processing id8_0003: 100%|██████████| 387/387 [00:16<00:00, 23.74it/s]\n"
     ]
    },
    {
     "name": "stdout",
     "output_type": "stream",
     "text": [
      "📂 D:\\DETECTION 1.0\\Celeb-DF\\aligned_faces_real\\id8_0004 | Total frames: 464\n"
     ]
    },
    {
     "name": "stderr",
     "output_type": "stream",
     "text": [
      "Processing id8_0004: 100%|██████████| 463/463 [00:18<00:00, 24.38it/s]\n"
     ]
    },
    {
     "name": "stdout",
     "output_type": "stream",
     "text": [
      "📂 D:\\DETECTION 1.0\\Celeb-DF\\aligned_faces_real\\id8_0005 | Total frames: 215\n"
     ]
    },
    {
     "name": "stderr",
     "output_type": "stream",
     "text": [
      "Processing id8_0005: 100%|██████████| 214/214 [00:09<00:00, 23.36it/s]\n"
     ]
    },
    {
     "name": "stdout",
     "output_type": "stream",
     "text": [
      "📂 D:\\DETECTION 1.0\\Celeb-DF\\aligned_faces_real\\id8_0006 | Total frames: 513\n"
     ]
    },
    {
     "name": "stderr",
     "output_type": "stream",
     "text": [
      "Processing id8_0006: 100%|██████████| 512/512 [00:22<00:00, 23.07it/s]\n"
     ]
    },
    {
     "name": "stdout",
     "output_type": "stream",
     "text": [
      "📂 D:\\DETECTION 1.0\\Celeb-DF\\aligned_faces_real\\id8_0007 | Total frames: 10\n"
     ]
    },
    {
     "name": "stderr",
     "output_type": "stream",
     "text": [
      "Processing id8_0007: 100%|██████████| 9/9 [00:00<00:00, 22.54it/s]\n"
     ]
    },
    {
     "name": "stdout",
     "output_type": "stream",
     "text": [
      "📂 D:\\DETECTION 1.0\\Celeb-DF\\aligned_faces_real\\id8_0008 | Total frames: 0\n",
      "⚠️ Not enough frames to compute optical flow.\n",
      "📂 D:\\DETECTION 1.0\\Celeb-DF\\aligned_faces_real\\id8_0009 | Total frames: 373\n"
     ]
    },
    {
     "name": "stderr",
     "output_type": "stream",
     "text": [
      "Processing id8_0009: 100%|██████████| 372/372 [00:15<00:00, 23.60it/s]\n"
     ]
    },
    {
     "name": "stdout",
     "output_type": "stream",
     "text": [
      "📂 D:\\DETECTION 1.0\\Celeb-DF\\aligned_faces_real\\id9_0000 | Total frames: 448\n"
     ]
    },
    {
     "name": "stderr",
     "output_type": "stream",
     "text": [
      "Processing id9_0000: 100%|██████████| 447/447 [00:18<00:00, 24.64it/s]\n"
     ]
    },
    {
     "name": "stdout",
     "output_type": "stream",
     "text": [
      "📂 D:\\DETECTION 1.0\\Celeb-DF\\aligned_faces_real\\id9_0001 | Total frames: 437\n"
     ]
    },
    {
     "name": "stderr",
     "output_type": "stream",
     "text": [
      "Processing id9_0001: 100%|██████████| 436/436 [00:19<00:00, 22.94it/s]\n"
     ]
    },
    {
     "name": "stdout",
     "output_type": "stream",
     "text": [
      "📂 D:\\DETECTION 1.0\\Celeb-DF\\aligned_faces_real\\id9_0002 | Total frames: 336\n"
     ]
    },
    {
     "name": "stderr",
     "output_type": "stream",
     "text": [
      "Processing id9_0002: 100%|██████████| 335/335 [00:13<00:00, 24.17it/s]\n"
     ]
    },
    {
     "name": "stdout",
     "output_type": "stream",
     "text": [
      "📂 D:\\DETECTION 1.0\\Celeb-DF\\aligned_faces_real\\id9_0003 | Total frames: 99\n"
     ]
    },
    {
     "name": "stderr",
     "output_type": "stream",
     "text": [
      "Processing id9_0003: 100%|██████████| 98/98 [00:04<00:00, 23.41it/s]\n"
     ]
    },
    {
     "name": "stdout",
     "output_type": "stream",
     "text": [
      "📂 D:\\DETECTION 1.0\\Celeb-DF\\aligned_faces_real\\id9_0004 | Total frames: 361\n"
     ]
    },
    {
     "name": "stderr",
     "output_type": "stream",
     "text": [
      "Processing id9_0004: 100%|██████████| 360/360 [00:15<00:00, 23.71it/s]\n"
     ]
    },
    {
     "name": "stdout",
     "output_type": "stream",
     "text": [
      "📂 D:\\DETECTION 1.0\\Celeb-DF\\aligned_faces_real\\id9_0005 | Total frames: 414\n"
     ]
    },
    {
     "name": "stderr",
     "output_type": "stream",
     "text": [
      "Processing id9_0005: 100%|██████████| 413/413 [00:17<00:00, 23.71it/s]\n"
     ]
    },
    {
     "name": "stdout",
     "output_type": "stream",
     "text": [
      "📂 D:\\DETECTION 1.0\\Celeb-DF\\aligned_faces_real\\id9_0006 | Total frames: 401\n"
     ]
    },
    {
     "name": "stderr",
     "output_type": "stream",
     "text": [
      "Processing id9_0006: 100%|██████████| 400/400 [00:16<00:00, 23.81it/s]\n"
     ]
    },
    {
     "name": "stdout",
     "output_type": "stream",
     "text": [
      "📂 D:\\DETECTION 1.0\\Celeb-DF\\aligned_faces_real\\id9_0007 | Total frames: 426\n"
     ]
    },
    {
     "name": "stderr",
     "output_type": "stream",
     "text": [
      "Processing id9_0007: 100%|██████████| 425/425 [00:17<00:00, 23.65it/s]\n"
     ]
    },
    {
     "name": "stdout",
     "output_type": "stream",
     "text": [
      "📂 D:\\DETECTION 1.0\\Celeb-DF\\aligned_faces_real\\id9_0008 | Total frames: 461\n"
     ]
    },
    {
     "name": "stderr",
     "output_type": "stream",
     "text": [
      "Processing id9_0008: 100%|██████████| 460/460 [00:19<00:00, 23.71it/s]\n"
     ]
    },
    {
     "name": "stdout",
     "output_type": "stream",
     "text": [
      "📂 D:\\DETECTION 1.0\\Celeb-DF\\aligned_faces_real\\id9_0009 | Total frames: 310\n"
     ]
    },
    {
     "name": "stderr",
     "output_type": "stream",
     "text": [
      "Processing id9_0009: 100%|██████████| 309/309 [00:13<00:00, 23.77it/s]\n"
     ]
    },
    {
     "name": "stdout",
     "output_type": "stream",
     "text": [
      "📂 D:\\DETECTION 1.0\\Celeb-DF\\aligned_faces_fake\\id1_id0_0000 | Total frames: 365\n"
     ]
    },
    {
     "name": "stderr",
     "output_type": "stream",
     "text": [
      "Processing id1_id0_0000: 100%|██████████| 364/364 [00:14<00:00, 24.69it/s]\n"
     ]
    },
    {
     "name": "stdout",
     "output_type": "stream",
     "text": [
      "📂 D:\\DETECTION 1.0\\Celeb-DF\\aligned_faces_fake\\id1_id0_0001 | Total frames: 272\n"
     ]
    },
    {
     "name": "stderr",
     "output_type": "stream",
     "text": [
      "Processing id1_id0_0001: 100%|██████████| 271/271 [00:11<00:00, 24.13it/s]\n"
     ]
    },
    {
     "name": "stdout",
     "output_type": "stream",
     "text": [
      "📂 D:\\DETECTION 1.0\\Celeb-DF\\aligned_faces_fake\\id1_id0_0002 | Total frames: 400\n"
     ]
    },
    {
     "name": "stderr",
     "output_type": "stream",
     "text": [
      "Processing id1_id0_0002: 100%|██████████| 399/399 [00:16<00:00, 24.74it/s]\n"
     ]
    },
    {
     "name": "stdout",
     "output_type": "stream",
     "text": [
      "📂 D:\\DETECTION 1.0\\Celeb-DF\\aligned_faces_fake\\id1_id0_0003 | Total frames: 451\n"
     ]
    },
    {
     "name": "stderr",
     "output_type": "stream",
     "text": [
      "Processing id1_id0_0003: 100%|██████████| 450/450 [00:18<00:00, 23.71it/s]\n"
     ]
    },
    {
     "name": "stdout",
     "output_type": "stream",
     "text": [
      "📂 D:\\DETECTION 1.0\\Celeb-DF\\aligned_faces_fake\\id1_id0_0004 | Total frames: 409\n"
     ]
    },
    {
     "name": "stderr",
     "output_type": "stream",
     "text": [
      "Processing id1_id0_0004: 100%|██████████| 408/408 [00:19<00:00, 21.25it/s]\n"
     ]
    },
    {
     "name": "stdout",
     "output_type": "stream",
     "text": [
      "📂 D:\\DETECTION 1.0\\Celeb-DF\\aligned_faces_fake\\id1_id0_0005 | Total frames: 422\n"
     ]
    },
    {
     "name": "stderr",
     "output_type": "stream",
     "text": [
      "Processing id1_id0_0005: 100%|██████████| 421/421 [00:18<00:00, 23.34it/s]\n"
     ]
    },
    {
     "name": "stdout",
     "output_type": "stream",
     "text": [
      "📂 D:\\DETECTION 1.0\\Celeb-DF\\aligned_faces_fake\\id1_id0_0006 | Total frames: 505\n"
     ]
    },
    {
     "name": "stderr",
     "output_type": "stream",
     "text": [
      "Processing id1_id0_0006: 100%|██████████| 504/504 [00:22<00:00, 22.87it/s]\n"
     ]
    },
    {
     "name": "stdout",
     "output_type": "stream",
     "text": [
      "📂 D:\\DETECTION 1.0\\Celeb-DF\\aligned_faces_fake\\id1_id0_0007 | Total frames: 328\n"
     ]
    },
    {
     "name": "stderr",
     "output_type": "stream",
     "text": [
      "Processing id1_id0_0007: 100%|██████████| 327/327 [00:13<00:00, 24.99it/s]\n"
     ]
    },
    {
     "name": "stdout",
     "output_type": "stream",
     "text": [
      "📂 D:\\DETECTION 1.0\\Celeb-DF\\aligned_faces_fake\\id1_id0_0009 | Total frames: 412\n"
     ]
    },
    {
     "name": "stderr",
     "output_type": "stream",
     "text": [
      "Processing id1_id0_0009: 100%|██████████| 411/411 [00:17<00:00, 23.03it/s]\n"
     ]
    },
    {
     "name": "stdout",
     "output_type": "stream",
     "text": [
      "📂 D:\\DETECTION 1.0\\Celeb-DF\\aligned_faces_fake\\id1_id16_0000 | Total frames: 365\n"
     ]
    },
    {
     "name": "stderr",
     "output_type": "stream",
     "text": [
      "Processing id1_id16_0000: 100%|██████████| 364/364 [00:15<00:00, 23.89it/s]\n"
     ]
    },
    {
     "name": "stdout",
     "output_type": "stream",
     "text": [
      "📂 D:\\DETECTION 1.0\\Celeb-DF\\aligned_faces_fake\\id1_id16_0001 | Total frames: 272\n"
     ]
    },
    {
     "name": "stderr",
     "output_type": "stream",
     "text": [
      "Processing id1_id16_0001: 100%|██████████| 271/271 [00:11<00:00, 23.26it/s]\n"
     ]
    },
    {
     "name": "stdout",
     "output_type": "stream",
     "text": [
      "📂 D:\\DETECTION 1.0\\Celeb-DF\\aligned_faces_fake\\id1_id16_0002 | Total frames: 400\n"
     ]
    },
    {
     "name": "stderr",
     "output_type": "stream",
     "text": [
      "Processing id1_id16_0002: 100%|██████████| 399/399 [00:16<00:00, 24.14it/s]\n"
     ]
    },
    {
     "name": "stdout",
     "output_type": "stream",
     "text": [
      "📂 D:\\DETECTION 1.0\\Celeb-DF\\aligned_faces_fake\\id1_id16_0003 | Total frames: 451\n"
     ]
    },
    {
     "name": "stderr",
     "output_type": "stream",
     "text": [
      "Processing id1_id16_0003: 100%|██████████| 450/450 [00:18<00:00, 23.69it/s]\n"
     ]
    },
    {
     "name": "stdout",
     "output_type": "stream",
     "text": [
      "📂 D:\\DETECTION 1.0\\Celeb-DF\\aligned_faces_fake\\id1_id16_0004 | Total frames: 409\n"
     ]
    },
    {
     "name": "stderr",
     "output_type": "stream",
     "text": [
      "Processing id1_id16_0004: 100%|██████████| 408/408 [00:19<00:00, 20.61it/s]\n"
     ]
    },
    {
     "name": "stdout",
     "output_type": "stream",
     "text": [
      "📂 D:\\DETECTION 1.0\\Celeb-DF\\aligned_faces_fake\\id1_id16_0005 | Total frames: 422\n"
     ]
    },
    {
     "name": "stderr",
     "output_type": "stream",
     "text": [
      "Processing id1_id16_0005: 100%|██████████| 421/421 [00:17<00:00, 23.55it/s]\n"
     ]
    },
    {
     "name": "stdout",
     "output_type": "stream",
     "text": [
      "📂 D:\\DETECTION 1.0\\Celeb-DF\\aligned_faces_fake\\id1_id16_0006 | Total frames: 49\n"
     ]
    },
    {
     "name": "stderr",
     "output_type": "stream",
     "text": [
      "Processing id1_id16_0006: 100%|██████████| 48/48 [00:02<00:00, 21.95it/s]\n"
     ]
    },
    {
     "name": "stdout",
     "output_type": "stream",
     "text": [
      "📂 D:\\DETECTION 1.0\\Celeb-DF\\aligned_faces_fake\\id1_id16_0007 | Total frames: 328\n"
     ]
    },
    {
     "name": "stderr",
     "output_type": "stream",
     "text": [
      "Processing id1_id16_0007: 100%|██████████| 327/327 [00:13<00:00, 24.64it/s]\n"
     ]
    },
    {
     "name": "stdout",
     "output_type": "stream",
     "text": [
      "📂 D:\\DETECTION 1.0\\Celeb-DF\\aligned_faces_fake\\id1_id16_0009 | Total frames: 412\n"
     ]
    },
    {
     "name": "stderr",
     "output_type": "stream",
     "text": [
      "Processing id1_id16_0009: 100%|██████████| 411/411 [00:17<00:00, 23.23it/s]\n"
     ]
    },
    {
     "name": "stdout",
     "output_type": "stream",
     "text": [
      "📂 D:\\DETECTION 1.0\\Celeb-DF\\aligned_faces_fake\\id1_id17_0000 | Total frames: 365\n"
     ]
    },
    {
     "name": "stderr",
     "output_type": "stream",
     "text": [
      "Processing id1_id17_0000: 100%|██████████| 364/364 [00:14<00:00, 24.46it/s]\n"
     ]
    },
    {
     "name": "stdout",
     "output_type": "stream",
     "text": [
      "📂 D:\\DETECTION 1.0\\Celeb-DF\\aligned_faces_fake\\id1_id2_0000 | Total frames: 365\n"
     ]
    },
    {
     "name": "stderr",
     "output_type": "stream",
     "text": [
      "Processing id1_id2_0000: 100%|██████████| 364/364 [00:15<00:00, 24.12it/s]\n"
     ]
    },
    {
     "name": "stdout",
     "output_type": "stream",
     "text": [
      "📂 D:\\DETECTION 1.0\\Celeb-DF\\aligned_faces_fake\\id1_id2_0001 | Total frames: 272\n"
     ]
    },
    {
     "name": "stderr",
     "output_type": "stream",
     "text": [
      "Processing id1_id2_0001: 100%|██████████| 271/271 [00:11<00:00, 23.11it/s]\n"
     ]
    },
    {
     "name": "stdout",
     "output_type": "stream",
     "text": [
      "📂 D:\\DETECTION 1.0\\Celeb-DF\\aligned_faces_fake\\id1_id2_0002 | Total frames: 400\n"
     ]
    },
    {
     "name": "stderr",
     "output_type": "stream",
     "text": [
      "Processing id1_id2_0002: 100%|██████████| 399/399 [00:16<00:00, 24.07it/s]\n"
     ]
    },
    {
     "name": "stdout",
     "output_type": "stream",
     "text": [
      "📂 D:\\DETECTION 1.0\\Celeb-DF\\aligned_faces_fake\\id1_id2_0003 | Total frames: 451\n"
     ]
    },
    {
     "name": "stderr",
     "output_type": "stream",
     "text": [
      "Processing id1_id2_0003: 100%|██████████| 450/450 [00:19<00:00, 23.55it/s]\n"
     ]
    },
    {
     "name": "stdout",
     "output_type": "stream",
     "text": [
      "📂 D:\\DETECTION 1.0\\Celeb-DF\\aligned_faces_fake\\id1_id2_0004 | Total frames: 409\n"
     ]
    },
    {
     "name": "stderr",
     "output_type": "stream",
     "text": [
      "Processing id1_id2_0004: 100%|██████████| 408/408 [00:19<00:00, 20.51it/s]\n"
     ]
    },
    {
     "name": "stdout",
     "output_type": "stream",
     "text": [
      "📂 D:\\DETECTION 1.0\\Celeb-DF\\aligned_faces_fake\\id1_id2_0005 | Total frames: 422\n"
     ]
    },
    {
     "name": "stderr",
     "output_type": "stream",
     "text": [
      "Processing id1_id2_0005: 100%|██████████| 421/421 [00:18<00:00, 23.03it/s]\n"
     ]
    },
    {
     "name": "stdout",
     "output_type": "stream",
     "text": [
      "📂 D:\\DETECTION 1.0\\Celeb-DF\\aligned_faces_fake\\id1_id2_0006 | Total frames: 505\n"
     ]
    },
    {
     "name": "stderr",
     "output_type": "stream",
     "text": [
      "Processing id1_id2_0006: 100%|██████████| 504/504 [00:21<00:00, 23.26it/s]\n"
     ]
    },
    {
     "name": "stdout",
     "output_type": "stream",
     "text": [
      "📂 D:\\DETECTION 1.0\\Celeb-DF\\aligned_faces_fake\\id1_id2_0007 | Total frames: 328\n"
     ]
    },
    {
     "name": "stderr",
     "output_type": "stream",
     "text": [
      "Processing id1_id2_0007: 100%|██████████| 327/327 [00:13<00:00, 25.11it/s]\n"
     ]
    },
    {
     "name": "stdout",
     "output_type": "stream",
     "text": [
      "📂 D:\\DETECTION 1.0\\Celeb-DF\\aligned_faces_fake\\id1_id2_0009 | Total frames: 412\n"
     ]
    },
    {
     "name": "stderr",
     "output_type": "stream",
     "text": [
      "Processing id1_id2_0009: 100%|██████████| 411/411 [00:17<00:00, 23.37it/s]\n"
     ]
    },
    {
     "name": "stdout",
     "output_type": "stream",
     "text": [
      "📂 D:\\DETECTION 1.0\\Celeb-DF\\aligned_faces_fake\\id1_id3_0000 | Total frames: 365\n"
     ]
    },
    {
     "name": "stderr",
     "output_type": "stream",
     "text": [
      "Processing id1_id3_0000: 100%|██████████| 364/364 [00:14<00:00, 25.23it/s]\n"
     ]
    },
    {
     "name": "stdout",
     "output_type": "stream",
     "text": [
      "📂 D:\\DETECTION 1.0\\Celeb-DF\\aligned_faces_fake\\id1_id3_0001 | Total frames: 272\n"
     ]
    },
    {
     "name": "stderr",
     "output_type": "stream",
     "text": [
      "Processing id1_id3_0001: 100%|██████████| 271/271 [00:12<00:00, 21.99it/s]\n"
     ]
    },
    {
     "name": "stdout",
     "output_type": "stream",
     "text": [
      "📂 D:\\DETECTION 1.0\\Celeb-DF\\aligned_faces_fake\\id1_id3_0002 | Total frames: 400\n"
     ]
    },
    {
     "name": "stderr",
     "output_type": "stream",
     "text": [
      "Processing id1_id3_0002: 100%|██████████| 399/399 [00:17<00:00, 23.01it/s]\n"
     ]
    },
    {
     "name": "stdout",
     "output_type": "stream",
     "text": [
      "📂 D:\\DETECTION 1.0\\Celeb-DF\\aligned_faces_fake\\id1_id3_0003 | Total frames: 451\n"
     ]
    },
    {
     "name": "stderr",
     "output_type": "stream",
     "text": [
      "Processing id1_id3_0003: 100%|██████████| 450/450 [00:19<00:00, 22.86it/s]\n"
     ]
    },
    {
     "name": "stdout",
     "output_type": "stream",
     "text": [
      "📂 D:\\DETECTION 1.0\\Celeb-DF\\aligned_faces_fake\\id1_id3_0004 | Total frames: 409\n"
     ]
    },
    {
     "name": "stderr",
     "output_type": "stream",
     "text": [
      "Processing id1_id3_0004: 100%|██████████| 408/408 [00:19<00:00, 20.81it/s]\n"
     ]
    },
    {
     "name": "stdout",
     "output_type": "stream",
     "text": [
      "📂 D:\\DETECTION 1.0\\Celeb-DF\\aligned_faces_fake\\id1_id3_0005 | Total frames: 422\n"
     ]
    },
    {
     "name": "stderr",
     "output_type": "stream",
     "text": [
      "Processing id1_id3_0005: 100%|██████████| 421/421 [00:17<00:00, 23.73it/s]\n"
     ]
    },
    {
     "name": "stdout",
     "output_type": "stream",
     "text": [
      "📂 D:\\DETECTION 1.0\\Celeb-DF\\aligned_faces_fake\\id1_id3_0006 | Total frames: 505\n"
     ]
    },
    {
     "name": "stderr",
     "output_type": "stream",
     "text": [
      "Processing id1_id3_0006: 100%|██████████| 504/504 [00:22<00:00, 22.81it/s]\n"
     ]
    },
    {
     "name": "stdout",
     "output_type": "stream",
     "text": [
      "📂 D:\\DETECTION 1.0\\Celeb-DF\\aligned_faces_fake\\id1_id3_0007 | Total frames: 328\n"
     ]
    },
    {
     "name": "stderr",
     "output_type": "stream",
     "text": [
      "Processing id1_id3_0007: 100%|██████████| 327/327 [00:13<00:00, 24.97it/s]\n"
     ]
    },
    {
     "name": "stdout",
     "output_type": "stream",
     "text": [
      "📂 D:\\DETECTION 1.0\\Celeb-DF\\aligned_faces_fake\\id1_id3_0009 | Total frames: 412\n"
     ]
    },
    {
     "name": "stderr",
     "output_type": "stream",
     "text": [
      "Processing id1_id3_0009: 100%|██████████| 411/411 [00:17<00:00, 23.93it/s]\n"
     ]
    },
    {
     "name": "stdout",
     "output_type": "stream",
     "text": [
      "📂 D:\\DETECTION 1.0\\Celeb-DF\\aligned_faces_fake\\id1_id4_0000 | Total frames: 365\n"
     ]
    },
    {
     "name": "stderr",
     "output_type": "stream",
     "text": [
      "Processing id1_id4_0000: 100%|██████████| 364/364 [00:14<00:00, 24.64it/s]\n"
     ]
    },
    {
     "name": "stdout",
     "output_type": "stream",
     "text": [
      "📂 D:\\DETECTION 1.0\\Celeb-DF\\aligned_faces_fake\\id1_id4_0001 | Total frames: 272\n"
     ]
    },
    {
     "name": "stderr",
     "output_type": "stream",
     "text": [
      "Processing id1_id4_0001: 100%|██████████| 271/271 [00:11<00:00, 24.22it/s]\n"
     ]
    },
    {
     "name": "stdout",
     "output_type": "stream",
     "text": [
      "📂 D:\\DETECTION 1.0\\Celeb-DF\\aligned_faces_fake\\id1_id4_0002 | Total frames: 400\n"
     ]
    },
    {
     "name": "stderr",
     "output_type": "stream",
     "text": [
      "Processing id1_id4_0002: 100%|██████████| 399/399 [00:16<00:00, 24.76it/s]\n"
     ]
    },
    {
     "name": "stdout",
     "output_type": "stream",
     "text": [
      "📂 D:\\DETECTION 1.0\\Celeb-DF\\aligned_faces_fake\\id1_id4_0003 | Total frames: 451\n"
     ]
    },
    {
     "name": "stderr",
     "output_type": "stream",
     "text": [
      "Processing id1_id4_0003: 100%|██████████| 450/450 [00:19<00:00, 23.65it/s]\n"
     ]
    },
    {
     "name": "stdout",
     "output_type": "stream",
     "text": [
      "📂 D:\\DETECTION 1.0\\Celeb-DF\\aligned_faces_fake\\id1_id4_0004 | Total frames: 409\n"
     ]
    },
    {
     "name": "stderr",
     "output_type": "stream",
     "text": [
      "Processing id1_id4_0004: 100%|██████████| 408/408 [00:19<00:00, 20.42it/s]\n"
     ]
    },
    {
     "name": "stdout",
     "output_type": "stream",
     "text": [
      "📂 D:\\DETECTION 1.0\\Celeb-DF\\aligned_faces_fake\\id1_id4_0005 | Total frames: 422\n"
     ]
    },
    {
     "name": "stderr",
     "output_type": "stream",
     "text": [
      "Processing id1_id4_0005: 100%|██████████| 421/421 [00:17<00:00, 23.51it/s]\n"
     ]
    },
    {
     "name": "stdout",
     "output_type": "stream",
     "text": [
      "📂 D:\\DETECTION 1.0\\Celeb-DF\\aligned_faces_fake\\id1_id4_0006 | Total frames: 505\n"
     ]
    },
    {
     "name": "stderr",
     "output_type": "stream",
     "text": [
      "Processing id1_id4_0006: 100%|██████████| 504/504 [00:22<00:00, 22.43it/s]\n"
     ]
    },
    {
     "name": "stdout",
     "output_type": "stream",
     "text": [
      "📂 D:\\DETECTION 1.0\\Celeb-DF\\aligned_faces_fake\\id1_id4_0007 | Total frames: 328\n"
     ]
    },
    {
     "name": "stderr",
     "output_type": "stream",
     "text": [
      "Processing id1_id4_0007: 100%|██████████| 327/327 [00:12<00:00, 25.25it/s]\n"
     ]
    },
    {
     "name": "stdout",
     "output_type": "stream",
     "text": [
      "📂 D:\\DETECTION 1.0\\Celeb-DF\\aligned_faces_fake\\id1_id4_0009 | Total frames: 412\n"
     ]
    },
    {
     "name": "stderr",
     "output_type": "stream",
     "text": [
      "Processing id1_id4_0009: 100%|██████████| 411/411 [00:17<00:00, 22.91it/s]\n"
     ]
    },
    {
     "name": "stdout",
     "output_type": "stream",
     "text": [
      "📂 D:\\DETECTION 1.0\\Celeb-DF\\aligned_faces_fake\\id1_id6_0000 | Total frames: 365\n"
     ]
    },
    {
     "name": "stderr",
     "output_type": "stream",
     "text": [
      "Processing id1_id6_0000: 100%|██████████| 364/364 [00:15<00:00, 23.81it/s]\n"
     ]
    },
    {
     "name": "stdout",
     "output_type": "stream",
     "text": [
      "📂 D:\\DETECTION 1.0\\Celeb-DF\\aligned_faces_fake\\id1_id6_0001 | Total frames: 272\n"
     ]
    },
    {
     "name": "stderr",
     "output_type": "stream",
     "text": [
      "Processing id1_id6_0001: 100%|██████████| 271/271 [00:11<00:00, 23.72it/s]\n"
     ]
    },
    {
     "name": "stdout",
     "output_type": "stream",
     "text": [
      "📂 D:\\DETECTION 1.0\\Celeb-DF\\aligned_faces_fake\\id1_id6_0002 | Total frames: 400\n"
     ]
    },
    {
     "name": "stderr",
     "output_type": "stream",
     "text": [
      "Processing id1_id6_0002: 100%|██████████| 399/399 [00:16<00:00, 23.81it/s]\n"
     ]
    },
    {
     "name": "stdout",
     "output_type": "stream",
     "text": [
      "📂 D:\\DETECTION 1.0\\Celeb-DF\\aligned_faces_fake\\id1_id6_0003 | Total frames: 451\n"
     ]
    },
    {
     "name": "stderr",
     "output_type": "stream",
     "text": [
      "Processing id1_id6_0003: 100%|██████████| 450/450 [00:18<00:00, 23.69it/s]\n"
     ]
    },
    {
     "name": "stdout",
     "output_type": "stream",
     "text": [
      "📂 D:\\DETECTION 1.0\\Celeb-DF\\aligned_faces_fake\\id1_id6_0004 | Total frames: 409\n"
     ]
    },
    {
     "name": "stderr",
     "output_type": "stream",
     "text": [
      "Processing id1_id6_0004: 100%|██████████| 408/408 [00:19<00:00, 20.45it/s]\n"
     ]
    },
    {
     "name": "stdout",
     "output_type": "stream",
     "text": [
      "📂 D:\\DETECTION 1.0\\Celeb-DF\\aligned_faces_fake\\id1_id6_0005 | Total frames: 422\n"
     ]
    },
    {
     "name": "stderr",
     "output_type": "stream",
     "text": [
      "Processing id1_id6_0005: 100%|██████████| 421/421 [00:17<00:00, 23.58it/s]\n"
     ]
    },
    {
     "name": "stdout",
     "output_type": "stream",
     "text": [
      "📂 D:\\DETECTION 1.0\\Celeb-DF\\aligned_faces_fake\\id1_id6_0006 | Total frames: 505\n"
     ]
    },
    {
     "name": "stderr",
     "output_type": "stream",
     "text": [
      "Processing id1_id6_0006: 100%|██████████| 504/504 [00:22<00:00, 22.74it/s]\n"
     ]
    },
    {
     "name": "stdout",
     "output_type": "stream",
     "text": [
      "📂 D:\\DETECTION 1.0\\Celeb-DF\\aligned_faces_fake\\id1_id6_0007 | Total frames: 328\n"
     ]
    },
    {
     "name": "stderr",
     "output_type": "stream",
     "text": [
      "Processing id1_id6_0007: 100%|██████████| 327/327 [00:13<00:00, 24.11it/s]\n"
     ]
    },
    {
     "name": "stdout",
     "output_type": "stream",
     "text": [
      "📂 D:\\DETECTION 1.0\\Celeb-DF\\aligned_faces_fake\\id1_id6_0009 | Total frames: 412\n"
     ]
    },
    {
     "name": "stderr",
     "output_type": "stream",
     "text": [
      "Processing id1_id6_0009: 100%|██████████| 411/411 [00:17<00:00, 22.89it/s]\n"
     ]
    },
    {
     "name": "stdout",
     "output_type": "stream",
     "text": [
      "📂 D:\\DETECTION 1.0\\Celeb-DF\\aligned_faces_fake\\id1_id9_0000 | Total frames: 365\n"
     ]
    },
    {
     "name": "stderr",
     "output_type": "stream",
     "text": [
      "Processing id1_id9_0000: 100%|██████████| 364/364 [00:15<00:00, 24.19it/s]\n"
     ]
    },
    {
     "name": "stdout",
     "output_type": "stream",
     "text": [
      "📂 D:\\DETECTION 1.0\\Celeb-DF\\aligned_faces_fake\\id1_id9_0001 | Total frames: 272\n"
     ]
    },
    {
     "name": "stderr",
     "output_type": "stream",
     "text": [
      "Processing id1_id9_0001: 100%|██████████| 271/271 [00:11<00:00, 23.39it/s]\n"
     ]
    },
    {
     "name": "stdout",
     "output_type": "stream",
     "text": [
      "📂 D:\\DETECTION 1.0\\Celeb-DF\\aligned_faces_fake\\id1_id9_0002 | Total frames: 400\n"
     ]
    },
    {
     "name": "stderr",
     "output_type": "stream",
     "text": [
      "Processing id1_id9_0002: 100%|██████████| 399/399 [00:16<00:00, 23.76it/s]\n"
     ]
    },
    {
     "name": "stdout",
     "output_type": "stream",
     "text": [
      "📂 D:\\DETECTION 1.0\\Celeb-DF\\aligned_faces_fake\\id1_id9_0003 | Total frames: 451\n"
     ]
    },
    {
     "name": "stderr",
     "output_type": "stream",
     "text": [
      "Processing id1_id9_0003: 100%|██████████| 450/450 [00:19<00:00, 23.68it/s]\n"
     ]
    },
    {
     "name": "stdout",
     "output_type": "stream",
     "text": [
      "📂 D:\\DETECTION 1.0\\Celeb-DF\\aligned_faces_fake\\id1_id9_0004 | Total frames: 409\n"
     ]
    },
    {
     "name": "stderr",
     "output_type": "stream",
     "text": [
      "Processing id1_id9_0004: 100%|██████████| 408/408 [00:19<00:00, 21.25it/s]\n"
     ]
    },
    {
     "name": "stdout",
     "output_type": "stream",
     "text": [
      "📂 D:\\DETECTION 1.0\\Celeb-DF\\aligned_faces_fake\\id1_id9_0005 | Total frames: 422\n"
     ]
    },
    {
     "name": "stderr",
     "output_type": "stream",
     "text": [
      "Processing id1_id9_0005: 100%|██████████| 421/421 [00:17<00:00, 23.47it/s]\n"
     ]
    },
    {
     "name": "stdout",
     "output_type": "stream",
     "text": [
      "📂 D:\\DETECTION 1.0\\Celeb-DF\\aligned_faces_fake\\id1_id9_0006 | Total frames: 505\n"
     ]
    },
    {
     "name": "stderr",
     "output_type": "stream",
     "text": [
      "Processing id1_id9_0006: 100%|██████████| 504/504 [00:22<00:00, 22.78it/s]\n"
     ]
    },
    {
     "name": "stdout",
     "output_type": "stream",
     "text": [
      "📂 D:\\DETECTION 1.0\\Celeb-DF\\aligned_faces_fake\\id1_id9_0007 | Total frames: 328\n"
     ]
    },
    {
     "name": "stderr",
     "output_type": "stream",
     "text": [
      "Processing id1_id9_0007: 100%|██████████| 327/327 [00:13<00:00, 24.56it/s]\n"
     ]
    },
    {
     "name": "stdout",
     "output_type": "stream",
     "text": [
      "📂 D:\\DETECTION 1.0\\Celeb-DF\\aligned_faces_fake\\id1_id9_0009 | Total frames: 412\n"
     ]
    },
    {
     "name": "stderr",
     "output_type": "stream",
     "text": [
      "Processing id1_id9_0009: 100%|██████████| 411/411 [00:17<00:00, 22.97it/s]\n"
     ]
    },
    {
     "name": "stdout",
     "output_type": "stream",
     "text": [
      "📂 D:\\DETECTION 1.0\\Celeb-DF\\aligned_faces_fake\\id3_id0_0001 | Total frames: 380\n"
     ]
    },
    {
     "name": "stderr",
     "output_type": "stream",
     "text": [
      "Processing id3_id0_0001: 100%|██████████| 379/379 [00:16<00:00, 23.38it/s]\n"
     ]
    },
    {
     "name": "stdout",
     "output_type": "stream",
     "text": [
      "📂 D:\\DETECTION 1.0\\Celeb-DF\\aligned_faces_fake\\id3_id0_0002 | Total frames: 428\n"
     ]
    },
    {
     "name": "stderr",
     "output_type": "stream",
     "text": [
      "Processing id3_id0_0002: 100%|██████████| 427/427 [00:18<00:00, 23.37it/s]\n"
     ]
    },
    {
     "name": "stdout",
     "output_type": "stream",
     "text": [
      "📂 D:\\DETECTION 1.0\\Celeb-DF\\aligned_faces_fake\\id3_id0_0003 | Total frames: 372\n"
     ]
    },
    {
     "name": "stderr",
     "output_type": "stream",
     "text": [
      "Processing id3_id0_0003: 100%|██████████| 371/371 [00:15<00:00, 23.40it/s]\n"
     ]
    },
    {
     "name": "stdout",
     "output_type": "stream",
     "text": [
      "📂 D:\\DETECTION 1.0\\Celeb-DF\\aligned_faces_fake\\id3_id0_0004 | Total frames: 499\n"
     ]
    },
    {
     "name": "stderr",
     "output_type": "stream",
     "text": [
      "Processing id3_id0_0004: 100%|██████████| 498/498 [00:21<00:00, 23.29it/s]\n"
     ]
    },
    {
     "name": "stdout",
     "output_type": "stream",
     "text": [
      "📂 D:\\DETECTION 1.0\\Celeb-DF\\aligned_faces_fake\\id3_id0_0005 | Total frames: 398\n"
     ]
    },
    {
     "name": "stderr",
     "output_type": "stream",
     "text": [
      "Processing id3_id0_0005: 100%|██████████| 397/397 [00:16<00:00, 23.88it/s]\n"
     ]
    },
    {
     "name": "stdout",
     "output_type": "stream",
     "text": [
      "📂 D:\\DETECTION 1.0\\Celeb-DF\\aligned_faces_fake\\id3_id0_0006 | Total frames: 409\n"
     ]
    },
    {
     "name": "stderr",
     "output_type": "stream",
     "text": [
      "Processing id3_id0_0006: 100%|██████████| 408/408 [00:25<00:00, 15.75it/s]\n"
     ]
    },
    {
     "name": "stdout",
     "output_type": "stream",
     "text": [
      "📂 D:\\DETECTION 1.0\\Celeb-DF\\aligned_faces_fake\\id3_id0_0007 | Total frames: 361\n"
     ]
    },
    {
     "name": "stderr",
     "output_type": "stream",
     "text": [
      "Processing id3_id0_0007: 100%|██████████| 360/360 [00:15<00:00, 22.95it/s]\n"
     ]
    },
    {
     "name": "stdout",
     "output_type": "stream",
     "text": [
      "📂 D:\\DETECTION 1.0\\Celeb-DF\\aligned_faces_fake\\id3_id0_0008 | Total frames: 458\n"
     ]
    },
    {
     "name": "stderr",
     "output_type": "stream",
     "text": [
      "Processing id3_id0_0008: 100%|██████████| 457/457 [00:19<00:00, 23.64it/s]\n"
     ]
    },
    {
     "name": "stdout",
     "output_type": "stream",
     "text": [
      "📂 D:\\DETECTION 1.0\\Celeb-DF\\aligned_faces_fake\\id3_id0_0009 | Total frames: 495\n"
     ]
    },
    {
     "name": "stderr",
     "output_type": "stream",
     "text": [
      "Processing id3_id0_0009: 100%|██████████| 494/494 [00:21<00:00, 23.45it/s]\n"
     ]
    },
    {
     "name": "stdout",
     "output_type": "stream",
     "text": [
      "📂 D:\\DETECTION 1.0\\Celeb-DF\\aligned_faces_fake\\id3_id16_0000 | Total frames: 458\n"
     ]
    },
    {
     "name": "stderr",
     "output_type": "stream",
     "text": [
      "Processing id3_id16_0000: 100%|██████████| 457/457 [00:19<00:00, 23.56it/s]\n"
     ]
    },
    {
     "name": "stdout",
     "output_type": "stream",
     "text": [
      "📂 D:\\DETECTION 1.0\\Celeb-DF\\aligned_faces_fake\\id3_id16_0001 | Total frames: 380\n"
     ]
    },
    {
     "name": "stderr",
     "output_type": "stream",
     "text": [
      "Processing id3_id16_0001: 100%|██████████| 379/379 [00:16<00:00, 23.38it/s]\n"
     ]
    },
    {
     "name": "stdout",
     "output_type": "stream",
     "text": [
      "📂 D:\\DETECTION 1.0\\Celeb-DF\\aligned_faces_fake\\id3_id16_0002 | Total frames: 428\n"
     ]
    },
    {
     "name": "stderr",
     "output_type": "stream",
     "text": [
      "Processing id3_id16_0002: 100%|██████████| 427/427 [00:18<00:00, 23.49it/s]\n"
     ]
    },
    {
     "name": "stdout",
     "output_type": "stream",
     "text": [
      "📂 D:\\DETECTION 1.0\\Celeb-DF\\aligned_faces_fake\\id3_id16_0003 | Total frames: 372\n"
     ]
    },
    {
     "name": "stderr",
     "output_type": "stream",
     "text": [
      "Processing id3_id16_0003: 100%|██████████| 371/371 [00:15<00:00, 23.89it/s]\n"
     ]
    },
    {
     "name": "stdout",
     "output_type": "stream",
     "text": [
      "📂 D:\\DETECTION 1.0\\Celeb-DF\\aligned_faces_fake\\id3_id16_0004 | Total frames: 499\n"
     ]
    },
    {
     "name": "stderr",
     "output_type": "stream",
     "text": [
      "Processing id3_id16_0004: 100%|██████████| 498/498 [00:21<00:00, 23.50it/s]\n"
     ]
    },
    {
     "name": "stdout",
     "output_type": "stream",
     "text": [
      "📂 D:\\DETECTION 1.0\\Celeb-DF\\aligned_faces_fake\\id3_id16_0005 | Total frames: 398\n"
     ]
    },
    {
     "name": "stderr",
     "output_type": "stream",
     "text": [
      "Processing id3_id16_0005: 100%|██████████| 397/397 [00:16<00:00, 23.84it/s]\n"
     ]
    },
    {
     "name": "stdout",
     "output_type": "stream",
     "text": [
      "📂 D:\\DETECTION 1.0\\Celeb-DF\\aligned_faces_fake\\id3_id16_0006 | Total frames: 409\n"
     ]
    },
    {
     "name": "stderr",
     "output_type": "stream",
     "text": [
      "Processing id3_id16_0006: 100%|██████████| 408/408 [00:25<00:00, 15.74it/s]\n"
     ]
    },
    {
     "name": "stdout",
     "output_type": "stream",
     "text": [
      "📂 D:\\DETECTION 1.0\\Celeb-DF\\aligned_faces_fake\\id3_id16_0008 | Total frames: 458\n"
     ]
    },
    {
     "name": "stderr",
     "output_type": "stream",
     "text": [
      "Processing id3_id16_0008: 100%|██████████| 457/457 [00:19<00:00, 23.54it/s]\n"
     ]
    },
    {
     "name": "stdout",
     "output_type": "stream",
     "text": [
      "📂 D:\\DETECTION 1.0\\Celeb-DF\\aligned_faces_fake\\id3_id16_0009 | Total frames: 496\n"
     ]
    },
    {
     "name": "stderr",
     "output_type": "stream",
     "text": [
      "Processing id3_id16_0009: 100%|██████████| 495/495 [00:21<00:00, 23.52it/s]\n"
     ]
    },
    {
     "name": "stdout",
     "output_type": "stream",
     "text": [
      "📂 D:\\DETECTION 1.0\\Celeb-DF\\aligned_faces_fake\\id3_id17_0000 | Total frames: 458\n"
     ]
    },
    {
     "name": "stderr",
     "output_type": "stream",
     "text": [
      "Processing id3_id17_0000: 100%|██████████| 457/457 [00:19<00:00, 23.46it/s]\n"
     ]
    },
    {
     "name": "stdout",
     "output_type": "stream",
     "text": [
      "📂 D:\\DETECTION 1.0\\Celeb-DF\\aligned_faces_fake\\id3_id17_0001 | Total frames: 380\n"
     ]
    },
    {
     "name": "stderr",
     "output_type": "stream",
     "text": [
      "Processing id3_id17_0001: 100%|██████████| 379/379 [00:16<00:00, 23.51it/s]\n"
     ]
    },
    {
     "name": "stdout",
     "output_type": "stream",
     "text": [
      "📂 D:\\DETECTION 1.0\\Celeb-DF\\aligned_faces_fake\\id3_id17_0002 | Total frames: 428\n"
     ]
    },
    {
     "name": "stderr",
     "output_type": "stream",
     "text": [
      "Processing id3_id17_0002: 100%|██████████| 427/427 [00:18<00:00, 23.56it/s]\n"
     ]
    },
    {
     "name": "stdout",
     "output_type": "stream",
     "text": [
      "📂 D:\\DETECTION 1.0\\Celeb-DF\\aligned_faces_fake\\id3_id17_0003 | Total frames: 372\n"
     ]
    },
    {
     "name": "stderr",
     "output_type": "stream",
     "text": [
      "Processing id3_id17_0003: 100%|██████████| 371/371 [00:15<00:00, 23.79it/s]\n"
     ]
    },
    {
     "name": "stdout",
     "output_type": "stream",
     "text": [
      "📂 D:\\DETECTION 1.0\\Celeb-DF\\aligned_faces_fake\\id3_id17_0004 | Total frames: 499\n"
     ]
    },
    {
     "name": "stderr",
     "output_type": "stream",
     "text": [
      "Processing id3_id17_0004: 100%|██████████| 498/498 [00:21<00:00, 23.38it/s]\n"
     ]
    },
    {
     "name": "stdout",
     "output_type": "stream",
     "text": [
      "📂 D:\\DETECTION 1.0\\Celeb-DF\\aligned_faces_fake\\id3_id17_0005 | Total frames: 398\n"
     ]
    },
    {
     "name": "stderr",
     "output_type": "stream",
     "text": [
      "Processing id3_id17_0005: 100%|██████████| 397/397 [00:16<00:00, 23.70it/s]\n"
     ]
    },
    {
     "name": "stdout",
     "output_type": "stream",
     "text": [
      "📂 D:\\DETECTION 1.0\\Celeb-DF\\aligned_faces_fake\\id3_id17_0006 | Total frames: 409\n"
     ]
    },
    {
     "name": "stderr",
     "output_type": "stream",
     "text": [
      "Processing id3_id17_0006: 100%|██████████| 408/408 [00:25<00:00, 15.94it/s]\n"
     ]
    },
    {
     "name": "stdout",
     "output_type": "stream",
     "text": [
      "📂 D:\\DETECTION 1.0\\Celeb-DF\\aligned_faces_fake\\id3_id17_0007 | Total frames: 361\n"
     ]
    },
    {
     "name": "stderr",
     "output_type": "stream",
     "text": [
      "Processing id3_id17_0007: 100%|██████████| 360/360 [00:15<00:00, 22.74it/s]\n"
     ]
    },
    {
     "name": "stdout",
     "output_type": "stream",
     "text": [
      "📂 D:\\DETECTION 1.0\\Celeb-DF\\aligned_faces_fake\\id3_id17_0008 | Total frames: 458\n"
     ]
    },
    {
     "name": "stderr",
     "output_type": "stream",
     "text": [
      "Processing id3_id17_0008: 100%|██████████| 457/457 [00:19<00:00, 23.44it/s]\n"
     ]
    },
    {
     "name": "stdout",
     "output_type": "stream",
     "text": [
      "📂 D:\\DETECTION 1.0\\Celeb-DF\\aligned_faces_fake\\id3_id17_0009 | Total frames: 496\n"
     ]
    },
    {
     "name": "stderr",
     "output_type": "stream",
     "text": [
      "Processing id3_id17_0009: 100%|██████████| 495/495 [00:20<00:00, 24.08it/s]\n"
     ]
    },
    {
     "name": "stdout",
     "output_type": "stream",
     "text": [
      "📂 D:\\DETECTION 1.0\\Celeb-DF\\aligned_faces_fake\\id3_id1_0001 | Total frames: 380\n"
     ]
    },
    {
     "name": "stderr",
     "output_type": "stream",
     "text": [
      "Processing id3_id1_0001: 100%|██████████| 379/379 [00:16<00:00, 23.57it/s]\n"
     ]
    },
    {
     "name": "stdout",
     "output_type": "stream",
     "text": [
      "📂 D:\\DETECTION 1.0\\Celeb-DF\\aligned_faces_fake\\id3_id1_0002 | Total frames: 428\n"
     ]
    },
    {
     "name": "stderr",
     "output_type": "stream",
     "text": [
      "Processing id3_id1_0002: 100%|██████████| 427/427 [00:18<00:00, 23.55it/s]\n"
     ]
    },
    {
     "name": "stdout",
     "output_type": "stream",
     "text": [
      "📂 D:\\DETECTION 1.0\\Celeb-DF\\aligned_faces_fake\\id3_id1_0003 | Total frames: 372\n"
     ]
    },
    {
     "name": "stderr",
     "output_type": "stream",
     "text": [
      "Processing id3_id1_0003: 100%|██████████| 371/371 [00:16<00:00, 23.03it/s]\n"
     ]
    },
    {
     "name": "stdout",
     "output_type": "stream",
     "text": [
      "📂 D:\\DETECTION 1.0\\Celeb-DF\\aligned_faces_fake\\id3_id1_0004 | Total frames: 499\n"
     ]
    },
    {
     "name": "stderr",
     "output_type": "stream",
     "text": [
      "Processing id3_id1_0004: 100%|██████████| 498/498 [00:21<00:00, 23.30it/s]\n"
     ]
    },
    {
     "name": "stdout",
     "output_type": "stream",
     "text": [
      "📂 D:\\DETECTION 1.0\\Celeb-DF\\aligned_faces_fake\\id3_id1_0005 | Total frames: 398\n"
     ]
    },
    {
     "name": "stderr",
     "output_type": "stream",
     "text": [
      "Processing id3_id1_0005: 100%|██████████| 397/397 [00:16<00:00, 23.74it/s]\n"
     ]
    },
    {
     "name": "stdout",
     "output_type": "stream",
     "text": [
      "📂 D:\\DETECTION 1.0\\Celeb-DF\\aligned_faces_fake\\id3_id1_0006 | Total frames: 409\n"
     ]
    },
    {
     "name": "stderr",
     "output_type": "stream",
     "text": [
      "Processing id3_id1_0006: 100%|██████████| 408/408 [00:25<00:00, 15.98it/s]\n"
     ]
    },
    {
     "name": "stdout",
     "output_type": "stream",
     "text": [
      "📂 D:\\DETECTION 1.0\\Celeb-DF\\aligned_faces_fake\\id3_id1_0007 | Total frames: 361\n"
     ]
    },
    {
     "name": "stderr",
     "output_type": "stream",
     "text": [
      "Processing id3_id1_0007: 100%|██████████| 360/360 [00:15<00:00, 23.77it/s]\n"
     ]
    },
    {
     "name": "stdout",
     "output_type": "stream",
     "text": [
      "📂 D:\\DETECTION 1.0\\Celeb-DF\\aligned_faces_fake\\id3_id1_0008 | Total frames: 458\n"
     ]
    },
    {
     "name": "stderr",
     "output_type": "stream",
     "text": [
      "Processing id3_id1_0008: 100%|██████████| 457/457 [00:19<00:00, 23.47it/s]\n"
     ]
    },
    {
     "name": "stdout",
     "output_type": "stream",
     "text": [
      "📂 D:\\DETECTION 1.0\\Celeb-DF\\aligned_faces_fake\\id3_id1_0009 | Total frames: 497\n"
     ]
    },
    {
     "name": "stderr",
     "output_type": "stream",
     "text": [
      "Processing id3_id1_0009: 100%|██████████| 496/496 [00:21<00:00, 23.37it/s]\n"
     ]
    },
    {
     "name": "stdout",
     "output_type": "stream",
     "text": [
      "📂 D:\\DETECTION 1.0\\Celeb-DF\\aligned_faces_fake\\id3_id2_0000 | Total frames: 458\n"
     ]
    },
    {
     "name": "stderr",
     "output_type": "stream",
     "text": [
      "Processing id3_id2_0000: 100%|██████████| 457/457 [00:19<00:00, 23.39it/s]\n"
     ]
    },
    {
     "name": "stdout",
     "output_type": "stream",
     "text": [
      "📂 D:\\DETECTION 1.0\\Celeb-DF\\aligned_faces_fake\\id3_id2_0001 | Total frames: 380\n"
     ]
    },
    {
     "name": "stderr",
     "output_type": "stream",
     "text": [
      "Processing id3_id2_0001: 100%|██████████| 379/379 [00:16<00:00, 23.49it/s]\n"
     ]
    },
    {
     "name": "stdout",
     "output_type": "stream",
     "text": [
      "📂 D:\\DETECTION 1.0\\Celeb-DF\\aligned_faces_fake\\id3_id2_0002 | Total frames: 428\n"
     ]
    },
    {
     "name": "stderr",
     "output_type": "stream",
     "text": [
      "Processing id3_id2_0002: 100%|██████████| 427/427 [00:18<00:00, 23.24it/s]\n"
     ]
    },
    {
     "name": "stdout",
     "output_type": "stream",
     "text": [
      "📂 D:\\DETECTION 1.0\\Celeb-DF\\aligned_faces_fake\\id3_id2_0003 | Total frames: 372\n"
     ]
    },
    {
     "name": "stderr",
     "output_type": "stream",
     "text": [
      "Processing id3_id2_0003: 100%|██████████| 371/371 [00:15<00:00, 23.44it/s]\n"
     ]
    },
    {
     "name": "stdout",
     "output_type": "stream",
     "text": [
      "📂 D:\\DETECTION 1.0\\Celeb-DF\\aligned_faces_fake\\id3_id2_0004 | Total frames: 499\n"
     ]
    },
    {
     "name": "stderr",
     "output_type": "stream",
     "text": [
      "Processing id3_id2_0004: 100%|██████████| 498/498 [00:21<00:00, 23.12it/s]\n"
     ]
    },
    {
     "name": "stdout",
     "output_type": "stream",
     "text": [
      "📂 D:\\DETECTION 1.0\\Celeb-DF\\aligned_faces_fake\\id3_id2_0005 | Total frames: 398\n"
     ]
    },
    {
     "name": "stderr",
     "output_type": "stream",
     "text": [
      "Processing id3_id2_0005: 100%|██████████| 397/397 [00:16<00:00, 24.12it/s]\n"
     ]
    },
    {
     "name": "stdout",
     "output_type": "stream",
     "text": [
      "📂 D:\\DETECTION 1.0\\Celeb-DF\\aligned_faces_fake\\id3_id2_0006 | Total frames: 409\n"
     ]
    },
    {
     "name": "stderr",
     "output_type": "stream",
     "text": [
      "Processing id3_id2_0006: 100%|██████████| 408/408 [00:25<00:00, 15.69it/s]\n"
     ]
    },
    {
     "name": "stdout",
     "output_type": "stream",
     "text": [
      "📂 D:\\DETECTION 1.0\\Celeb-DF\\aligned_faces_fake\\id3_id2_0007 | Total frames: 361\n"
     ]
    },
    {
     "name": "stderr",
     "output_type": "stream",
     "text": [
      "Processing id3_id2_0007: 100%|██████████| 360/360 [00:15<00:00, 23.15it/s]\n"
     ]
    },
    {
     "name": "stdout",
     "output_type": "stream",
     "text": [
      "📂 D:\\DETECTION 1.0\\Celeb-DF\\aligned_faces_fake\\id3_id2_0008 | Total frames: 458\n"
     ]
    },
    {
     "name": "stderr",
     "output_type": "stream",
     "text": [
      "Processing id3_id2_0008: 100%|██████████| 457/457 [00:19<00:00, 23.71it/s]\n"
     ]
    },
    {
     "name": "stdout",
     "output_type": "stream",
     "text": [
      "📂 D:\\DETECTION 1.0\\Celeb-DF\\aligned_faces_fake\\id3_id2_0009 | Total frames: 497\n"
     ]
    },
    {
     "name": "stderr",
     "output_type": "stream",
     "text": [
      "Processing id3_id2_0009: 100%|██████████| 496/496 [00:20<00:00, 23.70it/s]\n"
     ]
    },
    {
     "name": "stdout",
     "output_type": "stream",
     "text": [
      "📂 D:\\DETECTION 1.0\\Celeb-DF\\aligned_faces_fake\\id3_id4_0001 | Total frames: 380\n"
     ]
    },
    {
     "name": "stderr",
     "output_type": "stream",
     "text": [
      "Processing id3_id4_0001: 100%|██████████| 379/379 [00:16<00:00, 23.59it/s]\n"
     ]
    },
    {
     "name": "stdout",
     "output_type": "stream",
     "text": [
      "📂 D:\\DETECTION 1.0\\Celeb-DF\\aligned_faces_fake\\id3_id4_0003 | Total frames: 372\n"
     ]
    },
    {
     "name": "stderr",
     "output_type": "stream",
     "text": [
      "Processing id3_id4_0003: 100%|██████████| 371/371 [00:15<00:00, 24.00it/s]\n"
     ]
    },
    {
     "name": "stdout",
     "output_type": "stream",
     "text": [
      "📂 D:\\DETECTION 1.0\\Celeb-DF\\aligned_faces_fake\\id3_id4_0004 | Total frames: 499\n"
     ]
    },
    {
     "name": "stderr",
     "output_type": "stream",
     "text": [
      "Processing id3_id4_0004: 100%|██████████| 498/498 [00:21<00:00, 23.22it/s]\n"
     ]
    },
    {
     "name": "stdout",
     "output_type": "stream",
     "text": [
      "📂 D:\\DETECTION 1.0\\Celeb-DF\\aligned_faces_fake\\id3_id4_0005 | Total frames: 398\n"
     ]
    },
    {
     "name": "stderr",
     "output_type": "stream",
     "text": [
      "Processing id3_id4_0005: 100%|██████████| 397/397 [00:16<00:00, 24.05it/s]\n"
     ]
    },
    {
     "name": "stdout",
     "output_type": "stream",
     "text": [
      "📂 D:\\DETECTION 1.0\\Celeb-DF\\aligned_faces_fake\\id3_id4_0006 | Total frames: 409\n"
     ]
    },
    {
     "name": "stderr",
     "output_type": "stream",
     "text": [
      "Processing id3_id4_0006: 100%|██████████| 408/408 [00:25<00:00, 16.00it/s]\n"
     ]
    },
    {
     "name": "stdout",
     "output_type": "stream",
     "text": [
      "📂 D:\\DETECTION 1.0\\Celeb-DF\\aligned_faces_fake\\id3_id4_0008 | Total frames: 458\n"
     ]
    },
    {
     "name": "stderr",
     "output_type": "stream",
     "text": [
      "Processing id3_id4_0008: 100%|██████████| 457/457 [00:19<00:00, 23.39it/s]\n"
     ]
    },
    {
     "name": "stdout",
     "output_type": "stream",
     "text": [
      "📂 D:\\DETECTION 1.0\\Celeb-DF\\aligned_faces_fake\\id3_id6_0000 | Total frames: 458\n"
     ]
    },
    {
     "name": "stderr",
     "output_type": "stream",
     "text": [
      "Processing id3_id6_0000: 100%|██████████| 457/457 [00:19<00:00, 23.28it/s]\n"
     ]
    },
    {
     "name": "stdout",
     "output_type": "stream",
     "text": [
      "📂 D:\\DETECTION 1.0\\Celeb-DF\\aligned_faces_fake\\id3_id6_0001 | Total frames: 380\n"
     ]
    },
    {
     "name": "stderr",
     "output_type": "stream",
     "text": [
      "Processing id3_id6_0001: 100%|██████████| 379/379 [00:16<00:00, 23.49it/s]\n"
     ]
    },
    {
     "name": "stdout",
     "output_type": "stream",
     "text": [
      "📂 D:\\DETECTION 1.0\\Celeb-DF\\aligned_faces_fake\\id3_id6_0002 | Total frames: 428\n"
     ]
    },
    {
     "name": "stderr",
     "output_type": "stream",
     "text": [
      "Processing id3_id6_0002: 100%|██████████| 427/427 [00:18<00:00, 23.53it/s]\n"
     ]
    },
    {
     "name": "stdout",
     "output_type": "stream",
     "text": [
      "📂 D:\\DETECTION 1.0\\Celeb-DF\\aligned_faces_fake\\id3_id6_0003 | Total frames: 372\n"
     ]
    },
    {
     "name": "stderr",
     "output_type": "stream",
     "text": [
      "Processing id3_id6_0003: 100%|██████████| 371/371 [00:16<00:00, 22.61it/s]\n"
     ]
    },
    {
     "name": "stdout",
     "output_type": "stream",
     "text": [
      "📂 D:\\DETECTION 1.0\\Celeb-DF\\aligned_faces_fake\\id3_id6_0004 | Total frames: 499\n"
     ]
    },
    {
     "name": "stderr",
     "output_type": "stream",
     "text": [
      "Processing id3_id6_0004: 100%|██████████| 498/498 [00:21<00:00, 23.41it/s]\n"
     ]
    },
    {
     "name": "stdout",
     "output_type": "stream",
     "text": [
      "📂 D:\\DETECTION 1.0\\Celeb-DF\\aligned_faces_fake\\id3_id6_0005 | Total frames: 398\n"
     ]
    },
    {
     "name": "stderr",
     "output_type": "stream",
     "text": [
      "Processing id3_id6_0005: 100%|██████████| 397/397 [00:16<00:00, 23.77it/s]\n"
     ]
    },
    {
     "name": "stdout",
     "output_type": "stream",
     "text": [
      "📂 D:\\DETECTION 1.0\\Celeb-DF\\aligned_faces_fake\\id3_id6_0006 | Total frames: 409\n"
     ]
    },
    {
     "name": "stderr",
     "output_type": "stream",
     "text": [
      "Processing id3_id6_0006: 100%|██████████| 408/408 [00:25<00:00, 16.22it/s]\n"
     ]
    },
    {
     "name": "stdout",
     "output_type": "stream",
     "text": [
      "📂 D:\\DETECTION 1.0\\Celeb-DF\\aligned_faces_fake\\id3_id6_0007 | Total frames: 361\n"
     ]
    },
    {
     "name": "stderr",
     "output_type": "stream",
     "text": [
      "Processing id3_id6_0007: 100%|██████████| 360/360 [00:15<00:00, 22.61it/s]\n"
     ]
    },
    {
     "name": "stdout",
     "output_type": "stream",
     "text": [
      "📂 D:\\DETECTION 1.0\\Celeb-DF\\aligned_faces_fake\\id3_id6_0008 | Total frames: 458\n"
     ]
    },
    {
     "name": "stderr",
     "output_type": "stream",
     "text": [
      "Processing id3_id6_0008: 100%|██████████| 457/457 [00:19<00:00, 23.44it/s]\n"
     ]
    },
    {
     "name": "stdout",
     "output_type": "stream",
     "text": [
      "📂 D:\\DETECTION 1.0\\Celeb-DF\\aligned_faces_fake\\id3_id6_0009 | Total frames: 497\n"
     ]
    },
    {
     "name": "stderr",
     "output_type": "stream",
     "text": [
      "Processing id3_id6_0009: 100%|██████████| 496/496 [00:21<00:00, 23.53it/s]\n"
     ]
    },
    {
     "name": "stdout",
     "output_type": "stream",
     "text": [
      "📂 D:\\DETECTION 1.0\\Celeb-DF\\aligned_faces_fake\\id3_id9_0000 | Total frames: 458\n"
     ]
    },
    {
     "name": "stderr",
     "output_type": "stream",
     "text": [
      "Processing id3_id9_0000: 100%|██████████| 457/457 [00:19<00:00, 23.74it/s]\n"
     ]
    },
    {
     "name": "stdout",
     "output_type": "stream",
     "text": [
      "📂 D:\\DETECTION 1.0\\Celeb-DF\\aligned_faces_fake\\id3_id9_0001 | Total frames: 380\n"
     ]
    },
    {
     "name": "stderr",
     "output_type": "stream",
     "text": [
      "Processing id3_id9_0001: 100%|██████████| 379/379 [00:16<00:00, 22.93it/s]\n"
     ]
    },
    {
     "name": "stdout",
     "output_type": "stream",
     "text": [
      "📂 D:\\DETECTION 1.0\\Celeb-DF\\aligned_faces_fake\\id3_id9_0002 | Total frames: 428\n"
     ]
    },
    {
     "name": "stderr",
     "output_type": "stream",
     "text": [
      "Processing id3_id9_0002: 100%|██████████| 427/427 [00:18<00:00, 23.44it/s]\n"
     ]
    },
    {
     "name": "stdout",
     "output_type": "stream",
     "text": [
      "📂 D:\\DETECTION 1.0\\Celeb-DF\\aligned_faces_fake\\id3_id9_0003 | Total frames: 372\n"
     ]
    },
    {
     "name": "stderr",
     "output_type": "stream",
     "text": [
      "Processing id3_id9_0003: 100%|██████████| 371/371 [00:15<00:00, 23.70it/s]\n"
     ]
    },
    {
     "name": "stdout",
     "output_type": "stream",
     "text": [
      "📂 D:\\DETECTION 1.0\\Celeb-DF\\aligned_faces_fake\\id3_id9_0004 | Total frames: 499\n"
     ]
    },
    {
     "name": "stderr",
     "output_type": "stream",
     "text": [
      "Processing id3_id9_0004: 100%|██████████| 498/498 [00:21<00:00, 23.09it/s]\n"
     ]
    },
    {
     "name": "stdout",
     "output_type": "stream",
     "text": [
      "📂 D:\\DETECTION 1.0\\Celeb-DF\\aligned_faces_fake\\id3_id9_0005 | Total frames: 398\n"
     ]
    },
    {
     "name": "stderr",
     "output_type": "stream",
     "text": [
      "Processing id3_id9_0005: 100%|██████████| 397/397 [00:16<00:00, 23.48it/s]\n"
     ]
    },
    {
     "name": "stdout",
     "output_type": "stream",
     "text": [
      "📂 D:\\DETECTION 1.0\\Celeb-DF\\aligned_faces_fake\\id3_id9_0006 | Total frames: 409\n"
     ]
    },
    {
     "name": "stderr",
     "output_type": "stream",
     "text": [
      "Processing id3_id9_0006: 100%|██████████| 408/408 [00:25<00:00, 15.93it/s]\n"
     ]
    },
    {
     "name": "stdout",
     "output_type": "stream",
     "text": [
      "📂 D:\\DETECTION 1.0\\Celeb-DF\\aligned_faces_fake\\id3_id9_0007 | Total frames: 361\n"
     ]
    },
    {
     "name": "stderr",
     "output_type": "stream",
     "text": [
      "Processing id3_id9_0007: 100%|██████████| 360/360 [00:15<00:00, 22.79it/s]\n"
     ]
    },
    {
     "name": "stdout",
     "output_type": "stream",
     "text": [
      "📂 D:\\DETECTION 1.0\\Celeb-DF\\aligned_faces_fake\\id3_id9_0008 | Total frames: 458\n"
     ]
    },
    {
     "name": "stderr",
     "output_type": "stream",
     "text": [
      "Processing id3_id9_0008: 100%|██████████| 457/457 [00:20<00:00, 22.66it/s]\n"
     ]
    },
    {
     "name": "stdout",
     "output_type": "stream",
     "text": [
      "📂 D:\\DETECTION 1.0\\Celeb-DF\\aligned_faces_fake\\id3_id9_0009 | Total frames: 496\n"
     ]
    },
    {
     "name": "stderr",
     "output_type": "stream",
     "text": [
      "Processing id3_id9_0009: 100%|██████████| 495/495 [00:20<00:00, 23.96it/s]\n"
     ]
    },
    {
     "name": "stdout",
     "output_type": "stream",
     "text": [
      "📂 D:\\DETECTION 1.0\\Celeb-DF\\aligned_faces_fake\\id4_id0_0000 | Total frames: 426\n"
     ]
    },
    {
     "name": "stderr",
     "output_type": "stream",
     "text": [
      "Processing id4_id0_0000: 100%|██████████| 425/425 [00:17<00:00, 23.81it/s]\n"
     ]
    },
    {
     "name": "stdout",
     "output_type": "stream",
     "text": [
      "📂 D:\\DETECTION 1.0\\Celeb-DF\\aligned_faces_fake\\id4_id0_0001 | Total frames: 126\n"
     ]
    },
    {
     "name": "stderr",
     "output_type": "stream",
     "text": [
      "Processing id4_id0_0001: 100%|██████████| 125/125 [00:05<00:00, 24.68it/s]\n"
     ]
    },
    {
     "name": "stdout",
     "output_type": "stream",
     "text": [
      "📂 D:\\DETECTION 1.0\\Celeb-DF\\aligned_faces_fake\\id4_id0_0002 | Total frames: 460\n"
     ]
    },
    {
     "name": "stderr",
     "output_type": "stream",
     "text": [
      "Processing id4_id0_0002: 100%|██████████| 459/459 [00:19<00:00, 23.66it/s]\n"
     ]
    },
    {
     "name": "stdout",
     "output_type": "stream",
     "text": [
      "📂 D:\\DETECTION 1.0\\Celeb-DF\\aligned_faces_fake\\id4_id0_0003 | Total frames: 425\n"
     ]
    },
    {
     "name": "stderr",
     "output_type": "stream",
     "text": [
      "Processing id4_id0_0003: 100%|██████████| 424/424 [00:18<00:00, 23.43it/s]\n"
     ]
    },
    {
     "name": "stdout",
     "output_type": "stream",
     "text": [
      "📂 D:\\DETECTION 1.0\\Celeb-DF\\aligned_faces_fake\\id4_id0_0004 | Total frames: 416\n"
     ]
    },
    {
     "name": "stderr",
     "output_type": "stream",
     "text": [
      "Processing id4_id0_0004: 100%|██████████| 415/415 [00:17<00:00, 23.82it/s]\n"
     ]
    },
    {
     "name": "stdout",
     "output_type": "stream",
     "text": [
      "📂 D:\\DETECTION 1.0\\Celeb-DF\\aligned_faces_fake\\id4_id0_0005 | Total frames: 193\n"
     ]
    },
    {
     "name": "stderr",
     "output_type": "stream",
     "text": [
      "Processing id4_id0_0005: 100%|██████████| 192/192 [00:07<00:00, 24.12it/s]\n"
     ]
    },
    {
     "name": "stdout",
     "output_type": "stream",
     "text": [
      "📂 D:\\DETECTION 1.0\\Celeb-DF\\aligned_faces_fake\\id4_id0_0006 | Total frames: 301\n"
     ]
    },
    {
     "name": "stderr",
     "output_type": "stream",
     "text": [
      "Processing id4_id0_0006: 100%|██████████| 300/300 [00:13<00:00, 21.96it/s]\n"
     ]
    },
    {
     "name": "stdout",
     "output_type": "stream",
     "text": [
      "📂 D:\\DETECTION 1.0\\Celeb-DF\\aligned_faces_fake\\id4_id0_0007 | Total frames: 403\n"
     ]
    },
    {
     "name": "stderr",
     "output_type": "stream",
     "text": [
      "Processing id4_id0_0007: 100%|██████████| 402/402 [00:16<00:00, 24.13it/s]\n"
     ]
    },
    {
     "name": "stdout",
     "output_type": "stream",
     "text": [
      "📂 D:\\DETECTION 1.0\\Celeb-DF\\aligned_faces_fake\\id4_id0_0008 | Total frames: 287\n"
     ]
    },
    {
     "name": "stderr",
     "output_type": "stream",
     "text": [
      "Processing id4_id0_0008: 100%|██████████| 286/286 [00:11<00:00, 24.50it/s]\n"
     ]
    },
    {
     "name": "stdout",
     "output_type": "stream",
     "text": [
      "📂 D:\\DETECTION 1.0\\Celeb-DF\\aligned_faces_fake\\id4_id0_0009 | Total frames: 401\n"
     ]
    },
    {
     "name": "stderr",
     "output_type": "stream",
     "text": [
      "Processing id4_id0_0009: 100%|██████████| 400/400 [00:16<00:00, 23.57it/s]\n"
     ]
    },
    {
     "name": "stdout",
     "output_type": "stream",
     "text": [
      "📂 D:\\DETECTION 1.0\\Celeb-DF\\aligned_faces_fake\\id4_id1_0000 | Total frames: 423\n"
     ]
    },
    {
     "name": "stderr",
     "output_type": "stream",
     "text": [
      "Processing id4_id1_0000: 100%|██████████| 422/422 [00:18<00:00, 23.17it/s]\n"
     ]
    },
    {
     "name": "stdout",
     "output_type": "stream",
     "text": [
      "📂 D:\\DETECTION 1.0\\Celeb-DF\\aligned_faces_fake\\id4_id1_0001 | Total frames: 187\n"
     ]
    },
    {
     "name": "stderr",
     "output_type": "stream",
     "text": [
      "Processing id4_id1_0001: 100%|██████████| 186/186 [00:07<00:00, 23.59it/s]\n"
     ]
    },
    {
     "name": "stdout",
     "output_type": "stream",
     "text": [
      "📂 D:\\DETECTION 1.0\\Celeb-DF\\aligned_faces_fake\\id4_id1_0002 | Total frames: 464\n"
     ]
    },
    {
     "name": "stderr",
     "output_type": "stream",
     "text": [
      "Processing id4_id1_0002: 100%|██████████| 463/463 [00:20<00:00, 22.72it/s]\n"
     ]
    },
    {
     "name": "stdout",
     "output_type": "stream",
     "text": [
      "📂 D:\\DETECTION 1.0\\Celeb-DF\\aligned_faces_fake\\id4_id1_0003 | Total frames: 438\n"
     ]
    },
    {
     "name": "stderr",
     "output_type": "stream",
     "text": [
      "Processing id4_id1_0003: 100%|██████████| 437/437 [00:18<00:00, 23.04it/s]\n"
     ]
    },
    {
     "name": "stdout",
     "output_type": "stream",
     "text": [
      "📂 D:\\DETECTION 1.0\\Celeb-DF\\aligned_faces_fake\\id4_id1_0004 | Total frames: 420\n"
     ]
    },
    {
     "name": "stderr",
     "output_type": "stream",
     "text": [
      "Processing id4_id1_0004: 100%|██████████| 419/419 [00:17<00:00, 24.33it/s]\n"
     ]
    },
    {
     "name": "stdout",
     "output_type": "stream",
     "text": [
      "📂 D:\\DETECTION 1.0\\Celeb-DF\\aligned_faces_fake\\id4_id1_0005 | Total frames: 270\n"
     ]
    },
    {
     "name": "stderr",
     "output_type": "stream",
     "text": [
      "Processing id4_id1_0005: 100%|██████████| 269/269 [00:11<00:00, 23.64it/s]\n"
     ]
    },
    {
     "name": "stdout",
     "output_type": "stream",
     "text": [
      "📂 D:\\DETECTION 1.0\\Celeb-DF\\aligned_faces_fake\\id4_id1_0006 | Total frames: 301\n"
     ]
    },
    {
     "name": "stderr",
     "output_type": "stream",
     "text": [
      "Processing id4_id1_0006: 100%|██████████| 300/300 [00:13<00:00, 22.21it/s]\n"
     ]
    },
    {
     "name": "stdout",
     "output_type": "stream",
     "text": [
      "📂 D:\\DETECTION 1.0\\Celeb-DF\\aligned_faces_fake\\id4_id1_0007 | Total frames: 446\n"
     ]
    },
    {
     "name": "stderr",
     "output_type": "stream",
     "text": [
      "Processing id4_id1_0007: 100%|██████████| 445/445 [00:18<00:00, 23.51it/s]\n"
     ]
    },
    {
     "name": "stdout",
     "output_type": "stream",
     "text": [
      "📂 D:\\DETECTION 1.0\\Celeb-DF\\aligned_faces_fake\\id4_id1_0008 | Total frames: 322\n"
     ]
    },
    {
     "name": "stderr",
     "output_type": "stream",
     "text": [
      "Processing id4_id1_0008: 100%|██████████| 321/321 [00:14<00:00, 22.72it/s]\n"
     ]
    },
    {
     "name": "stdout",
     "output_type": "stream",
     "text": [
      "📂 D:\\DETECTION 1.0\\Celeb-DF\\aligned_faces_fake\\id4_id1_0009 | Total frames: 428\n"
     ]
    },
    {
     "name": "stderr",
     "output_type": "stream",
     "text": [
      "Processing id4_id1_0009: 100%|██████████| 427/427 [00:17<00:00, 23.82it/s]\n"
     ]
    },
    {
     "name": "stdout",
     "output_type": "stream",
     "text": [
      "📂 D:\\DETECTION 1.0\\Celeb-DF\\aligned_faces_fake\\id4_id2_0000 | Total frames: 422\n"
     ]
    },
    {
     "name": "stderr",
     "output_type": "stream",
     "text": [
      "Processing id4_id2_0000: 100%|██████████| 421/421 [00:17<00:00, 23.78it/s]\n"
     ]
    },
    {
     "name": "stdout",
     "output_type": "stream",
     "text": [
      "📂 D:\\DETECTION 1.0\\Celeb-DF\\aligned_faces_fake\\id4_id2_0001 | Total frames: 168\n"
     ]
    },
    {
     "name": "stderr",
     "output_type": "stream",
     "text": [
      "Processing id4_id2_0001: 100%|██████████| 167/167 [00:07<00:00, 23.46it/s]\n"
     ]
    },
    {
     "name": "stdout",
     "output_type": "stream",
     "text": [
      "📂 D:\\DETECTION 1.0\\Celeb-DF\\aligned_faces_fake\\id4_id2_0002 | Total frames: 453\n"
     ]
    },
    {
     "name": "stderr",
     "output_type": "stream",
     "text": [
      "Processing id4_id2_0002: 100%|██████████| 452/452 [00:19<00:00, 22.84it/s]\n"
     ]
    },
    {
     "name": "stdout",
     "output_type": "stream",
     "text": [
      "📂 D:\\DETECTION 1.0\\Celeb-DF\\aligned_faces_fake\\id4_id2_0003 | Total frames: 386\n"
     ]
    },
    {
     "name": "stderr",
     "output_type": "stream",
     "text": [
      "Processing id4_id2_0003: 100%|██████████| 385/385 [00:15<00:00, 24.35it/s]\n"
     ]
    },
    {
     "name": "stdout",
     "output_type": "stream",
     "text": [
      "📂 D:\\DETECTION 1.0\\Celeb-DF\\aligned_faces_fake\\id4_id2_0004 | Total frames: 419\n"
     ]
    },
    {
     "name": "stderr",
     "output_type": "stream",
     "text": [
      "Processing id4_id2_0004: 100%|██████████| 418/418 [00:16<00:00, 24.69it/s]\n"
     ]
    },
    {
     "name": "stdout",
     "output_type": "stream",
     "text": [
      "📂 D:\\DETECTION 1.0\\Celeb-DF\\aligned_faces_fake\\id4_id2_0005 | Total frames: 147\n"
     ]
    },
    {
     "name": "stderr",
     "output_type": "stream",
     "text": [
      "Processing id4_id2_0005: 100%|██████████| 146/146 [00:06<00:00, 24.01it/s]\n"
     ]
    },
    {
     "name": "stdout",
     "output_type": "stream",
     "text": [
      "📂 D:\\DETECTION 1.0\\Celeb-DF\\aligned_faces_fake\\id4_id2_0006 | Total frames: 302\n"
     ]
    },
    {
     "name": "stderr",
     "output_type": "stream",
     "text": [
      "Processing id4_id2_0006: 100%|██████████| 301/301 [00:13<00:00, 22.60it/s]\n"
     ]
    },
    {
     "name": "stdout",
     "output_type": "stream",
     "text": [
      "📂 D:\\DETECTION 1.0\\Celeb-DF\\aligned_faces_fake\\id4_id2_0007 | Total frames: 425\n"
     ]
    },
    {
     "name": "stderr",
     "output_type": "stream",
     "text": [
      "Processing id4_id2_0007: 100%|██████████| 424/424 [00:17<00:00, 23.95it/s]\n"
     ]
    },
    {
     "name": "stdout",
     "output_type": "stream",
     "text": [
      "📂 D:\\DETECTION 1.0\\Celeb-DF\\aligned_faces_fake\\id4_id2_0008 | Total frames: 311\n"
     ]
    },
    {
     "name": "stderr",
     "output_type": "stream",
     "text": [
      "Processing id4_id2_0008: 100%|██████████| 310/310 [00:13<00:00, 23.76it/s]\n"
     ]
    },
    {
     "name": "stdout",
     "output_type": "stream",
     "text": [
      "📂 D:\\DETECTION 1.0\\Celeb-DF\\aligned_faces_fake\\id4_id2_0009 | Total frames: 395\n"
     ]
    },
    {
     "name": "stderr",
     "output_type": "stream",
     "text": [
      "Processing id4_id2_0009: 100%|██████████| 394/394 [00:16<00:00, 23.29it/s]\n"
     ]
    },
    {
     "name": "stdout",
     "output_type": "stream",
     "text": [
      "📂 D:\\DETECTION 1.0\\Celeb-DF\\aligned_faces_fake\\id4_id3_0000 | Total frames: 419\n"
     ]
    },
    {
     "name": "stderr",
     "output_type": "stream",
     "text": [
      "Processing id4_id3_0000: 100%|██████████| 418/418 [00:18<00:00, 22.59it/s]\n"
     ]
    },
    {
     "name": "stdout",
     "output_type": "stream",
     "text": [
      "📂 D:\\DETECTION 1.0\\Celeb-DF\\aligned_faces_fake\\id4_id3_0001 | Total frames: 125\n"
     ]
    },
    {
     "name": "stderr",
     "output_type": "stream",
     "text": [
      "Processing id4_id3_0001: 100%|██████████| 124/124 [00:05<00:00, 23.41it/s]\n"
     ]
    },
    {
     "name": "stdout",
     "output_type": "stream",
     "text": [
      "📂 D:\\DETECTION 1.0\\Celeb-DF\\aligned_faces_fake\\id4_id3_0002 | Total frames: 423\n"
     ]
    },
    {
     "name": "stderr",
     "output_type": "stream",
     "text": [
      "Processing id4_id3_0002: 100%|██████████| 422/422 [00:18<00:00, 23.16it/s]\n"
     ]
    },
    {
     "name": "stdout",
     "output_type": "stream",
     "text": [
      "📂 D:\\DETECTION 1.0\\Celeb-DF\\aligned_faces_fake\\id4_id3_0003 | Total frames: 426\n"
     ]
    },
    {
     "name": "stderr",
     "output_type": "stream",
     "text": [
      "Processing id4_id3_0003: 100%|██████████| 425/425 [00:18<00:00, 23.07it/s]\n"
     ]
    },
    {
     "name": "stdout",
     "output_type": "stream",
     "text": [
      "📂 D:\\DETECTION 1.0\\Celeb-DF\\aligned_faces_fake\\id4_id3_0004 | Total frames: 416\n"
     ]
    },
    {
     "name": "stderr",
     "output_type": "stream",
     "text": [
      "Processing id4_id3_0004: 100%|██████████| 415/415 [00:17<00:00, 23.90it/s]\n"
     ]
    },
    {
     "name": "stdout",
     "output_type": "stream",
     "text": [
      "📂 D:\\DETECTION 1.0\\Celeb-DF\\aligned_faces_fake\\id4_id3_0005 | Total frames: 148\n"
     ]
    },
    {
     "name": "stderr",
     "output_type": "stream",
     "text": [
      "Processing id4_id3_0005: 100%|██████████| 147/147 [00:06<00:00, 23.52it/s]\n"
     ]
    },
    {
     "name": "stdout",
     "output_type": "stream",
     "text": [
      "📂 D:\\DETECTION 1.0\\Celeb-DF\\aligned_faces_fake\\id4_id3_0006 | Total frames: 302\n"
     ]
    },
    {
     "name": "stderr",
     "output_type": "stream",
     "text": [
      "Processing id4_id3_0006: 100%|██████████| 301/301 [00:13<00:00, 22.10it/s]\n"
     ]
    },
    {
     "name": "stdout",
     "output_type": "stream",
     "text": [
      "📂 D:\\DETECTION 1.0\\Celeb-DF\\aligned_faces_fake\\id4_id3_0007 | Total frames: 446\n"
     ]
    },
    {
     "name": "stderr",
     "output_type": "stream",
     "text": [
      "Processing id4_id3_0007: 100%|██████████| 445/445 [00:19<00:00, 23.18it/s]\n"
     ]
    },
    {
     "name": "stdout",
     "output_type": "stream",
     "text": [
      "📂 D:\\DETECTION 1.0\\Celeb-DF\\aligned_faces_fake\\id4_id3_0008 | Total frames: 287\n"
     ]
    },
    {
     "name": "stderr",
     "output_type": "stream",
     "text": [
      "Processing id4_id3_0008: 100%|██████████| 286/286 [00:12<00:00, 23.53it/s]\n"
     ]
    },
    {
     "name": "stdout",
     "output_type": "stream",
     "text": [
      "📂 D:\\DETECTION 1.0\\Celeb-DF\\aligned_faces_fake\\id4_id3_0009 | Total frames: 376\n"
     ]
    },
    {
     "name": "stderr",
     "output_type": "stream",
     "text": [
      "Processing id4_id3_0009: 100%|██████████| 375/375 [00:16<00:00, 22.68it/s]\n"
     ]
    },
    {
     "name": "stdout",
     "output_type": "stream",
     "text": [
      "📂 D:\\DETECTION 1.0\\Celeb-DF\\aligned_faces_fake\\id4_id6_0000 | Total frames: 403\n"
     ]
    },
    {
     "name": "stderr",
     "output_type": "stream",
     "text": [
      "Processing id4_id6_0000: 100%|██████████| 402/402 [00:17<00:00, 23.50it/s]\n"
     ]
    },
    {
     "name": "stdout",
     "output_type": "stream",
     "text": [
      "📂 D:\\DETECTION 1.0\\Celeb-DF\\aligned_faces_fake\\id4_id6_0001 | Total frames: 72\n"
     ]
    },
    {
     "name": "stderr",
     "output_type": "stream",
     "text": [
      "Processing id4_id6_0001: 100%|██████████| 71/71 [00:03<00:00, 23.36it/s]\n"
     ]
    },
    {
     "name": "stdout",
     "output_type": "stream",
     "text": [
      "📂 D:\\DETECTION 1.0\\Celeb-DF\\aligned_faces_fake\\id4_id6_0002 | Total frames: 452\n"
     ]
    },
    {
     "name": "stderr",
     "output_type": "stream",
     "text": [
      "Processing id4_id6_0002: 100%|██████████| 451/451 [00:19<00:00, 23.34it/s]\n"
     ]
    },
    {
     "name": "stdout",
     "output_type": "stream",
     "text": [
      "📂 D:\\DETECTION 1.0\\Celeb-DF\\aligned_faces_fake\\id4_id6_0003 | Total frames: 430\n"
     ]
    },
    {
     "name": "stderr",
     "output_type": "stream",
     "text": [
      "Processing id4_id6_0003: 100%|██████████| 429/429 [00:18<00:00, 22.99it/s]\n"
     ]
    },
    {
     "name": "stdout",
     "output_type": "stream",
     "text": [
      "📂 D:\\DETECTION 1.0\\Celeb-DF\\aligned_faces_fake\\id4_id6_0004 | Total frames: 423\n"
     ]
    },
    {
     "name": "stderr",
     "output_type": "stream",
     "text": [
      "Processing id4_id6_0004: 100%|██████████| 422/422 [00:17<00:00, 24.23it/s]\n"
     ]
    },
    {
     "name": "stdout",
     "output_type": "stream",
     "text": [
      "📂 D:\\DETECTION 1.0\\Celeb-DF\\aligned_faces_fake\\id4_id6_0005 | Total frames: 185\n"
     ]
    },
    {
     "name": "stderr",
     "output_type": "stream",
     "text": [
      "Processing id4_id6_0005: 100%|██████████| 184/184 [00:07<00:00, 23.72it/s]\n"
     ]
    },
    {
     "name": "stdout",
     "output_type": "stream",
     "text": [
      "📂 D:\\DETECTION 1.0\\Celeb-DF\\aligned_faces_fake\\id4_id6_0006 | Total frames: 301\n"
     ]
    },
    {
     "name": "stderr",
     "output_type": "stream",
     "text": [
      "Processing id4_id6_0006: 100%|██████████| 300/300 [00:12<00:00, 23.11it/s]\n"
     ]
    },
    {
     "name": "stdout",
     "output_type": "stream",
     "text": [
      "📂 D:\\DETECTION 1.0\\Celeb-DF\\aligned_faces_fake\\id4_id6_0007 | Total frames: 441\n"
     ]
    },
    {
     "name": "stderr",
     "output_type": "stream",
     "text": [
      "Processing id4_id6_0007: 100%|██████████| 440/440 [00:18<00:00, 23.45it/s]\n"
     ]
    },
    {
     "name": "stdout",
     "output_type": "stream",
     "text": [
      "📂 D:\\DETECTION 1.0\\Celeb-DF\\aligned_faces_fake\\id4_id6_0008 | Total frames: 291\n"
     ]
    },
    {
     "name": "stderr",
     "output_type": "stream",
     "text": [
      "Processing id4_id6_0008: 100%|██████████| 290/290 [00:12<00:00, 22.74it/s]\n"
     ]
    },
    {
     "name": "stdout",
     "output_type": "stream",
     "text": [
      "📂 D:\\DETECTION 1.0\\Celeb-DF\\aligned_faces_fake\\id4_id6_0009 | Total frames: 390\n"
     ]
    },
    {
     "name": "stderr",
     "output_type": "stream",
     "text": [
      "Processing id4_id6_0009: 100%|██████████| 389/389 [00:16<00:00, 23.34it/s]\n"
     ]
    },
    {
     "name": "stdout",
     "output_type": "stream",
     "text": [
      "📂 D:\\DETECTION 1.0\\Celeb-DF\\aligned_faces_fake\\id4_id9_0000 | Total frames: 414\n"
     ]
    },
    {
     "name": "stderr",
     "output_type": "stream",
     "text": [
      "Processing id4_id9_0000: 100%|██████████| 413/413 [00:17<00:00, 23.43it/s]\n"
     ]
    },
    {
     "name": "stdout",
     "output_type": "stream",
     "text": [
      "📂 D:\\DETECTION 1.0\\Celeb-DF\\aligned_faces_fake\\id4_id9_0001 | Total frames: 136\n"
     ]
    },
    {
     "name": "stderr",
     "output_type": "stream",
     "text": [
      "Processing id4_id9_0001: 100%|██████████| 135/135 [00:05<00:00, 23.49it/s]\n"
     ]
    },
    {
     "name": "stdout",
     "output_type": "stream",
     "text": [
      "📂 D:\\DETECTION 1.0\\Celeb-DF\\aligned_faces_fake\\id4_id9_0002 | Total frames: 472\n"
     ]
    },
    {
     "name": "stderr",
     "output_type": "stream",
     "text": [
      "Processing id4_id9_0002: 100%|██████████| 471/471 [00:20<00:00, 23.25it/s]\n"
     ]
    },
    {
     "name": "stdout",
     "output_type": "stream",
     "text": [
      "📂 D:\\DETECTION 1.0\\Celeb-DF\\aligned_faces_fake\\id4_id9_0003 | Total frames: 428\n"
     ]
    },
    {
     "name": "stderr",
     "output_type": "stream",
     "text": [
      "Processing id4_id9_0003: 100%|██████████| 427/427 [00:18<00:00, 23.44it/s]\n"
     ]
    },
    {
     "name": "stdout",
     "output_type": "stream",
     "text": [
      "📂 D:\\DETECTION 1.0\\Celeb-DF\\aligned_faces_fake\\id4_id9_0004 | Total frames: 429\n"
     ]
    },
    {
     "name": "stderr",
     "output_type": "stream",
     "text": [
      "Processing id4_id9_0004: 100%|██████████| 428/428 [00:17<00:00, 24.50it/s]\n"
     ]
    },
    {
     "name": "stdout",
     "output_type": "stream",
     "text": [
      "📂 D:\\DETECTION 1.0\\Celeb-DF\\aligned_faces_fake\\id4_id9_0005 | Total frames: 226\n"
     ]
    },
    {
     "name": "stderr",
     "output_type": "stream",
     "text": [
      "Processing id4_id9_0005: 100%|██████████| 225/225 [00:09<00:00, 24.16it/s]\n"
     ]
    },
    {
     "name": "stdout",
     "output_type": "stream",
     "text": [
      "📂 D:\\DETECTION 1.0\\Celeb-DF\\aligned_faces_fake\\id4_id9_0006 | Total frames: 301\n"
     ]
    },
    {
     "name": "stderr",
     "output_type": "stream",
     "text": [
      "Processing id4_id9_0006: 100%|██████████| 300/300 [00:13<00:00, 23.05it/s]\n"
     ]
    },
    {
     "name": "stdout",
     "output_type": "stream",
     "text": [
      "📂 D:\\DETECTION 1.0\\Celeb-DF\\aligned_faces_fake\\id4_id9_0007 | Total frames: 446\n"
     ]
    },
    {
     "name": "stderr",
     "output_type": "stream",
     "text": [
      "Processing id4_id9_0007: 100%|██████████| 445/445 [00:18<00:00, 23.70it/s]\n"
     ]
    },
    {
     "name": "stdout",
     "output_type": "stream",
     "text": [
      "📂 D:\\DETECTION 1.0\\Celeb-DF\\aligned_faces_fake\\id4_id9_0008 | Total frames: 285\n"
     ]
    },
    {
     "name": "stderr",
     "output_type": "stream",
     "text": [
      "Processing id4_id9_0008: 100%|██████████| 284/284 [00:12<00:00, 23.21it/s]\n"
     ]
    },
    {
     "name": "stdout",
     "output_type": "stream",
     "text": [
      "📂 D:\\DETECTION 1.0\\Celeb-DF\\aligned_faces_fake\\id6_id0_0000 | Total frames: 619\n"
     ]
    },
    {
     "name": "stderr",
     "output_type": "stream",
     "text": [
      "Processing id6_id0_0000: 100%|██████████| 618/618 [00:26<00:00, 23.76it/s]\n"
     ]
    },
    {
     "name": "stdout",
     "output_type": "stream",
     "text": [
      "📂 D:\\DETECTION 1.0\\Celeb-DF\\aligned_faces_fake\\id6_id0_0001 | Total frames: 308\n"
     ]
    },
    {
     "name": "stderr",
     "output_type": "stream",
     "text": [
      "Processing id6_id0_0001: 100%|██████████| 307/307 [00:13<00:00, 23.53it/s]\n"
     ]
    },
    {
     "name": "stdout",
     "output_type": "stream",
     "text": [
      "📂 D:\\DETECTION 1.0\\Celeb-DF\\aligned_faces_fake\\id6_id0_0002 | Total frames: 604\n"
     ]
    },
    {
     "name": "stderr",
     "output_type": "stream",
     "text": [
      "Processing id6_id0_0002: 100%|██████████| 603/603 [00:25<00:00, 23.20it/s]\n"
     ]
    },
    {
     "name": "stdout",
     "output_type": "stream",
     "text": [
      "📂 D:\\DETECTION 1.0\\Celeb-DF\\aligned_faces_fake\\id6_id0_0003 | Total frames: 372\n"
     ]
    },
    {
     "name": "stderr",
     "output_type": "stream",
     "text": [
      "Processing id6_id0_0003: 100%|██████████| 371/371 [00:15<00:00, 23.42it/s]\n"
     ]
    },
    {
     "name": "stdout",
     "output_type": "stream",
     "text": [
      "📂 D:\\DETECTION 1.0\\Celeb-DF\\aligned_faces_fake\\id6_id0_0004 | Total frames: 361\n"
     ]
    },
    {
     "name": "stderr",
     "output_type": "stream",
     "text": [
      "Processing id6_id0_0004: 100%|██████████| 360/360 [00:14<00:00, 24.57it/s]\n"
     ]
    },
    {
     "name": "stdout",
     "output_type": "stream",
     "text": [
      "📂 D:\\DETECTION 1.0\\Celeb-DF\\aligned_faces_fake\\id6_id0_0005 | Total frames: 367\n"
     ]
    },
    {
     "name": "stderr",
     "output_type": "stream",
     "text": [
      "Processing id6_id0_0005: 100%|██████████| 366/366 [00:16<00:00, 22.47it/s]\n"
     ]
    },
    {
     "name": "stdout",
     "output_type": "stream",
     "text": [
      "📂 D:\\DETECTION 1.0\\Celeb-DF\\aligned_faces_fake\\id6_id0_0006 | Total frames: 288\n"
     ]
    },
    {
     "name": "stderr",
     "output_type": "stream",
     "text": [
      "Processing id6_id0_0006: 100%|██████████| 287/287 [00:12<00:00, 22.84it/s]\n"
     ]
    },
    {
     "name": "stdout",
     "output_type": "stream",
     "text": [
      "📂 D:\\DETECTION 1.0\\Celeb-DF\\aligned_faces_fake\\id6_id0_0007 | Total frames: 536\n"
     ]
    },
    {
     "name": "stderr",
     "output_type": "stream",
     "text": [
      "Processing id6_id0_0007: 100%|██████████| 535/535 [00:23<00:00, 23.11it/s]\n"
     ]
    },
    {
     "name": "stdout",
     "output_type": "stream",
     "text": [
      "📂 D:\\DETECTION 1.0\\Celeb-DF\\aligned_faces_fake\\id6_id0_0008 | Total frames: 372\n"
     ]
    },
    {
     "name": "stderr",
     "output_type": "stream",
     "text": [
      "Processing id6_id0_0008: 100%|██████████| 371/371 [00:15<00:00, 23.48it/s]\n"
     ]
    },
    {
     "name": "stdout",
     "output_type": "stream",
     "text": [
      "📂 D:\\DETECTION 1.0\\Celeb-DF\\aligned_faces_fake\\id6_id0_0009 | Total frames: 519\n"
     ]
    },
    {
     "name": "stderr",
     "output_type": "stream",
     "text": [
      "Processing id6_id0_0009: 100%|██████████| 518/518 [00:22<00:00, 23.23it/s]\n"
     ]
    },
    {
     "name": "stdout",
     "output_type": "stream",
     "text": [
      "📂 D:\\DETECTION 1.0\\Celeb-DF\\aligned_faces_fake\\id6_id16_0000 | Total frames: 621\n"
     ]
    },
    {
     "name": "stderr",
     "output_type": "stream",
     "text": [
      "Processing id6_id16_0000: 100%|██████████| 620/620 [00:26<00:00, 23.60it/s]\n"
     ]
    },
    {
     "name": "stdout",
     "output_type": "stream",
     "text": [
      "📂 D:\\DETECTION 1.0\\Celeb-DF\\aligned_faces_fake\\id6_id16_0001 | Total frames: 313\n"
     ]
    },
    {
     "name": "stderr",
     "output_type": "stream",
     "text": [
      "Processing id6_id16_0001: 100%|██████████| 312/312 [00:13<00:00, 22.57it/s]\n"
     ]
    },
    {
     "name": "stdout",
     "output_type": "stream",
     "text": [
      "📂 D:\\DETECTION 1.0\\Celeb-DF\\aligned_faces_fake\\id6_id16_0002 | Total frames: 608\n"
     ]
    },
    {
     "name": "stderr",
     "output_type": "stream",
     "text": [
      "Processing id6_id16_0002: 100%|██████████| 607/607 [00:26<00:00, 23.02it/s]\n"
     ]
    },
    {
     "name": "stdout",
     "output_type": "stream",
     "text": [
      "📂 D:\\DETECTION 1.0\\Celeb-DF\\aligned_faces_fake\\id6_id16_0003 | Total frames: 372\n"
     ]
    },
    {
     "name": "stderr",
     "output_type": "stream",
     "text": [
      "Processing id6_id16_0003: 100%|██████████| 371/371 [00:16<00:00, 23.14it/s]\n"
     ]
    },
    {
     "name": "stdout",
     "output_type": "stream",
     "text": [
      "📂 D:\\DETECTION 1.0\\Celeb-DF\\aligned_faces_fake\\id6_id16_0004 | Total frames: 351\n"
     ]
    },
    {
     "name": "stderr",
     "output_type": "stream",
     "text": [
      "Processing id6_id16_0004: 100%|██████████| 350/350 [00:14<00:00, 23.71it/s]\n"
     ]
    },
    {
     "name": "stdout",
     "output_type": "stream",
     "text": [
      "📂 D:\\DETECTION 1.0\\Celeb-DF\\aligned_faces_fake\\id6_id16_0005 | Total frames: 368\n"
     ]
    },
    {
     "name": "stderr",
     "output_type": "stream",
     "text": [
      "Processing id6_id16_0005: 100%|██████████| 367/367 [00:16<00:00, 22.53it/s]\n"
     ]
    },
    {
     "name": "stdout",
     "output_type": "stream",
     "text": [
      "📂 D:\\DETECTION 1.0\\Celeb-DF\\aligned_faces_fake\\id6_id16_0006 | Total frames: 288\n"
     ]
    },
    {
     "name": "stderr",
     "output_type": "stream",
     "text": [
      "Processing id6_id16_0006: 100%|██████████| 287/287 [00:12<00:00, 23.09it/s]\n"
     ]
    },
    {
     "name": "stdout",
     "output_type": "stream",
     "text": [
      "📂 D:\\DETECTION 1.0\\Celeb-DF\\aligned_faces_fake\\id6_id16_0007 | Total frames: 525\n"
     ]
    },
    {
     "name": "stderr",
     "output_type": "stream",
     "text": [
      "Processing id6_id16_0007: 100%|██████████| 524/524 [00:22<00:00, 23.01it/s]\n"
     ]
    },
    {
     "name": "stdout",
     "output_type": "stream",
     "text": [
      "📂 D:\\DETECTION 1.0\\Celeb-DF\\aligned_faces_fake\\id6_id16_0008 | Total frames: 368\n"
     ]
    },
    {
     "name": "stderr",
     "output_type": "stream",
     "text": [
      "Processing id6_id16_0008: 100%|██████████| 367/367 [00:15<00:00, 22.95it/s]\n"
     ]
    },
    {
     "name": "stdout",
     "output_type": "stream",
     "text": [
      "📂 D:\\DETECTION 1.0\\Celeb-DF\\aligned_faces_fake\\id6_id16_0009 | Total frames: 525\n"
     ]
    },
    {
     "name": "stderr",
     "output_type": "stream",
     "text": [
      "Processing id6_id16_0009: 100%|██████████| 524/524 [00:22<00:00, 23.15it/s]\n"
     ]
    },
    {
     "name": "stdout",
     "output_type": "stream",
     "text": [
      "📂 D:\\DETECTION 1.0\\Celeb-DF\\aligned_faces_fake\\id6_id17_0000 | Total frames: 612\n"
     ]
    },
    {
     "name": "stderr",
     "output_type": "stream",
     "text": [
      "Processing id6_id17_0000: 100%|██████████| 611/611 [00:25<00:00, 23.77it/s]\n"
     ]
    },
    {
     "name": "stdout",
     "output_type": "stream",
     "text": [
      "📂 D:\\DETECTION 1.0\\Celeb-DF\\aligned_faces_fake\\id6_id17_0001 | Total frames: 315\n"
     ]
    },
    {
     "name": "stderr",
     "output_type": "stream",
     "text": [
      "Processing id6_id17_0001: 100%|██████████| 314/314 [00:13<00:00, 23.93it/s]\n"
     ]
    },
    {
     "name": "stdout",
     "output_type": "stream",
     "text": [
      "📂 D:\\DETECTION 1.0\\Celeb-DF\\aligned_faces_fake\\id6_id17_0002 | Total frames: 608\n"
     ]
    },
    {
     "name": "stderr",
     "output_type": "stream",
     "text": [
      "Processing id6_id17_0002: 100%|██████████| 607/607 [00:26<00:00, 23.33it/s]\n"
     ]
    },
    {
     "name": "stdout",
     "output_type": "stream",
     "text": [
      "📂 D:\\DETECTION 1.0\\Celeb-DF\\aligned_faces_fake\\id6_id17_0003 | Total frames: 372\n"
     ]
    },
    {
     "name": "stderr",
     "output_type": "stream",
     "text": [
      "Processing id6_id17_0003: 100%|██████████| 371/371 [00:15<00:00, 23.25it/s]\n"
     ]
    },
    {
     "name": "stdout",
     "output_type": "stream",
     "text": [
      "📂 D:\\DETECTION 1.0\\Celeb-DF\\aligned_faces_fake\\id6_id17_0004 | Total frames: 385\n"
     ]
    },
    {
     "name": "stderr",
     "output_type": "stream",
     "text": [
      "Processing id6_id17_0004: 100%|██████████| 384/384 [00:16<00:00, 22.90it/s]\n"
     ]
    },
    {
     "name": "stdout",
     "output_type": "stream",
     "text": [
      "📂 D:\\DETECTION 1.0\\Celeb-DF\\aligned_faces_fake\\id6_id17_0005 | Total frames: 367\n"
     ]
    },
    {
     "name": "stderr",
     "output_type": "stream",
     "text": [
      "Processing id6_id17_0005: 100%|██████████| 366/366 [00:15<00:00, 23.02it/s]\n"
     ]
    },
    {
     "name": "stdout",
     "output_type": "stream",
     "text": [
      "📂 D:\\DETECTION 1.0\\Celeb-DF\\aligned_faces_fake\\id6_id17_0006 | Total frames: 268\n"
     ]
    },
    {
     "name": "stderr",
     "output_type": "stream",
     "text": [
      "Processing id6_id17_0006: 100%|██████████| 267/267 [00:11<00:00, 23.89it/s]\n"
     ]
    },
    {
     "name": "stdout",
     "output_type": "stream",
     "text": [
      "📂 D:\\DETECTION 1.0\\Celeb-DF\\aligned_faces_fake\\id6_id17_0007 | Total frames: 503\n"
     ]
    },
    {
     "name": "stderr",
     "output_type": "stream",
     "text": [
      "Processing id6_id17_0007: 100%|██████████| 502/502 [00:21<00:00, 23.17it/s]\n"
     ]
    },
    {
     "name": "stdout",
     "output_type": "stream",
     "text": [
      "📂 D:\\DETECTION 1.0\\Celeb-DF\\aligned_faces_fake\\id6_id17_0008 | Total frames: 380\n"
     ]
    },
    {
     "name": "stderr",
     "output_type": "stream",
     "text": [
      "Processing id6_id17_0008: 100%|██████████| 379/379 [00:15<00:00, 23.76it/s]\n"
     ]
    },
    {
     "name": "stdout",
     "output_type": "stream",
     "text": [
      "📂 D:\\DETECTION 1.0\\Celeb-DF\\aligned_faces_fake\\id6_id17_0009 | Total frames: 530\n"
     ]
    },
    {
     "name": "stderr",
     "output_type": "stream",
     "text": [
      "Processing id6_id17_0009: 100%|██████████| 529/529 [00:22<00:00, 23.28it/s]\n"
     ]
    },
    {
     "name": "stdout",
     "output_type": "stream",
     "text": [
      "📂 D:\\DETECTION 1.0\\Celeb-DF\\aligned_faces_fake\\id6_id1_0000 | Total frames: 630\n"
     ]
    },
    {
     "name": "stderr",
     "output_type": "stream",
     "text": [
      "Processing id6_id1_0000: 100%|██████████| 629/629 [00:26<00:00, 23.75it/s]\n"
     ]
    },
    {
     "name": "stdout",
     "output_type": "stream",
     "text": [
      "📂 D:\\DETECTION 1.0\\Celeb-DF\\aligned_faces_fake\\id6_id1_0001 | Total frames: 317\n"
     ]
    },
    {
     "name": "stderr",
     "output_type": "stream",
     "text": [
      "Processing id6_id1_0001: 100%|██████████| 316/316 [00:13<00:00, 24.13it/s]\n"
     ]
    },
    {
     "name": "stdout",
     "output_type": "stream",
     "text": [
      "📂 D:\\DETECTION 1.0\\Celeb-DF\\aligned_faces_fake\\id6_id1_0002 | Total frames: 604\n"
     ]
    },
    {
     "name": "stderr",
     "output_type": "stream",
     "text": [
      "Processing id6_id1_0002: 100%|██████████| 603/603 [00:25<00:00, 23.55it/s]\n"
     ]
    },
    {
     "name": "stdout",
     "output_type": "stream",
     "text": [
      "📂 D:\\DETECTION 1.0\\Celeb-DF\\aligned_faces_fake\\id6_id1_0003 | Total frames: 372\n"
     ]
    },
    {
     "name": "stderr",
     "output_type": "stream",
     "text": [
      "Processing id6_id1_0003: 100%|██████████| 371/371 [00:15<00:00, 23.74it/s]\n"
     ]
    },
    {
     "name": "stdout",
     "output_type": "stream",
     "text": [
      "📂 D:\\DETECTION 1.0\\Celeb-DF\\aligned_faces_fake\\id6_id1_0004 | Total frames: 431\n"
     ]
    },
    {
     "name": "stderr",
     "output_type": "stream",
     "text": [
      "Processing id6_id1_0004: 100%|██████████| 430/430 [00:18<00:00, 23.48it/s]\n"
     ]
    },
    {
     "name": "stdout",
     "output_type": "stream",
     "text": [
      "📂 D:\\DETECTION 1.0\\Celeb-DF\\aligned_faces_fake\\id6_id1_0005 | Total frames: 369\n"
     ]
    },
    {
     "name": "stderr",
     "output_type": "stream",
     "text": [
      "Processing id6_id1_0005: 100%|██████████| 368/368 [00:16<00:00, 22.90it/s]\n"
     ]
    },
    {
     "name": "stdout",
     "output_type": "stream",
     "text": [
      "📂 D:\\DETECTION 1.0\\Celeb-DF\\aligned_faces_fake\\id6_id1_0006 | Total frames: 290\n"
     ]
    },
    {
     "name": "stderr",
     "output_type": "stream",
     "text": [
      "Processing id6_id1_0006: 100%|██████████| 289/289 [00:12<00:00, 23.71it/s]\n"
     ]
    },
    {
     "name": "stdout",
     "output_type": "stream",
     "text": [
      "📂 D:\\DETECTION 1.0\\Celeb-DF\\aligned_faces_fake\\id6_id1_0007 | Total frames: 534\n"
     ]
    },
    {
     "name": "stderr",
     "output_type": "stream",
     "text": [
      "Processing id6_id1_0007: 100%|██████████| 533/533 [00:23<00:00, 23.14it/s]\n"
     ]
    },
    {
     "name": "stdout",
     "output_type": "stream",
     "text": [
      "📂 D:\\DETECTION 1.0\\Celeb-DF\\aligned_faces_fake\\id6_id1_0008 | Total frames: 381\n"
     ]
    },
    {
     "name": "stderr",
     "output_type": "stream",
     "text": [
      "Processing id6_id1_0008: 100%|██████████| 380/380 [00:16<00:00, 23.73it/s]\n"
     ]
    },
    {
     "name": "stdout",
     "output_type": "stream",
     "text": [
      "📂 D:\\DETECTION 1.0\\Celeb-DF\\aligned_faces_fake\\id6_id1_0009 | Total frames: 530\n"
     ]
    },
    {
     "name": "stderr",
     "output_type": "stream",
     "text": [
      "Processing id6_id1_0009: 100%|██████████| 529/529 [00:22<00:00, 23.24it/s]\n"
     ]
    },
    {
     "name": "stdout",
     "output_type": "stream",
     "text": [
      "📂 D:\\DETECTION 1.0\\Celeb-DF\\aligned_faces_fake\\id6_id2_0000 | Total frames: 593\n"
     ]
    },
    {
     "name": "stderr",
     "output_type": "stream",
     "text": [
      "Processing id6_id2_0000: 100%|██████████| 592/592 [00:25<00:00, 23.58it/s]\n"
     ]
    },
    {
     "name": "stdout",
     "output_type": "stream",
     "text": [
      "📂 D:\\DETECTION 1.0\\Celeb-DF\\aligned_faces_fake\\id6_id2_0001 | Total frames: 304\n"
     ]
    },
    {
     "name": "stderr",
     "output_type": "stream",
     "text": [
      "Processing id6_id2_0001: 100%|██████████| 303/303 [00:12<00:00, 23.68it/s]\n"
     ]
    },
    {
     "name": "stdout",
     "output_type": "stream",
     "text": [
      "📂 D:\\DETECTION 1.0\\Celeb-DF\\aligned_faces_fake\\id6_id2_0002 | Total frames: 610\n"
     ]
    },
    {
     "name": "stderr",
     "output_type": "stream",
     "text": [
      "Processing id6_id2_0002: 100%|██████████| 609/609 [00:26<00:00, 23.14it/s]\n"
     ]
    },
    {
     "name": "stdout",
     "output_type": "stream",
     "text": [
      "📂 D:\\DETECTION 1.0\\Celeb-DF\\aligned_faces_fake\\id6_id2_0003 | Total frames: 371\n"
     ]
    },
    {
     "name": "stderr",
     "output_type": "stream",
     "text": [
      "Processing id6_id2_0003: 100%|██████████| 370/370 [00:15<00:00, 23.20it/s]\n"
     ]
    },
    {
     "name": "stdout",
     "output_type": "stream",
     "text": [
      "📂 D:\\DETECTION 1.0\\Celeb-DF\\aligned_faces_fake\\id6_id2_0004 | Total frames: 192\n"
     ]
    },
    {
     "name": "stderr",
     "output_type": "stream",
     "text": [
      "Processing id6_id2_0004: 100%|██████████| 191/191 [00:07<00:00, 24.49it/s]\n"
     ]
    },
    {
     "name": "stdout",
     "output_type": "stream",
     "text": [
      "📂 D:\\DETECTION 1.0\\Celeb-DF\\aligned_faces_fake\\id6_id2_0005 | Total frames: 362\n"
     ]
    },
    {
     "name": "stderr",
     "output_type": "stream",
     "text": [
      "Processing id6_id2_0005: 100%|██████████| 361/361 [00:15<00:00, 23.25it/s]\n"
     ]
    },
    {
     "name": "stdout",
     "output_type": "stream",
     "text": [
      "📂 D:\\DETECTION 1.0\\Celeb-DF\\aligned_faces_fake\\id6_id2_0006 | Total frames: 249\n"
     ]
    },
    {
     "name": "stderr",
     "output_type": "stream",
     "text": [
      "Processing id6_id2_0006: 100%|██████████| 248/248 [00:10<00:00, 24.14it/s]\n"
     ]
    },
    {
     "name": "stdout",
     "output_type": "stream",
     "text": [
      "📂 D:\\DETECTION 1.0\\Celeb-DF\\aligned_faces_fake\\id6_id2_0007 | Total frames: 482\n"
     ]
    },
    {
     "name": "stderr",
     "output_type": "stream",
     "text": [
      "Processing id6_id2_0007: 100%|██████████| 481/481 [00:20<00:00, 22.98it/s]\n"
     ]
    },
    {
     "name": "stdout",
     "output_type": "stream",
     "text": [
      "📂 D:\\DETECTION 1.0\\Celeb-DF\\aligned_faces_fake\\id6_id2_0008 | Total frames: 379\n"
     ]
    },
    {
     "name": "stderr",
     "output_type": "stream",
     "text": [
      "Processing id6_id2_0008: 100%|██████████| 378/378 [00:16<00:00, 23.30it/s]\n"
     ]
    },
    {
     "name": "stdout",
     "output_type": "stream",
     "text": [
      "📂 D:\\DETECTION 1.0\\Celeb-DF\\aligned_faces_fake\\id6_id2_0009 | Total frames: 499\n"
     ]
    },
    {
     "name": "stderr",
     "output_type": "stream",
     "text": [
      "Processing id6_id2_0009: 100%|██████████| 498/498 [00:21<00:00, 23.09it/s]\n"
     ]
    },
    {
     "name": "stdout",
     "output_type": "stream",
     "text": [
      "📂 D:\\DETECTION 1.0\\Celeb-DF\\aligned_faces_fake\\id6_id3_0000 | Total frames: 581\n"
     ]
    },
    {
     "name": "stderr",
     "output_type": "stream",
     "text": [
      "Processing id6_id3_0000: 100%|██████████| 580/580 [00:25<00:00, 22.70it/s]\n"
     ]
    },
    {
     "name": "stdout",
     "output_type": "stream",
     "text": [
      "📂 D:\\DETECTION 1.0\\Celeb-DF\\aligned_faces_fake\\id6_id3_0001 | Total frames: 313\n"
     ]
    },
    {
     "name": "stderr",
     "output_type": "stream",
     "text": [
      "Processing id6_id3_0001: 100%|██████████| 312/312 [00:13<00:00, 23.73it/s]\n"
     ]
    },
    {
     "name": "stdout",
     "output_type": "stream",
     "text": [
      "📂 D:\\DETECTION 1.0\\Celeb-DF\\aligned_faces_fake\\id6_id3_0002 | Total frames: 600\n"
     ]
    },
    {
     "name": "stderr",
     "output_type": "stream",
     "text": [
      "Processing id6_id3_0002: 100%|██████████| 599/599 [00:25<00:00, 23.46it/s]\n"
     ]
    },
    {
     "name": "stdout",
     "output_type": "stream",
     "text": [
      "📂 D:\\DETECTION 1.0\\Celeb-DF\\aligned_faces_fake\\id6_id3_0003 | Total frames: 372\n"
     ]
    },
    {
     "name": "stderr",
     "output_type": "stream",
     "text": [
      "Processing id6_id3_0003: 100%|██████████| 371/371 [00:15<00:00, 24.09it/s]\n"
     ]
    },
    {
     "name": "stdout",
     "output_type": "stream",
     "text": [
      "📂 D:\\DETECTION 1.0\\Celeb-DF\\aligned_faces_fake\\id6_id3_0004 | Total frames: 338\n"
     ]
    },
    {
     "name": "stderr",
     "output_type": "stream",
     "text": [
      "Processing id6_id3_0004: 100%|██████████| 337/337 [00:13<00:00, 24.29it/s]\n"
     ]
    },
    {
     "name": "stdout",
     "output_type": "stream",
     "text": [
      "📂 D:\\DETECTION 1.0\\Celeb-DF\\aligned_faces_fake\\id6_id3_0005 | Total frames: 365\n"
     ]
    },
    {
     "name": "stderr",
     "output_type": "stream",
     "text": [
      "Processing id6_id3_0005: 100%|██████████| 364/364 [00:15<00:00, 23.84it/s]\n"
     ]
    },
    {
     "name": "stdout",
     "output_type": "stream",
     "text": [
      "📂 D:\\DETECTION 1.0\\Celeb-DF\\aligned_faces_fake\\id6_id3_0006 | Total frames: 284\n"
     ]
    },
    {
     "name": "stderr",
     "output_type": "stream",
     "text": [
      "Processing id6_id3_0006: 100%|██████████| 283/283 [00:12<00:00, 23.42it/s]\n"
     ]
    },
    {
     "name": "stdout",
     "output_type": "stream",
     "text": [
      "📂 D:\\DETECTION 1.0\\Celeb-DF\\aligned_faces_fake\\id6_id3_0007 | Total frames: 506\n"
     ]
    },
    {
     "name": "stderr",
     "output_type": "stream",
     "text": [
      "Processing id6_id3_0007: 100%|██████████| 505/505 [00:21<00:00, 23.69it/s]\n"
     ]
    },
    {
     "name": "stdout",
     "output_type": "stream",
     "text": [
      "📂 D:\\DETECTION 1.0\\Celeb-DF\\aligned_faces_fake\\id6_id3_0008 | Total frames: 366\n"
     ]
    },
    {
     "name": "stderr",
     "output_type": "stream",
     "text": [
      "Processing id6_id3_0008: 100%|██████████| 365/365 [00:15<00:00, 23.80it/s]\n"
     ]
    },
    {
     "name": "stdout",
     "output_type": "stream",
     "text": [
      "📂 D:\\DETECTION 1.0\\Celeb-DF\\aligned_faces_fake\\id6_id3_0009 | Total frames: 512\n"
     ]
    },
    {
     "name": "stderr",
     "output_type": "stream",
     "text": [
      "Processing id6_id3_0009: 100%|██████████| 511/511 [00:21<00:00, 23.34it/s]\n"
     ]
    },
    {
     "name": "stdout",
     "output_type": "stream",
     "text": [
      "📂 D:\\DETECTION 1.0\\Celeb-DF\\aligned_faces_fake\\id6_id4_0001 | Total frames: 300\n"
     ]
    },
    {
     "name": "stderr",
     "output_type": "stream",
     "text": [
      "Processing id6_id4_0001: 100%|██████████| 299/299 [00:12<00:00, 23.16it/s]\n"
     ]
    },
    {
     "name": "stdout",
     "output_type": "stream",
     "text": [
      "📂 D:\\DETECTION 1.0\\Celeb-DF\\aligned_faces_fake\\id6_id4_0004 | Total frames: 213\n"
     ]
    },
    {
     "name": "stderr",
     "output_type": "stream",
     "text": [
      "Processing id6_id4_0004: 100%|██████████| 212/212 [00:08<00:00, 24.02it/s]\n"
     ]
    },
    {
     "name": "stdout",
     "output_type": "stream",
     "text": [
      "📂 D:\\DETECTION 1.0\\Celeb-DF\\aligned_faces_fake\\id6_id4_0005 | Total frames: 357\n"
     ]
    },
    {
     "name": "stderr",
     "output_type": "stream",
     "text": [
      "Processing id6_id4_0005: 100%|██████████| 356/356 [00:15<00:00, 23.01it/s]\n"
     ]
    },
    {
     "name": "stdout",
     "output_type": "stream",
     "text": [
      "📂 D:\\DETECTION 1.0\\Celeb-DF\\aligned_faces_fake\\id6_id4_0006 | Total frames: 248\n"
     ]
    },
    {
     "name": "stderr",
     "output_type": "stream",
     "text": [
      "Processing id6_id4_0006: 100%|██████████| 247/247 [00:10<00:00, 23.70it/s]\n"
     ]
    },
    {
     "name": "stdout",
     "output_type": "stream",
     "text": [
      "📂 D:\\DETECTION 1.0\\Celeb-DF\\aligned_faces_fake\\id6_id4_0007 | Total frames: 513\n"
     ]
    },
    {
     "name": "stderr",
     "output_type": "stream",
     "text": [
      "Processing id6_id4_0007: 100%|██████████| 512/512 [00:22<00:00, 23.00it/s]\n"
     ]
    },
    {
     "name": "stdout",
     "output_type": "stream",
     "text": [
      "📂 D:\\DETECTION 1.0\\Celeb-DF\\aligned_faces_fake\\id6_id4_0008 | Total frames: 337\n"
     ]
    },
    {
     "name": "stderr",
     "output_type": "stream",
     "text": [
      "Processing id6_id4_0008: 100%|██████████| 336/336 [00:14<00:00, 23.22it/s]\n"
     ]
    },
    {
     "name": "stdout",
     "output_type": "stream",
     "text": [
      "📂 D:\\DETECTION 1.0\\Celeb-DF\\aligned_faces_fake\\id6_id4_0009 | Total frames: 504\n"
     ]
    },
    {
     "name": "stderr",
     "output_type": "stream",
     "text": [
      "Processing id6_id4_0009: 100%|██████████| 503/503 [00:21<00:00, 23.09it/s]\n"
     ]
    },
    {
     "name": "stdout",
     "output_type": "stream",
     "text": [
      "📂 D:\\DETECTION 1.0\\Celeb-DF\\aligned_faces_fake\\id6_id9_0000 | Total frames: 591\n"
     ]
    },
    {
     "name": "stderr",
     "output_type": "stream",
     "text": [
      "Processing id6_id9_0000: 100%|██████████| 590/590 [00:24<00:00, 23.99it/s]\n"
     ]
    },
    {
     "name": "stdout",
     "output_type": "stream",
     "text": [
      "📂 D:\\DETECTION 1.0\\Celeb-DF\\aligned_faces_fake\\id6_id9_0001 | Total frames: 310\n"
     ]
    },
    {
     "name": "stderr",
     "output_type": "stream",
     "text": [
      "Processing id6_id9_0001: 100%|██████████| 309/309 [00:12<00:00, 24.55it/s]\n"
     ]
    },
    {
     "name": "stdout",
     "output_type": "stream",
     "text": [
      "📂 D:\\DETECTION 1.0\\Celeb-DF\\aligned_faces_fake\\id6_id9_0002 | Total frames: 602\n"
     ]
    },
    {
     "name": "stderr",
     "output_type": "stream",
     "text": [
      "Processing id6_id9_0002: 100%|██████████| 601/601 [00:25<00:00, 23.60it/s]\n"
     ]
    },
    {
     "name": "stdout",
     "output_type": "stream",
     "text": [
      "📂 D:\\DETECTION 1.0\\Celeb-DF\\aligned_faces_fake\\id6_id9_0003 | Total frames: 372\n"
     ]
    },
    {
     "name": "stderr",
     "output_type": "stream",
     "text": [
      "Processing id6_id9_0003: 100%|██████████| 371/371 [00:15<00:00, 24.25it/s]\n"
     ]
    },
    {
     "name": "stdout",
     "output_type": "stream",
     "text": [
      "📂 D:\\DETECTION 1.0\\Celeb-DF\\aligned_faces_fake\\id6_id9_0004 | Total frames: 412\n"
     ]
    },
    {
     "name": "stderr",
     "output_type": "stream",
     "text": [
      "Processing id6_id9_0004: 100%|██████████| 411/411 [00:17<00:00, 23.93it/s]\n"
     ]
    },
    {
     "name": "stdout",
     "output_type": "stream",
     "text": [
      "📂 D:\\DETECTION 1.0\\Celeb-DF\\aligned_faces_fake\\id6_id9_0005 | Total frames: 366\n"
     ]
    },
    {
     "name": "stderr",
     "output_type": "stream",
     "text": [
      "Processing id6_id9_0005: 100%|██████████| 365/365 [00:15<00:00, 23.80it/s]\n"
     ]
    },
    {
     "name": "stdout",
     "output_type": "stream",
     "text": [
      "📂 D:\\DETECTION 1.0\\Celeb-DF\\aligned_faces_fake\\id6_id9_0006 | Total frames: 289\n"
     ]
    },
    {
     "name": "stderr",
     "output_type": "stream",
     "text": [
      "Processing id6_id9_0006: 100%|██████████| 288/288 [00:12<00:00, 23.72it/s]\n"
     ]
    },
    {
     "name": "stdout",
     "output_type": "stream",
     "text": [
      "📂 D:\\DETECTION 1.0\\Celeb-DF\\aligned_faces_fake\\id6_id9_0007 | Total frames: 511\n"
     ]
    },
    {
     "name": "stderr",
     "output_type": "stream",
     "text": [
      "Processing id6_id9_0007: 100%|██████████| 510/510 [00:21<00:00, 23.61it/s]\n"
     ]
    },
    {
     "name": "stdout",
     "output_type": "stream",
     "text": [
      "📂 D:\\DETECTION 1.0\\Celeb-DF\\aligned_faces_fake\\id6_id9_0008 | Total frames: 377\n"
     ]
    },
    {
     "name": "stderr",
     "output_type": "stream",
     "text": [
      "Processing id6_id9_0008: 100%|██████████| 376/376 [00:15<00:00, 23.85it/s]\n"
     ]
    },
    {
     "name": "stdout",
     "output_type": "stream",
     "text": [
      "📂 D:\\DETECTION 1.0\\Celeb-DF\\aligned_faces_fake\\id6_id9_0009 | Total frames: 527\n"
     ]
    },
    {
     "name": "stderr",
     "output_type": "stream",
     "text": [
      "Processing id6_id9_0009: 100%|██████████| 526/526 [00:22<00:00, 23.52it/s]\n"
     ]
    },
    {
     "name": "stdout",
     "output_type": "stream",
     "text": [
      "📂 D:\\DETECTION 1.0\\Celeb-DF\\aligned_faces_fake\\id7_id10_0001 | Total frames: 295\n"
     ]
    },
    {
     "name": "stderr",
     "output_type": "stream",
     "text": [
      "Processing id7_id10_0001: 100%|██████████| 294/294 [00:12<00:00, 23.56it/s]\n"
     ]
    },
    {
     "name": "stdout",
     "output_type": "stream",
     "text": [
      "📂 D:\\DETECTION 1.0\\Celeb-DF\\aligned_faces_fake\\id7_id10_0002 | Total frames: 259\n"
     ]
    },
    {
     "name": "stderr",
     "output_type": "stream",
     "text": [
      "Processing id7_id10_0002: 100%|██████████| 258/258 [00:11<00:00, 23.12it/s]\n"
     ]
    },
    {
     "name": "stdout",
     "output_type": "stream",
     "text": [
      "📂 D:\\DETECTION 1.0\\Celeb-DF\\aligned_faces_fake\\id7_id10_0003 | Total frames: 545\n"
     ]
    },
    {
     "name": "stderr",
     "output_type": "stream",
     "text": [
      "Processing id7_id10_0003: 100%|██████████| 544/544 [00:23<00:00, 23.30it/s]\n"
     ]
    },
    {
     "name": "stdout",
     "output_type": "stream",
     "text": [
      "📂 D:\\DETECTION 1.0\\Celeb-DF\\aligned_faces_fake\\id7_id10_0004 | Total frames: 457\n"
     ]
    },
    {
     "name": "stderr",
     "output_type": "stream",
     "text": [
      "Processing id7_id10_0004: 100%|██████████| 456/456 [00:18<00:00, 24.39it/s]\n"
     ]
    },
    {
     "name": "stdout",
     "output_type": "stream",
     "text": [
      "📂 D:\\DETECTION 1.0\\Celeb-DF\\aligned_faces_fake\\id7_id10_0005 | Total frames: 135\n"
     ]
    },
    {
     "name": "stderr",
     "output_type": "stream",
     "text": [
      "Processing id7_id10_0005: 100%|██████████| 134/134 [00:05<00:00, 25.14it/s]\n"
     ]
    },
    {
     "name": "stdout",
     "output_type": "stream",
     "text": [
      "📂 D:\\DETECTION 1.0\\Celeb-DF\\aligned_faces_fake\\id7_id10_0007 | Total frames: 400\n"
     ]
    },
    {
     "name": "stderr",
     "output_type": "stream",
     "text": [
      "Processing id7_id10_0007: 100%|██████████| 399/399 [00:17<00:00, 23.41it/s]\n"
     ]
    },
    {
     "name": "stdout",
     "output_type": "stream",
     "text": [
      "📂 D:\\DETECTION 1.0\\Celeb-DF\\aligned_faces_fake\\id7_id10_0009 | Total frames: 457\n"
     ]
    },
    {
     "name": "stderr",
     "output_type": "stream",
     "text": [
      "Processing id7_id10_0009: 100%|██████████| 456/456 [00:19<00:00, 23.33it/s]\n"
     ]
    },
    {
     "name": "stdout",
     "output_type": "stream",
     "text": [
      "📂 D:\\DETECTION 1.0\\Celeb-DF\\aligned_faces_fake\\id7_id11_0000 | Total frames: 263\n"
     ]
    },
    {
     "name": "stderr",
     "output_type": "stream",
     "text": [
      "Processing id7_id11_0000: 100%|██████████| 262/262 [00:11<00:00, 22.64it/s]\n"
     ]
    },
    {
     "name": "stdout",
     "output_type": "stream",
     "text": [
      "📂 D:\\DETECTION 1.0\\Celeb-DF\\aligned_faces_fake\\id7_id11_0001 | Total frames: 295\n"
     ]
    },
    {
     "name": "stderr",
     "output_type": "stream",
     "text": [
      "Processing id7_id11_0001: 100%|██████████| 294/294 [00:12<00:00, 23.19it/s]\n"
     ]
    },
    {
     "name": "stdout",
     "output_type": "stream",
     "text": [
      "📂 D:\\DETECTION 1.0\\Celeb-DF\\aligned_faces_fake\\id7_id11_0002 | Total frames: 268\n"
     ]
    },
    {
     "name": "stderr",
     "output_type": "stream",
     "text": [
      "Processing id7_id11_0002: 100%|██████████| 267/267 [00:11<00:00, 23.35it/s]\n"
     ]
    },
    {
     "name": "stdout",
     "output_type": "stream",
     "text": [
      "📂 D:\\DETECTION 1.0\\Celeb-DF\\aligned_faces_fake\\id7_id11_0004 | Total frames: 483\n"
     ]
    },
    {
     "name": "stderr",
     "output_type": "stream",
     "text": [
      "Processing id7_id11_0004: 100%|██████████| 482/482 [00:20<00:00, 23.71it/s]\n"
     ]
    },
    {
     "name": "stdout",
     "output_type": "stream",
     "text": [
      "📂 D:\\DETECTION 1.0\\Celeb-DF\\aligned_faces_fake\\id7_id11_0005 | Total frames: 159\n"
     ]
    },
    {
     "name": "stderr",
     "output_type": "stream",
     "text": [
      "Processing id7_id11_0005: 100%|██████████| 158/158 [00:06<00:00, 25.17it/s]\n"
     ]
    },
    {
     "name": "stdout",
     "output_type": "stream",
     "text": [
      "📂 D:\\DETECTION 1.0\\Celeb-DF\\aligned_faces_fake\\id7_id11_0006 | Total frames: 214\n"
     ]
    },
    {
     "name": "stderr",
     "output_type": "stream",
     "text": [
      "Processing id7_id11_0006: 100%|██████████| 213/213 [00:09<00:00, 23.44it/s]\n"
     ]
    },
    {
     "name": "stdout",
     "output_type": "stream",
     "text": [
      "📂 D:\\DETECTION 1.0\\Celeb-DF\\aligned_faces_fake\\id7_id11_0007 | Total frames: 400\n"
     ]
    },
    {
     "name": "stderr",
     "output_type": "stream",
     "text": [
      "Processing id7_id11_0007: 100%|██████████| 399/399 [00:16<00:00, 23.74it/s]\n"
     ]
    },
    {
     "name": "stdout",
     "output_type": "stream",
     "text": [
      "📂 D:\\DETECTION 1.0\\Celeb-DF\\aligned_faces_fake\\id7_id11_0009 | Total frames: 458\n"
     ]
    },
    {
     "name": "stderr",
     "output_type": "stream",
     "text": [
      "Processing id7_id11_0009: 100%|██████████| 457/457 [00:19<00:00, 23.90it/s]\n"
     ]
    },
    {
     "name": "stdout",
     "output_type": "stream",
     "text": [
      "📂 D:\\DETECTION 1.0\\Celeb-DF\\aligned_faces_fake\\id7_id12_0000 | Total frames: 256\n"
     ]
    },
    {
     "name": "stderr",
     "output_type": "stream",
     "text": [
      "Processing id7_id12_0000: 100%|██████████| 255/255 [00:11<00:00, 22.94it/s]\n"
     ]
    },
    {
     "name": "stdout",
     "output_type": "stream",
     "text": [
      "📂 D:\\DETECTION 1.0\\Celeb-DF\\aligned_faces_fake\\id7_id12_0002 | Total frames: 256\n"
     ]
    },
    {
     "name": "stderr",
     "output_type": "stream",
     "text": [
      "Processing id7_id12_0002: 100%|██████████| 255/255 [00:10<00:00, 23.48it/s]\n"
     ]
    },
    {
     "name": "stdout",
     "output_type": "stream",
     "text": [
      "📂 D:\\DETECTION 1.0\\Celeb-DF\\aligned_faces_fake\\id7_id12_0004 | Total frames: 524\n"
     ]
    },
    {
     "name": "stderr",
     "output_type": "stream",
     "text": [
      "Processing id7_id12_0004: 100%|██████████| 523/523 [00:21<00:00, 24.09it/s]\n"
     ]
    },
    {
     "name": "stdout",
     "output_type": "stream",
     "text": [
      "📂 D:\\DETECTION 1.0\\Celeb-DF\\aligned_faces_fake\\id7_id12_0005 | Total frames: 150\n"
     ]
    },
    {
     "name": "stderr",
     "output_type": "stream",
     "text": [
      "Processing id7_id12_0005: 100%|██████████| 149/149 [00:05<00:00, 25.54it/s]\n"
     ]
    },
    {
     "name": "stdout",
     "output_type": "stream",
     "text": [
      "📂 D:\\DETECTION 1.0\\Celeb-DF\\aligned_faces_fake\\id7_id12_0007 | Total frames: 395\n"
     ]
    },
    {
     "name": "stderr",
     "output_type": "stream",
     "text": [
      "Processing id7_id12_0007: 100%|██████████| 394/394 [00:16<00:00, 23.38it/s]\n"
     ]
    },
    {
     "name": "stdout",
     "output_type": "stream",
     "text": [
      "📂 D:\\DETECTION 1.0\\Celeb-DF\\aligned_faces_fake\\id7_id12_0009 | Total frames: 457\n"
     ]
    },
    {
     "name": "stderr",
     "output_type": "stream",
     "text": [
      "Processing id7_id12_0009: 100%|██████████| 456/456 [00:19<00:00, 23.41it/s]\n"
     ]
    },
    {
     "name": "stdout",
     "output_type": "stream",
     "text": [
      "📂 D:\\DETECTION 1.0\\Celeb-DF\\aligned_faces_fake\\id7_id13_0000 | Total frames: 248\n"
     ]
    },
    {
     "name": "stderr",
     "output_type": "stream",
     "text": [
      "Processing id7_id13_0000: 100%|██████████| 247/247 [00:10<00:00, 22.59it/s]\n"
     ]
    },
    {
     "name": "stdout",
     "output_type": "stream",
     "text": [
      "📂 D:\\DETECTION 1.0\\Celeb-DF\\aligned_faces_fake\\id7_id13_0001 | Total frames: 295\n"
     ]
    },
    {
     "name": "stderr",
     "output_type": "stream",
     "text": [
      "Processing id7_id13_0001: 100%|██████████| 294/294 [00:12<00:00, 23.75it/s]\n"
     ]
    },
    {
     "name": "stdout",
     "output_type": "stream",
     "text": [
      "📂 D:\\DETECTION 1.0\\Celeb-DF\\aligned_faces_fake\\id7_id13_0002 | Total frames: 253\n"
     ]
    },
    {
     "name": "stderr",
     "output_type": "stream",
     "text": [
      "Processing id7_id13_0002: 100%|██████████| 252/252 [00:10<00:00, 22.99it/s]\n"
     ]
    },
    {
     "name": "stdout",
     "output_type": "stream",
     "text": [
      "📂 D:\\DETECTION 1.0\\Celeb-DF\\aligned_faces_fake\\id7_id13_0004 | Total frames: 504\n"
     ]
    },
    {
     "name": "stderr",
     "output_type": "stream",
     "text": [
      "Processing id7_id13_0004: 100%|██████████| 503/503 [00:20<00:00, 24.73it/s]\n"
     ]
    },
    {
     "name": "stdout",
     "output_type": "stream",
     "text": [
      "📂 D:\\DETECTION 1.0\\Celeb-DF\\aligned_faces_fake\\id7_id13_0005 | Total frames: 153\n"
     ]
    },
    {
     "name": "stderr",
     "output_type": "stream",
     "text": [
      "Processing id7_id13_0005: 100%|██████████| 152/152 [00:05<00:00, 25.61it/s]\n"
     ]
    },
    {
     "name": "stdout",
     "output_type": "stream",
     "text": [
      "📂 D:\\DETECTION 1.0\\Celeb-DF\\aligned_faces_fake\\id7_id13_0006 | Total frames: 214\n"
     ]
    },
    {
     "name": "stderr",
     "output_type": "stream",
     "text": [
      "Processing id7_id13_0006: 100%|██████████| 213/213 [00:08<00:00, 24.29it/s]\n"
     ]
    },
    {
     "name": "stdout",
     "output_type": "stream",
     "text": [
      "📂 D:\\DETECTION 1.0\\Celeb-DF\\aligned_faces_fake\\id7_id13_0007 | Total frames: 395\n"
     ]
    },
    {
     "name": "stderr",
     "output_type": "stream",
     "text": [
      "Processing id7_id13_0007: 100%|██████████| 394/394 [00:17<00:00, 23.13it/s]\n"
     ]
    },
    {
     "name": "stdout",
     "output_type": "stream",
     "text": [
      "📂 D:\\DETECTION 1.0\\Celeb-DF\\aligned_faces_fake\\id7_id13_0009 | Total frames: 458\n"
     ]
    },
    {
     "name": "stderr",
     "output_type": "stream",
     "text": [
      "Processing id7_id13_0009: 100%|██████████| 457/457 [00:19<00:00, 23.07it/s]\n"
     ]
    },
    {
     "name": "stdout",
     "output_type": "stream",
     "text": [
      "📂 D:\\DETECTION 1.0\\Celeb-DF\\aligned_faces_fake\\id8_id0_0002 | Total frames: 520\n"
     ]
    },
    {
     "name": "stderr",
     "output_type": "stream",
     "text": [
      "Processing id8_id0_0002: 100%|██████████| 519/519 [00:24<00:00, 21.48it/s]\n"
     ]
    },
    {
     "name": "stdout",
     "output_type": "stream",
     "text": [
      "📂 D:\\DETECTION 1.0\\Celeb-DF\\aligned_faces_fake\\id8_id0_0003 | Total frames: 396\n"
     ]
    },
    {
     "name": "stderr",
     "output_type": "stream",
     "text": [
      "Processing id8_id0_0003: 100%|██████████| 395/395 [00:16<00:00, 23.81it/s]\n"
     ]
    },
    {
     "name": "stdout",
     "output_type": "stream",
     "text": [
      "📂 D:\\DETECTION 1.0\\Celeb-DF\\aligned_faces_fake\\id8_id0_0007 | Total frames: 11\n"
     ]
    },
    {
     "name": "stderr",
     "output_type": "stream",
     "text": [
      "Processing id8_id0_0007: 100%|██████████| 10/10 [00:00<00:00, 24.37it/s]\n"
     ]
    },
    {
     "name": "stdout",
     "output_type": "stream",
     "text": [
      "📂 D:\\DETECTION 1.0\\Celeb-DF\\aligned_faces_fake\\id8_id0_0008 | Total frames: 2\n"
     ]
    },
    {
     "name": "stderr",
     "output_type": "stream",
     "text": [
      "Processing id8_id0_0008: 100%|██████████| 1/1 [00:00<00:00, 20.41it/s]\n"
     ]
    },
    {
     "name": "stdout",
     "output_type": "stream",
     "text": [
      "📂 D:\\DETECTION 1.0\\Celeb-DF\\aligned_faces_fake\\id8_id1_0002 | Total frames: 521\n"
     ]
    },
    {
     "name": "stderr",
     "output_type": "stream",
     "text": [
      "Processing id8_id1_0002: 100%|██████████| 520/520 [00:23<00:00, 21.93it/s]\n"
     ]
    },
    {
     "name": "stdout",
     "output_type": "stream",
     "text": [
      "📂 D:\\DETECTION 1.0\\Celeb-DF\\aligned_faces_fake\\id8_id1_0003 | Total frames: 388\n"
     ]
    },
    {
     "name": "stderr",
     "output_type": "stream",
     "text": [
      "Processing id8_id1_0003: 100%|██████████| 387/387 [00:16<00:00, 24.10it/s]\n"
     ]
    },
    {
     "name": "stdout",
     "output_type": "stream",
     "text": [
      "📂 D:\\DETECTION 1.0\\Celeb-DF\\aligned_faces_fake\\id8_id1_0007 | Total frames: 0\n",
      "⚠️ Not enough frames to compute optical flow.\n",
      "📂 D:\\DETECTION 1.0\\Celeb-DF\\aligned_faces_fake\\id8_id1_0008 | Total frames: 1\n",
      "⚠️ Not enough frames to compute optical flow.\n",
      "📂 D:\\DETECTION 1.0\\Celeb-DF\\aligned_faces_fake\\id8_id2_0002 | Total frames: 518\n"
     ]
    },
    {
     "name": "stderr",
     "output_type": "stream",
     "text": [
      "Processing id8_id2_0002: 100%|██████████| 517/517 [00:23<00:00, 21.86it/s]\n"
     ]
    },
    {
     "name": "stdout",
     "output_type": "stream",
     "text": [
      "📂 D:\\DETECTION 1.0\\Celeb-DF\\aligned_faces_fake\\id8_id2_0003 | Total frames: 387\n"
     ]
    },
    {
     "name": "stderr",
     "output_type": "stream",
     "text": [
      "Processing id8_id2_0003: 100%|██████████| 386/386 [00:16<00:00, 23.76it/s]\n"
     ]
    },
    {
     "name": "stdout",
     "output_type": "stream",
     "text": [
      "📂 D:\\DETECTION 1.0\\Celeb-DF\\aligned_faces_fake\\id8_id2_0007 | Total frames: 6\n"
     ]
    },
    {
     "name": "stderr",
     "output_type": "stream",
     "text": [
      "Processing id8_id2_0007: 100%|██████████| 5/5 [00:00<00:00, 19.81it/s]\n"
     ]
    },
    {
     "name": "stdout",
     "output_type": "stream",
     "text": [
      "📂 D:\\DETECTION 1.0\\Celeb-DF\\aligned_faces_fake\\id8_id2_0008 | Total frames: 8\n"
     ]
    },
    {
     "name": "stderr",
     "output_type": "stream",
     "text": [
      "Processing id8_id2_0008: 100%|██████████| 7/7 [00:00<00:00, 20.56it/s]\n"
     ]
    },
    {
     "name": "stdout",
     "output_type": "stream",
     "text": [
      "📂 D:\\DETECTION 1.0\\Celeb-DF\\aligned_faces_fake\\id8_id3_0002 | Total frames: 515\n"
     ]
    },
    {
     "name": "stderr",
     "output_type": "stream",
     "text": [
      "Processing id8_id3_0002: 100%|██████████| 514/514 [00:23<00:00, 21.83it/s]\n"
     ]
    },
    {
     "name": "stdout",
     "output_type": "stream",
     "text": [
      "📂 D:\\DETECTION 1.0\\Celeb-DF\\aligned_faces_fake\\id8_id3_0003 | Total frames: 385\n"
     ]
    },
    {
     "name": "stderr",
     "output_type": "stream",
     "text": [
      "Processing id8_id3_0003: 100%|██████████| 384/384 [00:16<00:00, 23.93it/s]\n"
     ]
    },
    {
     "name": "stdout",
     "output_type": "stream",
     "text": [
      "📂 D:\\DETECTION 1.0\\Celeb-DF\\aligned_faces_fake\\id8_id3_0007 | Total frames: 2\n"
     ]
    },
    {
     "name": "stderr",
     "output_type": "stream",
     "text": [
      "Processing id8_id3_0007: 100%|██████████| 1/1 [00:00<00:00, 20.68it/s]\n"
     ]
    },
    {
     "name": "stdout",
     "output_type": "stream",
     "text": [
      "📂 D:\\DETECTION 1.0\\Celeb-DF\\aligned_faces_fake\\id8_id3_0008 | Total frames: 5\n"
     ]
    },
    {
     "name": "stderr",
     "output_type": "stream",
     "text": [
      "Processing id8_id3_0008: 100%|██████████| 4/4 [00:00<00:00, 22.42it/s]\n"
     ]
    },
    {
     "name": "stdout",
     "output_type": "stream",
     "text": [
      "📂 D:\\DETECTION 1.0\\Celeb-DF\\aligned_faces_fake\\id8_id4_0007 | Total frames: 8\n"
     ]
    },
    {
     "name": "stderr",
     "output_type": "stream",
     "text": [
      "Processing id8_id4_0007: 100%|██████████| 7/7 [00:00<00:00, 25.26it/s]\n"
     ]
    },
    {
     "name": "stdout",
     "output_type": "stream",
     "text": [
      "📂 D:\\DETECTION 1.0\\Celeb-DF\\aligned_faces_fake\\id8_id5_0002 | Total frames: 523\n"
     ]
    },
    {
     "name": "stderr",
     "output_type": "stream",
     "text": [
      "Processing id8_id5_0002: 100%|██████████| 522/522 [00:24<00:00, 21.68it/s]\n"
     ]
    },
    {
     "name": "stdout",
     "output_type": "stream",
     "text": [
      "📂 D:\\DETECTION 1.0\\Celeb-DF\\aligned_faces_fake\\id8_id5_0003 | Total frames: 384\n"
     ]
    },
    {
     "name": "stderr",
     "output_type": "stream",
     "text": [
      "Processing id8_id5_0003: 100%|██████████| 383/383 [00:16<00:00, 23.80it/s]\n"
     ]
    },
    {
     "name": "stdout",
     "output_type": "stream",
     "text": [
      "📂 D:\\DETECTION 1.0\\Celeb-DF\\aligned_faces_fake\\id8_id5_0007 | Total frames: 0\n",
      "⚠️ Not enough frames to compute optical flow.\n",
      "📂 D:\\DETECTION 1.0\\Celeb-DF\\aligned_faces_fake\\id8_id5_0008 | Total frames: 0\n",
      "⚠️ Not enough frames to compute optical flow.\n",
      "📂 D:\\DETECTION 1.0\\Celeb-DF\\aligned_faces_fake\\id8_id6_0002 | Total frames: 520\n"
     ]
    },
    {
     "name": "stderr",
     "output_type": "stream",
     "text": [
      "Processing id8_id6_0002: 100%|██████████| 519/519 [00:23<00:00, 21.80it/s]\n"
     ]
    },
    {
     "name": "stdout",
     "output_type": "stream",
     "text": [
      "📂 D:\\DETECTION 1.0\\Celeb-DF\\aligned_faces_fake\\id8_id6_0003 | Total frames: 391\n"
     ]
    },
    {
     "name": "stderr",
     "output_type": "stream",
     "text": [
      "Processing id8_id6_0003: 100%|██████████| 390/390 [00:16<00:00, 23.48it/s]\n"
     ]
    },
    {
     "name": "stdout",
     "output_type": "stream",
     "text": [
      "📂 D:\\DETECTION 1.0\\Celeb-DF\\aligned_faces_fake\\id8_id6_0007 | Total frames: 1\n",
      "⚠️ Not enough frames to compute optical flow.\n",
      "📂 D:\\DETECTION 1.0\\Celeb-DF\\aligned_faces_fake\\id8_id6_0008 | Total frames: 1\n",
      "⚠️ Not enough frames to compute optical flow.\n",
      "📂 D:\\DETECTION 1.0\\Celeb-DF\\aligned_faces_fake\\id8_id7_0002 | Total frames: 522\n"
     ]
    },
    {
     "name": "stderr",
     "output_type": "stream",
     "text": [
      "Processing id8_id7_0002: 100%|██████████| 521/521 [00:24<00:00, 21.54it/s]\n"
     ]
    },
    {
     "name": "stdout",
     "output_type": "stream",
     "text": [
      "📂 D:\\DETECTION 1.0\\Celeb-DF\\aligned_faces_fake\\id8_id7_0003 | Total frames: 392\n"
     ]
    },
    {
     "name": "stderr",
     "output_type": "stream",
     "text": [
      "Processing id8_id7_0003: 100%|██████████| 391/391 [00:16<00:00, 23.36it/s]\n"
     ]
    },
    {
     "name": "stdout",
     "output_type": "stream",
     "text": [
      "📂 D:\\DETECTION 1.0\\Celeb-DF\\aligned_faces_fake\\id8_id7_0007 | Total frames: 21\n"
     ]
    },
    {
     "name": "stderr",
     "output_type": "stream",
     "text": [
      "Processing id8_id7_0007: 100%|██████████| 20/20 [00:00<00:00, 23.48it/s]\n"
     ]
    },
    {
     "name": "stdout",
     "output_type": "stream",
     "text": [
      "📂 D:\\DETECTION 1.0\\Celeb-DF\\aligned_faces_fake\\id8_id7_0008 | Total frames: 1\n",
      "⚠️ Not enough frames to compute optical flow.\n",
      "📂 D:\\DETECTION 1.0\\Celeb-DF\\aligned_faces_fake\\id8_id9_0002 | Total frames: 520\n"
     ]
    },
    {
     "name": "stderr",
     "output_type": "stream",
     "text": [
      "Processing id8_id9_0002: 100%|██████████| 519/519 [00:24<00:00, 21.40it/s]\n"
     ]
    },
    {
     "name": "stdout",
     "output_type": "stream",
     "text": [
      "📂 D:\\DETECTION 1.0\\Celeb-DF\\aligned_faces_fake\\id8_id9_0003 | Total frames: 390\n"
     ]
    },
    {
     "name": "stderr",
     "output_type": "stream",
     "text": [
      "Processing id8_id9_0003: 100%|██████████| 389/389 [00:16<00:00, 23.40it/s]\n"
     ]
    },
    {
     "name": "stdout",
     "output_type": "stream",
     "text": [
      "📂 D:\\DETECTION 1.0\\Celeb-DF\\aligned_faces_fake\\id8_id9_0007 | Total frames: 1\n",
      "⚠️ Not enough frames to compute optical flow.\n",
      "📂 D:\\DETECTION 1.0\\Celeb-DF\\aligned_faces_fake\\id8_id9_0008 | Total frames: 2\n"
     ]
    },
    {
     "name": "stderr",
     "output_type": "stream",
     "text": [
      "Processing id8_id9_0008: 100%|██████████| 1/1 [00:00<00:00, 18.52it/s]\n"
     ]
    },
    {
     "name": "stdout",
     "output_type": "stream",
     "text": [
      "📂 D:\\DETECTION 1.0\\Celeb-DF\\aligned_faces_fake\\id9_id0_0000 | Total frames: 448\n"
     ]
    },
    {
     "name": "stderr",
     "output_type": "stream",
     "text": [
      "Processing id9_id0_0000: 100%|██████████| 447/447 [00:19<00:00, 23.21it/s]\n"
     ]
    },
    {
     "name": "stdout",
     "output_type": "stream",
     "text": [
      "📂 D:\\DETECTION 1.0\\Celeb-DF\\aligned_faces_fake\\id9_id0_0001 | Total frames: 437\n"
     ]
    },
    {
     "name": "stderr",
     "output_type": "stream",
     "text": [
      "Processing id9_id0_0001: 100%|██████████| 436/436 [00:18<00:00, 23.52it/s]\n"
     ]
    },
    {
     "name": "stdout",
     "output_type": "stream",
     "text": [
      "📂 D:\\DETECTION 1.0\\Celeb-DF\\aligned_faces_fake\\id9_id0_0003 | Total frames: 195\n"
     ]
    },
    {
     "name": "stderr",
     "output_type": "stream",
     "text": [
      "Processing id9_id0_0003: 100%|██████████| 194/194 [00:08<00:00, 23.76it/s]\n"
     ]
    },
    {
     "name": "stdout",
     "output_type": "stream",
     "text": [
      "📂 D:\\DETECTION 1.0\\Celeb-DF\\aligned_faces_fake\\id9_id0_0004 | Total frames: 362\n"
     ]
    },
    {
     "name": "stderr",
     "output_type": "stream",
     "text": [
      "Processing id9_id0_0004: 100%|██████████| 361/361 [00:15<00:00, 23.45it/s]\n"
     ]
    },
    {
     "name": "stdout",
     "output_type": "stream",
     "text": [
      "📂 D:\\DETECTION 1.0\\Celeb-DF\\aligned_faces_fake\\id9_id0_0005 | Total frames: 420\n"
     ]
    },
    {
     "name": "stderr",
     "output_type": "stream",
     "text": [
      "Processing id9_id0_0005: 100%|██████████| 419/419 [00:18<00:00, 23.01it/s]\n"
     ]
    },
    {
     "name": "stdout",
     "output_type": "stream",
     "text": [
      "📂 D:\\DETECTION 1.0\\Celeb-DF\\aligned_faces_fake\\id9_id0_0006 | Total frames: 401\n"
     ]
    },
    {
     "name": "stderr",
     "output_type": "stream",
     "text": [
      "Processing id9_id0_0006: 100%|██████████| 400/400 [00:16<00:00, 23.62it/s]\n"
     ]
    },
    {
     "name": "stdout",
     "output_type": "stream",
     "text": [
      "📂 D:\\DETECTION 1.0\\Celeb-DF\\aligned_faces_fake\\id9_id0_0007 | Total frames: 322\n"
     ]
    },
    {
     "name": "stderr",
     "output_type": "stream",
     "text": [
      "Processing id9_id0_0007: 100%|██████████| 321/321 [00:14<00:00, 22.43it/s]\n"
     ]
    },
    {
     "name": "stdout",
     "output_type": "stream",
     "text": [
      "📂 D:\\DETECTION 1.0\\Celeb-DF\\aligned_faces_fake\\id9_id0_0008 | Total frames: 461\n"
     ]
    },
    {
     "name": "stderr",
     "output_type": "stream",
     "text": [
      "Processing id9_id0_0008: 100%|██████████| 460/460 [00:19<00:00, 23.31it/s]\n"
     ]
    },
    {
     "name": "stdout",
     "output_type": "stream",
     "text": [
      "📂 D:\\DETECTION 1.0\\Celeb-DF\\aligned_faces_fake\\id9_id0_0009 | Total frames: 313\n"
     ]
    },
    {
     "name": "stderr",
     "output_type": "stream",
     "text": [
      "Processing id9_id0_0009: 100%|██████████| 312/312 [00:13<00:00, 22.79it/s]\n"
     ]
    },
    {
     "name": "stdout",
     "output_type": "stream",
     "text": [
      "📂 D:\\DETECTION 1.0\\Celeb-DF\\aligned_faces_fake\\id9_id16_0000 | Total frames: 448\n"
     ]
    },
    {
     "name": "stderr",
     "output_type": "stream",
     "text": [
      "Processing id9_id16_0000: 100%|██████████| 447/447 [00:19<00:00, 23.13it/s]\n"
     ]
    },
    {
     "name": "stdout",
     "output_type": "stream",
     "text": [
      "📂 D:\\DETECTION 1.0\\Celeb-DF\\aligned_faces_fake\\id9_id16_0001 | Total frames: 437\n"
     ]
    },
    {
     "name": "stderr",
     "output_type": "stream",
     "text": [
      "Processing id9_id16_0001: 100%|██████████| 436/436 [00:18<00:00, 24.12it/s]\n"
     ]
    },
    {
     "name": "stdout",
     "output_type": "stream",
     "text": [
      "📂 D:\\DETECTION 1.0\\Celeb-DF\\aligned_faces_fake\\id9_id16_0002 | Total frames: 312\n"
     ]
    },
    {
     "name": "stderr",
     "output_type": "stream",
     "text": [
      "Processing id9_id16_0002: 100%|██████████| 311/311 [00:12<00:00, 24.12it/s]\n"
     ]
    },
    {
     "name": "stdout",
     "output_type": "stream",
     "text": [
      "📂 D:\\DETECTION 1.0\\Celeb-DF\\aligned_faces_fake\\id9_id16_0003 | Total frames: 278\n"
     ]
    },
    {
     "name": "stderr",
     "output_type": "stream",
     "text": [
      "Processing id9_id16_0003: 100%|██████████| 277/277 [00:11<00:00, 23.59it/s]\n"
     ]
    },
    {
     "name": "stdout",
     "output_type": "stream",
     "text": [
      "📂 D:\\DETECTION 1.0\\Celeb-DF\\aligned_faces_fake\\id9_id16_0004 | Total frames: 362\n"
     ]
    },
    {
     "name": "stderr",
     "output_type": "stream",
     "text": [
      "Processing id9_id16_0004: 100%|██████████| 361/361 [00:15<00:00, 23.45it/s]\n"
     ]
    },
    {
     "name": "stdout",
     "output_type": "stream",
     "text": [
      "📂 D:\\DETECTION 1.0\\Celeb-DF\\aligned_faces_fake\\id9_id16_0005 | Total frames: 420\n"
     ]
    },
    {
     "name": "stderr",
     "output_type": "stream",
     "text": [
      "Processing id9_id16_0005: 100%|██████████| 419/419 [00:18<00:00, 23.28it/s]\n"
     ]
    },
    {
     "name": "stdout",
     "output_type": "stream",
     "text": [
      "📂 D:\\DETECTION 1.0\\Celeb-DF\\aligned_faces_fake\\id9_id16_0006 | Total frames: 401\n"
     ]
    },
    {
     "name": "stderr",
     "output_type": "stream",
     "text": [
      "Processing id9_id16_0006: 100%|██████████| 400/400 [00:17<00:00, 23.28it/s]\n"
     ]
    },
    {
     "name": "stdout",
     "output_type": "stream",
     "text": [
      "📂 D:\\DETECTION 1.0\\Celeb-DF\\aligned_faces_fake\\id9_id16_0007 | Total frames: 338\n"
     ]
    },
    {
     "name": "stderr",
     "output_type": "stream",
     "text": [
      "Processing id9_id16_0007: 100%|██████████| 337/337 [00:14<00:00, 23.71it/s]\n"
     ]
    },
    {
     "name": "stdout",
     "output_type": "stream",
     "text": [
      "📂 D:\\DETECTION 1.0\\Celeb-DF\\aligned_faces_fake\\id9_id16_0008 | Total frames: 461\n"
     ]
    },
    {
     "name": "stderr",
     "output_type": "stream",
     "text": [
      "Processing id9_id16_0008: 100%|██████████| 460/460 [00:19<00:00, 23.43it/s]\n"
     ]
    },
    {
     "name": "stdout",
     "output_type": "stream",
     "text": [
      "📂 D:\\DETECTION 1.0\\Celeb-DF\\aligned_faces_fake\\id9_id16_0009 | Total frames: 311\n"
     ]
    },
    {
     "name": "stderr",
     "output_type": "stream",
     "text": [
      "Processing id9_id16_0009: 100%|██████████| 310/310 [00:13<00:00, 22.85it/s]\n"
     ]
    },
    {
     "name": "stdout",
     "output_type": "stream",
     "text": [
      "📂 D:\\DETECTION 1.0\\Celeb-DF\\aligned_faces_fake\\id9_id17_0000 | Total frames: 448\n"
     ]
    },
    {
     "name": "stderr",
     "output_type": "stream",
     "text": [
      "Processing id9_id17_0000: 100%|██████████| 447/447 [00:19<00:00, 23.45it/s]\n"
     ]
    },
    {
     "name": "stdout",
     "output_type": "stream",
     "text": [
      "📂 D:\\DETECTION 1.0\\Celeb-DF\\aligned_faces_fake\\id9_id17_0001 | Total frames: 437\n"
     ]
    },
    {
     "name": "stderr",
     "output_type": "stream",
     "text": [
      "Processing id9_id17_0001: 100%|██████████| 436/436 [00:18<00:00, 23.68it/s]\n"
     ]
    },
    {
     "name": "stdout",
     "output_type": "stream",
     "text": [
      "📂 D:\\DETECTION 1.0\\Celeb-DF\\aligned_faces_fake\\id9_id17_0002 | Total frames: 351\n"
     ]
    },
    {
     "name": "stderr",
     "output_type": "stream",
     "text": [
      "Processing id9_id17_0002: 100%|██████████| 350/350 [00:14<00:00, 23.47it/s]\n"
     ]
    },
    {
     "name": "stdout",
     "output_type": "stream",
     "text": [
      "📂 D:\\DETECTION 1.0\\Celeb-DF\\aligned_faces_fake\\id9_id17_0003 | Total frames: 216\n"
     ]
    },
    {
     "name": "stderr",
     "output_type": "stream",
     "text": [
      "Processing id9_id17_0003: 100%|██████████| 215/215 [00:08<00:00, 24.39it/s]\n"
     ]
    },
    {
     "name": "stdout",
     "output_type": "stream",
     "text": [
      "📂 D:\\DETECTION 1.0\\Celeb-DF\\aligned_faces_fake\\id9_id17_0004 | Total frames: 362\n"
     ]
    },
    {
     "name": "stderr",
     "output_type": "stream",
     "text": [
      "Processing id9_id17_0004: 100%|██████████| 361/361 [00:15<00:00, 22.67it/s]\n"
     ]
    },
    {
     "name": "stdout",
     "output_type": "stream",
     "text": [
      "📂 D:\\DETECTION 1.0\\Celeb-DF\\aligned_faces_fake\\id9_id17_0005 | Total frames: 420\n"
     ]
    },
    {
     "name": "stderr",
     "output_type": "stream",
     "text": [
      "Processing id9_id17_0005: 100%|██████████| 419/419 [00:18<00:00, 22.80it/s]\n"
     ]
    },
    {
     "name": "stdout",
     "output_type": "stream",
     "text": [
      "📂 D:\\DETECTION 1.0\\Celeb-DF\\aligned_faces_fake\\id9_id17_0006 | Total frames: 401\n"
     ]
    },
    {
     "name": "stderr",
     "output_type": "stream",
     "text": [
      "Processing id9_id17_0006: 100%|██████████| 400/400 [00:16<00:00, 23.59it/s]\n"
     ]
    },
    {
     "name": "stdout",
     "output_type": "stream",
     "text": [
      "📂 D:\\DETECTION 1.0\\Celeb-DF\\aligned_faces_fake\\id9_id17_0007 | Total frames: 372\n"
     ]
    },
    {
     "name": "stderr",
     "output_type": "stream",
     "text": [
      "Processing id9_id17_0007: 100%|██████████| 371/371 [00:16<00:00, 23.07it/s]\n"
     ]
    },
    {
     "name": "stdout",
     "output_type": "stream",
     "text": [
      "📂 D:\\DETECTION 1.0\\Celeb-DF\\aligned_faces_fake\\id9_id17_0008 | Total frames: 461\n"
     ]
    },
    {
     "name": "stderr",
     "output_type": "stream",
     "text": [
      "Processing id9_id17_0008: 100%|██████████| 460/460 [00:19<00:00, 23.25it/s]\n"
     ]
    },
    {
     "name": "stdout",
     "output_type": "stream",
     "text": [
      "📂 D:\\DETECTION 1.0\\Celeb-DF\\aligned_faces_fake\\id9_id17_0009 | Total frames: 313\n"
     ]
    },
    {
     "name": "stderr",
     "output_type": "stream",
     "text": [
      "Processing id9_id17_0009: 100%|██████████| 312/312 [00:13<00:00, 23.10it/s]\n"
     ]
    },
    {
     "name": "stdout",
     "output_type": "stream",
     "text": [
      "📂 D:\\DETECTION 1.0\\Celeb-DF\\aligned_faces_fake\\id9_id1_0000 | Total frames: 448\n"
     ]
    },
    {
     "name": "stderr",
     "output_type": "stream",
     "text": [
      "Processing id9_id1_0000: 100%|██████████| 447/447 [00:19<00:00, 23.35it/s]\n"
     ]
    },
    {
     "name": "stdout",
     "output_type": "stream",
     "text": [
      "📂 D:\\DETECTION 1.0\\Celeb-DF\\aligned_faces_fake\\id9_id1_0001 | Total frames: 437\n"
     ]
    },
    {
     "name": "stderr",
     "output_type": "stream",
     "text": [
      "Processing id9_id1_0001: 100%|██████████| 436/436 [00:18<00:00, 23.73it/s]\n"
     ]
    },
    {
     "name": "stdout",
     "output_type": "stream",
     "text": [
      "📂 D:\\DETECTION 1.0\\Celeb-DF\\aligned_faces_fake\\id9_id1_0002 | Total frames: 348\n"
     ]
    },
    {
     "name": "stderr",
     "output_type": "stream",
     "text": [
      "Processing id9_id1_0002: 100%|██████████| 347/347 [00:15<00:00, 22.76it/s]\n"
     ]
    },
    {
     "name": "stdout",
     "output_type": "stream",
     "text": [
      "📂 D:\\DETECTION 1.0\\Celeb-DF\\aligned_faces_fake\\id9_id1_0004 | Total frames: 362\n"
     ]
    },
    {
     "name": "stderr",
     "output_type": "stream",
     "text": [
      "Processing id9_id1_0004: 100%|██████████| 361/361 [00:15<00:00, 23.07it/s]\n"
     ]
    },
    {
     "name": "stdout",
     "output_type": "stream",
     "text": [
      "📂 D:\\DETECTION 1.0\\Celeb-DF\\aligned_faces_fake\\id9_id1_0005 | Total frames: 420\n"
     ]
    },
    {
     "name": "stderr",
     "output_type": "stream",
     "text": [
      "Processing id9_id1_0005: 100%|██████████| 419/419 [00:17<00:00, 23.41it/s]\n"
     ]
    },
    {
     "name": "stdout",
     "output_type": "stream",
     "text": [
      "📂 D:\\DETECTION 1.0\\Celeb-DF\\aligned_faces_fake\\id9_id1_0006 | Total frames: 401\n"
     ]
    },
    {
     "name": "stderr",
     "output_type": "stream",
     "text": [
      "Processing id9_id1_0006: 100%|██████████| 400/400 [00:17<00:00, 23.43it/s]\n"
     ]
    },
    {
     "name": "stdout",
     "output_type": "stream",
     "text": [
      "📂 D:\\DETECTION 1.0\\Celeb-DF\\aligned_faces_fake\\id9_id1_0008 | Total frames: 461\n"
     ]
    },
    {
     "name": "stderr",
     "output_type": "stream",
     "text": [
      "Processing id9_id1_0008: 100%|██████████| 460/460 [00:19<00:00, 23.09it/s]\n"
     ]
    },
    {
     "name": "stdout",
     "output_type": "stream",
     "text": [
      "📂 D:\\DETECTION 1.0\\Celeb-DF\\aligned_faces_fake\\id9_id1_0009 | Total frames: 312\n"
     ]
    },
    {
     "name": "stderr",
     "output_type": "stream",
     "text": [
      "Processing id9_id1_0009: 100%|██████████| 311/311 [00:13<00:00, 22.69it/s]\n"
     ]
    },
    {
     "name": "stdout",
     "output_type": "stream",
     "text": [
      "📂 D:\\DETECTION 1.0\\Celeb-DF\\aligned_faces_fake\\id9_id2_0000 | Total frames: 448\n"
     ]
    },
    {
     "name": "stderr",
     "output_type": "stream",
     "text": [
      "Processing id9_id2_0000: 100%|██████████| 447/447 [00:19<00:00, 23.13it/s]\n"
     ]
    },
    {
     "name": "stdout",
     "output_type": "stream",
     "text": [
      "📂 D:\\DETECTION 1.0\\Celeb-DF\\aligned_faces_fake\\id9_id2_0001 | Total frames: 437\n"
     ]
    },
    {
     "name": "stderr",
     "output_type": "stream",
     "text": [
      "Processing id9_id2_0001: 100%|██████████| 436/436 [00:18<00:00, 23.62it/s]\n"
     ]
    },
    {
     "name": "stdout",
     "output_type": "stream",
     "text": [
      "📂 D:\\DETECTION 1.0\\Celeb-DF\\aligned_faces_fake\\id9_id2_0002 | Total frames: 300\n"
     ]
    },
    {
     "name": "stderr",
     "output_type": "stream",
     "text": [
      "Processing id9_id2_0002: 100%|██████████| 299/299 [00:12<00:00, 23.12it/s]\n"
     ]
    },
    {
     "name": "stdout",
     "output_type": "stream",
     "text": [
      "📂 D:\\DETECTION 1.0\\Celeb-DF\\aligned_faces_fake\\id9_id2_0004 | Total frames: 362\n"
     ]
    },
    {
     "name": "stderr",
     "output_type": "stream",
     "text": [
      "Processing id9_id2_0004: 100%|██████████| 361/361 [00:15<00:00, 22.62it/s]\n"
     ]
    },
    {
     "name": "stdout",
     "output_type": "stream",
     "text": [
      "📂 D:\\DETECTION 1.0\\Celeb-DF\\aligned_faces_fake\\id9_id2_0005 | Total frames: 418\n"
     ]
    },
    {
     "name": "stderr",
     "output_type": "stream",
     "text": [
      "Processing id9_id2_0005: 100%|██████████| 417/417 [00:18<00:00, 22.96it/s]\n"
     ]
    },
    {
     "name": "stdout",
     "output_type": "stream",
     "text": [
      "📂 D:\\DETECTION 1.0\\Celeb-DF\\aligned_faces_fake\\id9_id2_0006 | Total frames: 401\n"
     ]
    },
    {
     "name": "stderr",
     "output_type": "stream",
     "text": [
      "Processing id9_id2_0006: 100%|██████████| 400/400 [00:16<00:00, 23.54it/s]\n"
     ]
    },
    {
     "name": "stdout",
     "output_type": "stream",
     "text": [
      "📂 D:\\DETECTION 1.0\\Celeb-DF\\aligned_faces_fake\\id9_id2_0007 | Total frames: 224\n"
     ]
    },
    {
     "name": "stderr",
     "output_type": "stream",
     "text": [
      "Processing id9_id2_0007: 100%|██████████| 223/223 [00:09<00:00, 23.19it/s]\n"
     ]
    },
    {
     "name": "stdout",
     "output_type": "stream",
     "text": [
      "📂 D:\\DETECTION 1.0\\Celeb-DF\\aligned_faces_fake\\id9_id2_0008 | Total frames: 461\n"
     ]
    },
    {
     "name": "stderr",
     "output_type": "stream",
     "text": [
      "Processing id9_id2_0008: 100%|██████████| 460/460 [00:20<00:00, 22.74it/s]\n"
     ]
    },
    {
     "name": "stdout",
     "output_type": "stream",
     "text": [
      "📂 D:\\DETECTION 1.0\\Celeb-DF\\aligned_faces_fake\\id9_id2_0009 | Total frames: 310\n"
     ]
    },
    {
     "name": "stderr",
     "output_type": "stream",
     "text": [
      "Processing id9_id2_0009: 100%|██████████| 309/309 [00:13<00:00, 23.26it/s]\n"
     ]
    },
    {
     "name": "stdout",
     "output_type": "stream",
     "text": [
      "📂 D:\\DETECTION 1.0\\Celeb-DF\\aligned_faces_fake\\id9_id3_0000 | Total frames: 448\n"
     ]
    },
    {
     "name": "stderr",
     "output_type": "stream",
     "text": [
      "Processing id9_id3_0000: 100%|██████████| 447/447 [00:19<00:00, 23.44it/s]\n"
     ]
    },
    {
     "name": "stdout",
     "output_type": "stream",
     "text": [
      "📂 D:\\DETECTION 1.0\\Celeb-DF\\aligned_faces_fake\\id9_id3_0001 | Total frames: 437\n"
     ]
    },
    {
     "name": "stderr",
     "output_type": "stream",
     "text": [
      "Processing id9_id3_0001: 100%|██████████| 436/436 [00:18<00:00, 23.52it/s]\n"
     ]
    },
    {
     "name": "stdout",
     "output_type": "stream",
     "text": [
      "📂 D:\\DETECTION 1.0\\Celeb-DF\\aligned_faces_fake\\id9_id3_0002 | Total frames: 296\n"
     ]
    },
    {
     "name": "stderr",
     "output_type": "stream",
     "text": [
      "Processing id9_id3_0002: 100%|██████████| 295/295 [00:12<00:00, 23.87it/s]\n"
     ]
    },
    {
     "name": "stdout",
     "output_type": "stream",
     "text": [
      "📂 D:\\DETECTION 1.0\\Celeb-DF\\aligned_faces_fake\\id9_id3_0004 | Total frames: 362\n"
     ]
    },
    {
     "name": "stderr",
     "output_type": "stream",
     "text": [
      "Processing id9_id3_0004: 100%|██████████| 361/361 [00:15<00:00, 23.48it/s]\n"
     ]
    },
    {
     "name": "stdout",
     "output_type": "stream",
     "text": [
      "📂 D:\\DETECTION 1.0\\Celeb-DF\\aligned_faces_fake\\id9_id3_0005 | Total frames: 419\n"
     ]
    },
    {
     "name": "stderr",
     "output_type": "stream",
     "text": [
      "Processing id9_id3_0005: 100%|██████████| 418/418 [00:18<00:00, 22.70it/s]\n"
     ]
    },
    {
     "name": "stdout",
     "output_type": "stream",
     "text": [
      "📂 D:\\DETECTION 1.0\\Celeb-DF\\aligned_faces_fake\\id9_id3_0006 | Total frames: 401\n"
     ]
    },
    {
     "name": "stderr",
     "output_type": "stream",
     "text": [
      "Processing id9_id3_0006: 100%|██████████| 400/400 [00:17<00:00, 23.09it/s]\n"
     ]
    },
    {
     "name": "stdout",
     "output_type": "stream",
     "text": [
      "📂 D:\\DETECTION 1.0\\Celeb-DF\\aligned_faces_fake\\id9_id3_0007 | Total frames: 336\n"
     ]
    },
    {
     "name": "stderr",
     "output_type": "stream",
     "text": [
      "Processing id9_id3_0007: 100%|██████████| 335/335 [00:14<00:00, 22.72it/s]\n"
     ]
    },
    {
     "name": "stdout",
     "output_type": "stream",
     "text": [
      "📂 D:\\DETECTION 1.0\\Celeb-DF\\aligned_faces_fake\\id9_id3_0008 | Total frames: 461\n"
     ]
    },
    {
     "name": "stderr",
     "output_type": "stream",
     "text": [
      "Processing id9_id3_0008: 100%|██████████| 460/460 [00:20<00:00, 22.70it/s]\n"
     ]
    },
    {
     "name": "stdout",
     "output_type": "stream",
     "text": [
      "📂 D:\\DETECTION 1.0\\Celeb-DF\\aligned_faces_fake\\id9_id3_0009 | Total frames: 310\n"
     ]
    },
    {
     "name": "stderr",
     "output_type": "stream",
     "text": [
      "Processing id9_id3_0009: 100%|██████████| 309/309 [00:12<00:00, 24.03it/s]\n"
     ]
    },
    {
     "name": "stdout",
     "output_type": "stream",
     "text": [
      "📂 D:\\DETECTION 1.0\\Celeb-DF\\aligned_faces_fake\\id9_id4_0000 | Total frames: 448\n"
     ]
    },
    {
     "name": "stderr",
     "output_type": "stream",
     "text": [
      "Processing id9_id4_0000: 100%|██████████| 447/447 [00:18<00:00, 23.96it/s]\n"
     ]
    },
    {
     "name": "stdout",
     "output_type": "stream",
     "text": [
      "📂 D:\\DETECTION 1.0\\Celeb-DF\\aligned_faces_fake\\id9_id4_0001 | Total frames: 437\n"
     ]
    },
    {
     "name": "stderr",
     "output_type": "stream",
     "text": [
      "Processing id9_id4_0001: 100%|██████████| 436/436 [00:18<00:00, 23.73it/s]\n"
     ]
    },
    {
     "name": "stdout",
     "output_type": "stream",
     "text": [
      "📂 D:\\DETECTION 1.0\\Celeb-DF\\aligned_faces_fake\\id9_id4_0002 | Total frames: 284\n"
     ]
    },
    {
     "name": "stderr",
     "output_type": "stream",
     "text": [
      "Processing id9_id4_0002: 100%|██████████| 283/283 [00:11<00:00, 24.15it/s]\n"
     ]
    },
    {
     "name": "stdout",
     "output_type": "stream",
     "text": [
      "📂 D:\\DETECTION 1.0\\Celeb-DF\\aligned_faces_fake\\id9_id4_0004 | Total frames: 362\n"
     ]
    },
    {
     "name": "stderr",
     "output_type": "stream",
     "text": [
      "Processing id9_id4_0004: 100%|██████████| 361/361 [00:15<00:00, 23.73it/s]\n"
     ]
    },
    {
     "name": "stdout",
     "output_type": "stream",
     "text": [
      "📂 D:\\DETECTION 1.0\\Celeb-DF\\aligned_faces_fake\\id9_id4_0005 | Total frames: 420\n"
     ]
    },
    {
     "name": "stderr",
     "output_type": "stream",
     "text": [
      "Processing id9_id4_0005: 100%|██████████| 419/419 [00:17<00:00, 23.31it/s]\n"
     ]
    },
    {
     "name": "stdout",
     "output_type": "stream",
     "text": [
      "📂 D:\\DETECTION 1.0\\Celeb-DF\\aligned_faces_fake\\id9_id4_0006 | Total frames: 401\n"
     ]
    },
    {
     "name": "stderr",
     "output_type": "stream",
     "text": [
      "Processing id9_id4_0006: 100%|██████████| 400/400 [00:17<00:00, 23.03it/s]\n"
     ]
    },
    {
     "name": "stdout",
     "output_type": "stream",
     "text": [
      "📂 D:\\DETECTION 1.0\\Celeb-DF\\aligned_faces_fake\\id9_id4_0007 | Total frames: 158\n"
     ]
    },
    {
     "name": "stderr",
     "output_type": "stream",
     "text": [
      "Processing id9_id4_0007: 100%|██████████| 157/157 [00:06<00:00, 23.30it/s]\n"
     ]
    },
    {
     "name": "stdout",
     "output_type": "stream",
     "text": [
      "📂 D:\\DETECTION 1.0\\Celeb-DF\\aligned_faces_fake\\id9_id4_0008 | Total frames: 460\n"
     ]
    },
    {
     "name": "stderr",
     "output_type": "stream",
     "text": [
      "Processing id9_id4_0008: 100%|██████████| 459/459 [00:20<00:00, 22.78it/s]\n"
     ]
    },
    {
     "name": "stdout",
     "output_type": "stream",
     "text": [
      "📂 D:\\DETECTION 1.0\\Celeb-DF\\aligned_faces_fake\\id9_id4_0009 | Total frames: 302\n"
     ]
    },
    {
     "name": "stderr",
     "output_type": "stream",
     "text": [
      "Processing id9_id4_0009: 100%|██████████| 301/301 [00:12<00:00, 23.47it/s]\n"
     ]
    },
    {
     "name": "stdout",
     "output_type": "stream",
     "text": [
      "📂 D:\\DETECTION 1.0\\Celeb-DF\\aligned_faces_fake\\id9_id6_0000 | Total frames: 448\n"
     ]
    },
    {
     "name": "stderr",
     "output_type": "stream",
     "text": [
      "Processing id9_id6_0000: 100%|██████████| 447/447 [00:19<00:00, 23.01it/s]\n"
     ]
    },
    {
     "name": "stdout",
     "output_type": "stream",
     "text": [
      "📂 D:\\DETECTION 1.0\\Celeb-DF\\aligned_faces_fake\\id9_id6_0001 | Total frames: 437\n"
     ]
    },
    {
     "name": "stderr",
     "output_type": "stream",
     "text": [
      "Processing id9_id6_0001: 100%|██████████| 436/436 [00:18<00:00, 23.43it/s]\n"
     ]
    },
    {
     "name": "stdout",
     "output_type": "stream",
     "text": [
      "📂 D:\\DETECTION 1.0\\Celeb-DF\\aligned_faces_fake\\id9_id6_0002 | Total frames: 322\n"
     ]
    },
    {
     "name": "stderr",
     "output_type": "stream",
     "text": [
      "Processing id9_id6_0002: 100%|██████████| 321/321 [00:13<00:00, 23.45it/s]\n"
     ]
    },
    {
     "name": "stdout",
     "output_type": "stream",
     "text": [
      "📂 D:\\DETECTION 1.0\\Celeb-DF\\aligned_faces_fake\\id9_id6_0004 | Total frames: 360\n"
     ]
    },
    {
     "name": "stderr",
     "output_type": "stream",
     "text": [
      "Processing id9_id6_0004: 100%|██████████| 359/359 [00:16<00:00, 22.40it/s]\n"
     ]
    },
    {
     "name": "stdout",
     "output_type": "stream",
     "text": [
      "📂 D:\\DETECTION 1.0\\Celeb-DF\\aligned_faces_fake\\id9_id6_0005 | Total frames: 413\n"
     ]
    },
    {
     "name": "stderr",
     "output_type": "stream",
     "text": [
      "Processing id9_id6_0005: 100%|██████████| 412/412 [00:18<00:00, 22.64it/s]\n"
     ]
    },
    {
     "name": "stdout",
     "output_type": "stream",
     "text": [
      "📂 D:\\DETECTION 1.0\\Celeb-DF\\aligned_faces_fake\\id9_id6_0006 | Total frames: 401\n"
     ]
    },
    {
     "name": "stderr",
     "output_type": "stream",
     "text": [
      "Processing id9_id6_0006: 100%|██████████| 400/400 [00:16<00:00, 24.22it/s]\n"
     ]
    },
    {
     "name": "stdout",
     "output_type": "stream",
     "text": [
      "📂 D:\\DETECTION 1.0\\Celeb-DF\\aligned_faces_fake\\id9_id6_0007 | Total frames: 359\n"
     ]
    },
    {
     "name": "stderr",
     "output_type": "stream",
     "text": [
      "Processing id9_id6_0007: 100%|██████████| 358/358 [00:14<00:00, 24.77it/s]\n"
     ]
    },
    {
     "name": "stdout",
     "output_type": "stream",
     "text": [
      "📂 D:\\DETECTION 1.0\\Celeb-DF\\aligned_faces_fake\\id9_id6_0008 | Total frames: 461\n"
     ]
    },
    {
     "name": "stderr",
     "output_type": "stream",
     "text": [
      "Processing id9_id6_0008: 100%|██████████| 460/460 [00:19<00:00, 23.60it/s]\n"
     ]
    },
    {
     "name": "stdout",
     "output_type": "stream",
     "text": [
      "📂 D:\\DETECTION 1.0\\Celeb-DF\\aligned_faces_fake\\id9_id6_0009 | Total frames: 313\n"
     ]
    },
    {
     "name": "stderr",
     "output_type": "stream",
     "text": [
      "Processing id9_id6_0009: 100%|██████████| 312/312 [00:13<00:00, 22.93it/s]\n"
     ]
    }
   ],
   "source": [
    "# ========== Step 4: Process all subfolders ==========\n",
    "real_dfs, fake_dfs = [], []\n",
    "for sub in os.listdir(real_frame_path):\n",
    "    path = os.path.join(real_frame_path, sub)\n",
    "    if os.path.isdir(path):\n",
    "        real_dfs.append(process_video_folder(path, f\"heatmaps_real/{sub}\", label=0))\n",
    "\n",
    "for sub in os.listdir(fake_frame_path):\n",
    "    path = os.path.join(fake_frame_path, sub)\n",
    "    if os.path.isdir(path):\n",
    "        fake_dfs.append(process_video_folder(path, f\"heatmaps_fake/{sub}\", label=1))\n"
   ]
  },
  {
   "cell_type": "code",
   "execution_count": 80,
   "id": "d805c5c9",
   "metadata": {},
   "outputs": [
    {
     "name": "stdout",
     "output_type": "stream",
     "text": [
      "🖼️ Total real heatmaps saved: 174881\n",
      "🖼️ Total fake heatmaps saved: 171907\n"
     ]
    }
   ],
   "source": [
    "import glob\n",
    "\n",
    "# Set paths to your heatmap folders\n",
    "real_heatmap_dir = \"heatmaps_real\"\n",
    "fake_heatmap_dir = \"heatmaps_fake\"\n",
    "\n",
    "# Recursively count all PNG files\n",
    "real_heatmaps = glob.glob(f\"{real_heatmap_dir}/**/*.png\", recursive=True)\n",
    "fake_heatmaps = glob.glob(f\"{fake_heatmap_dir}/**/*.png\", recursive=True)\n",
    "\n",
    "# Print results\n",
    "print(f\"🖼️ Total real heatmaps saved: {len(real_heatmaps)}\")\n",
    "print(f\"🖼️ Total fake heatmaps saved: {len(fake_heatmaps)}\")\n"
   ]
  },
  {
   "cell_type": "code",
   "execution_count": 81,
   "id": "741a454b",
   "metadata": {},
   "outputs": [
    {
     "name": "stderr",
     "output_type": "stream",
     "text": [
      "Processing heatmaps_real: 100%|██████████| 174881/174881 [38:37<00:00, 75.46it/s] \n",
      "Processing heatmaps_fake: 100%|██████████| 171907/171907 [37:09<00:00, 77.10it/s] \n"
     ]
    },
    {
     "name": "stdout",
     "output_type": "stream",
     "text": [
      "✅ real_motion.csv: 174881 rows\n",
      "✅ fake_motion.csv: 171907 rows\n",
      "✅ combined_motion.csv: 346788 rows\n"
     ]
    }
   ],
   "source": [
    "import cv2\n",
    "import numpy as np\n",
    "import os\n",
    "import glob\n",
    "import pandas as pd\n",
    "from tqdm import tqdm\n",
    "\n",
    "def compute_flow_stats_from_heatmap(image_path):\n",
    "    \"\"\"Compute mean and std of flow intensity from a heatmap.\"\"\"\n",
    "    img = cv2.imread(image_path, cv2.IMREAD_GRAYSCALE)\n",
    "    if img is None:\n",
    "        return None  # Skip unreadable image\n",
    "    mean_val = np.mean(img)\n",
    "    std_val = np.std(img)\n",
    "    return {\n",
    "        'heatmap_path': image_path,\n",
    "        'full_face_mean': mean_val,\n",
    "        'full_face_std': std_val\n",
    "    }\n",
    "\n",
    "def process_heatmap_folder(folder_path, label):\n",
    "    \"\"\"Process all .png heatmaps in a folder and extract motion stats.\"\"\"\n",
    "    heatmap_paths = sorted(glob.glob(os.path.join(folder_path, '**', '*.png'), recursive=True))\n",
    "    data = []\n",
    "    for i, path in enumerate(tqdm(heatmap_paths, desc=f\"Processing {folder_path}\")):\n",
    "        stats = compute_flow_stats_from_heatmap(path)\n",
    "        if stats:\n",
    "            stats['pair_id'] = i\n",
    "            stats['label'] = label\n",
    "            data.append(stats)\n",
    "    return pd.DataFrame(data)\n",
    "\n",
    "# Set your paths\n",
    "real_heatmap_dir = \"heatmaps_real\"\n",
    "fake_heatmap_dir = \"heatmaps_fake\"\n",
    "\n",
    "# Process both sets\n",
    "real_df = process_heatmap_folder(real_heatmap_dir, label=0)\n",
    "fake_df = process_heatmap_folder(fake_heatmap_dir, label=1)\n",
    "\n",
    "# Save individually\n",
    "real_df.to_csv(\"real_motion.csv\", index=False)\n",
    "fake_df.to_csv(\"fake_motion.csv\", index=False)\n",
    "\n",
    "# Combine both\n",
    "combined_df = pd.concat([real_df, fake_df], ignore_index=True)\n",
    "combined_df.to_csv(\"combined_motion.csv\", index=False)\n",
    "\n",
    "# Summary\n",
    "print(f\"✅ real_motion.csv: {len(real_df)} rows\")\n",
    "print(f\"✅ fake_motion.csv: {len(fake_df)} rows\")\n",
    "print(f\"✅ combined_motion.csv: {len(combined_df)} rows\")\n"
   ]
  },
  {
   "cell_type": "code",
   "execution_count": 1,
   "id": "cbb070b4",
   "metadata": {},
   "outputs": [
    {
     "name": "stdout",
     "output_type": "stream",
     "text": [
      "✅ Loaded Label: shape = (347604, 3)\n"
     ]
    },
    {
     "ename": "KeyError",
     "evalue": "'video_id'",
     "output_type": "error",
     "traceback": [
      "\u001b[1;31m---------------------------------------------------------------------------\u001b[0m",
      "\u001b[1;31mKeyError\u001b[0m                                  Traceback (most recent call last)",
      "File \u001b[1;32mc:\\Users\\ACER\\anaconda3\\envs\\torch_env\\lib\\site-packages\\pandas\\core\\indexes\\base.py:3805\u001b[0m, in \u001b[0;36mIndex.get_loc\u001b[1;34m(self, key)\u001b[0m\n\u001b[0;32m   3804\u001b[0m \u001b[38;5;28;01mtry\u001b[39;00m:\n\u001b[1;32m-> 3805\u001b[0m     \u001b[38;5;28;01mreturn\u001b[39;00m \u001b[38;5;28;43mself\u001b[39;49m\u001b[38;5;241;43m.\u001b[39;49m\u001b[43m_engine\u001b[49m\u001b[38;5;241;43m.\u001b[39;49m\u001b[43mget_loc\u001b[49m\u001b[43m(\u001b[49m\u001b[43mcasted_key\u001b[49m\u001b[43m)\u001b[49m\n\u001b[0;32m   3806\u001b[0m \u001b[38;5;28;01mexcept\u001b[39;00m \u001b[38;5;167;01mKeyError\u001b[39;00m \u001b[38;5;28;01mas\u001b[39;00m err:\n",
      "File \u001b[1;32mindex.pyx:167\u001b[0m, in \u001b[0;36mpandas._libs.index.IndexEngine.get_loc\u001b[1;34m()\u001b[0m\n",
      "File \u001b[1;32mindex.pyx:196\u001b[0m, in \u001b[0;36mpandas._libs.index.IndexEngine.get_loc\u001b[1;34m()\u001b[0m\n",
      "File \u001b[1;32mpandas\\\\_libs\\\\hashtable_class_helper.pxi:7081\u001b[0m, in \u001b[0;36mpandas._libs.hashtable.PyObjectHashTable.get_item\u001b[1;34m()\u001b[0m\n",
      "File \u001b[1;32mpandas\\\\_libs\\\\hashtable_class_helper.pxi:7089\u001b[0m, in \u001b[0;36mpandas._libs.hashtable.PyObjectHashTable.get_item\u001b[1;34m()\u001b[0m\n",
      "\u001b[1;31mKeyError\u001b[0m: 'video_id'",
      "\nThe above exception was the direct cause of the following exception:\n",
      "\u001b[1;31mKeyError\u001b[0m                                  Traceback (most recent call last)",
      "Cell \u001b[1;32mIn[1], line 32\u001b[0m\n\u001b[0;32m     30\u001b[0m \u001b[38;5;66;03m# === Load all datasets ===\u001b[39;00m\n\u001b[0;32m     31\u001b[0m label_df  \u001b[38;5;241m=\u001b[39m load_csv(csv_files[\u001b[38;5;124m\"\u001b[39m\u001b[38;5;124mLabel\u001b[39m\u001b[38;5;124m\"\u001b[39m],  \u001b[38;5;124m\"\u001b[39m\u001b[38;5;124mLabel\u001b[39m\u001b[38;5;124m\"\u001b[39m)[[\u001b[38;5;124m'\u001b[39m\u001b[38;5;124mvideo_id\u001b[39m\u001b[38;5;124m'\u001b[39m, \u001b[38;5;124m'\u001b[39m\u001b[38;5;124mlabel\u001b[39m\u001b[38;5;124m'\u001b[39m]]\n\u001b[1;32m---> 32\u001b[0m motion_df \u001b[38;5;241m=\u001b[39m \u001b[43mload_csv\u001b[49m\u001b[43m(\u001b[49m\u001b[43mcsv_files\u001b[49m\u001b[43m[\u001b[49m\u001b[38;5;124;43m\"\u001b[39;49m\u001b[38;5;124;43mMotion\u001b[39;49m\u001b[38;5;124;43m\"\u001b[39;49m\u001b[43m]\u001b[49m\u001b[43m,\u001b[49m\u001b[43m \u001b[49m\u001b[38;5;124;43m\"\u001b[39;49m\u001b[38;5;124;43mMotion\u001b[39;49m\u001b[38;5;124;43m\"\u001b[39;49m\u001b[43m)\u001b[49m\n\u001b[0;32m     33\u001b[0m nmcs_df   \u001b[38;5;241m=\u001b[39m load_csv(csv_files[\u001b[38;5;124m\"\u001b[39m\u001b[38;5;124mNMCS\u001b[39m\u001b[38;5;124m\"\u001b[39m],   \u001b[38;5;124m\"\u001b[39m\u001b[38;5;124mNMCS\u001b[39m\u001b[38;5;124m\"\u001b[39m)\n\u001b[0;32m     34\u001b[0m muscle_df \u001b[38;5;241m=\u001b[39m load_csv(csv_files[\u001b[38;5;124m\"\u001b[39m\u001b[38;5;124mMuscle\u001b[39m\u001b[38;5;124m\"\u001b[39m], \u001b[38;5;124m\"\u001b[39m\u001b[38;5;124mMuscle\u001b[39m\u001b[38;5;124m\"\u001b[39m)\n",
      "Cell \u001b[1;32mIn[1], line 20\u001b[0m, in \u001b[0;36mload_csv\u001b[1;34m(path, name)\u001b[0m\n\u001b[0;32m     17\u001b[0m         df \u001b[38;5;241m=\u001b[39m df\u001b[38;5;241m.\u001b[39mrename(columns\u001b[38;5;241m=\u001b[39m{col: \u001b[38;5;124m'\u001b[39m\u001b[38;5;124mvideo_id\u001b[39m\u001b[38;5;124m'\u001b[39m})\n\u001b[0;32m     18\u001b[0m         \u001b[38;5;28;01mbreak\u001b[39;00m\n\u001b[1;32m---> 20\u001b[0m df[\u001b[38;5;124m'\u001b[39m\u001b[38;5;124mvideo_id\u001b[39m\u001b[38;5;124m'\u001b[39m] \u001b[38;5;241m=\u001b[39m \u001b[43mdf\u001b[49m\u001b[43m[\u001b[49m\u001b[38;5;124;43m'\u001b[39;49m\u001b[38;5;124;43mvideo_id\u001b[39;49m\u001b[38;5;124;43m'\u001b[39;49m\u001b[43m]\u001b[49m\u001b[38;5;241m.\u001b[39mastype(\u001b[38;5;28mstr\u001b[39m)\n\u001b[0;32m     22\u001b[0m \u001b[38;5;28;01mif\u001b[39;00m \u001b[38;5;124m'\u001b[39m\u001b[38;5;124mlabel\u001b[39m\u001b[38;5;124m'\u001b[39m \u001b[38;5;129;01mnot\u001b[39;00m \u001b[38;5;129;01min\u001b[39;00m df\u001b[38;5;241m.\u001b[39mcolumns \u001b[38;5;129;01mand\u001b[39;00m name \u001b[38;5;241m!=\u001b[39m \u001b[38;5;124m'\u001b[39m\u001b[38;5;124mLabel\u001b[39m\u001b[38;5;124m'\u001b[39m:\n\u001b[0;32m     23\u001b[0m     label_df \u001b[38;5;241m=\u001b[39m pd\u001b[38;5;241m.\u001b[39mread_csv(csv_files[\u001b[38;5;124m\"\u001b[39m\u001b[38;5;124mLabel\u001b[39m\u001b[38;5;124m\"\u001b[39m])[[\u001b[38;5;124m'\u001b[39m\u001b[38;5;124mvideo_id\u001b[39m\u001b[38;5;124m'\u001b[39m, \u001b[38;5;124m'\u001b[39m\u001b[38;5;124mlabel\u001b[39m\u001b[38;5;124m'\u001b[39m]]\n",
      "File \u001b[1;32mc:\\Users\\ACER\\anaconda3\\envs\\torch_env\\lib\\site-packages\\pandas\\core\\frame.py:4102\u001b[0m, in \u001b[0;36mDataFrame.__getitem__\u001b[1;34m(self, key)\u001b[0m\n\u001b[0;32m   4100\u001b[0m \u001b[38;5;28;01mif\u001b[39;00m \u001b[38;5;28mself\u001b[39m\u001b[38;5;241m.\u001b[39mcolumns\u001b[38;5;241m.\u001b[39mnlevels \u001b[38;5;241m>\u001b[39m \u001b[38;5;241m1\u001b[39m:\n\u001b[0;32m   4101\u001b[0m     \u001b[38;5;28;01mreturn\u001b[39;00m \u001b[38;5;28mself\u001b[39m\u001b[38;5;241m.\u001b[39m_getitem_multilevel(key)\n\u001b[1;32m-> 4102\u001b[0m indexer \u001b[38;5;241m=\u001b[39m \u001b[38;5;28;43mself\u001b[39;49m\u001b[38;5;241;43m.\u001b[39;49m\u001b[43mcolumns\u001b[49m\u001b[38;5;241;43m.\u001b[39;49m\u001b[43mget_loc\u001b[49m\u001b[43m(\u001b[49m\u001b[43mkey\u001b[49m\u001b[43m)\u001b[49m\n\u001b[0;32m   4103\u001b[0m \u001b[38;5;28;01mif\u001b[39;00m is_integer(indexer):\n\u001b[0;32m   4104\u001b[0m     indexer \u001b[38;5;241m=\u001b[39m [indexer]\n",
      "File \u001b[1;32mc:\\Users\\ACER\\anaconda3\\envs\\torch_env\\lib\\site-packages\\pandas\\core\\indexes\\base.py:3812\u001b[0m, in \u001b[0;36mIndex.get_loc\u001b[1;34m(self, key)\u001b[0m\n\u001b[0;32m   3807\u001b[0m     \u001b[38;5;28;01mif\u001b[39;00m \u001b[38;5;28misinstance\u001b[39m(casted_key, \u001b[38;5;28mslice\u001b[39m) \u001b[38;5;129;01mor\u001b[39;00m (\n\u001b[0;32m   3808\u001b[0m         \u001b[38;5;28misinstance\u001b[39m(casted_key, abc\u001b[38;5;241m.\u001b[39mIterable)\n\u001b[0;32m   3809\u001b[0m         \u001b[38;5;129;01mand\u001b[39;00m \u001b[38;5;28many\u001b[39m(\u001b[38;5;28misinstance\u001b[39m(x, \u001b[38;5;28mslice\u001b[39m) \u001b[38;5;28;01mfor\u001b[39;00m x \u001b[38;5;129;01min\u001b[39;00m casted_key)\n\u001b[0;32m   3810\u001b[0m     ):\n\u001b[0;32m   3811\u001b[0m         \u001b[38;5;28;01mraise\u001b[39;00m InvalidIndexError(key)\n\u001b[1;32m-> 3812\u001b[0m     \u001b[38;5;28;01mraise\u001b[39;00m \u001b[38;5;167;01mKeyError\u001b[39;00m(key) \u001b[38;5;28;01mfrom\u001b[39;00m\u001b[38;5;250m \u001b[39m\u001b[38;5;21;01merr\u001b[39;00m\n\u001b[0;32m   3813\u001b[0m \u001b[38;5;28;01mexcept\u001b[39;00m \u001b[38;5;167;01mTypeError\u001b[39;00m:\n\u001b[0;32m   3814\u001b[0m     \u001b[38;5;66;03m# If we have a listlike key, _check_indexing_error will raise\u001b[39;00m\n\u001b[0;32m   3815\u001b[0m     \u001b[38;5;66;03m#  InvalidIndexError. Otherwise we fall through and re-raise\u001b[39;00m\n\u001b[0;32m   3816\u001b[0m     \u001b[38;5;66;03m#  the TypeError.\u001b[39;00m\n\u001b[0;32m   3817\u001b[0m     \u001b[38;5;28mself\u001b[39m\u001b[38;5;241m.\u001b[39m_check_indexing_error(key)\n",
      "\u001b[1;31mKeyError\u001b[0m: 'video_id'"
     ]
    }
   ],
   "source": [
    "import pandas as pd\n",
    "\n",
    "# === Paths to input CSVs ===\n",
    "csv_files = {\n",
    "    \"Label\":  r\"D:\\DETECTION 1.0\\Celeb-DF\\Label Real and Fake.csv\",\n",
    "    \"Motion\": r\"D:\\DETECTION 1.0\\Celeb-DF\\combined_motion.csv\",\n",
    "    \"NMCS\":   r\"D:\\DETECTION 1.0\\Celeb-DF\\nmcs_scores_real.csv\",\n",
    "    \"Muscle\": r\"D:\\DETECTION 1.0\\Celeb-DF\\muscle_tension_features_real.csv\"\n",
    "}\n",
    "\n",
    "# === Load and Normalize ===\n",
    "def load_csv(path, name):\n",
    "    df = pd.read_csv(path)\n",
    "\n",
    "    for col in ['video', 'filename', 'video_id']:\n",
    "        if col in df.columns:\n",
    "            df = df.rename(columns={col: 'video_id'})\n",
    "            break\n",
    "\n",
    "    df['video_id'] = df['video_id'].astype(str)\n",
    "\n",
    "    if 'label' not in df.columns and name != 'Label':\n",
    "        label_df = pd.read_csv(csv_files[\"Label\"])[['video_id', 'label']]\n",
    "        label_df['video_id'] = label_df['video_id'].astype(str)\n",
    "        df = df.merge(label_df, on='video_id', how='left')\n",
    "\n",
    "    print(f\"✅ Loaded {name}: shape = {df.shape}\")\n",
    "    return df\n",
    "\n",
    "# === Load all datasets ===\n",
    "label_df  = load_csv(csv_files[\"Label\"],  \"Label\")[['video_id', 'label']]\n",
    "motion_df = load_csv(csv_files[\"Motion\"], \"Motion\")\n",
    "nmcs_df   = load_csv(csv_files[\"NMCS\"],   \"NMCS\")\n",
    "muscle_df = load_csv(csv_files[\"Muscle\"], \"Muscle\")\n",
    "\n",
    "# === Drop label column from features if present\n",
    "for df in [motion_df, nmcs_df, muscle_df]:\n",
    "    if 'label' in df.columns:\n",
    "        df.drop(columns=['label'], inplace=True)\n",
    "\n",
    "# === Group (in case multiple rows per video)\n",
    "motion_agg = motion_df.groupby('video_id', as_index=False).mean(numeric_only=True)\n",
    "nmcs_agg   = nmcs_df.groupby('video_id', as_index=False).mean(numeric_only=True)\n",
    "muscle_agg = muscle_df.groupby('video_id', as_index=False).mean(numeric_only=True)\n",
    "\n",
    "# === Merge\n",
    "merged_df = label_df.copy()\n",
    "merged_df = merged_df.merge(motion_agg, on='video_id', how='inner')\n",
    "merged_df = merged_df.merge(nmcs_agg,   on='video_id', how='inner')\n",
    "merged_df = merged_df.merge(muscle_agg, on='video_id', how='inner')\n",
    "\n",
    "# === Save\n",
    "output_path = r\"D:\\DETECTION 1.0\\Celeb-DF\\fused_features.csv\"\n",
    "merged_df.to_csv(output_path, index=False)\n",
    "\n",
    "# === Summary\n",
    "print(\"\\n✅ Fusion complete. Saved to:\", output_path)\n",
    "print(f\"📦 Final shape: {merged_df.shape}\")\n",
    "print(f\"🟢 Real: {(merged_df['label'] == 0).sum()} | 🔴 Fake: {(merged_df['label'] == 1).sum()}\")\n",
    "\n",
    "# === Overlap Stats (optional)\n",
    "sets = {\n",
    "    \"Label\":  set(label_df['video_id']),\n",
    "    \"Motion\": set(motion_agg['video_id']),\n",
    "    \"NMCS\":   set(nmcs_agg['video_id']),\n",
    "    \"Muscle\": set(muscle_agg['video_id']),\n",
    "}\n",
    "print(\"\\n✅ Video ID Overlap Stats:\")\n",
    "print(\"🧩 Label ∩ Motion:\", len(sets[\"Label\"] & sets[\"Motion\"]))\n",
    "print(\"🧩 Label ∩ NMCS:\", len(sets[\"Label\"] & sets[\"NMCS\"]))\n",
    "print(\"🧩 Label ∩ Muscle:\", len(sets[\"Label\"] & sets[\"Muscle\"]))\n",
    "print(\"🧩 All 4 Intersecting:\", len(set.intersection(*sets.values())))\n"
   ]
  },
  {
   "cell_type": "code",
   "execution_count": 1,
   "id": "ab35e5f5",
   "metadata": {},
   "outputs": [
    {
     "name": "stderr",
     "output_type": "stream",
     "text": [
      "Processing heatmaps_real: 100%|██████████| 174881/174881 [1:07:03<00:00, 43.47it/s] \n",
      "Processing heatmaps_fake: 100%|██████████| 171907/171907 [34:50<00:00, 82.23it/s] \n"
     ]
    },
    {
     "name": "stdout",
     "output_type": "stream",
     "text": [
      "✅ real_motion.csv: 174881 rows\n",
      "✅ fake_motion.csv: 171907 rows\n",
      "✅ combined_motion.csv: 346788 rows\n"
     ]
    }
   ],
   "source": [
    "import cv2\n",
    "import numpy as np\n",
    "import os\n",
    "import glob\n",
    "import pandas as pd\n",
    "from tqdm import tqdm\n",
    "\n",
    "def compute_flow_stats_from_heatmap(image_path):\n",
    "    \"\"\"Compute mean and std of flow intensity from a heatmap.\"\"\"\n",
    "    img = cv2.imread(image_path, cv2.IMREAD_GRAYSCALE)\n",
    "    if img is None:\n",
    "        return None  # Skip unreadable image\n",
    "    mean_val = np.mean(img)\n",
    "    std_val = np.std(img)\n",
    "    return {\n",
    "        'heatmap_path': image_path,\n",
    "        'full_face_mean': mean_val,\n",
    "        'full_face_std': std_val,\n",
    "        'video_id': os.path.basename(os.path.dirname(image_path))  # <-- Extract video ID\n",
    "    }\n",
    "\n",
    "def process_heatmap_folder(folder_path, label):\n",
    "    \"\"\"Process all .png heatmaps in a folder and extract motion stats.\"\"\"\n",
    "    heatmap_paths = sorted(glob.glob(os.path.join(folder_path, '**', '*.png'), recursive=True))\n",
    "    data = []\n",
    "    for i, path in enumerate(tqdm(heatmap_paths, desc=f\"Processing {folder_path}\")):\n",
    "        stats = compute_flow_stats_from_heatmap(path)\n",
    "        if stats:\n",
    "            stats['pair_id'] = i\n",
    "            stats['label'] = label\n",
    "            data.append(stats)\n",
    "    return pd.DataFrame(data)\n",
    "\n",
    "# Set your paths\n",
    "real_heatmap_dir = \"heatmaps_real\"\n",
    "fake_heatmap_dir = \"heatmaps_fake\"\n",
    "\n",
    "# Process both sets\n",
    "real_df = process_heatmap_folder(real_heatmap_dir, label=0)\n",
    "fake_df = process_heatmap_folder(fake_heatmap_dir, label=1)\n",
    "\n",
    "# Save individually\n",
    "real_df.to_csv(\"real_motion.csv\", index=False)\n",
    "fake_df.to_csv(\"fake_motion.csv\", index=False)\n",
    "\n",
    "# Combine both\n",
    "combined_df = pd.concat([real_df, fake_df], ignore_index=True)\n",
    "combined_df.to_csv(\"combined_motion.csv\", index=False)\n",
    "\n",
    "# Summary\n",
    "print(f\"✅ real_motion.csv: {len(real_df)} rows\")\n",
    "print(f\"✅ fake_motion.csv: {len(fake_df)} rows\")\n",
    "print(f\"✅ combined_motion.csv: {len(combined_df)} rows\")\n"
   ]
  },
  {
   "cell_type": "code",
   "execution_count": 2,
   "id": "cc1956d2",
   "metadata": {},
   "outputs": [
    {
     "name": "stdout",
     "output_type": "stream",
     "text": [
      "✅ Loaded Label: shape = (347604, 3)\n",
      "✅ Loaded Motion: shape = (346788, 6)\n",
      "✅ Loaded NMCS: shape = (804, 5)\n",
      "✅ Loaded Muscle: shape = (804, 37)\n",
      "\n",
      "✅ Fusion complete. Saved to: D:\\DETECTION 1.0\\Celeb-DF\\fused_features.csv\n",
      "📦 Final shape: (0, 43)\n",
      "🟢 Real: 0 | 🔴 Fake: 0\n",
      "\n",
      "✅ Video ID Overlap Stats:\n",
      "🧩 Label ∩ Motion: 0\n",
      "🧩 Label ∩ NMCS: 0\n",
      "🧩 Label ∩ Muscle: 0\n",
      "🧩 All 4 Intersecting: 0\n"
     ]
    }
   ],
   "source": [
    "import pandas as pd\n",
    "\n",
    "# === Paths to input CSVs ===\n",
    "csv_files = {\n",
    "    \"Label\":  r\"D:\\DETECTION 1.0\\Celeb-DF\\Label Real and Fake.csv\",\n",
    "    \"Motion\": r\"D:\\DETECTION 1.0\\Celeb-DF\\combined_motion.csv\",\n",
    "    \"NMCS\":   r\"D:\\DETECTION 1.0\\Celeb-DF\\nmcs_scores.csv\",\n",
    "    \"Muscle\": r\"D:\\DETECTION 1.0\\Celeb-DF\\muscle_tension_features.csv\"\n",
    "}\n",
    "\n",
    "# === Load and Normalize ===\n",
    "def load_csv(path, name):\n",
    "    df = pd.read_csv(path)\n",
    "\n",
    "    for col in ['video', 'filename', 'video_id']:\n",
    "        if col in df.columns:\n",
    "            df = df.rename(columns={col: 'video_id'})\n",
    "            break\n",
    "\n",
    "    df['video_id'] = df['video_id'].astype(str)\n",
    "\n",
    "    if 'label' not in df.columns and name != 'Label':\n",
    "        label_df = pd.read_csv(csv_files[\"Label\"])[['video_id', 'label']]\n",
    "        label_df['video_id'] = label_df['video_id'].astype(str)\n",
    "        df = df.merge(label_df, on='video_id', how='left')\n",
    "\n",
    "    print(f\"✅ Loaded {name}: shape = {df.shape}\")\n",
    "    return df\n",
    "\n",
    "# === Load all datasets ===\n",
    "label_df  = load_csv(csv_files[\"Label\"],  \"Label\")[['video_id', 'label']]\n",
    "motion_df = load_csv(csv_files[\"Motion\"], \"Motion\")\n",
    "nmcs_df   = load_csv(csv_files[\"NMCS\"],   \"NMCS\")\n",
    "muscle_df = load_csv(csv_files[\"Muscle\"], \"Muscle\")\n",
    "\n",
    "# === Drop label column from features if present\n",
    "for df in [motion_df, nmcs_df, muscle_df]:\n",
    "    if 'label' in df.columns:\n",
    "        df.drop(columns=['label'], inplace=True)\n",
    "\n",
    "# === Group (in case multiple rows per video)\n",
    "motion_agg = motion_df.groupby('video_id', as_index=False).mean(numeric_only=True)\n",
    "nmcs_agg   = nmcs_df.groupby('video_id', as_index=False).mean(numeric_only=True)\n",
    "muscle_agg = muscle_df.groupby('video_id', as_index=False).mean(numeric_only=True)\n",
    "\n",
    "# === Merge\n",
    "merged_df = label_df.copy()\n",
    "merged_df = merged_df.merge(motion_agg, on='video_id', how='inner')\n",
    "merged_df = merged_df.merge(nmcs_agg,   on='video_id', how='inner')\n",
    "merged_df = merged_df.merge(muscle_agg, on='video_id', how='inner')\n",
    "\n",
    "# === Save\n",
    "output_path = r\"D:\\DETECTION 1.0\\Celeb-DF\\fused_features.csv\"\n",
    "merged_df.to_csv(output_path, index=False)\n",
    "\n",
    "# === Summary\n",
    "print(\"\\n✅ Fusion complete. Saved to:\", output_path)\n",
    "print(f\"📦 Final shape: {merged_df.shape}\")\n",
    "print(f\"🟢 Real: {(merged_df['label'] == 0).sum()} | 🔴 Fake: {(merged_df['label'] == 1).sum()}\")\n",
    "\n",
    "# === Overlap Stats (optional)\n",
    "sets = {\n",
    "    \"Label\":  set(label_df['video_id']),\n",
    "    \"Motion\": set(motion_agg['video_id']),\n",
    "    \"NMCS\":   set(nmcs_agg['video_id']),\n",
    "    \"Muscle\": set(muscle_agg['video_id']),\n",
    "}\n",
    "print(\"\\n✅ Video ID Overlap Stats:\")\n",
    "print(\"🧩 Label ∩ Motion:\", len(sets[\"Label\"] & sets[\"Motion\"]))\n",
    "print(\"🧩 Label ∩ NMCS:\", len(sets[\"Label\"] & sets[\"NMCS\"]))\n",
    "print(\"🧩 Label ∩ Muscle:\", len(sets[\"Label\"] & sets[\"Muscle\"]))\n",
    "print(\"🧩 All 4 Intersecting:\", len(set.intersection(*sets.values())))\n"
   ]
  },
  {
   "cell_type": "code",
   "execution_count": 3,
   "id": "0ac4f557",
   "metadata": {},
   "outputs": [
    {
     "name": "stdout",
     "output_type": "stream",
     "text": [
      "✅ Loaded Label: shape = (310866, 3)\n",
      "✅ Loaded Motion: shape = (346788, 6)\n",
      "✅ Loaded NMCS: shape = (804, 5)\n",
      "✅ Loaded Muscle: shape = (804, 37)\n",
      "\n",
      "✅ Video ID Overlap Stats:\n",
      "🧩 Label ∩ Motion: 262\n",
      "🧩 Label ∩ NMCS: 247\n",
      "🧩 Label ∩ Muscle: 247\n",
      "🧩 All 4 Intersecting: 247\n"
     ]
    },
    {
     "ename": "MergeError",
     "evalue": "Passing 'suffixes' which cause duplicate columns {'label_x'} is not allowed.",
     "output_type": "error",
     "traceback": [
      "\u001b[1;31m---------------------------------------------------------------------------\u001b[0m",
      "\u001b[1;31mMergeError\u001b[0m                                Traceback (most recent call last)",
      "Cell \u001b[1;32mIn[3], line 57\u001b[0m\n\u001b[0;32m     54\u001b[0m \u001b[38;5;28;01massert\u001b[39;00m muscle_df[\u001b[38;5;124m'\u001b[39m\u001b[38;5;124mvideo_id\u001b[39m\u001b[38;5;124m'\u001b[39m]\u001b[38;5;241m.\u001b[39mis_unique\n\u001b[0;32m     56\u001b[0m \u001b[38;5;66;03m# === Merge all ===\u001b[39;00m\n\u001b[1;32m---> 57\u001b[0m fused \u001b[38;5;241m=\u001b[39m \u001b[43mlabel_grouped\u001b[49m\u001b[38;5;241;43m.\u001b[39;49m\u001b[43mmerge\u001b[49m\u001b[43m(\u001b[49m\u001b[43mmotion_grouped\u001b[49m\u001b[43m,\u001b[49m\u001b[43m \u001b[49m\u001b[43mon\u001b[49m\u001b[38;5;241;43m=\u001b[39;49m\u001b[38;5;124;43m'\u001b[39;49m\u001b[38;5;124;43mvideo_id\u001b[39;49m\u001b[38;5;124;43m'\u001b[39;49m\u001b[43m)\u001b[49m\u001b[43m \u001b[49m\u001b[43m\\\u001b[49m\n\u001b[0;32m     58\u001b[0m \u001b[43m                     \u001b[49m\u001b[38;5;241;43m.\u001b[39;49m\u001b[43mmerge\u001b[49m\u001b[43m(\u001b[49m\u001b[43mnmcs_df\u001b[49m\u001b[43m,\u001b[49m\u001b[43m \u001b[49m\u001b[43mon\u001b[49m\u001b[38;5;241;43m=\u001b[39;49m\u001b[38;5;124;43m'\u001b[39;49m\u001b[38;5;124;43mvideo_id\u001b[39;49m\u001b[38;5;124;43m'\u001b[39;49m\u001b[43m)\u001b[49m\u001b[43m \u001b[49m\u001b[43m\\\u001b[49m\n\u001b[0;32m     59\u001b[0m \u001b[43m                     \u001b[49m\u001b[38;5;241;43m.\u001b[39;49m\u001b[43mmerge\u001b[49m\u001b[43m(\u001b[49m\u001b[43mmuscle_df\u001b[49m\u001b[43m,\u001b[49m\u001b[43m \u001b[49m\u001b[43mon\u001b[49m\u001b[38;5;241;43m=\u001b[39;49m\u001b[38;5;124;43m'\u001b[39;49m\u001b[38;5;124;43mvideo_id\u001b[39;49m\u001b[38;5;124;43m'\u001b[39;49m\u001b[43m)\u001b[49m\n\u001b[0;32m     61\u001b[0m \u001b[38;5;66;03m# === Save ===\u001b[39;00m\n\u001b[0;32m     62\u001b[0m fused\u001b[38;5;241m.\u001b[39mto_csv(output_path, index\u001b[38;5;241m=\u001b[39m\u001b[38;5;28;01mFalse\u001b[39;00m)\n",
      "File \u001b[1;32mc:\\Users\\ACER\\anaconda3\\envs\\torch_env\\lib\\site-packages\\pandas\\core\\frame.py:10832\u001b[0m, in \u001b[0;36mDataFrame.merge\u001b[1;34m(self, right, how, on, left_on, right_on, left_index, right_index, sort, suffixes, copy, indicator, validate)\u001b[0m\n\u001b[0;32m  10813\u001b[0m \u001b[38;5;129m@Substitution\u001b[39m(\u001b[38;5;124m\"\u001b[39m\u001b[38;5;124m\"\u001b[39m)\n\u001b[0;32m  10814\u001b[0m \u001b[38;5;129m@Appender\u001b[39m(_merge_doc, indents\u001b[38;5;241m=\u001b[39m\u001b[38;5;241m2\u001b[39m)\n\u001b[0;32m  10815\u001b[0m \u001b[38;5;28;01mdef\u001b[39;00m\u001b[38;5;250m \u001b[39m\u001b[38;5;21mmerge\u001b[39m(\n\u001b[1;32m   (...)\u001b[0m\n\u001b[0;32m  10828\u001b[0m     validate: MergeValidate \u001b[38;5;241m|\u001b[39m \u001b[38;5;28;01mNone\u001b[39;00m \u001b[38;5;241m=\u001b[39m \u001b[38;5;28;01mNone\u001b[39;00m,\n\u001b[0;32m  10829\u001b[0m ) \u001b[38;5;241m-\u001b[39m\u001b[38;5;241m>\u001b[39m DataFrame:\n\u001b[0;32m  10830\u001b[0m     \u001b[38;5;28;01mfrom\u001b[39;00m\u001b[38;5;250m \u001b[39m\u001b[38;5;21;01mpandas\u001b[39;00m\u001b[38;5;21;01m.\u001b[39;00m\u001b[38;5;21;01mcore\u001b[39;00m\u001b[38;5;21;01m.\u001b[39;00m\u001b[38;5;21;01mreshape\u001b[39;00m\u001b[38;5;21;01m.\u001b[39;00m\u001b[38;5;21;01mmerge\u001b[39;00m\u001b[38;5;250m \u001b[39m\u001b[38;5;28;01mimport\u001b[39;00m merge\n\u001b[1;32m> 10832\u001b[0m     \u001b[38;5;28;01mreturn\u001b[39;00m \u001b[43mmerge\u001b[49m\u001b[43m(\u001b[49m\n\u001b[0;32m  10833\u001b[0m \u001b[43m        \u001b[49m\u001b[38;5;28;43mself\u001b[39;49m\u001b[43m,\u001b[49m\n\u001b[0;32m  10834\u001b[0m \u001b[43m        \u001b[49m\u001b[43mright\u001b[49m\u001b[43m,\u001b[49m\n\u001b[0;32m  10835\u001b[0m \u001b[43m        \u001b[49m\u001b[43mhow\u001b[49m\u001b[38;5;241;43m=\u001b[39;49m\u001b[43mhow\u001b[49m\u001b[43m,\u001b[49m\n\u001b[0;32m  10836\u001b[0m \u001b[43m        \u001b[49m\u001b[43mon\u001b[49m\u001b[38;5;241;43m=\u001b[39;49m\u001b[43mon\u001b[49m\u001b[43m,\u001b[49m\n\u001b[0;32m  10837\u001b[0m \u001b[43m        \u001b[49m\u001b[43mleft_on\u001b[49m\u001b[38;5;241;43m=\u001b[39;49m\u001b[43mleft_on\u001b[49m\u001b[43m,\u001b[49m\n\u001b[0;32m  10838\u001b[0m \u001b[43m        \u001b[49m\u001b[43mright_on\u001b[49m\u001b[38;5;241;43m=\u001b[39;49m\u001b[43mright_on\u001b[49m\u001b[43m,\u001b[49m\n\u001b[0;32m  10839\u001b[0m \u001b[43m        \u001b[49m\u001b[43mleft_index\u001b[49m\u001b[38;5;241;43m=\u001b[39;49m\u001b[43mleft_index\u001b[49m\u001b[43m,\u001b[49m\n\u001b[0;32m  10840\u001b[0m \u001b[43m        \u001b[49m\u001b[43mright_index\u001b[49m\u001b[38;5;241;43m=\u001b[39;49m\u001b[43mright_index\u001b[49m\u001b[43m,\u001b[49m\n\u001b[0;32m  10841\u001b[0m \u001b[43m        \u001b[49m\u001b[43msort\u001b[49m\u001b[38;5;241;43m=\u001b[39;49m\u001b[43msort\u001b[49m\u001b[43m,\u001b[49m\n\u001b[0;32m  10842\u001b[0m \u001b[43m        \u001b[49m\u001b[43msuffixes\u001b[49m\u001b[38;5;241;43m=\u001b[39;49m\u001b[43msuffixes\u001b[49m\u001b[43m,\u001b[49m\n\u001b[0;32m  10843\u001b[0m \u001b[43m        \u001b[49m\u001b[43mcopy\u001b[49m\u001b[38;5;241;43m=\u001b[39;49m\u001b[43mcopy\u001b[49m\u001b[43m,\u001b[49m\n\u001b[0;32m  10844\u001b[0m \u001b[43m        \u001b[49m\u001b[43mindicator\u001b[49m\u001b[38;5;241;43m=\u001b[39;49m\u001b[43mindicator\u001b[49m\u001b[43m,\u001b[49m\n\u001b[0;32m  10845\u001b[0m \u001b[43m        \u001b[49m\u001b[43mvalidate\u001b[49m\u001b[38;5;241;43m=\u001b[39;49m\u001b[43mvalidate\u001b[49m\u001b[43m,\u001b[49m\n\u001b[0;32m  10846\u001b[0m \u001b[43m    \u001b[49m\u001b[43m)\u001b[49m\n",
      "File \u001b[1;32mc:\\Users\\ACER\\anaconda3\\envs\\torch_env\\lib\\site-packages\\pandas\\core\\reshape\\merge.py:184\u001b[0m, in \u001b[0;36mmerge\u001b[1;34m(left, right, how, on, left_on, right_on, left_index, right_index, sort, suffixes, copy, indicator, validate)\u001b[0m\n\u001b[0;32m    169\u001b[0m \u001b[38;5;28;01melse\u001b[39;00m:\n\u001b[0;32m    170\u001b[0m     op \u001b[38;5;241m=\u001b[39m _MergeOperation(\n\u001b[0;32m    171\u001b[0m         left_df,\n\u001b[0;32m    172\u001b[0m         right_df,\n\u001b[1;32m   (...)\u001b[0m\n\u001b[0;32m    182\u001b[0m         validate\u001b[38;5;241m=\u001b[39mvalidate,\n\u001b[0;32m    183\u001b[0m     )\n\u001b[1;32m--> 184\u001b[0m     \u001b[38;5;28;01mreturn\u001b[39;00m \u001b[43mop\u001b[49m\u001b[38;5;241;43m.\u001b[39;49m\u001b[43mget_result\u001b[49m\u001b[43m(\u001b[49m\u001b[43mcopy\u001b[49m\u001b[38;5;241;43m=\u001b[39;49m\u001b[43mcopy\u001b[49m\u001b[43m)\u001b[49m\n",
      "File \u001b[1;32mc:\\Users\\ACER\\anaconda3\\envs\\torch_env\\lib\\site-packages\\pandas\\core\\reshape\\merge.py:888\u001b[0m, in \u001b[0;36m_MergeOperation.get_result\u001b[1;34m(self, copy)\u001b[0m\n\u001b[0;32m    884\u001b[0m     \u001b[38;5;28mself\u001b[39m\u001b[38;5;241m.\u001b[39mleft, \u001b[38;5;28mself\u001b[39m\u001b[38;5;241m.\u001b[39mright \u001b[38;5;241m=\u001b[39m \u001b[38;5;28mself\u001b[39m\u001b[38;5;241m.\u001b[39m_indicator_pre_merge(\u001b[38;5;28mself\u001b[39m\u001b[38;5;241m.\u001b[39mleft, \u001b[38;5;28mself\u001b[39m\u001b[38;5;241m.\u001b[39mright)\n\u001b[0;32m    886\u001b[0m join_index, left_indexer, right_indexer \u001b[38;5;241m=\u001b[39m \u001b[38;5;28mself\u001b[39m\u001b[38;5;241m.\u001b[39m_get_join_info()\n\u001b[1;32m--> 888\u001b[0m result \u001b[38;5;241m=\u001b[39m \u001b[38;5;28;43mself\u001b[39;49m\u001b[38;5;241;43m.\u001b[39;49m\u001b[43m_reindex_and_concat\u001b[49m\u001b[43m(\u001b[49m\n\u001b[0;32m    889\u001b[0m \u001b[43m    \u001b[49m\u001b[43mjoin_index\u001b[49m\u001b[43m,\u001b[49m\u001b[43m \u001b[49m\u001b[43mleft_indexer\u001b[49m\u001b[43m,\u001b[49m\u001b[43m \u001b[49m\u001b[43mright_indexer\u001b[49m\u001b[43m,\u001b[49m\u001b[43m \u001b[49m\u001b[43mcopy\u001b[49m\u001b[38;5;241;43m=\u001b[39;49m\u001b[43mcopy\u001b[49m\n\u001b[0;32m    890\u001b[0m \u001b[43m\u001b[49m\u001b[43m)\u001b[49m\n\u001b[0;32m    891\u001b[0m result \u001b[38;5;241m=\u001b[39m result\u001b[38;5;241m.\u001b[39m__finalize__(\u001b[38;5;28mself\u001b[39m, method\u001b[38;5;241m=\u001b[39m\u001b[38;5;28mself\u001b[39m\u001b[38;5;241m.\u001b[39m_merge_type)\n\u001b[0;32m    893\u001b[0m \u001b[38;5;28;01mif\u001b[39;00m \u001b[38;5;28mself\u001b[39m\u001b[38;5;241m.\u001b[39mindicator:\n",
      "File \u001b[1;32mc:\\Users\\ACER\\anaconda3\\envs\\torch_env\\lib\\site-packages\\pandas\\core\\reshape\\merge.py:840\u001b[0m, in \u001b[0;36m_MergeOperation._reindex_and_concat\u001b[1;34m(self, join_index, left_indexer, right_indexer, copy)\u001b[0m\n\u001b[0;32m    837\u001b[0m left \u001b[38;5;241m=\u001b[39m \u001b[38;5;28mself\u001b[39m\u001b[38;5;241m.\u001b[39mleft[:]\n\u001b[0;32m    838\u001b[0m right \u001b[38;5;241m=\u001b[39m \u001b[38;5;28mself\u001b[39m\u001b[38;5;241m.\u001b[39mright[:]\n\u001b[1;32m--> 840\u001b[0m llabels, rlabels \u001b[38;5;241m=\u001b[39m \u001b[43m_items_overlap_with_suffix\u001b[49m\u001b[43m(\u001b[49m\n\u001b[0;32m    841\u001b[0m \u001b[43m    \u001b[49m\u001b[38;5;28;43mself\u001b[39;49m\u001b[38;5;241;43m.\u001b[39;49m\u001b[43mleft\u001b[49m\u001b[38;5;241;43m.\u001b[39;49m\u001b[43m_info_axis\u001b[49m\u001b[43m,\u001b[49m\u001b[43m \u001b[49m\u001b[38;5;28;43mself\u001b[39;49m\u001b[38;5;241;43m.\u001b[39;49m\u001b[43mright\u001b[49m\u001b[38;5;241;43m.\u001b[39;49m\u001b[43m_info_axis\u001b[49m\u001b[43m,\u001b[49m\u001b[43m \u001b[49m\u001b[38;5;28;43mself\u001b[39;49m\u001b[38;5;241;43m.\u001b[39;49m\u001b[43msuffixes\u001b[49m\n\u001b[0;32m    842\u001b[0m \u001b[43m\u001b[49m\u001b[43m)\u001b[49m\n\u001b[0;32m    844\u001b[0m \u001b[38;5;28;01mif\u001b[39;00m left_indexer \u001b[38;5;129;01mis\u001b[39;00m \u001b[38;5;129;01mnot\u001b[39;00m \u001b[38;5;28;01mNone\u001b[39;00m \u001b[38;5;129;01mand\u001b[39;00m \u001b[38;5;129;01mnot\u001b[39;00m is_range_indexer(left_indexer, \u001b[38;5;28mlen\u001b[39m(left)):\n\u001b[0;32m    845\u001b[0m     \u001b[38;5;66;03m# Pinning the index here (and in the right code just below) is not\u001b[39;00m\n\u001b[0;32m    846\u001b[0m     \u001b[38;5;66;03m#  necessary, but makes the `.take` more performant if we have e.g.\u001b[39;00m\n\u001b[0;32m    847\u001b[0m     \u001b[38;5;66;03m#  a MultiIndex for left.index.\u001b[39;00m\n\u001b[0;32m    848\u001b[0m     lmgr \u001b[38;5;241m=\u001b[39m left\u001b[38;5;241m.\u001b[39m_mgr\u001b[38;5;241m.\u001b[39mreindex_indexer(\n\u001b[0;32m    849\u001b[0m         join_index,\n\u001b[0;32m    850\u001b[0m         left_indexer,\n\u001b[1;32m   (...)\u001b[0m\n\u001b[0;32m    855\u001b[0m         use_na_proxy\u001b[38;5;241m=\u001b[39m\u001b[38;5;28;01mTrue\u001b[39;00m,\n\u001b[0;32m    856\u001b[0m     )\n",
      "File \u001b[1;32mc:\\Users\\ACER\\anaconda3\\envs\\torch_env\\lib\\site-packages\\pandas\\core\\reshape\\merge.py:2757\u001b[0m, in \u001b[0;36m_items_overlap_with_suffix\u001b[1;34m(left, right, suffixes)\u001b[0m\n\u001b[0;32m   2755\u001b[0m     dups\u001b[38;5;241m.\u001b[39mextend(rlabels[(rlabels\u001b[38;5;241m.\u001b[39mduplicated()) \u001b[38;5;241m&\u001b[39m (\u001b[38;5;241m~\u001b[39mright\u001b[38;5;241m.\u001b[39mduplicated())]\u001b[38;5;241m.\u001b[39mtolist())\n\u001b[0;32m   2756\u001b[0m \u001b[38;5;28;01mif\u001b[39;00m dups:\n\u001b[1;32m-> 2757\u001b[0m     \u001b[38;5;28;01mraise\u001b[39;00m MergeError(\n\u001b[0;32m   2758\u001b[0m         \u001b[38;5;124mf\u001b[39m\u001b[38;5;124m\"\u001b[39m\u001b[38;5;124mPassing \u001b[39m\u001b[38;5;124m'\u001b[39m\u001b[38;5;124msuffixes\u001b[39m\u001b[38;5;124m'\u001b[39m\u001b[38;5;124m which cause duplicate columns \u001b[39m\u001b[38;5;132;01m{\u001b[39;00m\u001b[38;5;28mset\u001b[39m(dups)\u001b[38;5;132;01m}\u001b[39;00m\u001b[38;5;124m is \u001b[39m\u001b[38;5;124m\"\u001b[39m\n\u001b[0;32m   2759\u001b[0m         \u001b[38;5;124mf\u001b[39m\u001b[38;5;124m\"\u001b[39m\u001b[38;5;124mnot allowed.\u001b[39m\u001b[38;5;124m\"\u001b[39m,\n\u001b[0;32m   2760\u001b[0m     )\n\u001b[0;32m   2762\u001b[0m \u001b[38;5;28;01mreturn\u001b[39;00m llabels, rlabels\n",
      "\u001b[1;31mMergeError\u001b[0m: Passing 'suffixes' which cause duplicate columns {'label_x'} is not allowed."
     ]
    }
   ],
   "source": [
    "import pandas as pd\n",
    "\n",
    "# === File Paths ===\n",
    "label_path = r\"D:\\DETECTION 1.0\\Celeb-DF\\aligned_frame_labels.csv\"\n",
    "motion_path = r\"D:\\DETECTION 1.0\\Celeb-DF\\combined_motion.csv\"\n",
    "nmcs_path = r\"D:\\DETECTION 1.0\\Celeb-DF\\nmcs_scores.csv\"\n",
    "muscle_path = r\"D:\\DETECTION 1.0\\Celeb-DF\\muscle_tension_features.csv\"\n",
    "output_path = r\"D:\\DETECTION 1.0\\Celeb-DF\\fused_features_new.csv\"\n",
    "\n",
    "# === Load CSVs ===\n",
    "label_df = pd.read_csv(label_path)\n",
    "motion_df = pd.read_csv(motion_path)\n",
    "nmcs_df = pd.read_csv(nmcs_path)\n",
    "muscle_df = pd.read_csv(muscle_path)\n",
    "\n",
    "print(f\"✅ Loaded Label: shape = {label_df.shape}\")\n",
    "print(f\"✅ Loaded Motion: shape = {motion_df.shape}\")\n",
    "print(f\"✅ Loaded NMCS: shape = {nmcs_df.shape}\")\n",
    "print(f\"✅ Loaded Muscle: shape = {muscle_df.shape}\")\n",
    "\n",
    "# === Normalize video_id (keep only base video id like 00000) ===\n",
    "label_df['video_id'] = label_df['video_id'].astype(str).apply(lambda x: x.split('_')[0])\n",
    "motion_df['video_id'] = motion_df['video_id'].astype(str).apply(lambda x: x.split('_')[0])\n",
    "nmcs_df['video_id'] = nmcs_df['video_id'].astype(str)\n",
    "muscle_df['video_id'] = muscle_df['video_id'].astype(str)\n",
    "\n",
    "# === Group frame-based data to video-level by averaging ===\n",
    "label_grouped = label_df.groupby('video_id').mean(numeric_only=True).reset_index()\n",
    "motion_grouped = motion_df.groupby('video_id').mean(numeric_only=True).reset_index()\n",
    "\n",
    "# === Check intersections ===\n",
    "label_ids = set(label_grouped['video_id'])\n",
    "motion_ids = set(motion_grouped['video_id'])\n",
    "nmcs_ids = set(nmcs_df['video_id'])\n",
    "muscle_ids = set(muscle_df['video_id'])\n",
    "\n",
    "intersect_all = label_ids & motion_ids & nmcs_ids & muscle_ids\n",
    "print(f\"\\n✅ Video ID Overlap Stats:\")\n",
    "print(f\"🧩 Label ∩ Motion: {len(label_ids & motion_ids)}\")\n",
    "print(f\"🧩 Label ∩ NMCS: {len(label_ids & nmcs_ids)}\")\n",
    "print(f\"🧩 Label ∩ Muscle: {len(label_ids & muscle_ids)}\")\n",
    "print(f\"🧩 All 4 Intersecting: {len(intersect_all)}\")\n",
    "\n",
    "# === Filter all to common video_ids only ===\n",
    "label_grouped = label_grouped[label_grouped['video_id'].isin(intersect_all)]\n",
    "motion_grouped = motion_grouped[motion_grouped['video_id'].isin(intersect_all)]\n",
    "nmcs_df = nmcs_df[nmcs_df['video_id'].isin(intersect_all)]\n",
    "muscle_df = muscle_df[muscle_df['video_id'].isin(intersect_all)]\n",
    "\n",
    "# === Safety check: ensure uniqueness ===\n",
    "assert label_grouped['video_id'].is_unique\n",
    "assert motion_grouped['video_id'].is_unique\n",
    "assert nmcs_df['video_id'].is_unique\n",
    "assert muscle_df['video_id'].is_unique\n",
    "\n",
    "# === Merge all ===\n",
    "fused = label_grouped.merge(motion_grouped, on='video_id') \\\n",
    "                     .merge(nmcs_df, on='video_id') \\\n",
    "                     .merge(muscle_df, on='video_id')\n",
    "\n",
    "# === Save ===\n",
    "fused.to_csv(output_path, index=False)\n",
    "print(f\"\\n✅ Fusion complete. Saved to: {output_path}\")\n",
    "print(f\"📦 Final shape: {fused.shape}\")\n",
    "print(f\"🟢 Real: {(fused['label'] == 0).sum()} | 🔴 Fake: {(fused['label'] == 1).sum()}\")\n"
   ]
  },
  {
   "cell_type": "code",
   "execution_count": 4,
   "id": "aba744d8",
   "metadata": {},
   "outputs": [
    {
     "name": "stdout",
     "output_type": "stream",
     "text": [
      "✅ Loaded Label: shape = (310866, 3)\n",
      "✅ Loaded Motion: shape = (346788, 6)\n",
      "✅ Loaded NMCS: shape = (804, 5)\n",
      "✅ Loaded Muscle: shape = (804, 37)\n",
      "\n",
      "✅ Video ID Overlap Stats:\n",
      "🧩 Label ∩ Motion: 262\n",
      "🧩 Label ∩ NMCS: 247\n",
      "🧩 Label ∩ Muscle: 247\n",
      "🧩 All 4 Intersecting: 247\n",
      "\n",
      "✅ Fusion complete. Saved to: D:\\DETECTION 1.0\\Celeb-DF\\fused_features_new.csv\n",
      "📦 Final shape: (247, 43)\n",
      "🟢 Real: 247 | 🔴 Fake: 0\n"
     ]
    }
   ],
   "source": [
    "import pandas as pd\n",
    "\n",
    "# === File Paths ===\n",
    "label_path = r\"D:\\DETECTION 1.0\\Celeb-DF\\aligned_frame_labels.csv\"\n",
    "motion_path = r\"D:\\DETECTION 1.0\\Celeb-DF\\combined_motion.csv\"\n",
    "nmcs_path = r\"D:\\DETECTION 1.0\\Celeb-DF\\nmcs_scores.csv\"\n",
    "muscle_path = r\"D:\\DETECTION 1.0\\Celeb-DF\\muscle_tension_features.csv\"\n",
    "output_path = r\"D:\\DETECTION 1.0\\Celeb-DF\\fused_features_new.csv\"\n",
    "\n",
    "# === Load CSVs ===\n",
    "label_df = pd.read_csv(label_path)\n",
    "motion_df = pd.read_csv(motion_path)\n",
    "nmcs_df = pd.read_csv(nmcs_path)\n",
    "muscle_df = pd.read_csv(muscle_path)\n",
    "\n",
    "print(f\"✅ Loaded Label: shape = {label_df.shape}\")\n",
    "print(f\"✅ Loaded Motion: shape = {motion_df.shape}\")\n",
    "print(f\"✅ Loaded NMCS: shape = {nmcs_df.shape}\")\n",
    "print(f\"✅ Loaded Muscle: shape = {muscle_df.shape}\")\n",
    "\n",
    "# === Normalize video_id (keep only base video id like 00000) ===\n",
    "label_df['video_id'] = label_df['video_id'].astype(str).apply(lambda x: x.split('_')[0])\n",
    "motion_df['video_id'] = motion_df['video_id'].astype(str).apply(lambda x: x.split('_')[0])\n",
    "nmcs_df['video_id'] = nmcs_df['video_id'].astype(str)\n",
    "muscle_df['video_id'] = muscle_df['video_id'].astype(str)\n",
    "\n",
    "# === Group frame-based data to video-level by averaging ===\n",
    "label_grouped = label_df.groupby('video_id').mean(numeric_only=True).reset_index()\n",
    "motion_grouped = motion_df.groupby('video_id').mean(numeric_only=True).reset_index()\n",
    "\n",
    "# === Check intersections ===\n",
    "label_ids = set(label_grouped['video_id'])\n",
    "motion_ids = set(motion_grouped['video_id'])\n",
    "nmcs_ids = set(nmcs_df['video_id'])\n",
    "muscle_ids = set(muscle_df['video_id'])\n",
    "\n",
    "intersect_all = label_ids & motion_ids & nmcs_ids & muscle_ids\n",
    "print(f\"\\n✅ Video ID Overlap Stats:\")\n",
    "print(f\"🧩 Label ∩ Motion: {len(label_ids & motion_ids)}\")\n",
    "print(f\"🧩 Label ∩ NMCS: {len(label_ids & nmcs_ids)}\")\n",
    "print(f\"🧩 Label ∩ Muscle: {len(label_ids & muscle_ids)}\")\n",
    "print(f\"🧩 All 4 Intersecting: {len(intersect_all)}\")\n",
    "\n",
    "# === Filter all to common video_ids only ===\n",
    "label_grouped = label_grouped[label_grouped['video_id'].isin(intersect_all)]\n",
    "motion_grouped = motion_grouped[motion_grouped['video_id'].isin(intersect_all)]\n",
    "nmcs_df = nmcs_df[nmcs_df['video_id'].isin(intersect_all)]\n",
    "muscle_df = muscle_df[muscle_df['video_id'].isin(intersect_all)]\n",
    "\n",
    "# === Safety check: ensure uniqueness ===\n",
    "assert label_grouped['video_id'].is_unique\n",
    "assert motion_grouped['video_id'].is_unique\n",
    "assert nmcs_df['video_id'].is_unique\n",
    "assert muscle_df['video_id'].is_unique\n",
    "\n",
    "# === Drop duplicate 'label' column from non-primary sources ===\n",
    "for df in [motion_grouped, nmcs_df, muscle_df]:\n",
    "    if 'label' in df.columns:\n",
    "        df.drop(columns=['label'], inplace=True)\n",
    "\n",
    "# === Merge all ===\n",
    "fused = label_grouped.merge(motion_grouped, on='video_id') \\\n",
    "                     .merge(nmcs_df, on='video_id') \\\n",
    "                     .merge(muscle_df, on='video_id')\n",
    "\n",
    "# === Save output ===\n",
    "fused.to_csv(output_path, index=False)\n",
    "print(f\"\\n✅ Fusion complete. Saved to: {output_path}\")\n",
    "print(f\"📦 Final shape: {fused.shape}\")\n",
    "print(f\"🟢 Real: {(fused['label'] == 0).sum()} | 🔴 Fake: {(fused['label'] == 1).sum()}\")\n"
   ]
  },
  {
   "cell_type": "code",
   "execution_count": 5,
   "id": "aa50f6c1",
   "metadata": {},
   "outputs": [
    {
     "data": {
      "text/plain": [
       "array(['id1', 'id3', 'id4', 'id6', 'id7', 'id8', 'id9'], dtype=object)"
      ]
     },
     "execution_count": 5,
     "metadata": {},
     "output_type": "execute_result"
    }
   ],
   "source": [
    "label_df[label_df['label'] == 1]['video_id'].unique()\n"
   ]
  },
  {
   "cell_type": "code",
   "execution_count": 6,
   "id": "deb3e9d3",
   "metadata": {},
   "outputs": [
    {
     "name": "stdout",
     "output_type": "stream",
     "text": [
      "Fake in Motion: 7\n",
      "Fake in NMCS: No label column\n",
      "Fake in Muscle: No label column\n"
     ]
    }
   ],
   "source": [
    "print(\"Fake in Motion:\", motion_df[motion_df['label'] == 1]['video_id'].nunique())\n",
    "print(\"Fake in NMCS:\", nmcs_df[nmcs_df['label'] == 1]['video_id'].nunique() if 'label' in nmcs_df else \"No label column\")\n",
    "print(\"Fake in Muscle:\", muscle_df[muscle_df['label'] == 1]['video_id'].nunique() if 'label' in muscle_df else \"No label column\")\n"
   ]
  },
  {
   "cell_type": "code",
   "execution_count": 7,
   "id": "03b7ec23",
   "metadata": {},
   "outputs": [
    {
     "name": "stdout",
     "output_type": "stream",
     "text": [
      "🧠 Fake Videos Found:\n",
      "🟣 In Label: 7\n",
      "🔵 In Motion: 7\n",
      "🟢 In NMCS: 0\n",
      "🟡 In Muscle: 0\n"
     ]
    }
   ],
   "source": [
    "# Check video_id formatting and labels for each source\n",
    "\n",
    "# First ensure correct formatting of video_id\n",
    "label_df['video_id'] = label_df['video_id'].astype(str).apply(lambda x: x.split('_')[0])\n",
    "motion_df['video_id'] = motion_df['video_id'].astype(str).apply(lambda x: x.split('_')[0])\n",
    "nmcs_df['video_id'] = nmcs_df['video_id'].astype(str)\n",
    "muscle_df['video_id'] = muscle_df['video_id'].astype(str)\n",
    "\n",
    "# Get unique fake video_ids\n",
    "fake_label_ids = set(label_df[label_df['label'] == 1]['video_id'].unique())\n",
    "fake_motion_ids = set(motion_df[motion_df['label'] == 1]['video_id'].unique()) if 'label' in motion_df.columns else set()\n",
    "fake_nmcs_ids = set(nmcs_df[nmcs_df['label'] == 1]['video_id'].unique()) if 'label' in nmcs_df.columns else set()\n",
    "fake_muscle_ids = set(muscle_df[muscle_df['label'] == 1]['video_id'].unique()) if 'label' in muscle_df.columns else set()\n",
    "\n",
    "# Print how many fakes are in each\n",
    "print(f\"🧠 Fake Videos Found:\")\n",
    "print(f\"🟣 In Label: {len(fake_label_ids)}\")\n",
    "print(f\"🔵 In Motion: {len(fake_motion_ids)}\")\n",
    "print(f\"🟢 In NMCS: {len(fake_nmcs_ids)}\")\n",
    "print(f\"🟡 In Muscle: {len(fake_muscle_ids)}\")\n"
   ]
  },
  {
   "cell_type": "code",
   "execution_count": null,
   "id": "13bcf95f",
   "metadata": {},
   "outputs": [],
   "source": []
  }
 ],
 "metadata": {
  "kernelspec": {
   "display_name": "torch_env",
   "language": "python",
   "name": "python3"
  },
  "language_info": {
   "codemirror_mode": {
    "name": "ipython",
    "version": 3
   },
   "file_extension": ".py",
   "mimetype": "text/x-python",
   "name": "python",
   "nbconvert_exporter": "python",
   "pygments_lexer": "ipython3",
   "version": "3.9.21"
  }
 },
 "nbformat": 4,
 "nbformat_minor": 5
}
